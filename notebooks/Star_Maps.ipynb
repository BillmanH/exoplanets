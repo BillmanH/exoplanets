{
 "cells": [
  {
   "cell_type": "code",
   "execution_count": 1,
   "metadata": {},
   "outputs": [],
   "source": [
    "import sys, os\n",
    "import pandas as pd\n",
    "import altair as alt\n",
    "sys.path.append('..')\n",
    "\n",
    "import  ssl, asyncio\n",
    "\n",
    "ssl._create_default_https_context = ssl._create_unverified_context\n",
    "asyncio.set_event_loop_policy(asyncio.WindowsSelectorEventLoopPolicy())\n",
    "import nest_asyncio\n",
    "# this is required for running in a Jupyter Notebook. \n",
    "\n",
    "nest_asyncio.apply()\n",
    "\n",
    "PII_cols = ['username','userguid','owner']"
   ]
  },
  {
   "cell_type": "code",
   "execution_count": 2,
   "metadata": {},
   "outputs": [
    {
     "name": "stdout",
     "output_type": "stream",
     "text": [
      "executing local windows deployment\n"
     ]
    }
   ],
   "source": [
    "from app.connectors.cmdb_graph import CosmosdbClient\n",
    "c = CosmosdbClient()"
   ]
  },
  {
   "cell_type": "code",
   "execution_count": 3,
   "metadata": {},
   "outputs": [
    {
     "data": {
      "text/plain": [
       "[7993]"
      ]
     },
     "execution_count": 3,
     "metadata": {},
     "output_type": "execute_result"
    }
   ],
   "source": [
    "c.run_query()\n",
    "c.res"
   ]
  },
  {
   "cell_type": "code",
   "execution_count": 6,
   "metadata": {},
   "outputs": [
    {
     "data": {
      "text/plain": [
       "[{'name': 'Reseastdorf', 'objid': '4865573211898', 'id': '4865573211898'},\n",
       " {'name': 'Huiland',\n",
       "  'objid': '9471863598051',\n",
       "  'glat': -23.912,\n",
       "  'glon': 5.788,\n",
       "  'id': '9471863598051'},\n",
       " {'name': 'Tilardi',\n",
       "  'objid': '2137095339401',\n",
       "  'glat': -41.496,\n",
       "  'glon': -16.889,\n",
       "  'id': '2137095339401'},\n",
       " {'name': 'Minheng',\n",
       "  'objid': '5608050412724',\n",
       "  'glat': -33.212,\n",
       "  'glon': 12.407,\n",
       "  'id': '5608050412724'},\n",
       " {'name': 'Kairon',\n",
       "  'objid': '1064696388243',\n",
       "  'glat': -19.498,\n",
       "  'glon': -7.057,\n",
       "  'id': '1064696388243'},\n",
       " {'name': 'Acdrapa',\n",
       "  'objid': '6092072583008',\n",
       "  'glat': 57.381,\n",
       "  'glon': -22.914,\n",
       "  'id': '6092072583008'},\n",
       " {'name': 'Gugrou',\n",
       "  'objid': '7774389897535',\n",
       "  'glat': 3.953,\n",
       "  'glon': -2.048,\n",
       "  'id': '7774389897535'},\n",
       " {'name': 'Titla',\n",
       "  'objid': '0611424540168',\n",
       "  'glat': -11.267,\n",
       "  'glon': -22.218,\n",
       "  'id': '0611424540168'},\n",
       " {'name': 'Harkaipuer',\n",
       "  'objid': '3856600820715',\n",
       "  'glat': -1.614,\n",
       "  'glon': -47.321,\n",
       "  'id': '3856600820715'},\n",
       " {'name': 'Hauvilam',\n",
       "  'objid': '8471122034886',\n",
       "  'glat': -7.833,\n",
       "  'glon': 22.262,\n",
       "  'id': '8471122034886'},\n",
       " {'name': 'Royhodia',\n",
       "  'objid': '5061736080527',\n",
       "  'glat': -13.788,\n",
       "  'glon': 23.623,\n",
       "  'id': '5061736080527'},\n",
       " {'name': 'Perforttau',\n",
       "  'objid': '9701049689007',\n",
       "  'glat': 22.79,\n",
       "  'glon': -36.402,\n",
       "  'id': '9701049689007'},\n",
       " {'name': 'Rofen',\n",
       "  'objid': '8997790147955',\n",
       "  'glat': 6.284,\n",
       "  'glon': -2.885,\n",
       "  'id': '8997790147955'},\n",
       " {'name': 'Porho',\n",
       "  'objid': '8496512671272',\n",
       "  'glat': 20.903,\n",
       "  'glon': -9.735,\n",
       "  'id': '8496512671272'},\n",
       " {'name': 'Huimaida',\n",
       "  'objid': '6846328189030',\n",
       "  'glat': -13.419,\n",
       "  'glon': 10.153,\n",
       "  'id': '6846328189030'},\n",
       " {'name': 'Tamilgaon',\n",
       "  'objid': '0257906584993',\n",
       "  'glat': 21.402,\n",
       "  'glon': 14.546,\n",
       "  'id': '0257906584993'},\n",
       " {'name': 'Vanpoheightsje',\n",
       "  'objid': '6688714389584',\n",
       "  'glat': -12.325,\n",
       "  'glon': 19.335,\n",
       "  'id': '6688714389584'},\n",
       " {'name': 'Santchalau',\n",
       "  'objid': '9286824887949',\n",
       "  'glat': -20.502,\n",
       "  'glon': 5.014,\n",
       "  'id': '9286824887949'},\n",
       " {'name': 'Konbay',\n",
       "  'objid': '6201143262578',\n",
       "  'glat': '12.161',\n",
       "  'glon': '-18.524',\n",
       "  'id': '6201143262578'},\n",
       " {'name': 'Angtestown',\n",
       "  'objid': '4065461155025',\n",
       "  'glat': 18.296,\n",
       "  'glon': 26.788,\n",
       "  'id': '4065461155025'}]"
      ]
     },
     "execution_count": 6,
     "metadata": {},
     "output_type": "execute_result"
    }
   ],
   "source": [
    "query=\"g.V().haslabel('system').has('name').valueMap('name','type','objid','glat','glon')\"\n",
    "c.run_query(query)\n",
    "data = c.clean_nodes(c.res)\n",
    "data"
   ]
  },
  {
   "cell_type": "code",
   "execution_count": 7,
   "metadata": {},
   "outputs": [
    {
     "data": {
      "text/plain": [
       "20"
      ]
     },
     "execution_count": 7,
     "metadata": {},
     "output_type": "execute_result"
    }
   ],
   "source": [
    "len(data)"
   ]
  },
  {
   "cell_type": "code",
   "execution_count": null,
   "metadata": {},
   "outputs": [],
   "source": []
  }
 ],
 "metadata": {
  "kernelspec": {
   "display_name": "exoplanets",
   "language": "python",
   "name": "python3"
  },
  "language_info": {
   "codemirror_mode": {
    "name": "ipython",
    "version": 3
   },
   "file_extension": ".py",
   "mimetype": "text/x-python",
   "name": "python",
   "nbconvert_exporter": "python",
   "pygments_lexer": "ipython3",
   "version": "3.8.16"
  }
 },
 "nbformat": 4,
 "nbformat_minor": 2
}
