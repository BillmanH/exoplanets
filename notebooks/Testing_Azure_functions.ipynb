{
 "cells": [
  {
   "cell_type": "markdown",
   "metadata": {},
   "source": [
    "# Testing Azure Functions"
   ]
  },
  {
   "cell_type": "markdown",
   "metadata": {},
   "source": [
    "Testing Azure HTTP functions is easy because you can just use `requests` to ping the function. However EventHub functions are more difficult because you have to observe them happening in the context of the EventHub ecosystem. This usually means that you have to deploy and wait for your event to get triggered. \n",
    "\n",
    "Testing Azure Functions can be easy if you design your process right. The trick is to separate the Azure Function logic from the logic of your application. \n",
    "\n",
    "Like this:\n",
    "```python\n",
    "@app.function_name(name=\"myFunction\")\n",
    "@app.event_hub_message_trigger(arg_name=\"event\",\n",
    "                               event_hub_name=EVENT_HUB_NAME,\n",
    "                               connection=\"EVENT_HUB_CONNECTION_STR\")\n",
    "def AZ_myFunction(event: func.EventHubEvent):\n",
    "    eh_producer = EventHubProducerClient.from_connection_string(EVENT_HUB_CONNECTION_STR, eventhub_name=EVENT_HUB_NAME)\n",
    "    credential = DefaultAzureCredential() \n",
    "    message = ast.literal_eval(event.get_body().decode('utf-8'))\n",
    "    # proccessing messages is removed so that I can test it locally. \n",
    "    outgoing_messages = local_myFunction(message)\n",
    "    if len(outgoing_messages)>0:\n",
    "        logging.info(f\"myFunction produced {len(outgoing_messages)} outgoing messages\")\n",
    "        send_to_eventhub(outgoing_messages, eh_producer)\n",
    "        logging.info(f\"Additional messages sent to EH. \")\n",
    "\n",
    "def local_myFunction(message):\n",
    "    # TODO: My business process that I can test locally\n",
    "    outgoing_messages = []\n",
    "    return outgoing_messages\n",
    "```\n",
    "\n",
    "This way I can deploy to the cloud, but I don't have to wait to see the results. I can deploy them locally and test my local business process. "
   ]
  },
  {
   "cell_type": "markdown",
   "metadata": {},
   "source": [
    "### A demonstration"
   ]
  },
  {
   "cell_type": "code",
   "execution_count": 1,
   "metadata": {},
   "outputs": [
    {
     "name": "stderr",
     "output_type": "stream",
     "text": [
      "INFO:root:logs showing as print\n"
     ]
    },
    {
     "name": "stdout",
     "output_type": "stream",
     "text": [
      "['function_app.py']\n"
     ]
    }
   ],
   "source": [
    "import os\n",
    "import  ssl, asyncio\n",
    "import nest_asyncio\n",
    "import pandas as pd\n",
    "\n",
    "# moving back to the root, but idempotent in case we are already there\n",
    "if 'function_app.py' not in os.listdir():\n",
    "    os.chdir('..')\n",
    "print([f for f in os.listdir() if f == 'function_app.py'])\n",
    "\n",
    "import logging\n",
    "logger = logging.getLogger()\n",
    "logger.setLevel(logging.DEBUG)\n",
    "logging.info(\"logs showing as print\")\n",
    "\n",
    "\n",
    "\n",
    "ssl._create_default_https_context = ssl._create_unverified_context\n",
    "asyncio.set_event_loop_policy(asyncio.WindowsSelectorEventLoopPolicy())\n",
    "# this is required for running in a Jupyter Notebook. \n",
    "nest_asyncio.apply()"
   ]
  },
  {
   "cell_type": "code",
   "execution_count": 2,
   "metadata": {},
   "outputs": [
    {
     "name": "stdout",
     "output_type": "stream",
     "text": [
      "executing local windows deployment\n",
      "something wrong with your query: <class 'Exception'>\n"
     ]
    }
   ],
   "source": [
    "import function_app as f"
   ]
  },
  {
   "cell_type": "markdown",
   "metadata": {},
   "source": [
    "## Generating the Messages to be Tested\n",
    "\n",
    "Each Azure function has both a python function that is routed to the az function app, and a separate function that does the business logic of my game. This allows me to test locally.\n",
    "\n",
    "| AZ Func Name | AZ Function | Relevant Local Function(args) | Description |\n",
    "|----------|----------|----------|----------|\n",
    "| actionResolverTimer | action_resolver | `process_action_messages()` | Queries open jobs and generates EventHub Messages to resolve them  |\n",
    "| factionBuildingTimer | faction_building_resolver | `get_structure_messages()` | Structures that have ongoing effects |\n",
    "| resolveActionEvents | resolve_action_event | `process_action_event_message(message)` | Takes individual event messages and resolves them |\n",
    "| ututimer | utu_timer | `increment_timer()` | Increments the galatic timer |"
   ]
  },
  {
   "cell_type": "code",
   "execution_count": 11,
   "metadata": {},
   "outputs": [
    {
     "name": "stderr",
     "output_type": "stream",
     "text": [
      "DEBUG:asyncio:Using selector: SelectSelector\n",
      "INFO:root:EXOADMIN: health requirement 0.7\n",
      "DEBUG:asyncio:Using selector: SelectSelector\n",
      "INFO:root:EXOADMIN: healthy_pops_query 0\n",
      "INFO:root:EXOADMIN: No pops that meet the pop_health_requirement\n",
      "DEBUG:asyncio:Using selector: SelectSelector\n",
      "INFO:root:EXOADMIN: Total jobs: 2\n",
      "INFO:root:EXOADMIN: job instance of ACTION created: {'action': {'type': 'construction', 'comment': 'constructing a Farmland', 'effort': 1, 'applies_to': 'pop', 'owned_by': 'pop', 'building': 'farmland', 'created_at': 1002, 'to_build': '{type: farmland, label: building, name: Farmland, description: Generates organic foodstuffs, populations will consume food before consuming natural resources, planet_requirements: {isHabitable: true}, faction_augments: {wealth: -1}, renews_faction_resource: {grains: 10}, owned_by: pop, effort: 1}', 'objid': '4826496836468', 'userguid': '8d5b667f-b225-4641-b499-73b77558ff86', 'objtype': 'action'}, 'job': {'status': 'pending', 'userguid': '8d5b667f-b225-4641-b499-73b77558ff86', 'name': 'takingAction', 'weight': '1003', 'actionType': 'construction', 'created_at': '1002'}, 'agent': {'isIdle': 'false', 'name': 'Poldiasenah Bunar', 'objid': '9629113611489', 'conformity': 0.56, 'literacy': 0.5, 'aggression': 0.503, 'constitution': 0.448, 'health': 0.7, 'isIn': '4060880433595', 'industry': 0.4755, 'wealth': 0.4878, 'factionLoyalty': 0.531, 'userguid': '8d5b667f-b225-4641-b499-73b77558ff86', 'objtype': 'pop'}}\n",
      "INFO:root:< (Poldiasenah Bunar: 9629113611489) -takingAction:1003-> (construction) > was added to the message queue\n",
      "INFO:root:EXOADMIN: job instance of ACTION created: {'action': {'type': 'construction', 'comment': 'constructing a Commercial District', 'effort': 1, 'applies_to': 'pop', 'owned_by': 'pop', 'building': 'commercial', 'created_at': 1002, 'to_build': '{type: commercial, label: building, name: Commercial District, description: Generates wealth for the faction., owned_by: pop, effort: 1, faction_augments: {wealth: 1}, requires_attr: {industry: 0.1}}', 'objid': '3190338367130', 'userguid': '8d5b667f-b225-4641-b499-73b77558ff86', 'objtype': 'action'}, 'job': {'status': 'pending', 'userguid': '8d5b667f-b225-4641-b499-73b77558ff86', 'name': 'takingAction', 'weight': '1003', 'actionType': 'construction', 'created_at': '1002'}, 'agent': {'isIdle': 'false', 'name': 'Poldiasenah Sithane', 'objid': '9888651460599', 'conformity': 0.468, 'literacy': 0.631, 'aggression': 0.556, 'constitution': 0.372, 'health': 0.7, 'isIn': '4060880433595', 'industry': 0.464, 'wealth': 0.5475, 'factionLoyalty': 0.328, 'userguid': '8d5b667f-b225-4641-b499-73b77558ff86', 'objtype': 'pop'}}\n",
      "INFO:root:< (Poldiasenah Sithane: 9888651460599) -takingAction:1003-> (construction) > was added to the message queue\n",
      "INFO:root:EXOADMIN: Total actions resolved in this run: 2\n",
      "DEBUG:asyncio:Using selector: SelectSelector\n",
      "DEBUG:asyncio:Using selector: SelectSelector\n",
      "INFO:root:EXOADMIN: messages: job:2, growth:0, consumption:7, renewal:0 - at: < time at UTU:1004 >\n",
      "INFO:root:EXOADMIN: Total Messages generated: 9 at: < time at UTU:1004 >\n"
     ]
    }
   ],
   "source": [
    "action_messages = f.process_action_messages()"
   ]
  },
  {
   "cell_type": "code",
   "execution_count": 12,
   "metadata": {},
   "outputs": [
    {
     "data": {
      "text/html": [
       "<div>\n",
       "<style scoped>\n",
       "    .dataframe tbody tr th:only-of-type {\n",
       "        vertical-align: middle;\n",
       "    }\n",
       "\n",
       "    .dataframe tbody tr th {\n",
       "        vertical-align: top;\n",
       "    }\n",
       "\n",
       "    .dataframe thead th {\n",
       "        text-align: right;\n",
       "    }\n",
       "</style>\n",
       "<table border=\"1\" class=\"dataframe\">\n",
       "  <thead>\n",
       "    <tr style=\"text-align: right;\">\n",
       "      <th></th>\n",
       "      <th>agent</th>\n",
       "      <th>action</th>\n",
       "      <th>job</th>\n",
       "    </tr>\n",
       "  </thead>\n",
       "  <tbody>\n",
       "    <tr>\n",
       "      <th>0</th>\n",
       "      <td>{'isIdle': 'false', 'name': 'Poldiasenah Bunar...</td>\n",
       "      <td>{'type': 'construction', 'comment': 'construct...</td>\n",
       "      <td>{'status': 'pending', 'userguid': '8d5b667f-b2...</td>\n",
       "    </tr>\n",
       "    <tr>\n",
       "      <th>1</th>\n",
       "      <td>{'isIdle': 'false', 'name': 'Poldiasenah Sitha...</td>\n",
       "      <td>{'type': 'construction', 'comment': 'construct...</td>\n",
       "      <td>{'status': 'pending', 'userguid': '8d5b667f-b2...</td>\n",
       "    </tr>\n",
       "    <tr>\n",
       "      <th>2</th>\n",
       "      <td>{'objid': '9888651460599', 'consumes': ['organ...</td>\n",
       "      <td>consume</td>\n",
       "      <td>NaN</td>\n",
       "    </tr>\n",
       "    <tr>\n",
       "      <th>3</th>\n",
       "      <td>{'objid': '9629113611489', 'consumes': ['organ...</td>\n",
       "      <td>consume</td>\n",
       "      <td>NaN</td>\n",
       "    </tr>\n",
       "    <tr>\n",
       "      <th>4</th>\n",
       "      <td>{'objid': '6668897649955', 'consumes': ['organ...</td>\n",
       "      <td>consume</td>\n",
       "      <td>NaN</td>\n",
       "    </tr>\n",
       "    <tr>\n",
       "      <th>5</th>\n",
       "      <td>{'objid': '6880883763526', 'consumes': ['organ...</td>\n",
       "      <td>consume</td>\n",
       "      <td>NaN</td>\n",
       "    </tr>\n",
       "    <tr>\n",
       "      <th>6</th>\n",
       "      <td>{'objid': '7372021564759', 'consumes': ['organ...</td>\n",
       "      <td>consume</td>\n",
       "      <td>NaN</td>\n",
       "    </tr>\n",
       "    <tr>\n",
       "      <th>7</th>\n",
       "      <td>{'objid': '2416478665710', 'consumes': ['organ...</td>\n",
       "      <td>consume</td>\n",
       "      <td>NaN</td>\n",
       "    </tr>\n",
       "    <tr>\n",
       "      <th>8</th>\n",
       "      <td>{'objid': '0255814826981', 'consumes': ['organ...</td>\n",
       "      <td>consume</td>\n",
       "      <td>NaN</td>\n",
       "    </tr>\n",
       "  </tbody>\n",
       "</table>\n",
       "</div>"
      ],
      "text/plain": [
       "                                               agent  \\\n",
       "0  {'isIdle': 'false', 'name': 'Poldiasenah Bunar...   \n",
       "1  {'isIdle': 'false', 'name': 'Poldiasenah Sitha...   \n",
       "2  {'objid': '9888651460599', 'consumes': ['organ...   \n",
       "3  {'objid': '9629113611489', 'consumes': ['organ...   \n",
       "4  {'objid': '6668897649955', 'consumes': ['organ...   \n",
       "5  {'objid': '6880883763526', 'consumes': ['organ...   \n",
       "6  {'objid': '7372021564759', 'consumes': ['organ...   \n",
       "7  {'objid': '2416478665710', 'consumes': ['organ...   \n",
       "8  {'objid': '0255814826981', 'consumes': ['organ...   \n",
       "\n",
       "                                              action  \\\n",
       "0  {'type': 'construction', 'comment': 'construct...   \n",
       "1  {'type': 'construction', 'comment': 'construct...   \n",
       "2                                            consume   \n",
       "3                                            consume   \n",
       "4                                            consume   \n",
       "5                                            consume   \n",
       "6                                            consume   \n",
       "7                                            consume   \n",
       "8                                            consume   \n",
       "\n",
       "                                                 job  \n",
       "0  {'status': 'pending', 'userguid': '8d5b667f-b2...  \n",
       "1  {'status': 'pending', 'userguid': '8d5b667f-b2...  \n",
       "2                                                NaN  \n",
       "3                                                NaN  \n",
       "4                                                NaN  \n",
       "5                                                NaN  \n",
       "6                                                NaN  \n",
       "7                                                NaN  \n",
       "8                                                NaN  "
      ]
     },
     "execution_count": 12,
     "metadata": {},
     "output_type": "execute_result"
    }
   ],
   "source": [
    "pd.DataFrame(action_messages)"
   ]
  },
  {
   "cell_type": "code",
   "execution_count": 15,
   "metadata": {},
   "outputs": [
    {
     "name": "stderr",
     "output_type": "stream",
     "text": [
      "DEBUG:asyncio:Using selector: SelectSelector\n",
      "DEBUG:asyncio:Using selector: SelectSelector\n",
      "INFO:root:EXOADMIN: number of items: 2\n",
      "INFO:root:EXOADMIN: Total Messages generated: 2 at: < time at UTU:1004 >\n"
     ]
    }
   ],
   "source": [
    "structure_messages = f.get_structure_messages()"
   ]
  },
  {
   "cell_type": "code",
   "execution_count": 16,
   "metadata": {},
   "outputs": [
    {
     "data": {
      "text/html": [
       "<div>\n",
       "<style scoped>\n",
       "    .dataframe tbody tr th:only-of-type {\n",
       "        vertical-align: middle;\n",
       "    }\n",
       "\n",
       "    .dataframe tbody tr th {\n",
       "        vertical-align: top;\n",
       "    }\n",
       "\n",
       "    .dataframe thead th {\n",
       "        text-align: right;\n",
       "    }\n",
       "</style>\n",
       "<table border=\"1\" class=\"dataframe\">\n",
       "  <thead>\n",
       "    <tr style=\"text-align: right;\">\n",
       "      <th></th>\n",
       "      <th>faction</th>\n",
       "      <th>pop</th>\n",
       "      <th>structure</th>\n",
       "      <th>action</th>\n",
       "    </tr>\n",
       "  </thead>\n",
       "  <tbody>\n",
       "    <tr>\n",
       "      <th>0</th>\n",
       "      <td>{'name': 'Poldiasenah', 'objid': '406088043359...</td>\n",
       "      <td>{'isIdle': 'true', 'name': 'Poldiasenah Sithan...</td>\n",
       "      <td>{'name': 'Commercial District', 'objid': '0799...</td>\n",
       "      <td>structure</td>\n",
       "    </tr>\n",
       "    <tr>\n",
       "      <th>1</th>\n",
       "      <td>{'name': 'Poldiasenah', 'objid': '406088043359...</td>\n",
       "      <td>{'isIdle': 'true', 'name': 'Poldiasenah Bunar'...</td>\n",
       "      <td>{'name': 'Farmland', 'objid': '7148019480640',...</td>\n",
       "      <td>structure</td>\n",
       "    </tr>\n",
       "  </tbody>\n",
       "</table>\n",
       "</div>"
      ],
      "text/plain": [
       "                                             faction  \\\n",
       "0  {'name': 'Poldiasenah', 'objid': '406088043359...   \n",
       "1  {'name': 'Poldiasenah', 'objid': '406088043359...   \n",
       "\n",
       "                                                 pop  \\\n",
       "0  {'isIdle': 'true', 'name': 'Poldiasenah Sithan...   \n",
       "1  {'isIdle': 'true', 'name': 'Poldiasenah Bunar'...   \n",
       "\n",
       "                                           structure     action  \n",
       "0  {'name': 'Commercial District', 'objid': '0799...  structure  \n",
       "1  {'name': 'Farmland', 'objid': '7148019480640',...  structure  "
      ]
     },
     "execution_count": 16,
     "metadata": {},
     "output_type": "execute_result"
    }
   ],
   "source": [
    "pd.DataFrame(structure_messages)"
   ]
  },
  {
   "cell_type": "markdown",
   "metadata": {},
   "source": [
    "## Resolving those messages"
   ]
  },
  {
   "cell_type": "code",
   "execution_count": 13,
   "metadata": {},
   "outputs": [
    {
     "name": "stderr",
     "output_type": "stream",
     "text": [
      "DEBUG:asyncio:Using selector: SelectSelector\n",
      "INFO:root:EXOADMIN: processing message: {'type': 'construction', 'comment': 'constructing a Farmland', 'effort': 1, 'applies_to': 'pop', 'owned_by': 'pop', 'building': 'farmland', 'created_at': 1002, 'to_build': '{type: farmland, label: building, name: Farmland, description: Generates organic foodstuffs, populations will consume food before consuming natural resources, planet_requirements: {isHabitable: true}, faction_augments: {wealth: -1}, renews_faction_resource: {grains: 10}, owned_by: pop, effort: 1}', 'objid': '4826496836468', 'userguid': '8d5b667f-b225-4641-b499-73b77558ff86', 'objtype': 'action'} at UTU:< time at UTU:1004 >\n",
      "INFO:root:EXOADMIN: job instance of ACTION created: {'agent': {'isIdle': 'false', 'name': 'Poldiasenah Bunar', 'objid': '9629113611489', 'conformity': 0.56, 'literacy': 0.5, 'aggression': 0.503, 'constitution': 0.448, 'health': 0.7, 'isIn': '4060880433595', 'industry': 0.4755, 'wealth': 0.4878, 'factionLoyalty': 0.531, 'userguid': '8d5b667f-b225-4641-b499-73b77558ff86', 'objtype': 'pop'}, 'action': {'type': 'construction', 'comment': 'constructing a Farmland', 'effort': 1, 'applies_to': 'pop', 'owned_by': 'pop', 'building': 'farmland', 'created_at': 1002, 'to_build': '{type: farmland, label: building, name: Farmland, description: Generates organic foodstuffs, populations will consume food before consuming natural resources, planet_requirements: {isHabitable: true}, faction_augments: {wealth: -1}, renews_faction_resource: {grains: 10}, owned_by: pop, effort: 1}', 'objid': '4826496836468', 'userguid': '8d5b667f-b225-4641-b499-73b77558ff86', 'objtype': 'action'}, 'job': {'status': 'pending', 'userguid': '8d5b667f-b225-4641-b499-73b77558ff86', 'name': 'takingAction', 'weight': '1003', 'actionType': 'construction', 'created_at': '1002'}}\n",
      "INFO:root:EXOADMIN: job event created: {'objid': '2480103185308', 'name': 'job', 'label': 'event', 'text': 'The pop (Poldiasenah Bunar) has completed construction', 'visibleTo': '8d5b667f-b225-4641-b499-73b77558ff86', 'time': 1004, 'username': 'event'}\n",
      "INFO:root:EXOADMIN: job action resolved: < (Poldiasenah Bunar: 9629113611489) -takingAction:1003-> (construction) >\n",
      "INFO:root:EXOADMIN: job agent idle: 9629113611489:Poldiasenah Bunar\n",
      "INFO:root:EXOADMIN: Updates collected: nodes:1, edges:[{'node1': '9629113611489', 'node2': '2480103185308', 'label': 'completed'}], stack: 2\n",
      "INFO:root:EXOADMIN: job function updating data {'nodes': [{'objid': '2480103185308', 'name': 'job', 'label': 'event', 'text': 'The pop (Poldiasenah Bunar) has completed construction', 'visibleTo': '8d5b667f-b225-4641-b499-73b77558ff86', 'time': 1004, 'username': 'event'}], 'edges': [{'node1': '9629113611489', 'node2': '2480103185308', 'label': 'completed'}]}\n",
      "INFO:root:EXOADMIN: queries sent to cosmosdb 2\n",
      "INFO:root:EXOADMIN: c.stack [\"g.V().has('objid','9629113611489').outE('takingAction').has('actionType','construction').has('weight','1003').property('status','resolved')\", \"g.V().has('objid','9629113611489').property('isIdle','true')\"]\n",
      "DEBUG:asyncio:Using selector: SelectSelector\n",
      "DEBUG:asyncio:Using selector: SelectSelector\n",
      "INFO:root:EXOADMIN: updates to c completed.\n",
      "DEBUG:asyncio:Using selector: SelectSelector\n",
      "DEBUG:asyncio:Using selector: SelectSelector\n",
      "INFO:root:EXOADMIN: 'actionType is construction\n",
      "INFO:root:EXOADMIN: Constucting a building\n",
      "INFO:root:EXOADMIN: {'agent': {'isIdle': 'false', 'name': 'Poldiasenah Bunar', 'objid': '9629113611489', 'conformity': 0.56, 'literacy': 0.5, 'aggression': 0.503, 'constitution': 0.448, 'health': 0.7, 'isIn': '4060880433595', 'industry': 0.4755, 'wealth': 0.4878, 'factionLoyalty': 0.531, 'userguid': '8d5b667f-b225-4641-b499-73b77558ff86', 'objtype': 'pop'}, 'action': {'type': 'construction', 'comment': 'constructing a Farmland', 'effort': 1, 'applies_to': 'pop', 'owned_by': 'pop', 'building': 'farmland', 'created_at': 1002, 'to_build': '{type: farmland, label: building, name: Farmland, description: Generates organic foodstuffs, populations will consume food before consuming natural resources, planet_requirements: {isHabitable: true}, faction_augments: {wealth: -1}, renews_faction_resource: {grains: 10}, owned_by: pop, effort: 1}', 'objid': '4826496836468', 'userguid': '8d5b667f-b225-4641-b499-73b77558ff86', 'objtype': 'action'}, 'job': {'status': 'pending', 'userguid': '8d5b667f-b225-4641-b499-73b77558ff86', 'name': 'takingAction', 'weight': '1003', 'actionType': 'construction', 'created_at': '1002'}}\n",
      "DEBUG:asyncio:Using selector: SelectSelector\n",
      "DEBUG:asyncio:Using selector: SelectSelector\n",
      "INFO:root:EXOADMIN:       -------And with that processed a JOB: < (Poldiasenah Bunar: 9629113611489) -takingAction:1003-> (construction) > at UTU:< time at UTU:1004 >\n"
     ]
    },
    {
     "data": {
      "text/plain": [
       "[]"
      ]
     },
     "execution_count": 13,
     "metadata": {},
     "output_type": "execute_result"
    }
   ],
   "source": [
    "f.process_action_event_message(action_messages[0])"
   ]
  },
  {
   "cell_type": "code",
   "execution_count": 14,
   "metadata": {},
   "outputs": [
    {
     "name": "stderr",
     "output_type": "stream",
     "text": [
      "DEBUG:asyncio:Using selector: SelectSelector\n",
      "INFO:root:EXOADMIN: processing message: {'type': 'construction', 'comment': 'constructing a Commercial District', 'effort': 1, 'applies_to': 'pop', 'owned_by': 'pop', 'building': 'commercial', 'created_at': 1002, 'to_build': '{type: commercial, label: building, name: Commercial District, description: Generates wealth for the faction., owned_by: pop, effort: 1, faction_augments: {wealth: 1}, requires_attr: {industry: 0.1}}', 'objid': '3190338367130', 'userguid': '8d5b667f-b225-4641-b499-73b77558ff86', 'objtype': 'action'} at UTU:< time at UTU:1004 >\n",
      "INFO:root:EXOADMIN: job instance of ACTION created: {'agent': {'isIdle': 'false', 'name': 'Poldiasenah Sithane', 'objid': '9888651460599', 'conformity': 0.468, 'literacy': 0.631, 'aggression': 0.556, 'constitution': 0.372, 'health': 0.7, 'isIn': '4060880433595', 'industry': 0.464, 'wealth': 0.5475, 'factionLoyalty': 0.328, 'userguid': '8d5b667f-b225-4641-b499-73b77558ff86', 'objtype': 'pop'}, 'action': {'type': 'construction', 'comment': 'constructing a Commercial District', 'effort': 1, 'applies_to': 'pop', 'owned_by': 'pop', 'building': 'commercial', 'created_at': 1002, 'to_build': '{type: commercial, label: building, name: Commercial District, description: Generates wealth for the faction., owned_by: pop, effort: 1, faction_augments: {wealth: 1}, requires_attr: {industry: 0.1}}', 'objid': '3190338367130', 'userguid': '8d5b667f-b225-4641-b499-73b77558ff86', 'objtype': 'action'}, 'job': {'status': 'pending', 'userguid': '8d5b667f-b225-4641-b499-73b77558ff86', 'name': 'takingAction', 'weight': '1003', 'actionType': 'construction', 'created_at': '1002'}}\n",
      "INFO:root:EXOADMIN: job event created: {'objid': '1549546780542', 'name': 'job', 'label': 'event', 'text': 'The pop (Poldiasenah Sithane) has completed construction', 'visibleTo': '8d5b667f-b225-4641-b499-73b77558ff86', 'time': 1004, 'username': 'event'}\n",
      "INFO:root:EXOADMIN: job action resolved: < (Poldiasenah Sithane: 9888651460599) -takingAction:1003-> (construction) >\n",
      "INFO:root:EXOADMIN: job agent idle: 9888651460599:Poldiasenah Sithane\n",
      "INFO:root:EXOADMIN: Updates collected: nodes:1, edges:[{'node1': '9888651460599', 'node2': '1549546780542', 'label': 'completed'}], stack: 2\n",
      "INFO:root:EXOADMIN: job function updating data {'nodes': [{'objid': '1549546780542', 'name': 'job', 'label': 'event', 'text': 'The pop (Poldiasenah Sithane) has completed construction', 'visibleTo': '8d5b667f-b225-4641-b499-73b77558ff86', 'time': 1004, 'username': 'event'}], 'edges': [{'node1': '9888651460599', 'node2': '1549546780542', 'label': 'completed'}]}\n",
      "INFO:root:EXOADMIN: queries sent to cosmosdb 2\n",
      "INFO:root:EXOADMIN: c.stack [\"g.V().has('objid','9888651460599').outE('takingAction').has('actionType','construction').has('weight','1003').property('status','resolved')\", \"g.V().has('objid','9888651460599').property('isIdle','true')\"]\n",
      "DEBUG:asyncio:Using selector: SelectSelector\n",
      "DEBUG:asyncio:Using selector: SelectSelector\n",
      "INFO:root:EXOADMIN: updates to c completed.\n",
      "DEBUG:asyncio:Using selector: SelectSelector\n",
      "DEBUG:asyncio:Using selector: SelectSelector\n",
      "INFO:root:EXOADMIN: 'actionType is construction\n",
      "INFO:root:EXOADMIN: Constucting a building\n",
      "INFO:root:EXOADMIN: {'agent': {'isIdle': 'false', 'name': 'Poldiasenah Sithane', 'objid': '9888651460599', 'conformity': 0.468, 'literacy': 0.631, 'aggression': 0.556, 'constitution': 0.372, 'health': 0.7, 'isIn': '4060880433595', 'industry': 0.464, 'wealth': 0.5475, 'factionLoyalty': 0.328, 'userguid': '8d5b667f-b225-4641-b499-73b77558ff86', 'objtype': 'pop'}, 'action': {'type': 'construction', 'comment': 'constructing a Commercial District', 'effort': 1, 'applies_to': 'pop', 'owned_by': 'pop', 'building': 'commercial', 'created_at': 1002, 'to_build': '{type: commercial, label: building, name: Commercial District, description: Generates wealth for the faction., owned_by: pop, effort: 1, faction_augments: {wealth: 1}, requires_attr: {industry: 0.1}}', 'objid': '3190338367130', 'userguid': '8d5b667f-b225-4641-b499-73b77558ff86', 'objtype': 'action'}, 'job': {'status': 'pending', 'userguid': '8d5b667f-b225-4641-b499-73b77558ff86', 'name': 'takingAction', 'weight': '1003', 'actionType': 'construction', 'created_at': '1002'}}\n",
      "DEBUG:asyncio:Using selector: SelectSelector\n",
      "DEBUG:asyncio:Using selector: SelectSelector\n",
      "INFO:root:EXOADMIN:       -------And with that processed a JOB: < (Poldiasenah Sithane: 9888651460599) -takingAction:1003-> (construction) > at UTU:< time at UTU:1004 >\n"
     ]
    },
    {
     "data": {
      "text/plain": [
       "[]"
      ]
     },
     "execution_count": 14,
     "metadata": {},
     "output_type": "execute_result"
    }
   ],
   "source": [
    "f.process_action_event_message(action_messages[1])"
   ]
  },
  {
   "cell_type": "code",
   "execution_count": 17,
   "metadata": {},
   "outputs": [
    {
     "data": {
      "text/html": [
       "<div>\n",
       "<style scoped>\n",
       "    .dataframe tbody tr th:only-of-type {\n",
       "        vertical-align: middle;\n",
       "    }\n",
       "\n",
       "    .dataframe tbody tr th {\n",
       "        vertical-align: top;\n",
       "    }\n",
       "\n",
       "    .dataframe thead th {\n",
       "        text-align: right;\n",
       "    }\n",
       "</style>\n",
       "<table border=\"1\" class=\"dataframe\">\n",
       "  <thead>\n",
       "    <tr style=\"text-align: right;\">\n",
       "      <th></th>\n",
       "      <th>faction</th>\n",
       "      <th>pop</th>\n",
       "      <th>structure</th>\n",
       "      <th>action</th>\n",
       "    </tr>\n",
       "  </thead>\n",
       "  <tbody>\n",
       "    <tr>\n",
       "      <th>0</th>\n",
       "      <td>{'name': 'Poldiasenah', 'objid': '406088043359...</td>\n",
       "      <td>{'isIdle': 'true', 'name': 'Poldiasenah Sithan...</td>\n",
       "      <td>{'name': 'Commercial District', 'objid': '0799...</td>\n",
       "      <td>structure</td>\n",
       "    </tr>\n",
       "    <tr>\n",
       "      <th>1</th>\n",
       "      <td>{'name': 'Poldiasenah', 'objid': '406088043359...</td>\n",
       "      <td>{'isIdle': 'true', 'name': 'Poldiasenah Bunar'...</td>\n",
       "      <td>{'name': 'Farmland', 'objid': '7148019480640',...</td>\n",
       "      <td>structure</td>\n",
       "    </tr>\n",
       "  </tbody>\n",
       "</table>\n",
       "</div>"
      ],
      "text/plain": [
       "                                             faction  \\\n",
       "0  {'name': 'Poldiasenah', 'objid': '406088043359...   \n",
       "1  {'name': 'Poldiasenah', 'objid': '406088043359...   \n",
       "\n",
       "                                                 pop  \\\n",
       "0  {'isIdle': 'true', 'name': 'Poldiasenah Sithan...   \n",
       "1  {'isIdle': 'true', 'name': 'Poldiasenah Bunar'...   \n",
       "\n",
       "                                           structure     action  \n",
       "0  {'name': 'Commercial District', 'objid': '0799...  structure  \n",
       "1  {'name': 'Farmland', 'objid': '7148019480640',...  structure  "
      ]
     },
     "execution_count": 17,
     "metadata": {},
     "output_type": "execute_result"
    }
   ],
   "source": [
    "pd.DataFrame(structure_messages)\n",
    "# structure_messages[0]['faction']"
   ]
  },
  {
   "cell_type": "code",
   "execution_count": 18,
   "metadata": {},
   "outputs": [
    {
     "name": "stderr",
     "output_type": "stream",
     "text": [
      "DEBUG:asyncio:Using selector: SelectSelector\n",
      "INFO:root:EXOADMIN: processing message: structure at UTU:< time at UTU:1004 >\n",
      "INFO:root:EXOADMIN:       -------And with that processed STRUCTURE: {'faction': {'name': 'Poldiasenah', 'objid': '4060880433595', 'lat': 0.114, 'long': 0.0, 'wealth': 2, 'infrastructure': 0, 'userguid': '8d5b667f-b225-4641-b499-73b77558ff86', 'objtype': 'faction', 'id': '4060880433595'}, 'pop': {'isIdle': 'true', 'name': 'Poldiasenah Sithane', 'objid': '9888651460599', 'conformity': 0.468, 'literacy': 0.631, 'aggression': 0.556, 'constitution': 0.372, 'health': 0.7, 'isIn': '4060880433595', 'industry': 0.464, 'wealth': 0.5475, 'factionLoyalty': 0.328, 'userguid': '8d5b667f-b225-4641-b499-73b77558ff86', 'objtype': 'pop', 'id': '9888651460599'}, 'structure': {'name': 'Commercial District', 'objid': '0799411499496', 'ownedBy': '9888651460599', 'type': 'commercial', 'description': 'Generates wealth for the faction.', 'owned_by': 'pop', 'effort': 1, 'faction_augments': '{wealth: 1}', 'requires_attr': '{industry: 0.1}', 'userguid': '8d5b667f-b225-4641-b499-73b77558ff86', 'objtype': 'building', 'id': '0799411499496'}, 'action': 'structure'} at UTU:< time at UTU:1004 >\n",
      "INFO:root:EXOADMIN: process_structure, structure: Commercial District: 0799411499496\n",
      "INFO:root:EXOADMIN: this structure augments a property of the faction\n",
      "INFO:root:EXOADMIN: wealth has changed from 2 to 3.0\n",
      "DEBUG:asyncio:Using selector: SelectSelector\n"
     ]
    },
    {
     "data": {
      "text/plain": [
       "[]"
      ]
     },
     "execution_count": 18,
     "metadata": {},
     "output_type": "execute_result"
    }
   ],
   "source": [
    "f.process_action_event_message(structure_messages[0])"
   ]
  },
  {
   "cell_type": "code",
   "execution_count": 19,
   "metadata": {},
   "outputs": [
    {
     "name": "stderr",
     "output_type": "stream",
     "text": [
      "DEBUG:asyncio:Using selector: SelectSelector\n",
      "INFO:root:EXOADMIN: processing message: structure at UTU:< time at UTU:1004 >\n",
      "INFO:root:EXOADMIN:       -------And with that processed STRUCTURE: {'faction': {'name': 'Poldiasenah', 'objid': '4060880433595', 'lat': 0.114, 'long': 0.0, 'wealth': 2, 'infrastructure': 0, 'userguid': '8d5b667f-b225-4641-b499-73b77558ff86', 'objtype': 'faction', 'id': '4060880433595'}, 'pop': {'isIdle': 'true', 'name': 'Poldiasenah Bunar', 'objid': '9629113611489', 'conformity': 0.56, 'literacy': 0.5, 'aggression': 0.503, 'constitution': 0.448, 'health': 0.7, 'isIn': '4060880433595', 'industry': 0.4755, 'wealth': 0.4878, 'factionLoyalty': 0.531, 'userguid': '8d5b667f-b225-4641-b499-73b77558ff86', 'objtype': 'pop', 'id': '9629113611489'}, 'structure': {'name': 'Farmland', 'objid': '7148019480640', 'ownedBy': '9629113611489', 'type': 'farmland', 'description': 'Generates organic foodstuffs', 'populations will consume food before consuming natural resources': 'None', 'planet_requirements': '{isHabitable: True}', 'faction_augments': '{wealth: -1}', 'renews_faction_resource': '{grains: 10}', 'owned_by': 'pop', 'effort': 1, 'userguid': '8d5b667f-b225-4641-b499-73b77558ff86', 'objtype': 'building', 'id': '7148019480640'}, 'action': 'structure'} at UTU:< time at UTU:1004 >\n",
      "INFO:root:EXOADMIN: process_structure, structure: Farmland: 7148019480640\n",
      "INFO:root:EXOADMIN: this structure augments a property of the faction\n",
      "INFO:root:EXOADMIN: wealth has changed from 2 to 1.0\n",
      "DEBUG:asyncio:Using selector: SelectSelector\n",
      "INFO:root:EXOADMIN: this structure renews the resources of the faction\n",
      "INFO:root:EXOADMIN: resources_to_renew: {'grains': 10}. For faction: {'name': 'Poldiasenah', 'objid': '4060880433595', 'lat': 0.114, 'long': 0.0, 'wealth': 2, 'infrastructure': 0, 'userguid': '8d5b667f-b225-4641-b499-73b77558ff86', 'objtype': 'faction', 'id': '4060880433595'}\n",
      "DEBUG:asyncio:Using selector: SelectSelector\n",
      "INFO:root:EXOADMIN: faction_resources: []\n",
      "INFO:root:EXOADMIN: resources grains:7306832315589 with volume: 10\n",
      "INFO:root:EXOADMIN: Data Created : {'nodes': [{'name': 'grains', 'type': 'organics', 'description': 'grains that can be consumed by pops', 'contained_by': ['ship', 'faction'], 'discovered_on_scan': ['never'], 'label': 'resource', 'objid': '7306832315589', 'max_volume': 100, 'volume': 10}], 'edges': [{'node1': '4060880433595', 'node2': '7306832315589', 'label': 'has'}]}\n",
      "DEBUG:asyncio:Using selector: SelectSelector\n"
     ]
    },
    {
     "name": "stdout",
     "output_type": "stream",
     "text": [
      "EXOADMIN: resource [grains] not found at faction, and will be created\n"
     ]
    },
    {
     "name": "stderr",
     "output_type": "stream",
     "text": [
      "DEBUG:asyncio:Using selector: SelectSelector\n",
      "INFO:root:EXOADMIN: New nodes : 1. New edges : 1\n"
     ]
    },
    {
     "data": {
      "text/plain": [
       "[]"
      ]
     },
     "execution_count": 19,
     "metadata": {},
     "output_type": "execute_result"
    }
   ],
   "source": [
    "f.process_action_event_message(structure_messages[1])"
   ]
  },
  {
   "cell_type": "markdown",
   "metadata": {},
   "source": [
    "## Incrementing the timer\n",
    "Just for testing purposes. Some jobs can only be done when ready. \n"
   ]
  },
  {
   "cell_type": "code",
   "execution_count": 10,
   "metadata": {},
   "outputs": [
    {
     "name": "stderr",
     "output_type": "stream",
     "text": [
      "DEBUG:asyncio:Using selector: SelectSelector\n",
      "DEBUG:asyncio:Using selector: SelectSelector\n",
      "INFO:root:EXOADMIN: UTU was updated, result: currentTime was updated from:1003 to: 1004 at: < time at UTU:1003 >\n"
     ]
    }
   ],
   "source": [
    "f.increment_timer()"
   ]
  },
  {
   "cell_type": "code",
   "execution_count": null,
   "metadata": {},
   "outputs": [],
   "source": []
  },
  {
   "cell_type": "code",
   "execution_count": null,
   "metadata": {},
   "outputs": [],
   "source": []
  }
 ],
 "metadata": {
  "kernelspec": {
   "display_name": "exoplanets",
   "language": "python",
   "name": "python3"
  },
  "language_info": {
   "codemirror_mode": {
    "name": "ipython",
    "version": 3
   },
   "file_extension": ".py",
   "mimetype": "text/x-python",
   "name": "python",
   "nbconvert_exporter": "python",
   "pygments_lexer": "ipython3",
   "version": "3.8.16"
  }
 },
 "nbformat": 4,
 "nbformat_minor": 2
}
