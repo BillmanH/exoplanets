{
 "cells": [
  {
   "cell_type": "markdown",
   "metadata": {},
   "source": [
    "# Testing Azure Functions"
   ]
  },
  {
   "cell_type": "markdown",
   "metadata": {},
   "source": [
    "Testing Azure HTTP functions is easy because you can just use `requests` to ping the function. However EventHub functions are more difficult because you have to observe them happening in the context of the EventHub ecosystem. This usually means that you have to deploy and wait for your event to get triggered. \n",
    "\n",
    "Testing Azure Functions can be easy if you design your process right. The trick is to separate the Azure Function logic from the logic of your application. \n",
    "\n",
    "Like this:\n",
    "```python\n",
    "@app.function_name(name=\"myFunction\")\n",
    "@app.event_hub_message_trigger(arg_name=\"event\",\n",
    "                               event_hub_name=EVENT_HUB_NAME,\n",
    "                               connection=\"EVENT_HUB_CONNECTION_STR\")\n",
    "def AZ_myFunction(event: func.EventHubEvent):\n",
    "    eh_producer = EventHubProducerClient.from_connection_string(EVENT_HUB_CONNECTION_STR, eventhub_name=EVENT_HUB_NAME)\n",
    "    credential = DefaultAzureCredential() \n",
    "    message = ast.literal_eval(event.get_body().decode('utf-8'))\n",
    "    # proccessing messages is removed so that I can test it locally. \n",
    "    outgoing_messages = local_myFunction(message)\n",
    "    if len(outgoing_messages)>0:\n",
    "        logging.info(f\"myFunction produced {len(outgoing_messages)} outgoing messages\")\n",
    "        send_to_eventhub(outgoing_messages, eh_producer)\n",
    "        logging.info(f\"Additional messages sent to EH. \")\n",
    "\n",
    "def local_myFunction(message):\n",
    "    # TODO: My business process that I can test locally\n",
    "    outgoing_messages = []\n",
    "    return outgoing_messages\n",
    "```\n",
    "\n",
    "This way I can deploy to the cloud, but I don't have to wait to see the results. I can deploy them locally and test my local business process. "
   ]
  },
  {
   "cell_type": "markdown",
   "metadata": {},
   "source": [
    "### A demonstration"
   ]
  },
  {
   "cell_type": "code",
   "execution_count": 1,
   "metadata": {},
   "outputs": [
    {
     "name": "stderr",
     "output_type": "stream",
     "text": [
      "INFO:root:logs showing as print\n"
     ]
    },
    {
     "name": "stdout",
     "output_type": "stream",
     "text": [
      "['function_app.py']\n"
     ]
    }
   ],
   "source": [
    "import os\n",
    "import  ssl, asyncio\n",
    "import nest_asyncio\n",
    "import pandas as pd\n",
    "\n",
    "# moving back to the root, but idempotent in case we are already there\n",
    "if 'function_app.py' not in os.listdir():\n",
    "    os.chdir('..')\n",
    "print([f for f in os.listdir() if f == 'function_app.py'])\n",
    "\n",
    "import logging\n",
    "logger = logging.getLogger()\n",
    "logger.setLevel(logging.DEBUG)\n",
    "logging.info(\"logs showing as print\")\n",
    "\n",
    "\n",
    "\n",
    "ssl._create_default_https_context = ssl._create_unverified_context\n",
    "asyncio.set_event_loop_policy(asyncio.WindowsSelectorEventLoopPolicy())\n",
    "# this is required for running in a Jupyter Notebook. \n",
    "nest_asyncio.apply()"
   ]
  },
  {
   "cell_type": "code",
   "execution_count": 2,
   "metadata": {},
   "outputs": [
    {
     "name": "stdout",
     "output_type": "stream",
     "text": [
      "executing local windows deployment\n",
      "something wrong with your query: <class 'Exception'>\n"
     ]
    }
   ],
   "source": [
    "import function_app as f"
   ]
  },
  {
   "cell_type": "markdown",
   "metadata": {},
   "source": [
    "## Generating the Messages to be Tested\n",
    "\n",
    "Each Azure function has both a python function that is routed to the az function app, and a separate function that does the business logic of my game. This allows me to test locally.\n",
    "\n",
    "| AZ Func Name | AZ Function | Relevant Local Function(args) | Description |\n",
    "|----------|----------|----------|----------|\n",
    "| actionResolverTimer | action_resolver | `process_action_messages()` | Queries open jobs and generates EventHub Messages to resolve them  |\n",
    "| factionBuildingTimer | faction_building_resolver | `get_structure_messages()` | Structures that have ongoing effects |\n",
    "| resolveActionEvents | resolve_action_event | `process_action_event_message(message)` | Takes individual event messages and resolves them |\n",
    "| ututimer | utu_timer | `increment_timer()` | Increments the galatic timer |"
   ]
  },
  {
   "cell_type": "code",
   "execution_count": 3,
   "metadata": {},
   "outputs": [
    {
     "name": "stderr",
     "output_type": "stream",
     "text": [
      "DEBUG:asyncio:Using selector: SelectSelector\n",
      "INFO:root:EXOADMIN: health requirement 0.7\n",
      "DEBUG:asyncio:Using selector: SelectSelector\n",
      "INFO:root:EXOADMIN: healthy_pops_query 0\n",
      "INFO:root:EXOADMIN: No pops that meet the pop_health_requirement\n",
      "DEBUG:asyncio:Using selector: SelectSelector\n",
      "INFO:root:EXOADMIN: Total jobs: 0\n",
      "INFO:root:EXOADMIN: Total actions resolved in this run: 0\n",
      "DEBUG:asyncio:Using selector: SelectSelector\n",
      "DEBUG:asyncio:Using selector: SelectSelector\n",
      "INFO:root:EXOADMIN: messages: job:0, growth:0, consumption:7, renewal:1 - at: < time at UTU:1002 >\n",
      "INFO:root:EXOADMIN: Total Messages generated: 8 at: < time at UTU:1002 >\n"
     ]
    }
   ],
   "source": [
    "action_messages = f.process_action_messages()"
   ]
  },
  {
   "cell_type": "code",
   "execution_count": 4,
   "metadata": {},
   "outputs": [
    {
     "data": {
      "text/html": [
       "<div>\n",
       "<style scoped>\n",
       "    .dataframe tbody tr th:only-of-type {\n",
       "        vertical-align: middle;\n",
       "    }\n",
       "\n",
       "    .dataframe tbody tr th {\n",
       "        vertical-align: top;\n",
       "    }\n",
       "\n",
       "    .dataframe thead th {\n",
       "        text-align: right;\n",
       "    }\n",
       "</style>\n",
       "<table border=\"1\" class=\"dataframe\">\n",
       "  <thead>\n",
       "    <tr style=\"text-align: right;\">\n",
       "      <th></th>\n",
       "      <th>agent</th>\n",
       "      <th>action</th>\n",
       "    </tr>\n",
       "  </thead>\n",
       "  <tbody>\n",
       "    <tr>\n",
       "      <th>0</th>\n",
       "      <td>{'objid': '4975085035335', 'consumes': ['organ...</td>\n",
       "      <td>consume</td>\n",
       "    </tr>\n",
       "    <tr>\n",
       "      <th>1</th>\n",
       "      <td>{'objid': '8510105182256', 'consumes': ['organ...</td>\n",
       "      <td>consume</td>\n",
       "    </tr>\n",
       "    <tr>\n",
       "      <th>2</th>\n",
       "      <td>{'objid': '4558198014921', 'consumes': ['organ...</td>\n",
       "      <td>consume</td>\n",
       "    </tr>\n",
       "    <tr>\n",
       "      <th>3</th>\n",
       "      <td>{'objid': '4966734219567', 'consumes': ['organ...</td>\n",
       "      <td>consume</td>\n",
       "    </tr>\n",
       "    <tr>\n",
       "      <th>4</th>\n",
       "      <td>{'objid': '6238436631717', 'consumes': ['organ...</td>\n",
       "      <td>consume</td>\n",
       "    </tr>\n",
       "    <tr>\n",
       "      <th>5</th>\n",
       "      <td>{'objid': '3449618203493', 'consumes': ['organ...</td>\n",
       "      <td>consume</td>\n",
       "    </tr>\n",
       "    <tr>\n",
       "      <th>6</th>\n",
       "      <td>{'objid': '3069640564489', 'consumes': ['organ...</td>\n",
       "      <td>consume</td>\n",
       "    </tr>\n",
       "    <tr>\n",
       "      <th>7</th>\n",
       "      <td>{'replenish_rate': '10', 'volume': 1082.0, 'na...</td>\n",
       "      <td>renew</td>\n",
       "    </tr>\n",
       "  </tbody>\n",
       "</table>\n",
       "</div>"
      ],
      "text/plain": [
       "                                               agent   action\n",
       "0  {'objid': '4975085035335', 'consumes': ['organ...  consume\n",
       "1  {'objid': '8510105182256', 'consumes': ['organ...  consume\n",
       "2  {'objid': '4558198014921', 'consumes': ['organ...  consume\n",
       "3  {'objid': '4966734219567', 'consumes': ['organ...  consume\n",
       "4  {'objid': '6238436631717', 'consumes': ['organ...  consume\n",
       "5  {'objid': '3449618203493', 'consumes': ['organ...  consume\n",
       "6  {'objid': '3069640564489', 'consumes': ['organ...  consume\n",
       "7  {'replenish_rate': '10', 'volume': 1082.0, 'na...    renew"
      ]
     },
     "execution_count": 4,
     "metadata": {},
     "output_type": "execute_result"
    }
   ],
   "source": [
    "pd.DataFrame(action_messages)"
   ]
  },
  {
   "cell_type": "code",
   "execution_count": 3,
   "metadata": {},
   "outputs": [
    {
     "name": "stderr",
     "output_type": "stream",
     "text": [
      "DEBUG:asyncio:Using selector: SelectSelector\n",
      "DEBUG:asyncio:Using selector: SelectSelector\n",
      "INFO:root:EXOADMIN: number of items: 1\n",
      "INFO:root:EXOADMIN: Total Messages generated: 1 at: < time at UTU:1002 >\n"
     ]
    }
   ],
   "source": [
    "structure_messages = f.get_structure_messages()"
   ]
  },
  {
   "cell_type": "code",
   "execution_count": 4,
   "metadata": {},
   "outputs": [
    {
     "data": {
      "text/html": [
       "<div>\n",
       "<style scoped>\n",
       "    .dataframe tbody tr th:only-of-type {\n",
       "        vertical-align: middle;\n",
       "    }\n",
       "\n",
       "    .dataframe tbody tr th {\n",
       "        vertical-align: top;\n",
       "    }\n",
       "\n",
       "    .dataframe thead th {\n",
       "        text-align: right;\n",
       "    }\n",
       "</style>\n",
       "<table border=\"1\" class=\"dataframe\">\n",
       "  <thead>\n",
       "    <tr style=\"text-align: right;\">\n",
       "      <th></th>\n",
       "      <th>faction</th>\n",
       "      <th>pop</th>\n",
       "      <th>structure</th>\n",
       "      <th>action</th>\n",
       "    </tr>\n",
       "  </thead>\n",
       "  <tbody>\n",
       "    <tr>\n",
       "      <th>0</th>\n",
       "      <td>{'wealth': 0, 'name': 'Ciu', 'objid': '7327160...</td>\n",
       "      <td>{'isIdle': 'true', 'name': 'Ciu Damlantia', 'o...</td>\n",
       "      <td>{'name': 'Farmland', 'objid': '6886425430993',...</td>\n",
       "      <td>structure</td>\n",
       "    </tr>\n",
       "  </tbody>\n",
       "</table>\n",
       "</div>"
      ],
      "text/plain": [
       "                                             faction  \\\n",
       "0  {'wealth': 0, 'name': 'Ciu', 'objid': '7327160...   \n",
       "\n",
       "                                                 pop  \\\n",
       "0  {'isIdle': 'true', 'name': 'Ciu Damlantia', 'o...   \n",
       "\n",
       "                                           structure     action  \n",
       "0  {'name': 'Farmland', 'objid': '6886425430993',...  structure  "
      ]
     },
     "execution_count": 4,
     "metadata": {},
     "output_type": "execute_result"
    }
   ],
   "source": [
    "pd.DataFrame(structure_messages)"
   ]
  },
  {
   "cell_type": "markdown",
   "metadata": {},
   "source": [
    "## Resolving those messages"
   ]
  },
  {
   "cell_type": "code",
   "execution_count": 7,
   "metadata": {},
   "outputs": [
    {
     "name": "stderr",
     "output_type": "stream",
     "text": [
      "DEBUG:asyncio:Using selector: SelectSelector\n",
      "INFO:root:EXOADMIN: processing message: consume at UTU:< time at UTU:1002 >\n",
      "INFO:root:EXOADMIN: Processing reduce_location_resource for: {'objid': '4975085035335', 'consumes': ['organics'], 'effuses': ['organic waste', 'plastics']}\n",
      "INFO:root:EXOADMIN: resource_query query: \n",
      "    g.V().has('objid','4975085035335').out('inhabits').out('has').has('objtype','resource').has('name','organics').valuemap()\n",
      "    \n",
      "DEBUG:asyncio:Using selector: SelectSelector\n",
      "INFO:root:EXOADMIN: resources 6367214839613 consumed by 4975085035335: reduced by 2, 1082.0-> 1080.0\n",
      "INFO:root:EXOADMIN: patch_resource_query: \n",
      "        g.V().has('objid','4975085035335')\n",
      "            .out('inhabits')\n",
      "            .out('has').has('label','resource')\n",
      "            .has('name','organics')\n",
      "            .property('volume',1080.0)\n",
      "    \n",
      "DEBUG:asyncio:Using selector: SelectSelector\n",
      "INFO:root:EXOADMIN: agent: 4975085035335 consumed resource: 6367214839613. 1082.0->1080.0\n",
      "INFO:root:EXOADMIN:       -------And with that processed CONSUMPTION: {'objid': '4975085035335', 'consumes': ['organics'], 'effuses': ['organic waste', 'plastics']} at UTU:< time at UTU:1002 >\n"
     ]
    },
    {
     "data": {
      "text/plain": [
       "[]"
      ]
     },
     "execution_count": 7,
     "metadata": {},
     "output_type": "execute_result"
    }
   ],
   "source": [
    "f.process_action_event_message(action_messages[0])"
   ]
  },
  {
   "cell_type": "code",
   "execution_count": 11,
   "metadata": {},
   "outputs": [
    {
     "name": "stderr",
     "output_type": "stream",
     "text": [
      "DEBUG:asyncio:Using selector: SelectSelector\n",
      "INFO:root:EXOADMIN: processing message: consume at UTU:< time at UTU:1002 >\n",
      "INFO:root:EXOADMIN: Processing reduce_location_resource for: {'objid': '4975085035335', 'consumes': ['organics'], 'effuses': ['organic waste', 'plastics']}\n",
      "INFO:root:EXOADMIN: resource_query query: \n",
      "    g.V().has('objid','4975085035335').out('inhabits').out('has').has('objtype','resource').has('name','organics').valuemap()\n",
      "    \n",
      "DEBUG:asyncio:Using selector: SelectSelector\n",
      "INFO:root:EXOADMIN: resources 6367214839613 consumed by 4975085035335: reduced by 2, 1084.0-> 1082.0\n",
      "INFO:root:EXOADMIN: patch_resource_query: \n",
      "        g.V().has('objid','4975085035335')\n",
      "            .out('inhabits')\n",
      "            .out('has').has('label','resource')\n",
      "            .has('name','organics')\n",
      "            .property('volume',1082.0)\n",
      "    \n",
      "DEBUG:asyncio:Using selector: SelectSelector\n",
      "INFO:root:EXOADMIN: agent: 4975085035335 consumed resource: 6367214839613. 1084.0->1082.0\n",
      "INFO:root:EXOADMIN:       -------And with that processed CONSUMPTION: {'objid': '4975085035335', 'consumes': ['organics'], 'effuses': ['organic waste', 'plastics']} at UTU:< time at UTU:1002 >\n"
     ]
    },
    {
     "data": {
      "text/plain": [
       "[]"
      ]
     },
     "execution_count": 11,
     "metadata": {},
     "output_type": "execute_result"
    }
   ],
   "source": [
    "f.process_action_event_message(action_messages[1])"
   ]
  },
  {
   "cell_type": "code",
   "execution_count": 10,
   "metadata": {},
   "outputs": [
    {
     "data": {
      "text/html": [
       "<div>\n",
       "<style scoped>\n",
       "    .dataframe tbody tr th:only-of-type {\n",
       "        vertical-align: middle;\n",
       "    }\n",
       "\n",
       "    .dataframe tbody tr th {\n",
       "        vertical-align: top;\n",
       "    }\n",
       "\n",
       "    .dataframe thead th {\n",
       "        text-align: right;\n",
       "    }\n",
       "</style>\n",
       "<table border=\"1\" class=\"dataframe\">\n",
       "  <thead>\n",
       "    <tr style=\"text-align: right;\">\n",
       "      <th></th>\n",
       "      <th>faction</th>\n",
       "      <th>pop</th>\n",
       "      <th>structure</th>\n",
       "      <th>action</th>\n",
       "    </tr>\n",
       "  </thead>\n",
       "  <tbody>\n",
       "    <tr>\n",
       "      <th>0</th>\n",
       "      <td>{'wealth': 0, 'name': 'Ciu', 'objid': '7327160...</td>\n",
       "      <td>{'isIdle': 'true', 'name': 'Ciu Damlantia', 'o...</td>\n",
       "      <td>{'name': 'Farmland', 'objid': '6886425430993',...</td>\n",
       "      <td>structure</td>\n",
       "    </tr>\n",
       "  </tbody>\n",
       "</table>\n",
       "</div>"
      ],
      "text/plain": [
       "                                             faction  \\\n",
       "0  {'wealth': 0, 'name': 'Ciu', 'objid': '7327160...   \n",
       "\n",
       "                                                 pop  \\\n",
       "0  {'isIdle': 'true', 'name': 'Ciu Damlantia', 'o...   \n",
       "\n",
       "                                           structure     action  \n",
       "0  {'name': 'Farmland', 'objid': '6886425430993',...  structure  "
      ]
     },
     "execution_count": 10,
     "metadata": {},
     "output_type": "execute_result"
    }
   ],
   "source": [
    "pd.DataFrame(structure_messages)\n",
    "# structure_messages[0]['faction']"
   ]
  },
  {
   "cell_type": "code",
   "execution_count": 6,
   "metadata": {},
   "outputs": [
    {
     "name": "stderr",
     "output_type": "stream",
     "text": [
      "DEBUG:asyncio:Using selector: SelectSelector\n",
      "INFO:root:EXOADMIN: processing message: structure at UTU:< time at UTU:1002 >\n",
      "INFO:root:EXOADMIN:       -------And with that processed STRUCTURE: {'faction': {'wealth': 0, 'name': 'Ciu', 'objid': '7327160462281', 'lat': '-0.134', 'long': '0.0', 'infrastructure': '0', 'userguid': '8d5b667f-b225-4641-b499-73b77558ff86', 'objtype': 'faction', 'id': '7327160462281'}, 'pop': {'isIdle': 'true', 'name': 'Ciu Damlantia', 'objid': '3069640564489', 'conformity': '0.397', 'literacy': '0.658', 'aggression': '0.399', 'constitution': '0.465', 'health': '0.7', 'isIn': '7327160462281', 'industry': '0.43200000000000005', 'wealth': '0.545', 'factionLoyalty': '0.525', 'userguid': '8d5b667f-b225-4641-b499-73b77558ff86', 'objtype': 'pop', 'id': '3069640564489'}, 'structure': {'name': 'Farmland', 'objid': '6886425430993', 'ownedBy': '3069640564489', 'type': 'farmland', 'description': 'Generates organic foodstuffs', 'populations will consume food before consuming natural resources': 'None', 'planet_requirements': '{isHabitable: True}', 'faction_augments': '{wealth: -1}', 'renews_faction_resource': '{grains: 10}', 'owned_by': 'pop', 'effort': 1, 'userguid': '8d5b667f-b225-4641-b499-73b77558ff86', 'objtype': 'building', 'id': '6886425430993'}, 'action': 'structure'} at UTU:< time at UTU:1002 >\n",
      "INFO:root:EXOADMIN: process_structure, structure: Farmland: 6886425430993\n",
      "INFO:root:EXOADMIN: this structure augments a property of the faction\n",
      "INFO:root:EXOADMIN: wealth has changed from 0 to 0\n",
      "DEBUG:asyncio:Using selector: SelectSelector\n",
      "INFO:root:EXOADMIN: this structure renews the resources of the faction\n",
      "INFO:root:EXOADMIN: resources_to_renew: {'grains': 10}. For faction: {'wealth': 0, 'name': 'Ciu', 'objid': '7327160462281', 'lat': '-0.134', 'long': '0.0', 'infrastructure': '0', 'userguid': '8d5b667f-b225-4641-b499-73b77558ff86', 'objtype': 'faction', 'id': '7327160462281'}\n",
      "DEBUG:asyncio:Using selector: SelectSelector\n",
      "INFO:root:EXOADMIN: faction_resources: [{'name': 'grains', 'type': 'organics', 'description': 'grains that can be consumed by pops', 'contained_by': '[ship, faction]', 'objid': '3271102985863', 'max_volume': 100, 'volume': 10, 'userguid': '8d5b667f-b225-4641-b499-73b77558ff86', 'objtype': 'resource', 'id': '3271102985863'}]\n",
      "INFO:root:EXOADMIN: resources grains:3271102985863 changed by 10, 10.0-> 20.0\n",
      "INFO:root:EXOADMIN: renew_query: g.V().has('objid','3271102985863').property('volume','20.0')\n",
      "DEBUG:asyncio:Using selector: SelectSelector\n"
     ]
    },
    {
     "data": {
      "text/plain": [
       "[]"
      ]
     },
     "execution_count": 6,
     "metadata": {},
     "output_type": "execute_result"
    }
   ],
   "source": [
    "f.process_action_event_message(structure_messages[0])"
   ]
  },
  {
   "cell_type": "markdown",
   "metadata": {},
   "source": [
    "## Incrementing the timer\n",
    "Just for testing purposes. Some jobs can only be done when ready. \n"
   ]
  },
  {
   "cell_type": "code",
   "execution_count": 1,
   "metadata": {},
   "outputs": [
    {
     "ename": "NameError",
     "evalue": "name 'f' is not defined",
     "output_type": "error",
     "traceback": [
      "\u001b[1;31m---------------------------------------------------------------------------\u001b[0m",
      "\u001b[1;31mNameError\u001b[0m                                 Traceback (most recent call last)",
      "Cell \u001b[1;32mIn[1], line 1\u001b[0m\n\u001b[1;32m----> 1\u001b[0m \u001b[43mf\u001b[49m\u001b[38;5;241m.\u001b[39mincrement_timer()\n",
      "\u001b[1;31mNameError\u001b[0m: name 'f' is not defined"
     ]
    }
   ],
   "source": [
    "f.increment_timer()"
   ]
  },
  {
   "cell_type": "code",
   "execution_count": null,
   "metadata": {},
   "outputs": [],
   "source": []
  },
  {
   "cell_type": "code",
   "execution_count": null,
   "metadata": {},
   "outputs": [],
   "source": []
  }
 ],
 "metadata": {
  "kernelspec": {
   "display_name": "exoplanets",
   "language": "python",
   "name": "python3"
  },
  "language_info": {
   "codemirror_mode": {
    "name": "ipython",
    "version": 3
   },
   "file_extension": ".py",
   "mimetype": "text/x-python",
   "name": "python",
   "nbconvert_exporter": "python",
   "pygments_lexer": "ipython3",
   "version": "3.8.16"
  }
 },
 "nbformat": 4,
 "nbformat_minor": 2
}
