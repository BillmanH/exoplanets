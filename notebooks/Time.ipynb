{
 "cells": [
  {
   "cell_type": "markdown",
   "metadata": {},
   "source": [
    "# How Time Works\n",
    "\n",
    "At the beginning `t=0`"
   ]
  },
  {
   "cell_type": "code",
   "execution_count": 1,
   "metadata": {},
   "outputs": [],
   "source": [
    "import sys\n",
    "import pandas as pd\n",
    "sys.path.append('..')\n",
    "import helpers.dbquery as db\n",
    "import helpers.functions as f\n",
    "# import helpers.functions as f\n",
    "import ssl, asyncio\n",
    "\n",
    "ssl._create_default_https_context = ssl._create_unverified_context\n",
    "asyncio.set_event_loop_policy(asyncio.WindowsSelectorEventLoopPolicy())\n",
    "import nest_asyncio\n",
    "# this is required for running in a Jupyter Notebook. \n",
    "nest_asyncio.apply()"
   ]
  },
  {
   "cell_type": "code",
   "execution_count": 2,
   "metadata": {},
   "outputs": [
    {
     "data": {
      "text/plain": [
       "{'label': 'time', 'objid': '2576061793482', 'name': 'time', 'originTime': 0}"
      ]
     },
     "execution_count": 2,
     "metadata": {},
     "output_type": "execute_result"
    }
   ],
   "source": [
    "time = {\n",
    "    \"label\": \"time\",\n",
    "    \"objid\":  f.uuid(n=13),\n",
    "    \"name\": \"time\",\n",
    "    \"originTime\":0,\n",
    "}\n",
    "time"
   ]
  },
  {
   "cell_type": "markdown",
   "metadata": {},
   "source": [
    "Time has no edges. It sits in it's own record. \n",
    "\n",
    "**Note** The cell below will reset time. This will cause disruptions in the larger system. "
   ]
  },
  {
   "cell_type": "code",
   "execution_count": 6,
   "metadata": {},
   "outputs": [],
   "source": [
    "# data = {\"nodes\":[time],'edges':[]}\n",
    "# db.upload_data(data,verbose=True)"
   ]
  },
  {
   "cell_type": "code",
   "execution_count": 9,
   "metadata": {},
   "outputs": [],
   "source": [
    "res = db.run_query(\"g.V().hasLabel('time').valueMap()\")\n",
    "time = [db.clean_node(n) for n in res]"
   ]
  },
  {
   "cell_type": "code",
   "execution_count": 11,
   "metadata": {},
   "outputs": [
    {
     "data": {
      "text/plain": [
       "{'objid': '2576061793482',\n",
       " 'name': 'time',\n",
       " 'originTime': 0,\n",
       " 'username': 'notebook',\n",
       " 'objtype': 'time',\n",
       " 'id': '2576061793482'}"
      ]
     },
     "execution_count": 11,
     "metadata": {},
     "output_type": "execute_result"
    }
   ],
   "source": [
    "time[0]"
   ]
  },
  {
   "cell_type": "code",
   "execution_count": null,
   "metadata": {},
   "outputs": [],
   "source": []
  }
 ],
 "metadata": {
  "interpreter": {
   "hash": "963f8bc8d1837394f85b1a87cb03282203007ac74b0df2c49e442752684865e9"
  },
  "kernelspec": {
   "display_name": "Python 3.7.0 ('exoplanets')",
   "language": "python",
   "name": "python3"
  },
  "language_info": {
   "codemirror_mode": {
    "name": "ipython",
    "version": 3
   },
   "file_extension": ".py",
   "mimetype": "text/x-python",
   "name": "python",
   "nbconvert_exporter": "python",
   "pygments_lexer": "ipython3",
   "version": "3.7.0"
  },
  "orig_nbformat": 4
 },
 "nbformat": 4,
 "nbformat_minor": 2
}
