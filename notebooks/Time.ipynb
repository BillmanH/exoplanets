{
 "cells": [
  {
   "cell_type": "markdown",
   "metadata": {},
   "source": [
    "# How Time Works\n",
    "\n",
    "In the graph there is a node labled `time` with no edges. At the beginning `currentTime=0`, and is autoincremented by 1 indefinitely. \n",
    "\n",
    "An Azure function `functions/time` runs all events and actions that require time to complete. That runs on an NCRONTAB job specified in the `function.json` doc. It can be adjusted to speed up or slow down time in the game. \n",
    "\n",
    "Example NCRONTAB configurations:\n",
    "* `\"0 */2 * * * *\"`  Every two minutes\n",
    "* `\"0 */5 * * * *\"`  Every five minutes\n"
   ]
  },
  {
   "cell_type": "code",
   "execution_count": 2,
   "metadata": {},
   "outputs": [],
   "source": [
    "import sys\n",
    "import pandas as pd\n",
    "sys.path.append('..')\n",
    "import helpers.dbquery as db\n",
    "import helpers.functions as f\n",
    "\n",
    "import ssl, asyncio\n",
    "\n",
    "ssl._create_default_https_context = ssl._create_unverified_context\n",
    "asyncio.set_event_loop_policy(asyncio.WindowsSelectorEventLoopPolicy())\n",
    "import nest_asyncio\n",
    "# this is required for running in a Jupyter Notebook. \n",
    "nest_asyncio.apply()"
   ]
  },
  {
   "cell_type": "code",
   "execution_count": 3,
   "metadata": {},
   "outputs": [
    {
     "data": {
      "text/plain": [
       "{'label': 'time',\n",
       " 'objid': '1055528131079',\n",
       " 'name': 'time',\n",
       " 'originTime': 0,\n",
       " 'currentTime': 0}"
      ]
     },
     "execution_count": 3,
     "metadata": {},
     "output_type": "execute_result"
    }
   ],
   "source": [
    "time = {\n",
    "    \"label\": \"time\",\n",
    "    \"objid\":  f.uuid(n=13),\n",
    "    \"name\": \"time\",\n",
    "    \"originTime\":0,\n",
    "    \"currentTime\":0\n",
    "}\n",
    "time"
   ]
  },
  {
   "cell_type": "markdown",
   "metadata": {},
   "source": [
    "Time has no edges. It sits in it's own record. \n",
    "\n",
    "**Note** The cell below will reset time. This will cause disruptions in the larger system. "
   ]
  },
  {
   "cell_type": "code",
   "execution_count": 4,
   "metadata": {},
   "outputs": [],
   "source": [
    "# # res = db.run_query(\"g.V().hasLabel('time').drop()\")\n",
    "# res = db.run_query(\"g.addV('time').property('label','time').property('objid','7263327370874').property('name','time').property('originTime',0).property('currentTime',0).property('username','notebook').property('objtype','time')\")\n",
    "# res = db.run_query(\"g.V().hasLabel('time').valueMap()\")\n",
    "# time = [db.clean_node(n) for n in res][0]\n",
    "# time"
   ]
  },
  {
   "cell_type": "code",
   "execution_count": 5,
   "metadata": {},
   "outputs": [
    {
     "data": {
      "text/plain": [
       "{'objid': '7263327370874',\n",
       " 'name': 'time',\n",
       " 'originTime': 0,\n",
       " 'currentTime': 0,\n",
       " 'username': 'notebook',\n",
       " 'objtype': 'time',\n",
       " 'id': '7263327370874'}"
      ]
     },
     "execution_count": 5,
     "metadata": {},
     "output_type": "execute_result"
    }
   ],
   "source": [
    "res = db.run_query(\"g.V().hasLabel('time').valueMap()\")\n",
    "time = [db.clean_node(n) for n in res][0]\n",
    "time"
   ]
  },
  {
   "cell_type": "code",
   "execution_count": 6,
   "metadata": {},
   "outputs": [
    {
     "data": {
      "text/plain": [
       "[0]"
      ]
     },
     "execution_count": 6,
     "metadata": {},
     "output_type": "execute_result"
    }
   ],
   "source": [
    "query = '''\n",
    "    g.V().haslabel(\"time\").limit(1).values('currentTime')\n",
    "    '''\n",
    "res = db.run_query(query)\n",
    "\n",
    "res\n"
   ]
  },
  {
   "cell_type": "markdown",
   "metadata": {},
   "source": [
    "**TODO** Update this function to get the time and update the time in a single query. "
   ]
  },
  {
   "cell_type": "code",
   "execution_count": 1,
   "metadata": {},
   "outputs": [],
   "source": [
    "# query = '''\n",
    "#     g.V().haslabel(\"time\").limit(1).property(\"currentTime\", union(values(\"currentTime\"), constant(1)).sum())\n",
    "#     '''\n",
    "# res = db.run_query(query)\n",
    "\n",
    "# res\n",
    "# # g.V().haslabel(\"time\").limit(1).values('currentTime')+1"
   ]
  },
  {
   "cell_type": "markdown",
   "metadata": {},
   "source": [
    "Currently the process is mundane: get the value of `currentTime` and add one. Then place that property. "
   ]
  },
  {
   "cell_type": "code",
   "execution_count": 13,
   "metadata": {},
   "outputs": [
    {
     "data": {
      "text/plain": [
       "[{'id': '9f20308e-c85e-414f-b2ee-77316df94689',\n",
       "  'label': 'time',\n",
       "  'type': 'vertex',\n",
       "  'properties': {'currentTime': [{'id': '84114321-4b70-4812-b555-f758761b5ed8',\n",
       "     'value': 1}],\n",
       "   'objid': [{'id': '9f20308e-c85e-414f-b2ee-77316df94689|objid',\n",
       "     'value': '7263327370874'}],\n",
       "   'name': [{'id': '3db56964-4c7a-4a9a-a7a3-2d186153e998', 'value': 'time'}],\n",
       "   'originTime': [{'id': 'a8af8453-3962-49d9-ba22-447f0f48b6ca', 'value': 0}],\n",
       "   'username': [{'id': 'e85d9ed1-5492-4524-b042-efbaa7064449',\n",
       "     'value': 'notebook'}],\n",
       "   'objtype': [{'id': '6e7e1ebe-b927-485c-973e-28a3ced14afc',\n",
       "     'value': 'time'}]}}]"
      ]
     },
     "execution_count": 13,
     "metadata": {},
     "output_type": "execute_result"
    }
   ],
   "source": [
    "currentTime = res[0]+1\n",
    "updateRes = db.run_query(f\"g.V().hasLabel('time').property('currentTime', {currentTime})\")\n",
    "updateRes"
   ]
  },
  {
   "cell_type": "code",
   "execution_count": 14,
   "metadata": {},
   "outputs": [
    {
     "data": {
      "text/plain": [
       "{'currentTime': 1,\n",
       " 'objid': '7263327370874',\n",
       " 'name': 'time',\n",
       " 'originTime': 0,\n",
       " 'username': 'notebook',\n",
       " 'objtype': 'time',\n",
       " 'id': '7263327370874'}"
      ]
     },
     "execution_count": 14,
     "metadata": {},
     "output_type": "execute_result"
    }
   ],
   "source": [
    "res = db.run_query(\"g.V().hasLabel('time').valueMap()\")\n",
    "time = [db.clean_node(n) for n in res][0]\n",
    "time"
   ]
  },
  {
   "cell_type": "code",
   "execution_count": null,
   "metadata": {},
   "outputs": [],
   "source": []
  }
 ],
 "metadata": {
  "interpreter": {
   "hash": "625a17269cb94aebb094cbcf5e0e8340f26b69d46569da60e8fc69439048adbf"
  },
  "kernelspec": {
   "display_name": "Python 3.7.0 ('exoplanets')",
   "language": "python",
   "name": "python3"
  },
  "language_info": {
   "codemirror_mode": {
    "name": "ipython",
    "version": 3
   },
   "file_extension": ".py",
   "mimetype": "text/x-python",
   "name": "python",
   "nbconvert_exporter": "python",
   "pygments_lexer": "ipython3",
   "version": "3.7.0"
  },
  "orig_nbformat": 4
 },
 "nbformat": 4,
 "nbformat_minor": 2
}
