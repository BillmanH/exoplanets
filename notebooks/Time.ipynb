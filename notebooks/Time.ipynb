{
 "cells": [
  {
   "attachments": {},
   "cell_type": "markdown",
   "metadata": {},
   "source": [
    "# How Time Works\n",
    "\n",
    "In the graph there is a node labled `time` with no edges. At the beginning `currentTime=0`, and is autoincremented by 1 indefinitely. Time is always running and never reset.\n",
    "\n",
    "An Azure function `functions/time` runs all events and actions that require time to complete. That runs on an NCRONTAB job specified in the `function.json` doc. It can be adjusted to speed up or slow down time in the game. \n",
    "\n",
    "Example NCRONTAB configurations:\n",
    "* `\"0 */2 * * * *\"`  Every two minutes\n",
    "* `\"0 */5 * * * *\"`  Every five minutes\n",
    "\n",
    "Note that some events are taken care of by `functions/cosmicevents` and not by time.\n"
   ]
  },
  {
   "cell_type": "code",
   "execution_count": 3,
   "metadata": {},
   "outputs": [
    {
     "name": "stdout",
     "output_type": "stream",
     "text": [
      "executing local windows deployment\n"
     ]
    }
   ],
   "source": [
    "import sys\n",
    "import pandas as pd\n",
    "sys.path.append('..')\n",
    "\n",
    "from app.connectors import cmdb_graph\n",
    "from app.functions import maths\n",
    "from app.objects import time\n",
    "\n",
    "c = cmdb_graph.CosmosdbClient()\n",
    "\n",
    "\n",
    "import  ssl, asyncio\n",
    "\n",
    "ssl._create_default_https_context = ssl._create_unverified_context\n",
    "asyncio.set_event_loop_policy(asyncio.WindowsSelectorEventLoopPolicy())\n",
    "import nest_asyncio\n",
    "# this is required for running in a Jupyter Notebook. \n",
    "nest_asyncio.apply()"
   ]
  },
  {
   "cell_type": "code",
   "execution_count": 4,
   "metadata": {},
   "outputs": [
    {
     "data": {
      "text/plain": [
       "< time at: 2023-07-10T23:02:03.659190+00:00 UTU:None >"
      ]
     },
     "execution_count": 4,
     "metadata": {},
     "output_type": "execute_result"
    }
   ],
   "source": [
    "time = time.Time(c)\n",
    "time"
   ]
  },
  {
   "attachments": {},
   "cell_type": "markdown",
   "metadata": {},
   "source": [
    "The time object doesn't query the graph until it is initialized. "
   ]
  },
  {
   "cell_type": "code",
   "execution_count": 5,
   "metadata": {},
   "outputs": [
    {
     "data": {
      "text/plain": [
       "< time at: 2023-07-10T23:02:03.659190+00:00 UTU:28297 >"
      ]
     },
     "execution_count": 5,
     "metadata": {},
     "output_type": "execute_result"
    }
   ],
   "source": [
    "time.get_current_UTU()\n",
    "time"
   ]
  },
  {
   "attachments": {},
   "cell_type": "markdown",
   "metadata": {},
   "source": [
    "The process just takes the UTU, adds 1 and patches. "
   ]
  },
  {
   "cell_type": "code",
   "execution_count": 6,
   "metadata": {},
   "outputs": [
    {
     "data": {
      "text/plain": [
       "'currentTime was updated from:28297 to: 28298'"
      ]
     },
     "execution_count": 6,
     "metadata": {},
     "output_type": "execute_result"
    }
   ],
   "source": [
    "time.global_ticker()"
   ]
  },
  {
   "attachments": {},
   "cell_type": "markdown",
   "metadata": {},
   "source": [
    "You can confirm that it was updated by re-running the `get_current_UTU`. This does not cause an update to the graph, but it does update the UTU in the time object. "
   ]
  },
  {
   "cell_type": "code",
   "execution_count": 7,
   "metadata": {},
   "outputs": [
    {
     "data": {
      "text/plain": [
       "< time at: 2023-07-10T23:02:03.659190+00:00 UTU:28298 >"
      ]
     },
     "execution_count": 7,
     "metadata": {},
     "output_type": "execute_result"
    }
   ],
   "source": [
    "time.get_current_UTU()\n",
    "time"
   ]
  },
  {
   "cell_type": "code",
   "execution_count": null,
   "metadata": {},
   "outputs": [],
   "source": []
  }
 ],
 "metadata": {
  "interpreter": {
   "hash": "625a17269cb94aebb094cbcf5e0e8340f26b69d46569da60e8fc69439048adbf"
  },
  "kernelspec": {
   "display_name": "Python 3.7.0 ('exoplanets')",
   "language": "python",
   "name": "python3"
  },
  "language_info": {
   "codemirror_mode": {
    "name": "ipython",
    "version": 3
   },
   "file_extension": ".py",
   "mimetype": "text/x-python",
   "name": "python",
   "nbconvert_exporter": "python",
   "pygments_lexer": "ipython3",
   "version": "3.8.16"
  },
  "orig_nbformat": 4
 },
 "nbformat": 4,
 "nbformat_minor": 2
}
