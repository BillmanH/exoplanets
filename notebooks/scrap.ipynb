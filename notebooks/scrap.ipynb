{
 "cells": [
  {
   "cell_type": "code",
   "execution_count": 1,
   "metadata": {},
   "outputs": [],
   "source": [
    "import sys, os\n",
    "import pandas as pd\n",
    "import altair as alt\n",
    "sys.path.append('..')\n",
    "\n",
    "import  ssl, asyncio\n",
    "\n",
    "ssl._create_default_https_context = ssl._create_unverified_context\n",
    "asyncio.set_event_loop_policy(asyncio.WindowsSelectorEventLoopPolicy())\n",
    "import nest_asyncio\n",
    "# this is required for running in a Jupyter Notebook. \n",
    "\n",
    "nest_asyncio.apply()\n",
    "\n",
    "PII_cols = ['username','userguid','owner']"
   ]
  },
  {
   "cell_type": "code",
   "execution_count": 2,
   "metadata": {},
   "outputs": [
    {
     "name": "stdout",
     "output_type": "stream",
     "text": [
      "executing local windows deployment\n"
     ]
    }
   ],
   "source": [
    "from app.connectors.cmdb_graph import CosmosdbClient\n",
    "c = CosmosdbClient()"
   ]
  },
  {
   "cell_type": "code",
   "execution_count": 3,
   "metadata": {},
   "outputs": [
    {
     "data": {
      "text/plain": [
       "[8004]"
      ]
     },
     "execution_count": 3,
     "metadata": {},
     "output_type": "execute_result"
    }
   ],
   "source": [
    "c.run_query()\n",
    "c.res"
   ]
  },
  {
   "cell_type": "code",
   "execution_count": 6,
   "metadata": {},
   "outputs": [
    {
     "data": {
      "text/plain": [
       "[{'name': 'Cia Han',\n",
       "  'objid': '3932360132996',\n",
       "  'conformity': 0.46,\n",
       "  'literacy': 0.444,\n",
       "  'aggression': 0.475,\n",
       "  'constitution': 0.535,\n",
       "  'health': 0.7,\n",
       "  'isIn': '1702764608571',\n",
       "  'industry': 0.505,\n",
       "  'wealth': 0.4745,\n",
       "  'factionLoyalty': 0.478,\n",
       "  'isIdle': 'true',\n",
       "  'userguid': '8d5b667f-b225-4641-b499-73b77558ff86',\n",
       "  'objtype': 'pop',\n",
       "  'id': '3932360132996'}]"
      ]
     },
     "execution_count": 6,
     "metadata": {},
     "output_type": "execute_result"
    }
   ],
   "source": [
    "userguid=\"8d5b667f-b225-4641-b499-73b77558ff86\"\n",
    "objid = \"3932360132996\"\n",
    "\n",
    "system_query = (\n",
    "        f\"g.V().has('objid','{objid}').valueMap()\"\n",
    "    )\n",
    "c.run_query(system_query)\n",
    "data = c.clean_nodes(c.res)\n",
    "data"
   ]
  },
  {
   "cell_type": "code",
   "execution_count": 8,
   "metadata": {},
   "outputs": [
    {
     "data": {
      "text/plain": [
       "[]"
      ]
     },
     "execution_count": 8,
     "metadata": {},
     "output_type": "execute_result"
    }
   ],
   "source": [
    "system_query = (\n",
    "        f\"g.V().has('objid','{objid}').out('owns').valueMap()\"\n",
    "    )\n",
    "c.run_query(system_query)\n",
    "data = c.clean_nodes(c.res)\n",
    "data"
   ]
  },
  {
   "cell_type": "code",
   "execution_count": 12,
   "metadata": {},
   "outputs": [
    {
     "name": "stdout",
     "output_type": "stream",
     "text": [
      "1.122\n"
     ]
    }
   ],
   "source": [
    "print(data[0]['radius'])"
   ]
  },
  {
   "cell_type": "code",
   "execution_count": 14,
   "metadata": {},
   "outputs": [
    {
     "data": {
      "text/plain": [
       "[]"
      ]
     },
     "execution_count": 14,
     "metadata": {},
     "output_type": "execute_result"
    }
   ],
   "source": [
    "query=\"g.V().haslabel('planet').has('objid', '4904917696767').in('orbits').valuemap()\"\n",
    "c.run_query(query)\n",
    "data = c.clean_nodes(c.res)\n",
    "data"
   ]
  },
  {
   "cell_type": "code",
   "execution_count": 8,
   "metadata": {},
   "outputs": [
    {
     "name": "stdout",
     "output_type": "stream",
     "text": [
      "1.221\n",
      "1.1221\n"
     ]
    }
   ],
   "source": [
    "for item in data:\n",
    "    print(item['orbitsDistance'])"
   ]
  },
  {
   "cell_type": "code",
   "execution_count": 14,
   "metadata": {},
   "outputs": [
    {
     "data": {
      "text/plain": [
       "\"g.V().hasLabel('system').has('userguid','8d5b667f-b225-4641-b499-73b77558ff86').valueMap()\""
      ]
     },
     "execution_count": 14,
     "metadata": {},
     "output_type": "execute_result"
    }
   ],
   "source": [
    "system_query"
   ]
  },
  {
   "cell_type": "code",
   "execution_count": null,
   "metadata": {},
   "outputs": [],
   "source": []
  }
 ],
 "metadata": {
  "kernelspec": {
   "display_name": "exoplanets",
   "language": "python",
   "name": "python3"
  },
  "language_info": {
   "codemirror_mode": {
    "name": "ipython",
    "version": 3
   },
   "file_extension": ".py",
   "mimetype": "text/x-python",
   "name": "python",
   "nbconvert_exporter": "python",
   "pygments_lexer": "ipython3",
   "version": "3.8.16"
  }
 },
 "nbformat": 4,
 "nbformat_minor": 2
}
