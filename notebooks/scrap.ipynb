{
 "cells": [
  {
   "cell_type": "code",
   "execution_count": 1,
   "metadata": {},
   "outputs": [],
   "source": [
    "import sys, os\n",
    "import pandas as pd\n",
    "import altair as alt\n",
    "sys.path.append('..')\n",
    "\n",
    "import  ssl, asyncio\n",
    "\n",
    "ssl._create_default_https_context = ssl._create_unverified_context\n",
    "asyncio.set_event_loop_policy(asyncio.WindowsSelectorEventLoopPolicy())\n",
    "import nest_asyncio\n",
    "# this is required for running in a Jupyter Notebook. \n",
    "\n",
    "nest_asyncio.apply()\n",
    "\n",
    "PII_cols = ['username','userguid','owner']"
   ]
  },
  {
   "cell_type": "code",
   "execution_count": 2,
   "metadata": {},
   "outputs": [
    {
     "name": "stdout",
     "output_type": "stream",
     "text": [
      "executing local windows deployment\n"
     ]
    }
   ],
   "source": [
    "from app.connectors.cmdb_graph import CosmosdbClient\n",
    "c = CosmosdbClient()"
   ]
  },
  {
   "cell_type": "code",
   "execution_count": 3,
   "metadata": {},
   "outputs": [
    {
     "data": {
      "text/plain": [
       "[7972]"
      ]
     },
     "execution_count": 3,
     "metadata": {},
     "output_type": "execute_result"
    }
   ],
   "source": [
    "c.run_query()\n",
    "c.res"
   ]
  },
  {
   "cell_type": "code",
   "execution_count": 6,
   "metadata": {},
   "outputs": [
    {
     "data": {
      "text/plain": [
       "[]"
      ]
     },
     "execution_count": 6,
     "metadata": {},
     "output_type": "execute_result"
    }
   ],
   "source": [
    "userguid=\"8d5b667f-b225-4641-b499-73b77558ff86\"\n",
    "\n",
    "system_query = (\n",
    "        f\"g.V().hasLabel('system').has('userguid','{userguid}').has('isHomeSystem','true').valueMap()\"\n",
    "    )\n",
    "c.run_query(system_query)\n",
    "data = c.clean_nodes(c.res)\n",
    "data"
   ]
  },
  {
   "cell_type": "code",
   "execution_count": 19,
   "metadata": {},
   "outputs": [
    {
     "data": {
      "text/plain": [
       "[{'last_updated': '2024-08-09T10:41:25',\n",
       "  'objid': '3025284578519',\n",
       "  'type': 'pre_beta_account',\n",
       "  'username': 'William Harding',\n",
       "  'userguid': '8d5b667f-b225-4641-b499-73b77558ff86',\n",
       "  'created': '2024-01-04T13:12:25',\n",
       "  'last_used': '2024-01-04T13:12:25',\n",
       "  'objtype': 'account',\n",
       "  'id': '3025284578519'}]"
      ]
     },
     "execution_count": 19,
     "metadata": {},
     "output_type": "execute_result"
    }
   ],
   "source": [
    "query=\"g.V().haslabel('account').has('userguid', '8d5b667f-b225-4641-b499-73b77558ff86').valuemap()\"\n",
    "c.run_query(query)\n",
    "data = c.clean_nodes(c.res)\n",
    "data"
   ]
  },
  {
   "cell_type": "code",
   "execution_count": 16,
   "metadata": {},
   "outputs": [
    {
     "ename": "IndexError",
     "evalue": "list index out of range",
     "output_type": "error",
     "traceback": [
      "\u001b[1;31m---------------------------------------------------------------------------\u001b[0m",
      "\u001b[1;31mIndexError\u001b[0m                                Traceback (most recent call last)",
      "Cell \u001b[1;32mIn[16], line 13\u001b[0m\n\u001b[0;32m     11\u001b[0m c\u001b[38;5;241m.\u001b[39mrun_queries()   \n\u001b[0;32m     12\u001b[0m nodes \u001b[38;5;241m=\u001b[39m c\u001b[38;5;241m.\u001b[39mres[nodes_query]\n\u001b[1;32m---> 13\u001b[0m system \u001b[38;5;241m=\u001b[39m \u001b[43mc\u001b[49m\u001b[38;5;241;43m.\u001b[39;49m\u001b[43mclean_nodes\u001b[49m\u001b[43m(\u001b[49m\u001b[43mc\u001b[49m\u001b[38;5;241;43m.\u001b[39;49m\u001b[43mres\u001b[49m\u001b[43m[\u001b[49m\u001b[43msystem_query\u001b[49m\u001b[43m]\u001b[49m\u001b[43m)\u001b[49m\u001b[43m[\u001b[49m\u001b[38;5;241;43m0\u001b[39;49m\u001b[43m]\u001b[49m\n\u001b[0;32m     14\u001b[0m edges \u001b[38;5;241m=\u001b[39m [{\u001b[38;5;124m\"\u001b[39m\u001b[38;5;124msource\u001b[39m\u001b[38;5;124m\"\u001b[39m:i[\u001b[38;5;124m'\u001b[39m\u001b[38;5;124mobjid\u001b[39m\u001b[38;5;124m'\u001b[39m][\u001b[38;5;241m0\u001b[39m],\u001b[38;5;124m\"\u001b[39m\u001b[38;5;124mtarget\u001b[39m\u001b[38;5;124m\"\u001b[39m:i[\u001b[38;5;124m'\u001b[39m\u001b[38;5;124morbitsId\u001b[39m\u001b[38;5;124m'\u001b[39m][\u001b[38;5;241m0\u001b[39m],\u001b[38;5;124m\"\u001b[39m\u001b[38;5;124mlabel\u001b[39m\u001b[38;5;124m\"\u001b[39m:\u001b[38;5;124m\"\u001b[39m\u001b[38;5;124morbits\u001b[39m\u001b[38;5;124m\"\u001b[39m} \u001b[38;5;28;01mfor\u001b[39;00m i \u001b[38;5;129;01min\u001b[39;00m nodes \u001b[38;5;28;01mif\u001b[39;00m \u001b[38;5;124m\"\u001b[39m\u001b[38;5;124morbitsId\u001b[39m\u001b[38;5;124m\"\u001b[39m \u001b[38;5;129;01min\u001b[39;00m i\u001b[38;5;241m.\u001b[39mkeys()]\n\u001b[0;32m     15\u001b[0m system \u001b[38;5;241m=\u001b[39m {\u001b[38;5;124m\"\u001b[39m\u001b[38;5;124mnodes\u001b[39m\u001b[38;5;124m\"\u001b[39m: c\u001b[38;5;241m.\u001b[39mclean_nodes(nodes), \u001b[38;5;124m\"\u001b[39m\u001b[38;5;124medges\u001b[39m\u001b[38;5;124m\"\u001b[39m: edges, \u001b[38;5;124m\"\u001b[39m\u001b[38;5;124msystem\u001b[39m\u001b[38;5;124m\"\u001b[39m:system}\n",
      "\u001b[1;31mIndexError\u001b[0m: list index out of range"
     ]
    }
   ],
   "source": [
    "# If they just created a new game, they will only have one system. \n",
    "nodes_query = (\n",
    "    f\"g.V().hasLabel('system').has('userguid','{userguid}').in().valueMap()\"\n",
    ")\n",
    "system_query = (\n",
    "    f\"g.V().hasLabel('system').has('userguid','{userguid}').valueMap()\"\n",
    ")\n",
    "c = CosmosdbClient()\n",
    "c.add_query(nodes_query)\n",
    "c.add_query(system_query)\n",
    "c.run_queries()   \n",
    "nodes = c.res[nodes_query]\n",
    "system = c.clean_nodes(c.res[system_query])[0]\n",
    "edges = [{\"source\":i['objid'][0],\"target\":i['orbitsId'][0],\"label\":\"orbits\"} for i in nodes if \"orbitsId\" in i.keys()]\n",
    "system = {\"nodes\": c.clean_nodes(nodes), \"edges\": edges, \"system\":system}"
   ]
  },
  {
   "cell_type": "code",
   "execution_count": 18,
   "metadata": {},
   "outputs": [
    {
     "data": {
      "text/plain": [
       "True"
      ]
     },
     "execution_count": 18,
     "metadata": {},
     "output_type": "execute_result"
    }
   ],
   "source": [
    "c.res[system_query]==[]"
   ]
  },
  {
   "cell_type": "code",
   "execution_count": 14,
   "metadata": {},
   "outputs": [
    {
     "data": {
      "text/plain": [
       "\"g.V().hasLabel('system').has('userguid','8d5b667f-b225-4641-b499-73b77558ff86').valueMap()\""
      ]
     },
     "execution_count": 14,
     "metadata": {},
     "output_type": "execute_result"
    }
   ],
   "source": [
    "system_query"
   ]
  },
  {
   "cell_type": "code",
   "execution_count": null,
   "metadata": {},
   "outputs": [],
   "source": []
  }
 ],
 "metadata": {
  "kernelspec": {
   "display_name": "exoplanets",
   "language": "python",
   "name": "python3"
  },
  "language_info": {
   "codemirror_mode": {
    "name": "ipython",
    "version": 3
   },
   "file_extension": ".py",
   "mimetype": "text/x-python",
   "name": "python",
   "nbconvert_exporter": "python",
   "pygments_lexer": "ipython3",
   "version": "3.8.16"
  }
 },
 "nbformat": 4,
 "nbformat_minor": 2
}
