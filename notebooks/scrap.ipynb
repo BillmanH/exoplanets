{
 "cells": [
  {
   "cell_type": "code",
   "execution_count": 1,
   "metadata": {},
   "outputs": [],
   "source": [
    "import sys, os\n",
    "import pandas as pd\n",
    "import altair as alt\n",
    "sys.path.append('..')\n",
    "\n",
    "import  ssl, asyncio\n",
    "\n",
    "ssl._create_default_https_context = ssl._create_unverified_context\n",
    "asyncio.set_event_loop_policy(asyncio.WindowsSelectorEventLoopPolicy())\n",
    "import nest_asyncio\n",
    "# this is required for running in a Jupyter Notebook. \n",
    "\n",
    "nest_asyncio.apply()\n",
    "\n",
    "PII_cols = ['username','userguid','owner']"
   ]
  },
  {
   "cell_type": "code",
   "execution_count": 2,
   "metadata": {},
   "outputs": [
    {
     "name": "stdout",
     "output_type": "stream",
     "text": [
      "executing local windows deployment\n"
     ]
    }
   ],
   "source": [
    "from app.connectors.cmdb_graph import CosmosdbClient\n",
    "c = CosmosdbClient()"
   ]
  },
  {
   "cell_type": "code",
   "execution_count": 3,
   "metadata": {},
   "outputs": [
    {
     "data": {
      "text/plain": [
       "[8004]"
      ]
     },
     "execution_count": 3,
     "metadata": {},
     "output_type": "execute_result"
    }
   ],
   "source": [
    "c.run_query()\n",
    "c.res"
   ]
  },
  {
   "cell_type": "code",
   "execution_count": 4,
   "metadata": {},
   "outputs": [
    {
     "data": {
      "text/plain": [
       "[{'objid': '6541091432921',\n",
       "  'name': 'Beisones',\n",
       "  'class': 'ordered',\n",
       "  'isHomeSystem': 'true',\n",
       "  'glat': -37.199,\n",
       "  'glon': -14.805,\n",
       "  'gelat': -1.879,\n",
       "  'userguid': '8d5b667f-b225-4641-b499-73b77558ff86',\n",
       "  'objtype': 'system',\n",
       "  'id': '6541091432921'}]"
      ]
     },
     "execution_count": 4,
     "metadata": {},
     "output_type": "execute_result"
    }
   ],
   "source": [
    "userguid=\"8d5b667f-b225-4641-b499-73b77558ff86\"\n",
    "\n",
    "system_query = (\n",
    "        f\"g.V().hasLabel('system').has('userguid','{userguid}').has('isHomeSystem','true').valueMap()\"\n",
    "    )\n",
    "c.run_query(system_query)\n",
    "data = c.clean_nodes(c.res)\n",
    "data"
   ]
  },
  {
   "cell_type": "code",
   "execution_count": 11,
   "metadata": {},
   "outputs": [
    {
     "data": {
      "text/plain": [
       "[{'name': 'Dalfo',\n",
       "  'class': 'terrestrial',\n",
       "  'objid': '5596113108693',\n",
       "  'pop_cap': 100,\n",
       "  'atmosphere': '[{Argon: 0.053}, {Carbon Dioxide: 0.05}, {Helium: 0.034}, {Hydrogen: 0.351}, {Methane: 0.009}, {Nitrogen: 0.257}, {Oxygen: 0.198}, {Sodium: 0.048}]',\n",
       "  'radius': 1.122,\n",
       "  'mass': 0.696,\n",
       "  'orbitsDistance': 1.423,\n",
       "  'orbitsId': '1377089140976',\n",
       "  'orbitsName': 'Gonvilkreis',\n",
       "  'isSupportsLife': 'true',\n",
       "  'isPopulated': 'true',\n",
       "  'isHomeworld': 'true',\n",
       "  'userguid': '8d5b667f-b225-4641-b499-73b77558ff86',\n",
       "  'objtype': 'planet',\n",
       "  'id': '5596113108693'}]"
      ]
     },
     "execution_count": 11,
     "metadata": {},
     "output_type": "execute_result"
    }
   ],
   "source": [
    "query=\"g.V().haslabel('planet').has('name', 'Dalfo').valuemap()\"\n",
    "c.run_query(query)\n",
    "data = c.clean_nodes(c.res)\n",
    "data"
   ]
  },
  {
   "cell_type": "code",
   "execution_count": 12,
   "metadata": {},
   "outputs": [
    {
     "name": "stdout",
     "output_type": "stream",
     "text": [
      "1.122\n"
     ]
    }
   ],
   "source": [
    "print(data[0]['radius'])"
   ]
  },
  {
   "cell_type": "code",
   "execution_count": 13,
   "metadata": {},
   "outputs": [
    {
     "data": {
      "text/plain": [
       "[{'name': 'Sartily',\n",
       "  'class': 'rocky',\n",
       "  'objid': '7275868425357',\n",
       "  'pop_cap': 100,\n",
       "  'orbitsId': '8447604318319',\n",
       "  'orbitsName': 'Colkraluley',\n",
       "  'orbitsDistance': 3.983,\n",
       "  'mass': 0.0003,\n",
       "  'radius': 0.2171,\n",
       "  'isSupportsLife': 'false',\n",
       "  'isPopulated': 'false',\n",
       "  'userguid': '8d5b667f-b225-4641-b499-73b77558ff86',\n",
       "  'objtype': 'moon',\n",
       "  'id': '7275868425357'},\n",
       " {'name': 'Loulu',\n",
       "  'class': 'terrestrial',\n",
       "  'objid': '0483363553159',\n",
       "  'pop_cap': 100,\n",
       "  'orbitsId': '8447604318319',\n",
       "  'orbitsName': 'Colkraluley',\n",
       "  'orbitsDistance': 3.9771,\n",
       "  'mass': 0.0157,\n",
       "  'radius': 0.1371,\n",
       "  'isSupportsLife': 'false',\n",
       "  'isPopulated': 'false',\n",
       "  'userguid': '8d5b667f-b225-4641-b499-73b77558ff86',\n",
       "  'objtype': 'moon',\n",
       "  'id': '0483363553159'},\n",
       " {'name': 'Rocbas',\n",
       "  'class': 'terrestrial',\n",
       "  'objid': '7792172628270',\n",
       "  'pop_cap': 100,\n",
       "  'orbitsId': '8447604318319',\n",
       "  'orbitsName': 'Colkraluley',\n",
       "  'orbitsDistance': 3.9771,\n",
       "  'mass': 0.0146,\n",
       "  'radius': 0.5775,\n",
       "  'isSupportsLife': 'false',\n",
       "  'isPopulated': 'false',\n",
       "  'userguid': '8d5b667f-b225-4641-b499-73b77558ff86',\n",
       "  'objtype': 'moon',\n",
       "  'id': '7792172628270'},\n",
       " {'name': 'Sunzu',\n",
       "  'class': 'rocky',\n",
       "  'objid': '2809908716289',\n",
       "  'pop_cap': 100,\n",
       "  'orbitsId': '8447604318319',\n",
       "  'orbitsName': 'Colkraluley',\n",
       "  'orbitsDistance': 3.9771,\n",
       "  'mass': 0.0004,\n",
       "  'radius': 0.1816,\n",
       "  'isSupportsLife': 'false',\n",
       "  'isPopulated': 'false',\n",
       "  'userguid': '8d5b667f-b225-4641-b499-73b77558ff86',\n",
       "  'objtype': 'moon',\n",
       "  'id': '2809908716289'},\n",
       " {'name': 'Pro',\n",
       "  'class': 'rocky',\n",
       "  'objid': '0330902037019',\n",
       "  'pop_cap': 100,\n",
       "  'orbitsId': '8447604318319',\n",
       "  'orbitsName': 'Colkraluley',\n",
       "  'orbitsDistance': 4.045,\n",
       "  'mass': 0.0001,\n",
       "  'radius': 0.3615,\n",
       "  'isSupportsLife': 'false',\n",
       "  'isPopulated': 'false',\n",
       "  'userguid': '8d5b667f-b225-4641-b499-73b77558ff86',\n",
       "  'objtype': 'moon',\n",
       "  'id': '0330902037019'},\n",
       " {'name': 'Tauvar',\n",
       "  'class': 'ice',\n",
       "  'objid': '0996875068445',\n",
       "  'pop_cap': 100,\n",
       "  'orbitsId': '8447604318319',\n",
       "  'orbitsName': 'Colkraluley',\n",
       "  'orbitsDistance': 4.055,\n",
       "  'mass': 0.0214,\n",
       "  'radius': 0.1609,\n",
       "  'isSupportsLife': 'false',\n",
       "  'isPopulated': 'false',\n",
       "  'userguid': '8d5b667f-b225-4641-b499-73b77558ff86',\n",
       "  'objtype': 'moon',\n",
       "  'id': '0996875068445'}]"
      ]
     },
     "execution_count": 13,
     "metadata": {},
     "output_type": "execute_result"
    }
   ],
   "source": [
    "query=\"g.V().haslabel('planet').has('objid', '8447604318319').in('orbits').valuemap()\"\n",
    "c.run_query(query)\n",
    "data = c.clean_nodes(c.res)\n",
    "data"
   ]
  },
  {
   "cell_type": "code",
   "execution_count": 8,
   "metadata": {},
   "outputs": [
    {
     "name": "stdout",
     "output_type": "stream",
     "text": [
      "1.221\n",
      "1.1221\n"
     ]
    }
   ],
   "source": [
    "for item in data:\n",
    "    print(item['orbitsDistance'])"
   ]
  },
  {
   "cell_type": "code",
   "execution_count": 14,
   "metadata": {},
   "outputs": [
    {
     "data": {
      "text/plain": [
       "\"g.V().hasLabel('system').has('userguid','8d5b667f-b225-4641-b499-73b77558ff86').valueMap()\""
      ]
     },
     "execution_count": 14,
     "metadata": {},
     "output_type": "execute_result"
    }
   ],
   "source": [
    "system_query"
   ]
  },
  {
   "cell_type": "code",
   "execution_count": null,
   "metadata": {},
   "outputs": [],
   "source": []
  }
 ],
 "metadata": {
  "kernelspec": {
   "display_name": "exoplanets",
   "language": "python",
   "name": "python3"
  },
  "language_info": {
   "codemirror_mode": {
    "name": "ipython",
    "version": 3
   },
   "file_extension": ".py",
   "mimetype": "text/x-python",
   "name": "python",
   "nbconvert_exporter": "python",
   "pygments_lexer": "ipython3",
   "version": "3.8.16"
  }
 },
 "nbformat": 4,
 "nbformat_minor": 2
}
