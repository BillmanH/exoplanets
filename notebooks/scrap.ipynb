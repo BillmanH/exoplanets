{
 "cells": [
  {
   "cell_type": "code",
   "execution_count": 1,
   "metadata": {},
   "outputs": [],
   "source": [
    "import sys, os\n",
    "import pandas as pd\n",
    "import altair as alt\n",
    "sys.path.append('..')\n",
    "\n",
    "import  ssl, asyncio\n",
    "\n",
    "ssl._create_default_https_context = ssl._create_unverified_context\n",
    "asyncio.set_event_loop_policy(asyncio.WindowsSelectorEventLoopPolicy())\n",
    "import nest_asyncio\n",
    "# this is required for running in a Jupyter Notebook. \n",
    "\n",
    "nest_asyncio.apply()\n",
    "\n",
    "PII_cols = ['username','userguid','owner']"
   ]
  },
  {
   "cell_type": "code",
   "execution_count": 2,
   "metadata": {},
   "outputs": [
    {
     "name": "stdout",
     "output_type": "stream",
     "text": [
      "executing local windows deployment\n"
     ]
    }
   ],
   "source": [
    "from app.connectors.cmdb_graph import CosmosdbClient\n",
    "c = CosmosdbClient()"
   ]
  },
  {
   "cell_type": "code",
   "execution_count": 3,
   "metadata": {},
   "outputs": [
    {
     "data": {
      "text/plain": [
       "[8006]"
      ]
     },
     "execution_count": 3,
     "metadata": {},
     "output_type": "execute_result"
    }
   ],
   "source": [
    "c.run_query()\n",
    "c.res"
   ]
  },
  {
   "cell_type": "code",
   "execution_count": 8,
   "metadata": {},
   "outputs": [
    {
     "data": {
      "text/plain": [
       "[{'name': 'Haivilcedia Hyhua',\n",
       "  'objid': '5643704944314',\n",
       "  'conformity': 0.291,\n",
       "  'literacy': 0.532,\n",
       "  'aggression': 0.42,\n",
       "  'constitution': 0.745,\n",
       "  'health': 0.7,\n",
       "  'isIn': '1226822041052',\n",
       "  'industry': 0.5825,\n",
       "  'wealth': 0.5572,\n",
       "  'factionLoyalty': 0.093,\n",
       "  'isIdle': 'true',\n",
       "  'userguid': '8d5b667f-b225-4641-b499-73b77558ff86',\n",
       "  'objtype': 'pop',\n",
       "  'id': '5643704944314'},\n",
       " {'name': 'Haivilcedia Kan',\n",
       "  'objid': '4951851379568',\n",
       "  'conformity': 0.405,\n",
       "  'literacy': 0.41,\n",
       "  'aggression': 0.313,\n",
       "  'constitution': 0.75,\n",
       "  'health': 0.7,\n",
       "  'isIn': '1226822041052',\n",
       "  'industry': 0.5315,\n",
       "  'wealth': 0.4708,\n",
       "  'factionLoyalty': 0.317,\n",
       "  'isIdle': 'true',\n",
       "  'userguid': '8d5b667f-b225-4641-b499-73b77558ff86',\n",
       "  'objtype': 'pop',\n",
       "  'id': '4951851379568'},\n",
       " {'name': 'Haivilcedia Tocas',\n",
       "  'objid': '6585411810084',\n",
       "  'conformity': 0.211,\n",
       "  'literacy': 0.564,\n",
       "  'aggression': 0.357,\n",
       "  'constitution': 0.668,\n",
       "  'health': 0.7,\n",
       "  'isIn': '1226822041052',\n",
       "  'industry': 0.5125,\n",
       "  'wealth': 0.5382,\n",
       "  'factionLoyalty': 0.38,\n",
       "  'isIdle': 'true',\n",
       "  'userguid': '8d5b667f-b225-4641-b499-73b77558ff86',\n",
       "  'objtype': 'pop',\n",
       "  'id': '6585411810084'}]"
      ]
     },
     "execution_count": 8,
     "metadata": {},
     "output_type": "execute_result"
    }
   ],
   "source": [
    "userguid=\"8d5b667f-b225-4641-b499-73b77558ff86\"\n",
    "objid = \"1226822041052\"\n",
    "\n",
    "system_query = (\n",
    "        f\"g.V().has('objid','{objid}').in('isIn').valueMap()\"\n",
    "    )\n",
    "c.run_query(system_query)\n",
    "data = c.clean_nodes(c.res)\n",
    "data"
   ]
  },
  {
   "cell_type": "code",
   "execution_count": 11,
   "metadata": {},
   "outputs": [
    {
     "data": {
      "text/plain": [
       "[{'name': 'Dalfo',\n",
       "  'class': 'terrestrial',\n",
       "  'objid': '5596113108693',\n",
       "  'pop_cap': 100,\n",
       "  'atmosphere': '[{Argon: 0.053}, {Carbon Dioxide: 0.05}, {Helium: 0.034}, {Hydrogen: 0.351}, {Methane: 0.009}, {Nitrogen: 0.257}, {Oxygen: 0.198}, {Sodium: 0.048}]',\n",
       "  'radius': 1.122,\n",
       "  'mass': 0.696,\n",
       "  'orbitsDistance': 1.423,\n",
       "  'orbitsId': '1377089140976',\n",
       "  'orbitsName': 'Gonvilkreis',\n",
       "  'isSupportsLife': 'true',\n",
       "  'isPopulated': 'true',\n",
       "  'isHomeworld': 'true',\n",
       "  'userguid': '8d5b667f-b225-4641-b499-73b77558ff86',\n",
       "  'objtype': 'planet',\n",
       "  'id': '5596113108693'}]"
      ]
     },
     "execution_count": 11,
     "metadata": {},
     "output_type": "execute_result"
    }
   ],
   "source": [
    "query=\"g.V().haslabel('planet').has('name', 'Dalfo').valuemap()\"\n",
    "c.run_query(query)\n",
    "data = c.clean_nodes(c.res)\n",
    "data"
   ]
  },
  {
   "cell_type": "code",
   "execution_count": 12,
   "metadata": {},
   "outputs": [
    {
     "name": "stdout",
     "output_type": "stream",
     "text": [
      "1.122\n"
     ]
    }
   ],
   "source": [
    "print(data[0]['radius'])"
   ]
  },
  {
   "cell_type": "code",
   "execution_count": 14,
   "metadata": {},
   "outputs": [
    {
     "data": {
      "text/plain": [
       "[]"
      ]
     },
     "execution_count": 14,
     "metadata": {},
     "output_type": "execute_result"
    }
   ],
   "source": [
    "query=\"g.V().haslabel('planet').has('objid', '4904917696767').in('orbits').valuemap()\"\n",
    "c.run_query(query)\n",
    "data = c.clean_nodes(c.res)\n",
    "data"
   ]
  },
  {
   "cell_type": "code",
   "execution_count": 8,
   "metadata": {},
   "outputs": [
    {
     "name": "stdout",
     "output_type": "stream",
     "text": [
      "1.221\n",
      "1.1221\n"
     ]
    }
   ],
   "source": [
    "for item in data:\n",
    "    print(item['orbitsDistance'])"
   ]
  },
  {
   "cell_type": "code",
   "execution_count": 14,
   "metadata": {},
   "outputs": [
    {
     "data": {
      "text/plain": [
       "\"g.V().hasLabel('system').has('userguid','8d5b667f-b225-4641-b499-73b77558ff86').valueMap()\""
      ]
     },
     "execution_count": 14,
     "metadata": {},
     "output_type": "execute_result"
    }
   ],
   "source": [
    "system_query"
   ]
  },
  {
   "cell_type": "code",
   "execution_count": null,
   "metadata": {},
   "outputs": [],
   "source": []
  }
 ],
 "metadata": {
  "kernelspec": {
   "display_name": "exoplanets",
   "language": "python",
   "name": "python3"
  },
  "language_info": {
   "codemirror_mode": {
    "name": "ipython",
    "version": 3
   },
   "file_extension": ".py",
   "mimetype": "text/x-python",
   "name": "python",
   "nbconvert_exporter": "python",
   "pygments_lexer": "ipython3",
   "version": "3.8.16"
  }
 },
 "nbformat": 4,
 "nbformat_minor": 2
}
