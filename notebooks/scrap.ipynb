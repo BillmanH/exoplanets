{
 "cells": [
  {
   "cell_type": "code",
   "execution_count": 1,
   "metadata": {},
   "outputs": [],
   "source": [
    "import sys, os\n",
    "import pandas as pd\n",
    "import altair as alt\n",
    "sys.path.append('..')\n",
    "\n",
    "import  ssl, asyncio\n",
    "\n",
    "ssl._create_default_https_context = ssl._create_unverified_context\n",
    "asyncio.set_event_loop_policy(asyncio.WindowsSelectorEventLoopPolicy())\n",
    "import nest_asyncio\n",
    "# this is required for running in a Jupyter Notebook. \n",
    "\n",
    "nest_asyncio.apply()\n",
    "\n",
    "PII_cols = ['username','userguid','owner']"
   ]
  },
  {
   "cell_type": "code",
   "execution_count": 2,
   "metadata": {},
   "outputs": [
    {
     "name": "stdout",
     "output_type": "stream",
     "text": [
      "executing local windows deployment\n",
      "something wrong with your query: <class 'Exception'>\n"
     ]
    }
   ],
   "source": [
    "from app.connectors.cmdb_graph import CosmosdbClient\n",
    "c = CosmosdbClient()"
   ]
  },
  {
   "cell_type": "code",
   "execution_count": 3,
   "metadata": {},
   "outputs": [
    {
     "data": {
      "text/plain": [
       "[8070]"
      ]
     },
     "execution_count": 3,
     "metadata": {},
     "output_type": "execute_result"
    }
   ],
   "source": [
    "c.run_query()\n",
    "c.res"
   ]
  },
  {
   "cell_type": "markdown",
   "metadata": {},
   "source": [
    "EXOADMIN: Processing reduce_location_resource for: {'objid': '0373992054119', 'consumes': ['organics'], 'effuses': ['organic waste', 'plastics']}"
   ]
  },
  {
   "cell_type": "code",
   "execution_count": 5,
   "metadata": {},
   "outputs": [
    {
     "data": {
      "text/plain": [
       "'0373992054119'"
      ]
     },
     "execution_count": 5,
     "metadata": {},
     "output_type": "execute_result"
    }
   ],
   "source": [
    "message = {}\n",
    "message['agent'] = {'objid': '0373992054119', 'consumes': ['organics'], 'effuses': ['organic waste', 'plastics']}\n",
    "objid = message['agent']['objid']\n",
    "objid"
   ]
  },
  {
   "cell_type": "code",
   "execution_count": null,
   "metadata": {},
   "outputs": [
    {
     "data": {
      "text/plain": [
       "[{'name': 'Caltle Kes',\n",
       "  'objid': '0373992054119',\n",
       "  'conformity': 0.214,\n",
       "  'literacy': 0.817,\n",
       "  'aggression': 0.264,\n",
       "  'constitution': 0.874,\n",
       "  'health': 0.7,\n",
       "  'isIn': '9395973841455',\n",
       "  'industry': 0.569,\n",
       "  'wealth': 0.693,\n",
       "  'factionLoyalty': 0.403,\n",
       "  'isIdle': 'true',\n",
       "  'userguid': '8d5b667f-b225-4641-b499-73b77558ff86',\n",
       "  'objtype': 'pop',\n",
       "  'id': '0373992054119'}]"
      ]
     },
     "execution_count": 14,
     "metadata": {},
     "output_type": "execute_result"
    }
   ],
   "source": [
    "system_query = (\n",
    "        f\"g.V().has('objid','0373992054119').valueMap()\"\n",
    "    )\n",
    "c.run_query(system_query)\n",
    "data = c.clean_nodes(c.res)\n",
    "data"
   ]
  },
  {
   "cell_type": "code",
   "execution_count": 26,
   "metadata": {},
   "outputs": [
    {
     "data": {
      "text/plain": [
       "[{'volume': 940.0,\n",
       "  'name': 'organics',\n",
       "  'objid': '0737043735055',\n",
       "  'max_volume': 970,\n",
       "  'description': 'bilogical material that can be consumed by pops',\n",
       "  'replenish_rate': 10,\n",
       "  'userguid': '8d5b667f-b225-4641-b499-73b77558ff86',\n",
       "  'objtype': 'resource',\n",
       "  'id': '0737043735055'}]"
      ]
     },
     "execution_count": 26,
     "metadata": {},
     "output_type": "execute_result"
    }
   ],
   "source": [
    "check_query = \"\"\"\n",
    "g.V().has('objid','6135105711350') .out('inhabits') .out('has').has('label','resource') .has('name','organics').valueMap()\n",
    "\"\"\"\n",
    "c.run_query(check_query)\n",
    "data = c.clean_nodes(c.res)\n",
    "data"
   ]
  },
  {
   "cell_type": "code",
   "execution_count": 27,
   "metadata": {},
   "outputs": [
    {
     "data": {
      "text/plain": [
       "[{'id': '0737043735055',\n",
       "  'label': 'resource',\n",
       "  'type': 'vertex',\n",
       "  'properties': {'volume': [{'id': 'b854883d-f46b-4433-93bd-88a7533747d2',\n",
       "     'value': 940}],\n",
       "   'name': [{'id': '6004d2b6-b651-4297-bd9c-357ab8576989',\n",
       "     'value': 'organics'}],\n",
       "   'objid': [{'id': '0737043735055|objid', 'value': '0737043735055'}],\n",
       "   'max_volume': [{'id': '573d2ff4-cf75-4268-8b61-36fd59a6e631',\n",
       "     'value': 970}],\n",
       "   'description': [{'id': '01ae5fec-dc13-4218-b57b-d9c376db2ba0',\n",
       "     'value': 'bilogical material that can be consumed by pops'}],\n",
       "   'replenish_rate': [{'id': '1f3777a5-ffeb-4331-8a03-40a44f212605',\n",
       "     'value': 10}],\n",
       "   'userguid': [{'id': '117122ed-b257-4ed7-93ef-fe1c11e19a32',\n",
       "     'value': '8d5b667f-b225-4641-b499-73b77558ff86'}],\n",
       "   'objtype': [{'id': '6a0e4b34-4bef-4ea7-9e0a-f9b0376cc90c',\n",
       "     'value': 'resource'}]}}]"
      ]
     },
     "execution_count": 27,
     "metadata": {},
     "output_type": "execute_result"
    }
   ],
   "source": [
    "objid = '6135105711350'\n",
    "new_volume = 940\n",
    "patch_resource_query = f\"\"\"\n",
    "    g.V().has('objid','{objid}')\n",
    "        .out('inhabits')\n",
    "        .out('has').has('label','resource')\n",
    "        .has('name','organics')\n",
    "        .property('volume',{new_volume})\n",
    "\"\"\"\n",
    "c.run_query(patch_resource_query)\n",
    "data = c.clean_nodes(c.res)\n",
    "data"
   ]
  },
  {
   "cell_type": "code",
   "execution_count": 25,
   "metadata": {},
   "outputs": [
    {
     "data": {
      "text/plain": [
       "[{'id': '0737043735055',\n",
       "  'label': 'resource',\n",
       "  'type': 'vertex',\n",
       "  'properties': {'volume': [{'id': '580ec7eb-bf14-4cfa-83b5-e6fd8462ad1d',\n",
       "     'value': 940.0}],\n",
       "   'name': [{'id': '6004d2b6-b651-4297-bd9c-357ab8576989',\n",
       "     'value': 'organics'}],\n",
       "   'objid': [{'id': '0737043735055|objid', 'value': '0737043735055'}],\n",
       "   'max_volume': [{'id': '573d2ff4-cf75-4268-8b61-36fd59a6e631',\n",
       "     'value': 970}],\n",
       "   'description': [{'id': '01ae5fec-dc13-4218-b57b-d9c376db2ba0',\n",
       "     'value': 'bilogical material that can be consumed by pops'}],\n",
       "   'replenish_rate': [{'id': '1f3777a5-ffeb-4331-8a03-40a44f212605',\n",
       "     'value': 10}],\n",
       "   'userguid': [{'id': '117122ed-b257-4ed7-93ef-fe1c11e19a32',\n",
       "     'value': '8d5b667f-b225-4641-b499-73b77558ff86'}],\n",
       "   'objtype': [{'id': '6a0e4b34-4bef-4ea7-9e0a-f9b0376cc90c',\n",
       "     'value': 'resource'}]}}]"
      ]
     },
     "execution_count": 25,
     "metadata": {},
     "output_type": "execute_result"
    }
   ],
   "source": [
    "check_query = (\n",
    "        \"g.V().has('objid','6135105711350') .out('inhabits') .out('has').has('label','resource') .has('name','organics') .property('volume',940.0)\"\n",
    "    )\n",
    "c.run_query(check_query)\n",
    "data = c.clean_nodes(c.res)\n",
    "data"
   ]
  },
  {
   "cell_type": "code",
   "execution_count": 5,
   "metadata": {},
   "outputs": [
    {
     "data": {
      "text/plain": [
       "[]"
      ]
     },
     "execution_count": 5,
     "metadata": {},
     "output_type": "execute_result"
    }
   ],
   "source": [
    "userguid=\"8d5b667f-b225-4641-b499-73b77558ff86\"\n",
    "objid = \"6497650893972\"\n",
    "\n",
    "system_query = (\n",
    "        f\"g.V().has('objid','{objid}').valueMap()\"\n",
    "    )\n",
    "c.run_query(system_query)\n",
    "data = c.clean_nodes(c.res)\n",
    "data"
   ]
  },
  {
   "cell_type": "code",
   "execution_count": 30,
   "metadata": {},
   "outputs": [
    {
     "data": {
      "text/plain": [
       "[{'name': 'Shipyard',\n",
       "  'objid': '2314469989851',\n",
       "  'ownedBy': '3195718763007',\n",
       "  'type': 'shipyard',\n",
       "  'description': 'Stores ships for the faction',\n",
       "  'owned_by': 'pop',\n",
       "  'faction_augments': '{wealth: -2}',\n",
       "  'requires_faction': '{infrastructure: 10}',\n",
       "  'requires_attr': '{industry: 0.1}',\n",
       "  'effort': '5',\n",
       "  'userguid': '8d5b667f-b225-4641-b499-73b77558ff86',\n",
       "  'objtype': 'building',\n",
       "  'id': '2314469989851'}]"
      ]
     },
     "execution_count": 30,
     "metadata": {},
     "output_type": "execute_result"
    }
   ],
   "source": [
    "userguid=\"8d5b667f-b225-4641-b499-73b77558ff86\"\n",
    "objid = \"0493222540853\"\n",
    "\n",
    "faction_shipyard = (\n",
    "        f\"g.V().has('objid','{objid}').in('isIn').has('label','pop').out('owns').has('type','shipyard').valueMap()\"\n",
    "    )\n",
    "c.run_query(faction_shipyard)\n",
    "data = c.clean_nodes(c.res)\n",
    "data"
   ]
  },
  {
   "cell_type": "code",
   "execution_count": 35,
   "metadata": {},
   "outputs": [
    {
     "data": {
      "text/html": [
       "<div>\n",
       "<style scoped>\n",
       "    .dataframe tbody tr th:only-of-type {\n",
       "        vertical-align: middle;\n",
       "    }\n",
       "\n",
       "    .dataframe tbody tr th {\n",
       "        vertical-align: top;\n",
       "    }\n",
       "\n",
       "    .dataframe thead th {\n",
       "        text-align: right;\n",
       "    }\n",
       "</style>\n",
       "<table border=\"1\" class=\"dataframe\">\n",
       "  <thead>\n",
       "    <tr style=\"text-align: right;\">\n",
       "      <th></th>\n",
       "      <th>name</th>\n",
       "      <th>actionType</th>\n",
       "      <th>weight</th>\n",
       "      <th>status</th>\n",
       "      <th>userguid</th>\n",
       "      <th>created_at</th>\n",
       "    </tr>\n",
       "  </thead>\n",
       "  <tbody>\n",
       "    <tr>\n",
       "      <th>0</th>\n",
       "      <td>takingAction</td>\n",
       "      <td>patriot_propoganda</td>\n",
       "      <td>43721</td>\n",
       "      <td>resolved</td>\n",
       "      <td>8d5b667f-b225-4641-b499-73b77558ff86</td>\n",
       "      <td>43720</td>\n",
       "    </tr>\n",
       "    <tr>\n",
       "      <th>1</th>\n",
       "      <td>takingAction</td>\n",
       "      <td>construction</td>\n",
       "      <td>43722</td>\n",
       "      <td>pending</td>\n",
       "      <td>8d5b667f-b225-4641-b499-73b77558ff86</td>\n",
       "      <td>43721</td>\n",
       "    </tr>\n",
       "  </tbody>\n",
       "</table>\n",
       "</div>"
      ],
      "text/plain": [
       "           name          actionType weight    status  \\\n",
       "0  takingAction  patriot_propoganda  43721  resolved   \n",
       "1  takingAction        construction  43722   pending   \n",
       "\n",
       "                               userguid created_at  \n",
       "0  8d5b667f-b225-4641-b499-73b77558ff86      43720  \n",
       "1  8d5b667f-b225-4641-b499-73b77558ff86      43721  "
      ]
     },
     "execution_count": 35,
     "metadata": {},
     "output_type": "execute_result"
    }
   ],
   "source": [
    "system_query = (\n",
    "        f\"g.E().has('name','takingAction').valueMap()\"\n",
    "    )\n",
    "c.run_query(system_query)\n",
    "data = c.clean_nodes(c.res)\n",
    "pd.DataFrame(data)"
   ]
  },
  {
   "cell_type": "code",
   "execution_count": 37,
   "metadata": {},
   "outputs": [
    {
     "data": {
      "text/html": [
       "<div>\n",
       "<style scoped>\n",
       "    .dataframe tbody tr th:only-of-type {\n",
       "        vertical-align: middle;\n",
       "    }\n",
       "\n",
       "    .dataframe tbody tr th {\n",
       "        vertical-align: top;\n",
       "    }\n",
       "\n",
       "    .dataframe thead th {\n",
       "        text-align: right;\n",
       "    }\n",
       "</style>\n",
       "<table border=\"1\" class=\"dataframe\">\n",
       "  <thead>\n",
       "    <tr style=\"text-align: right;\">\n",
       "      <th></th>\n",
       "      <th>isIdle</th>\n",
       "      <th>factionLoyalty</th>\n",
       "      <th>conformity</th>\n",
       "      <th>aggression</th>\n",
       "      <th>name</th>\n",
       "      <th>objid</th>\n",
       "      <th>literacy</th>\n",
       "      <th>constitution</th>\n",
       "      <th>health</th>\n",
       "      <th>isIn</th>\n",
       "      <th>industry</th>\n",
       "      <th>wealth</th>\n",
       "      <th>userguid</th>\n",
       "      <th>objtype</th>\n",
       "      <th>id</th>\n",
       "    </tr>\n",
       "  </thead>\n",
       "  <tbody>\n",
       "    <tr>\n",
       "      <th>0</th>\n",
       "      <td>true</td>\n",
       "      <td>0.774</td>\n",
       "      <td>0.687</td>\n",
       "      <td>0.410</td>\n",
       "      <td>Talpasquikha Garh</td>\n",
       "      <td>0367337778615</td>\n",
       "      <td>0.510</td>\n",
       "      <td>0.576</td>\n",
       "      <td>0.7</td>\n",
       "      <td>6329296125330</td>\n",
       "      <td>0.4430</td>\n",
       "      <td>0.4765</td>\n",
       "      <td>8d5b667f-b225-4641-b499-73b77558ff86</td>\n",
       "      <td>pop</td>\n",
       "      <td>0367337778615</td>\n",
       "    </tr>\n",
       "    <tr>\n",
       "      <th>1</th>\n",
       "      <td>false</td>\n",
       "      <td>0.441</td>\n",
       "      <td>0.543</td>\n",
       "      <td>0.342</td>\n",
       "      <td>Talpasquikha Ka</td>\n",
       "      <td>1818411205472</td>\n",
       "      <td>0.617</td>\n",
       "      <td>0.497</td>\n",
       "      <td>0.7</td>\n",
       "      <td>6329296125330</td>\n",
       "      <td>0.4195</td>\n",
       "      <td>0.5182</td>\n",
       "      <td>8d5b667f-b225-4641-b499-73b77558ff86</td>\n",
       "      <td>pop</td>\n",
       "      <td>1818411205472</td>\n",
       "    </tr>\n",
       "  </tbody>\n",
       "</table>\n",
       "</div>"
      ],
      "text/plain": [
       "  isIdle  factionLoyalty  conformity  aggression               name  \\\n",
       "0   true           0.774       0.687       0.410  Talpasquikha Garh   \n",
       "1  false           0.441       0.543       0.342    Talpasquikha Ka   \n",
       "\n",
       "           objid  literacy  constitution  health           isIn  industry  \\\n",
       "0  0367337778615     0.510         0.576     0.7  6329296125330    0.4430   \n",
       "1  1818411205472     0.617         0.497     0.7  6329296125330    0.4195   \n",
       "\n",
       "   wealth                              userguid objtype             id  \n",
       "0  0.4765  8d5b667f-b225-4641-b499-73b77558ff86     pop  0367337778615  \n",
       "1  0.5182  8d5b667f-b225-4641-b499-73b77558ff86     pop  1818411205472  "
      ]
     },
     "execution_count": 37,
     "metadata": {},
     "output_type": "execute_result"
    }
   ],
   "source": [
    "system_query = (\n",
    "        f\"g.E().has('name','takingAction').outV().valueMap()\"\n",
    "    )\n",
    "c.run_query(system_query)\n",
    "data = c.clean_nodes(c.res)\n",
    "pd.DataFrame(data)"
   ]
  },
  {
   "cell_type": "code",
   "execution_count": 38,
   "metadata": {},
   "outputs": [
    {
     "data": {
      "text/html": [
       "<div>\n",
       "<style scoped>\n",
       "    .dataframe tbody tr th:only-of-type {\n",
       "        vertical-align: middle;\n",
       "    }\n",
       "\n",
       "    .dataframe tbody tr th {\n",
       "        vertical-align: top;\n",
       "    }\n",
       "\n",
       "    .dataframe thead th {\n",
       "        text-align: right;\n",
       "    }\n",
       "</style>\n",
       "<table border=\"1\" class=\"dataframe\">\n",
       "  <thead>\n",
       "    <tr style=\"text-align: right;\">\n",
       "      <th></th>\n",
       "      <th>type</th>\n",
       "      <th>applies_to</th>\n",
       "      <th>effort</th>\n",
       "      <th>augments_self_properties</th>\n",
       "      <th>description</th>\n",
       "      <th>name</th>\n",
       "      <th>created_at</th>\n",
       "      <th>objid</th>\n",
       "      <th>userguid</th>\n",
       "      <th>objtype</th>\n",
       "      <th>id</th>\n",
       "      <th>comment</th>\n",
       "      <th>owned_by</th>\n",
       "      <th>building</th>\n",
       "    </tr>\n",
       "  </thead>\n",
       "  <tbody>\n",
       "    <tr>\n",
       "      <th>0</th>\n",
       "      <td>patriot_propoganda</td>\n",
       "      <td>pop</td>\n",
       "      <td>1</td>\n",
       "      <td>{factionLoyalty: 0.1, conformity: 0.1, aggress...</td>\n",
       "      <td>build national pride, increasin faction loyalt...</td>\n",
       "      <td>patriot propoganda</td>\n",
       "      <td>43720</td>\n",
       "      <td>4383004420272</td>\n",
       "      <td>8d5b667f-b225-4641-b499-73b77558ff86</td>\n",
       "      <td>action</td>\n",
       "      <td>4383004420272</td>\n",
       "      <td>NaN</td>\n",
       "      <td>NaN</td>\n",
       "      <td>NaN</td>\n",
       "    </tr>\n",
       "    <tr>\n",
       "      <th>1</th>\n",
       "      <td>construction</td>\n",
       "      <td>pop</td>\n",
       "      <td>1</td>\n",
       "      <td>NaN</td>\n",
       "      <td>NaN</td>\n",
       "      <td>NaN</td>\n",
       "      <td>43721</td>\n",
       "      <td>6660702350450</td>\n",
       "      <td>8d5b667f-b225-4641-b499-73b77558ff86</td>\n",
       "      <td>action</td>\n",
       "      <td>6660702350450</td>\n",
       "      <td>constructing a Farmland</td>\n",
       "      <td>pop</td>\n",
       "      <td>Farmland</td>\n",
       "    </tr>\n",
       "  </tbody>\n",
       "</table>\n",
       "</div>"
      ],
      "text/plain": [
       "                 type applies_to  effort  \\\n",
       "0  patriot_propoganda        pop       1   \n",
       "1        construction        pop       1   \n",
       "\n",
       "                            augments_self_properties  \\\n",
       "0  {factionLoyalty: 0.1, conformity: 0.1, aggress...   \n",
       "1                                                NaN   \n",
       "\n",
       "                                         description                name  \\\n",
       "0  build national pride, increasin faction loyalt...  patriot propoganda   \n",
       "1                                                NaN                 NaN   \n",
       "\n",
       "   created_at          objid                              userguid objtype  \\\n",
       "0       43720  4383004420272  8d5b667f-b225-4641-b499-73b77558ff86  action   \n",
       "1       43721  6660702350450  8d5b667f-b225-4641-b499-73b77558ff86  action   \n",
       "\n",
       "              id                  comment owned_by  building  \n",
       "0  4383004420272                      NaN      NaN       NaN  \n",
       "1  6660702350450  constructing a Farmland      pop  Farmland  "
      ]
     },
     "execution_count": 38,
     "metadata": {},
     "output_type": "execute_result"
    }
   ],
   "source": [
    "system_query = (\n",
    "        f\"g.E().has('name','takingAction').inV().valueMap()\"\n",
    "    )\n",
    "c.run_query(system_query)\n",
    "data = c.clean_nodes(c.res)\n",
    "pd.DataFrame(data)"
   ]
  },
  {
   "cell_type": "code",
   "execution_count": 8,
   "metadata": {},
   "outputs": [
    {
     "name": "stdout",
     "output_type": "stream",
     "text": [
      "1.221\n",
      "1.1221\n"
     ]
    }
   ],
   "source": [
    "for item in data:\n",
    "    print(item['orbitsDistance'])"
   ]
  },
  {
   "cell_type": "code",
   "execution_count": 14,
   "metadata": {},
   "outputs": [
    {
     "data": {
      "text/plain": [
       "\"g.V().hasLabel('system').has('userguid','8d5b667f-b225-4641-b499-73b77558ff86').valueMap()\""
      ]
     },
     "execution_count": 14,
     "metadata": {},
     "output_type": "execute_result"
    }
   ],
   "source": [
    "system_query"
   ]
  },
  {
   "cell_type": "code",
   "execution_count": null,
   "metadata": {},
   "outputs": [],
   "source": []
  }
 ],
 "metadata": {
  "kernelspec": {
   "display_name": "exoplanets",
   "language": "python",
   "name": "python3"
  },
  "language_info": {
   "codemirror_mode": {
    "name": "ipython",
    "version": 3
   },
   "file_extension": ".py",
   "mimetype": "text/x-python",
   "name": "python",
   "nbconvert_exporter": "python",
   "pygments_lexer": "ipython3",
   "version": "3.8.16"
  }
 },
 "nbformat": 4,
 "nbformat_minor": 2
}
