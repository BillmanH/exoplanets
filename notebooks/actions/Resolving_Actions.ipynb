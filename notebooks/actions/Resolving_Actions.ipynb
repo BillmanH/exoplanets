{
 "cells": [
  {
   "attachments": {},
   "cell_type": "markdown",
   "metadata": {},
   "source": [
    "# Getting available actions\n",
    "\n",
    "**Note** this notebook requres that there are pending actions in the database. So go create some first. \n",
    "\n",
    "Actions are configured in `app\\configurations` directory. When the UI makes a request to get the actions available for an object, the `app/ajaxviews/actions.py` loads the yaml, and interprets what actions that the selected object is available to take. Those actions are sent to the user. \n",
    "\n",
    "### Two times when actions come up:\n",
    "but only one discussed here. \n",
    "* ~~web interaction that creates jobs~~\n",
    "* **azure functions that resolve actions**"
   ]
  },
  {
   "cell_type": "code",
   "execution_count": 1,
   "metadata": {},
   "outputs": [
    {
     "name": "stdout",
     "output_type": "stream",
     "text": [
      "executing local windows deployment\n"
     ]
    }
   ],
   "source": [
    "import sys\n",
    "import numpy as np\n",
    "import pandas as pd\n",
    "\n",
    "\n",
    "sys.path.append(\"../..\")\n",
    "import yaml, ssl, asyncio\n",
    "\n",
    "ssl._create_default_https_context = ssl._create_unverified_context\n",
    "asyncio.set_event_loop_policy(asyncio.WindowsSelectorEventLoopPolicy())\n",
    "import nest_asyncio\n",
    "\n",
    "# this is required for running in a Jupyter Notebook.\n",
    "nest_asyncio.apply()\n",
    "\n",
    "\n",
    "from app.connectors import cmdb_graph\n",
    "from app.objects import time as t\n",
    "\n",
    "\n",
    "c = cmdb_graph.CosmosdbClient()\n"
   ]
  },
  {
   "cell_type": "code",
   "execution_count": 2,
   "metadata": {},
   "outputs": [
    {
     "data": {
      "text/plain": [
       "< time at: 2024-09-07T21:53:17.088346+00:00 UTU:45175 >"
      ]
     },
     "execution_count": 2,
     "metadata": {},
     "output_type": "execute_result"
    }
   ],
   "source": [
    "time = t.Time(c)\n",
    "time.get_current_UTU()\n",
    "time"
   ]
  },
  {
   "cell_type": "code",
   "execution_count": 3,
   "metadata": {},
   "outputs": [
    {
     "data": {
      "text/html": [
       "<div>\n",
       "<style scoped>\n",
       "    .dataframe tbody tr th:only-of-type {\n",
       "        vertical-align: middle;\n",
       "    }\n",
       "\n",
       "    .dataframe tbody tr th {\n",
       "        vertical-align: top;\n",
       "    }\n",
       "\n",
       "    .dataframe thead th {\n",
       "        text-align: right;\n",
       "    }\n",
       "</style>\n",
       "<table border=\"1\" class=\"dataframe\">\n",
       "  <thead>\n",
       "    <tr style=\"text-align: right;\">\n",
       "      <th></th>\n",
       "      <th>action</th>\n",
       "      <th>job</th>\n",
       "      <th>agent</th>\n",
       "    </tr>\n",
       "  </thead>\n",
       "  <tbody>\n",
       "    <tr>\n",
       "      <th>0</th>\n",
       "      <td>{'type': 'construction', 'comment': 'construct...</td>\n",
       "      <td>{'status': 'pending', 'userguid': '8d5b667f-b2...</td>\n",
       "      <td>{'isIdle': 'false', 'factionLoyalty': 0.769, '...</td>\n",
       "    </tr>\n",
       "  </tbody>\n",
       "</table>\n",
       "</div>"
      ],
      "text/plain": [
       "                                              action  \\\n",
       "0  {'type': 'construction', 'comment': 'construct...   \n",
       "\n",
       "                                                 job  \\\n",
       "0  {'status': 'pending', 'userguid': '8d5b667f-b2...   \n",
       "\n",
       "                                               agent  \n",
       "0  {'isIdle': 'false', 'factionLoyalty': 0.769, '...  "
      ]
     },
     "execution_count": 3,
     "metadata": {},
     "output_type": "execute_result"
    }
   ],
   "source": [
    "time.get_global_actions()\n",
    "actions_df = pd.DataFrame(time.actions)\n",
    "actions_df"
   ]
  },
  {
   "attachments": {},
   "cell_type": "markdown",
   "metadata": {},
   "source": [
    "All actions require both an agent, job and action. The properties of the action determine how it affects other things. \n"
   ]
  },
  {
   "cell_type": "code",
   "execution_count": 4,
   "metadata": {},
   "outputs": [
    {
     "name": "stdout",
     "output_type": "stream",
     "text": [
      "< (Hillslostipu Ronaschan: 1953275892700) -takingAction:45175-> (construction) >\n"
     ]
    }
   ],
   "source": [
    "for i in actions_df.index:\n",
    "    action = t.Action(c,actions_df.loc[i])\n",
    "    print(action)\n",
    "    "
   ]
  },
  {
   "cell_type": "markdown",
   "metadata": {},
   "source": [
    "## Validate that the action can be completed"
   ]
  },
  {
   "cell_type": "code",
   "execution_count": 5,
   "metadata": {},
   "outputs": [
    {
     "data": {
      "text/plain": [
       "< (Hillslostipu Ronaschan: 1953275892700) -takingAction:45175-> (construction) >"
      ]
     },
     "execution_count": 5,
     "metadata": {},
     "output_type": "execute_result"
    }
   ],
   "source": [
    "action"
   ]
  },
  {
   "cell_type": "code",
   "execution_count": 6,
   "metadata": {},
   "outputs": [
    {
     "data": {
      "text/plain": [
       "{'status': 'pending',\n",
       " 'userguid': '8d5b667f-b225-4641-b499-73b77558ff86',\n",
       " 'name': 'takingAction',\n",
       " 'weight': '45175',\n",
       " 'actionType': 'construction',\n",
       " 'created_at': '45174'}"
      ]
     },
     "execution_count": 6,
     "metadata": {},
     "output_type": "execute_result"
    }
   ],
   "source": [
    "action.job"
   ]
  },
  {
   "cell_type": "code",
   "execution_count": 7,
   "metadata": {},
   "outputs": [
    {
     "data": {
      "text/plain": [
       "False"
      ]
     },
     "execution_count": 7,
     "metadata": {},
     "output_type": "execute_result"
    }
   ],
   "source": [
    "action.validate_action_time(time)"
   ]
  },
  {
   "cell_type": "markdown",
   "metadata": {},
   "source": [
    "the validation returns true/false and simply confirms that the weight is larger than the current UTC time. "
   ]
  },
  {
   "cell_type": "markdown",
   "metadata": {},
   "source": [
    "## Complete the action"
   ]
  },
  {
   "cell_type": "code",
   "execution_count": 8,
   "metadata": {},
   "outputs": [],
   "source": [
    "action.action.get('augments_self_properties')"
   ]
  },
  {
   "cell_type": "markdown",
   "metadata": {},
   "source": [
    "In the table below `og` is the origional value, the updated is what the agent's value will change to. "
   ]
  },
  {
   "cell_type": "code",
   "execution_count": 9,
   "metadata": {},
   "outputs": [
    {
     "data": {
      "text/html": [
       "<div>\n",
       "<style scoped>\n",
       "    .dataframe tbody tr th:only-of-type {\n",
       "        vertical-align: middle;\n",
       "    }\n",
       "\n",
       "    .dataframe tbody tr th {\n",
       "        vertical-align: top;\n",
       "    }\n",
       "\n",
       "    .dataframe thead th {\n",
       "        text-align: right;\n",
       "    }\n",
       "</style>\n",
       "<table border=\"1\" class=\"dataframe\">\n",
       "  <thead>\n",
       "    <tr style=\"text-align: right;\">\n",
       "      <th></th>\n",
       "      <th>isIdle</th>\n",
       "      <th>name</th>\n",
       "      <th>objid</th>\n",
       "      <th>conformity</th>\n",
       "      <th>literacy</th>\n",
       "      <th>aggression</th>\n",
       "      <th>constitution</th>\n",
       "      <th>health</th>\n",
       "      <th>isIn</th>\n",
       "      <th>industry</th>\n",
       "      <th>wealth</th>\n",
       "      <th>factionLoyalty</th>\n",
       "      <th>userguid</th>\n",
       "      <th>objtype</th>\n",
       "    </tr>\n",
       "  </thead>\n",
       "  <tbody>\n",
       "    <tr>\n",
       "      <th>og</th>\n",
       "      <td>false</td>\n",
       "      <td>Gramerfordmu Rostantrohat</td>\n",
       "      <td>2909803569658</td>\n",
       "      <td>0.601</td>\n",
       "      <td>0.629</td>\n",
       "      <td>0.466</td>\n",
       "      <td>0.364</td>\n",
       "      <td>0.70</td>\n",
       "      <td>6381830890059</td>\n",
       "      <td>0.415</td>\n",
       "      <td>0.522</td>\n",
       "      <td>0.622</td>\n",
       "      <td>ac5b8081-7ef9-4bce-baac-6d0ea7e1782c</td>\n",
       "      <td>pop</td>\n",
       "    </tr>\n",
       "    <tr>\n",
       "      <th>updated</th>\n",
       "      <td>false</td>\n",
       "      <td>Gramerfordmu Rostantrohat</td>\n",
       "      <td>2909803569658</td>\n",
       "      <td>0.601</td>\n",
       "      <td>0.629</td>\n",
       "      <td>0.466</td>\n",
       "      <td>0.364</td>\n",
       "      <td>0.75</td>\n",
       "      <td>6381830890059</td>\n",
       "      <td>0.415</td>\n",
       "      <td>0.472</td>\n",
       "      <td>0.622</td>\n",
       "      <td>ac5b8081-7ef9-4bce-baac-6d0ea7e1782c</td>\n",
       "      <td>pop</td>\n",
       "    </tr>\n",
       "  </tbody>\n",
       "</table>\n",
       "</div>"
      ],
      "text/plain": [
       "        isIdle                       name          objid  conformity  \\\n",
       "og       false  Gramerfordmu Rostantrohat  2909803569658       0.601   \n",
       "updated  false  Gramerfordmu Rostantrohat  2909803569658       0.601   \n",
       "\n",
       "         literacy  aggression  constitution  health           isIn  industry  \\\n",
       "og          0.629       0.466         0.364    0.70  6381830890059     0.415   \n",
       "updated     0.629       0.466         0.364    0.75  6381830890059     0.415   \n",
       "\n",
       "         wealth  factionLoyalty                              userguid objtype  \n",
       "og        0.522           0.622  ac5b8081-7ef9-4bce-baac-6d0ea7e1782c     pop  \n",
       "updated   0.472           0.622  ac5b8081-7ef9-4bce-baac-6d0ea7e1782c     pop  "
      ]
     },
     "execution_count": 9,
     "metadata": {},
     "output_type": "execute_result"
    }
   ],
   "source": [
    "pd.DataFrame([action.agent, action.resolve_augments_self_properties()], index = ['og','updated'])"
   ]
  },
  {
   "cell_type": "code",
   "execution_count": 10,
   "metadata": {},
   "outputs": [
    {
     "data": {
      "text/plain": [
       "[\"g.V().has('objid','2909803569658').property('health',0.7).property('wealth',0.522)\",\n",
       " \"g.V().has('objid','2909803569658').outE('takingAction').has('actionType','healthcare_initiatives').has('weight','8014').property('status','resolved')\",\n",
       " \"g.V().has('objid','2909803569658').property('isIdle','true')\"]"
      ]
     },
     "execution_count": 10,
     "metadata": {},
     "output_type": "execute_result"
    }
   ],
   "source": [
    "action.add_updates_to_c(time)\n",
    "action.c.stack"
   ]
  },
  {
   "cell_type": "code",
   "execution_count": 11,
   "metadata": {},
   "outputs": [
    {
     "data": {
      "text/plain": [
       "{'nodes': [{'objid': '9416220368398',\n",
       "   'name': 'job',\n",
       "   'label': 'event',\n",
       "   'text': 'The pop (Gramerfordmu Rostantrohat) has completed healthcare_initiatives',\n",
       "   'visibleTo': 'ac5b8081-7ef9-4bce-baac-6d0ea7e1782c',\n",
       "   'time': 12108,\n",
       "   'username': 'event'}],\n",
       " 'edges': [{'node1': '2909803569658',\n",
       "   'node2': '9416220368398',\n",
       "   'label': 'completed'}]}"
      ]
     },
     "execution_count": 11,
     "metadata": {},
     "output_type": "execute_result"
    }
   ],
   "source": [
    "action.data"
   ]
  },
  {
   "attachments": {},
   "cell_type": "markdown",
   "metadata": {},
   "source": [
    "Veryify that actions are resolved or not"
   ]
  },
  {
   "cell_type": "code",
   "execution_count": 12,
   "metadata": {},
   "outputs": [],
   "source": [
    "action.resolve_action()"
   ]
  },
  {
   "cell_type": "code",
   "execution_count": 13,
   "metadata": {},
   "outputs": [
    {
     "data": {
      "text/html": [
       "<div>\n",
       "<style scoped>\n",
       "    .dataframe tbody tr th:only-of-type {\n",
       "        vertical-align: middle;\n",
       "    }\n",
       "\n",
       "    .dataframe tbody tr th {\n",
       "        vertical-align: top;\n",
       "    }\n",
       "\n",
       "    .dataframe thead th {\n",
       "        text-align: right;\n",
       "    }\n",
       "</style>\n",
       "<table border=\"1\" class=\"dataframe\">\n",
       "  <thead>\n",
       "    <tr style=\"text-align: right;\">\n",
       "      <th></th>\n",
       "    </tr>\n",
       "  </thead>\n",
       "  <tbody>\n",
       "  </tbody>\n",
       "</table>\n",
       "</div>"
      ],
      "text/plain": [
       "Empty DataFrame\n",
       "Columns: []\n",
       "Index: []"
      ]
     },
     "execution_count": 13,
     "metadata": {},
     "output_type": "execute_result"
    }
   ],
   "source": [
    "time.get_global_actions()\n",
    "actions_df = pd.DataFrame(time.actions)\n",
    "actions_df "
   ]
  },
  {
   "cell_type": "markdown",
   "metadata": {},
   "source": [
    "If the `actions_df` is empty then the action has resolved. "
   ]
  },
  {
   "cell_type": "code",
   "execution_count": null,
   "metadata": {},
   "outputs": [],
   "source": []
  }
 ],
 "metadata": {
  "kernelspec": {
   "display_name": "exoplanets",
   "language": "python",
   "name": "python3"
  },
  "language_info": {
   "codemirror_mode": {
    "name": "ipython",
    "version": 3
   },
   "file_extension": ".py",
   "mimetype": "text/x-python",
   "name": "python",
   "nbconvert_exporter": "python",
   "pygments_lexer": "ipython3",
   "version": "3.8.16"
  },
  "orig_nbformat": 4,
  "vscode": {
   "interpreter": {
    "hash": "625a17269cb94aebb094cbcf5e0e8340f26b69d46569da60e8fc69439048adbf"
   }
  }
 },
 "nbformat": 4,
 "nbformat_minor": 2
}
