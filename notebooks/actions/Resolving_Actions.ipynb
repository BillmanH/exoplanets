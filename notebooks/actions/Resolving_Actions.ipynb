{
 "cells": [
  {
   "attachments": {},
   "cell_type": "markdown",
   "metadata": {},
   "source": [
    "# Getting available actions\n",
    "Actions are configured in `app\\configurations` directory. When the UI makes a request to get the actions available for an object, the `app/ajaxviews/actions.py` loads the yaml, and interprets what actions that the selected object is available to take. Those actions are sent to the user. \n",
    "\n",
    "### Two times when actions come up:\n",
    "but only one discussed here. \n",
    "* ~~web interaction that creates jobs~~\n",
    "* **azure functions that resolve actions**"
   ]
  },
  {
   "cell_type": "code",
   "execution_count": 1,
   "metadata": {},
   "outputs": [
    {
     "name": "stdout",
     "output_type": "stream",
     "text": [
      "executing local windows deployment\n"
     ]
    }
   ],
   "source": [
    "import sys\n",
    "import numpy as np\n",
    "import pandas as pd\n",
    "\n",
    "\n",
    "sys.path.append(\"../..\")\n",
    "sys.path.append(\"..\")\n",
    "import yaml, ssl, asyncio\n",
    "\n",
    "ssl._create_default_https_context = ssl._create_unverified_context\n",
    "asyncio.set_event_loop_policy(asyncio.WindowsSelectorEventLoopPolicy())\n",
    "import nest_asyncio\n",
    "\n",
    "# this is required for running in a Jupyter Notebook.\n",
    "nest_asyncio.apply()\n",
    "\n",
    "\n",
    "from app.connectors import cmdb_graph\n",
    "from app.objects import time as t\n",
    "\n",
    "\n",
    "c = cmdb_graph.CosmosdbClient()\n"
   ]
  },
  {
   "cell_type": "code",
   "execution_count": 2,
   "metadata": {},
   "outputs": [
    {
     "data": {
      "text/plain": [
       "< time at: 2023-07-11T06:52:28.763532+00:00 UTU:28298 >"
      ]
     },
     "execution_count": 2,
     "metadata": {},
     "output_type": "execute_result"
    }
   ],
   "source": [
    "time = t.Time(c)\n",
    "time.get_current_UTU()\n",
    "time"
   ]
  },
  {
   "cell_type": "code",
   "execution_count": 3,
   "metadata": {},
   "outputs": [
    {
     "data": {
      "text/html": [
       "<div>\n",
       "<style scoped>\n",
       "    .dataframe tbody tr th:only-of-type {\n",
       "        vertical-align: middle;\n",
       "    }\n",
       "\n",
       "    .dataframe tbody tr th {\n",
       "        vertical-align: top;\n",
       "    }\n",
       "\n",
       "    .dataframe thead th {\n",
       "        text-align: right;\n",
       "    }\n",
       "</style>\n",
       "<table border=\"1\" class=\"dataframe\">\n",
       "  <thead>\n",
       "    <tr style=\"text-align: right;\">\n",
       "      <th></th>\n",
       "      <th>action</th>\n",
       "      <th>job</th>\n",
       "      <th>agent</th>\n",
       "    </tr>\n",
       "  </thead>\n",
       "  <tbody>\n",
       "    <tr>\n",
       "      <th>type</th>\n",
       "      <td>healthcare_initiatives</td>\n",
       "      <td>NaN</td>\n",
       "      <td>NaN</td>\n",
       "    </tr>\n",
       "    <tr>\n",
       "      <th>applies_to</th>\n",
       "      <td>pop</td>\n",
       "      <td>NaN</td>\n",
       "      <td>NaN</td>\n",
       "    </tr>\n",
       "    <tr>\n",
       "      <th>effort</th>\n",
       "      <td>2</td>\n",
       "      <td>NaN</td>\n",
       "      <td>NaN</td>\n",
       "    </tr>\n",
       "    <tr>\n",
       "      <th>requires_attr</th>\n",
       "      <td>{wealth: 0.1}</td>\n",
       "      <td>NaN</td>\n",
       "      <td>NaN</td>\n",
       "    </tr>\n",
       "    <tr>\n",
       "      <th>augments_self_properties</th>\n",
       "      <td>{health: 0.05, wealth: -.05}</td>\n",
       "      <td>NaN</td>\n",
       "      <td>NaN</td>\n",
       "    </tr>\n",
       "    <tr>\n",
       "      <th>comment</th>\n",
       "      <td>increase the health of your population slightl...</td>\n",
       "      <td>NaN</td>\n",
       "      <td>NaN</td>\n",
       "    </tr>\n",
       "    <tr>\n",
       "      <th>name</th>\n",
       "      <td>healthcare initiatives</td>\n",
       "      <td>takingAction</td>\n",
       "      <td>Shiyaos Hou</td>\n",
       "    </tr>\n",
       "    <tr>\n",
       "      <th>objid</th>\n",
       "      <td>8522332346729</td>\n",
       "      <td>NaN</td>\n",
       "      <td>3209702584262</td>\n",
       "    </tr>\n",
       "    <tr>\n",
       "      <th>username</th>\n",
       "      <td>Billmanserver</td>\n",
       "      <td>Billmanserver</td>\n",
       "      <td>Billmanserver</td>\n",
       "    </tr>\n",
       "    <tr>\n",
       "      <th>objtype</th>\n",
       "      <td>action</td>\n",
       "      <td>NaN</td>\n",
       "      <td>pop</td>\n",
       "    </tr>\n",
       "    <tr>\n",
       "      <th>status</th>\n",
       "      <td>NaN</td>\n",
       "      <td>pending</td>\n",
       "      <td>NaN</td>\n",
       "    </tr>\n",
       "    <tr>\n",
       "      <th>weight</th>\n",
       "      <td>NaN</td>\n",
       "      <td>28299</td>\n",
       "      <td>NaN</td>\n",
       "    </tr>\n",
       "    <tr>\n",
       "      <th>actionType</th>\n",
       "      <td>NaN</td>\n",
       "      <td>healthcare_initiatives</td>\n",
       "      <td>NaN</td>\n",
       "    </tr>\n",
       "    <tr>\n",
       "      <th>isIdle</th>\n",
       "      <td>NaN</td>\n",
       "      <td>NaN</td>\n",
       "      <td>false</td>\n",
       "    </tr>\n",
       "    <tr>\n",
       "      <th>conformity</th>\n",
       "      <td>NaN</td>\n",
       "      <td>NaN</td>\n",
       "      <td>0.631</td>\n",
       "    </tr>\n",
       "    <tr>\n",
       "      <th>literacy</th>\n",
       "      <td>NaN</td>\n",
       "      <td>NaN</td>\n",
       "      <td>0.612</td>\n",
       "    </tr>\n",
       "    <tr>\n",
       "      <th>aggression</th>\n",
       "      <td>NaN</td>\n",
       "      <td>NaN</td>\n",
       "      <td>0.399</td>\n",
       "    </tr>\n",
       "    <tr>\n",
       "      <th>constitution</th>\n",
       "      <td>NaN</td>\n",
       "      <td>NaN</td>\n",
       "      <td>0.33</td>\n",
       "    </tr>\n",
       "    <tr>\n",
       "      <th>health</th>\n",
       "      <td>NaN</td>\n",
       "      <td>NaN</td>\n",
       "      <td>0.7</td>\n",
       "    </tr>\n",
       "    <tr>\n",
       "      <th>isIn</th>\n",
       "      <td>NaN</td>\n",
       "      <td>NaN</td>\n",
       "      <td>8747874146271</td>\n",
       "    </tr>\n",
       "    <tr>\n",
       "      <th>industry</th>\n",
       "      <td>NaN</td>\n",
       "      <td>NaN</td>\n",
       "      <td>0.3645</td>\n",
       "    </tr>\n",
       "    <tr>\n",
       "      <th>wealth</th>\n",
       "      <td>NaN</td>\n",
       "      <td>NaN</td>\n",
       "      <td>0.4882</td>\n",
       "    </tr>\n",
       "    <tr>\n",
       "      <th>factionLoyalty</th>\n",
       "      <td>NaN</td>\n",
       "      <td>NaN</td>\n",
       "      <td>0.664</td>\n",
       "    </tr>\n",
       "  </tbody>\n",
       "</table>\n",
       "</div>"
      ],
      "text/plain": [
       "                                                                     action  \\\n",
       "type                                                 healthcare_initiatives   \n",
       "applies_to                                                              pop   \n",
       "effort                                                                    2   \n",
       "requires_attr                                                 {wealth: 0.1}   \n",
       "augments_self_properties                       {health: 0.05, wealth: -.05}   \n",
       "comment                   increase the health of your population slightl...   \n",
       "name                                                 healthcare initiatives   \n",
       "objid                                                         8522332346729   \n",
       "username                                                      Billmanserver   \n",
       "objtype                                                              action   \n",
       "status                                                                  NaN   \n",
       "weight                                                                  NaN   \n",
       "actionType                                                              NaN   \n",
       "isIdle                                                                  NaN   \n",
       "conformity                                                              NaN   \n",
       "literacy                                                                NaN   \n",
       "aggression                                                              NaN   \n",
       "constitution                                                            NaN   \n",
       "health                                                                  NaN   \n",
       "isIn                                                                    NaN   \n",
       "industry                                                                NaN   \n",
       "wealth                                                                  NaN   \n",
       "factionLoyalty                                                          NaN   \n",
       "\n",
       "                                             job          agent  \n",
       "type                                         NaN            NaN  \n",
       "applies_to                                   NaN            NaN  \n",
       "effort                                       NaN            NaN  \n",
       "requires_attr                                NaN            NaN  \n",
       "augments_self_properties                     NaN            NaN  \n",
       "comment                                      NaN            NaN  \n",
       "name                                takingAction    Shiyaos Hou  \n",
       "objid                                        NaN  3209702584262  \n",
       "username                           Billmanserver  Billmanserver  \n",
       "objtype                                      NaN            pop  \n",
       "status                                   pending            NaN  \n",
       "weight                                     28299            NaN  \n",
       "actionType                healthcare_initiatives            NaN  \n",
       "isIdle                                       NaN          false  \n",
       "conformity                                   NaN          0.631  \n",
       "literacy                                     NaN          0.612  \n",
       "aggression                                   NaN          0.399  \n",
       "constitution                                 NaN           0.33  \n",
       "health                                       NaN            0.7  \n",
       "isIn                                         NaN  8747874146271  \n",
       "industry                                     NaN         0.3645  \n",
       "wealth                                       NaN         0.4882  \n",
       "factionLoyalty                               NaN          0.664  "
      ]
     },
     "execution_count": 3,
     "metadata": {},
     "output_type": "execute_result"
    }
   ],
   "source": [
    "time.get_global_actions()\n",
    "time.actions"
   ]
  },
  {
   "attachments": {},
   "cell_type": "markdown",
   "metadata": {},
   "source": [
    "All actions require both an agent, job and action. The properties of the action determine how it affects other things. \n"
   ]
  },
  {
   "cell_type": "code",
   "execution_count": 4,
   "metadata": {},
   "outputs": [
    {
     "data": {
      "text/plain": [
       "< (Shiyaos Hou:3209702584262) -takingAction-> (healthcare initiatives) >"
      ]
     },
     "execution_count": 4,
     "metadata": {},
     "output_type": "execute_result"
    }
   ],
   "source": [
    "for i in time.actions.index:\n",
    "    action = t.Action(c,time.actions.loc[i])\n",
    "    print(action)\n",
    "    "
   ]
  },
  {
   "cell_type": "code",
   "execution_count": null,
   "metadata": {},
   "outputs": [
    {
     "ename": "NameError",
     "evalue": "name 'action' is not defined",
     "output_type": "error",
     "traceback": [
      "\u001b[1;31m---------------------------------------------------------------------------\u001b[0m",
      "\u001b[1;31mNameError\u001b[0m                                 Traceback (most recent call last)",
      "Cell \u001b[1;32mIn[11], line 9\u001b[0m\n\u001b[0;32m      5\u001b[0m         agent[p] \u001b[39m=\u001b[39m agent[p] \u001b[39m+\u001b[39m \u001b[39mfloat\u001b[39m(self_properties[p])\n\u001b[0;32m      6\u001b[0m     \u001b[39mreturn\u001b[39;00m agent\n\u001b[1;32m----> 9\u001b[0m agent2 \u001b[39m=\u001b[39m resolve_augments_self_properties(agent, action)\n\u001b[0;32m     10\u001b[0m results \u001b[39m=\u001b[39m pd\u001b[39m.\u001b[39mDataFrame([agent, agent2],)\u001b[39m.\u001b[39mT\n\u001b[0;32m     11\u001b[0m \u001b[39mprint\u001b[39m(\u001b[39m\"\u001b[39m\u001b[39mresults of: \u001b[39m\u001b[39m\"\u001b[39m, action[\u001b[39m\"\u001b[39m\u001b[39mtype\u001b[39m\u001b[39m\"\u001b[39m])\n",
      "\u001b[1;31mNameError\u001b[0m: name 'action' is not defined"
     ]
    }
   ],
   "source": [
    "def resolve_augments_self_properties(agent, action):\n",
    "    agent = agent.copy()\n",
    "    self_properties = yaml.safe_load(action[\"augments_self_properties\"])\n",
    "    for p in self_properties.keys():\n",
    "        agent[p] = agent[p] + float(self_properties[p])\n",
    "    return agent\n",
    "\n",
    "\n",
    "agent2 = resolve_augments_self_properties(agent, action)\n",
    "results = pd.DataFrame([agent, agent2],).T\n",
    "print(\"results of: \", action[\"type\"])\n",
    "results"
   ]
  },
  {
   "cell_type": "code",
   "execution_count": null,
   "metadata": {},
   "outputs": [
    {
     "data": {
      "text/plain": [
       "\"g.V().has('objid','2570162977799').property('wealth',0.491).property('literacy',0.473).property('factionLoyalty',0.609)\""
      ]
     },
     "execution_count": 100,
     "metadata": {},
     "output_type": "execute_result"
    }
   ],
   "source": [
    "def query_patch_properties(agent, action):\n",
    "    query = f\"g.V().has('objid','{agent['objid']}')\"\n",
    "    for n in yaml.safe_load(action[\"augments_self_properties\"]):\n",
    "        query += f\".property('{n}',{agent[n]})\"\n",
    "    return query\n",
    "\n",
    "\n",
    "query_patch_properties(agent, action)"
   ]
  },
  {
   "attachments": {},
   "cell_type": "markdown",
   "metadata": {},
   "source": [
    "Veryify that actions are resolved or not"
   ]
  },
  {
   "cell_type": "code",
   "execution_count": null,
   "metadata": {},
   "outputs": [
    {
     "data": {
      "text/html": [
       "<div>\n",
       "<style scoped>\n",
       "    .dataframe tbody tr th:only-of-type {\n",
       "        vertical-align: middle;\n",
       "    }\n",
       "\n",
       "    .dataframe tbody tr th {\n",
       "        vertical-align: top;\n",
       "    }\n",
       "\n",
       "    .dataframe thead th {\n",
       "        text-align: right;\n",
       "    }\n",
       "</style>\n",
       "<table border=\"1\" class=\"dataframe\">\n",
       "  <thead>\n",
       "    <tr style=\"text-align: right;\">\n",
       "      <th></th>\n",
       "      <th>action</th>\n",
       "      <th>job</th>\n",
       "      <th>agent</th>\n",
       "    </tr>\n",
       "  </thead>\n",
       "  <tbody>\n",
       "    <tr>\n",
       "      <th>0</th>\n",
       "      <td>{'id': '539f4d55-7dea-487a-8b62-756b0fe0d313',...</td>\n",
       "      <td>{'id': '6e029d81-83c9-4069-afa6-639aef48bd8f',...</td>\n",
       "      <td>{'id': 'eaa24c0e-8dcf-43d5-af89-ca6bb91d3111',...</td>\n",
       "    </tr>\n",
       "    <tr>\n",
       "      <th>1</th>\n",
       "      <td>{'id': '42011202-a68d-43d8-841f-87c50f42ac58',...</td>\n",
       "      <td>{'id': '5e9dce26-a02b-4972-a1c3-97d1f7d85f16',...</td>\n",
       "      <td>{'id': '083f7cac-dade-4961-b554-ad3009e704fa',...</td>\n",
       "    </tr>\n",
       "    <tr>\n",
       "      <th>2</th>\n",
       "      <td>{'id': 'c08bb02d-5739-49f4-a8c1-62c905f0bee5',...</td>\n",
       "      <td>{'id': 'e528b285-0e02-41a4-9226-0b94ffb8433c',...</td>\n",
       "      <td>{'id': '0f6f0e7b-4ce4-4390-a455-5f24a859a62d',...</td>\n",
       "    </tr>\n",
       "    <tr>\n",
       "      <th>3</th>\n",
       "      <td>{'id': 'aa2e3217-0a2b-47e9-abf7-c963ac28a543',...</td>\n",
       "      <td>{'id': 'e3fa5d2e-ce10-40dc-9367-9e95c3bba555',...</td>\n",
       "      <td>{'id': '90bcb328-de86-42d4-a59d-c182cc3eb995',...</td>\n",
       "    </tr>\n",
       "  </tbody>\n",
       "</table>\n",
       "</div>"
      ],
      "text/plain": [
       "                                              action  \\\n",
       "0  {'id': '539f4d55-7dea-487a-8b62-756b0fe0d313',...   \n",
       "1  {'id': '42011202-a68d-43d8-841f-87c50f42ac58',...   \n",
       "2  {'id': 'c08bb02d-5739-49f4-a8c1-62c905f0bee5',...   \n",
       "3  {'id': 'aa2e3217-0a2b-47e9-abf7-c963ac28a543',...   \n",
       "\n",
       "                                                 job  \\\n",
       "0  {'id': '6e029d81-83c9-4069-afa6-639aef48bd8f',...   \n",
       "1  {'id': '5e9dce26-a02b-4972-a1c3-97d1f7d85f16',...   \n",
       "2  {'id': 'e528b285-0e02-41a4-9226-0b94ffb8433c',...   \n",
       "3  {'id': 'e3fa5d2e-ce10-40dc-9367-9e95c3bba555',...   \n",
       "\n",
       "                                               agent  \n",
       "0  {'id': 'eaa24c0e-8dcf-43d5-af89-ca6bb91d3111',...  \n",
       "1  {'id': '083f7cac-dade-4961-b554-ad3009e704fa',...  \n",
       "2  {'id': '0f6f0e7b-4ce4-4390-a455-5f24a859a62d',...  \n",
       "3  {'id': '90bcb328-de86-42d4-a59d-c182cc3eb995',...  "
      ]
     },
     "execution_count": 105,
     "metadata": {},
     "output_type": "execute_result"
    }
   ],
   "source": [
    "actions_query = \"\"\"\n",
    "    g.V().haslabel('action').as('action')\n",
    "                .inE('takingAction').has('status','resolved').as('job')\n",
    "                .outV().as('agent')\n",
    "                .select('action','job','agent')\n",
    "\"\"\"\n",
    "\n",
    "c.run_query(actions_query)\n",
    "pd.DataFrame(c.res)"
   ]
  },
  {
   "cell_type": "code",
   "execution_count": null,
   "metadata": {},
   "outputs": [],
   "source": []
  }
 ],
 "metadata": {
  "kernelspec": {
   "display_name": "exoplanets",
   "language": "python",
   "name": "python3"
  },
  "language_info": {
   "codemirror_mode": {
    "name": "ipython",
    "version": 3
   },
   "file_extension": ".py",
   "mimetype": "text/x-python",
   "name": "python",
   "nbconvert_exporter": "python",
   "pygments_lexer": "ipython3",
   "version": "3.8.16"
  },
  "orig_nbformat": 4,
  "vscode": {
   "interpreter": {
    "hash": "625a17269cb94aebb094cbcf5e0e8340f26b69d46569da60e8fc69439048adbf"
   }
  }
 },
 "nbformat": 4,
 "nbformat_minor": 2
}
