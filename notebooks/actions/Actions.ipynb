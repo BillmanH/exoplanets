{
 "cells": [
  {
   "attachments": {},
   "cell_type": "markdown",
   "metadata": {},
   "source": [
    "# Getting available actions\n",
    "Actions are configured in `app\\configurations` directory. When the UI makes a request to get the actions available for an object, the `app/ajaxviews/actions.py` loads the yaml, and interprets what actions that the selected object is available to take. Those actions are sent to the user. \n",
    "\n",
    "### Two times when actions come up:\n",
    "* web interaction that creates jobs\n",
    "* azure functions that resolve actions"
   ]
  },
  {
   "cell_type": "code",
   "execution_count": 2,
   "metadata": {},
   "outputs": [
    {
     "name": "stdout",
     "output_type": "stream",
     "text": [
      "executing local windows deployment\n"
     ]
    }
   ],
   "source": [
    "import sys\n",
    "import numpy as np\n",
    "import pandas as pd\n",
    "import altair as alt\n",
    "\n",
    "sys.path.append(\"../..\")\n",
    "sys.path.append(\"..\")\n",
    "\n",
    "import yaml, ssl, asyncio\n",
    "\n",
    "ssl._create_default_https_context = ssl._create_unverified_context\n",
    "asyncio.set_event_loop_policy(asyncio.WindowsSelectorEventLoopPolicy())\n",
    "import nest_asyncio\n",
    "\n",
    "# this is required for running in a Jupyter Notebook.\n",
    "nest_asyncio.apply()\n",
    "\n",
    "import sys, os\n",
    "\n",
    "from app.connectors import cmdb_graph\n",
    "from app.objects import time as t\n",
    "\n",
    "import app.ajaxviews.actions as actions\n",
    "import app.models as models\n",
    "\n",
    "c = models.CosmosdbClient()\n",
    "\n",
    "from helpers import test_queries"
   ]
  },
  {
   "attachments": {},
   "cell_type": "markdown",
   "metadata": {},
   "source": [
    "## web interaction that creates jobs\n",
    "\n",
    "`app/ajaxviews/actions.py` takes input from the browser and creates jobs. Tools exist in that library to:\n",
    "* validate which jobs an agent can do\n",
    "* build the job and action graph elelements\n",
    "* update the graph with the job\n",
    "\n",
    "the resulting addition will be some kind of variant of:\n",
    "`(action)<-job-(agent)`\n"
   ]
  },
  {
   "cell_type": "code",
   "execution_count": 3,
   "metadata": {},
   "outputs": [
    {
     "data": {
      "text/plain": [
       "{'isIdle': 'true',\n",
       " 'name': 'Obattla Artestai',\n",
       " 'objid': '3735917286448',\n",
       " 'conformity': 0.416,\n",
       " 'literacy': 0.332,\n",
       " 'aggression': 0.629,\n",
       " 'constitution': 0.654,\n",
       " 'health': 0.42,\n",
       " 'isIn': '8822366435138',\n",
       " 'industry': 0.343,\n",
       " 'wealth': 0.286,\n",
       " 'factionLoyalty': 0.463,\n",
       " 'username': 'BillmanLocal2',\n",
       " 'objtype': 'pop',\n",
       " 'id': '3735917286448'}"
      ]
     },
     "execution_count": 3,
     "metadata": {},
     "output_type": "execute_result"
    }
   ],
   "source": [
    "# The pop here is our agent. We'll just grab one randomly. \n",
    "pop = test_queries.get_random_pop(c,'BillmanLocal2')\n",
    "pop\n"
   ]
  },
  {
   "attachments": {},
   "cell_type": "markdown",
   "metadata": {},
   "source": [
    "You can load the full actions list. The actions is kept in a Yaml file. This comes from `app/configurations`. It's only used in the Ajax views as the action is stored in the graph, so no need to copy to the funciton. "
   ]
  },
  {
   "cell_type": "code",
   "execution_count": 4,
   "metadata": {},
   "outputs": [
    {
     "data": {
      "text/html": [
       "<div>\n",
       "<style scoped>\n",
       "    .dataframe tbody tr th:only-of-type {\n",
       "        vertical-align: middle;\n",
       "    }\n",
       "\n",
       "    .dataframe tbody tr th {\n",
       "        vertical-align: top;\n",
       "    }\n",
       "\n",
       "    .dataframe thead th {\n",
       "        text-align: right;\n",
       "    }\n",
       "</style>\n",
       "<table border=\"1\" class=\"dataframe\">\n",
       "  <thead>\n",
       "    <tr style=\"text-align: right;\">\n",
       "      <th></th>\n",
       "      <th>type</th>\n",
       "      <th>label</th>\n",
       "      <th>applies_to</th>\n",
       "      <th>effort</th>\n",
       "      <th>requires_attr</th>\n",
       "      <th>augments_self_properties</th>\n",
       "      <th>comment</th>\n",
       "    </tr>\n",
       "  </thead>\n",
       "  <tbody>\n",
       "    <tr>\n",
       "      <th>0</th>\n",
       "      <td>healthcare_initiatives</td>\n",
       "      <td>action</td>\n",
       "      <td>pop</td>\n",
       "      <td>2</td>\n",
       "      <td>{'wealth': 0.1}</td>\n",
       "      <td>{'health': 0.05, 'wealth': '-.05'}</td>\n",
       "      <td>increase the health of your population slightl...</td>\n",
       "    </tr>\n",
       "    <tr>\n",
       "      <th>1</th>\n",
       "      <td>individual_education</td>\n",
       "      <td>action</td>\n",
       "      <td>pop</td>\n",
       "      <td>2</td>\n",
       "      <td>{'wealth': 0.1}</td>\n",
       "      <td>{'wealth': '-.1', 'literacy': 0.1, 'factionLoy...</td>\n",
       "      <td>expand privatized education, increase literacy...</td>\n",
       "    </tr>\n",
       "    <tr>\n",
       "      <th>2</th>\n",
       "      <td>patriot_education</td>\n",
       "      <td>action</td>\n",
       "      <td>pop</td>\n",
       "      <td>1</td>\n",
       "      <td>{'factionLoyalty': 0.1}</td>\n",
       "      <td>{'factionLoyalty': 0.05, 'literacy': 0.1, 'agg...</td>\n",
       "      <td>expand public education programs with a collec...</td>\n",
       "    </tr>\n",
       "    <tr>\n",
       "      <th>3</th>\n",
       "      <td>patriot_propoganda</td>\n",
       "      <td>action</td>\n",
       "      <td>pop</td>\n",
       "      <td>1</td>\n",
       "      <td>NaN</td>\n",
       "      <td>{'factionLoyalty': 0.1, 'conformity': 0.1, 'ag...</td>\n",
       "      <td>build national pride, increasin faction loyalt...</td>\n",
       "    </tr>\n",
       "    <tr>\n",
       "      <th>4</th>\n",
       "      <td>build_infrastructure</td>\n",
       "      <td>action</td>\n",
       "      <td>pop</td>\n",
       "      <td>3</td>\n",
       "      <td>{'wealth': 0.5}</td>\n",
       "      <td>{'wealth': -0.1, 'industry': 0.1}</td>\n",
       "      <td>increase industry by investing in local infras...</td>\n",
       "    </tr>\n",
       "    <tr>\n",
       "      <th>5</th>\n",
       "      <td>build_building</td>\n",
       "      <td>action</td>\n",
       "      <td>pop</td>\n",
       "      <td>1</td>\n",
       "      <td>NaN</td>\n",
       "      <td>NaN</td>\n",
       "      <td>opens the building window for that population ...</td>\n",
       "    </tr>\n",
       "  </tbody>\n",
       "</table>\n",
       "</div>"
      ],
      "text/plain": [
       "                     type   label applies_to  effort            requires_attr  \\\n",
       "0  healthcare_initiatives  action        pop       2          {'wealth': 0.1}   \n",
       "1    individual_education  action        pop       2          {'wealth': 0.1}   \n",
       "2       patriot_education  action        pop       1  {'factionLoyalty': 0.1}   \n",
       "3      patriot_propoganda  action        pop       1                      NaN   \n",
       "4    build_infrastructure  action        pop       3          {'wealth': 0.5}   \n",
       "5          build_building  action        pop       1                      NaN   \n",
       "\n",
       "                            augments_self_properties  \\\n",
       "0                 {'health': 0.05, 'wealth': '-.05'}   \n",
       "1  {'wealth': '-.1', 'literacy': 0.1, 'factionLoy...   \n",
       "2  {'factionLoyalty': 0.05, 'literacy': 0.1, 'agg...   \n",
       "3  {'factionLoyalty': 0.1, 'conformity': 0.1, 'ag...   \n",
       "4                  {'wealth': -0.1, 'industry': 0.1}   \n",
       "5                                                NaN   \n",
       "\n",
       "                                             comment  \n",
       "0  increase the health of your population slightl...  \n",
       "1  expand privatized education, increase literacy...  \n",
       "2  expand public education programs with a collec...  \n",
       "3  build national pride, increasin faction loyalt...  \n",
       "4  increase industry by investing in local infras...  \n",
       "5  opens the building window for that population ...  "
      ]
     },
     "execution_count": 4,
     "metadata": {},
     "output_type": "execute_result"
    }
   ],
   "source": [
    "all_actions = actions.get_actions_config()\n",
    "pd.DataFrame(all_actions)"
   ]
  },
  {
   "attachments": {},
   "cell_type": "markdown",
   "metadata": {},
   "source": [
    "`validator.validate()` returns the shotened list. of the actions that the population (or agent) can take. "
   ]
  },
  {
   "cell_type": "code",
   "execution_count": 5,
   "metadata": {},
   "outputs": [
    {
     "data": {
      "text/html": [
       "<div>\n",
       "<style scoped>\n",
       "    .dataframe tbody tr th:only-of-type {\n",
       "        vertical-align: middle;\n",
       "    }\n",
       "\n",
       "    .dataframe tbody tr th {\n",
       "        vertical-align: top;\n",
       "    }\n",
       "\n",
       "    .dataframe thead th {\n",
       "        text-align: right;\n",
       "    }\n",
       "</style>\n",
       "<table border=\"1\" class=\"dataframe\">\n",
       "  <thead>\n",
       "    <tr style=\"text-align: right;\">\n",
       "      <th></th>\n",
       "      <th>type</th>\n",
       "      <th>label</th>\n",
       "      <th>applies_to</th>\n",
       "      <th>effort</th>\n",
       "      <th>requires_attr</th>\n",
       "      <th>augments_self_properties</th>\n",
       "      <th>comment</th>\n",
       "    </tr>\n",
       "  </thead>\n",
       "  <tbody>\n",
       "    <tr>\n",
       "      <th>0</th>\n",
       "      <td>healthcare_initiatives</td>\n",
       "      <td>action</td>\n",
       "      <td>pop</td>\n",
       "      <td>2</td>\n",
       "      <td>{'wealth': 0.1}</td>\n",
       "      <td>{'health': 0.05, 'wealth': '-.05'}</td>\n",
       "      <td>increase the health of your population slightl...</td>\n",
       "    </tr>\n",
       "    <tr>\n",
       "      <th>1</th>\n",
       "      <td>individual_education</td>\n",
       "      <td>action</td>\n",
       "      <td>pop</td>\n",
       "      <td>2</td>\n",
       "      <td>{'wealth': 0.1}</td>\n",
       "      <td>{'wealth': '-.1', 'literacy': 0.1, 'factionLoy...</td>\n",
       "      <td>expand privatized education, increase literacy...</td>\n",
       "    </tr>\n",
       "    <tr>\n",
       "      <th>2</th>\n",
       "      <td>patriot_education</td>\n",
       "      <td>action</td>\n",
       "      <td>pop</td>\n",
       "      <td>1</td>\n",
       "      <td>{'factionLoyalty': 0.1}</td>\n",
       "      <td>{'factionLoyalty': 0.05, 'literacy': 0.1, 'agg...</td>\n",
       "      <td>expand public education programs with a collec...</td>\n",
       "    </tr>\n",
       "    <tr>\n",
       "      <th>3</th>\n",
       "      <td>patriot_propoganda</td>\n",
       "      <td>action</td>\n",
       "      <td>pop</td>\n",
       "      <td>1</td>\n",
       "      <td>NaN</td>\n",
       "      <td>{'factionLoyalty': 0.1, 'conformity': 0.1, 'ag...</td>\n",
       "      <td>build national pride, increasin faction loyalt...</td>\n",
       "    </tr>\n",
       "    <tr>\n",
       "      <th>4</th>\n",
       "      <td>build_building</td>\n",
       "      <td>action</td>\n",
       "      <td>pop</td>\n",
       "      <td>1</td>\n",
       "      <td>NaN</td>\n",
       "      <td>NaN</td>\n",
       "      <td>opens the building window for that population ...</td>\n",
       "    </tr>\n",
       "  </tbody>\n",
       "</table>\n",
       "</div>"
      ],
      "text/plain": [
       "                     type   label applies_to  effort            requires_attr  \\\n",
       "0  healthcare_initiatives  action        pop       2          {'wealth': 0.1}   \n",
       "1    individual_education  action        pop       2          {'wealth': 0.1}   \n",
       "2       patriot_education  action        pop       1  {'factionLoyalty': 0.1}   \n",
       "3      patriot_propoganda  action        pop       1                      NaN   \n",
       "4          build_building  action        pop       1                      NaN   \n",
       "\n",
       "                            augments_self_properties  \\\n",
       "0                 {'health': 0.05, 'wealth': '-.05'}   \n",
       "1  {'wealth': '-.1', 'literacy': 0.1, 'factionLoy...   \n",
       "2  {'factionLoyalty': 0.05, 'literacy': 0.1, 'agg...   \n",
       "3  {'factionLoyalty': 0.1, 'conformity': 0.1, 'ag...   \n",
       "4                                                NaN   \n",
       "\n",
       "                                             comment  \n",
       "0  increase the health of your population slightl...  \n",
       "1  expand privatized education, increase literacy...  \n",
       "2  expand public education programs with a collec...  \n",
       "3  build national pride, increasin faction loyalt...  \n",
       "4  opens the building window for that population ...  "
      ]
     },
     "execution_count": 5,
     "metadata": {},
     "output_type": "execute_result"
    }
   ],
   "source": [
    "validator = actions.ActionValidator(pop, all_actions)\n",
    "pd.DataFrame(validator.validate())"
   ]
  },
  {
   "attachments": {},
   "cell_type": "markdown",
   "metadata": {},
   "source": [
    "## Creating a job\n",
    "\n",
    "to create a job you need an agent and and action. This is done in the ajax views for that class (e.g. `app/ajaxviews/pop`) because they are a request from the UI.\n",
    "\n"
   ]
  },
  {
   "cell_type": "code",
   "execution_count": 6,
   "metadata": {},
   "outputs": [
    {
     "data": {
      "text/plain": [
       "[{'node1': '3735917286448',\n",
       "  'node2': '1234567890',\n",
       "  'label': 'takingAction',\n",
       "  'name': 'takingAction',\n",
       "  'weight': 10002,\n",
       "  'actionType': 'healthcare_initiatives',\n",
       "  'status': 'pending'}]"
      ]
     },
     "execution_count": 6,
     "metadata": {},
     "output_type": "execute_result"
    }
   ],
   "source": [
    "def create_job(pop, action, universalTime):\n",
    "    if type(universalTime) == list:\n",
    "        universalTime = universalTime[0]\n",
    "    time_to_complete = int(universalTime[\"currentTime\"]) + int(action[\"effort\"])\n",
    "    # not actually creating the node here, just demo.\n",
    "    # uid = create_action_node(c,action,pop)\n",
    "    popToAction = {\n",
    "        \"node1\": pop[\"objid\"],\n",
    "        \"node2\": \"1234567890\",\n",
    "        \"label\": \"takingAction\",\n",
    "        \"name\": \"takingAction\",\n",
    "        \"weight\": time_to_complete,\n",
    "        \"actionType\": action[\"type\"],\n",
    "        \"status\": \"pending\",\n",
    "    }\n",
    "    edges = [popToAction]\n",
    "    return edges\n",
    "\n",
    "\n",
    "time = {\"currentTime\": 10000}\n",
    "create_job(pop, all_actions[0], time)"
   ]
  },
  {
   "cell_type": "code",
   "execution_count": 7,
   "metadata": {},
   "outputs": [],
   "source": [
    "time = t.Time(c)"
   ]
  },
  {
   "cell_type": "code",
   "execution_count": 8,
   "metadata": {},
   "outputs": [
    {
     "data": {
      "text/plain": [
       "[]"
      ]
     },
     "execution_count": 8,
     "metadata": {},
     "output_type": "execute_result"
    }
   ],
   "source": [
    "time.get_global_actions()\n",
    "time.actions"
   ]
  },
  {
   "attachments": {},
   "cell_type": "markdown",
   "metadata": {},
   "source": [
    "All actions require both an agent, job and action. The properties of the action determine how it affects other things. \n"
   ]
  },
  {
   "attachments": {},
   "cell_type": "markdown",
   "metadata": {},
   "source": [
    "### Augments self properties\n",
    "Takes a dictionary of properties and augments them. Adds the property if it does not exist. \n"
   ]
  }
 ],
 "metadata": {
  "kernelspec": {
   "display_name": "exoplanets",
   "language": "python",
   "name": "python3"
  },
  "language_info": {
   "codemirror_mode": {
    "name": "ipython",
    "version": 3
   },
   "file_extension": ".py",
   "mimetype": "text/x-python",
   "name": "python",
   "nbconvert_exporter": "python",
   "pygments_lexer": "ipython3",
   "version": "3.8.16"
  },
  "orig_nbformat": 4,
  "vscode": {
   "interpreter": {
    "hash": "625a17269cb94aebb094cbcf5e0e8340f26b69d46569da60e8fc69439048adbf"
   }
  }
 },
 "nbformat": 4,
 "nbformat_minor": 2
}
