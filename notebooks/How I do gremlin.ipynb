{
 "cells": [
  {
   "cell_type": "markdown",
   "metadata": {},
   "source": [
    "# Running Azure Cosmos Gremlin\n",
    "\n",
    "I've built a lot of my own helper functions to make queries and manipulate data. I'll document them here\n",
    "\n",
    "It isim. "
   ]
  },
  {
   "cell_type": "markdown",
   "metadata": {},
   "source": [
    "First, I'm only using `nest_asyncio` to run the queries in cells. This is a requirement of how gremlinpython manages requests. "
   ]
  },
  {
   "cell_type": "code",
   "execution_count": 1,
   "metadata": {},
   "outputs": [],
   "source": [
    "import sys\r\n",
    "import pandas as pd\r\n",
    "sys.path.append('..')\r\n",
    "import helpers.dbquery as db\r\n",
    "# import helpers.functions as f\r\n",
    "import yaml, ssl, asyncio\r\n",
    "\r\n",
    "ssl._create_default_https_context = ssl._create_unverified_context\r\n",
    "asyncio.set_event_loop_policy(asyncio.WindowsSelectorEventLoopPolicy())\r\n",
    "import nest_asyncio\r\n",
    "# this is required for running in a Jupyter Notebook. \r\n",
    "nest_asyncio.apply()"
   ]
  },
  {
   "cell_type": "code",
   "execution_count": 2,
   "metadata": {},
   "outputs": [
    {
     "data": {
      "text/plain": "[7685]"
     },
     "execution_count": 2,
     "metadata": {},
     "output_type": "execute_result"
    }
   ],
   "source": [
    "db.run_query()"
   ]
  },
  {
   "cell_type": "markdown",
   "metadata": {},
   "source": [
    "the method `run_query` takes a query string and returns the json response. It manages the opening and closing of objects so you don't have to. "
   ]
  },
  {
   "cell_type": "code",
   "execution_count": 3,
   "metadata": {},
   "outputs": [
    {
     "data": {
      "text/plain": "[{'id': 'eaf7c9f0-85ce-4df9-b485-1c265a2ed629',\n  'label': 'orbits',\n  'type': 'edge',\n  'inVLabel': 'star',\n  'outVLabel': 'planet',\n  'inV': 'c68465f8-6a4c-4395-bdca-490418bb92e9',\n  'outV': 'e9e3acdf-2499-42d2-9c0a-28d5ea156a31',\n  'properties': {'username': 'userbill'}},\n {'id': '2bfc61d4-4aab-4e94-9d07-e1d6310bd909',\n  'label': 'orbits',\n  'type': 'edge',\n  'inVLabel': 'star',\n  'outVLabel': 'planet',\n  'inV': 'c68465f8-6a4c-4395-bdca-490418bb92e9',\n  'outV': '81d22fc0-94bf-4cff-8e50-f13918036e83',\n  'properties': {'username': 'userbill'}}]"
     },
     "execution_count": 3,
     "metadata": {},
     "output_type": "execute_result"
    }
   ],
   "source": [
    "res = db.run_query(\"g.V().hasLabel('system').has('username','userbill').limit(4).in().inE('orbits').limit(2)\")\n",
    "res"
   ]
  },
  {
   "cell_type": "markdown",
   "metadata": {},
   "source": [
    "This makes a great `dataframe`"
   ]
  },
  {
   "cell_type": "code",
   "execution_count": 4,
   "metadata": {},
   "outputs": [
    {
     "data": {
      "text/html": "<div>\n<style scoped>\n    .dataframe tbody tr th:only-of-type {\n        vertical-align: middle;\n    }\n\n    .dataframe tbody tr th {\n        vertical-align: top;\n    }\n\n    .dataframe thead th {\n        text-align: right;\n    }\n</style>\n<table border=\"1\" class=\"dataframe\">\n  <thead>\n    <tr style=\"text-align: right;\">\n      <th></th>\n      <th>id</th>\n      <th>label</th>\n      <th>type</th>\n      <th>inVLabel</th>\n      <th>outVLabel</th>\n      <th>inV</th>\n      <th>outV</th>\n      <th>properties</th>\n    </tr>\n  </thead>\n  <tbody>\n    <tr>\n      <th>0</th>\n      <td>eaf7c9f0-85ce-4df9-b485-1c265a2ed629</td>\n      <td>orbits</td>\n      <td>edge</td>\n      <td>star</td>\n      <td>planet</td>\n      <td>c68465f8-6a4c-4395-bdca-490418bb92e9</td>\n      <td>e9e3acdf-2499-42d2-9c0a-28d5ea156a31</td>\n      <td>{'username': 'userbill'}</td>\n    </tr>\n    <tr>\n      <th>1</th>\n      <td>2bfc61d4-4aab-4e94-9d07-e1d6310bd909</td>\n      <td>orbits</td>\n      <td>edge</td>\n      <td>star</td>\n      <td>planet</td>\n      <td>c68465f8-6a4c-4395-bdca-490418bb92e9</td>\n      <td>81d22fc0-94bf-4cff-8e50-f13918036e83</td>\n      <td>{'username': 'userbill'}</td>\n    </tr>\n    <tr>\n      <th>2</th>\n      <td>b7514407-16e6-472f-9931-30b197d7477c</td>\n      <td>orbits</td>\n      <td>edge</td>\n      <td>star</td>\n      <td>planet</td>\n      <td>c68465f8-6a4c-4395-bdca-490418bb92e9</td>\n      <td>32020fe0-1a7c-4c5c-80b7-310463f02fcb</td>\n      <td>{'username': 'userbill'}</td>\n    </tr>\n    <tr>\n      <th>3</th>\n      <td>8032638d-6dbd-4931-8259-f395a8a3bf35</td>\n      <td>orbits</td>\n      <td>edge</td>\n      <td>star</td>\n      <td>planet</td>\n      <td>c68465f8-6a4c-4395-bdca-490418bb92e9</td>\n      <td>9ad9d290-b3a3-4ddf-9de6-c335e5de8862</td>\n      <td>{'username': 'userbill'}</td>\n    </tr>\n    <tr>\n      <th>4</th>\n      <td>fc8d4a07-d15c-4187-a3e6-80dfc91a6824</td>\n      <td>orbits</td>\n      <td>edge</td>\n      <td>star</td>\n      <td>planet</td>\n      <td>c68465f8-6a4c-4395-bdca-490418bb92e9</td>\n      <td>fe6bbd75-6097-48af-bb64-d7c66e951107</td>\n      <td>{'username': 'userbill'}</td>\n    </tr>\n  </tbody>\n</table>\n</div>",
      "text/plain": "                                     id   label  type inVLabel outVLabel  \\\n0  eaf7c9f0-85ce-4df9-b485-1c265a2ed629  orbits  edge     star    planet   \n1  2bfc61d4-4aab-4e94-9d07-e1d6310bd909  orbits  edge     star    planet   \n2  b7514407-16e6-472f-9931-30b197d7477c  orbits  edge     star    planet   \n3  8032638d-6dbd-4931-8259-f395a8a3bf35  orbits  edge     star    planet   \n4  fc8d4a07-d15c-4187-a3e6-80dfc91a6824  orbits  edge     star    planet   \n\n                                    inV                                  outV  \\\n0  c68465f8-6a4c-4395-bdca-490418bb92e9  e9e3acdf-2499-42d2-9c0a-28d5ea156a31   \n1  c68465f8-6a4c-4395-bdca-490418bb92e9  81d22fc0-94bf-4cff-8e50-f13918036e83   \n2  c68465f8-6a4c-4395-bdca-490418bb92e9  32020fe0-1a7c-4c5c-80b7-310463f02fcb   \n3  c68465f8-6a4c-4395-bdca-490418bb92e9  9ad9d290-b3a3-4ddf-9de6-c335e5de8862   \n4  c68465f8-6a4c-4395-bdca-490418bb92e9  fe6bbd75-6097-48af-bb64-d7c66e951107   \n\n                 properties  \n0  {'username': 'userbill'}  \n1  {'username': 'userbill'}  \n2  {'username': 'userbill'}  \n3  {'username': 'userbill'}  \n4  {'username': 'userbill'}  "
     },
     "execution_count": 4,
     "metadata": {},
     "output_type": "execute_result"
    }
   ],
   "source": [
    "df = pd.DataFrame(db.run_query(\"g.V().hasLabel('system').has('username','userbill').in().inE('orbits')\"))\n",
    "df.head()"
   ]
  },
  {
   "cell_type": "markdown",
   "metadata": {},
   "source": [
    "## Adding Vertices and Edges\r\n",
    "\r\n",
    "I've added some functions that create the `g.addV()` command with all of the properties I want. This also forces some properties like `username` and `objtype` so I don't have to think about them. The function `create_vertex` just returns the string.\r\n",
    "\r\n",
    "**Note:** I'm using objtype as an extra lable as I found the query to be slightly cheaper when querying that value (e.g. `valueMap()`)than returning the actual lable maps (e.g. `valueMap(true)`).\r\n",
    "\r\n",
    "In the game, I'm adding `username` for the user's account so that I can easily filter data for that user. However in notebooks I've replaced the user account with `notebook` so that I can cleanup notebook runs easily.  This `username` is forced to `notebook`, so I can quickly cleanup. \r\n",
    "\r\n",
    "The node must include a label"
   ]
  },
  {
   "cell_type": "code",
   "execution_count": 5,
   "metadata": {},
   "outputs": [
    {
     "data": {
      "text/plain": "[\"g.addV('example').property('objid','6142915927627').property('property1','foo').property('property2','foo').property('username','notebook').property('objtype','example')\",\n \"g.addV('example').property('objid','8364060463296').property('property1','foo').property('property2','foo').property('username','notebook').property('objtype','example')\"]"
     },
     "execution_count": 5,
     "metadata": {},
     "output_type": "execute_result"
    }
   ],
   "source": [
    "nodes = [{\"label\":\"example\",\"objid\":db.uuid(),\"property1\":\"foo\",\"property2\":\"bar\"},\r\n",
    "        {\"label\":\"example\",\"objid\":db.uuid(),\"property1\":\"foo\",\"property2\":\"bar\"}]\r\n",
    "[db.create_vertex(node) for node in nodes]"
   ]
  },
  {
   "cell_type": "markdown",
   "metadata": {},
   "source": [
    "edges reuqure a `node1` and a `node2` object."
   ]
  },
  {
   "cell_type": "code",
   "execution_count": 6,
   "metadata": {},
   "outputs": [
    {
     "data": {
      "text/plain": "\"g.V().has('objid','6142915927627').addE('isExample').property('username','notebook').to(g.V().has('objid','8364060463296'))\""
     },
     "execution_count": 6,
     "metadata": {},
     "output_type": "execute_result"
    }
   ],
   "source": [
    "edge = {\"label\":\"isExample\",\"node1\":nodes[0][\"objid\"],\"node2\":nodes[1][\"objid\"]}\r\n",
    "db.create_edge(edge)"
   ]
  },
  {
   "cell_type": "markdown",
   "metadata": {},
   "source": [
    "The method `upload_data` requires a dict of both edges and nodes"
   ]
  },
  {
   "cell_type": "code",
   "execution_count": 8,
   "metadata": {},
   "outputs": [],
   "source": [
    "data = {'nodes':nodes,'edges':[edge]}\r\n",
    "db.upload_data(data)"
   ]
  },
  {
   "cell_type": "markdown",
   "metadata": {},
   "source": [
    "Once you have the values you can query them back, to confirm they are in the API. "
   ]
  },
  {
   "cell_type": "code",
   "execution_count": 11,
   "metadata": {},
   "outputs": [
    {
     "data": {
      "text/plain": "[{'objid': ['8064048771781'],\n  'property1': ['foo'],\n  'property2': ['foo'],\n  'username': ['notebook'],\n  'objtype': ['example']},\n {'objid': ['2691728947417'],\n  'property1': ['foo'],\n  'property2': ['foo'],\n  'username': ['notebook'],\n  'objtype': ['example']},\n {'objid': ['6142915927627'],\n  'property1': ['foo'],\n  'property2': ['foo'],\n  'username': ['notebook'],\n  'objtype': ['example']},\n {'objid': ['8364060463296'],\n  'property1': ['foo'],\n  'property2': ['foo'],\n  'username': ['notebook'],\n  'objtype': ['example']}]"
     },
     "execution_count": 11,
     "metadata": {},
     "output_type": "execute_result"
    }
   ],
   "source": [
    "res = db.run_query(\"g.V().has('username','notebook').valueMap()\")\r\n",
    "res"
   ]
  },
  {
   "cell_type": "code",
   "execution_count": null,
   "metadata": {},
   "outputs": [],
   "source": []
  }
 ],
 "metadata": {
  "kernelspec": {
   "display_name": "Python 3.7.0 64-bit ('exoplanets': conda)",
   "name": "exoplanets"
  },
  "language_info": {
   "name": "python",
   "version": ""
  }
 },
 "nbformat": 4,
 "nbformat_minor": 4
}