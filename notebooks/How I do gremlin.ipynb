{
 "cells": [
  {
   "cell_type": "markdown",
   "metadata": {},
   "source": [
    "# Running Azure Cosmos Gremlin\r\n",
    "\r\n",
    "I've built a lot of my own helper functions to make queries and manipulate data. I'll document them here\n",
    "\n",
    "It isim. "
   ]
  },
  {
   "cell_type": "markdown",
   "metadata": {},
   "source": [
    "First, I'm only using `nest_asyncio` to run the queries in cells. This is a requirement of how gremlinpython manages requests. "
   ]
  },
  {
   "cell_type": "code",
   "execution_count": 11,
   "metadata": {},
   "outputs": [],
   "source": [
    "import sys\n",
    "import pandas as pd\r\n",
    "sys.path.append('..')\r\n",
    "import helpers.dbquery as db\r\n",
    "# import helpers.functions as f\r\n",
    "import yaml, ssl, asyncio\r\n",
    "\r\n",
    "ssl._create_default_https_context = ssl._create_unverified_context\r\n",
    "asyncio.set_event_loop_policy(asyncio.WindowsSelectorEventLoopPolicy())\r\n",
    "import nest_asyncio\r\n",
    "# this is required for running in a Jupyter Notebook. \r\n",
    "nest_asyncio.apply()"
   ]
  },
  {
   "cell_type": "code",
   "execution_count": 12,
   "metadata": {},
   "outputs": [
    {
     "data": {
      "text/plain": [
       "[7683]"
      ]
     },
     "execution_count": 12,
     "metadata": {},
     "output_type": "execute_result"
    }
   ],
   "source": [
    "db.run_query()"
   ]
  },
  {
   "cell_type": "markdown",
   "metadata": {},
   "source": [
    "the method `run_query` takes a query string and returns the json response. It manages the opening and closing of objects so you don't have to. "
   ]
  },
  {
   "cell_type": "code",
   "execution_count": 13,
   "metadata": {},
   "outputs": [
    {
     "data": {
      "text/plain": [
       "[{'id': 'eaf7c9f0-85ce-4df9-b485-1c265a2ed629',\n",
       "  'label': 'orbits',\n",
       "  'type': 'edge',\n",
       "  'inVLabel': 'star',\n",
       "  'outVLabel': 'planet',\n",
       "  'inV': 'c68465f8-6a4c-4395-bdca-490418bb92e9',\n",
       "  'outV': 'e9e3acdf-2499-42d2-9c0a-28d5ea156a31',\n",
       "  'properties': {'username': 'userbill'}},\n",
       " {'id': '2bfc61d4-4aab-4e94-9d07-e1d6310bd909',\n",
       "  'label': 'orbits',\n",
       "  'type': 'edge',\n",
       "  'inVLabel': 'star',\n",
       "  'outVLabel': 'planet',\n",
       "  'inV': 'c68465f8-6a4c-4395-bdca-490418bb92e9',\n",
       "  'outV': '81d22fc0-94bf-4cff-8e50-f13918036e83',\n",
       "  'properties': {'username': 'userbill'}}]"
      ]
     },
     "execution_count": 13,
     "metadata": {},
     "output_type": "execute_result"
    }
   ],
   "source": [
    "res = db.run_query(\"g.V().hasLabel('system').has('username','userbill').limit(4).in().inE('orbits').limit(2)\")\n",
    "res"
   ]
  },
  {
   "cell_type": "markdown",
   "metadata": {},
   "source": [
    "This makes a great `dataframe`"
   ]
  },
  {
   "cell_type": "code",
   "execution_count": 17,
   "metadata": {},
   "outputs": [
    {
     "data": {
      "text/html": [
       "<div>\n",
       "<style scoped>\n",
       "    .dataframe tbody tr th:only-of-type {\n",
       "        vertical-align: middle;\n",
       "    }\n",
       "\n",
       "    .dataframe tbody tr th {\n",
       "        vertical-align: top;\n",
       "    }\n",
       "\n",
       "    .dataframe thead th {\n",
       "        text-align: right;\n",
       "    }\n",
       "</style>\n",
       "<table border=\"1\" class=\"dataframe\">\n",
       "  <thead>\n",
       "    <tr style=\"text-align: right;\">\n",
       "      <th></th>\n",
       "      <th>id</th>\n",
       "      <th>label</th>\n",
       "      <th>type</th>\n",
       "      <th>inVLabel</th>\n",
       "      <th>outVLabel</th>\n",
       "      <th>inV</th>\n",
       "      <th>outV</th>\n",
       "      <th>properties</th>\n",
       "    </tr>\n",
       "  </thead>\n",
       "  <tbody>\n",
       "    <tr>\n",
       "      <th>0</th>\n",
       "      <td>eaf7c9f0-85ce-4df9-b485-1c265a2ed629</td>\n",
       "      <td>orbits</td>\n",
       "      <td>edge</td>\n",
       "      <td>star</td>\n",
       "      <td>planet</td>\n",
       "      <td>c68465f8-6a4c-4395-bdca-490418bb92e9</td>\n",
       "      <td>e9e3acdf-2499-42d2-9c0a-28d5ea156a31</td>\n",
       "      <td>{'username': 'userbill'}</td>\n",
       "    </tr>\n",
       "    <tr>\n",
       "      <th>1</th>\n",
       "      <td>2bfc61d4-4aab-4e94-9d07-e1d6310bd909</td>\n",
       "      <td>orbits</td>\n",
       "      <td>edge</td>\n",
       "      <td>star</td>\n",
       "      <td>planet</td>\n",
       "      <td>c68465f8-6a4c-4395-bdca-490418bb92e9</td>\n",
       "      <td>81d22fc0-94bf-4cff-8e50-f13918036e83</td>\n",
       "      <td>{'username': 'userbill'}</td>\n",
       "    </tr>\n",
       "    <tr>\n",
       "      <th>2</th>\n",
       "      <td>b7514407-16e6-472f-9931-30b197d7477c</td>\n",
       "      <td>orbits</td>\n",
       "      <td>edge</td>\n",
       "      <td>star</td>\n",
       "      <td>planet</td>\n",
       "      <td>c68465f8-6a4c-4395-bdca-490418bb92e9</td>\n",
       "      <td>32020fe0-1a7c-4c5c-80b7-310463f02fcb</td>\n",
       "      <td>{'username': 'userbill'}</td>\n",
       "    </tr>\n",
       "    <tr>\n",
       "      <th>3</th>\n",
       "      <td>8032638d-6dbd-4931-8259-f395a8a3bf35</td>\n",
       "      <td>orbits</td>\n",
       "      <td>edge</td>\n",
       "      <td>star</td>\n",
       "      <td>planet</td>\n",
       "      <td>c68465f8-6a4c-4395-bdca-490418bb92e9</td>\n",
       "      <td>9ad9d290-b3a3-4ddf-9de6-c335e5de8862</td>\n",
       "      <td>{'username': 'userbill'}</td>\n",
       "    </tr>\n",
       "    <tr>\n",
       "      <th>4</th>\n",
       "      <td>fc8d4a07-d15c-4187-a3e6-80dfc91a6824</td>\n",
       "      <td>orbits</td>\n",
       "      <td>edge</td>\n",
       "      <td>star</td>\n",
       "      <td>planet</td>\n",
       "      <td>c68465f8-6a4c-4395-bdca-490418bb92e9</td>\n",
       "      <td>fe6bbd75-6097-48af-bb64-d7c66e951107</td>\n",
       "      <td>{'username': 'userbill'}</td>\n",
       "    </tr>\n",
       "  </tbody>\n",
       "</table>\n",
       "</div>"
      ],
      "text/plain": [
       "                                     id   label  type inVLabel outVLabel  \\\n",
       "0  eaf7c9f0-85ce-4df9-b485-1c265a2ed629  orbits  edge     star    planet   \n",
       "1  2bfc61d4-4aab-4e94-9d07-e1d6310bd909  orbits  edge     star    planet   \n",
       "2  b7514407-16e6-472f-9931-30b197d7477c  orbits  edge     star    planet   \n",
       "3  8032638d-6dbd-4931-8259-f395a8a3bf35  orbits  edge     star    planet   \n",
       "4  fc8d4a07-d15c-4187-a3e6-80dfc91a6824  orbits  edge     star    planet   \n",
       "\n",
       "                                    inV                                  outV  \\\n",
       "0  c68465f8-6a4c-4395-bdca-490418bb92e9  e9e3acdf-2499-42d2-9c0a-28d5ea156a31   \n",
       "1  c68465f8-6a4c-4395-bdca-490418bb92e9  81d22fc0-94bf-4cff-8e50-f13918036e83   \n",
       "2  c68465f8-6a4c-4395-bdca-490418bb92e9  32020fe0-1a7c-4c5c-80b7-310463f02fcb   \n",
       "3  c68465f8-6a4c-4395-bdca-490418bb92e9  9ad9d290-b3a3-4ddf-9de6-c335e5de8862   \n",
       "4  c68465f8-6a4c-4395-bdca-490418bb92e9  fe6bbd75-6097-48af-bb64-d7c66e951107   \n",
       "\n",
       "                 properties  \n",
       "0  {'username': 'userbill'}  \n",
       "1  {'username': 'userbill'}  \n",
       "2  {'username': 'userbill'}  \n",
       "3  {'username': 'userbill'}  \n",
       "4  {'username': 'userbill'}  "
      ]
     },
     "execution_count": 17,
     "metadata": {},
     "output_type": "execute_result"
    }
   ],
   "source": [
    "df = pd.DataFrame(db.run_query(\"g.V().hasLabel('system').has('username','userbill').in().inE('orbits')\"))\n",
    "df.head()"
   ]
  },
  {
   "cell_type": "code",
   "execution_count": null,
   "metadata": {},
   "outputs": [],
   "source": []
  }
 ],
 "metadata": {
  "kernelspec": {
   "display_name": "Python (exoplanets)",
   "language": "python",
   "name": "exoplanets"
  },
  "language_info": {
   "codemirror_mode": {
    "name": "ipython",
    "version": 3
   },
   "file_extension": ".py",
   "mimetype": "text/x-python",
   "name": "python",
   "nbconvert_exporter": "python",
   "pygments_lexer": "ipython3",
   "version": "3.7.0"
  }
 },
 "nbformat": 4,
 "nbformat_minor": 4
}
