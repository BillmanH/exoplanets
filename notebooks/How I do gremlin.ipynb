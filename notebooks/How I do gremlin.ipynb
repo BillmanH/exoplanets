{
 "cells": [
  {
   "cell_type": "markdown",
   "metadata": {},
   "source": [
    "# Running Azure Cosmos Gremlin\n",
    "\n",
    "I've built a lot of my own helper functions to make queries and manipulate data. I'll document them here\n",
    "\n",
    "It isim. "
   ]
  },
  {
   "cell_type": "markdown",
   "metadata": {},
   "source": [
    "First, I'm only using `nest_asyncio` to run the queries in cells. This is a requirement of how gremlinpython manages requests. "
   ]
  },
  {
   "cell_type": "code",
   "execution_count": 3,
   "metadata": {},
   "outputs": [],
   "source": [
    "import sys\n",
    "import pandas as pd\n",
    "sys.path.append('..')\n",
    "import helpers.dbquery as db\n",
    "# import helpers.functions as f\n",
    "import yaml, ssl, asyncio\n",
    "\n",
    "ssl._create_default_https_context = ssl._create_unverified_context\n",
    "asyncio.set_event_loop_policy(asyncio.WindowsSelectorEventLoopPolicy())\n",
    "import nest_asyncio\n",
    "# this is required for running in a Jupyter Notebook. \n",
    "nest_asyncio.apply()"
   ]
  },
  {
   "cell_type": "code",
   "execution_count": 2,
   "metadata": {},
   "outputs": [
    {
     "data": {
      "text/plain": [
       "[8043]"
      ]
     },
     "execution_count": 2,
     "metadata": {},
     "output_type": "execute_result"
    }
   ],
   "source": [
    "db.run_query()"
   ]
  },
  {
   "cell_type": "markdown",
   "metadata": {},
   "source": [
    "the method `run_query` takes a query string and returns the json response. It manages the opening and closing of objects so you don't have to. "
   ]
  },
  {
   "cell_type": "code",
   "execution_count": 3,
   "metadata": {},
   "outputs": [
    {
     "data": {
      "text/plain": [
       "[{'id': 'eaf7c9f0-85ce-4df9-b485-1c265a2ed629',\n",
       "  'label': 'orbits',\n",
       "  'type': 'edge',\n",
       "  'inVLabel': 'star',\n",
       "  'outVLabel': 'planet',\n",
       "  'inV': 'c68465f8-6a4c-4395-bdca-490418bb92e9',\n",
       "  'outV': 'e9e3acdf-2499-42d2-9c0a-28d5ea156a31',\n",
       "  'properties': {'username': 'userbill'}},\n",
       " {'id': '2bfc61d4-4aab-4e94-9d07-e1d6310bd909',\n",
       "  'label': 'orbits',\n",
       "  'type': 'edge',\n",
       "  'inVLabel': 'star',\n",
       "  'outVLabel': 'planet',\n",
       "  'inV': 'c68465f8-6a4c-4395-bdca-490418bb92e9',\n",
       "  'outV': '81d22fc0-94bf-4cff-8e50-f13918036e83',\n",
       "  'properties': {'username': 'userbill'}}]"
      ]
     },
     "execution_count": 3,
     "metadata": {},
     "output_type": "execute_result"
    }
   ],
   "source": [
    "res = db.run_query(\"g.V().hasLabel('system').has('username','userbill').limit(4).in().inE('orbits').limit(2)\")\n",
    "res"
   ]
  },
  {
   "cell_type": "markdown",
   "metadata": {},
   "source": [
    "This makes a great `dataframe`"
   ]
  },
  {
   "cell_type": "code",
   "execution_count": 4,
   "metadata": {},
   "outputs": [
    {
     "data": {
      "text/html": [
       "<div>\n",
       "<style scoped>\n",
       "    .dataframe tbody tr th:only-of-type {\n",
       "        vertical-align: middle;\n",
       "    }\n",
       "\n",
       "    .dataframe tbody tr th {\n",
       "        vertical-align: top;\n",
       "    }\n",
       "\n",
       "    .dataframe thead th {\n",
       "        text-align: right;\n",
       "    }\n",
       "</style>\n",
       "<table border=\"1\" class=\"dataframe\">\n",
       "  <thead>\n",
       "    <tr style=\"text-align: right;\">\n",
       "      <th></th>\n",
       "      <th>id</th>\n",
       "      <th>label</th>\n",
       "      <th>type</th>\n",
       "      <th>inVLabel</th>\n",
       "      <th>outVLabel</th>\n",
       "      <th>inV</th>\n",
       "      <th>outV</th>\n",
       "      <th>properties</th>\n",
       "    </tr>\n",
       "  </thead>\n",
       "  <tbody>\n",
       "    <tr>\n",
       "      <th>0</th>\n",
       "      <td>eaf7c9f0-85ce-4df9-b485-1c265a2ed629</td>\n",
       "      <td>orbits</td>\n",
       "      <td>edge</td>\n",
       "      <td>star</td>\n",
       "      <td>planet</td>\n",
       "      <td>c68465f8-6a4c-4395-bdca-490418bb92e9</td>\n",
       "      <td>e9e3acdf-2499-42d2-9c0a-28d5ea156a31</td>\n",
       "      <td>{'username': 'userbill'}</td>\n",
       "    </tr>\n",
       "    <tr>\n",
       "      <th>1</th>\n",
       "      <td>2bfc61d4-4aab-4e94-9d07-e1d6310bd909</td>\n",
       "      <td>orbits</td>\n",
       "      <td>edge</td>\n",
       "      <td>star</td>\n",
       "      <td>planet</td>\n",
       "      <td>c68465f8-6a4c-4395-bdca-490418bb92e9</td>\n",
       "      <td>81d22fc0-94bf-4cff-8e50-f13918036e83</td>\n",
       "      <td>{'username': 'userbill'}</td>\n",
       "    </tr>\n",
       "    <tr>\n",
       "      <th>2</th>\n",
       "      <td>b7514407-16e6-472f-9931-30b197d7477c</td>\n",
       "      <td>orbits</td>\n",
       "      <td>edge</td>\n",
       "      <td>star</td>\n",
       "      <td>planet</td>\n",
       "      <td>c68465f8-6a4c-4395-bdca-490418bb92e9</td>\n",
       "      <td>32020fe0-1a7c-4c5c-80b7-310463f02fcb</td>\n",
       "      <td>{'username': 'userbill'}</td>\n",
       "    </tr>\n",
       "    <tr>\n",
       "      <th>3</th>\n",
       "      <td>8032638d-6dbd-4931-8259-f395a8a3bf35</td>\n",
       "      <td>orbits</td>\n",
       "      <td>edge</td>\n",
       "      <td>star</td>\n",
       "      <td>planet</td>\n",
       "      <td>c68465f8-6a4c-4395-bdca-490418bb92e9</td>\n",
       "      <td>9ad9d290-b3a3-4ddf-9de6-c335e5de8862</td>\n",
       "      <td>{'username': 'userbill'}</td>\n",
       "    </tr>\n",
       "    <tr>\n",
       "      <th>4</th>\n",
       "      <td>fc8d4a07-d15c-4187-a3e6-80dfc91a6824</td>\n",
       "      <td>orbits</td>\n",
       "      <td>edge</td>\n",
       "      <td>star</td>\n",
       "      <td>planet</td>\n",
       "      <td>c68465f8-6a4c-4395-bdca-490418bb92e9</td>\n",
       "      <td>fe6bbd75-6097-48af-bb64-d7c66e951107</td>\n",
       "      <td>{'username': 'userbill'}</td>\n",
       "    </tr>\n",
       "  </tbody>\n",
       "</table>\n",
       "</div>"
      ],
      "text/plain": [
       "                                     id   label  type inVLabel outVLabel  \\\n",
       "0  eaf7c9f0-85ce-4df9-b485-1c265a2ed629  orbits  edge     star    planet   \n",
       "1  2bfc61d4-4aab-4e94-9d07-e1d6310bd909  orbits  edge     star    planet   \n",
       "2  b7514407-16e6-472f-9931-30b197d7477c  orbits  edge     star    planet   \n",
       "3  8032638d-6dbd-4931-8259-f395a8a3bf35  orbits  edge     star    planet   \n",
       "4  fc8d4a07-d15c-4187-a3e6-80dfc91a6824  orbits  edge     star    planet   \n",
       "\n",
       "                                    inV                                  outV  \\\n",
       "0  c68465f8-6a4c-4395-bdca-490418bb92e9  e9e3acdf-2499-42d2-9c0a-28d5ea156a31   \n",
       "1  c68465f8-6a4c-4395-bdca-490418bb92e9  81d22fc0-94bf-4cff-8e50-f13918036e83   \n",
       "2  c68465f8-6a4c-4395-bdca-490418bb92e9  32020fe0-1a7c-4c5c-80b7-310463f02fcb   \n",
       "3  c68465f8-6a4c-4395-bdca-490418bb92e9  9ad9d290-b3a3-4ddf-9de6-c335e5de8862   \n",
       "4  c68465f8-6a4c-4395-bdca-490418bb92e9  fe6bbd75-6097-48af-bb64-d7c66e951107   \n",
       "\n",
       "                 properties  \n",
       "0  {'username': 'userbill'}  \n",
       "1  {'username': 'userbill'}  \n",
       "2  {'username': 'userbill'}  \n",
       "3  {'username': 'userbill'}  \n",
       "4  {'username': 'userbill'}  "
      ]
     },
     "execution_count": 4,
     "metadata": {},
     "output_type": "execute_result"
    }
   ],
   "source": [
    "df = pd.DataFrame(db.run_query(\"g.V().hasLabel('system').has('username','userbill').in().inE('orbits')\"))\n",
    "df.head()"
   ]
  },
  {
   "cell_type": "markdown",
   "metadata": {},
   "source": [
    "## Adding Vertices and Edges\n",
    "\n",
    "I've added some functions that create the `g.addV()` command with all of the properties I want. This also forces some properties like `username` and `objtype` so I don't have to think about them. The function `create_vertex` just returns the string.\n",
    "\n",
    "**Note:** I'm using objtype as an extra lable as I found the query to be slightly cheaper when querying that value (e.g. `valueMap()`)than returning the actual lable maps (e.g. `valueMap(true)`).\n",
    "\n",
    "In the game, I'm adding `username` for the user's account so that I can easily filter data for that user. However in notebooks I've replaced the user account with `notebook` so that I can cleanup notebook runs easily.  This `username` is forced to `notebook`, so I can quickly cleanup. \n",
    "\n",
    "The node must include a label"
   ]
  },
  {
   "cell_type": "code",
   "execution_count": 5,
   "metadata": {},
   "outputs": [
    {
     "data": {
      "text/plain": [
       "[\"g.addV('example').property('objid','6142915927627').property('property1','foo').property('property2','foo').property('username','notebook').property('objtype','example')\",\n",
       " \"g.addV('example').property('objid','8364060463296').property('property1','foo').property('property2','foo').property('username','notebook').property('objtype','example')\"]"
      ]
     },
     "execution_count": 5,
     "metadata": {},
     "output_type": "execute_result"
    }
   ],
   "source": [
    "nodes = [{\"label\":\"example\",\"objid\":db.uuid(),\"property1\":\"foo\",\"property2\":\"bar\"},\n",
    "        {\"label\":\"example\",\"objid\":db.uuid(),\"property1\":\"foo\",\"property2\":\"bar\"}]\n",
    "[db.create_vertex(node) for node in nodes]"
   ]
  },
  {
   "cell_type": "markdown",
   "metadata": {},
   "source": [
    "edges reuqure a `node1` and a `node2` object."
   ]
  },
  {
   "cell_type": "code",
   "execution_count": 6,
   "metadata": {},
   "outputs": [
    {
     "data": {
      "text/plain": [
       "\"g.V().has('objid','6142915927627').addE('isExample').property('username','notebook').to(g.V().has('objid','8364060463296'))\""
      ]
     },
     "execution_count": 6,
     "metadata": {},
     "output_type": "execute_result"
    }
   ],
   "source": [
    "edge = {\"label\":\"isExample\",\"node1\":nodes[0][\"objid\"],\"node2\":nodes[1][\"objid\"]}\n",
    "db.create_edge(edge)"
   ]
  },
  {
   "cell_type": "markdown",
   "metadata": {},
   "source": [
    "The method `upload_data` requires a dict of both edges and nodes"
   ]
  },
  {
   "cell_type": "code",
   "execution_count": 8,
   "metadata": {},
   "outputs": [],
   "source": [
    "data = {'nodes':nodes,'edges':[edge]}\n",
    "db.upload_data(data)"
   ]
  },
  {
   "cell_type": "markdown",
   "metadata": {},
   "source": [
    "Once you have the values you can query them back, to confirm they are in the API. "
   ]
  },
  {
   "cell_type": "code",
   "execution_count": 11,
   "metadata": {},
   "outputs": [
    {
     "data": {
      "text/plain": [
       "[{'objid': ['8064048771781'],\n",
       "  'property1': ['foo'],\n",
       "  'property2': ['foo'],\n",
       "  'username': ['notebook'],\n",
       "  'objtype': ['example']},\n",
       " {'objid': ['2691728947417'],\n",
       "  'property1': ['foo'],\n",
       "  'property2': ['foo'],\n",
       "  'username': ['notebook'],\n",
       "  'objtype': ['example']},\n",
       " {'objid': ['6142915927627'],\n",
       "  'property1': ['foo'],\n",
       "  'property2': ['foo'],\n",
       "  'username': ['notebook'],\n",
       "  'objtype': ['example']},\n",
       " {'objid': ['8364060463296'],\n",
       "  'property1': ['foo'],\n",
       "  'property2': ['foo'],\n",
       "  'username': ['notebook'],\n",
       "  'objtype': ['example']}]"
      ]
     },
     "execution_count": 11,
     "metadata": {},
     "output_type": "execute_result"
    }
   ],
   "source": [
    "res = db.run_query(\"g.V().has('username','notebook').valueMap()\")\n",
    "res"
   ]
  },
  {
   "cell_type": "markdown",
   "metadata": {},
   "source": [
    "## Time\n"
   ]
  },
  {
   "cell_type": "code",
   "execution_count": 77,
   "metadata": {},
   "outputs": [
    {
     "data": {
      "text/plain": [
       "{'currentTime': 11086,\n",
       " 'updatedFrom': 'azfunction',\n",
       " 'objid': '7263327370874',\n",
       " 'name': 'time',\n",
       " 'originTime': 0,\n",
       " 'username': 'notebook',\n",
       " 'objtype': 'time',\n",
       " 'id': '7263327370874'}"
      ]
     },
     "execution_count": 77,
     "metadata": {},
     "output_type": "execute_result"
    }
   ],
   "source": [
    "res = db.run_query(\"g.V().hasLabel('time').valueMap()\")\n",
    "time = [db.clean_node(n) for n in res][0]\n",
    "time"
   ]
  },
  {
   "cell_type": "markdown",
   "metadata": {},
   "source": [
    "## Actions and Jobs\n"
   ]
  },
  {
   "cell_type": "code",
   "execution_count": 45,
   "metadata": {},
   "outputs": [],
   "source": [
    "actions_query = \"\"\"\n",
    "    g.E().haslabel('takingAction').has('status','pending').as('job')\n",
    "        .outV().as('agent').path().by(valueMap())\n",
    "\"\"\""
   ]
  },
  {
   "cell_type": "markdown",
   "metadata": {},
   "source": [
    "A traversal has a much more complicated shape that a simply list-of-nodes."
   ]
  },
  {
   "cell_type": "code",
   "execution_count": 81,
   "metadata": {},
   "outputs": [],
   "source": [
    "actions = db.run_query(actions_query)"
   ]
  },
  {
   "cell_type": "code",
   "execution_count": 82,
   "metadata": {},
   "outputs": [
    {
     "data": {
      "text/plain": [
       "[{'job': {'status': 'pending',\n",
       "   'actionType': 'patriot_education',\n",
       "   'weight': '11090',\n",
       "   'username': 'notebook',\n",
       "   'name': 'takingAction',\n",
       "   'applies_to': 'pop',\n",
       "   'effort': '10',\n",
       "   'requires_attr': 'faction_loyalty;.1',\n",
       "   'requirement_description': 'faction loyalty must be > .1',\n",
       "   'augments_self_properties': 'faction_loyalty,literacy,aggression;0.05,0.01,0.05',\n",
       "   'comment': 'expand public education programs with a collective theme, increase literacy and faction loyalty. However, will cause some militaristic tendancies.',\n",
       "   'objtype': 'action'},\n",
       "  'agent': {'isIdle': 'false',\n",
       "   'conformity': 0.35,\n",
       "   'literacy': 0.638,\n",
       "   'aggression': 0.514,\n",
       "   'constitution': 0.793,\n",
       "   'objid': '1634757778071',\n",
       "   'health': 0.5,\n",
       "   'faction_no': 1,\n",
       "   'name': 'Gorskmer Tha',\n",
       "   'isInFaction': '9195085456882',\n",
       "   'industry': 0.6535,\n",
       "   'wealth': 0.6458,\n",
       "   'faction_loyalty': 0.4262,\n",
       "   'username': 'BillmanLocal2',\n",
       "   'objtype': 'pop',\n",
       "   'id': '1634757778071'}},\n",
       " {'job': {'status': 'pending',\n",
       "   'username': 'notebook',\n",
       "   'name': 'takingAction',\n",
       "   'weight': '11090',\n",
       "   'actionType': 'patriot_education',\n",
       "   'applies_to': 'pop',\n",
       "   'effort': '10',\n",
       "   'requires_attr': 'faction_loyalty;.1',\n",
       "   'requirement_description': 'faction loyalty must be > .1',\n",
       "   'augments_self_properties': 'faction_loyalty,literacy,aggression;0.05,0.01,0.05',\n",
       "   'comment': 'expand public education programs with a collective theme, increase literacy and faction loyalty. However, will cause some militaristic tendancies.',\n",
       "   'objtype': 'action'},\n",
       "  'agent': {'isIdle': 'false',\n",
       "   'conformity': 0.199,\n",
       "   'literacy': 0.549,\n",
       "   'aggression': 0.655,\n",
       "   'constitution': 0.394,\n",
       "   'objid': '8814484830912',\n",
       "   'health': 0.5,\n",
       "   'faction_no': 0,\n",
       "   'name': 'Ede Beachpal',\n",
       "   'isInFaction': '5454708234699',\n",
       "   'industry': 0.5245,\n",
       "   'wealth': 0.5368,\n",
       "   'faction_loyalty': 0.5508,\n",
       "   'username': 'BillmanLocal2',\n",
       "   'objtype': 'pop',\n",
       "   'id': '8814484830912'}},\n",
       " {'job': {'status': 'pending',\n",
       "   'username': 'notebook',\n",
       "   'name': 'takingAction',\n",
       "   'weight': '11090',\n",
       "   'actionType': 'patriot_education',\n",
       "   'applies_to': 'pop',\n",
       "   'effort': '10',\n",
       "   'requires_attr': 'faction_loyalty;.1',\n",
       "   'requirement_description': 'faction loyalty must be > .1',\n",
       "   'augments_self_properties': 'faction_loyalty,literacy,aggression;0.05,0.01,0.05',\n",
       "   'comment': 'expand public education programs with a collective theme, increase literacy and faction loyalty. However, will cause some militaristic tendancies.',\n",
       "   'objtype': 'action'},\n",
       "  'agent': {'isIdle': 'false',\n",
       "   'conformity': 0.633,\n",
       "   'literacy': 0.73,\n",
       "   'aggression': 0.429,\n",
       "   'constitution': 0.458,\n",
       "   'objid': '0008070192167',\n",
       "   'health': 0.5,\n",
       "   'faction_no': 1,\n",
       "   'name': 'Gorskmer Ca',\n",
       "   'isInFaction': '9195085456882',\n",
       "   'industry': 0.4435,\n",
       "   'wealth': 0.5868,\n",
       "   'faction_loyalty': 0.4375,\n",
       "   'username': 'BillmanLocal2',\n",
       "   'objtype': 'pop',\n",
       "   'id': '0008070192167'}}]"
      ]
     },
     "execution_count": 82,
     "metadata": {},
     "output_type": "execute_result"
    }
   ],
   "source": [
    "\n",
    "act = []\n",
    "for action in actions:\n",
    "    lab = {}\n",
    "    for itr,itm in enumerate(action['labels']):\n",
    "        lab[itm[0]] = db.clean_node(action['objects'][itr])\n",
    "    act.append(lab)\n",
    "\n",
    "act\n",
    "        \n",
    "    "
   ]
  },
  {
   "cell_type": "code",
   "execution_count": 83,
   "metadata": {},
   "outputs": [
    {
     "data": {
      "text/plain": [
       "3"
      ]
     },
     "execution_count": 83,
     "metadata": {},
     "output_type": "execute_result"
    }
   ],
   "source": [
    "len(act)"
   ]
  },
  {
   "cell_type": "code",
   "execution_count": 84,
   "metadata": {},
   "outputs": [],
   "source": [
    "j = act[0]['job']\n",
    "a = act[0]['agent']\n"
   ]
  },
  {
   "cell_type": "code",
   "execution_count": 85,
   "metadata": {},
   "outputs": [
    {
     "name": "stdout",
     "output_type": "stream",
     "text": [
      "currentTime: 11086; weight: 11090\n"
     ]
    },
    {
     "data": {
      "text/plain": [
       "False"
      ]
     },
     "execution_count": 85,
     "metadata": {},
     "output_type": "execute_result"
    }
   ],
   "source": [
    "def validate_action(time,a):\n",
    "    print(f\"currentTime: {time['currentTime']}; weight: {a['weight']}\")\n",
    "    if int(a['weight']) < int(time['currentTime']):\n",
    "        return True\n",
    "    else:\n",
    "        return False\n",
    "\n",
    "validate_action(time,j)"
   ]
  },
  {
   "cell_type": "code",
   "execution_count": 69,
   "metadata": {},
   "outputs": [],
   "source": [
    "patched_properties = j['augments_self_properties'].split(\";\")[0].split(\",\")\n",
    "patched_values = [float(f) for f in j['augments_self_properties'].split(\";\")[1].split(\",\")]\n",
    "\n",
    "new_a = {}\n",
    "for itr,itm in enumerate(patched_properties):\n",
    "    new_a[itm] = round(a[itm]+patched_values[itr], 4)"
   ]
  },
  {
   "cell_type": "code",
   "execution_count": 70,
   "metadata": {},
   "outputs": [
    {
     "data": {
      "text/plain": [
       "{'isIdle': 'false',\n",
       " 'conformity': 0.35,\n",
       " 'literacy': 0.638,\n",
       " 'aggression': 0.514,\n",
       " 'constitution': 0.793,\n",
       " 'objid': '1634757778071',\n",
       " 'health': 0.5,\n",
       " 'faction_no': 1,\n",
       " 'name': 'Gorskmer Tha',\n",
       " 'isInFaction': '9195085456882',\n",
       " 'industry': 0.6535,\n",
       " 'wealth': 0.6458,\n",
       " 'faction_loyalty': 0.4262,\n",
       " 'username': 'BillmanLocal2',\n",
       " 'objtype': 'pop',\n",
       " 'id': '1634757778071'}"
      ]
     },
     "execution_count": 70,
     "metadata": {},
     "output_type": "execute_result"
    }
   ],
   "source": [
    "a"
   ]
  },
  {
   "cell_type": "code",
   "execution_count": 71,
   "metadata": {},
   "outputs": [
    {
     "data": {
      "text/plain": [
       "{'faction_loyalty': 0.4762, 'literacy': 0.648, 'aggression': 0.564}"
      ]
     },
     "execution_count": 71,
     "metadata": {},
     "output_type": "execute_result"
    }
   ],
   "source": [
    "new_a"
   ]
  },
  {
   "cell_type": "code",
   "execution_count": 76,
   "metadata": {},
   "outputs": [
    {
     "data": {
      "text/plain": [
       "\"g.V().has('objid','1634757778071').properties('faction_loyalty',0.4762).properties('literacy',0.648).properties('aggression',0.564)\""
      ]
     },
     "execution_count": 76,
     "metadata": {},
     "output_type": "execute_result"
    }
   ],
   "source": [
    "base_query = f\"g.V().has('objid','{a['objid']}')\"\n",
    "for n in new_a.keys():\n",
    "    base_query += f\".properties('{n}',{new_a[n]})\"\n",
    "    \n",
    "base_query"
   ]
  },
  {
   "cell_type": "code",
   "execution_count": null,
   "metadata": {},
   "outputs": [],
   "source": []
  }
 ],
 "metadata": {
  "kernelspec": {
   "display_name": "Python 3.7.0 ('exoplanets')",
   "language": "python",
   "name": "python3"
  },
  "language_info": {
   "codemirror_mode": {
    "name": "ipython",
    "version": 3
   },
   "file_extension": ".py",
   "mimetype": "text/x-python",
   "name": "python",
   "nbconvert_exporter": "python",
   "pygments_lexer": "ipython3",
   "version": "3.7.0"
  },
  "vscode": {
   "interpreter": {
    "hash": "625a17269cb94aebb094cbcf5e0e8340f26b69d46569da60e8fc69439048adbf"
   }
  }
 },
 "nbformat": 4,
 "nbformat_minor": 4
}
