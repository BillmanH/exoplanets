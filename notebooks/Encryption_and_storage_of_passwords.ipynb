{
 "cells": [
  {
   "cell_type": "markdown",
   "metadata": {},
   "source": [
    "# Encryption and storage of passwords\n",
    "\n",
    "Because the game data is hosted in CosmosDB, it seems unecessary to have a redundant SQL database. However, this isn't supported for Django so I'll have to make my own custom method for logging into the system. \n"
   ]
  },
  {
   "cell_type": "markdown",
   "metadata": {},
   "source": []
  }
 ],
 "metadata": {
  "language_info": {
   "name": "python"
  },
  "orig_nbformat": 4
 },
 "nbformat": 4,
 "nbformat_minor": 2
}
