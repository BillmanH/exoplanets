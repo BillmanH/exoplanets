{
 "cells": [
  {
   "cell_type": "markdown",
   "metadata": {},
   "source": [
    "# Parsing out Cosmos Data JSON"
   ]
  },
  {
   "cell_type": "code",
   "execution_count": 1,
   "metadata": {},
   "outputs": [],
   "source": [
    "import pandas as pd\n",
    "import numpy as np\n",
    "import yaml\n"
   ]
  },
  {
   "cell_type": "code",
   "execution_count": 2,
   "metadata": {},
   "outputs": [
    {
     "data": {
      "text/plain": "['.ipynb_checkpoints',\n 'example edges.json',\n 'example nodes.json',\n 'parsed_planets.csv',\n 'PS_2021.02.26_19.09.39.csv',\n 'Solar System Data.xlsx',\n 'syllables.p',\n 'world-cities.csv']"
     },
     "execution_count": 2,
     "metadata": {},
     "output_type": "execute_result"
    }
   ],
   "source": [
    "import os\n",
    "os.listdir('../data')"
   ]
  },
  {
   "cell_type": "code",
   "execution_count": null,
   "metadata": {},
   "outputs": [],
   "source": []
  },
  {
   "cell_type": "markdown",
   "metadata": {},
   "source": [
    "## Loading local data\r\n",
    "I ran a query in the Cosmos DB Explorer and then load it in a json file. "
   ]
  },
  {
   "cell_type": "code",
   "execution_count": 8,
   "metadata": {},
   "outputs": [
    {
     "data": {
      "text/plain": "{'class': ['dwarf'],\n 'name': ['theblestnikef'],\n 'objid': ['9064865957578'],\n 'mass': ['0.0009385037003410215'],\n 'radius': ['0.11553191210915992'],\n 'order': ['4'],\n 'orbitsId': ['9755675075696'],\n 'orbitsName': ['changz'],\n 'username': ['userbill'],\n 'objtype': ['planet']}"
     },
     "execution_count": 8,
     "metadata": {},
     "output_type": "execute_result"
    }
   ],
   "source": [
    "res = yaml.safe_load(open('../data/example nodes.json'))\r\n",
    "res[1]"
   ]
  },
  {
   "cell_type": "markdown",
   "metadata": {},
   "source": [
    "Now I just need to parse out the orbiting edges"
   ]
  },
  {
   "cell_type": "code",
   "execution_count": 12,
   "metadata": {},
   "outputs": [
    {
     "data": {
      "text/plain": "[{'source': '8369095874730', 'target': '9755675075696', 'label': 'orbits'},\n {'source': '9064865957578', 'target': '9755675075696', 'label': 'orbits'},\n {'source': '6093876663081', 'target': '9755675075696', 'label': 'orbits'},\n {'source': '7304779176592', 'target': '9755675075696', 'label': 'orbits'},\n {'source': '0337109438219', 'target': '9755675075696', 'label': 'orbits'},\n {'source': '2084654679021', 'target': '9755675075696', 'label': 'orbits'},\n {'source': '3491933221618', 'target': '8369095874730', 'label': 'orbits'},\n {'source': '7948977187601', 'target': '8369095874730', 'label': 'orbits'},\n {'source': '2225705713954', 'target': '8369095874730', 'label': 'orbits'},\n {'source': '0644606419914', 'target': '9064865957578', 'label': 'orbits'},\n {'source': '2629205647812', 'target': '9064865957578', 'label': 'orbits'},\n {'source': '2902259597158', 'target': '9064865957578', 'label': 'orbits'},\n {'source': '2732394091592', 'target': '9064865957578', 'label': 'orbits'},\n {'source': '3966047944261', 'target': '6093876663081', 'label': 'orbits'},\n {'source': '5555507822422', 'target': '6093876663081', 'label': 'orbits'},\n {'source': '3086896650613', 'target': '6093876663081', 'label': 'orbits'},\n {'source': '2723885672928', 'target': '6093876663081', 'label': 'orbits'},\n {'source': '4087468928763', 'target': '6093876663081', 'label': 'orbits'},\n {'source': '8672881624454', 'target': '7304779176592', 'label': 'orbits'},\n {'source': '1276917748714', 'target': '7304779176592', 'label': 'orbits'},\n {'source': '8551637667734', 'target': '0337109438219', 'label': 'orbits'},\n {'source': '6847484590964', 'target': '0337109438219', 'label': 'orbits'},\n {'source': '7713680790460', 'target': '0337109438219', 'label': 'orbits'},\n {'source': '7092500933920', 'target': '0337109438219', 'label': 'orbits'},\n {'source': '8927688703435', 'target': '0337109438219', 'label': 'orbits'},\n {'source': '1392301358348', 'target': '2084654679021', 'label': 'orbits'},\n {'source': '4386182959346', 'target': '2084654679021', 'label': 'orbits'},\n {'source': '8151511488922', 'target': '2084654679021', 'label': 'orbits'},\n {'source': '9424973965042', 'target': '2084654679021', 'label': 'orbits'},\n {'source': '0047473435920', 'target': '2084654679021', 'label': 'orbits'}]"
     },
     "execution_count": 12,
     "metadata": {},
     "output_type": "execute_result"
    }
   ],
   "source": [
    "[{\"source\":i['objid'][0],\"target\":i['orbitsId'][0],\"label\":\"orbits\"} for i in res]"
   ]
  },
  {
   "cell_type": "code",
   "execution_count": null,
   "metadata": {},
   "outputs": [],
   "source": []
  }
 ],
 "metadata": {
  "kernelspec": {
   "display_name": "Python (exoplanet)",
   "language": "python",
   "name": "exoplanet"
  },
  "language_info": {
   "codemirror_mode": {
    "name": "ipython",
    "version": 3
   },
   "file_extension": ".py",
   "mimetype": "text/x-python",
   "name": "python",
   "nbconvert_exporter": "python",
   "pygments_lexer": "ipython3",
   "version": "3.7.0"
  }
 },
 "nbformat": 4,
 "nbformat_minor": 4
}