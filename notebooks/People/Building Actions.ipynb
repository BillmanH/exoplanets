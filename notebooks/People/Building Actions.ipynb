{
 "cells": [
  {
   "cell_type": "markdown",
   "metadata": {},
   "source": [
    "# Actions to create buildings (aka Construction)\n",
    "Populations take actions, one kind of action is the building. \n"
   ]
  },
  {
   "cell_type": "code",
   "execution_count": 1,
   "metadata": {},
   "outputs": [],
   "source": [
    "import numpy as np\n",
    "import pandas as pd\n",
    "\n",
    "import sys, os, yaml, ssl, asyncio\n",
    "\n",
    "\n",
    "\n",
    "# mapping to the modules that make the app\n",
    "sys.path.insert(0, \"../..\")\n"
   ]
  },
  {
   "cell_type": "code",
   "execution_count": 2,
   "metadata": {},
   "outputs": [],
   "source": [
    "from app.creators import universe\n",
    "from app.functions import maths\n",
    "from app.functions import configurations\n",
    "from app.objects import time as t\n",
    "\n",
    "from notebooks.helpers import test_queries"
   ]
  },
  {
   "cell_type": "code",
   "execution_count": 3,
   "metadata": {},
   "outputs": [
    {
     "name": "stdout",
     "output_type": "stream",
     "text": [
      "executing local windows deployment\n"
     ]
    }
   ],
   "source": [
    "ssl._create_default_https_context = ssl._create_unverified_context\n",
    "asyncio.set_event_loop_policy(asyncio.WindowsSelectorEventLoopPolicy())\n",
    "import nest_asyncio\n",
    "\n",
    "# this is required for running in a Jupyter Notebook.\n",
    "nest_asyncio.apply()\n",
    "\n",
    "import app.models as models\n",
    "\n",
    "c = models.CosmosdbClient()"
   ]
  },
  {
   "cell_type": "markdown",
   "metadata": {},
   "source": [
    "**Note** that there is a field for `explanation` within the yaml in the doc"
   ]
  },
  {
   "cell_type": "code",
   "execution_count": 4,
   "metadata": {},
   "outputs": [
    {
     "data": {
      "text/plain": [
       "[{'type': \"all buildings have a 'type'/'label' of building\"},\n",
       " {'name': \"name_with_underscore. UI can remove the '_' at display time.\"},\n",
       " {'augments_resource': 'OPTIONAL augments a specific resource, creates it if it does not exist'},\n",
       " {'built_by': 'type of object that can build the building'},\n",
       " {'owned_by': 'type of object that can own/maintain this building, assuming a relationhsip to that object'},\n",
       " {'changes': 'stats changed by the owner'},\n",
       " {'faction_augments': 'if owned by a pop in the faction,  raises the stat for all pops in factions'},\n",
       " {'effort': 'time in `universal time units` that the action will take to complete'},\n",
       " {'requires_attr': 'required attributes of the agent. Determines if the agent can do the action.'},\n",
       " {'render_type': \"guides the rendering in buildings.js. Available types: 'block'\"}]"
      ]
     },
     "execution_count": 4,
     "metadata": {},
     "output_type": "execute_result"
    }
   ],
   "source": [
    "conf = configurations.get_building_configurations()\n",
    "conf['building']['explanation']"
   ]
  },
  {
   "cell_type": "code",
   "execution_count": 5,
   "metadata": {},
   "outputs": [
    {
     "data": {
      "text/plain": [
       "{'name': 'farmland',\n",
       " 'description': 'Generates organic foodstuffs, populations will consume food before consuming natural resources',\n",
       " 'planet_requirements': {'isHabitable': 'true'},\n",
       " 'augments_resource': {'vegitable_foodstuff': 10},\n",
       " 'changes': {'wealth': -0.01},\n",
       " 'owned_by': 'pop',\n",
       " 'effort': 1,\n",
       " 'render_type': 'block'}"
      ]
     },
     "execution_count": 5,
     "metadata": {},
     "output_type": "execute_result"
    }
   ],
   "source": [
    "conf['building']['buildings'][0]"
   ]
  },
  {
   "cell_type": "markdown",
   "metadata": {},
   "source": [
    "`Time` fetches all of the relevant actions"
   ]
  },
  {
   "cell_type": "code",
   "execution_count": 55,
   "metadata": {},
   "outputs": [],
   "source": [
    "time = t.Time(c)\n",
    "time.get_current_UTU()\n",
    "time.get_global_actions()"
   ]
  },
  {
   "attachments": {},
   "cell_type": "markdown",
   "metadata": {},
   "source": [
    "## Adding a building action to a pop, for testing. \n",
    "\n",
    "Go to the app and create a building action. Then run this notebook. You should be able to see that a `construction` action has been created for that pop. \n",
    "\n",
    "This is done in `templates\\app\\ajax`, but for testing it's best to do it in the UI. "
   ]
  },
  {
   "cell_type": "code",
   "execution_count": 35,
   "metadata": {},
   "outputs": [
    {
     "data": {
      "text/html": [
       "<div>\n",
       "<style scoped>\n",
       "    .dataframe tbody tr th:only-of-type {\n",
       "        vertical-align: middle;\n",
       "    }\n",
       "\n",
       "    .dataframe tbody tr th {\n",
       "        vertical-align: top;\n",
       "    }\n",
       "\n",
       "    .dataframe thead th {\n",
       "        text-align: right;\n",
       "    }\n",
       "</style>\n",
       "<table border=\"1\" class=\"dataframe\">\n",
       "  <thead>\n",
       "    <tr style=\"text-align: right;\">\n",
       "      <th></th>\n",
       "      <th>action</th>\n",
       "      <th>job</th>\n",
       "      <th>agent</th>\n",
       "    </tr>\n",
       "  </thead>\n",
       "  <tbody>\n",
       "    <tr>\n",
       "      <th>0</th>\n",
       "      <td>{'type': 'individual_education', 'requires_att...</td>\n",
       "      <td>{'status': 'pending', 'username': 'BillmanLoca...</td>\n",
       "      <td>{'isIdle': 'false', 'name': 'Tiatairich Karich...</td>\n",
       "    </tr>\n",
       "    <tr>\n",
       "      <th>1</th>\n",
       "      <td>{'type': 'construction', 'comment': 'construct...</td>\n",
       "      <td>{'status': 'pending', 'username': 'BillmanLoca...</td>\n",
       "      <td>{'isIdle': 'false', 'name': 'Tiatairich Fa', '...</td>\n",
       "    </tr>\n",
       "  </tbody>\n",
       "</table>\n",
       "</div>"
      ],
      "text/plain": [
       "                                              action  \\\n",
       "0  {'type': 'individual_education', 'requires_att...   \n",
       "1  {'type': 'construction', 'comment': 'construct...   \n",
       "\n",
       "                                                 job  \\\n",
       "0  {'status': 'pending', 'username': 'BillmanLoca...   \n",
       "1  {'status': 'pending', 'username': 'BillmanLoca...   \n",
       "\n",
       "                                               agent  \n",
       "0  {'isIdle': 'false', 'name': 'Tiatairich Karich...  \n",
       "1  {'isIdle': 'false', 'name': 'Tiatairich Fa', '...  "
      ]
     },
     "execution_count": 35,
     "metadata": {},
     "output_type": "execute_result"
    }
   ],
   "source": [
    "actions_df = pd.DataFrame(time.actions)\n",
    "actions_df"
   ]
  },
  {
   "cell_type": "markdown",
   "metadata": {},
   "source": [
    "from that dataframe we are going to get a list of action objects "
   ]
  },
  {
   "cell_type": "code",
   "execution_count": 37,
   "metadata": {},
   "outputs": [],
   "source": [
    "time.get_global_actions()"
   ]
  },
  {
   "cell_type": "code",
   "execution_count": 38,
   "metadata": {},
   "outputs": [
    {
     "data": {
      "text/plain": [
       "[< (Tiatairich Fa: 5478945973456) -takingAction:1017-> (construction) >]"
      ]
     },
     "execution_count": 38,
     "metadata": {},
     "output_type": "execute_result"
    }
   ],
   "source": [
    "validActionCounter = 0\n",
    "actions = [t.Action(c,actions_df.loc[i]) for i  in actions_df.index if actions_df.loc[i].action['type'] == 'construction']\n",
    "actions"
   ]
  },
  {
   "cell_type": "code",
   "execution_count": 39,
   "metadata": {},
   "outputs": [
    {
     "data": {
      "text/plain": [
       "< (Tiatairich Fa: 5478945973456) -takingAction:1017-> (construction) >"
      ]
     },
     "execution_count": 39,
     "metadata": {},
     "output_type": "execute_result"
    }
   ],
   "source": [
    "a = actions[0]\n",
    "a"
   ]
  },
  {
   "cell_type": "code",
   "execution_count": 40,
   "metadata": {},
   "outputs": [
    {
     "data": {
      "text/plain": [
       "'construction'"
      ]
     },
     "execution_count": 40,
     "metadata": {},
     "output_type": "execute_result"
    }
   ],
   "source": [
    "a.action['type']"
   ]
  },
  {
   "cell_type": "markdown",
   "metadata": {},
   "source": [
    "The agent within the action should have the information needed for the agent"
   ]
  },
  {
   "cell_type": "code",
   "execution_count": 41,
   "metadata": {},
   "outputs": [
    {
     "data": {
      "text/plain": [
       "'Tiatairich Fa'"
      ]
     },
     "execution_count": 41,
     "metadata": {},
     "output_type": "execute_result"
    }
   ],
   "source": [
    "a.agent['name']"
   ]
  },
  {
   "cell_type": "markdown",
   "metadata": {},
   "source": [
    "# Resolving Actions"
   ]
  },
  {
   "cell_type": "markdown",
   "metadata": {},
   "source": [
    "Note that the time of the action may not yet have come to pass. You'll have to run the dev engine to 'spin the clock' until the time to complete the action has come. "
   ]
  },
  {
   "cell_type": "code",
   "execution_count": 56,
   "metadata": {},
   "outputs": [
    {
     "data": {
      "text/plain": [
       "(< time at: 2023-09-29T21:28:59.924901+00:00 UTU:1018 >,\n",
       " < (Tiatairich Fa: 5478945973456) -takingAction:1017-> (construction) >)"
      ]
     },
     "execution_count": 56,
     "metadata": {},
     "output_type": "execute_result"
    }
   ],
   "source": [
    "time, a"
   ]
  },
  {
   "cell_type": "code",
   "execution_count": 57,
   "metadata": {},
   "outputs": [
    {
     "data": {
      "text/plain": [
       "True"
      ]
     },
     "execution_count": 57,
     "metadata": {},
     "output_type": "execute_result"
    }
   ],
   "source": [
    "a.action.get('type') == 'construction'"
   ]
  },
  {
   "cell_type": "code",
   "execution_count": 58,
   "metadata": {},
   "outputs": [
    {
     "data": {
      "text/plain": [
       "{'name': 'solar_panel',\n",
       " 'description': 'Generates wealth for all populations in this faction except the owner',\n",
       " 'owned_by': 'pop',\n",
       " 'effort': 3,\n",
       " 'changes': {'wealth': -0.01},\n",
       " 'faction_augments': {'wealth': 0.01},\n",
       " 'requires_attr': {'industry': 0.51},\n",
       " 'render_type': 'block'}"
      ]
     },
     "execution_count": 58,
     "metadata": {},
     "output_type": "execute_result"
    }
   ],
   "source": [
    "b = [b for b in buildings_config['building']['buildings'] if b['name'] == a.action['building']][0]\n",
    "b"
   ]
  },
  {
   "cell_type": "code",
   "execution_count": 52,
   "metadata": {},
   "outputs": [
    {
     "data": {
      "text/plain": [
       "False"
      ]
     },
     "execution_count": 52,
     "metadata": {},
     "output_type": "execute_result"
    }
   ],
   "source": [
    "a.validate_action_time(time)"
   ]
  },
  {
   "cell_type": "markdown",
   "metadata": {},
   "source": [
    "If this is false, you'll need to run the engine again to make sure that the action can happen. "
   ]
  },
  {
   "cell_type": "code",
   "execution_count": 53,
   "metadata": {},
   "outputs": [
    {
     "data": {
      "text/plain": [
       "[< (Tiatairich Fa: 5478945973456) -takingAction:1017-> (construction) >]"
      ]
     },
     "execution_count": 53,
     "metadata": {},
     "output_type": "execute_result"
    }
   ],
   "source": [
    "construction_actions = [a for a in actions if a.action['type'] == 'construction']\n",
    "construction_actions"
   ]
  },
  {
   "cell_type": "markdown",
   "metadata": {},
   "source": [
    "## Testing that the building has been added correctly"
   ]
  },
  {
   "cell_type": "code",
   "execution_count": 63,
   "metadata": {},
   "outputs": [],
   "source": [
    "location_id = 3252232076612\n",
    "building_query = (f\"\"\"g.V().has('objid','{location_id}').as('location')\n",
    "    .in('inhabits').as('population')\n",
    "    .in('owns').as('building')\n",
    "    .path()\n",
    "        .by(valueMap('objid','name'))\n",
    "        .by(valueMap('objid','name'))\n",
    "        .by(valueMap('objid','name','changes','augments_resource','planet_requirements','description','render_type'))\n",
    "\"\"\")\n",
    "\n",
    "c.run_query(building_query)"
   ]
  },
  {
   "cell_type": "code",
   "execution_count": 64,
   "metadata": {},
   "outputs": [
    {
     "data": {
      "text/plain": [
       "[{'objid': '6029783245608',\n",
       "  'name': 'farmland',\n",
       "  'changes': '{wealth: -0.01}',\n",
       "  'augments_resource': '{vegitable_foodstuff: 10}',\n",
       "  'planet_requirements': '{isHabitable: true}',\n",
       "  'description': 'Generates organic foodstuffs, populations will consume food before consuming natural resources',\n",
       "  'render_type': 'block',\n",
       "  'id': '6029783245608',\n",
       "  'owner': '6498149980542'},\n",
       " {'objid': '4136758490753',\n",
       "  'name': 'farmland',\n",
       "  'changes': '{wealth: -0.01}',\n",
       "  'augments_resource': '{vegitable_foodstuff: 10}',\n",
       "  'planet_requirements': '{isHabitable: true}',\n",
       "  'description': 'Generates organic foodstuffs, populations will consume food before consuming natural resources',\n",
       "  'render_type': 'block',\n",
       "  'id': '4136758490753',\n",
       "  'owner': '8797041652728'},\n",
       " {'objid': '9083858642130',\n",
       "  'name': 'solar_panel',\n",
       "  'changes': '{wealth: -0.01}',\n",
       "  'description': 'Generates wealth for all populations in this faction except the owner',\n",
       "  'render_type': 'block',\n",
       "  'id': '9083858642130',\n",
       "  'owner': '5478945973456'},\n",
       " {'objid': '5157648868634',\n",
       "  'name': 'farmland',\n",
       "  'changes': '{wealth: -0.01}',\n",
       "  'augments_resource': '{vegitable_foodstuff: 10}',\n",
       "  'planet_requirements': '{isHabitable: true}',\n",
       "  'description': 'Generates organic foodstuffs, populations will consume food before consuming natural resources',\n",
       "  'render_type': 'block',\n",
       "  'id': '5157648868634',\n",
       "  'owner': '6053183543989'}]"
      ]
     },
     "execution_count": 64,
     "metadata": {},
     "output_type": "execute_result"
    }
   ],
   "source": [
    "buildings = []\n",
    "for iter, item in enumerate(c.res):\n",
    "    build = c.clean_node(item[\"objects\"][2])\n",
    "    owner = c.clean_node(item[\"objects\"][1])\n",
    "    build.update({\"owner\": owner[\"objid\"]})\n",
    "    buildings.append(build)\n",
    "\n",
    "buildings"
   ]
  },
  {
   "cell_type": "code",
   "execution_count": null,
   "metadata": {},
   "outputs": [],
   "source": []
  }
 ],
 "metadata": {
  "kernelspec": {
   "display_name": "exoplanets",
   "language": "python",
   "name": "python3"
  },
  "language_info": {
   "codemirror_mode": {
    "name": "ipython",
    "version": 3
   },
   "file_extension": ".py",
   "mimetype": "text/x-python",
   "name": "python",
   "nbconvert_exporter": "python",
   "pygments_lexer": "ipython3",
   "version": "3.8.16"
  },
  "orig_nbformat": 4,
  "vscode": {
   "interpreter": {
    "hash": "625a17269cb94aebb094cbcf5e0e8340f26b69d46569da60e8fc69439048adbf"
   }
  }
 },
 "nbformat": 4,
 "nbformat_minor": 2
}
