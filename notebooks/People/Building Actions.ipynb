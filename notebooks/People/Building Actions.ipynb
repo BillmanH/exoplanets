{
 "cells": [
  {
   "cell_type": "markdown",
   "metadata": {},
   "source": [
    "# Actions to create buildings (aka Construction)\n",
    "Populations take actions, one kind of action is the building. \n"
   ]
  },
  {
   "cell_type": "code",
   "execution_count": 1,
   "metadata": {},
   "outputs": [],
   "source": [
    "import numpy as np\n",
    "import pandas as pd\n",
    "\n",
    "import sys, os, yaml, ssl, asyncio\n",
    "\n",
    "\n",
    "\n",
    "# mapping to the modules that make the app\n",
    "sys.path.insert(0, \"../..\")\n"
   ]
  },
  {
   "cell_type": "code",
   "execution_count": 2,
   "metadata": {},
   "outputs": [],
   "source": [
    "from app.creators import universe\n",
    "from app.functions import maths\n",
    "from app.functions import configurations\n",
    "from app.objects import time as t\n",
    "\n",
    "from notebooks.helpers import test_queries"
   ]
  },
  {
   "cell_type": "code",
   "execution_count": 3,
   "metadata": {},
   "outputs": [
    {
     "name": "stdout",
     "output_type": "stream",
     "text": [
      "executing local windows deployment\n"
     ]
    }
   ],
   "source": [
    "ssl._create_default_https_context = ssl._create_unverified_context\n",
    "asyncio.set_event_loop_policy(asyncio.WindowsSelectorEventLoopPolicy())\n",
    "import nest_asyncio\n",
    "\n",
    "# this is required for running in a Jupyter Notebook.\n",
    "nest_asyncio.apply()\n",
    "\n",
    "import app.models as models\n",
    "\n",
    "c = models.CosmosdbClient()"
   ]
  },
  {
   "cell_type": "markdown",
   "metadata": {},
   "source": [
    "**Note** that there is a doc within the yaml in `explanation`"
   ]
  },
  {
   "cell_type": "code",
   "execution_count": 4,
   "metadata": {},
   "outputs": [
    {
     "data": {
      "text/plain": [
       "[{'type': \"all buildings have a 'type'/'label' of building\"},\n",
       " {'name': \"name_with_underscore. UI can remove the '_' at display time.\"},\n",
       " {'augments_resource': 'OPTIONAL augments a specific resource, creates it if it does not exist'},\n",
       " {'built_by': 'type of object that can build the building'},\n",
       " {'owned_by': 'type of object that can own/maintain this building, assuming a relationhsip to that object'},\n",
       " {'changes': 'stats changed by the owner'},\n",
       " {'faction_augments': 'if owned by a pop in the faction,  raises the stat for all pops in factions'},\n",
       " {'effort': 'time in `universal time units` that the action will take to complete'},\n",
       " {'requires_attr': 'required attributes of the agent. Determines if the agent can do the action.'},\n",
       " {'render_type': \"guides the rendering in buildings.js. Available types: 'block'\"}]"
      ]
     },
     "execution_count": 4,
     "metadata": {},
     "output_type": "execute_result"
    }
   ],
   "source": [
    "conf = configurations.get_building_configurations()\n",
    "conf['building']['explanation']"
   ]
  },
  {
   "cell_type": "code",
   "execution_count": 13,
   "metadata": {},
   "outputs": [
    {
     "data": {
      "text/plain": [
       "{'name': 'farmland',\n",
       " 'description': 'Generates organic foodstuffs, populations will consume food before consuming natural resources',\n",
       " 'planet_requirements': {'isHabitable': 'true'},\n",
       " 'augments_resource': {'vegitable_foodstuff': 10},\n",
       " 'changes': {'wealth': -0.01},\n",
       " 'owned_by': 'pop',\n",
       " 'effort': 1,\n",
       " 'render_type': 'block'}"
      ]
     },
     "execution_count": 13,
     "metadata": {},
     "output_type": "execute_result"
    }
   ],
   "source": [
    "conf['building']['buildings'][0]"
   ]
  },
  {
   "cell_type": "markdown",
   "metadata": {},
   "source": [
    "`Time` fetches all of the relevant actions"
   ]
  },
  {
   "cell_type": "code",
   "execution_count": 5,
   "metadata": {},
   "outputs": [],
   "source": [
    "time = t.Time(c)\n",
    "time.get_current_UTU()\n",
    "time.get_global_actions()"
   ]
  },
  {
   "attachments": {},
   "cell_type": "markdown",
   "metadata": {},
   "source": [
    "## Adding a building action to a pop, for testing. \n",
    "\n",
    "Go to the app and create a building action. Then run this notebook. You should be able to see that a `construction` action has been created for that pop. \n",
    "\n",
    "This is done in `templates\\app\\ajax`, but for testing it's best to do it in the UI. "
   ]
  },
  {
   "cell_type": "code",
   "execution_count": 6,
   "metadata": {},
   "outputs": [
    {
     "data": {
      "text/html": [
       "<div>\n",
       "<style scoped>\n",
       "    .dataframe tbody tr th:only-of-type {\n",
       "        vertical-align: middle;\n",
       "    }\n",
       "\n",
       "    .dataframe tbody tr th {\n",
       "        vertical-align: top;\n",
       "    }\n",
       "\n",
       "    .dataframe thead th {\n",
       "        text-align: right;\n",
       "    }\n",
       "</style>\n",
       "<table border=\"1\" class=\"dataframe\">\n",
       "  <thead>\n",
       "    <tr style=\"text-align: right;\">\n",
       "      <th></th>\n",
       "      <th>action</th>\n",
       "      <th>job</th>\n",
       "      <th>agent</th>\n",
       "    </tr>\n",
       "  </thead>\n",
       "  <tbody>\n",
       "    <tr>\n",
       "      <th>0</th>\n",
       "      <td>{'type': 'patriot_propoganda', 'applies_to': '...</td>\n",
       "      <td>{'status': 'pending', 'username': 'BillmanLoca...</td>\n",
       "      <td>{'isIdle': 'false', 'name': 'Waquimac Mos', 'o...</td>\n",
       "    </tr>\n",
       "    <tr>\n",
       "      <th>1</th>\n",
       "      <td>{'type': 'construction', 'comment': 'construct...</td>\n",
       "      <td>{'status': 'pending', 'username': 'BillmanLoca...</td>\n",
       "      <td>{'isIdle': 'false', 'name': 'Danne Gorskbiley'...</td>\n",
       "    </tr>\n",
       "    <tr>\n",
       "      <th>2</th>\n",
       "      <td>{'type': 'construction', 'comment': 'construct...</td>\n",
       "      <td>{'status': 'pending', 'username': 'BillmanLoca...</td>\n",
       "      <td>{'isIdle': 'false', 'name': 'Waquimac Lamdon',...</td>\n",
       "    </tr>\n",
       "    <tr>\n",
       "      <th>3</th>\n",
       "      <td>{'type': 'individual_education', 'requires_att...</td>\n",
       "      <td>{'status': 'pending', 'username': 'BillmanLoca...</td>\n",
       "      <td>{'isIdle': 'false', 'name': 'Waquimac Tsugidra...</td>\n",
       "    </tr>\n",
       "    <tr>\n",
       "      <th>4</th>\n",
       "      <td>{'type': 'healthcare_initiatives', 'applies_to...</td>\n",
       "      <td>{'status': 'pending', 'username': 'BillmanLoca...</td>\n",
       "      <td>{'isIdle': 'false', 'name': 'Danne Perpennasmo...</td>\n",
       "    </tr>\n",
       "  </tbody>\n",
       "</table>\n",
       "</div>"
      ],
      "text/plain": [
       "                                              action  \\\n",
       "0  {'type': 'patriot_propoganda', 'applies_to': '...   \n",
       "1  {'type': 'construction', 'comment': 'construct...   \n",
       "2  {'type': 'construction', 'comment': 'construct...   \n",
       "3  {'type': 'individual_education', 'requires_att...   \n",
       "4  {'type': 'healthcare_initiatives', 'applies_to...   \n",
       "\n",
       "                                                 job  \\\n",
       "0  {'status': 'pending', 'username': 'BillmanLoca...   \n",
       "1  {'status': 'pending', 'username': 'BillmanLoca...   \n",
       "2  {'status': 'pending', 'username': 'BillmanLoca...   \n",
       "3  {'status': 'pending', 'username': 'BillmanLoca...   \n",
       "4  {'status': 'pending', 'username': 'BillmanLoca...   \n",
       "\n",
       "                                               agent  \n",
       "0  {'isIdle': 'false', 'name': 'Waquimac Mos', 'o...  \n",
       "1  {'isIdle': 'false', 'name': 'Danne Gorskbiley'...  \n",
       "2  {'isIdle': 'false', 'name': 'Waquimac Lamdon',...  \n",
       "3  {'isIdle': 'false', 'name': 'Waquimac Tsugidra...  \n",
       "4  {'isIdle': 'false', 'name': 'Danne Perpennasmo...  "
      ]
     },
     "execution_count": 6,
     "metadata": {},
     "output_type": "execute_result"
    }
   ],
   "source": [
    "actions_df = pd.DataFrame(time.actions)\n",
    "actions_df"
   ]
  },
  {
   "cell_type": "markdown",
   "metadata": {},
   "source": [
    "from that dataframe we are going to get a list of action objects "
   ]
  },
  {
   "cell_type": "code",
   "execution_count": 7,
   "metadata": {},
   "outputs": [
    {
     "data": {
      "text/plain": [
       "[< (Waquimac Mos: 1258976461150) -takingAction:1013-> (patriot propoganda) >,\n",
       " < (Danne Gorskbiley: 2194544643353) -takingAction:1013-> (construction) >,\n",
       " < (Waquimac Lamdon: 7400632371289) -takingAction:1013-> (construction) >,\n",
       " < (Waquimac Tsugidra: 0885306882212) -takingAction:1014-> (individual education) >,\n",
       " < (Danne Perpennasmosgikrahas: 4617413097199) -takingAction:1014-> (healthcare initiatives) >]"
      ]
     },
     "execution_count": 7,
     "metadata": {},
     "output_type": "execute_result"
    }
   ],
   "source": [
    "validActionCounter = 0 \n",
    "actions = [t.Action(c,actions_df.loc[i]) for i  in actions_df.index]\n",
    "actions"
   ]
  },
  {
   "cell_type": "code",
   "execution_count": 16,
   "metadata": {},
   "outputs": [
    {
     "data": {
      "text/plain": [
       "{'type': 'construction',\n",
       " 'comment': 'constructing a farmland',\n",
       " 'effort': 1,\n",
       " 'applies_to': 'pop',\n",
       " 'owned_by': 'pop',\n",
       " 'building': 'farmland',\n",
       " 'created_at': 1012,\n",
       " 'objid': '3167210905929',\n",
       " 'username': 'BillmanLocal2',\n",
       " 'objtype': 'action'}"
      ]
     },
     "execution_count": 16,
     "metadata": {},
     "output_type": "execute_result"
    }
   ],
   "source": [
    "a.action"
   ]
  },
  {
   "cell_type": "code",
   "execution_count": 17,
   "metadata": {},
   "outputs": [
    {
     "name": "stdout",
     "output_type": "stream",
     "text": [
      "< (Danne Gorskbiley: 2194544643353) -takingAction:1013-> (construction) > is a building action\n"
     ]
    },
    {
     "ename": "AttributeError",
     "evalue": "'Action' object has no attribute 'make_building'",
     "output_type": "error",
     "traceback": [
      "\u001b[1;31m---------------------------------------------------------------------------\u001b[0m",
      "\u001b[1;31mAttributeError\u001b[0m                            Traceback (most recent call last)",
      "Cell \u001b[1;32mIn[17], line 2\u001b[0m\n\u001b[0;32m      1\u001b[0m \u001b[39mfor\u001b[39;00m a \u001b[39min\u001b[39;00m actions:\n\u001b[1;32m----> 2\u001b[0m     a\u001b[39m.\u001b[39;49madd_updates_to_c(time)\n",
      "File \u001b[1;32mc:\\Users\\william.harding\\Documents\\repos\\exoplanets\\notebooks\\People\\../..\\app\\objects\\time.py:139\u001b[0m, in \u001b[0;36mAction.add_updates_to_c\u001b[1;34m(self, time)\u001b[0m\n\u001b[0;32m    137\u001b[0m \u001b[39mif\u001b[39;00m \u001b[39mself\u001b[39m\u001b[39m.\u001b[39maction\u001b[39m.\u001b[39mget(\u001b[39m'\u001b[39m\u001b[39mbuilding\u001b[39m\u001b[39m'\u001b[39m) \u001b[39m!=\u001b[39m \u001b[39mNone\u001b[39;00m:\n\u001b[0;32m    138\u001b[0m     \u001b[39mprint\u001b[39m(\u001b[39mself\u001b[39m, \u001b[39m\"\u001b[39m\u001b[39mis a building action\u001b[39m\u001b[39m\"\u001b[39m)\n\u001b[1;32m--> 139\u001b[0m     \u001b[39mself\u001b[39;49m\u001b[39m.\u001b[39;49mmake_building()\n\u001b[0;32m    140\u001b[0m \u001b[39mself\u001b[39m\u001b[39m.\u001b[39mmake_action_event(time)\n\u001b[0;32m    141\u001b[0m \u001b[39mself\u001b[39m\u001b[39m.\u001b[39mmark_action_as_resolved()\n",
      "\u001b[1;31mAttributeError\u001b[0m: 'Action' object has no attribute 'make_building'"
     ]
    }
   ],
   "source": [
    "for a in actions:\n",
    "    a.add_updates_to_c(time)"
   ]
  },
  {
   "cell_type": "code",
   "execution_count": 12,
   "metadata": {},
   "outputs": [
    {
     "data": {
      "text/plain": [
       "[\"g.V().has('objid','1258976461150').property('factionLoyalty',0.599).property('conformity',0.52).property('aggression',0.426)\",\n",
       " \"g.V().has('objid','1258976461150').outE('takingAction').has('actionType','patriot_propoganda').has('weight','1013').property('status','resolved')\",\n",
       " \"g.V().has('objid','1258976461150').property('isIdle','true')\",\n",
       " \"g.V().has('objid','2194544643353').outE('takingAction').has('actionType','construction').has('weight','1013').property('status','resolved')\",\n",
       " \"g.V().has('objid','2194544643353').property('isIdle','true')\",\n",
       " \"g.V().has('objid','7400632371289').outE('takingAction').has('actionType','construction').has('weight','1013').property('status','resolved')\",\n",
       " \"g.V().has('objid','7400632371289').property('isIdle','true')\",\n",
       " \"g.V().has('objid','0885306882212').property('wealth',0.5308).property('literacy',0.473).property('factionLoyalty',0.437)\",\n",
       " \"g.V().has('objid','0885306882212').outE('takingAction').has('actionType','individual_education').has('weight','1014').property('status','resolved')\",\n",
       " \"g.V().has('objid','0885306882212').property('isIdle','true')\",\n",
       " \"g.V().has('objid','4617413097199').property('health',0.7).property('wealth',0.5003)\",\n",
       " \"g.V().has('objid','4617413097199').outE('takingAction').has('actionType','healthcare_initiatives').has('weight','1014').property('status','resolved')\",\n",
       " \"g.V().has('objid','4617413097199').property('isIdle','true')\"]"
      ]
     },
     "execution_count": 12,
     "metadata": {},
     "output_type": "execute_result"
    }
   ],
   "source": [
    "actions[1].c.stack"
   ]
  },
  {
   "cell_type": "code",
   "execution_count": 13,
   "metadata": {},
   "outputs": [
    {
     "data": {
      "text/plain": [
       "[\"g.V().has('objid','1258976461150').property('factionLoyalty',0.599).property('conformity',0.52).property('aggression',0.426)\",\n",
       " \"g.V().has('objid','1258976461150').outE('takingAction').has('actionType','patriot_propoganda').has('weight','1013').property('status','resolved')\",\n",
       " \"g.V().has('objid','1258976461150').property('isIdle','true')\",\n",
       " \"g.V().has('objid','2194544643353').outE('takingAction').has('actionType','construction').has('weight','1013').property('status','resolved')\",\n",
       " \"g.V().has('objid','2194544643353').property('isIdle','true')\",\n",
       " \"g.V().has('objid','7400632371289').outE('takingAction').has('actionType','construction').has('weight','1013').property('status','resolved')\",\n",
       " \"g.V().has('objid','7400632371289').property('isIdle','true')\",\n",
       " \"g.V().has('objid','0885306882212').property('wealth',0.5308).property('literacy',0.473).property('factionLoyalty',0.437)\",\n",
       " \"g.V().has('objid','0885306882212').outE('takingAction').has('actionType','individual_education').has('weight','1014').property('status','resolved')\",\n",
       " \"g.V().has('objid','0885306882212').property('isIdle','true')\",\n",
       " \"g.V().has('objid','4617413097199').property('health',0.7).property('wealth',0.5003)\",\n",
       " \"g.V().has('objid','4617413097199').outE('takingAction').has('actionType','healthcare_initiatives').has('weight','1014').property('status','resolved')\",\n",
       " \"g.V().has('objid','4617413097199').property('isIdle','true')\"]"
      ]
     },
     "execution_count": 13,
     "metadata": {},
     "output_type": "execute_result"
    }
   ],
   "source": [
    "actions[3].c.stack"
   ]
  },
  {
   "cell_type": "code",
   "execution_count": 10,
   "metadata": {},
   "outputs": [
    {
     "data": {
      "text/plain": [
       "[{'labels': [['pop'], ['building']],\n",
       "  'objects': [{'objid': ['7467985401518'], 'name': ['Obattla Magor']},\n",
       "   {'objid': ['8925307376683'],\n",
       "    'name': ['farmland'],\n",
       "    'changes': ['{wealth: -0.01}'],\n",
       "    'augments_resource': ['{vegitable_foodstuff: 10}'],\n",
       "    'planet_requirements': ['{isHabitable: true}'],\n",
       "    'description': ['Generates organic foodstuffs, populations will consume food before consuming natural resources'],\n",
       "    'render_type': ['block']}]}]"
      ]
     },
     "execution_count": 10,
     "metadata": {},
     "output_type": "execute_result"
    }
   ],
   "source": [
    "building_query = f\"\"\"\n",
    "g.V().has('objid','{pop['objid']}').as('pop')\n",
    "    .in('owns').as('building')\n",
    "    .path()\n",
    "        .by(valueMap('objid','name'))\n",
    "        .by(valueMap('objid','name','changes','augments_resource','planet_requirements','description','render_type'))\n",
    "\"\"\"\n",
    "\n",
    "c.run_query(building_query)\n",
    "c.res"
   ]
  },
  {
   "cell_type": "markdown",
   "metadata": {},
   "source": []
  },
  {
   "cell_type": "code",
   "execution_count": null,
   "metadata": {},
   "outputs": [],
   "source": [
    "##"
   ]
  }
 ],
 "metadata": {
  "kernelspec": {
   "display_name": "exoplanets",
   "language": "python",
   "name": "python3"
  },
  "language_info": {
   "codemirror_mode": {
    "name": "ipython",
    "version": 3
   },
   "file_extension": ".py",
   "mimetype": "text/x-python",
   "name": "python",
   "nbconvert_exporter": "python",
   "pygments_lexer": "ipython3",
   "version": "3.8.16"
  },
  "orig_nbformat": 4,
  "vscode": {
   "interpreter": {
    "hash": "625a17269cb94aebb094cbcf5e0e8340f26b69d46569da60e8fc69439048adbf"
   }
  }
 },
 "nbformat": 4,
 "nbformat_minor": 2
}
