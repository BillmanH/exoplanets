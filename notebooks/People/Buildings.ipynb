{
 "cells": [
  {
   "cell_type": "code",
   "execution_count": 7,
   "metadata": {},
   "outputs": [],
   "source": [
    "import numpy as np\n",
    "import pandas as pd\n",
    "\n",
    "import sys, os, yaml, ssl, asyncio\n",
    "import altair as alt\n",
    "\n",
    "# mapping to the modules that make the app\n",
    "sys.path.insert(0, \"../..\")\n",
    "# sys.path.insert(0, \"..\")\n",
    "\n",
    "%load_ext lab_black"
   ]
  },
  {
   "cell_type": "code",
   "execution_count": 19,
   "metadata": {},
   "outputs": [],
   "source": [
    "from app.creators import universe\n",
    "from app.functions import maths"
   ]
  },
  {
   "cell_type": "code",
   "execution_count": 8,
   "metadata": {},
   "outputs": [],
   "source": [
    "ssl._create_default_https_context = ssl._create_unverified_context\n",
    "asyncio.set_event_loop_policy(asyncio.WindowsSelectorEventLoopPolicy())\n",
    "import nest_asyncio\n",
    "\n",
    "# this is required for running in a Jupyter Notebook.\n",
    "nest_asyncio.apply()\n",
    "\n",
    "import app.models as models\n",
    "\n",
    "c = models.CosmosdbClient()"
   ]
  },
  {
   "cell_type": "code",
   "execution_count": 60,
   "metadata": {},
   "outputs": [
    {
     "data": {
      "text/plain": [
       "[{'type': \"all buildings have a 'type'/'label' of building\"},\n",
       " {'name': \"name_with_underscore. UI can remove the '_' at display time.\"},\n",
       " {'augments_resource': 'OPTIONAL augments a specific resource, creates it if it does not exist'},\n",
       " {'built_by': 'type of object that can build the building'},\n",
       " {'owned_by': 'type of object that can own/maintain this building, assuming a relationhsip to that object'},\n",
       " {'changes': 'stats changed by the owner'},\n",
       " {'faction_augments': 'if owned by a pop in the faction,  raises the stat for all pops in factions'},\n",
       " {'effort': 'time in `universal time units` that the action will take to complete'},\n",
       " {'requires_attr': 'required attributes of the agent. Determines if the agent can do the action.'},\n",
       " {'render_type': \"guides the rendering in buildings.js. Available types: 'block'\"}]"
      ]
     },
     "execution_count": 60,
     "metadata": {},
     "output_type": "execute_result"
    }
   ],
   "source": [
    "buildings = yaml.safe_load(\n",
    "    open(os.path.join(os.getenv(\"abspath\"), \"app\", \"configurations\", \"buildings.yaml\"))\n",
    ")\n",
    "buildings[\"explanation\"]"
   ]
  },
  {
   "cell_type": "code",
   "execution_count": 61,
   "metadata": {},
   "outputs": [
    {
     "data": {
      "text/plain": [
       "{'name': 'farmland',\n",
       " 'description': 'Generates organic foodstuffs, populations will consume food before consuming natural resources',\n",
       " 'planet_requirements': {'isHabitable': 'true'},\n",
       " 'augments_resource': {'vegitable_foodstuff': 10},\n",
       " 'changes': {'wealth': -0.01},\n",
       " 'owned_by': 'pop',\n",
       " 'effort': 1,\n",
       " 'render_type': 'block',\n",
       " 'objid': '6193583697156',\n",
       " 'label': 'building'}"
      ]
     },
     "execution_count": 61,
     "metadata": {},
     "output_type": "execute_result"
    }
   ],
   "source": [
    "farm = buildings[\"buildings\"][0]\n",
    "farm[\"objid\"] = maths.uuid()\n",
    "farm[\"label\"] = \"building\"\n",
    "farm"
   ]
  },
  {
   "attachments": {},
   "cell_type": "markdown",
   "metadata": {},
   "source": [
    "## Adding a building to a pop, for testing. \n",
    "\n",
    "On a newly created population, adding a building to it so that I can test it. \n",
    "[refer to the ontology](../../docs/img/Exodestiny_Ontology.png)"
   ]
  },
  {
   "cell_type": "code",
   "execution_count": 62,
   "metadata": {},
   "outputs": [],
   "source": [
    "popid = \"4352219522098\"\n",
    "username = \"BillmanLocal2\""
   ]
  },
  {
   "cell_type": "code",
   "execution_count": 63,
   "metadata": {},
   "outputs": [],
   "source": [
    "edge = {\"node1\": farm[\"objid\"], \"node2\": popid, \"label\": \"owned_by\"}"
   ]
  },
  {
   "cell_type": "code",
   "execution_count": 64,
   "metadata": {},
   "outputs": [],
   "source": [
    "data = {\"nodes\": [farm], \"edges\": [edge]}"
   ]
  },
  {
   "cell_type": "code",
   "execution_count": 65,
   "metadata": {},
   "outputs": [],
   "source": [
    "c.upload_data(username, data)"
   ]
  },
  {
   "cell_type": "code",
   "execution_count": 70,
   "metadata": {},
   "outputs": [
    {
     "data": {
      "text/plain": [
       "[{'labels': [['pop'], ['building']],\n",
       "  'objects': [{'objid': ['4352219522098'], 'name': ['Riotam Beachmes']},\n",
       "   {'objid': ['6193583697156'],\n",
       "    'name': ['farmland'],\n",
       "    'changes': ['{wealth: -0.01}'],\n",
       "    'augments_resource': ['{vegitable_foodstuff: 10}'],\n",
       "    'planet_requirements': ['{isHabitable: true}'],\n",
       "    'description': ['Generates organic foodstuffs, populations will consume food before consuming natural resources'],\n",
       "    'render_type': ['block']}]}]"
      ]
     },
     "execution_count": 70,
     "metadata": {},
     "output_type": "execute_result"
    }
   ],
   "source": [
    "building_query = f\"\"\"\n",
    "g.V().has('objid','{popid}').as('pop')\n",
    "    .in('owned_by').as('building')\n",
    "    .path()\n",
    "        .by(valueMap('objid','name'))\n",
    "        .by(valueMap('objid','name','changes','augments_resource','planet_requirements','description','render_type'))\n",
    "\"\"\"\n",
    "\n",
    "c.run_query(building_query)\n",
    "c.res"
   ]
  },
  {
   "cell_type": "code",
   "execution_count": 116,
   "metadata": {},
   "outputs": [
    {
     "data": {
      "text/plain": [
       "[{'objid': '6193583697156',\n",
       "  'name': 'farmland',\n",
       "  'changes': '{wealth: -0.01}',\n",
       "  'augments_resource': '{vegitable_foodstuff: 10}',\n",
       "  'planet_requirements': '{isHabitable: true}',\n",
       "  'description': 'Generates organic foodstuffs, populations will consume food before consuming natural resources',\n",
       "  'render_type': 'block',\n",
       "  'id': '6193583697156',\n",
       "  'owner': '4352219522098'}]"
      ]
     },
     "execution_count": 116,
     "metadata": {},
     "output_type": "execute_result"
    }
   ],
   "source": [
    "building_query = f\"\"\"g.V().has('objid','{3389212112395}').as('location')\n",
    "    .in('inhabits').as('population')\n",
    "    .in('owned_by').as('building')\n",
    "    .path()\n",
    "        .by(valueMap('objid','name'))\n",
    "        .by(valueMap('objid','name'))\n",
    "        .by(valueMap('objid','name','changes','augments_resource','planet_requirements','description','render_type'))\n",
    "\"\"\"\n",
    "\n",
    "c.add_query(building_query)\n",
    "c.run_queries()\n",
    "\n",
    "buildings = []\n",
    "for iter, item in enumerate(c.res[building_query]):\n",
    "    build = c.clean_node(item[\"objects\"][2])\n",
    "    owner = c.clean_node(item[\"objects\"][1])\n",
    "    build.update({\"owner\": owner[\"objid\"]})\n",
    "    buildings.append(build)\n",
    "buildings"
   ]
  },
  {
   "cell_type": "code",
   "execution_count": 107,
   "metadata": {},
   "outputs": [
    {
     "data": {
      "text/plain": [
       "[None]"
      ]
     },
     "execution_count": 107,
     "metadata": {},
     "output_type": "execute_result"
    }
   ],
   "source": [
    "buildings = [c.clean_node(i[\"objects\"][2].update({\"owner\": i[\"objects\"][1]}) for i in c.res[building_query]]\n",
    "buildings"
   ]
  },
  {
   "cell_type": "code",
   "execution_count": 109,
   "metadata": {},
   "outputs": [
    {
     "data": {
      "text/plain": [
       "[{'objid': '6193583697156',\n",
       "  'name': 'farmland',\n",
       "  'changes': '{wealth: -0.01}',\n",
       "  'augments_resource': '{vegitable_foodstuff: 10}',\n",
       "  'planet_requirements': '{isHabitable: true}',\n",
       "  'description': 'Generates organic foodstuffs, populations will consume food before consuming natural resources',\n",
       "  'render_type': 'block',\n",
       "  'id': '6193583697156',\n",
       "  'Author': 'Sammy Shark'}]"
      ]
     },
     "execution_count": 109,
     "metadata": {},
     "output_type": "execute_result"
    }
   ],
   "source": [
    "buildings"
   ]
  },
  {
   "cell_type": "code",
   "execution_count": 59,
   "metadata": {},
   "outputs": [
    {
     "data": {
      "text/plain": [
       "[]"
      ]
     },
     "execution_count": 59,
     "metadata": {},
     "output_type": "execute_result"
    }
   ],
   "source": [
    "# query = f\"\"\"\n",
    "# g.V().has('objid','{farm['objid']}').drop()\n",
    "# \"\"\"\n",
    "\n",
    "# c.run_query(query)\n",
    "# c.res"
   ]
  },
  {
   "cell_type": "code",
   "execution_count": 83,
   "metadata": {},
   "outputs": [
    {
     "ename": "NameError",
     "evalue": "name 'i' is not defined",
     "output_type": "error",
     "traceback": [
      "\u001b[1;31m---------------------------------------------------------------------------\u001b[0m",
      "\u001b[1;31mNameError\u001b[0m                                 Traceback (most recent call last)",
      "\u001b[1;32m<ipython-input-83-4ea2ae9962a8>\u001b[0m in \u001b[0;36m<module>\u001b[1;34m\u001b[0m\n\u001b[1;32m----> 1\u001b[1;33m \u001b[0mi\u001b[0m\u001b[1;33m[\u001b[0m\u001b[1;34m\"objects\"\u001b[0m\u001b[1;33m]\u001b[0m\u001b[1;33m[\u001b[0m\u001b[1;36m1\u001b[0m\u001b[1;33m]\u001b[0m\u001b[1;33m\u001b[0m\u001b[0m\n\u001b[0m",
      "\u001b[1;31mNameError\u001b[0m: name 'i' is not defined"
     ]
    }
   ],
   "source": [
    "i[\"objects\"][1]"
   ]
  },
  {
   "cell_type": "code",
   "execution_count": 81,
   "metadata": {},
   "outputs": [
    {
     "data": {
      "text/plain": [
       "[{'objid': '6193583697156',\n",
       "  'name': 'farmland',\n",
       "  'changes': '{wealth: -0.01}',\n",
       "  'augments_resource': '{vegitable_foodstuff: 10}',\n",
       "  'planet_requirements': '{isHabitable: true}',\n",
       "  'description': 'Generates organic foodstuffs, populations will consume food before consuming natural resources',\n",
       "  'render_type': 'block',\n",
       "  'id': '6193583697156'}]"
      ]
     },
     "execution_count": 81,
     "metadata": {},
     "output_type": "execute_result"
    }
   ],
   "source": [
    "buildings"
   ]
  },
  {
   "cell_type": "code",
   "execution_count": null,
   "metadata": {},
   "outputs": [],
   "source": []
  }
 ],
 "metadata": {
  "kernelspec": {
   "display_name": "exoplanets",
   "language": "python",
   "name": "python3"
  },
  "language_info": {
   "codemirror_mode": {
    "name": "ipython",
    "version": 3
   },
   "file_extension": ".py",
   "mimetype": "text/x-python",
   "name": "python",
   "nbconvert_exporter": "python",
   "pygments_lexer": "ipython3",
   "version": "3.7.0"
  },
  "orig_nbformat": 4,
  "vscode": {
   "interpreter": {
    "hash": "625a17269cb94aebb094cbcf5e0e8340f26b69d46569da60e8fc69439048adbf"
   }
  }
 },
 "nbformat": 4,
 "nbformat_minor": 2
}
