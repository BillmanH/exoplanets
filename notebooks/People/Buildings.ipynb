{
 "cells": [
  {
   "cell_type": "code",
   "execution_count": 2,
   "metadata": {},
   "outputs": [],
   "source": [
    "import numpy as np\n",
    "import pandas as pd\n",
    "\n",
    "import sys, os, yaml, ssl, asyncio\n",
    "\n",
    "\n",
    "\n",
    "# mapping to the modules that make the app\n",
    "sys.path.insert(0, \"../..\")\n",
    "\n"
   ]
  },
  {
   "cell_type": "code",
   "execution_count": 14,
   "metadata": {},
   "outputs": [],
   "source": [
    "from app.objects import structures\n",
    "from notebooks.helpers import test_queries"
   ]
  },
  {
   "cell_type": "code",
   "execution_count": 15,
   "metadata": {},
   "outputs": [],
   "source": [
    "ssl._create_default_https_context = ssl._create_unverified_context\n",
    "asyncio.set_event_loop_policy(asyncio.WindowsSelectorEventLoopPolicy())\n",
    "import nest_asyncio\n",
    "\n",
    "# this is required for running in a Jupyter Notebook.\n",
    "nest_asyncio.apply()\n",
    "\n",
    "import app.connectors.cmdb_graph as cmdb_graph\n",
    "\n",
    "c = cmdb_graph.CosmosdbClient()"
   ]
  },
  {
   "cell_type": "code",
   "execution_count": 16,
   "metadata": {},
   "outputs": [
    {
     "data": {
      "text/plain": [
       "[{'type': 'id_name of the building. lower, underscores'},\n",
       " {'label': \"'class' of the object. in this case it is always 'building'\"},\n",
       " {'name': \"pretty printed name of the building. UI can remove the '_' at display time.\"},\n",
       " {'augments_resource': 'OPTIONAL augments a specific resource, creates it if it does not exist'},\n",
       " {'owned_by': 'type of object that can own/maintain this building, assuming a relationhsip to that object'},\n",
       " {'faction_augments': 'if owned by a pop in the faction,  raises the stat for all pops in factions'},\n",
       " {'effort': 'time in universal time units (UTU) that the action will take to complete'},\n",
       " {'requires_attr': 'required attributes of the agent. Determines if the agent can do the action.'},\n",
       " {'requires_faction': 'requires that the faction have this attribute'},\n",
       " {'renews_faction_resource': 'augments (or diminishes) a resource in the faction. Creates if it does not exist.'},\n",
       " {'renews_location_resource': 'augments (or diminishes) a resource in the location. Creates if it does not exist.'},\n",
       " {'each_population_augments_once': 'augments a stat for each population in the faction'},\n",
       " {'each_population_augments_on_cycle': 'augments a stat for each population in the faction on each cycle'},\n",
       " {'on_complete': 'action to be taken when the building is complete'},\n",
       " {'on_cycle': 'action/s to be taken on each building renew cycle'}]"
      ]
     },
     "execution_count": 16,
     "metadata": {},
     "output_type": "execute_result"
    }
   ],
   "source": [
    "buildings = yaml.safe_load(\n",
    "    open(os.path.join(os.getenv(\"abspath\"), \"app\", \"configurations\", \"buildings.yaml\"))\n",
    ")\n",
    "buildings[\"explanation\"]"
   ]
  },
  {
   "cell_type": "markdown",
   "metadata": {},
   "source": [
    "# Creating a new Building"
   ]
  },
  {
   "cell_type": "code",
   "execution_count": 17,
   "metadata": {},
   "outputs": [
    {
     "data": {
      "text/plain": [
       "{'name': 'Yetam Grolesmin',\n",
       " 'objid': '3195718763007',\n",
       " 'conformity': 0.558,\n",
       " 'literacy': 0.576,\n",
       " 'aggression': 0.487,\n",
       " 'constitution': 0.598,\n",
       " 'health': 0.7,\n",
       " 'isIn': '0493222540853',\n",
       " 'industry': 0.5425,\n",
       " 'wealth': 0.5592,\n",
       " 'factionLoyalty': 0.533,\n",
       " 'isIdle': 'true',\n",
       " 'userguid': '8d5b667f-b225-4641-b499-73b77558ff86',\n",
       " 'objtype': 'pop',\n",
       " 'id': '3195718763007'}"
      ]
     },
     "execution_count": 17,
     "metadata": {},
     "output_type": "execute_result"
    }
   ],
   "source": [
    "userguid = \"8d5b667f-b225-4641-b499-73b77558ff86\"\n",
    "pop = test_queries.get_random_pop(c,userguid)\n",
    "pop\n"
   ]
  },
  {
   "cell_type": "code",
   "execution_count": 7,
   "metadata": {},
   "outputs": [
    {
     "data": {
      "text/plain": [
       "['farm',\n",
       " 'hospital',\n",
       " 'solar_panel',\n",
       " 'commercial',\n",
       " 'forestry',\n",
       " 'infrastructure',\n",
       " 'university',\n",
       " 'observatory',\n",
       " 'prospector',\n",
       " 'oil_well',\n",
       " 'marketplace',\n",
       " 'shipyard',\n",
       " 'industrial_complex',\n",
       " 'flight_control',\n",
       " 'launch_complex']"
      ]
     },
     "execution_count": 7,
     "metadata": {},
     "output_type": "execute_result"
    }
   ],
   "source": [
    "buildings_list = list(buildings[\"buildings\"].keys())\n",
    "buildings_list"
   ]
  },
  {
   "cell_type": "markdown",
   "metadata": {},
   "source": [
    "Should be able to search the building type by name"
   ]
  },
  {
   "cell_type": "code",
   "execution_count": 7,
   "metadata": {},
   "outputs": [
    {
     "data": {
      "text/plain": [
       "{'type': 'farmland',\n",
       " 'label': 'building',\n",
       " 'name': 'Farmland',\n",
       " 'description': 'Generates organic foodstuffs, populations will consume food before consuming natural resources',\n",
       " 'planet_requirements': {'isHabitable': 'true'},\n",
       " 'faction_augments': {'wealth': -1},\n",
       " 'renews_faction_resource': {'grains': 10},\n",
       " 'owned_by': 'pop',\n",
       " 'effort': 1}"
      ]
     },
     "execution_count": 7,
     "metadata": {},
     "output_type": "execute_result"
    }
   ],
   "source": [
    "b = buildings[\"buildings\"]['farm']\n",
    "b"
   ]
  },
  {
   "cell_type": "code",
   "execution_count": 8,
   "metadata": {},
   "outputs": [
    {
     "data": {
      "text/plain": [
       "<building: None; 5513462776036; Farmland>"
      ]
     },
     "execution_count": 8,
     "metadata": {},
     "output_type": "execute_result"
    }
   ],
   "source": [
    "building = structures.Building(pop,b)\n",
    "building"
   ]
  },
  {
   "cell_type": "code",
   "execution_count": 9,
   "metadata": {},
   "outputs": [
    {
     "data": {
      "text/plain": [
       "{'name': 'Farmland',\n",
       " 'objid': '5513462776036',\n",
       " 'label': 'building',\n",
       " 'ownedBy': '2177835361193',\n",
       " 'type': 'farmland',\n",
       " 'description': 'Generates organic foodstuffs, populations will consume food before consuming natural resources',\n",
       " 'planet_requirements': {'isHabitable': 'true'},\n",
       " 'faction_augments': {'wealth': -1},\n",
       " 'renews_faction_resource': {'grains': 10},\n",
       " 'owned_by': 'pop',\n",
       " 'effort': 1}"
      ]
     },
     "execution_count": 9,
     "metadata": {},
     "output_type": "execute_result"
    }
   ],
   "source": [
    "building.get_data()"
   ]
  },
  {
   "cell_type": "markdown",
   "metadata": {},
   "source": [
    "There should be a building action. If there isn't, go to the UI and create one. "
   ]
  },
  {
   "cell_type": "code",
   "execution_count": 10,
   "metadata": {},
   "outputs": [
    {
     "data": {
      "text/plain": [
       "{'type': 'construction',\n",
       " 'comment': 'constructing a Farmland',\n",
       " 'effort': 1,\n",
       " 'applies_to': 'pop',\n",
       " 'owned_by': 'pop',\n",
       " 'building': 'farmland',\n",
       " 'created_at': 65414,\n",
       " 'to_build': '{type: farmland, label: building, name: Farmland, description: Generates organic foodstuffs, populations will consume food before consuming natural resources, planet_requirements: {isHabitable: true}, faction_augments: {wealth: -1}, renews_faction_resource: {grains: 10}, owned_by: pop, effort: 1}',\n",
       " 'objid': '9274928873387',\n",
       " 'userguid': '8d5b667f-b225-4641-b499-73b77558ff86',\n",
       " 'objtype': 'action',\n",
       " 'id': '9274928873387'}"
      ]
     },
     "execution_count": 10,
     "metadata": {},
     "output_type": "execute_result"
    }
   ],
   "source": [
    "c.run_query(\"g.V().has('label','action').valueMap()\")\n",
    "action = c.clean_nodes(c.res)[0]\n",
    "action"
   ]
  },
  {
   "cell_type": "code",
   "execution_count": 11,
   "metadata": {},
   "outputs": [
    {
     "data": {
      "text/plain": [
       "'{type: farmland, label: building, name: Farmland, description: Generates organic foodstuffs, populations will consume food before consuming natural resources, planet_requirements: {isHabitable: true}, faction_augments: {wealth: -1}, renews_faction_resource: {grains: 10}, owned_by: pop, effort: 1}'"
      ]
     },
     "execution_count": 11,
     "metadata": {},
     "output_type": "execute_result"
    }
   ],
   "source": [
    "to_build = action['to_build']\n",
    "to_build"
   ]
  },
  {
   "cell_type": "code",
   "execution_count": 12,
   "metadata": {},
   "outputs": [
    {
     "data": {
      "text/plain": [
       "{'node1': '2177835361193', 'node2': '5513462776036', 'label': 'owns'}"
      ]
     },
     "execution_count": 12,
     "metadata": {},
     "output_type": "execute_result"
    }
   ],
   "source": [
    "building.get_owned_by()"
   ]
  },
  {
   "cell_type": "markdown",
   "metadata": {},
   "source": [
    "You can arbitrarily place a building here for testing purposes. "
   ]
  },
  {
   "cell_type": "code",
   "execution_count": 13,
   "metadata": {},
   "outputs": [
    {
     "data": {
      "text/plain": [
       "{'nodes': [{'name': 'Farmland',\n",
       "   'objid': '5513462776036',\n",
       "   'label': 'building',\n",
       "   'ownedBy': '2177835361193',\n",
       "   'type': 'farmland',\n",
       "   'description': 'Generates organic foodstuffs, populations will consume food before consuming natural resources',\n",
       "   'planet_requirements': {'isHabitable': 'true'},\n",
       "   'faction_augments': {'wealth': -1},\n",
       "   'renews_faction_resource': {'grains': 10},\n",
       "   'owned_by': 'pop',\n",
       "   'effort': 1}],\n",
       " 'edges': [{'node1': '2177835361193',\n",
       "   'node2': '5513462776036',\n",
       "   'label': 'owns'}]}"
      ]
     },
     "execution_count": 13,
     "metadata": {},
     "output_type": "execute_result"
    }
   ],
   "source": [
    "data = {'nodes':[building.get_data()],'edges':[building.get_owned_by()]}\n",
    "# c.upload_data(userguid,data)\n",
    "data"
   ]
  },
  {
   "cell_type": "code",
   "execution_count": 14,
   "metadata": {},
   "outputs": [
    {
     "data": {
      "text/plain": [
       "[]"
      ]
     },
     "execution_count": 14,
     "metadata": {},
     "output_type": "execute_result"
    }
   ],
   "source": [
    "building_query = f\"\"\"\n",
    "g.V().has('objid','{pop['objid']}').as('pop')\n",
    "    .out('owns').as('building')\n",
    "    .path()\n",
    "        .by(valueMap('objid','name'))\n",
    "        .by(valueMap())\n",
    "\"\"\"\n",
    "\n",
    "c.run_query(building_query)\n",
    "c.res"
   ]
  },
  {
   "cell_type": "markdown",
   "metadata": {},
   "source": [
    "## Constructing buildings through Action\n",
    "\n",
    "In the UI the construction tab will create an actioni that needs to be resolved. That action is eventually caught by the `actionResolverTimer` and then passed to the `resolveActionEvents` functions. "
   ]
  },
  {
   "cell_type": "code",
   "execution_count": 15,
   "metadata": {},
   "outputs": [],
   "source": [
    "from app.objects import time\n",
    "from app.functions import jobs"
   ]
  },
  {
   "cell_type": "code",
   "execution_count": 16,
   "metadata": {},
   "outputs": [
    {
     "data": {
      "text/plain": [
       "< time at UTU:65559 >"
      ]
     },
     "execution_count": 16,
     "metadata": {},
     "output_type": "execute_result"
    }
   ],
   "source": [
    "t = time.Time(c)\n",
    "t.get_current_UTU()\n",
    "t"
   ]
  },
  {
   "cell_type": "markdown",
   "metadata": {},
   "source": [
    "We careate an action object to make it easy to manage. Just like other actions, the `weight` indicates if the time has passed. "
   ]
  },
  {
   "cell_type": "markdown",
   "metadata": {},
   "source": [
    "This is all taken care of from the `actionResolverTimer` function under 'job_messages' section."
   ]
  },
  {
   "cell_type": "code",
   "execution_count": 22,
   "metadata": {},
   "outputs": [
    {
     "data": {
      "text/html": [
       "<div>\n",
       "<style scoped>\n",
       "    .dataframe tbody tr th:only-of-type {\n",
       "        vertical-align: middle;\n",
       "    }\n",
       "\n",
       "    .dataframe tbody tr th {\n",
       "        vertical-align: top;\n",
       "    }\n",
       "\n",
       "    .dataframe thead th {\n",
       "        text-align: right;\n",
       "    }\n",
       "</style>\n",
       "<table border=\"1\" class=\"dataframe\">\n",
       "  <thead>\n",
       "    <tr style=\"text-align: right;\">\n",
       "      <th></th>\n",
       "      <th>agent</th>\n",
       "      <th>action</th>\n",
       "      <th>job</th>\n",
       "    </tr>\n",
       "  </thead>\n",
       "  <tbody>\n",
       "    <tr>\n",
       "      <th>0</th>\n",
       "      <td>{'isIdle': 'false', 'name': 'Tadta Bil', 'obji...</td>\n",
       "      <td>{'type': 'construction', 'comment': 'construct...</td>\n",
       "      <td>{'status': 'pending', 'userguid': '8d5b667f-b2...</td>\n",
       "    </tr>\n",
       "  </tbody>\n",
       "</table>\n",
       "</div>"
      ],
      "text/plain": [
       "                                               agent  \\\n",
       "0  {'isIdle': 'false', 'name': 'Tadta Bil', 'obji...   \n",
       "\n",
       "                                              action  \\\n",
       "0  {'type': 'construction', 'comment': 'construct...   \n",
       "\n",
       "                                                 job  \n",
       "0  {'status': 'pending', 'userguid': '8d5b667f-b2...  "
      ]
     },
     "execution_count": 22,
     "metadata": {},
     "output_type": "execute_result"
    }
   ],
   "source": [
    "job_messages = jobs.resolve_jobs(c,t,time.Action)\n",
    "pd.DataFrame(job_messages)"
   ]
  },
  {
   "cell_type": "markdown",
   "metadata": {},
   "source": [
    "The jobs above are sent to `resolveActionEvents` to resolve them asynchronosly. "
   ]
  },
  {
   "cell_type": "code",
   "execution_count": 23,
   "metadata": {},
   "outputs": [
    {
     "data": {
      "text/plain": [
       "dict_keys(['agent', 'action', 'job'])"
      ]
     },
     "execution_count": 23,
     "metadata": {},
     "output_type": "execute_result"
    }
   ],
   "source": [
    "message = job_messages[0]\n",
    "message.keys()"
   ]
  },
  {
   "cell_type": "code",
   "execution_count": 24,
   "metadata": {},
   "outputs": [
    {
     "data": {
      "text/plain": [
       "(True, True)"
      ]
     },
     "execution_count": 24,
     "metadata": {},
     "output_type": "execute_result"
    }
   ],
   "source": [
    "'job' in message.keys(), message['job']['actionType'] == \"construction\""
   ]
  },
  {
   "cell_type": "code",
   "execution_count": 26,
   "metadata": {},
   "outputs": [],
   "source": [
    "# structures.construct_building(c,message)"
   ]
  },
  {
   "cell_type": "markdown",
   "metadata": {},
   "source": [
    "## Buildings that have buttons and can take actions"
   ]
  },
  {
   "cell_type": "code",
   "execution_count": 20,
   "metadata": {},
   "outputs": [
    {
     "data": {
      "text/plain": [
       "{'name': 'Yetam Fen',\n",
       " 'objid': '5657120867640',\n",
       " 'conformity': 0.309,\n",
       " 'literacy': 0.636,\n",
       " 'aggression': 0.341,\n",
       " 'constitution': 0.456,\n",
       " 'health': 0.7,\n",
       " 'isIn': '0493222540853',\n",
       " 'industry': 0.3985,\n",
       " 'wealth': 0.5172,\n",
       " 'factionLoyalty': 0.539,\n",
       " 'isIdle': 'true',\n",
       " 'userguid': '8d5b667f-b225-4641-b499-73b77558ff86',\n",
       " 'objtype': 'pop',\n",
       " 'id': '5657120867640'}"
      ]
     },
     "execution_count": 20,
     "metadata": {},
     "output_type": "execute_result"
    }
   ],
   "source": [
    "userguid = \"8d5b667f-b225-4641-b499-73b77558ff86\"\n",
    "pop = test_queries.get_random_pop(c,userguid)\n",
    "pop\n"
   ]
  },
  {
   "cell_type": "code",
   "execution_count": 21,
   "metadata": {},
   "outputs": [
    {
     "data": {
      "text/plain": [
       "{'type': 'manufacturing',\n",
       " 'label': 'building',\n",
       " 'name': 'Industrial manufacturing complex',\n",
       " 'description': 'Builds ships and other large objects for the faction.',\n",
       " 'owned_by': 'pop',\n",
       " 'effort': 10,\n",
       " 'faction_augments': {'wealth': 1},\n",
       " 'requires_attr': {'industry': 0.1},\n",
       " 'has_buttons': ['build_ship']}"
      ]
     },
     "execution_count": 21,
     "metadata": {},
     "output_type": "execute_result"
    }
   ],
   "source": [
    "b = buildings[\"buildings\"]['industrial_complex']\n",
    "b"
   ]
  },
  {
   "cell_type": "code",
   "execution_count": 22,
   "metadata": {},
   "outputs": [
    {
     "data": {
      "text/plain": [
       "{'name': 'Industrial manufacturing complex',\n",
       " 'objid': '7660114240581',\n",
       " 'label': 'building',\n",
       " 'ownedBy': '5657120867640',\n",
       " 'type': 'manufacturing',\n",
       " 'description': 'Builds ships and other large objects for the faction.',\n",
       " 'owned_by': 'pop',\n",
       " 'effort': 10,\n",
       " 'faction_augments': {'wealth': 1},\n",
       " 'requires_attr': {'industry': 0.1},\n",
       " 'has_buttons': ['build_ship']}"
      ]
     },
     "execution_count": 22,
     "metadata": {},
     "output_type": "execute_result"
    }
   ],
   "source": [
    "building = structures.Building(pop,b)\n",
    "building.get_data()"
   ]
  },
  {
   "cell_type": "code",
   "execution_count": 24,
   "metadata": {},
   "outputs": [
    {
     "data": {
      "text/plain": [
       "{'type': 'construction',\n",
       " 'comment': 'constructing a Industrial manufacturing complex',\n",
       " 'effort': 10,\n",
       " 'applies_to': 'pop',\n",
       " 'owned_by': 'pop',\n",
       " 'building': 'manufacturing',\n",
       " 'created_at': 67597,\n",
       " 'to_build': '{type: manufacturing, label: building, name: Industrial manufacturing complex, description: Builds ships and other large objects for the faction., owned_by: pop, effort: 10, faction_augments: {wealth: 1}, requires_attr: {industry: 0.1}, has_buttons: [build_ship]}',\n",
       " 'objid': '7792223898957',\n",
       " 'userguid': '8d5b667f-b225-4641-b499-73b77558ff86',\n",
       " 'objtype': 'action',\n",
       " 'id': '7792223898957'}"
      ]
     },
     "execution_count": 24,
     "metadata": {},
     "output_type": "execute_result"
    }
   ],
   "source": [
    "c.run_query(\"g.V().has('label','action').valueMap()\")\n",
    "action = c.clean_nodes(c.res)[0]\n",
    "action"
   ]
  },
  {
   "cell_type": "code",
   "execution_count": 26,
   "metadata": {},
   "outputs": [
    {
     "data": {
      "text/plain": [
       "{'nodes': [{'name': 'Industrial manufacturing complex',\n",
       "   'objid': '7660114240581',\n",
       "   'label': 'building',\n",
       "   'ownedBy': '5657120867640',\n",
       "   'type': 'manufacturing',\n",
       "   'description': 'Builds ships and other large objects for the faction.',\n",
       "   'owned_by': 'pop',\n",
       "   'effort': 10,\n",
       "   'faction_augments': {'wealth': 1},\n",
       "   'requires_attr': {'industry': 0.1},\n",
       "   'has_buttons': ['build_ship'],\n",
       "   'id': '7660114240581'}],\n",
       " 'edges': [{'node1': '5657120867640',\n",
       "   'node2': '7660114240581',\n",
       "   'label': 'owns'}]}"
      ]
     },
     "execution_count": 26,
     "metadata": {},
     "output_type": "execute_result"
    }
   ],
   "source": [
    "data = {'nodes':[building.get_data()],'edges':[building.get_owned_by()]}\n",
    "c.upload_data(userguid,data)\n",
    "data"
   ]
  },
  {
   "cell_type": "code",
   "execution_count": null,
   "metadata": {},
   "outputs": [],
   "source": []
  }
 ],
 "metadata": {
  "kernelspec": {
   "display_name": "exoplanets",
   "language": "python",
   "name": "python3"
  },
  "language_info": {
   "codemirror_mode": {
    "name": "ipython",
    "version": 3
   },
   "file_extension": ".py",
   "mimetype": "text/x-python",
   "name": "python",
   "nbconvert_exporter": "python",
   "pygments_lexer": "ipython3",
   "version": "3.8.16"
  },
  "orig_nbformat": 4,
  "vscode": {
   "interpreter": {
    "hash": "625a17269cb94aebb094cbcf5e0e8340f26b69d46569da60e8fc69439048adbf"
   }
  }
 },
 "nbformat": 4,
 "nbformat_minor": 2
}
