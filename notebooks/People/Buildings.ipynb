{
 "cells": [
  {
   "cell_type": "code",
   "execution_count": 1,
   "metadata": {},
   "outputs": [],
   "source": [
    "import numpy as np\n",
    "import pandas as pd\n",
    "\n",
    "import sys, os, yaml, ssl, asyncio\n",
    "\n",
    "\n",
    "\n",
    "# mapping to the modules that make the app\n",
    "sys.path.insert(0, \"../..\")\n",
    "# sys.path.insert(0, \"..\")\n"
   ]
  },
  {
   "cell_type": "code",
   "execution_count": 2,
   "metadata": {},
   "outputs": [],
   "source": [
    "from app.objects import structures\n",
    "\n",
    "from notebooks.helpers import test_queries"
   ]
  },
  {
   "cell_type": "code",
   "execution_count": 3,
   "metadata": {},
   "outputs": [
    {
     "name": "stdout",
     "output_type": "stream",
     "text": [
      "executing local windows deployment\n"
     ]
    }
   ],
   "source": [
    "ssl._create_default_https_context = ssl._create_unverified_context\n",
    "asyncio.set_event_loop_policy(asyncio.WindowsSelectorEventLoopPolicy())\n",
    "import nest_asyncio\n",
    "\n",
    "# this is required for running in a Jupyter Notebook.\n",
    "nest_asyncio.apply()\n",
    "\n",
    "import app.models as models\n",
    "import app.connectors.cmdb_graph as cmdb_graph\n",
    "\n",
    "c = cmdb_graph.CosmosdbClient()"
   ]
  },
  {
   "cell_type": "code",
   "execution_count": 4,
   "metadata": {},
   "outputs": [
    {
     "data": {
      "text/plain": [
       "[{'type': 'id_name of the building. lower, underscores'},\n",
       " {'label': \"'class' of the object. in this case it is always 'building'\"},\n",
       " {'name': \"pretty printed name of the building. UI can remove the '_' at display time.\"},\n",
       " {'augments_resource': 'OPTIONAL augments a specific resource, creates it if it does not exist'},\n",
       " {'owned_by': 'type of object that can own/maintain this building, assuming a relationhsip to that object'},\n",
       " {'faction_augments': 'if owned by a pop in the faction,  raises the stat for all pops in factions'},\n",
       " {'effort': 'time in universal time units (UTU) that the action will take to complete'},\n",
       " {'requires_attr': 'required attributes of the agent. Determines if the agent can do the action.'},\n",
       " {'requires_faction': 'requires that the faction have this attribute'},\n",
       " {'renews_faction_resource': 'augments (or diminishes) a resource in the faction. Creates if it does not exist.'},\n",
       " {'renews_location_resource': 'augments (or diminishes) a resource in the location. Creates if it does not exist.'},\n",
       " {'each_population_augments_once': 'augments a stat for each population in the faction'},\n",
       " {'each_population_augments_on_cycle': 'augments a stat for each population in the faction on each cycle'},\n",
       " {'on_complete': 'action to be taken when the building is complete'},\n",
       " {'on_cycle': 'action/s to be taken on each building renew cycle'}]"
      ]
     },
     "execution_count": 4,
     "metadata": {},
     "output_type": "execute_result"
    }
   ],
   "source": [
    "buildings = yaml.safe_load(\n",
    "    open(os.path.join(os.getenv(\"abspath\"), \"app\", \"configurations\", \"buildings.yaml\"))\n",
    ")\n",
    "buildings[\"explanation\"]"
   ]
  },
  {
   "cell_type": "markdown",
   "metadata": {},
   "source": [
    "# Creating a new Building"
   ]
  },
  {
   "cell_type": "code",
   "execution_count": 5,
   "metadata": {},
   "outputs": [
    {
     "data": {
      "text/plain": [
       "{'isIdle': 'true',\n",
       " 'name': 'Moslettiamac K',\n",
       " 'objid': '4222682668436',\n",
       " 'conformity': 0.45,\n",
       " 'literacy': 0.328,\n",
       " 'aggression': 0.586,\n",
       " 'constitution': 0.532,\n",
       " 'health': 0.7,\n",
       " 'isIn': '1767617004360',\n",
       " 'industry': 0.559,\n",
       " 'wealth': 0.4435,\n",
       " 'factionLoyalty': 0.564,\n",
       " 'userguid': '8d5b667f-b225-4641-b499-73b77558ff86',\n",
       " 'objtype': 'pop',\n",
       " 'id': '4222682668436'}"
      ]
     },
     "execution_count": 5,
     "metadata": {},
     "output_type": "execute_result"
    }
   ],
   "source": [
    "userguid = \"8d5b667f-b225-4641-b499-73b77558ff86\"\n",
    "pop = test_queries.get_random_pop(c,userguid)\n",
    "pop\n"
   ]
  },
  {
   "cell_type": "code",
   "execution_count": 6,
   "metadata": {},
   "outputs": [
    {
     "data": {
      "text/plain": [
       "['farm',\n",
       " 'hospital',\n",
       " 'solar_panel',\n",
       " 'forestry',\n",
       " 'infrastructure',\n",
       " 'university',\n",
       " 'observatory',\n",
       " 'prospector',\n",
       " 'oil_well',\n",
       " 'marketplace',\n",
       " 'shipyard',\n",
       " 'flight_control',\n",
       " 'Launch Complex']"
      ]
     },
     "execution_count": 6,
     "metadata": {},
     "output_type": "execute_result"
    }
   ],
   "source": [
    "buildings_list = list(buildings[\"buildings\"].keys())\n",
    "buildings_list"
   ]
  },
  {
   "cell_type": "markdown",
   "metadata": {},
   "source": [
    "Should be able to search the building type by name"
   ]
  },
  {
   "cell_type": "code",
   "execution_count": 14,
   "metadata": {},
   "outputs": [
    {
     "data": {
      "text/plain": [
       "{'type': 'farmland',\n",
       " 'label': 'building',\n",
       " 'name': 'Farmland',\n",
       " 'description': 'Generates organic foodstuffs, populations will consume food before consuming natural resources',\n",
       " 'planet_requirements': {'isHabitable': 'true'},\n",
       " 'faction_augments': {'wealth': -1},\n",
       " 'renews_faction_resource': {'granulated_hydrocarbons': 10},\n",
       " 'owned_by': 'pop',\n",
       " 'effort': 1,\n",
       " 'render_type': 'block'}"
      ]
     },
     "execution_count": 14,
     "metadata": {},
     "output_type": "execute_result"
    }
   ],
   "source": [
    "b = buildings[\"buildings\"]['farm']\n",
    "b"
   ]
  },
  {
   "cell_type": "code",
   "execution_count": 15,
   "metadata": {},
   "outputs": [
    {
     "data": {
      "text/plain": [
       "<building: None; 5051465602954; Farmland>"
      ]
     },
     "execution_count": 15,
     "metadata": {},
     "output_type": "execute_result"
    }
   ],
   "source": [
    "building = structures.Building(pop,b)\n",
    "building"
   ]
  },
  {
   "cell_type": "code",
   "execution_count": 16,
   "metadata": {},
   "outputs": [
    {
     "data": {
      "text/plain": [
       "{'name': 'Farmland',\n",
       " 'objid': '5051465602954',\n",
       " 'label': 'building',\n",
       " 'ownedBy': '4407162012340',\n",
       " 'type': 'farmland',\n",
       " 'description': 'Generates organic foodstuffs, populations will consume food before consuming natural resources',\n",
       " 'planet_requirements': {'isHabitable': 'true'},\n",
       " 'faction_augments': {'wealth': -1},\n",
       " 'renews_faction_resource': {'granulated_hydrocarbons': 10},\n",
       " 'owned_by': 'pop',\n",
       " 'effort': 1,\n",
       " 'render_type': 'block'}"
      ]
     },
     "execution_count": 16,
     "metadata": {},
     "output_type": "execute_result"
    }
   ],
   "source": [
    "building.get_data()"
   ]
  },
  {
   "cell_type": "markdown",
   "metadata": {},
   "source": [
    "There should be a building action. "
   ]
  },
  {
   "cell_type": "code",
   "execution_count": 24,
   "metadata": {},
   "outputs": [
    {
     "data": {
      "text/plain": [
       "{'type': 'construction',\n",
       " 'comment': 'constructing a Farmland',\n",
       " 'effort': 1,\n",
       " 'applies_to': 'pop',\n",
       " 'owned_by': 'pop',\n",
       " 'building': 'farmland',\n",
       " 'created_at': 45184,\n",
       " 'to_build': '{type: farmland, label: building, name: Farmland, description: Generates organic foodstuffs, populations will consume food before consuming natural resources, planet_requirements: {isHabitable: true}, faction_augments: {wealth: -1}, renews_faction_resource: {granulated_hydrocarbons: 10}, owned_by: pop, effort: 1, render_type: block}',\n",
       " 'objid': '2778015807971',\n",
       " 'userguid': '8d5b667f-b225-4641-b499-73b77558ff86',\n",
       " 'objtype': 'action',\n",
       " 'id': '2778015807971'}"
      ]
     },
     "execution_count": 24,
     "metadata": {},
     "output_type": "execute_result"
    }
   ],
   "source": [
    "c.run_query(\"g.V().has('label','action').valueMap()\")\n",
    "action = c.clean_nodes(c.res)[0]\n",
    "action"
   ]
  },
  {
   "cell_type": "code",
   "execution_count": 25,
   "metadata": {},
   "outputs": [
    {
     "data": {
      "text/plain": [
       "'{type: farmland, label: building, name: Farmland, description: Generates organic foodstuffs, populations will consume food before consuming natural resources, planet_requirements: {isHabitable: true}, faction_augments: {wealth: -1}, renews_faction_resource: {granulated_hydrocarbons: 10}, owned_by: pop, effort: 1, render_type: block}'"
      ]
     },
     "execution_count": 25,
     "metadata": {},
     "output_type": "execute_result"
    }
   ],
   "source": [
    "to_build = action['to_build']\n",
    "to_build"
   ]
  },
  {
   "cell_type": "code",
   "execution_count": 17,
   "metadata": {},
   "outputs": [
    {
     "data": {
      "text/plain": [
       "{'node1': '4407162012340', 'node2': '5051465602954', 'label': 'owns'}"
      ]
     },
     "execution_count": 17,
     "metadata": {},
     "output_type": "execute_result"
    }
   ],
   "source": [
    "building.get_owned_by()"
   ]
  },
  {
   "cell_type": "markdown",
   "metadata": {},
   "source": []
  },
  {
   "cell_type": "code",
   "execution_count": 27,
   "metadata": {},
   "outputs": [],
   "source": [
    "data = {'nodes':[building.get_data()],'edges':[building.get_owned_by()]}\n",
    "c.upload_data(userguid,data)"
   ]
  },
  {
   "cell_type": "code",
   "execution_count": 28,
   "metadata": {},
   "outputs": [
    {
     "data": {
      "text/plain": [
       "[{'labels': [['pop'], ['building']],\n",
       "  'objects': [{'objid': ['2279331817806'], 'name': ['Dorkaitade Newjo']},\n",
       "   {'name': ['Farmland'],\n",
       "    'objid': ['2465267355835'],\n",
       "    'description': ['Generates organic foodstuffs, populations will consume food before consuming natural resources'],\n",
       "    'planet_requirements': ['{isHabitable: true}'],\n",
       "    'faction_augments': ['{wealth: -1}'],\n",
       "    'renews_faction_resource': ['{granulated_hydrocarbons: 10}'],\n",
       "    'owned_by': ['pop'],\n",
       "    'effort': [1],\n",
       "    'render_type': ['block'],\n",
       "    'userguid': ['8d5b667f-b225-4641-b499-73b77558ff86'],\n",
       "    'objtype': ['building']}]},\n",
       " {'labels': [['pop'], ['building']],\n",
       "  'objects': [{'objid': ['2279331817806'], 'name': ['Dorkaitade Newjo']},\n",
       "   {'name': ['Farmland'],\n",
       "    'objid': ['6203641029822'],\n",
       "    'description': ['Generates organic foodstuffs, populations will consume food before consuming natural resources'],\n",
       "    'planet_requirements': ['{isHabitable: true}'],\n",
       "    'faction_augments': ['{wealth: -1}'],\n",
       "    'renews_faction_resource': ['{granulated_hydrocarbons: 10}'],\n",
       "    'owned_by': ['pop'],\n",
       "    'effort': [1],\n",
       "    'render_type': ['block'],\n",
       "    'userguid': ['8d5b667f-b225-4641-b499-73b77558ff86'],\n",
       "    'objtype': ['building']}]}]"
      ]
     },
     "execution_count": 28,
     "metadata": {},
     "output_type": "execute_result"
    }
   ],
   "source": [
    "building_query = f\"\"\"\n",
    "g.V().has('objid','{pop['objid']}').as('pop')\n",
    "    .out('owns').as('building')\n",
    "    .path()\n",
    "        .by(valueMap('objid','name'))\n",
    "        .by(valueMap())\n",
    "\"\"\"\n",
    "\n",
    "c.run_query(building_query)\n",
    "c.res"
   ]
  },
  {
   "cell_type": "markdown",
   "metadata": {},
   "source": [
    "## Renews_Faction_Resource"
   ]
  },
  {
   "cell_type": "code",
   "execution_count": 46,
   "metadata": {},
   "outputs": [
    {
     "ename": "GremlinServerError",
     "evalue": "597: \r\n\nActivityId : 3714d0ab-508b-4545-a564-9589385afdff\nExceptionType : GraphCompileException\nExceptionMessage : \r\n\tGremlin Query Compilation Error: Unable to find any method 'next' @ line 2, column 109.\r\n\t1 Error(s)\n\tGremlinRequestId : 967acf69-2ed5-4f93-af12-9d580bcba8f2\n\tContext : graphcompute\n\tScope : graphparse-translate-csharpexpressionbinding\n\tGraphInterOpStatusCode : QuerySyntaxError\n\tHResult : 0x80131500\r\n",
     "output_type": "error",
     "traceback": [
      "\u001b[1;31m---------------------------------------------------------------------------\u001b[0m",
      "\u001b[1;31mGremlinServerError\u001b[0m                        Traceback (most recent call last)",
      "Cell \u001b[1;32mIn[46], line 24\u001b[0m\n\u001b[0;32m     22\u001b[0m resources \u001b[38;5;241m=\u001b[39m yaml\u001b[38;5;241m.\u001b[39msafe_load(faction_set[\u001b[38;5;124m'\u001b[39m\u001b[38;5;124mstructure\u001b[39m\u001b[38;5;124m'\u001b[39m]\u001b[38;5;241m.\u001b[39mget(\u001b[38;5;124m'\u001b[39m\u001b[38;5;124mrenews_faction_resource\u001b[39m\u001b[38;5;124m'\u001b[39m))\n\u001b[0;32m     23\u001b[0m \u001b[38;5;28;01mfor\u001b[39;00m resource \u001b[38;5;129;01min\u001b[39;00m \u001b[38;5;28mlist\u001b[39m(resources\u001b[38;5;241m.\u001b[39mitems()):\n\u001b[1;32m---> 24\u001b[0m     r \u001b[38;5;241m=\u001b[39m \u001b[43mrenew_create_faction_resource\u001b[49m\u001b[43m(\u001b[49m\u001b[43mc\u001b[49m\u001b[43m,\u001b[49m\u001b[43mfaction_set\u001b[49m\u001b[43m[\u001b[49m\u001b[38;5;124;43m'\u001b[39;49m\u001b[38;5;124;43mfaction\u001b[39;49m\u001b[38;5;124;43m'\u001b[39;49m\u001b[43m]\u001b[49m\u001b[43m,\u001b[49m\u001b[43mresource\u001b[49m\u001b[43m)\u001b[49m\n\u001b[0;32m     25\u001b[0m     \u001b[38;5;28mprint\u001b[39m(r)\n",
      "Cell \u001b[1;32mIn[46], line 11\u001b[0m, in \u001b[0;36mrenew_create_faction_resource\u001b[1;34m(c, faction, resource)\u001b[0m\n\u001b[0;32m      7\u001b[0m \u001b[38;5;28;01mif\u001b[39;00m r[\u001b[38;5;241m0\u001b[39m] \u001b[38;5;241m==\u001b[39m \u001b[38;5;241m0\u001b[39m:\n\u001b[0;32m      8\u001b[0m     create_faction_resource_query \u001b[38;5;241m=\u001b[39m \u001b[38;5;124mf\u001b[39m\u001b[38;5;124m\"\"\"\u001b[39m\n\u001b[0;32m      9\u001b[0m \u001b[38;5;124m    g.V().has(\u001b[39m\u001b[38;5;124m'\u001b[39m\u001b[38;5;124mobjid\u001b[39m\u001b[38;5;124m'\u001b[39m\u001b[38;5;124m,\u001b[39m\u001b[38;5;124m'\u001b[39m\u001b[38;5;132;01m{\u001b[39;00mfaction[\u001b[38;5;124m'\u001b[39m\u001b[38;5;124mobjid\u001b[39m\u001b[38;5;124m'\u001b[39m]\u001b[38;5;132;01m}\u001b[39;00m\u001b[38;5;124m'\u001b[39m\u001b[38;5;124m).addE(\u001b[39m\u001b[38;5;124m'\u001b[39m\u001b[38;5;124mhas\u001b[39m\u001b[38;5;124m'\u001b[39m\u001b[38;5;124m).to(g.V().has(\u001b[39m\u001b[38;5;124m'\u001b[39m\u001b[38;5;124mobjid\u001b[39m\u001b[38;5;124m'\u001b[39m\u001b[38;5;124m,\u001b[39m\u001b[38;5;124m'\u001b[39m\u001b[38;5;132;01m{\u001b[39;00mresource[\u001b[38;5;241m0\u001b[39m]\u001b[38;5;132;01m}\u001b[39;00m\u001b[38;5;124m'\u001b[39m\u001b[38;5;124m)).next()\u001b[39m\n\u001b[0;32m     10\u001b[0m \u001b[38;5;124m    \u001b[39m\u001b[38;5;124m\"\"\"\u001b[39m\n\u001b[1;32m---> 11\u001b[0m     \u001b[43mc\u001b[49m\u001b[38;5;241;43m.\u001b[39;49m\u001b[43mrun_query\u001b[49m\u001b[43m(\u001b[49m\u001b[43mcreate_faction_resource_query\u001b[49m\u001b[43m)\u001b[49m\n\u001b[0;32m     12\u001b[0m     r \u001b[38;5;241m=\u001b[39m c\u001b[38;5;241m.\u001b[39mres\n\u001b[0;32m     13\u001b[0m \u001b[38;5;28;01mreturn\u001b[39;00m r\n",
      "File \u001b[1;32mc:\\Users\\willi\\repos\\exoplanets\\notebooks\\People\\../..\\app\\connectors\\cmdb_graph.py:93\u001b[0m, in \u001b[0;36mCosmosdbClient.run_query\u001b[1;34m(self, query)\u001b[0m\n\u001b[0;32m     91\u001b[0m \u001b[38;5;28mself\u001b[39m\u001b[38;5;241m.\u001b[39mopen_client()\n\u001b[0;32m     92\u001b[0m callback \u001b[38;5;241m=\u001b[39m \u001b[38;5;28mself\u001b[39m\u001b[38;5;241m.\u001b[39mc\u001b[38;5;241m.\u001b[39msubmitAsync(query)\n\u001b[1;32m---> 93\u001b[0m res \u001b[38;5;241m=\u001b[39m \u001b[43mcallback\u001b[49m\u001b[38;5;241;43m.\u001b[39;49m\u001b[43mresult\u001b[49m\u001b[43m(\u001b[49m\u001b[43m)\u001b[49m\u001b[38;5;241;43m.\u001b[39;49m\u001b[43mall\u001b[49m\u001b[43m(\u001b[49m\u001b[43m)\u001b[49m\u001b[38;5;241;43m.\u001b[39;49m\u001b[43mresult\u001b[49m\u001b[43m(\u001b[49m\u001b[43m)\u001b[49m\n\u001b[0;32m     94\u001b[0m \u001b[38;5;28mself\u001b[39m\u001b[38;5;241m.\u001b[39mclose_client()\n\u001b[0;32m     95\u001b[0m \u001b[38;5;28mself\u001b[39m\u001b[38;5;241m.\u001b[39mres \u001b[38;5;241m=\u001b[39m res\n",
      "File \u001b[1;32mc:\\Users\\willi\\miniconda3\\envs\\exoplanets\\lib\\concurrent\\futures\\_base.py:444\u001b[0m, in \u001b[0;36mFuture.result\u001b[1;34m(self, timeout)\u001b[0m\n\u001b[0;32m    442\u001b[0m     \u001b[38;5;28;01mraise\u001b[39;00m CancelledError()\n\u001b[0;32m    443\u001b[0m \u001b[38;5;28;01melif\u001b[39;00m \u001b[38;5;28mself\u001b[39m\u001b[38;5;241m.\u001b[39m_state \u001b[38;5;241m==\u001b[39m FINISHED:\n\u001b[1;32m--> 444\u001b[0m     \u001b[38;5;28;01mreturn\u001b[39;00m \u001b[38;5;28;43mself\u001b[39;49m\u001b[38;5;241;43m.\u001b[39;49m\u001b[43m__get_result\u001b[49m\u001b[43m(\u001b[49m\u001b[43m)\u001b[49m\n\u001b[0;32m    445\u001b[0m \u001b[38;5;28;01melse\u001b[39;00m:\n\u001b[0;32m    446\u001b[0m     \u001b[38;5;28;01mraise\u001b[39;00m \u001b[38;5;167;01mTimeoutError\u001b[39;00m()\n",
      "File \u001b[1;32mc:\\Users\\willi\\miniconda3\\envs\\exoplanets\\lib\\concurrent\\futures\\_base.py:389\u001b[0m, in \u001b[0;36mFuture.__get_result\u001b[1;34m(self)\u001b[0m\n\u001b[0;32m    387\u001b[0m \u001b[38;5;28;01mif\u001b[39;00m \u001b[38;5;28mself\u001b[39m\u001b[38;5;241m.\u001b[39m_exception:\n\u001b[0;32m    388\u001b[0m     \u001b[38;5;28;01mtry\u001b[39;00m:\n\u001b[1;32m--> 389\u001b[0m         \u001b[38;5;28;01mraise\u001b[39;00m \u001b[38;5;28mself\u001b[39m\u001b[38;5;241m.\u001b[39m_exception\n\u001b[0;32m    390\u001b[0m     \u001b[38;5;28;01mfinally\u001b[39;00m:\n\u001b[0;32m    391\u001b[0m         \u001b[38;5;66;03m# Break a reference cycle with the exception in self._exception\u001b[39;00m\n\u001b[0;32m    392\u001b[0m         \u001b[38;5;28mself\u001b[39m \u001b[38;5;241m=\u001b[39m \u001b[38;5;28;01mNone\u001b[39;00m\n",
      "File \u001b[1;32mc:\\Users\\willi\\miniconda3\\envs\\exoplanets\\lib\\site-packages\\gremlin_python\\driver\\resultset.py:90\u001b[0m, in \u001b[0;36mResultSet.all.<locals>.cb\u001b[1;34m(f)\u001b[0m\n\u001b[0;32m     88\u001b[0m \u001b[38;5;28;01mdef\u001b[39;00m \u001b[38;5;21mcb\u001b[39m(f):\n\u001b[0;32m     89\u001b[0m     \u001b[38;5;28;01mtry\u001b[39;00m:\n\u001b[1;32m---> 90\u001b[0m         \u001b[43mf\u001b[49m\u001b[38;5;241;43m.\u001b[39;49m\u001b[43mresult\u001b[49m\u001b[43m(\u001b[49m\u001b[43m)\u001b[49m\n\u001b[0;32m     91\u001b[0m     \u001b[38;5;28;01mexcept\u001b[39;00m \u001b[38;5;167;01mException\u001b[39;00m \u001b[38;5;28;01mas\u001b[39;00m e:\n\u001b[0;32m     92\u001b[0m         future\u001b[38;5;241m.\u001b[39mset_exception(e)\n",
      "File \u001b[1;32mc:\\Users\\willi\\miniconda3\\envs\\exoplanets\\lib\\concurrent\\futures\\_base.py:437\u001b[0m, in \u001b[0;36mFuture.result\u001b[1;34m(self, timeout)\u001b[0m\n\u001b[0;32m    435\u001b[0m     \u001b[38;5;28;01mraise\u001b[39;00m CancelledError()\n\u001b[0;32m    436\u001b[0m \u001b[38;5;28;01melif\u001b[39;00m \u001b[38;5;28mself\u001b[39m\u001b[38;5;241m.\u001b[39m_state \u001b[38;5;241m==\u001b[39m FINISHED:\n\u001b[1;32m--> 437\u001b[0m     \u001b[38;5;28;01mreturn\u001b[39;00m \u001b[38;5;28;43mself\u001b[39;49m\u001b[38;5;241;43m.\u001b[39;49m\u001b[43m__get_result\u001b[49m\u001b[43m(\u001b[49m\u001b[43m)\u001b[49m\n\u001b[0;32m    439\u001b[0m \u001b[38;5;28mself\u001b[39m\u001b[38;5;241m.\u001b[39m_condition\u001b[38;5;241m.\u001b[39mwait(timeout)\n\u001b[0;32m    441\u001b[0m \u001b[38;5;28;01mif\u001b[39;00m \u001b[38;5;28mself\u001b[39m\u001b[38;5;241m.\u001b[39m_state \u001b[38;5;129;01min\u001b[39;00m [CANCELLED, CANCELLED_AND_NOTIFIED]:\n",
      "File \u001b[1;32mc:\\Users\\willi\\miniconda3\\envs\\exoplanets\\lib\\concurrent\\futures\\_base.py:389\u001b[0m, in \u001b[0;36mFuture.__get_result\u001b[1;34m(self)\u001b[0m\n\u001b[0;32m    387\u001b[0m \u001b[38;5;28;01mif\u001b[39;00m \u001b[38;5;28mself\u001b[39m\u001b[38;5;241m.\u001b[39m_exception:\n\u001b[0;32m    388\u001b[0m     \u001b[38;5;28;01mtry\u001b[39;00m:\n\u001b[1;32m--> 389\u001b[0m         \u001b[38;5;28;01mraise\u001b[39;00m \u001b[38;5;28mself\u001b[39m\u001b[38;5;241m.\u001b[39m_exception\n\u001b[0;32m    390\u001b[0m     \u001b[38;5;28;01mfinally\u001b[39;00m:\n\u001b[0;32m    391\u001b[0m         \u001b[38;5;66;03m# Break a reference cycle with the exception in self._exception\u001b[39;00m\n\u001b[0;32m    392\u001b[0m         \u001b[38;5;28mself\u001b[39m \u001b[38;5;241m=\u001b[39m \u001b[38;5;28;01mNone\u001b[39;00m\n",
      "File \u001b[1;32mc:\\Users\\willi\\miniconda3\\envs\\exoplanets\\lib\\concurrent\\futures\\thread.py:57\u001b[0m, in \u001b[0;36m_WorkItem.run\u001b[1;34m(self)\u001b[0m\n\u001b[0;32m     54\u001b[0m     \u001b[38;5;28;01mreturn\u001b[39;00m\n\u001b[0;32m     56\u001b[0m \u001b[38;5;28;01mtry\u001b[39;00m:\n\u001b[1;32m---> 57\u001b[0m     result \u001b[38;5;241m=\u001b[39m \u001b[38;5;28;43mself\u001b[39;49m\u001b[38;5;241;43m.\u001b[39;49m\u001b[43mfn\u001b[49m\u001b[43m(\u001b[49m\u001b[38;5;241;43m*\u001b[39;49m\u001b[38;5;28;43mself\u001b[39;49m\u001b[38;5;241;43m.\u001b[39;49m\u001b[43margs\u001b[49m\u001b[43m,\u001b[49m\u001b[43m \u001b[49m\u001b[38;5;241;43m*\u001b[39;49m\u001b[38;5;241;43m*\u001b[39;49m\u001b[38;5;28;43mself\u001b[39;49m\u001b[38;5;241;43m.\u001b[39;49m\u001b[43mkwargs\u001b[49m\u001b[43m)\u001b[49m\n\u001b[0;32m     58\u001b[0m \u001b[38;5;28;01mexcept\u001b[39;00m \u001b[38;5;167;01mBaseException\u001b[39;00m \u001b[38;5;28;01mas\u001b[39;00m exc:\n\u001b[0;32m     59\u001b[0m     \u001b[38;5;28mself\u001b[39m\u001b[38;5;241m.\u001b[39mfuture\u001b[38;5;241m.\u001b[39mset_exception(exc)\n",
      "File \u001b[1;32mc:\\Users\\willi\\miniconda3\\envs\\exoplanets\\lib\\site-packages\\gremlin_python\\driver\\connection.py:83\u001b[0m, in \u001b[0;36mConnection._receive\u001b[1;34m(self)\u001b[0m\n\u001b[0;32m     81\u001b[0m \u001b[38;5;28;01mwhile\u001b[39;00m \u001b[38;5;28;01mTrue\u001b[39;00m:\n\u001b[0;32m     82\u001b[0m     data \u001b[38;5;241m=\u001b[39m \u001b[38;5;28mself\u001b[39m\u001b[38;5;241m.\u001b[39m_transport\u001b[38;5;241m.\u001b[39mread()\n\u001b[1;32m---> 83\u001b[0m     status_code \u001b[38;5;241m=\u001b[39m \u001b[38;5;28;43mself\u001b[39;49m\u001b[38;5;241;43m.\u001b[39;49m\u001b[43m_protocol\u001b[49m\u001b[38;5;241;43m.\u001b[39;49m\u001b[43mdata_received\u001b[49m\u001b[43m(\u001b[49m\u001b[43mdata\u001b[49m\u001b[43m,\u001b[49m\u001b[43m \u001b[49m\u001b[38;5;28;43mself\u001b[39;49m\u001b[38;5;241;43m.\u001b[39;49m\u001b[43m_results\u001b[49m\u001b[43m)\u001b[49m\n\u001b[0;32m     84\u001b[0m     \u001b[38;5;28;01mif\u001b[39;00m status_code \u001b[38;5;241m!=\u001b[39m \u001b[38;5;241m206\u001b[39m:\n\u001b[0;32m     85\u001b[0m         \u001b[38;5;28;01mbreak\u001b[39;00m\n",
      "File \u001b[1;32mc:\\Users\\willi\\miniconda3\\envs\\exoplanets\\lib\\site-packages\\gremlin_python\\driver\\protocol.py:118\u001b[0m, in \u001b[0;36mGremlinServerWSProtocol.data_received\u001b[1;34m(self, message, results_dict)\u001b[0m\n\u001b[0;32m    116\u001b[0m     data \u001b[38;5;241m=\u001b[39m \u001b[38;5;28mself\u001b[39m\u001b[38;5;241m.\u001b[39m_transport\u001b[38;5;241m.\u001b[39mread()\n\u001b[0;32m    117\u001b[0m     \u001b[38;5;66;03m# Allow for auth handshake with multiple steps\u001b[39;00m\n\u001b[1;32m--> 118\u001b[0m     \u001b[38;5;28;01mreturn\u001b[39;00m \u001b[38;5;28;43mself\u001b[39;49m\u001b[38;5;241;43m.\u001b[39;49m\u001b[43mdata_received\u001b[49m\u001b[43m(\u001b[49m\u001b[43mdata\u001b[49m\u001b[43m,\u001b[49m\u001b[43m \u001b[49m\u001b[43mresults_dict\u001b[49m\u001b[43m)\u001b[49m\n\u001b[0;32m    119\u001b[0m \u001b[38;5;28;01melif\u001b[39;00m status_code \u001b[38;5;241m==\u001b[39m \u001b[38;5;241m204\u001b[39m:\n\u001b[0;32m    120\u001b[0m     result_set\u001b[38;5;241m.\u001b[39mstream\u001b[38;5;241m.\u001b[39mput_nowait([])\n",
      "File \u001b[1;32mc:\\Users\\willi\\miniconda3\\envs\\exoplanets\\lib\\site-packages\\gremlin_python\\driver\\protocol.py:131\u001b[0m, in \u001b[0;36mGremlinServerWSProtocol.data_received\u001b[1;34m(self, message, results_dict)\u001b[0m\n\u001b[0;32m    129\u001b[0m \u001b[38;5;28;01melse\u001b[39;00m:\n\u001b[0;32m    130\u001b[0m     \u001b[38;5;28;01mdel\u001b[39;00m results_dict[request_id]\n\u001b[1;32m--> 131\u001b[0m     \u001b[38;5;28;01mraise\u001b[39;00m GremlinServerError(message[\u001b[38;5;124m'\u001b[39m\u001b[38;5;124mstatus\u001b[39m\u001b[38;5;124m'\u001b[39m])\n",
      "\u001b[1;31mGremlinServerError\u001b[0m: 597: \r\n\nActivityId : 3714d0ab-508b-4545-a564-9589385afdff\nExceptionType : GraphCompileException\nExceptionMessage : \r\n\tGremlin Query Compilation Error: Unable to find any method 'next' @ line 2, column 109.\r\n\t1 Error(s)\n\tGremlinRequestId : 967acf69-2ed5-4f93-af12-9d580bcba8f2\n\tContext : graphcompute\n\tScope : graphparse-translate-csharpexpressionbinding\n\tGraphInterOpStatusCode : QuerySyntaxError\n\tHResult : 0x80131500\r\n"
     ]
    }
   ],
   "source": [
    "def renew_create_faction_resource(c,faction,resource):\n",
    "    faction_has_resource_query = f\"\"\"\n",
    "    g.V().has('objid','{faction['objid']}').out('has').has('label','resource').has('objid','{resource[0]}').count()\n",
    "    \"\"\"\n",
    "    c.run_query(faction_has_resource_query)\n",
    "    r = c.res\n",
    "    if r[0] == 0:\n",
    "        create_faction_resource_query = f\"\"\"\n",
    "        g.V().has('objid','{resource[0]}')\n",
    "        \"\"\"\n",
    "        c.run_query(create_faction_resource_query)\n",
    "        r = c.res\n",
    "    return r\n",
    "\n",
    "\n",
    "# faction set is one of the faction,pop,structure combos. \n",
    "faction_set = faction_res[0]\n",
    "\n",
    "# renew_create_faction_resource(c,faction_set['faction'],faction_set['structure'])\n",
    "\n",
    "if faction_set['structure'].get('renews_faction_resource','does not renew resources') != 'does not renew resources':\n",
    "    resources = yaml.safe_load(faction_set['structure'].get('renews_faction_resource'))\n",
    "    for resource in list(resources.items()):\n",
    "        r = renew_create_faction_resource(c,faction_set['faction'],resource)\n",
    "        print(r)\n",
    "\n"
   ]
  },
  {
   "cell_type": "code",
   "execution_count": 44,
   "metadata": {},
   "outputs": [
    {
     "data": {
      "text/plain": [
       "'granulated_hydrocarbons'"
      ]
     },
     "execution_count": 44,
     "metadata": {},
     "output_type": "execute_result"
    }
   ],
   "source": [
    "i[0]"
   ]
  },
  {
   "cell_type": "code",
   "execution_count": null,
   "metadata": {},
   "outputs": [],
   "source": []
  }
 ],
 "metadata": {
  "kernelspec": {
   "display_name": "exoplanets",
   "language": "python",
   "name": "python3"
  },
  "language_info": {
   "codemirror_mode": {
    "name": "ipython",
    "version": 3
   },
   "file_extension": ".py",
   "mimetype": "text/x-python",
   "name": "python",
   "nbconvert_exporter": "python",
   "pygments_lexer": "ipython3",
   "version": "3.8.16"
  },
  "orig_nbformat": 4,
  "vscode": {
   "interpreter": {
    "hash": "625a17269cb94aebb094cbcf5e0e8340f26b69d46569da60e8fc69439048adbf"
   }
  }
 },
 "nbformat": 4,
 "nbformat_minor": 2
}
