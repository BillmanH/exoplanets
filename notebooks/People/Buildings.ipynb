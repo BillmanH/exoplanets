{
 "cells": [
  {
   "cell_type": "code",
   "execution_count": 1,
   "metadata": {},
   "outputs": [],
   "source": [
    "import numpy as np\n",
    "import pandas as pd\n",
    "\n",
    "import sys, os, yaml, ssl, asyncio\n",
    "\n",
    "\n",
    "\n",
    "# mapping to the modules that make the app\n",
    "sys.path.insert(0, \"../..\")\n",
    "# sys.path.insert(0, \"..\")\n"
   ]
  },
  {
   "cell_type": "code",
   "execution_count": 2,
   "metadata": {},
   "outputs": [],
   "source": [
    "from app.objects import structures\n",
    "\n",
    "from notebooks.helpers import test_queries"
   ]
  },
  {
   "cell_type": "code",
   "execution_count": 3,
   "metadata": {},
   "outputs": [
    {
     "name": "stdout",
     "output_type": "stream",
     "text": [
      "executing local windows deployment\n"
     ]
    }
   ],
   "source": [
    "ssl._create_default_https_context = ssl._create_unverified_context\n",
    "asyncio.set_event_loop_policy(asyncio.WindowsSelectorEventLoopPolicy())\n",
    "import nest_asyncio\n",
    "\n",
    "# this is required for running in a Jupyter Notebook.\n",
    "nest_asyncio.apply()\n",
    "\n",
    "import app.models as models\n",
    "\n",
    "c = models.CosmosdbClient()"
   ]
  },
  {
   "cell_type": "code",
   "execution_count": 4,
   "metadata": {},
   "outputs": [
    {
     "data": {
      "text/plain": [
       "[{'type': \"all buildings have a 'type'/'label' of building\"},\n",
       " {'name': \"name_with_underscore. UI can remove the '_' at display time.\"},\n",
       " {'augments_resource': 'OPTIONAL augments a specific resource, creates it if it does not exist'},\n",
       " {'built_by': 'type of object that can build the building'},\n",
       " {'owned_by': 'type of object that can own/maintain this building, assuming a relationhsip to that object'},\n",
       " {'changes': 'stats changed by the owner'},\n",
       " {'faction_augments': 'if owned by a pop in the faction,  raises the stat for all pops in factions'},\n",
       " {'effort': 'time in `universal time units` that the action will take to complete'},\n",
       " {'requires_attr': 'required attributes of the agent. Determines if the agent can do the action.'},\n",
       " {'render_type': \"guides the rendering in buildings.js. Available types: 'block'\"}]"
      ]
     },
     "execution_count": 4,
     "metadata": {},
     "output_type": "execute_result"
    }
   ],
   "source": [
    "buildings = yaml.safe_load(\n",
    "    open(os.path.join(os.getenv(\"abspath\"), \"app\", \"configurations\", \"buildings.yaml\"))\n",
    ")\n",
    "buildings[\"explanation\"]"
   ]
  },
  {
   "cell_type": "markdown",
   "metadata": {},
   "source": [
    "# Creating a new Building"
   ]
  },
  {
   "cell_type": "code",
   "execution_count": 5,
   "metadata": {},
   "outputs": [
    {
     "data": {
      "text/plain": [
       "{'isIdle': 'true',\n",
       " 'name': 'Waquimac Lamdonzobat',\n",
       " 'objid': '1992522165129',\n",
       " 'conformity': 0.49,\n",
       " 'literacy': 0.432,\n",
       " 'aggression': 0.473,\n",
       " 'constitution': 0.546,\n",
       " 'health': 0.7,\n",
       " 'isIn': '4921596451746',\n",
       " 'industry': 0.5095,\n",
       " 'wealth': 0.4708,\n",
       " 'factionLoyalty': 0.375,\n",
       " 'username': 'BillmanLocal2',\n",
       " 'objtype': 'pop',\n",
       " 'id': '1992522165129'}"
      ]
     },
     "execution_count": 5,
     "metadata": {},
     "output_type": "execute_result"
    }
   ],
   "source": [
    "username = \"BillmanLocal2\"\n",
    "pop = test_queries.get_random_pop(c,username)\n",
    "pop\n"
   ]
  },
  {
   "cell_type": "code",
   "execution_count": 6,
   "metadata": {},
   "outputs": [
    {
     "data": {
      "text/plain": [
       "{'name': 'farmland',\n",
       " 'description': 'Generates organic foodstuffs, populations will consume food before consuming natural resources',\n",
       " 'planet_requirements': {'isHabitable': 'true'},\n",
       " 'augments_resource': {'vegitable_foodstuff': 10},\n",
       " 'changes': {'wealth': -0.01},\n",
       " 'owned_by': 'pop',\n",
       " 'effort': 1,\n",
       " 'render_type': 'block',\n",
       " 'label': 'building'}"
      ]
     },
     "execution_count": 6,
     "metadata": {},
     "output_type": "execute_result"
    }
   ],
   "source": [
    "farm = buildings[\"buildings\"][0]\n",
    "farm[\"label\"] = \"building\"\n",
    "farm"
   ]
  },
  {
   "cell_type": "markdown",
   "metadata": {},
   "source": [
    "Should be able to search the building type by name"
   ]
  },
  {
   "cell_type": "code",
   "execution_count": 7,
   "metadata": {},
   "outputs": [
    {
     "data": {
      "text/plain": [
       "{'name': 'farmland',\n",
       " 'description': 'Generates organic foodstuffs, populations will consume food before consuming natural resources',\n",
       " 'planet_requirements': {'isHabitable': 'true'},\n",
       " 'augments_resource': {'vegitable_foodstuff': 10},\n",
       " 'changes': {'wealth': -0.01},\n",
       " 'owned_by': 'pop',\n",
       " 'effort': 1,\n",
       " 'render_type': 'block',\n",
       " 'label': 'building'}"
      ]
     },
     "execution_count": 7,
     "metadata": {},
     "output_type": "execute_result"
    }
   ],
   "source": [
    "b = [b for b in buildings['buildings'] if b['name'] == \"farmland\"][0]\n",
    "b"
   ]
  },
  {
   "cell_type": "code",
   "execution_count": 8,
   "metadata": {},
   "outputs": [
    {
     "data": {
      "text/plain": [
       "<building: None; 8330456965074; farmland>"
      ]
     },
     "execution_count": 8,
     "metadata": {},
     "output_type": "execute_result"
    }
   ],
   "source": [
    "building = structures.Building(pop,b)\n",
    "building"
   ]
  },
  {
   "cell_type": "code",
   "execution_count": 9,
   "metadata": {},
   "outputs": [
    {
     "data": {
      "text/plain": [
       "{'name': 'farmland',\n",
       " 'objid': '8330456965074',\n",
       " 'label': 'building',\n",
       " 'owns': '1992522165129',\n",
       " 'description': 'Generates organic foodstuffs, populations will consume food before consuming natural resources',\n",
       " 'planet_requirements': {'isHabitable': 'true'},\n",
       " 'augments_resource': {'vegitable_foodstuff': 10},\n",
       " 'changes': {'wealth': -0.01},\n",
       " 'owned_by': 'pop',\n",
       " 'effort': 1,\n",
       " 'render_type': 'block'}"
      ]
     },
     "execution_count": 9,
     "metadata": {},
     "output_type": "execute_result"
    }
   ],
   "source": [
    "building.get_data()"
   ]
  },
  {
   "cell_type": "code",
   "execution_count": 10,
   "metadata": {},
   "outputs": [
    {
     "data": {
      "text/plain": [
       "{'node1': '8330456965074', 'node2': '1992522165129', 'label': 'owns'}"
      ]
     },
     "execution_count": 10,
     "metadata": {},
     "output_type": "execute_result"
    }
   ],
   "source": [
    "building.get_owned_by()"
   ]
  },
  {
   "cell_type": "markdown",
   "metadata": {},
   "source": []
  },
  {
   "cell_type": "code",
   "execution_count": 11,
   "metadata": {},
   "outputs": [],
   "source": [
    "data = {'nodes':[building.get_data()],'edges':[building.get_owned_by()]}\n",
    "c.upload_data(userguid,data)"
   ]
  },
  {
   "cell_type": "code",
   "execution_count": 12,
   "metadata": {},
   "outputs": [
    {
     "data": {
      "text/plain": [
       "[{'labels': [['pop'], ['building']],\n",
       "  'objects': [{'objid': ['1992522165129'], 'name': ['Waquimac Lamdonzobat']},\n",
       "   {'objid': ['8330456965074'],\n",
       "    'name': ['farmland'],\n",
       "    'changes': ['{wealth: -0.01}'],\n",
       "    'augments_resource': ['{vegitable_foodstuff: 10}'],\n",
       "    'planet_requirements': ['{isHabitable: true}'],\n",
       "    'description': ['Generates organic foodstuffs, populations will consume food before consuming natural resources'],\n",
       "    'render_type': ['block']}]}]"
      ]
     },
     "execution_count": 12,
     "metadata": {},
     "output_type": "execute_result"
    }
   ],
   "source": [
    "building_query = f\"\"\"\n",
    "g.V().has('objid','{pop['objid']}').as('pop')\n",
    "    .in('owns').as('building')\n",
    "    .path()\n",
    "        .by(valueMap('objid','name'))\n",
    "        .by(valueMap('objid','name','changes','augments_resource','planet_requirements','description','render_type'))\n",
    "\"\"\"\n",
    "\n",
    "c.run_query(building_query)\n",
    "c.res"
   ]
  },
  {
   "cell_type": "code",
   "execution_count": null,
   "metadata": {},
   "outputs": [],
   "source": []
  }
 ],
 "metadata": {
  "kernelspec": {
   "display_name": "exoplanets",
   "language": "python",
   "name": "python3"
  },
  "language_info": {
   "codemirror_mode": {
    "name": "ipython",
    "version": 3
   },
   "file_extension": ".py",
   "mimetype": "text/x-python",
   "name": "python",
   "nbconvert_exporter": "python",
   "pygments_lexer": "ipython3",
   "version": "3.8.16"
  },
  "orig_nbformat": 4,
  "vscode": {
   "interpreter": {
    "hash": "625a17269cb94aebb094cbcf5e0e8340f26b69d46569da60e8fc69439048adbf"
   }
  }
 },
 "nbformat": 4,
 "nbformat_minor": 2
}
