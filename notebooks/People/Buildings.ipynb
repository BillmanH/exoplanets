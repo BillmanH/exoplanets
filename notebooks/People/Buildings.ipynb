{
 "cells": [
  {
   "cell_type": "code",
   "execution_count": 1,
   "metadata": {},
   "outputs": [],
   "source": [
    "import numpy as np\n",
    "import pandas as pd\n",
    "\n",
    "import sys, os, yaml, ssl, asyncio\n",
    "\n",
    "\n",
    "\n",
    "# mapping to the modules that make the app\n",
    "sys.path.insert(0, \"../..\")\n",
    "# sys.path.insert(0, \"..\")\n"
   ]
  },
  {
   "cell_type": "code",
   "execution_count": 2,
   "metadata": {},
   "outputs": [],
   "source": [
    "from app.objects import structures\n",
    "\n",
    "from notebooks.helpers import test_queries"
   ]
  },
  {
   "cell_type": "code",
   "execution_count": 3,
   "metadata": {},
   "outputs": [
    {
     "name": "stdout",
     "output_type": "stream",
     "text": [
      "executing local windows deployment\n"
     ]
    }
   ],
   "source": [
    "ssl._create_default_https_context = ssl._create_unverified_context\n",
    "asyncio.set_event_loop_policy(asyncio.WindowsSelectorEventLoopPolicy())\n",
    "import nest_asyncio\n",
    "\n",
    "# this is required for running in a Jupyter Notebook.\n",
    "nest_asyncio.apply()\n",
    "\n",
    "import app.models as models\n",
    "\n",
    "c = models.CosmosdbClient()"
   ]
  },
  {
   "cell_type": "code",
   "execution_count": 14,
   "metadata": {},
   "outputs": [
    {
     "data": {
      "text/plain": [
       "[{'type': \"all buildings have a 'type'/'label' of building\"},\n",
       " {'name': \"name_with_underscore. UI can remove the '_' at display time.\"},\n",
       " {'augments_resource': 'OPTIONAL augments a specific resource, creates it if it does not exist'},\n",
       " {'owned_by': 'type of object that can own/maintain this building, assuming a relationhsip to that object'},\n",
       " {'faction_augments': 'if owned by a pop in the faction,  raises the stat for all pops in factions'},\n",
       " {'effort': 'time in universal time units (UTU) that the action will take to complete'},\n",
       " {'requires_attr': 'required attributes of the agent. Determines if the agent can do the action.'},\n",
       " {'render_type': \"guides the rendering in buildings.js. Available types: 'block'\"},\n",
       " {'renews_faction_resource': 'augments (or diminishes) a resource in the faction. Creates if it does not exist.'},\n",
       " {'renews_location_resource': 'augments (or diminishes) a resource in the location. Creates if it does not exist.'},\n",
       " {'each_population_augments_once': 'augments a stat for each population in the faction'},\n",
       " {'each_population_augments_on_cycle': 'augments a stat for each population in the faction on each cycle'},\n",
       " {'on_complete': 'action to be taken when the building is complete'},\n",
       " {'on_cycle': 'action/s to be taken on each building renew cycle'}]"
      ]
     },
     "execution_count": 14,
     "metadata": {},
     "output_type": "execute_result"
    }
   ],
   "source": [
    "buildings = yaml.safe_load(\n",
    "    open(os.path.join(os.getenv(\"abspath\"), \"app\", \"configurations\", \"buildings.yaml\"))\n",
    ")\n",
    "buildings[\"explanation\"]"
   ]
  },
  {
   "cell_type": "markdown",
   "metadata": {},
   "source": [
    "# Creating a new Building"
   ]
  },
  {
   "cell_type": "code",
   "execution_count": 5,
   "metadata": {},
   "outputs": [
    {
     "ename": "ValueError",
     "evalue": "a must be greater than 0 unless no samples are taken",
     "output_type": "error",
     "traceback": [
      "\u001b[1;31m---------------------------------------------------------------------------\u001b[0m",
      "\u001b[1;31mValueError\u001b[0m                                Traceback (most recent call last)",
      "Cell \u001b[1;32mIn[5], line 2\u001b[0m\n\u001b[0;32m      1\u001b[0m username \u001b[38;5;241m=\u001b[39m \u001b[38;5;124m\"\u001b[39m\u001b[38;5;124mBillmanLocal2\u001b[39m\u001b[38;5;124m\"\u001b[39m\n\u001b[1;32m----> 2\u001b[0m pop \u001b[38;5;241m=\u001b[39m \u001b[43mtest_queries\u001b[49m\u001b[38;5;241;43m.\u001b[39;49m\u001b[43mget_random_pop\u001b[49m\u001b[43m(\u001b[49m\u001b[43mc\u001b[49m\u001b[43m,\u001b[49m\u001b[43musername\u001b[49m\u001b[43m)\u001b[49m\n\u001b[0;32m      3\u001b[0m pop\n",
      "File \u001b[1;32mc:\\Users\\willi\\repos\\exoplanets\\notebooks\\People\\../..\\notebooks\\helpers\\test_queries.py:16\u001b[0m, in \u001b[0;36mget_random_pop\u001b[1;34m(c, username)\u001b[0m\n\u001b[0;32m     14\u001b[0m \u001b[38;5;28;01mdef\u001b[39;00m \u001b[38;5;21mget_random_pop\u001b[39m(c,username):\n\u001b[0;32m     15\u001b[0m     df \u001b[38;5;241m=\u001b[39m get_pops(c,username)\n\u001b[1;32m---> 16\u001b[0m     pop \u001b[38;5;241m=\u001b[39m \u001b[43mdf\u001b[49m\u001b[38;5;241;43m.\u001b[39;49m\u001b[43msample\u001b[49m\u001b[43m(\u001b[49m\u001b[38;5;241;43m1\u001b[39;49m\u001b[43m)\u001b[49m\u001b[38;5;241m.\u001b[39mreset_index(drop\u001b[38;5;241m=\u001b[39m\u001b[38;5;28;01mTrue\u001b[39;00m)\u001b[38;5;241m.\u001b[39mT\u001b[38;5;241m.\u001b[39mto_dict()[\u001b[38;5;241m0\u001b[39m]\n\u001b[0;32m     17\u001b[0m     \u001b[38;5;28;01mreturn\u001b[39;00m pop\n",
      "File \u001b[1;32mc:\\Users\\willi\\miniconda3\\envs\\exoplanets\\lib\\site-packages\\pandas\\core\\generic.py:5858\u001b[0m, in \u001b[0;36mNDFrame.sample\u001b[1;34m(self, n, frac, replace, weights, random_state, axis, ignore_index)\u001b[0m\n\u001b[0;32m   5855\u001b[0m \u001b[38;5;28;01mif\u001b[39;00m weights \u001b[38;5;129;01mis\u001b[39;00m \u001b[38;5;129;01mnot\u001b[39;00m \u001b[38;5;28;01mNone\u001b[39;00m:\n\u001b[0;32m   5856\u001b[0m     weights \u001b[38;5;241m=\u001b[39m sample\u001b[38;5;241m.\u001b[39mpreprocess_weights(\u001b[38;5;28mself\u001b[39m, weights, axis)\n\u001b[1;32m-> 5858\u001b[0m sampled_indices \u001b[38;5;241m=\u001b[39m \u001b[43msample\u001b[49m\u001b[38;5;241;43m.\u001b[39;49m\u001b[43msample\u001b[49m\u001b[43m(\u001b[49m\u001b[43mobj_len\u001b[49m\u001b[43m,\u001b[49m\u001b[43m \u001b[49m\u001b[43msize\u001b[49m\u001b[43m,\u001b[49m\u001b[43m \u001b[49m\u001b[43mreplace\u001b[49m\u001b[43m,\u001b[49m\u001b[43m \u001b[49m\u001b[43mweights\u001b[49m\u001b[43m,\u001b[49m\u001b[43m \u001b[49m\u001b[43mrs\u001b[49m\u001b[43m)\u001b[49m\n\u001b[0;32m   5859\u001b[0m result \u001b[38;5;241m=\u001b[39m \u001b[38;5;28mself\u001b[39m\u001b[38;5;241m.\u001b[39mtake(sampled_indices, axis\u001b[38;5;241m=\u001b[39maxis)\n\u001b[0;32m   5861\u001b[0m \u001b[38;5;28;01mif\u001b[39;00m ignore_index:\n",
      "File \u001b[1;32mc:\\Users\\willi\\miniconda3\\envs\\exoplanets\\lib\\site-packages\\pandas\\core\\sample.py:151\u001b[0m, in \u001b[0;36msample\u001b[1;34m(obj_len, size, replace, weights, random_state)\u001b[0m\n\u001b[0;32m    148\u001b[0m     \u001b[38;5;28;01melse\u001b[39;00m:\n\u001b[0;32m    149\u001b[0m         \u001b[38;5;28;01mraise\u001b[39;00m \u001b[38;5;167;01mValueError\u001b[39;00m(\u001b[38;5;124m\"\u001b[39m\u001b[38;5;124mInvalid weights: weights sum to zero\u001b[39m\u001b[38;5;124m\"\u001b[39m)\n\u001b[1;32m--> 151\u001b[0m \u001b[38;5;28;01mreturn\u001b[39;00m \u001b[43mrandom_state\u001b[49m\u001b[38;5;241;43m.\u001b[39;49m\u001b[43mchoice\u001b[49m\u001b[43m(\u001b[49m\u001b[43mobj_len\u001b[49m\u001b[43m,\u001b[49m\u001b[43m \u001b[49m\u001b[43msize\u001b[49m\u001b[38;5;241;43m=\u001b[39;49m\u001b[43msize\u001b[49m\u001b[43m,\u001b[49m\u001b[43m \u001b[49m\u001b[43mreplace\u001b[49m\u001b[38;5;241;43m=\u001b[39;49m\u001b[43mreplace\u001b[49m\u001b[43m,\u001b[49m\u001b[43m \u001b[49m\u001b[43mp\u001b[49m\u001b[38;5;241;43m=\u001b[39;49m\u001b[43mweights\u001b[49m\u001b[43m)\u001b[49m\u001b[38;5;241m.\u001b[39mastype(\n\u001b[0;32m    152\u001b[0m     np\u001b[38;5;241m.\u001b[39mintp, copy\u001b[38;5;241m=\u001b[39m\u001b[38;5;28;01mFalse\u001b[39;00m\n\u001b[0;32m    153\u001b[0m )\n",
      "File \u001b[1;32mmtrand.pyx:928\u001b[0m, in \u001b[0;36mnumpy.random.mtrand.RandomState.choice\u001b[1;34m()\u001b[0m\n",
      "\u001b[1;31mValueError\u001b[0m: a must be greater than 0 unless no samples are taken"
     ]
    }
   ],
   "source": [
    "username = \"BillmanLocal2\"\n",
    "pop = test_queries.get_random_pop(c,username)\n",
    "pop\n"
   ]
  },
  {
   "cell_type": "code",
   "execution_count": 15,
   "metadata": {},
   "outputs": [
    {
     "data": {
      "text/plain": [
       "['farm',\n",
       " 'hospital',\n",
       " 'solar_panel',\n",
       " 'forrestry',\n",
       " 'infrastructure',\n",
       " 'university',\n",
       " 'observatory',\n",
       " 'prospector',\n",
       " 'oil_well']"
      ]
     },
     "execution_count": 15,
     "metadata": {},
     "output_type": "execute_result"
    }
   ],
   "source": [
    "buildings_list = list(buildings[\"buildings\"].keys())\n",
    "buildings_list"
   ]
  },
  {
   "cell_type": "markdown",
   "metadata": {},
   "source": [
    "Should be able to search the building type by name"
   ]
  },
  {
   "cell_type": "code",
   "execution_count": 17,
   "metadata": {},
   "outputs": [
    {
     "data": {
      "text/plain": [
       "{'name': 'Farmland',\n",
       " 'description': 'Generates organic foodstuffs, populations will consume food before consuming natural resources',\n",
       " 'planet_requirements': {'isHabitable': 'true'},\n",
       " 'faction_augments': {'wealth': -1},\n",
       " 'renews_faction_resource': {'granulated_hydrocarbons': 10},\n",
       " 'owned_by': 'pop',\n",
       " 'effort': 1,\n",
       " 'render_type': 'block'}"
      ]
     },
     "execution_count": 17,
     "metadata": {},
     "output_type": "execute_result"
    }
   ],
   "source": [
    "b = buildings[\"buildings\"]['farm']\n",
    "b"
   ]
  },
  {
   "cell_type": "code",
   "execution_count": 19,
   "metadata": {},
   "outputs": [
    {
     "ename": "NameError",
     "evalue": "name 'pop' is not defined",
     "output_type": "error",
     "traceback": [
      "\u001b[1;31m---------------------------------------------------------------------------\u001b[0m",
      "\u001b[1;31mNameError\u001b[0m                                 Traceback (most recent call last)",
      "Cell \u001b[1;32mIn[19], line 1\u001b[0m\n\u001b[1;32m----> 1\u001b[0m building \u001b[38;5;241m=\u001b[39m structures\u001b[38;5;241m.\u001b[39mBuilding(\u001b[43mpop\u001b[49m,b)\n\u001b[0;32m      2\u001b[0m building\n",
      "\u001b[1;31mNameError\u001b[0m: name 'pop' is not defined"
     ]
    }
   ],
   "source": [
    "building = structures.Building(pop,b)\n",
    "building"
   ]
  },
  {
   "cell_type": "code",
   "execution_count": 18,
   "metadata": {},
   "outputs": [
    {
     "ename": "NameError",
     "evalue": "name 'building' is not defined",
     "output_type": "error",
     "traceback": [
      "\u001b[1;31m---------------------------------------------------------------------------\u001b[0m",
      "\u001b[1;31mNameError\u001b[0m                                 Traceback (most recent call last)",
      "Cell \u001b[1;32mIn[18], line 1\u001b[0m\n\u001b[1;32m----> 1\u001b[0m \u001b[43mbuilding\u001b[49m\u001b[38;5;241m.\u001b[39mget_data()\n",
      "\u001b[1;31mNameError\u001b[0m: name 'building' is not defined"
     ]
    }
   ],
   "source": [
    "building.get_data()"
   ]
  },
  {
   "cell_type": "code",
   "execution_count": 10,
   "metadata": {},
   "outputs": [
    {
     "data": {
      "text/plain": [
       "{'node1': '8330456965074', 'node2': '1992522165129', 'label': 'owns'}"
      ]
     },
     "execution_count": 10,
     "metadata": {},
     "output_type": "execute_result"
    }
   ],
   "source": [
    "building.get_owned_by()"
   ]
  },
  {
   "cell_type": "markdown",
   "metadata": {},
   "source": []
  },
  {
   "cell_type": "code",
   "execution_count": 11,
   "metadata": {},
   "outputs": [],
   "source": [
    "data = {'nodes':[building.get_data()],'edges':[building.get_owned_by()]}\n",
    "c.upload_data(userguid,data)"
   ]
  },
  {
   "cell_type": "code",
   "execution_count": 12,
   "metadata": {},
   "outputs": [
    {
     "data": {
      "text/plain": [
       "[{'labels': [['pop'], ['building']],\n",
       "  'objects': [{'objid': ['1992522165129'], 'name': ['Waquimac Lamdonzobat']},\n",
       "   {'objid': ['8330456965074'],\n",
       "    'name': ['farmland'],\n",
       "    'changes': ['{wealth: -0.01}'],\n",
       "    'augments_resource': ['{vegitable_foodstuff: 10}'],\n",
       "    'planet_requirements': ['{isHabitable: true}'],\n",
       "    'description': ['Generates organic foodstuffs, populations will consume food before consuming natural resources'],\n",
       "    'render_type': ['block']}]}]"
      ]
     },
     "execution_count": 12,
     "metadata": {},
     "output_type": "execute_result"
    }
   ],
   "source": [
    "building_query = f\"\"\"\n",
    "g.V().has('objid','{pop['objid']}').as('pop')\n",
    "    .in('owns').as('building')\n",
    "    .path()\n",
    "        .by(valueMap('objid','name'))\n",
    "        .by(valueMap('objid','name','changes','augments_resource','planet_requirements','description','render_type'))\n",
    "\"\"\"\n",
    "\n",
    "c.run_query(building_query)\n",
    "c.res"
   ]
  },
  {
   "cell_type": "code",
   "execution_count": null,
   "metadata": {},
   "outputs": [],
   "source": []
  }
 ],
 "metadata": {
  "kernelspec": {
   "display_name": "exoplanets",
   "language": "python",
   "name": "python3"
  },
  "language_info": {
   "codemirror_mode": {
    "name": "ipython",
    "version": 3
   },
   "file_extension": ".py",
   "mimetype": "text/x-python",
   "name": "python",
   "nbconvert_exporter": "python",
   "pygments_lexer": "ipython3",
   "version": "3.8.16"
  },
  "orig_nbformat": 4,
  "vscode": {
   "interpreter": {
    "hash": "625a17269cb94aebb094cbcf5e0e8340f26b69d46569da60e8fc69439048adbf"
   }
  }
 },
 "nbformat": 4,
 "nbformat_minor": 2
}
