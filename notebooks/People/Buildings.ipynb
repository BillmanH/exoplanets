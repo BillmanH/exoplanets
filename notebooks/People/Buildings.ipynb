{
 "cells": [
  {
   "cell_type": "code",
   "execution_count": 7,
   "metadata": {},
   "outputs": [],
   "source": [
    "import numpy as np\n",
    "import pandas as pd\n",
    "\n",
    "import sys, os, yaml, ssl, asyncio\n",
    "import altair as alt\n",
    "\n",
    "# mapping to the modules that make the app\n",
    "sys.path.insert(0, \"../..\")\n",
    "# sys.path.insert(0, \"..\")\n",
    "\n",
    "%load_ext lab_black"
   ]
  },
  {
   "cell_type": "code",
   "execution_count": 19,
   "metadata": {},
   "outputs": [],
   "source": [
    "from app.creators import universe\n",
    "from app.functions import maths"
   ]
  },
  {
   "cell_type": "code",
   "execution_count": 8,
   "metadata": {},
   "outputs": [],
   "source": [
    "ssl._create_default_https_context = ssl._create_unverified_context\n",
    "asyncio.set_event_loop_policy(asyncio.WindowsSelectorEventLoopPolicy())\n",
    "import nest_asyncio\n",
    "\n",
    "# this is required for running in a Jupyter Notebook.\n",
    "nest_asyncio.apply()\n",
    "\n",
    "import app.models as models\n",
    "\n",
    "c = models.CosmosdbClient()"
   ]
  },
  {
   "cell_type": "code",
   "execution_count": 10,
   "metadata": {},
   "outputs": [
    {
     "data": {
      "text/plain": [
       "[{'type': \"all buildings have a 'type'/'label' of building\"},\n",
       " {'name': \"name_with_underscore. UI can remove the '_' at display time.\"},\n",
       " {'augments_resource': 'OPTIONAL augments a specific resource, creates it if it does not exist'},\n",
       " {'built_by': 'type of object that can build the building'},\n",
       " {'owned_by': 'type of object that can own/maintain this building, assuming a relationhsip to that object'},\n",
       " {'changes': 'stats changed by the owner'},\n",
       " {'faction_augments': 'if owned by a pop in the faction,  raises the stat for all pops in factions'},\n",
       " {'effort': 'time in `universal time units` that the action will take to complete'},\n",
       " {'requires_attr': 'required attributes of the agent. Determines if the agent can do the action.'}]"
      ]
     },
     "execution_count": 10,
     "metadata": {},
     "output_type": "execute_result"
    }
   ],
   "source": [
    "buildings = yaml.safe_load(\n",
    "    open(os.path.join(os.getenv(\"abspath\"), \"app\", \"configurations\", \"buildings.yaml\"))\n",
    ")\n",
    "buildings[\"explanation\"]"
   ]
  },
  {
   "cell_type": "code",
   "execution_count": 21,
   "metadata": {},
   "outputs": [
    {
     "data": {
      "text/plain": [
       "{'name': 'farmland',\n",
       " 'description': 'Generates organic foodstuffs, populations will consume food before consuming natural resources',\n",
       " 'planet_requirements': {'isHabitable': 'true'},\n",
       " 'augments_resource': {'vegitable_foodstuff': 10},\n",
       " 'changes': {'wealth': -0.01},\n",
       " 'owned_by': 'pop',\n",
       " 'effort': 1,\n",
       " 'objid': '9316167500187',\n",
       " 'label': 'building'}"
      ]
     },
     "execution_count": 21,
     "metadata": {},
     "output_type": "execute_result"
    }
   ],
   "source": [
    "farm = buildings[\"buildings\"][0]\n",
    "farm[\"objid\"] = maths.uuid()\n",
    "farm[\"label\"] = \"building\"\n",
    "farm"
   ]
  },
  {
   "attachments": {},
   "cell_type": "markdown",
   "metadata": {},
   "source": [
    "## Adding a building to a pop, for testing. \n",
    "\n",
    "On a newly created population, adding a building to it so that I can test it. \n",
    "[refer to the ontology](../../docs/img/Exodestiny_Ontology.png)"
   ]
  },
  {
   "cell_type": "code",
   "execution_count": 24,
   "metadata": {},
   "outputs": [],
   "source": [
    "popid = \"4352219522098\"\n",
    "username = \"BillmanLocal2\""
   ]
  },
  {
   "cell_type": "code",
   "execution_count": 26,
   "metadata": {},
   "outputs": [],
   "source": [
    "edge = {\"node1\": farm[\"objid\"], \"node2\": popid, \"label\": \"owned_by\"}"
   ]
  },
  {
   "cell_type": "code",
   "execution_count": 27,
   "metadata": {},
   "outputs": [],
   "source": [
    "data = {\"nodes\": [farm], \"edges\": [edge]}"
   ]
  },
  {
   "cell_type": "code",
   "execution_count": 29,
   "metadata": {},
   "outputs": [],
   "source": [
    "c.upload_data(username, data)"
   ]
  },
  {
   "cell_type": "code",
   "execution_count": null,
   "metadata": {},
   "outputs": [],
   "source": []
  }
 ],
 "metadata": {
  "kernelspec": {
   "display_name": "exoplanets",
   "language": "python",
   "name": "python3"
  },
  "language_info": {
   "codemirror_mode": {
    "name": "ipython",
    "version": 3
   },
   "file_extension": ".py",
   "mimetype": "text/x-python",
   "name": "python",
   "nbconvert_exporter": "python",
   "pygments_lexer": "ipython3",
   "version": "3.7.0"
  },
  "orig_nbformat": 4,
  "vscode": {
   "interpreter": {
    "hash": "625a17269cb94aebb094cbcf5e0e8340f26b69d46569da60e8fc69439048adbf"
   }
  }
 },
 "nbformat": 4,
 "nbformat_minor": 2
}
