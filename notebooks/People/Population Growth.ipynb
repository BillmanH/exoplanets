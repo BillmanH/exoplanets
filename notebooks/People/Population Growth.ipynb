{
 "cells": [
  {
   "attachments": {},
   "cell_type": "markdown",
   "metadata": {},
   "source": [
    "# Managing population growth"
   ]
  },
  {
   "cell_type": "code",
   "execution_count": 1,
   "metadata": {},
   "outputs": [],
   "source": [
    "import sys\n",
    "import numpy as np\n",
    "import pandas as pd\n",
    "import altair as alt\n",
    "sys.path.append('..')\n",
    "import helpers.dbquery as db\n",
    "import helpers.functions as f\n",
    "import yaml, ssl, asyncio, pickle, os, ast\n",
    "import nb_black\n",
    "\n",
    "ssl._create_default_https_context = ssl._create_unverified_context\n",
    "asyncio.set_event_loop_policy(asyncio.WindowsSelectorEventLoopPolicy())\n",
    "import nest_asyncio\n",
    "# this is required for running in a Jupyter Notebook. \n",
    "nest_asyncio.apply()"
   ]
  },
  {
   "cell_type": "code",
   "execution_count": 2,
   "metadata": {},
   "outputs": [],
   "source": [
    "# mapping to the modules that make the app\n",
    "sys.path.insert(0, \"../../app\")\n",
    "import models\n",
    "\n",
    "c = models.CosmosdbClient()"
   ]
  },
  {
   "cell_type": "code",
   "execution_count": 3,
   "metadata": {},
   "outputs": [
    {
     "data": {
      "text/plain": [
       "{'pop_health_requirement': 0.5,\n",
       " 'pop_consumes': 2,\n",
       " 'starve_damage': 0.05,\n",
       " 'changing_values': ['conformity',\n",
       "  'literacy',\n",
       "  'aggression',\n",
       "  'constitution',\n",
       "  'wealth',\n",
       "  'factionLoyalty']}"
      ]
     },
     "execution_count": 3,
     "metadata": {},
     "output_type": "execute_result"
    }
   ],
   "source": [
    "params = yaml.safe_load(open(os.path.join(os.getenv(\"abspath\"),\"functions/popgrowth/settings.yml\")))\n",
    "syllables = pickle.load(open(os.path.join(os.getenv(\"abspath\"),\"app/creators/specs/syllables.p\"), \"rb\"))\n",
    "username = 'notebook'\n",
    "params"
   ]
  },
  {
   "cell_type": "code",
   "execution_count": 4,
   "metadata": {},
   "outputs": [],
   "source": [
    "c.run_query(\"g.V().hasLabel('time').valueMap()\")\n",
    "params['time'] = c.clean_nodes(c.res)[0]"
   ]
  },
  {
   "attachments": {},
   "cell_type": "markdown",
   "metadata": {},
   "source": [
    "For this notebook, setting the `pop_health_requirement` to an arbitrary value just to examine."
   ]
  },
  {
   "cell_type": "code",
   "execution_count": 5,
   "metadata": {},
   "outputs": [],
   "source": [
    "params['pop_health_requirement'] = 0.4"
   ]
  },
  {
   "attachments": {},
   "cell_type": "markdown",
   "metadata": {},
   "source": [
    "## Population Resource Consumption"
   ]
  },
  {
   "cell_type": "code",
   "execution_count": 17,
   "metadata": {},
   "outputs": [
    {
     "data": {
      "text/plain": [
       "963"
      ]
     },
     "execution_count": 17,
     "metadata": {},
     "output_type": "execute_result"
    }
   ],
   "source": [
    "def all_pops_consumption():\n",
    "    healthy_pops_query = f\"\"\"\n",
    "    g.V().has('label','pop').as('pop')\n",
    "        .local(\n",
    "            union(\n",
    "                out('enhabits').as('location'),\n",
    "                out('isOfSpecies').as('species')\n",
    "                )\n",
    "                .fold()).as('location','species')\n",
    "            .path()\n",
    "            .by(unfold().valueMap().fold())\n",
    "    \"\"\"\n",
    "    c.run_query(healthy_pops_query)\n",
    "    data = c.reduce_res(c.res)\n",
    "    pops_df = pd.DataFrame([d['pop'] for d in data])\n",
    "    species_df = pd.DataFrame([d['species'] for d in data])\n",
    "    locations_df = pd.DataFrame([d['location'] for d in data])\n",
    "    return(pops_df,species_df,locations_df)\n",
    "\n",
    "pops_df,species_df,locations_df = all_pops_consumption()\n",
    "len(pops_df)"
   ]
  },
  {
   "attachments": {},
   "cell_type": "markdown",
   "metadata": {},
   "source": [
    "First getting the list of consumption for each pop.\n"
   ]
  },
  {
   "cell_type": "code",
   "execution_count": 18,
   "metadata": {},
   "outputs": [
    {
     "data": {
      "text/html": [
       "<div>\n",
       "<style scoped>\n",
       "    .dataframe tbody tr th:only-of-type {\n",
       "        vertical-align: middle;\n",
       "    }\n",
       "\n",
       "    .dataframe tbody tr th {\n",
       "        vertical-align: top;\n",
       "    }\n",
       "\n",
       "    .dataframe thead th {\n",
       "        text-align: right;\n",
       "    }\n",
       "</style>\n",
       "<table border=\"1\" class=\"dataframe\">\n",
       "  <thead>\n",
       "    <tr style=\"text-align: right;\">\n",
       "      <th></th>\n",
       "      <th>location_id</th>\n",
       "      <th>consumes</th>\n",
       "      <th>pop</th>\n",
       "      <th>consumption</th>\n",
       "    </tr>\n",
       "  </thead>\n",
       "  <tbody>\n",
       "    <tr>\n",
       "      <th>0</th>\n",
       "      <td>1292149667163</td>\n",
       "      <td>organic</td>\n",
       "      <td>487</td>\n",
       "      <td>974</td>\n",
       "    </tr>\n",
       "    <tr>\n",
       "      <th>1</th>\n",
       "      <td>3946242614842</td>\n",
       "      <td>[Organic]</td>\n",
       "      <td>9</td>\n",
       "      <td>18</td>\n",
       "    </tr>\n",
       "    <tr>\n",
       "      <th>2</th>\n",
       "      <td>3968932397412</td>\n",
       "      <td>[Organic]</td>\n",
       "      <td>2</td>\n",
       "      <td>4</td>\n",
       "    </tr>\n",
       "    <tr>\n",
       "      <th>3</th>\n",
       "      <td>4387533502081</td>\n",
       "      <td>organic</td>\n",
       "      <td>465</td>\n",
       "      <td>930</td>\n",
       "    </tr>\n",
       "  </tbody>\n",
       "</table>\n",
       "</div>"
      ],
      "text/plain": [
       "     location_id   consumes  pop  consumption\n",
       "0  1292149667163    organic  487          974\n",
       "1  3946242614842  [Organic]    9           18\n",
       "2  3968932397412  [Organic]    2            4\n",
       "3  4387533502081    organic  465          930"
      ]
     },
     "execution_count": 18,
     "metadata": {},
     "output_type": "execute_result"
    }
   ],
   "source": [
    "consumption_df = pd.DataFrame(pd.concat([\n",
    "        locations_df,species_df.drop('objid',axis=1)\n",
    "    ],axis=1).groupby([\n",
    "        'objid',\n",
    "        'consumes'\n",
    "        ]).count().iloc[:,1]).reset_index()\n",
    "\n",
    "consumption_df.columns = ['location_id','consumes','pop']\n",
    "consumption_df['consumption'] = consumption_df['pop'] * params['pop_consumes']\n",
    "consumption_df"
   ]
  },
  {
   "cell_type": "code",
   "execution_count": 19,
   "metadata": {},
   "outputs": [
    {
     "name": "stderr",
     "output_type": "stream",
     "text": [
      "c:\\Users\\william.harding\\anaconda3\\envs\\exoplanets\\lib\\site-packages\\pandas\\core\\series.py:1056: SettingWithCopyWarning: \n",
      "A value is trying to be set on a copy of a slice from a DataFrame\n",
      "\n",
      "See the caveats in the documentation: https://pandas.pydata.org/pandas-docs/stable/user_guide/indexing.html#returning-a-view-versus-a-copy\n",
      "  cacher_needs_updating = self._check_is_chained_assignment_possible()\n"
     ]
    },
    {
     "data": {
      "text/html": [
       "<div>\n",
       "<style scoped>\n",
       "    .dataframe tbody tr th:only-of-type {\n",
       "        vertical-align: middle;\n",
       "    }\n",
       "\n",
       "    .dataframe tbody tr th {\n",
       "        vertical-align: top;\n",
       "    }\n",
       "\n",
       "    .dataframe thead th {\n",
       "        text-align: right;\n",
       "    }\n",
       "</style>\n",
       "<table border=\"1\" class=\"dataframe\">\n",
       "  <thead>\n",
       "    <tr style=\"text-align: right;\">\n",
       "      <th></th>\n",
       "      <th>location_id</th>\n",
       "      <th>consumes</th>\n",
       "      <th>pop</th>\n",
       "      <th>consumption</th>\n",
       "      <th>multi</th>\n",
       "    </tr>\n",
       "  </thead>\n",
       "  <tbody>\n",
       "    <tr>\n",
       "      <th>0</th>\n",
       "      <td>1292149667163</td>\n",
       "      <td>organic</td>\n",
       "      <td>487</td>\n",
       "      <td>974</td>\n",
       "      <td>False</td>\n",
       "    </tr>\n",
       "    <tr>\n",
       "      <th>1</th>\n",
       "      <td>4387533502081</td>\n",
       "      <td>organic</td>\n",
       "      <td>465</td>\n",
       "      <td>930</td>\n",
       "      <td>False</td>\n",
       "    </tr>\n",
       "    <tr>\n",
       "      <th>2</th>\n",
       "      <td>3946242614842</td>\n",
       "      <td>Organic</td>\n",
       "      <td>9</td>\n",
       "      <td>18</td>\n",
       "      <td>True</td>\n",
       "    </tr>\n",
       "    <tr>\n",
       "      <th>3</th>\n",
       "      <td>3968932397412</td>\n",
       "      <td>Organic</td>\n",
       "      <td>2</td>\n",
       "      <td>4</td>\n",
       "      <td>True</td>\n",
       "    </tr>\n",
       "  </tbody>\n",
       "</table>\n",
       "</div>"
      ],
      "text/plain": [
       "     location_id consumes  pop consumption  multi\n",
       "0  1292149667163  organic  487         974  False\n",
       "1  4387533502081  organic  465         930  False\n",
       "2  3946242614842  Organic    9          18   True\n",
       "3  3968932397412  Organic    2           4   True"
      ]
     },
     "execution_count": 19,
     "metadata": {},
     "output_type": "execute_result"
    }
   ],
   "source": [
    "def expand_consumption_df(consumption_df):\n",
    "    consumption_df['multi'] = consumption_df['consumes'].apply(lambda x: '[' in x )\n",
    "\n",
    "    multi_consumption = pd.DataFrame(columns=consumption_df.columns)\n",
    "\n",
    "    for i in consumption_df[consumption_df['multi']].index:\n",
    "        l = yaml.safe_load(consumption_df.loc[i,'consumes'])\n",
    "        for j in l:\n",
    "            ser = consumption_df.loc[i]\n",
    "            ser.consumes = j\n",
    "            multi_consumption.loc[i] = ser\n",
    "    consumption_df = consumption_df[consumption_df['multi']==False]\n",
    "    consumption_df = pd.concat([consumption_df,multi_consumption]).reset_index(drop=True)\n",
    "    return consumption_df\n",
    "\n",
    "consumption_df = expand_consumption_df(consumption_df)\n",
    "consumption_df"
   ]
  },
  {
   "cell_type": "code",
   "execution_count": 20,
   "metadata": {},
   "outputs": [
    {
     "data": {
      "text/plain": [
       "'A total of 963 pops will consume 1926 resources'"
      ]
     },
     "execution_count": 20,
     "metadata": {},
     "output_type": "execute_result"
    }
   ],
   "source": [
    "f\"A total of {consumption_df['pop'].sum()} pops will consume {consumption_df['consumption'].sum()} resources\""
   ]
  },
  {
   "cell_type": "code",
   "execution_count": 21,
   "metadata": {},
   "outputs": [
    {
     "data": {
      "text/plain": [
       "\"'organic','Organic'\""
      ]
     },
     "execution_count": 21,
     "metadata": {},
     "output_type": "execute_result"
    }
   ],
   "source": [
    "def get_unique_consumption_values(x):\n",
    "    y = [f\"'{i.strip('][')}'\" for i in x]\n",
    "    y = \",\".join(y)\n",
    "    return y\n",
    "\n",
    "get_unique_consumption_values(consumption_df['consumes'].drop_duplicates().tolist())"
   ]
  },
  {
   "attachments": {},
   "cell_type": "markdown",
   "metadata": {},
   "source": [
    "First we are going to run a query of all of the resources that a population consumes. "
   ]
  },
  {
   "cell_type": "code",
   "execution_count": 22,
   "metadata": {},
   "outputs": [
    {
     "data": {
      "text/plain": [
       "\"g.V().has('objid',within('1292149667163','4387533502081','3946242614842','3968932397412')).as('location').out('hasResource').has('name',within('organic','Organic')).as('resource').path().by(valueMap('objid','name')).by(valueMap('volume','objid','name'))\""
      ]
     },
     "execution_count": 22,
     "metadata": {},
     "output_type": "execute_result"
    }
   ],
   "source": [
    "def make_resource_query(consumption_df):\n",
    "    withinstring = \"','\".join(consumption_df['location_id'].drop_duplicates().tolist())\n",
    "    consumesstring = get_unique_consumption_values(consumption_df['consumes'].drop_duplicates().tolist())\n",
    "    query = f\"g.V().has('objid',within('{withinstring}')).as('location')\"\n",
    "    query += f\".out('hasResource').has('name',within({consumesstring})).as('resource').path().by(valueMap('objid','name')).by(valueMap('volume','objid','name'))\"\n",
    "    return query\n",
    "        \n",
    "\n",
    "    \n",
    "resource_query =  make_resource_query(consumption_df)\n",
    "resource_query"
   ]
  },
  {
   "cell_type": "code",
   "execution_count": 23,
   "metadata": {},
   "outputs": [
    {
     "data": {
      "text/plain": [
       "[{'labels': [['location'], ['resource']],\n",
       "  'objects': [{'objid': ['3946242614842'], 'name': ['Melau']},\n",
       "   {'volume': [1016], 'objid': ['9647025540080'], 'name': ['Organic']}]},\n",
       " {'labels': [['location'], ['resource']],\n",
       "  'objects': [{'objid': ['3968932397412'], 'name': ['Krahumorturkai']},\n",
       "   {'volume': [1000], 'objid': ['1687431430018'], 'name': ['Organic']}]}]"
      ]
     },
     "execution_count": 23,
     "metadata": {},
     "output_type": "execute_result"
    }
   ],
   "source": [
    "c.run_query(resource_query)\n",
    "resources = c.res\n",
    "resources"
   ]
  },
  {
   "cell_type": "code",
   "execution_count": 24,
   "metadata": {},
   "outputs": [
    {
     "data": {
      "text/html": [
       "<div>\n",
       "<style scoped>\n",
       "    .dataframe tbody tr th:only-of-type {\n",
       "        vertical-align: middle;\n",
       "    }\n",
       "\n",
       "    .dataframe tbody tr th {\n",
       "        vertical-align: top;\n",
       "    }\n",
       "\n",
       "    .dataframe thead th {\n",
       "        text-align: right;\n",
       "    }\n",
       "</style>\n",
       "<table border=\"1\" class=\"dataframe\">\n",
       "  <thead>\n",
       "    <tr style=\"text-align: right;\">\n",
       "      <th></th>\n",
       "      <th>location_id</th>\n",
       "      <th>consumes</th>\n",
       "      <th>pop</th>\n",
       "      <th>consumption</th>\n",
       "      <th>multi</th>\n",
       "      <th>available</th>\n",
       "      <th>remaining</th>\n",
       "    </tr>\n",
       "  </thead>\n",
       "  <tbody>\n",
       "    <tr>\n",
       "      <th>0</th>\n",
       "      <td>1292149667163</td>\n",
       "      <td>organic</td>\n",
       "      <td>487</td>\n",
       "      <td>974</td>\n",
       "      <td>False</td>\n",
       "      <td>NaN</td>\n",
       "      <td>-1.0</td>\n",
       "    </tr>\n",
       "    <tr>\n",
       "      <th>1</th>\n",
       "      <td>4387533502081</td>\n",
       "      <td>organic</td>\n",
       "      <td>465</td>\n",
       "      <td>930</td>\n",
       "      <td>False</td>\n",
       "      <td>NaN</td>\n",
       "      <td>-1.0</td>\n",
       "    </tr>\n",
       "    <tr>\n",
       "      <th>2</th>\n",
       "      <td>3946242614842</td>\n",
       "      <td>Organic</td>\n",
       "      <td>9</td>\n",
       "      <td>18</td>\n",
       "      <td>True</td>\n",
       "      <td>1016.0</td>\n",
       "      <td>998.0</td>\n",
       "    </tr>\n",
       "    <tr>\n",
       "      <th>3</th>\n",
       "      <td>3968932397412</td>\n",
       "      <td>Organic</td>\n",
       "      <td>2</td>\n",
       "      <td>4</td>\n",
       "      <td>True</td>\n",
       "      <td>1000.0</td>\n",
       "      <td>996.0</td>\n",
       "    </tr>\n",
       "  </tbody>\n",
       "</table>\n",
       "</div>"
      ],
      "text/plain": [
       "     location_id consumes  pop consumption  multi  available  remaining\n",
       "0  1292149667163  organic  487         974  False        NaN       -1.0\n",
       "1  4387533502081  organic  465         930  False        NaN       -1.0\n",
       "2  3946242614842  Organic    9          18   True     1016.0      998.0\n",
       "3  3968932397412  Organic    2           4   True     1000.0      996.0"
      ]
     },
     "execution_count": 24,
     "metadata": {},
     "output_type": "execute_result"
    }
   ],
   "source": [
    "def tally_consumption(consumption_df,resources):\n",
    "    for r in resources:\n",
    "        resource = c.clean_node(r['objects'][1])\n",
    "        location = c.clean_node(r['objects'][0])\n",
    "        consumption_df.loc[consumption_df['location_id']==location['objid'],'available'] = resource['volume']\n",
    "        consumption_df['remaining'] = consumption_df['available']-consumption_df['consumption']\n",
    "        consumption_df['remaining'] = consumption_df['remaining'].fillna(-1)\n",
    "    return consumption_df\n",
    "\n",
    "consumption_df = tally_consumption(consumption_df,resources)\n",
    "consumption_df"
   ]
  },
  {
   "attachments": {},
   "cell_type": "markdown",
   "metadata": {},
   "source": [
    "Ok, now for each location we are going to tick down the resources by that amount. \n"
   ]
  },
  {
   "cell_type": "code",
   "execution_count": 25,
   "metadata": {},
   "outputs": [
    {
     "name": "stdout",
     "output_type": "stream",
     "text": [
      "g.V().has('objid','3946242614842').out('hasResource').has('name','Organic').property('volume',998)\n",
      "g.V().has('objid','3968932397412').out('hasResource').has('name','Organic').property('volume',996)\n"
     ]
    },
    {
     "data": {
      "text/plain": [
       "2    None\n",
       "3    None\n",
       "dtype: object"
      ]
     },
     "execution_count": 25,
     "metadata": {},
     "output_type": "execute_result"
    }
   ],
   "source": [
    "def make_resource_update_query(c,x):\n",
    "    query = f\"g.V().has('objid','{x.location_id}').out('hasResource').has('name','{x.consumes}').property('volume',{int(x.remaining)})\"\n",
    "    print(query)\n",
    "    # c.run_query(query)\n",
    "\n",
    "\n",
    "\n",
    "\n",
    "consumption_df[consumption_df['remaining']>0].apply(lambda x: make_resource_update_query(c,x),axis=1)\n",
    "\n"
   ]
  },
  {
   "attachments": {},
   "cell_type": "markdown",
   "metadata": {},
   "source": [
    "Now populations who don't have that value will. They will lose health."
   ]
  },
  {
   "cell_type": "code",
   "execution_count": 26,
   "metadata": {},
   "outputs": [
    {
     "data": {
      "text/html": [
       "<div>\n",
       "<style scoped>\n",
       "    .dataframe tbody tr th:only-of-type {\n",
       "        vertical-align: middle;\n",
       "    }\n",
       "\n",
       "    .dataframe tbody tr th {\n",
       "        vertical-align: top;\n",
       "    }\n",
       "\n",
       "    .dataframe thead th {\n",
       "        text-align: right;\n",
       "    }\n",
       "</style>\n",
       "<table border=\"1\" class=\"dataframe\">\n",
       "  <thead>\n",
       "    <tr style=\"text-align: right;\">\n",
       "      <th></th>\n",
       "      <th>location_id</th>\n",
       "      <th>consumes</th>\n",
       "      <th>pop</th>\n",
       "      <th>consumption</th>\n",
       "      <th>multi</th>\n",
       "      <th>available</th>\n",
       "      <th>remaining</th>\n",
       "    </tr>\n",
       "  </thead>\n",
       "  <tbody>\n",
       "    <tr>\n",
       "      <th>0</th>\n",
       "      <td>1292149667163</td>\n",
       "      <td>organic</td>\n",
       "      <td>487</td>\n",
       "      <td>974</td>\n",
       "      <td>False</td>\n",
       "      <td>NaN</td>\n",
       "      <td>-1.0</td>\n",
       "    </tr>\n",
       "    <tr>\n",
       "      <th>1</th>\n",
       "      <td>4387533502081</td>\n",
       "      <td>organic</td>\n",
       "      <td>465</td>\n",
       "      <td>930</td>\n",
       "      <td>False</td>\n",
       "      <td>NaN</td>\n",
       "      <td>-1.0</td>\n",
       "    </tr>\n",
       "  </tbody>\n",
       "</table>\n",
       "</div>"
      ],
      "text/plain": [
       "     location_id consumes  pop consumption  multi  available  remaining\n",
       "0  1292149667163  organic  487         974  False        NaN       -1.0\n",
       "1  4387533502081  organic  465         930  False        NaN       -1.0"
      ]
     },
     "execution_count": 26,
     "metadata": {},
     "output_type": "execute_result"
    }
   ],
   "source": [
    "consumption_df[consumption_df['remaining']<=0]"
   ]
  },
  {
   "attachments": {},
   "cell_type": "markdown",
   "metadata": {},
   "source": [
    "### Population death by starvation\n",
    "Populations with < 0 health die of starvation. \n",
    "\n"
   ]
  },
  {
   "cell_type": "code",
   "execution_count": 39,
   "metadata": {},
   "outputs": [
    {
     "name": "stdout",
     "output_type": "stream",
     "text": [
      "277 pops will starve in 1292149667163\n",
      "cache threshold of n pops reached. Purging 31\n",
      ".cache threshold of n pops reached. Purging 31\n",
      ".cache threshold of n pops reached. Purging 31\n",
      ".cache threshold of n pops reached. Purging 31\n",
      ".cache threshold of n pops reached. Purging 31\n",
      ".cache threshold of n pops reached. Purging 31\n",
      ".cache threshold of n pops reached. Purging 31\n",
      ".cache threshold of n pops reached. Purging 31\n",
      ".Remaining pops purged due to starvation: 22\n",
      "28 items in query stack\n",
      "465 pops will starve in 4387533502081\n",
      "cache threshold of n pops reached. Purging 31\n",
      ".cache threshold of n pops reached. Purging 31\n",
      ".cache threshold of n pops reached. Purging 31\n",
      ".cache threshold of n pops reached. Purging 31\n",
      ".cache threshold of n pops reached. Purging 31\n",
      ".cache threshold of n pops reached. Purging 31\n",
      ".cache threshold of n pops reached. Purging 31\n",
      ".cache threshold of n pops reached. Purging 31\n",
      ".cache threshold of n pops reached. Purging 31\n",
      ".cache threshold of n pops reached. Purging 31\n",
      ".cache threshold of n pops reached. Purging 31\n",
      ".cache threshold of n pops reached. Purging 31\n",
      ".cache threshold of n pops reached. Purging 31\n",
      ".cache threshold of n pops reached. Purging 31\n",
      ".Remaining pops purged due to starvation: 25\n",
      "6 items in query stack\n"
     ]
    },
    {
     "data": {
      "text/plain": [
       "0    None\n",
       "1    None\n",
       "dtype: object"
      ]
     },
     "execution_count": 39,
     "metadata": {},
     "output_type": "execute_result"
    }
   ],
   "source": [
    "\n",
    "def uuid(n=13):\n",
    "    return \"\".join([str(i) for i in np.random.choice(range(10), n)])\n",
    "\n",
    "\n",
    "def death_by_starvation_event(loc,pop,params):\n",
    "    node = {\n",
    "        'objid':uuid(),\n",
    "        'name':'starvation',\n",
    "        'label':'event',\n",
    "        'text': f\"The population ({pop['name'][0]}) enhabiting {loc['name'][0]} has died of starvation.\",\n",
    "        'visibleTo':pop['username'][0],\n",
    "        'time':params['time']['currentTime'],\n",
    "        'username':'azfunction'\n",
    "    }\n",
    "    return node\n",
    "\n",
    "def delete_dead_pops(c,dead_pop_ids):\n",
    "    ids = \",\".join([f\"'{i}'\"  for i in dead_pop_ids])\n",
    "    query = f\"\"\"\n",
    "    g.V().has('objid',within({ids})).drop()\n",
    "    \"\"\"\n",
    "\n",
    "    c.run_query(query)\n",
    "\n",
    "\n",
    "def lower_health(c,x,params):\n",
    "    dead_pop_nodes = []\n",
    "    dead_pop_ids = []\n",
    "    query =f\"\"\"\n",
    "    g.V().has('objid','{x.location_id}').as('location').in('enhabits')\n",
    "        .haslabel('pop').as('pop')\n",
    "        .out('isOfSpecies').as('species')\n",
    "        .path()\n",
    "            .by(valueMap('objid','name'))\n",
    "            .by(valueMap('name','objid','health','username'))\n",
    "            .by(valueMap('name','objid','consumes'))\n",
    "    \"\"\"\n",
    "    c.run_query(query)\n",
    "    out = c.res\n",
    "    print(f\"{len(out)} pops will starve in {x.location_id}\")\n",
    "    for i in out:\n",
    "        health = i['objects'][1]['health'][0]\n",
    "        objid = i['objects'][1]['objid'][0]\n",
    "        consumes = i['objects'][2]['consumes']\n",
    "        if x.consumes in consumes:\n",
    "            if health <=0:\n",
    "                dead_pop_nodes.append(death_by_starvation_event(i['objects'][0],i['objects'][1],params))\n",
    "                dead_pop_ids.append(objid)\n",
    "                if len(dead_pop_ids) > 30:\n",
    "                    print(f\"cache threshold of n pops reached. Purging {len(dead_pop_ids)}\")\n",
    "                    delete_dead_pops(c, dead_pop_ids)\n",
    "                    upload_data = {'nodes':dead_pop_nodes,'edges':[]}\n",
    "                    c.upload_data(data=upload_data,username='azfunction')\n",
    "                    dead_pop_ids = []\n",
    "                    dead_pop_nodes = []\n",
    "                    print('.',end=\"\")\n",
    "            else:\n",
    "                starve_query = f\"\"\"\n",
    "                g.V().has('objid','{objid}').property('health',{health-params['starve_damage']})\n",
    "                \"\"\"\n",
    "                c.add_query(starve_query)\n",
    "            # print(f\"pop: {i['objects'][1]['objid'][0]},{i['objects'][1]['name'][0]} has run out of food and will suffer {health}-> {params['starve_damage']} \")\n",
    "    print(f\"Remaining pops purged due to starvation: {len(dead_pop_ids)}\")\n",
    "    if len(dead_pop_ids)>0:\n",
    "        delete_dead_pops(c, dead_pop_ids)\n",
    "        upload_data = {'nodes':dead_pop_nodes,'edges':[]}\n",
    "        c.upload_data(data=upload_data,username='azfunction')\n",
    "    print(f\"{len(c.stack)} items in query stack\")\n",
    "    c.run_queries()\n",
    "\n",
    "\n",
    "consumption_df[consumption_df['remaining']<=0].apply(lambda x: lower_health(c,x,params),axis=1)"
   ]
  },
  {
   "attachments": {},
   "cell_type": "markdown",
   "metadata": {},
   "source": [
    "## Population Growth"
   ]
  },
  {
   "cell_type": "code",
   "execution_count": 16,
   "metadata": {},
   "outputs": [
    {
     "data": {
      "text/plain": [
       "4"
      ]
     },
     "execution_count": 16,
     "metadata": {},
     "output_type": "execute_result"
    }
   ],
   "source": [
    "healthy_pops_query = f\"\"\"\n",
    "g.V().has('label','pop')\n",
    "    .has('health',gt({params['pop_health_requirement']})).as('pop')\n",
    "    .local(\n",
    "        union(\n",
    "            out('enhabits').as('location'),\n",
    "            out('isOfSpecies').as('species')\n",
    "            )\n",
    "\t\t    .fold()).as('location','species')\n",
    "\t    .path()\n",
    "\t\t.by(unfold().valueMap().fold())\n",
    "\"\"\"\n",
    "c.run_query(healthy_pops_query)\n",
    "data = c.reduce_res(c.res)\n",
    "pops_df = pd.DataFrame([d['pop'] for d in data])\n",
    "species_df = pd.DataFrame([d['species'] for d in data])\n",
    "locations_df = pd.DataFrame([d['location'] for d in data])\n",
    "len(pops_df)"
   ]
  },
  {
   "cell_type": "code",
   "execution_count": 71,
   "metadata": {},
   "outputs": [
    {
     "data": {
      "text/html": [
       "<div>\n",
       "<style scoped>\n",
       "    .dataframe tbody tr th:only-of-type {\n",
       "        vertical-align: middle;\n",
       "    }\n",
       "\n",
       "    .dataframe tbody tr th {\n",
       "        vertical-align: top;\n",
       "    }\n",
       "\n",
       "    .dataframe thead th {\n",
       "        text-align: right;\n",
       "    }\n",
       "</style>\n",
       "<table border=\"1\" class=\"dataframe\">\n",
       "  <thead>\n",
       "    <tr style=\"text-align: right;\">\n",
       "      <th></th>\n",
       "      <th>name</th>\n",
       "      <th>class</th>\n",
       "      <th>objid</th>\n",
       "      <th>radius</th>\n",
       "      <th>mass</th>\n",
       "      <th>orbitsDistance</th>\n",
       "      <th>orbitsId</th>\n",
       "      <th>orbitsName</th>\n",
       "      <th>isSupportsLife</th>\n",
       "      <th>isPopulated</th>\n",
       "      <th>type</th>\n",
       "      <th>isHomeworld</th>\n",
       "      <th>username</th>\n",
       "      <th>objtype</th>\n",
       "      <th>id</th>\n",
       "    </tr>\n",
       "  </thead>\n",
       "  <tbody>\n",
       "    <tr>\n",
       "      <th>0</th>\n",
       "      <td>Melau</td>\n",
       "      <td>terrestrial</td>\n",
       "      <td>3946242614842</td>\n",
       "      <td>0.583</td>\n",
       "      <td>0</td>\n",
       "      <td>1</td>\n",
       "      <td>6745913845666</td>\n",
       "      <td>Kou</td>\n",
       "      <td>True</td>\n",
       "      <td>True</td>\n",
       "      <td>terrestrial</td>\n",
       "      <td>True</td>\n",
       "      <td>BillmanLocal2</td>\n",
       "      <td>planet</td>\n",
       "      <td>3946242614842</td>\n",
       "    </tr>\n",
       "    <tr>\n",
       "      <th>1</th>\n",
       "      <td>Melau</td>\n",
       "      <td>terrestrial</td>\n",
       "      <td>3946242614842</td>\n",
       "      <td>0.583</td>\n",
       "      <td>0</td>\n",
       "      <td>1</td>\n",
       "      <td>6745913845666</td>\n",
       "      <td>Kou</td>\n",
       "      <td>True</td>\n",
       "      <td>True</td>\n",
       "      <td>terrestrial</td>\n",
       "      <td>True</td>\n",
       "      <td>BillmanLocal2</td>\n",
       "      <td>planet</td>\n",
       "      <td>3946242614842</td>\n",
       "    </tr>\n",
       "    <tr>\n",
       "      <th>2</th>\n",
       "      <td>Krahumorturkai</td>\n",
       "      <td>terrestrial</td>\n",
       "      <td>3968932397412</td>\n",
       "      <td>0.496</td>\n",
       "      <td>0</td>\n",
       "      <td>3</td>\n",
       "      <td>6611983221340</td>\n",
       "      <td>Malburgu</td>\n",
       "      <td>True</td>\n",
       "      <td>True</td>\n",
       "      <td>terrestrial</td>\n",
       "      <td>True</td>\n",
       "      <td>Billmanserver</td>\n",
       "      <td>planet</td>\n",
       "      <td>3968932397412</td>\n",
       "    </tr>\n",
       "    <tr>\n",
       "      <th>3</th>\n",
       "      <td>Krahumorturkai</td>\n",
       "      <td>terrestrial</td>\n",
       "      <td>3968932397412</td>\n",
       "      <td>0.496</td>\n",
       "      <td>0</td>\n",
       "      <td>3</td>\n",
       "      <td>6611983221340</td>\n",
       "      <td>Malburgu</td>\n",
       "      <td>True</td>\n",
       "      <td>True</td>\n",
       "      <td>terrestrial</td>\n",
       "      <td>True</td>\n",
       "      <td>Billmanserver</td>\n",
       "      <td>planet</td>\n",
       "      <td>3968932397412</td>\n",
       "    </tr>\n",
       "  </tbody>\n",
       "</table>\n",
       "</div>"
      ],
      "text/plain": [
       "             name        class          objid  radius  mass  orbitsDistance  \\\n",
       "0           Melau  terrestrial  3946242614842   0.583     0               1   \n",
       "1           Melau  terrestrial  3946242614842   0.583     0               1   \n",
       "2  Krahumorturkai  terrestrial  3968932397412   0.496     0               3   \n",
       "3  Krahumorturkai  terrestrial  3968932397412   0.496     0               3   \n",
       "\n",
       "        orbitsId orbitsName isSupportsLife isPopulated         type  \\\n",
       "0  6745913845666        Kou           True        True  terrestrial   \n",
       "1  6745913845666        Kou           True        True  terrestrial   \n",
       "2  6611983221340   Malburgu           True        True  terrestrial   \n",
       "3  6611983221340   Malburgu           True        True  terrestrial   \n",
       "\n",
       "  isHomeworld       username objtype             id  \n",
       "0        True  BillmanLocal2  planet  3946242614842  \n",
       "1        True  BillmanLocal2  planet  3946242614842  \n",
       "2        True  Billmanserver  planet  3968932397412  \n",
       "3        True  Billmanserver  planet  3968932397412  "
      ]
     },
     "execution_count": 71,
     "metadata": {},
     "output_type": "execute_result"
    }
   ],
   "source": [
    "species_df = pd.DataFrame([d['species'] for d in data])\n",
    "locations_df = pd.DataFrame([d['location'] for d in data])\n",
    "\n",
    "locations_df.head()"
   ]
  },
  {
   "cell_type": "code",
   "execution_count": 72,
   "metadata": {},
   "outputs": [
    {
     "data": {
      "text/plain": [
       "grow\n",
       "False    2\n",
       "True     2\n",
       "Name: id, dtype: int64"
      ]
     },
     "execution_count": 72,
     "metadata": {},
     "output_type": "execute_result"
    }
   ],
   "source": [
    "pops_df['roll'] = pops_df['objid'].apply(lambda x: np.random.random())\n",
    "pops_df['grow'] = pops_df[['wealth','health']].T.mean() >= pops_df['roll']\n",
    "pops_df.groupby('grow')['id'].count()"
   ]
  },
  {
   "cell_type": "code",
   "execution_count": 73,
   "metadata": {},
   "outputs": [
    {
     "data": {
      "text/html": [
       "<div>\n",
       "<style scoped>\n",
       "    .dataframe tbody tr th:only-of-type {\n",
       "        vertical-align: middle;\n",
       "    }\n",
       "\n",
       "    .dataframe tbody tr th {\n",
       "        vertical-align: top;\n",
       "    }\n",
       "\n",
       "    .dataframe thead th {\n",
       "        text-align: right;\n",
       "    }\n",
       "</style>\n",
       "<table border=\"1\" class=\"dataframe\">\n",
       "  <thead>\n",
       "    <tr style=\"text-align: right;\">\n",
       "      <th></th>\n",
       "      <th>health</th>\n",
       "      <th>isIdle</th>\n",
       "      <th>constitution</th>\n",
       "      <th>wealth</th>\n",
       "      <th>name</th>\n",
       "      <th>objid</th>\n",
       "      <th>conformity</th>\n",
       "      <th>literacy</th>\n",
       "      <th>aggression</th>\n",
       "      <th>isInFaction</th>\n",
       "      <th>industry</th>\n",
       "      <th>factionLoyalty</th>\n",
       "      <th>username</th>\n",
       "      <th>objtype</th>\n",
       "      <th>id</th>\n",
       "    </tr>\n",
       "  </thead>\n",
       "  <tbody>\n",
       "    <tr>\n",
       "      <th>2</th>\n",
       "      <td>0.5</td>\n",
       "      <td>True</td>\n",
       "      <td>0.479</td>\n",
       "      <td>0.4052</td>\n",
       "      <td>Vertau Diaban</td>\n",
       "      <td>6898414983412</td>\n",
       "      <td>0.407</td>\n",
       "      <td>0.285</td>\n",
       "      <td>0.572</td>\n",
       "      <td>3083319850312</td>\n",
       "      <td>0.5255</td>\n",
       "      <td>0.435</td>\n",
       "      <td>Billmanserver</td>\n",
       "      <td>pop</td>\n",
       "      <td>6898414983412</td>\n",
       "    </tr>\n",
       "    <tr>\n",
       "      <th>3</th>\n",
       "      <td>0.5</td>\n",
       "      <td>True</td>\n",
       "      <td>0.496</td>\n",
       "      <td>0.4385</td>\n",
       "      <td>Gas Banggonkoy</td>\n",
       "      <td>3933641253604</td>\n",
       "      <td>0.496</td>\n",
       "      <td>0.374</td>\n",
       "      <td>0.510</td>\n",
       "      <td>0955095738351</td>\n",
       "      <td>0.5030</td>\n",
       "      <td>0.601</td>\n",
       "      <td>Billmanserver</td>\n",
       "      <td>pop</td>\n",
       "      <td>3933641253604</td>\n",
       "    </tr>\n",
       "  </tbody>\n",
       "</table>\n",
       "</div>"
      ],
      "text/plain": [
       "   health isIdle  constitution  wealth            name          objid  \\\n",
       "2     0.5   True         0.479  0.4052   Vertau Diaban  6898414983412   \n",
       "3     0.5   True         0.496  0.4385  Gas Banggonkoy  3933641253604   \n",
       "\n",
       "   conformity  literacy  aggression    isInFaction  industry  factionLoyalty  \\\n",
       "2       0.407     0.285       0.572  3083319850312    0.5255           0.435   \n",
       "3       0.496     0.374       0.510  0955095738351    0.5030           0.601   \n",
       "\n",
       "        username objtype             id  \n",
       "2  Billmanserver     pop  6898414983412  \n",
       "3  Billmanserver     pop  3933641253604  "
      ]
     },
     "execution_count": 73,
     "metadata": {},
     "output_type": "execute_result"
    }
   ],
   "source": [
    "reproducing_pops = pops_df[pops_df['grow']].drop(['roll','grow'],axis=1)\n",
    "reproducing_pops.head()"
   ]
  },
  {
   "attachments": {},
   "cell_type": "markdown",
   "metadata": {},
   "source": [
    "The AZ-functions is a different build than the full website. So, I need to separate a number of functions that I need to run in the AZ functions box."
   ]
  },
  {
   "cell_type": "code",
   "execution_count": 74,
   "metadata": {},
   "outputs": [],
   "source": [
    "def uuid(n=13):\n",
    "    return \"\".join([str(i) for i in np.random.choice(range(10), n)])\n",
    "\n",
    "def make_word(n):\n",
    "    syl = np.random.choice(syllables, n)\n",
    "    word = \"\".join(syl)\n",
    "    return word.capitalize()\n"
   ]
  },
  {
   "cell_type": "code",
   "execution_count": 75,
   "metadata": {},
   "outputs": [],
   "source": [
    "def grow_pop(p,species):\n",
    "    child = p.copy()\n",
    "    child['name'] = child['name']+make_word(1).lower()\n",
    "    id = uuid()\n",
    "    child['objid'] = id\n",
    "    child['id'] = id\n",
    "    child['isIdle'] = 'false'\n",
    "    child['health'] = np.round(child['health']*.6,3)\n",
    "    child['wealth'] = np.round(child['wealth']*.6,3)\n",
    "    child['industry'] = np.round(child['industry']*.6,3)\n",
    "    for v in params['changing_values']:\n",
    "        child[v] = np.round(child[v] + np.random.uniform(low=-.1, high=.1),3)\n",
    "    return child\n",
    "\n",
    "\n"
   ]
  },
  {
   "cell_type": "code",
   "execution_count": 76,
   "metadata": {},
   "outputs": [
    {
     "data": {
      "text/plain": [
       "{'health': 0.5,\n",
       " 'isIdle': 'true',\n",
       " 'constitution': 0.5630000000000001,\n",
       " 'wealth': 0.4215,\n",
       " 'name': 'Li May',\n",
       " 'objid': '2817435473334',\n",
       " 'conformity': 0.724,\n",
       " 'literacy': 0.378,\n",
       " 'aggression': 0.617,\n",
       " 'isInFaction': '1259895932901',\n",
       " 'industry': 0.565,\n",
       " 'factionLoyalty': 0.685,\n",
       " 'username': 'BillmanLocal2',\n",
       " 'objtype': 'pop',\n",
       " 'id': '2817435473334'}"
      ]
     },
     "execution_count": 76,
     "metadata": {},
     "output_type": "execute_result"
    }
   ],
   "source": [
    "data[0]['pop']"
   ]
  },
  {
   "cell_type": "code",
   "execution_count": 77,
   "metadata": {},
   "outputs": [
    {
     "data": {
      "text/plain": [
       "{'health': 0.3,\n",
       " 'isIdle': 'False',\n",
       " 'constitution': 0.514,\n",
       " 'wealth': 0.264,\n",
       " 'name': 'Li Maycas',\n",
       " 'objid': '9756058117640',\n",
       " 'conformity': 0.658,\n",
       " 'literacy': 0.398,\n",
       " 'aggression': 0.55,\n",
       " 'isInFaction': '1259895932901',\n",
       " 'industry': 0.339,\n",
       " 'factionLoyalty': 0.678,\n",
       " 'username': 'BillmanLocal2',\n",
       " 'objtype': 'pop',\n",
       " 'id': '9756058117640'}"
      ]
     },
     "execution_count": 77,
     "metadata": {},
     "output_type": "execute_result"
    }
   ],
   "source": [
    "grow_pop(data[0]['pop'],data[0]['species'])"
   ]
  },
  {
   "attachments": {},
   "cell_type": "markdown",
   "metadata": {},
   "source": [
    "Getting the nodes and edges for that population:"
   ]
  },
  {
   "cell_type": "code",
   "execution_count": 78,
   "metadata": {},
   "outputs": [],
   "source": [
    "nodes = []\n",
    "edges = []\n",
    "\n",
    "for i in reproducing_pops.index.to_list():\n",
    "    p = reproducing_pops.loc[i].to_dict()\n",
    "    species = species_df.loc[i].to_dict()\n",
    "    location = locations_df.loc[i].to_dict()\n",
    "    child = grow_pop(p,species)\n",
    "    nodes.append(child)\n",
    "    edges.append({\"node1\": child[\"objid\"], \"node2\": p[\"objid\"], \"label\": \"childOf\"})\n",
    "    edges.append({\"node1\": child[\"objid\"], \"node2\": child[\"isInFaction\"], \"label\": \"isInFaction\"})\n",
    "    edges.append({\"node1\": child[\"objid\"], \"node2\": species[\"objid\"], \"label\": \"isOfSpecies\"})\n",
    "    edges.append({\"node1\": child[\"objid\"], \"node2\": location[\"objid\"], \"label\": \"enhabits\"})\n",
    "    "
   ]
  },
  {
   "cell_type": "code",
   "execution_count": 79,
   "metadata": {},
   "outputs": [
    {
     "data": {
      "text/html": [
       "<div>\n",
       "<style scoped>\n",
       "    .dataframe tbody tr th:only-of-type {\n",
       "        vertical-align: middle;\n",
       "    }\n",
       "\n",
       "    .dataframe tbody tr th {\n",
       "        vertical-align: top;\n",
       "    }\n",
       "\n",
       "    .dataframe thead th {\n",
       "        text-align: right;\n",
       "    }\n",
       "</style>\n",
       "<table border=\"1\" class=\"dataframe\">\n",
       "  <thead>\n",
       "    <tr style=\"text-align: right;\">\n",
       "      <th></th>\n",
       "      <th>health</th>\n",
       "      <th>isIdle</th>\n",
       "      <th>constitution</th>\n",
       "      <th>wealth</th>\n",
       "      <th>name</th>\n",
       "      <th>objid</th>\n",
       "      <th>conformity</th>\n",
       "      <th>literacy</th>\n",
       "      <th>aggression</th>\n",
       "      <th>isInFaction</th>\n",
       "      <th>industry</th>\n",
       "      <th>factionLoyalty</th>\n",
       "      <th>username</th>\n",
       "      <th>objtype</th>\n",
       "      <th>id</th>\n",
       "    </tr>\n",
       "  </thead>\n",
       "  <tbody>\n",
       "    <tr>\n",
       "      <th>0</th>\n",
       "      <td>0.3</td>\n",
       "      <td>False</td>\n",
       "      <td>0.478</td>\n",
       "      <td>0.278</td>\n",
       "      <td>Vertau Diabansant</td>\n",
       "      <td>0973432943921</td>\n",
       "      <td>0.433</td>\n",
       "      <td>0.257</td>\n",
       "      <td>0.552</td>\n",
       "      <td>3083319850312</td>\n",
       "      <td>0.315</td>\n",
       "      <td>0.371</td>\n",
       "      <td>Billmanserver</td>\n",
       "      <td>pop</td>\n",
       "      <td>0973432943921</td>\n",
       "    </tr>\n",
       "    <tr>\n",
       "      <th>1</th>\n",
       "      <td>0.3</td>\n",
       "      <td>False</td>\n",
       "      <td>0.446</td>\n",
       "      <td>0.338</td>\n",
       "      <td>Gas Banggonkoyvi</td>\n",
       "      <td>2119305677519</td>\n",
       "      <td>0.440</td>\n",
       "      <td>0.392</td>\n",
       "      <td>0.478</td>\n",
       "      <td>0955095738351</td>\n",
       "      <td>0.302</td>\n",
       "      <td>0.528</td>\n",
       "      <td>Billmanserver</td>\n",
       "      <td>pop</td>\n",
       "      <td>2119305677519</td>\n",
       "    </tr>\n",
       "  </tbody>\n",
       "</table>\n",
       "</div>"
      ],
      "text/plain": [
       "   health isIdle  constitution  wealth               name          objid  \\\n",
       "0     0.3  False         0.478   0.278  Vertau Diabansant  0973432943921   \n",
       "1     0.3  False         0.446   0.338   Gas Banggonkoyvi  2119305677519   \n",
       "\n",
       "   conformity  literacy  aggression    isInFaction  industry  factionLoyalty  \\\n",
       "0       0.433     0.257       0.552  3083319850312     0.315           0.371   \n",
       "1       0.440     0.392       0.478  0955095738351     0.302           0.528   \n",
       "\n",
       "        username objtype             id  \n",
       "0  Billmanserver     pop  0973432943921  \n",
       "1  Billmanserver     pop  2119305677519  "
      ]
     },
     "execution_count": 79,
     "metadata": {},
     "output_type": "execute_result"
    }
   ],
   "source": [
    "pd.DataFrame(nodes)"
   ]
  },
  {
   "cell_type": "code",
   "execution_count": 80,
   "metadata": {},
   "outputs": [
    {
     "data": {
      "text/html": [
       "<div>\n",
       "<style scoped>\n",
       "    .dataframe tbody tr th:only-of-type {\n",
       "        vertical-align: middle;\n",
       "    }\n",
       "\n",
       "    .dataframe tbody tr th {\n",
       "        vertical-align: top;\n",
       "    }\n",
       "\n",
       "    .dataframe thead th {\n",
       "        text-align: right;\n",
       "    }\n",
       "</style>\n",
       "<table border=\"1\" class=\"dataframe\">\n",
       "  <thead>\n",
       "    <tr style=\"text-align: right;\">\n",
       "      <th></th>\n",
       "      <th>node1</th>\n",
       "      <th>node2</th>\n",
       "      <th>label</th>\n",
       "    </tr>\n",
       "  </thead>\n",
       "  <tbody>\n",
       "    <tr>\n",
       "      <th>0</th>\n",
       "      <td>0973432943921</td>\n",
       "      <td>6898414983412</td>\n",
       "      <td>childOf</td>\n",
       "    </tr>\n",
       "    <tr>\n",
       "      <th>1</th>\n",
       "      <td>0973432943921</td>\n",
       "      <td>3083319850312</td>\n",
       "      <td>isInFaction</td>\n",
       "    </tr>\n",
       "    <tr>\n",
       "      <th>2</th>\n",
       "      <td>0973432943921</td>\n",
       "      <td>2306419901183</td>\n",
       "      <td>isOfSpecies</td>\n",
       "    </tr>\n",
       "    <tr>\n",
       "      <th>3</th>\n",
       "      <td>0973432943921</td>\n",
       "      <td>3968932397412</td>\n",
       "      <td>enhabits</td>\n",
       "    </tr>\n",
       "    <tr>\n",
       "      <th>4</th>\n",
       "      <td>2119305677519</td>\n",
       "      <td>3933641253604</td>\n",
       "      <td>childOf</td>\n",
       "    </tr>\n",
       "    <tr>\n",
       "      <th>5</th>\n",
       "      <td>2119305677519</td>\n",
       "      <td>0955095738351</td>\n",
       "      <td>isInFaction</td>\n",
       "    </tr>\n",
       "    <tr>\n",
       "      <th>6</th>\n",
       "      <td>2119305677519</td>\n",
       "      <td>2306419901183</td>\n",
       "      <td>isOfSpecies</td>\n",
       "    </tr>\n",
       "    <tr>\n",
       "      <th>7</th>\n",
       "      <td>2119305677519</td>\n",
       "      <td>3968932397412</td>\n",
       "      <td>enhabits</td>\n",
       "    </tr>\n",
       "  </tbody>\n",
       "</table>\n",
       "</div>"
      ],
      "text/plain": [
       "           node1          node2        label\n",
       "0  0973432943921  6898414983412      childOf\n",
       "1  0973432943921  3083319850312  isInFaction\n",
       "2  0973432943921  2306419901183  isOfSpecies\n",
       "3  0973432943921  3968932397412     enhabits\n",
       "4  2119305677519  3933641253604      childOf\n",
       "5  2119305677519  0955095738351  isInFaction\n",
       "6  2119305677519  2306419901183  isOfSpecies\n",
       "7  2119305677519  3968932397412     enhabits"
      ]
     },
     "execution_count": 80,
     "metadata": {},
     "output_type": "execute_result"
    }
   ],
   "source": [
    "pd.DataFrame(edges)"
   ]
  },
  {
   "cell_type": "code",
   "execution_count": null,
   "metadata": {},
   "outputs": [],
   "source": []
  }
 ],
 "metadata": {
  "kernelspec": {
   "display_name": "exoplanets",
   "language": "python",
   "name": "python3"
  },
  "language_info": {
   "codemirror_mode": {
    "name": "ipython",
    "version": 3
   },
   "file_extension": ".py",
   "mimetype": "text/x-python",
   "name": "python",
   "nbconvert_exporter": "python",
   "pygments_lexer": "ipython3",
   "version": "3.7.0"
  },
  "orig_nbformat": 4,
  "vscode": {
   "interpreter": {
    "hash": "625a17269cb94aebb094cbcf5e0e8340f26b69d46569da60e8fc69439048adbf"
   }
  }
 },
 "nbformat": 4,
 "nbformat_minor": 2
}
