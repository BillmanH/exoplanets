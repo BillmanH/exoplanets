{
 "cells": [
  {
   "attachments": {},
   "cell_type": "markdown",
   "metadata": {},
   "source": [
    "## Population growth\n",
    "* Populations that die are deleted, so they don't grow.\n",
    "* However all pops that can grow will, regardless of wheter they are starving or not. \n",
    "* Starving will lower thier health, which will eventually make them unable to grow. \n",
    "\n",
    "Sarving and Death is taken care of elsewhere, so this notebook won't have that filter. \n"
   ]
  },
  {
   "cell_type": "code",
   "execution_count": 1,
   "metadata": {},
   "outputs": [
    {
     "name": "stdout",
     "output_type": "stream",
     "text": [
      "executing local windows deployment\n"
     ]
    }
   ],
   "source": [
    "import sys\n",
    "import numpy as np\n",
    "import pandas as pd\n",
    "\n",
    "# mapping to the modules that make the app\n",
    "sys.path.insert(0, \"../..\")\n",
    "\n",
    "\n",
    "\n",
    "import yaml, ssl, asyncio, pickle, os, ast\n",
    "\n",
    "ssl._create_default_https_context = ssl._create_unverified_context\n",
    "asyncio.set_event_loop_policy(asyncio.WindowsSelectorEventLoopPolicy())\n",
    "\n",
    "import nest_asyncio\n",
    "# this is required for running in a Jupyter Notebook. \n",
    "nest_asyncio.apply()\n",
    "\n",
    "#importing the libraries from the app\n",
    "from app.connectors import cmdb_graph\n",
    "from app.objects import time\n",
    "from app.objects import population, species\n",
    "from app.functions import language, maths\n",
    "\n",
    "c = cmdb_graph.CosmosdbClient()\n"
   ]
  },
  {
   "cell_type": "markdown",
   "metadata": {},
   "source": [
    "Much of the Population growth is handled in scripts inside the Azure Function"
   ]
  },
  {
   "cell_type": "code",
   "execution_count": 2,
   "metadata": {},
   "outputs": [],
   "source": [
    "params = yaml.safe_load(open(os.path.join(os.getenv(\"abspath\"),\"app/configurations/popgrowthconfig.yaml\")))\n",
    "syllables = pickle.load(open(os.path.join(os.getenv(\"abspath\"),\"app/creators/specs/syllables.p\"), \"rb\"))\n",
    "username = 'notebook'"
   ]
  },
  {
   "attachments": {},
   "cell_type": "markdown",
   "metadata": {},
   "source": [
    "Time is updated by the `time` function. It is always running."
   ]
  },
  {
   "cell_type": "code",
   "execution_count": 3,
   "metadata": {},
   "outputs": [
    {
     "data": {
      "text/plain": [
       "< time at: 2024-05-23T15:46:02.228975+00:00 UTU:15985 >"
      ]
     },
     "execution_count": 3,
     "metadata": {},
     "output_type": "execute_result"
    }
   ],
   "source": [
    "t = time.Time(c)\n",
    "t.get_current_UTU()\n",
    "params['currentTime'] = t.params['currentTime']\n",
    "t"
   ]
  },
  {
   "cell_type": "code",
   "execution_count": 4,
   "metadata": {},
   "outputs": [
    {
     "data": {
      "text/plain": [
       "{'pop_health_requirement': 0.7,\n",
       " 'pop_consumes': 2,\n",
       " 'starve_damage': 0.05,\n",
       " 'changing_values': ['conformity',\n",
       "  'literacy',\n",
       "  'aggression',\n",
       "  'constitution',\n",
       "  'wealth',\n",
       "  'factionLoyalty'],\n",
       " 'currentTime': 15985}"
      ]
     },
     "execution_count": 4,
     "metadata": {},
     "output_type": "execute_result"
    }
   ],
   "source": [
    "params"
   ]
  },
  {
   "attachments": {},
   "cell_type": "markdown",
   "metadata": {},
   "source": [
    "For this notebook, setting the `pop_health_requirement` to an arbitrary value just to examine."
   ]
  },
  {
   "cell_type": "code",
   "execution_count": 47,
   "metadata": {},
   "outputs": [],
   "source": [
    "params['pop_health_requirement'] = 0.4"
   ]
  },
  {
   "attachments": {},
   "cell_type": "markdown",
   "metadata": {},
   "source": []
  },
  {
   "cell_type": "code",
   "execution_count": 48,
   "metadata": {},
   "outputs": [],
   "source": [
    "healthy_pops_query = f\"\"\"\n",
    "            g.V().has('label','pop')\n",
    "                .has('health',gt({params.get(\"pop_health_requirement\")})).as('pop')\n",
    "                .values('objid','health','wealth')\n",
    "            \"\"\"\n",
    "c.run_query(healthy_pops_query)"
   ]
  },
  {
   "cell_type": "markdown",
   "metadata": {},
   "source": [
    "chop those results into a dataframe.\n",
    "\n",
    "Note that if `c.res` is empty (because no pops match that criteria), you can't run this step. `ZeroDivisionError: float modulo`"
   ]
  },
  {
   "cell_type": "code",
   "execution_count": 49,
   "metadata": {},
   "outputs": [
    {
     "data": {
      "text/html": [
       "<div>\n",
       "<style scoped>\n",
       "    .dataframe tbody tr th:only-of-type {\n",
       "        vertical-align: middle;\n",
       "    }\n",
       "\n",
       "    .dataframe tbody tr th {\n",
       "        vertical-align: top;\n",
       "    }\n",
       "\n",
       "    .dataframe thead th {\n",
       "        text-align: right;\n",
       "    }\n",
       "</style>\n",
       "<table border=\"1\" class=\"dataframe\">\n",
       "  <thead>\n",
       "    <tr style=\"text-align: right;\">\n",
       "      <th></th>\n",
       "      <th>objid</th>\n",
       "      <th>health</th>\n",
       "      <th>wealth</th>\n",
       "    </tr>\n",
       "  </thead>\n",
       "  <tbody>\n",
       "    <tr>\n",
       "      <th>0</th>\n",
       "      <td>2792627071778</td>\n",
       "      <td>0.7</td>\n",
       "      <td>0.5685</td>\n",
       "    </tr>\n",
       "    <tr>\n",
       "      <th>1</th>\n",
       "      <td>9972068386304</td>\n",
       "      <td>0.7</td>\n",
       "      <td>0.4708</td>\n",
       "    </tr>\n",
       "    <tr>\n",
       "      <th>2</th>\n",
       "      <td>3458241253622</td>\n",
       "      <td>0.7</td>\n",
       "      <td>0.5532</td>\n",
       "    </tr>\n",
       "    <tr>\n",
       "      <th>3</th>\n",
       "      <td>4466257301139</td>\n",
       "      <td>0.7</td>\n",
       "      <td>0.6255</td>\n",
       "    </tr>\n",
       "    <tr>\n",
       "      <th>4</th>\n",
       "      <td>0614618202044</td>\n",
       "      <td>0.7</td>\n",
       "      <td>0.4818</td>\n",
       "    </tr>\n",
       "    <tr>\n",
       "      <th>5</th>\n",
       "      <td>9720260770712</td>\n",
       "      <td>0.7</td>\n",
       "      <td>0.4640</td>\n",
       "    </tr>\n",
       "    <tr>\n",
       "      <th>6</th>\n",
       "      <td>6202597184067</td>\n",
       "      <td>0.7</td>\n",
       "      <td>0.7483</td>\n",
       "    </tr>\n",
       "  </tbody>\n",
       "</table>\n",
       "</div>"
      ],
      "text/plain": [
       "           objid  health  wealth\n",
       "0  2792627071778     0.7  0.5685\n",
       "1  9972068386304     0.7  0.4708\n",
       "2  3458241253622     0.7  0.5532\n",
       "3  4466257301139     0.7  0.6255\n",
       "4  0614618202044     0.7  0.4818\n",
       "5  9720260770712     0.7  0.4640\n",
       "6  6202597184067     0.7  0.7483"
      ]
     },
     "execution_count": 49,
     "metadata": {},
     "output_type": "execute_result"
    }
   ],
   "source": [
    "a = np.array(c.res)\n",
    "pops_df = pd.DataFrame(np.split(a,len(a)/3),columns=['objid','health','wealth'])\n",
    "pops_df[['health','wealth']] = pops_df[['health','wealth']].astype(float)\n",
    "\n",
    "pops_df"
   ]
  },
  {
   "cell_type": "markdown",
   "metadata": {},
   "source": [
    "Add randomness"
   ]
  },
  {
   "cell_type": "code",
   "execution_count": 50,
   "metadata": {},
   "outputs": [
    {
     "data": {
      "text/html": [
       "<div>\n",
       "<style scoped>\n",
       "    .dataframe tbody tr th:only-of-type {\n",
       "        vertical-align: middle;\n",
       "    }\n",
       "\n",
       "    .dataframe tbody tr th {\n",
       "        vertical-align: top;\n",
       "    }\n",
       "\n",
       "    .dataframe thead th {\n",
       "        text-align: right;\n",
       "    }\n",
       "</style>\n",
       "<table border=\"1\" class=\"dataframe\">\n",
       "  <thead>\n",
       "    <tr style=\"text-align: right;\">\n",
       "      <th></th>\n",
       "      <th>objid</th>\n",
       "      <th>health</th>\n",
       "      <th>wealth</th>\n",
       "      <th>roll</th>\n",
       "    </tr>\n",
       "  </thead>\n",
       "  <tbody>\n",
       "    <tr>\n",
       "      <th>0</th>\n",
       "      <td>2792627071778</td>\n",
       "      <td>0.7</td>\n",
       "      <td>0.5685</td>\n",
       "      <td>0.941780</td>\n",
       "    </tr>\n",
       "    <tr>\n",
       "      <th>1</th>\n",
       "      <td>9972068386304</td>\n",
       "      <td>0.7</td>\n",
       "      <td>0.4708</td>\n",
       "      <td>0.520327</td>\n",
       "    </tr>\n",
       "    <tr>\n",
       "      <th>2</th>\n",
       "      <td>3458241253622</td>\n",
       "      <td>0.7</td>\n",
       "      <td>0.5532</td>\n",
       "      <td>0.706206</td>\n",
       "    </tr>\n",
       "    <tr>\n",
       "      <th>3</th>\n",
       "      <td>4466257301139</td>\n",
       "      <td>0.7</td>\n",
       "      <td>0.6255</td>\n",
       "      <td>0.140319</td>\n",
       "    </tr>\n",
       "    <tr>\n",
       "      <th>4</th>\n",
       "      <td>0614618202044</td>\n",
       "      <td>0.7</td>\n",
       "      <td>0.4818</td>\n",
       "      <td>0.618593</td>\n",
       "    </tr>\n",
       "    <tr>\n",
       "      <th>5</th>\n",
       "      <td>9720260770712</td>\n",
       "      <td>0.7</td>\n",
       "      <td>0.4640</td>\n",
       "      <td>0.161129</td>\n",
       "    </tr>\n",
       "    <tr>\n",
       "      <th>6</th>\n",
       "      <td>6202597184067</td>\n",
       "      <td>0.7</td>\n",
       "      <td>0.7483</td>\n",
       "      <td>0.886546</td>\n",
       "    </tr>\n",
       "  </tbody>\n",
       "</table>\n",
       "</div>"
      ],
      "text/plain": [
       "           objid  health  wealth      roll\n",
       "0  2792627071778     0.7  0.5685  0.941780\n",
       "1  9972068386304     0.7  0.4708  0.520327\n",
       "2  3458241253622     0.7  0.5532  0.706206\n",
       "3  4466257301139     0.7  0.6255  0.140319\n",
       "4  0614618202044     0.7  0.4818  0.618593\n",
       "5  9720260770712     0.7  0.4640  0.161129\n",
       "6  6202597184067     0.7  0.7483  0.886546"
      ]
     },
     "execution_count": 50,
     "metadata": {},
     "output_type": "execute_result"
    }
   ],
   "source": [
    "pops_df['roll'] = pops_df['objid'].apply(lambda x: np.random.random())\n",
    "pops_df"
   ]
  },
  {
   "cell_type": "markdown",
   "metadata": {},
   "source": [
    "select the populations that will grow. "
   ]
  },
  {
   "cell_type": "code",
   "execution_count": 51,
   "metadata": {},
   "outputs": [
    {
     "data": {
      "text/html": [
       "<div>\n",
       "<style scoped>\n",
       "    .dataframe tbody tr th:only-of-type {\n",
       "        vertical-align: middle;\n",
       "    }\n",
       "\n",
       "    .dataframe tbody tr th {\n",
       "        vertical-align: top;\n",
       "    }\n",
       "\n",
       "    .dataframe thead th {\n",
       "        text-align: right;\n",
       "    }\n",
       "</style>\n",
       "<table border=\"1\" class=\"dataframe\">\n",
       "  <thead>\n",
       "    <tr style=\"text-align: right;\">\n",
       "      <th></th>\n",
       "      <th>objid</th>\n",
       "      <th>health</th>\n",
       "      <th>wealth</th>\n",
       "      <th>roll</th>\n",
       "      <th>grow</th>\n",
       "    </tr>\n",
       "  </thead>\n",
       "  <tbody>\n",
       "    <tr>\n",
       "      <th>0</th>\n",
       "      <td>2792627071778</td>\n",
       "      <td>0.7</td>\n",
       "      <td>0.5685</td>\n",
       "      <td>0.941780</td>\n",
       "      <td>False</td>\n",
       "    </tr>\n",
       "    <tr>\n",
       "      <th>1</th>\n",
       "      <td>9972068386304</td>\n",
       "      <td>0.7</td>\n",
       "      <td>0.4708</td>\n",
       "      <td>0.520327</td>\n",
       "      <td>True</td>\n",
       "    </tr>\n",
       "    <tr>\n",
       "      <th>2</th>\n",
       "      <td>3458241253622</td>\n",
       "      <td>0.7</td>\n",
       "      <td>0.5532</td>\n",
       "      <td>0.706206</td>\n",
       "      <td>False</td>\n",
       "    </tr>\n",
       "    <tr>\n",
       "      <th>3</th>\n",
       "      <td>4466257301139</td>\n",
       "      <td>0.7</td>\n",
       "      <td>0.6255</td>\n",
       "      <td>0.140319</td>\n",
       "      <td>True</td>\n",
       "    </tr>\n",
       "    <tr>\n",
       "      <th>4</th>\n",
       "      <td>0614618202044</td>\n",
       "      <td>0.7</td>\n",
       "      <td>0.4818</td>\n",
       "      <td>0.618593</td>\n",
       "      <td>False</td>\n",
       "    </tr>\n",
       "    <tr>\n",
       "      <th>5</th>\n",
       "      <td>9720260770712</td>\n",
       "      <td>0.7</td>\n",
       "      <td>0.4640</td>\n",
       "      <td>0.161129</td>\n",
       "      <td>True</td>\n",
       "    </tr>\n",
       "    <tr>\n",
       "      <th>6</th>\n",
       "      <td>6202597184067</td>\n",
       "      <td>0.7</td>\n",
       "      <td>0.7483</td>\n",
       "      <td>0.886546</td>\n",
       "      <td>False</td>\n",
       "    </tr>\n",
       "  </tbody>\n",
       "</table>\n",
       "</div>"
      ],
      "text/plain": [
       "           objid  health  wealth      roll   grow\n",
       "0  2792627071778     0.7  0.5685  0.941780  False\n",
       "1  9972068386304     0.7  0.4708  0.520327   True\n",
       "2  3458241253622     0.7  0.5532  0.706206  False\n",
       "3  4466257301139     0.7  0.6255  0.140319   True\n",
       "4  0614618202044     0.7  0.4818  0.618593  False\n",
       "5  9720260770712     0.7  0.4640  0.161129   True\n",
       "6  6202597184067     0.7  0.7483  0.886546  False"
      ]
     },
     "execution_count": 51,
     "metadata": {},
     "output_type": "execute_result"
    }
   ],
   "source": [
    "pops_df['grow'] = pops_df[['wealth','health']].T.mean() >= pops_df['roll']\n",
    "pops_df"
   ]
  },
  {
   "cell_type": "code",
   "execution_count": 52,
   "metadata": {},
   "outputs": [
    {
     "data": {
      "text/html": [
       "<div>\n",
       "<style scoped>\n",
       "    .dataframe tbody tr th:only-of-type {\n",
       "        vertical-align: middle;\n",
       "    }\n",
       "\n",
       "    .dataframe tbody tr th {\n",
       "        vertical-align: top;\n",
       "    }\n",
       "\n",
       "    .dataframe thead th {\n",
       "        text-align: right;\n",
       "    }\n",
       "</style>\n",
       "<table border=\"1\" class=\"dataframe\">\n",
       "  <thead>\n",
       "    <tr style=\"text-align: right;\">\n",
       "      <th></th>\n",
       "      <th>objid</th>\n",
       "      <th>health</th>\n",
       "      <th>wealth</th>\n",
       "    </tr>\n",
       "  </thead>\n",
       "  <tbody>\n",
       "    <tr>\n",
       "      <th>0</th>\n",
       "      <td>9972068386304</td>\n",
       "      <td>0.7</td>\n",
       "      <td>0.4708</td>\n",
       "    </tr>\n",
       "    <tr>\n",
       "      <th>1</th>\n",
       "      <td>4466257301139</td>\n",
       "      <td>0.7</td>\n",
       "      <td>0.6255</td>\n",
       "    </tr>\n",
       "    <tr>\n",
       "      <th>2</th>\n",
       "      <td>9720260770712</td>\n",
       "      <td>0.7</td>\n",
       "      <td>0.4640</td>\n",
       "    </tr>\n",
       "  </tbody>\n",
       "</table>\n",
       "</div>"
      ],
      "text/plain": [
       "           objid  health  wealth\n",
       "0  9972068386304     0.7  0.4708\n",
       "1  4466257301139     0.7  0.6255\n",
       "2  9720260770712     0.7  0.4640"
      ]
     },
     "execution_count": 52,
     "metadata": {},
     "output_type": "execute_result"
    }
   ],
   "source": [
    "reproducing_pops = pops_df[pops_df['grow']].drop(['roll','grow'],axis=1).reset_index(drop=True)\n",
    "reproducing_pops"
   ]
  },
  {
   "cell_type": "markdown",
   "metadata": {},
   "source": [
    "Now that we have the list of reproducing pops, we can generate new species from them. \n"
   ]
  },
  {
   "cell_type": "code",
   "execution_count": 53,
   "metadata": {},
   "outputs": [
    {
     "data": {
      "text/plain": [
       "{'objid': '9972068386304', 'health': 0.7, 'wealth': 0.4708}"
      ]
     },
     "execution_count": 53,
     "metadata": {},
     "output_type": "execute_result"
    }
   ],
   "source": [
    "parent_pop = reproducing_pops.sample().to_dict(orient='records')[0]\n",
    "parent_pop"
   ]
  },
  {
   "cell_type": "markdown",
   "metadata": {},
   "source": [
    "We need to check that the location's population cap hasn't been reached. "
   ]
  },
  {
   "cell_type": "code",
   "execution_count": 72,
   "metadata": {},
   "outputs": [
    {
     "data": {
      "text/plain": [
       "['6135767546801', 'Damshamunling', 100]"
      ]
     },
     "execution_count": 72,
     "metadata": {},
     "output_type": "execute_result"
    }
   ],
   "source": [
    "query_pop_cap = f\"\"\"\n",
    "        g.V().has('objid','{parent_pop[\"objid\"]}').out('inhabits').values('objid','name','pop_cap')\"\n",
    "        \"\"\"\n",
    "c.run_query(query_pop_cap)\n",
    "pop_cap = c.res\n",
    "pop_cap"
   ]
  },
  {
   "cell_type": "code",
   "execution_count": 73,
   "metadata": {},
   "outputs": [
    {
     "data": {
      "text/plain": [
       "[7]"
      ]
     },
     "execution_count": 73,
     "metadata": {},
     "output_type": "execute_result"
    }
   ],
   "source": [
    "query_location_pop = f\"\"\"\n",
    "        g.V().has('objid','{parent_pop[\"objid\"]}').out('inhabits').in('inhabits').has('label','pop').count()\"\n",
    "        \"\"\"\n",
    "c.run_query(query_location_pop)\n",
    "location_pop = c.res\n",
    "location_pop"
   ]
  },
  {
   "cell_type": "code",
   "execution_count": 76,
   "metadata": {},
   "outputs": [
    {
     "data": {
      "text/plain": [
       "False"
      ]
     },
     "execution_count": 76,
     "metadata": {},
     "output_type": "execute_result"
    }
   ],
   "source": [
    "over_pop = location_pop[0] > pop_cap[2]\n",
    "over_pop"
   ]
  },
  {
   "cell_type": "code",
   "execution_count": 78,
   "metadata": {},
   "outputs": [
    {
     "data": {
      "text/plain": [
       "True"
      ]
     },
     "execution_count": 78,
     "metadata": {},
     "output_type": "execute_result"
    }
   ],
   "source": [
    "def check_pop_growth(c, parent_pop):\n",
    "    query_pop_cap = f\"\"\"\n",
    "        g.V().has('objid','{parent_pop[\"objid\"]}').out('inhabits').values('objid','name','pop_cap')\"\n",
    "        \"\"\"\n",
    "    c.run_query(query_pop_cap)\n",
    "    pop_cap = c.res\n",
    "    query_location_pop = f\"\"\"\n",
    "        g.V().has('objid','{parent_pop[\"objid\"]}').out('inhabits').in('inhabits').has('label','pop').count()\"\n",
    "        \"\"\"\n",
    "    c.run_query(query_location_pop)\n",
    "    location_pop = c.res\n",
    "    over_pop = location_pop[0] > pop_cap[2]\n",
    "    if not over_pop:\n",
    "        return True\n",
    "    else:\n",
    "        return False\n",
    "\n",
    "check_pop_growth(c, parent_pop)"
   ]
  },
  {
   "cell_type": "markdown",
   "metadata": {},
   "source": [
    "Note, there are a specific list of edges that a child note must have. "
   ]
  },
  {
   "cell_type": "code",
   "execution_count": 13,
   "metadata": {},
   "outputs": [
    {
     "data": {
      "text/plain": [
       "['inhabits', 'isOf', 'isIn', 'caused']"
      ]
     },
     "execution_count": 13,
     "metadata": {},
     "output_type": "execute_result"
    }
   ],
   "source": [
    "query_child_must_have = f\"\"\"\n",
    "        g.V().has('objid','{parent_pop[\"objid\"]}')\n",
    "            .outE().values('label','inVLabel','outVLabel')\n",
    "        \"\"\"\n",
    "\n",
    "\n",
    "c.run_query(query_child_must_have)\n",
    "required_edges = c.res\n",
    "required_edges"
   ]
  },
  {
   "cell_type": "markdown",
   "metadata": {},
   "source": [
    "* 'isOf' - The Species\n",
    "* 'inhabits' - planet or vessal that it is in\n",
    "* 'childOf' - It's parent pop\n",
    "* 'isIn' - The faction that it is in. "
   ]
  },
  {
   "cell_type": "code",
   "execution_count": 14,
   "metadata": {},
   "outputs": [
    {
     "data": {
      "text/plain": [
       "[{'labels': [[], ['pop', 'location', 'species', 'faction']],\n",
       "  'objects': [[{'objid': ['8471680871431'],\n",
       "     'name': ['Jegongontes Yemay'],\n",
       "     'conformity': [0.59],\n",
       "     'literacy': [0.378],\n",
       "     'aggression': [0.621],\n",
       "     'constitution': [0.566],\n",
       "     'health': [0.7],\n",
       "     'isIn': ['None'],\n",
       "     'industry': [0.5935],\n",
       "     'wealth': [0.4858],\n",
       "     'factionLoyalty': [0.48],\n",
       "     'isIdle': ['true'],\n",
       "     'userguid': ['ac5b8081-7ef9-4bce-baac-6d0ea7e1782c'],\n",
       "     'objtype': ['pop']}],\n",
       "   [{'name': ['Son'],\n",
       "     'class': ['terrestrial'],\n",
       "     'objid': ['6791071841421'],\n",
       "     'atmosphere': ['[{Argon: 0.0}, {Carbon Dioxide: 0.457}, {Helium: 0.021}, {Hydrogen: 0.184}, {Methane: 0.004}, {Nitrogen: 0.169}, {Oxygen: 0.093}, {Sodium: 0.071}]'],\n",
       "     'radius': [0.332],\n",
       "     'mass': [0.467],\n",
       "     'orbitsDistance': [1.041],\n",
       "     'orbitsId': ['2290333943418'],\n",
       "     'orbitsName': ['Elhaicu'],\n",
       "     'isSupportsLife': ['true'],\n",
       "     'isPopulated': ['true'],\n",
       "     'isHomeworld': ['true'],\n",
       "     'userguid': ['ac5b8081-7ef9-4bce-baac-6d0ea7e1782c'],\n",
       "     'objtype': ['planet']},\n",
       "    {'name': ['Viaren'],\n",
       "     'objid': ['5373646850758'],\n",
       "     'consumes': ['organics'],\n",
       "     'effuses': ['organic waste,plastics'],\n",
       "     'conformity': ['0.290'],\n",
       "     'aggression': ['0.750'],\n",
       "     'literacy': ['0.250'],\n",
       "     'constitution': ['0.710'],\n",
       "     'userguid': ['ac5b8081-7ef9-4bce-baac-6d0ea7e1782c'],\n",
       "     'objtype': ['species']},\n",
       "    {'name': ['Jegongontes'],\n",
       "     'objid': ['4107450191617'],\n",
       "     'lat': [0.054],\n",
       "     'long': [0.254],\n",
       "     'userguid': ['ac5b8081-7ef9-4bce-baac-6d0ea7e1782c'],\n",
       "     'objtype': ['faction']}]]}]"
      ]
     },
     "execution_count": 14,
     "metadata": {},
     "output_type": "execute_result"
    }
   ],
   "source": [
    "query_pop_species_faction = f\"\"\"\n",
    "        g.V().has('objid','{parent_pop[\"objid\"]}')\n",
    "            .local(\n",
    "                union(\n",
    "                    out('inhabits').as('location'),\n",
    "                    out('isOf').as('species'),\n",
    "                    out('isIn').as('faction')\n",
    "                    )\n",
    "                    .fold()).as('pop','location','species','faction')\n",
    "                .path()\n",
    "                .by(unfold().valueMap().fold())\n",
    "        \"\"\"\n",
    "\n",
    "\n",
    "c.run_query(query_pop_species_faction)\n",
    "c.res"
   ]
  },
  {
   "cell_type": "code",
   "execution_count": 15,
   "metadata": {},
   "outputs": [
    {
     "data": {
      "text/plain": [
       "{'objid': '8471680871431',\n",
       " 'name': 'Jegongontes Yemay',\n",
       " 'conformity': 0.59,\n",
       " 'literacy': 0.378,\n",
       " 'aggression': 0.621,\n",
       " 'constitution': 0.566,\n",
       " 'health': 0.7,\n",
       " 'isIn': 'None',\n",
       " 'industry': 0.5935,\n",
       " 'wealth': 0.4858,\n",
       " 'factionLoyalty': 0.48,\n",
       " 'isIdle': 'true',\n",
       " 'userguid': 'ac5b8081-7ef9-4bce-baac-6d0ea7e1782c',\n",
       " 'objtype': 'pop',\n",
       " 'id': '8471680871431'}"
      ]
     },
     "execution_count": 15,
     "metadata": {},
     "output_type": "execute_result"
    }
   ],
   "source": [
    "pop_dict = c.clean_node(c.res[0]['objects'][0][0])\n",
    "pop_dict"
   ]
  },
  {
   "cell_type": "code",
   "execution_count": 16,
   "metadata": {},
   "outputs": [
    {
     "data": {
      "text/plain": [
       "{'name': 'Son',\n",
       " 'class': 'terrestrial',\n",
       " 'objid': '6791071841421',\n",
       " 'atmosphere': '[{Argon: 0.0}, {Carbon Dioxide: 0.457}, {Helium: 0.021}, {Hydrogen: 0.184}, {Methane: 0.004}, {Nitrogen: 0.169}, {Oxygen: 0.093}, {Sodium: 0.071}]',\n",
       " 'radius': 0.332,\n",
       " 'mass': 0.467,\n",
       " 'orbitsDistance': 1.041,\n",
       " 'orbitsId': '2290333943418',\n",
       " 'orbitsName': 'Elhaicu',\n",
       " 'isSupportsLife': 'true',\n",
       " 'isPopulated': 'true',\n",
       " 'isHomeworld': 'true',\n",
       " 'userguid': 'ac5b8081-7ef9-4bce-baac-6d0ea7e1782c',\n",
       " 'objtype': 'planet',\n",
       " 'id': '6791071841421'}"
      ]
     },
     "execution_count": 16,
     "metadata": {},
     "output_type": "execute_result"
    }
   ],
   "source": [
    "loc_dict = c.clean_node(c.res[0]['objects'][1][0])\n",
    "loc_dict"
   ]
  },
  {
   "cell_type": "code",
   "execution_count": 17,
   "metadata": {},
   "outputs": [
    {
     "data": {
      "text/plain": [
       "{'name': 'Viaren',\n",
       " 'objid': '5373646850758',\n",
       " 'consumes': 'organics',\n",
       " 'effuses': 'organic waste,plastics',\n",
       " 'conformity': '0.290',\n",
       " 'aggression': '0.750',\n",
       " 'literacy': '0.250',\n",
       " 'constitution': '0.710',\n",
       " 'userguid': 'ac5b8081-7ef9-4bce-baac-6d0ea7e1782c',\n",
       " 'objtype': 'species',\n",
       " 'id': '5373646850758'}"
      ]
     },
     "execution_count": 17,
     "metadata": {},
     "output_type": "execute_result"
    }
   ],
   "source": [
    "sp_dict = c.clean_node(c.res[0]['objects'][1][1])\n",
    "sp_dict"
   ]
  },
  {
   "cell_type": "code",
   "execution_count": 18,
   "metadata": {},
   "outputs": [
    {
     "data": {
      "text/plain": [
       "{'name': 'Jegongontes',\n",
       " 'objid': '4107450191617',\n",
       " 'lat': 0.054,\n",
       " 'long': 0.254,\n",
       " 'userguid': 'ac5b8081-7ef9-4bce-baac-6d0ea7e1782c',\n",
       " 'objtype': 'faction',\n",
       " 'id': '4107450191617'}"
      ]
     },
     "execution_count": 18,
     "metadata": {},
     "output_type": "execute_result"
    }
   ],
   "source": [
    "fact_dict = c.clean_node(c.res[0]['objects'][1][2])\n",
    "fact_dict"
   ]
  },
  {
   "cell_type": "markdown",
   "metadata": {},
   "source": [
    "Note that the formatting (created by the structure of the query is)\n",
    "```\n",
    "[\n",
    "    [pop],\n",
    "    [species,faction]\n",
    "]\n",
    "```"
   ]
  },
  {
   "cell_type": "markdown",
   "metadata": {},
   "source": [
    "Going to create species objects for the populations that will reproduce"
   ]
  },
  {
   "cell_type": "code",
   "execution_count": 19,
   "metadata": {},
   "outputs": [
    {
     "data": {
      "text/plain": [
       "<species: None; 5373646850758; Viaren>"
      ]
     },
     "execution_count": 19,
     "metadata": {},
     "output_type": "execute_result"
    }
   ],
   "source": [
    "sp = species.Species(sp_dict)\n",
    "sp"
   ]
  },
  {
   "cell_type": "markdown",
   "metadata": {},
   "source": [
    "Loading in the parent attributes as defaults"
   ]
  },
  {
   "cell_type": "code",
   "execution_count": 20,
   "metadata": {},
   "outputs": [],
   "source": [
    "sp.config['defaults'] = pop_dict"
   ]
  },
  {
   "cell_type": "code",
   "execution_count": 21,
   "metadata": {},
   "outputs": [
    {
     "data": {
      "text/plain": [
       "{'name': 'Viaren',\n",
       " 'objid': '5373646850758',\n",
       " 'consumes': 'organics',\n",
       " 'effuses': 'organic waste,plastics',\n",
       " 'conformity': '0.290',\n",
       " 'aggression': '0.750',\n",
       " 'literacy': '0.250',\n",
       " 'constitution': '0.710',\n",
       " 'userguid': 'ac5b8081-7ef9-4bce-baac-6d0ea7e1782c',\n",
       " 'objtype': 'species',\n",
       " 'id': '5373646850758',\n",
       " 'defaults': {'objid': '8471680871431',\n",
       "  'name': 'Jegongontes Yemay',\n",
       "  'conformity': 0.59,\n",
       "  'literacy': 0.378,\n",
       "  'aggression': 0.621,\n",
       "  'constitution': 0.566,\n",
       "  'health': 0.7,\n",
       "  'isIn': 'None',\n",
       "  'industry': 0.5935,\n",
       "  'wealth': 0.4858,\n",
       "  'factionLoyalty': 0.48,\n",
       "  'isIdle': 'true',\n",
       "  'userguid': 'ac5b8081-7ef9-4bce-baac-6d0ea7e1782c',\n",
       "  'objtype': 'pop',\n",
       "  'id': '8471680871431'}}"
      ]
     },
     "execution_count": 21,
     "metadata": {},
     "output_type": "execute_result"
    }
   ],
   "source": [
    "sp.config"
   ]
  },
  {
   "cell_type": "code",
   "execution_count": 22,
   "metadata": {},
   "outputs": [
    {
     "data": {
      "text/plain": [
       "<pop: pop; 9956377096406; Jegongontes Yemaynam>"
      ]
     },
     "execution_count": 22,
     "metadata": {},
     "output_type": "execute_result"
    }
   ],
   "source": [
    "child = population.Pop(sp)\n",
    "child.name = sp.config['defaults']['name']+language.make_word(1).lower()\n",
    "child"
   ]
  },
  {
   "cell_type": "markdown",
   "metadata": {},
   "source": [
    "Note that the child must have a userguid"
   ]
  },
  {
   "cell_type": "code",
   "execution_count": 23,
   "metadata": {},
   "outputs": [
    {
     "data": {
      "text/plain": [
       "{'name': 'Jegongontes Yemaynam',\n",
       " 'objid': '9956377096406',\n",
       " 'label': 'pop',\n",
       " 'conformity': 0.44,\n",
       " 'literacy': 0.46,\n",
       " 'aggression': 0.437,\n",
       " 'constitution': 0.524,\n",
       " 'health': 0.7,\n",
       " 'isIn': None,\n",
       " 'industry': 0.48050000000000004,\n",
       " 'wealth': 0.47025000000000006,\n",
       " 'factionLoyalty': 0.347,\n",
       " 'isIdle': True}"
      ]
     },
     "execution_count": 23,
     "metadata": {},
     "output_type": "execute_result"
    }
   ],
   "source": [
    "child.get_data()"
   ]
  },
  {
   "cell_type": "markdown",
   "metadata": {},
   "source": [
    "Now that I have the child population, I can check that they have the needed edges. "
   ]
  },
  {
   "cell_type": "code",
   "execution_count": 24,
   "metadata": {},
   "outputs": [
    {
     "data": {
      "text/plain": [
       "['inhabits', 'isOf', 'isIn', 'caused']"
      ]
     },
     "execution_count": 24,
     "metadata": {},
     "output_type": "execute_result"
    }
   ],
   "source": [
    "required_edges"
   ]
  },
  {
   "cell_type": "code",
   "execution_count": 25,
   "metadata": {},
   "outputs": [
    {
     "data": {
      "text/plain": [
       "{'node1': '9956377096406', 'node2': '8471680871431', 'label': 'childOf'}"
      ]
     },
     "execution_count": 25,
     "metadata": {},
     "output_type": "execute_result"
    }
   ],
   "source": [
    "child.childOf"
   ]
  },
  {
   "cell_type": "code",
   "execution_count": 26,
   "metadata": {},
   "outputs": [
    {
     "data": {
      "text/plain": [
       "{'node1': '9956377096406', 'node2': '5373646850758', 'label': 'isOf'}"
      ]
     },
     "execution_count": 26,
     "metadata": {},
     "output_type": "execute_result"
    }
   ],
   "source": [
    "child.isOfSpecies"
   ]
  },
  {
   "cell_type": "code",
   "execution_count": 27,
   "metadata": {},
   "outputs": [
    {
     "data": {
      "text/plain": [
       "{'node1': '9956377096406', 'node2': '4107450191617', 'label': 'isIn'}"
      ]
     },
     "execution_count": 27,
     "metadata": {},
     "output_type": "execute_result"
    }
   ],
   "source": [
    "isIn_edge = child.get_isInFaction()\n",
    "isIn_edge['node2'] = fact_dict['objid']\n",
    "isIn_edge"
   ]
  },
  {
   "cell_type": "code",
   "execution_count": 28,
   "metadata": {},
   "outputs": [
    {
     "data": {
      "text/plain": [
       "{'node1': '9956377096406', 'node2': '6791071841421', 'label': 'inhabits'}"
      ]
     },
     "execution_count": 28,
     "metadata": {},
     "output_type": "execute_result"
    }
   ],
   "source": [
    "inhabits_edge = {'node1': child.objid, 'node2': loc_dict['objid'], 'label': 'inhabits'}\n",
    "inhabits_edge"
   ]
  },
  {
   "cell_type": "code",
   "execution_count": 29,
   "metadata": {},
   "outputs": [
    {
     "data": {
      "text/html": [
       "<div>\n",
       "<style scoped>\n",
       "    .dataframe tbody tr th:only-of-type {\n",
       "        vertical-align: middle;\n",
       "    }\n",
       "\n",
       "    .dataframe tbody tr th {\n",
       "        vertical-align: top;\n",
       "    }\n",
       "\n",
       "    .dataframe thead th {\n",
       "        text-align: right;\n",
       "    }\n",
       "</style>\n",
       "<table border=\"1\" class=\"dataframe\">\n",
       "  <thead>\n",
       "    <tr style=\"text-align: right;\">\n",
       "      <th></th>\n",
       "      <th>node1</th>\n",
       "      <th>node2</th>\n",
       "      <th>label</th>\n",
       "    </tr>\n",
       "  </thead>\n",
       "  <tbody>\n",
       "    <tr>\n",
       "      <th>0</th>\n",
       "      <td>9956377096406</td>\n",
       "      <td>8471680871431</td>\n",
       "      <td>childOf</td>\n",
       "    </tr>\n",
       "    <tr>\n",
       "      <th>1</th>\n",
       "      <td>9956377096406</td>\n",
       "      <td>5373646850758</td>\n",
       "      <td>isOf</td>\n",
       "    </tr>\n",
       "    <tr>\n",
       "      <th>2</th>\n",
       "      <td>9956377096406</td>\n",
       "      <td>4107450191617</td>\n",
       "      <td>isIn</td>\n",
       "    </tr>\n",
       "    <tr>\n",
       "      <th>3</th>\n",
       "      <td>9956377096406</td>\n",
       "      <td>6791071841421</td>\n",
       "      <td>inhabits</td>\n",
       "    </tr>\n",
       "  </tbody>\n",
       "</table>\n",
       "</div>"
      ],
      "text/plain": [
       "           node1          node2     label\n",
       "0  9956377096406  8471680871431   childOf\n",
       "1  9956377096406  5373646850758      isOf\n",
       "2  9956377096406  4107450191617      isIn\n",
       "3  9956377096406  6791071841421  inhabits"
      ]
     },
     "execution_count": 29,
     "metadata": {},
     "output_type": "execute_result"
    }
   ],
   "source": [
    "pd.DataFrame([child.childOf,\n",
    "              child.isOfSpecies,\n",
    "              isIn_edge,\n",
    "              inhabits_edge])"
   ]
  },
  {
   "cell_type": "markdown",
   "metadata": {},
   "source": [
    "## Building the uploaded data"
   ]
  },
  {
   "cell_type": "code",
   "execution_count": 30,
   "metadata": {},
   "outputs": [
    {
     "data": {
      "text/plain": [
       "{'name': 'Jegongontes Yemaynam',\n",
       " 'objid': '9956377096406',\n",
       " 'label': 'pop',\n",
       " 'conformity': 0.44,\n",
       " 'literacy': 0.46,\n",
       " 'aggression': 0.437,\n",
       " 'constitution': 0.524,\n",
       " 'health': 0.7,\n",
       " 'isIn': None,\n",
       " 'industry': 0.48050000000000004,\n",
       " 'wealth': 0.47025000000000006,\n",
       " 'factionLoyalty': 0.347,\n",
       " 'isIdle': True,\n",
       " 'userguid': 'ac5b8081-7ef9-4bce-baac-6d0ea7e1782c'}"
      ]
     },
     "execution_count": 30,
     "metadata": {},
     "output_type": "execute_result"
    }
   ],
   "source": [
    "child_data = child.get_data()\n",
    "child_data['userguid'] = pop_dict['userguid'] \n",
    "child_data"
   ]
  },
  {
   "cell_type": "code",
   "execution_count": 31,
   "metadata": {},
   "outputs": [
    {
     "data": {
      "text/plain": [
       "{'objid': '4417806903516',\n",
       " 'name': 'population growth',\n",
       " 'label': 'event',\n",
       " 'text': 'The population (Jegongontes Yemay) inhabiting Son has grown to produce the population: Jegongontes Yemaynam.',\n",
       " 'visibleTo': 'ac5b8081-7ef9-4bce-baac-6d0ea7e1782c',\n",
       " 'time': 13989,\n",
       " 'userguid': 'ac5b8081-7ef9-4bce-baac-6d0ea7e1782c',\n",
       " 'source': 'notebook'}"
      ]
     },
     "execution_count": 31,
     "metadata": {},
     "output_type": "execute_result"
    }
   ],
   "source": [
    "def population_growth_event(t,parent,location,child):\n",
    "    node = {\n",
    "        'objid':maths.uuid(),\n",
    "        'name':'population growth',\n",
    "        'label':'event',\n",
    "        'text': f\"The population ({parent['name']}) inhabiting {location['name']} has grown to produce the population: {child.name}.\",\n",
    "        'visibleTo':parent['userguid'],\n",
    "        'time':t.params['currentTime'],\n",
    "        'userguid':parent['userguid'],\n",
    "        'source':'notebook'\n",
    "    }\n",
    "    return node\n",
    "\n",
    "event = population_growth_event(t,pop_dict,loc_dict,child)\n",
    "event"
   ]
  },
  {
   "cell_type": "code",
   "execution_count": 32,
   "metadata": {},
   "outputs": [],
   "source": [
    "event_edge = {'node1': child.objid, 'node2': event['objid'], 'label': 'caused'}"
   ]
  },
  {
   "cell_type": "code",
   "execution_count": 33,
   "metadata": {},
   "outputs": [
    {
     "name": "stdout",
     "output_type": "stream",
     "text": [
      "The final dataset is 2 nodes and 4 edges\n"
     ]
    }
   ],
   "source": [
    "data = {\"nodes\":[child_data, event] ,\"edges\":[inhabits_edge,child.isOfSpecies,isIn_edge,event_edge] }\n",
    "\n",
    "print(f\"The final dataset is {len(data.get('nodes'))} nodes and {len(data.get('edges'))} edges\")"
   ]
  },
  {
   "cell_type": "code",
   "execution_count": 34,
   "metadata": {},
   "outputs": [
    {
     "data": {
      "text/html": [
       "<div>\n",
       "<style scoped>\n",
       "    .dataframe tbody tr th:only-of-type {\n",
       "        vertical-align: middle;\n",
       "    }\n",
       "\n",
       "    .dataframe tbody tr th {\n",
       "        vertical-align: top;\n",
       "    }\n",
       "\n",
       "    .dataframe thead th {\n",
       "        text-align: right;\n",
       "    }\n",
       "</style>\n",
       "<table border=\"1\" class=\"dataframe\">\n",
       "  <thead>\n",
       "    <tr style=\"text-align: right;\">\n",
       "      <th></th>\n",
       "      <th>node1</th>\n",
       "      <th>node2</th>\n",
       "      <th>label</th>\n",
       "    </tr>\n",
       "  </thead>\n",
       "  <tbody>\n",
       "    <tr>\n",
       "      <th>0</th>\n",
       "      <td>9956377096406</td>\n",
       "      <td>6791071841421</td>\n",
       "      <td>inhabits</td>\n",
       "    </tr>\n",
       "    <tr>\n",
       "      <th>1</th>\n",
       "      <td>9956377096406</td>\n",
       "      <td>5373646850758</td>\n",
       "      <td>isOf</td>\n",
       "    </tr>\n",
       "    <tr>\n",
       "      <th>2</th>\n",
       "      <td>9956377096406</td>\n",
       "      <td>4107450191617</td>\n",
       "      <td>isIn</td>\n",
       "    </tr>\n",
       "    <tr>\n",
       "      <th>3</th>\n",
       "      <td>9956377096406</td>\n",
       "      <td>4417806903516</td>\n",
       "      <td>caused</td>\n",
       "    </tr>\n",
       "  </tbody>\n",
       "</table>\n",
       "</div>"
      ],
      "text/plain": [
       "           node1          node2     label\n",
       "0  9956377096406  6791071841421  inhabits\n",
       "1  9956377096406  5373646850758      isOf\n",
       "2  9956377096406  4107450191617      isIn\n",
       "3  9956377096406  4417806903516    caused"
      ]
     },
     "execution_count": 34,
     "metadata": {},
     "output_type": "execute_result"
    }
   ],
   "source": [
    "pd.DataFrame(data['edges'])"
   ]
  },
  {
   "cell_type": "code",
   "execution_count": 35,
   "metadata": {},
   "outputs": [
    {
     "data": {
      "text/html": [
       "<div>\n",
       "<style scoped>\n",
       "    .dataframe tbody tr th:only-of-type {\n",
       "        vertical-align: middle;\n",
       "    }\n",
       "\n",
       "    .dataframe tbody tr th {\n",
       "        vertical-align: top;\n",
       "    }\n",
       "\n",
       "    .dataframe thead th {\n",
       "        text-align: right;\n",
       "    }\n",
       "</style>\n",
       "<table border=\"1\" class=\"dataframe\">\n",
       "  <thead>\n",
       "    <tr style=\"text-align: right;\">\n",
       "      <th></th>\n",
       "      <th>name</th>\n",
       "      <th>objid</th>\n",
       "      <th>label</th>\n",
       "      <th>conformity</th>\n",
       "      <th>literacy</th>\n",
       "      <th>aggression</th>\n",
       "      <th>constitution</th>\n",
       "      <th>health</th>\n",
       "      <th>isIn</th>\n",
       "      <th>industry</th>\n",
       "      <th>wealth</th>\n",
       "      <th>factionLoyalty</th>\n",
       "      <th>isIdle</th>\n",
       "      <th>userguid</th>\n",
       "      <th>text</th>\n",
       "      <th>visibleTo</th>\n",
       "      <th>time</th>\n",
       "      <th>source</th>\n",
       "    </tr>\n",
       "  </thead>\n",
       "  <tbody>\n",
       "    <tr>\n",
       "      <th>0</th>\n",
       "      <td>Jegongontes Yemaynam</td>\n",
       "      <td>9956377096406</td>\n",
       "      <td>pop</td>\n",
       "      <td>0.44</td>\n",
       "      <td>0.46</td>\n",
       "      <td>0.437</td>\n",
       "      <td>0.524</td>\n",
       "      <td>0.7</td>\n",
       "      <td>NaN</td>\n",
       "      <td>0.4805</td>\n",
       "      <td>0.47025</td>\n",
       "      <td>0.347</td>\n",
       "      <td>True</td>\n",
       "      <td>ac5b8081-7ef9-4bce-baac-6d0ea7e1782c</td>\n",
       "      <td>NaN</td>\n",
       "      <td>NaN</td>\n",
       "      <td>NaN</td>\n",
       "      <td>NaN</td>\n",
       "    </tr>\n",
       "    <tr>\n",
       "      <th>1</th>\n",
       "      <td>population growth</td>\n",
       "      <td>4417806903516</td>\n",
       "      <td>event</td>\n",
       "      <td>NaN</td>\n",
       "      <td>NaN</td>\n",
       "      <td>NaN</td>\n",
       "      <td>NaN</td>\n",
       "      <td>NaN</td>\n",
       "      <td>NaN</td>\n",
       "      <td>NaN</td>\n",
       "      <td>NaN</td>\n",
       "      <td>NaN</td>\n",
       "      <td>NaN</td>\n",
       "      <td>ac5b8081-7ef9-4bce-baac-6d0ea7e1782c</td>\n",
       "      <td>The population (Jegongontes Yemay) inhabiting ...</td>\n",
       "      <td>ac5b8081-7ef9-4bce-baac-6d0ea7e1782c</td>\n",
       "      <td>13989.0</td>\n",
       "      <td>notebook</td>\n",
       "    </tr>\n",
       "  </tbody>\n",
       "</table>\n",
       "</div>"
      ],
      "text/plain": [
       "                   name          objid  label  conformity  literacy  \\\n",
       "0  Jegongontes Yemaynam  9956377096406    pop        0.44      0.46   \n",
       "1     population growth  4417806903516  event         NaN       NaN   \n",
       "\n",
       "   aggression  constitution  health  isIn  industry   wealth  factionLoyalty  \\\n",
       "0       0.437         0.524     0.7   NaN    0.4805  0.47025           0.347   \n",
       "1         NaN           NaN     NaN   NaN       NaN      NaN             NaN   \n",
       "\n",
       "  isIdle                              userguid  \\\n",
       "0   True  ac5b8081-7ef9-4bce-baac-6d0ea7e1782c   \n",
       "1    NaN  ac5b8081-7ef9-4bce-baac-6d0ea7e1782c   \n",
       "\n",
       "                                                text  \\\n",
       "0                                                NaN   \n",
       "1  The population (Jegongontes Yemay) inhabiting ...   \n",
       "\n",
       "                              visibleTo     time    source  \n",
       "0                                   NaN      NaN       NaN  \n",
       "1  ac5b8081-7ef9-4bce-baac-6d0ea7e1782c  13989.0  notebook  "
      ]
     },
     "execution_count": 35,
     "metadata": {},
     "output_type": "execute_result"
    }
   ],
   "source": [
    "pd.DataFrame(data['nodes']) "
   ]
  },
  {
   "cell_type": "markdown",
   "metadata": {},
   "source": [
    "It takes a while to upload all of that data. "
   ]
  },
  {
   "cell_type": "code",
   "execution_count": 36,
   "metadata": {},
   "outputs": [],
   "source": [
    "# c.upload_data('notebook',data)"
   ]
  },
  {
   "cell_type": "markdown",
   "metadata": {},
   "source": [
    "# Testing the actual function"
   ]
  },
  {
   "cell_type": "code",
   "execution_count": 37,
   "metadata": {},
   "outputs": [],
   "source": [
    "from app.functions import growth"
   ]
  },
  {
   "cell_type": "code",
   "execution_count": 43,
   "metadata": {},
   "outputs": [
    {
     "data": {
      "text/plain": [
       "[{'agent': {'objid': '0804013652458', 'health': 0.7, 'wealth': 0.4728},\n",
       "  'action': 'reproduce'},\n",
       " {'agent': {'objid': '5840971700979', 'health': 0.7, 'wealth': 0.5397},\n",
       "  'action': 'reproduce'},\n",
       " {'agent': {'objid': '2797495206916', 'health': 0.7, 'wealth': 0.5662},\n",
       "  'action': 'reproduce'},\n",
       " {'agent': {'objid': '5586452954582', 'health': 0.7, 'wealth': 0.5392},\n",
       "  'action': 'reproduce'},\n",
       " {'agent': {'objid': '9329901454713', 'health': 0.7, 'wealth': 0.4938},\n",
       "  'action': 'reproduce'},\n",
       " {'agent': {'objid': '9561682264646', 'health': 0.7, 'wealth': 0.6407},\n",
       "  'action': 'reproduce'},\n",
       " {'agent': {'objid': '6031502657352', 'health': 0.7, 'wealth': 0.2995},\n",
       "  'action': 'reproduce'},\n",
       " {'agent': {'objid': '4809768309289', 'health': 0.7, 'wealth': 0.4912},\n",
       "  'action': 'reproduce'},\n",
       " {'agent': {'objid': '6429552640412', 'health': 0.7, 'wealth': 0.431},\n",
       "  'action': 'reproduce'},\n",
       " {'agent': {'objid': '6965718418473', 'health': 0.7, 'wealth': 0.6225},\n",
       "  'action': 'reproduce'},\n",
       " {'agent': {'objid': '1173164904813', 'health': 0.7, 'wealth': 0.5337},\n",
       "  'action': 'reproduce'},\n",
       " {'agent': {'objid': '2144284794318', 'health': 0.7, 'wealth': 0.513},\n",
       "  'action': 'reproduce'},\n",
       " {'agent': {'objid': '0668489712341', 'health': 0.7, 'wealth': 0.5625},\n",
       "  'action': 'reproduce'},\n",
       " {'agent': {'objid': '8471680871431', 'health': 0.7, 'wealth': 0.4858},\n",
       "  'action': 'reproduce'},\n",
       " {'agent': {'objid': '8291246620344', 'health': 0.7, 'wealth': 0.367},\n",
       "  'action': 'reproduce'},\n",
       " {'agent': {'objid': '5707178019607', 'health': 0.7, 'wealth': 0.4838},\n",
       "  'action': 'reproduce'},\n",
       " {'agent': {'objid': '0966931172387', 'health': 0.7, 'wealth': 0.4555},\n",
       "  'action': 'reproduce'},\n",
       " {'agent': {'objid': '9982005053460', 'health': 0.7, 'wealth': 0.4915},\n",
       "  'action': 'reproduce'},\n",
       " {'agent': {'objid': '8366546454190', 'health': 0.7, 'wealth': 0.5873},\n",
       "  'action': 'reproduce'},\n",
       " {'agent': {'objid': '7819794272459', 'health': 0.7, 'wealth': 0.403},\n",
       "  'action': 'reproduce'}]"
      ]
     },
     "execution_count": 43,
     "metadata": {},
     "output_type": "execute_result"
    }
   ],
   "source": [
    "parents = growth.calculate_growth(c,t,params)\n",
    "parents"
   ]
  },
  {
   "cell_type": "code",
   "execution_count": 44,
   "metadata": {},
   "outputs": [
    {
     "data": {
      "text/plain": [
       "[{'objid': '0804013652458', 'health': 0.7, 'wealth': 0.4728},\n",
       " {'objid': '5840971700979', 'health': 0.7, 'wealth': 0.5397},\n",
       " {'objid': '2797495206916', 'health': 0.7, 'wealth': 0.5662},\n",
       " {'objid': '5586452954582', 'health': 0.7, 'wealth': 0.5392},\n",
       " {'objid': '9329901454713', 'health': 0.7, 'wealth': 0.4938},\n",
       " {'objid': '9561682264646', 'health': 0.7, 'wealth': 0.6407},\n",
       " {'objid': '6031502657352', 'health': 0.7, 'wealth': 0.2995},\n",
       " {'objid': '4809768309289', 'health': 0.7, 'wealth': 0.4912},\n",
       " {'objid': '6429552640412', 'health': 0.7, 'wealth': 0.431},\n",
       " {'objid': '6965718418473', 'health': 0.7, 'wealth': 0.6225},\n",
       " {'objid': '1173164904813', 'health': 0.7, 'wealth': 0.5337},\n",
       " {'objid': '2144284794318', 'health': 0.7, 'wealth': 0.513},\n",
       " {'objid': '0668489712341', 'health': 0.7, 'wealth': 0.5625},\n",
       " {'objid': '8471680871431', 'health': 0.7, 'wealth': 0.4858},\n",
       " {'objid': '8291246620344', 'health': 0.7, 'wealth': 0.367},\n",
       " {'objid': '5707178019607', 'health': 0.7, 'wealth': 0.4838},\n",
       " {'objid': '0966931172387', 'health': 0.7, 'wealth': 0.4555},\n",
       " {'objid': '9982005053460', 'health': 0.7, 'wealth': 0.4915},\n",
       " {'objid': '8366546454190', 'health': 0.7, 'wealth': 0.5873},\n",
       " {'objid': '7819794272459', 'health': 0.7, 'wealth': 0.403}]"
      ]
     },
     "execution_count": 44,
     "metadata": {},
     "output_type": "execute_result"
    }
   ],
   "source": [
    "[p['agent'] for p in parents]"
   ]
  },
  {
   "cell_type": "code",
   "execution_count": 46,
   "metadata": {},
   "outputs": [],
   "source": [
    "dfs = []\n",
    "for p in [p['agent'] for p in parents]:\n",
    "    data = growth.grow_population(c,t, p)\n",
    "    dfs.append(data)"
   ]
  },
  {
   "cell_type": "code",
   "execution_count": 47,
   "metadata": {},
   "outputs": [
    {
     "data": {
      "text/plain": [
       "{'nodes': [{'name': 'Jegongontes Yemayryhia',\n",
       "   'objid': '9112996930579',\n",
       "   'label': 'pop',\n",
       "   'conformity': 0.501,\n",
       "   'literacy': 0.631,\n",
       "   'aggression': 0.403,\n",
       "   'constitution': 0.425,\n",
       "   'health': 0.7,\n",
       "   'isIn': None,\n",
       "   'industry': 0.41400000000000003,\n",
       "   'wealth': 0.5225,\n",
       "   'factionLoyalty': 0.637,\n",
       "   'isIdle': 'true',\n",
       "   'userguid': 'ac5b8081-7ef9-4bce-baac-6d0ea7e1782c',\n",
       "   'id': '9112996930579'},\n",
       "  {'objid': '2908960875305',\n",
       "   'name': 'population growth',\n",
       "   'label': 'event',\n",
       "   'text': 'The population (Jegongontes Yemayry) inhabiting Son has grown to produce the population: Jegongontes Yemayryhia.',\n",
       "   'visibleTo': 'ac5b8081-7ef9-4bce-baac-6d0ea7e1782c',\n",
       "   'time': 13989,\n",
       "   'userguid': 'ac5b8081-7ef9-4bce-baac-6d0ea7e1782c',\n",
       "   'source': 'notebook',\n",
       "   'id': '2908960875305'}],\n",
       " 'edges': [{'node1': '9112996930579',\n",
       "   'node2': '6791071841421',\n",
       "   'label': 'inhabits'},\n",
       "  {'node1': '9112996930579', 'node2': '5373646850758', 'label': 'isOf'},\n",
       "  {'node1': '9112996930579', 'node2': '4107450191617', 'label': 'isIn'},\n",
       "  {'node1': '9112996930579', 'node2': '2908960875305', 'label': 'caused'}]}"
      ]
     },
     "execution_count": 47,
     "metadata": {},
     "output_type": "execute_result"
    }
   ],
   "source": [
    "data"
   ]
  },
  {
   "cell_type": "code",
   "execution_count": 48,
   "metadata": {},
   "outputs": [
    {
     "data": {
      "text/html": [
       "<div>\n",
       "<style scoped>\n",
       "    .dataframe tbody tr th:only-of-type {\n",
       "        vertical-align: middle;\n",
       "    }\n",
       "\n",
       "    .dataframe tbody tr th {\n",
       "        vertical-align: top;\n",
       "    }\n",
       "\n",
       "    .dataframe thead th {\n",
       "        text-align: right;\n",
       "    }\n",
       "</style>\n",
       "<table border=\"1\" class=\"dataframe\">\n",
       "  <thead>\n",
       "    <tr style=\"text-align: right;\">\n",
       "      <th></th>\n",
       "      <th>0</th>\n",
       "      <th>1</th>\n",
       "    </tr>\n",
       "  </thead>\n",
       "  <tbody>\n",
       "    <tr>\n",
       "      <th>0</th>\n",
       "      <td>{'name': 'Tadttartrosia Balwalpin', 'objid': '...</td>\n",
       "      <td>{'objid': '7048518277044', 'name': 'population...</td>\n",
       "    </tr>\n",
       "    <tr>\n",
       "      <th>1</th>\n",
       "      <td>{'name': 'Tadttartrosia Bridlis', 'objid': '58...</td>\n",
       "      <td>{'objid': '3512691701424', 'name': 'population...</td>\n",
       "    </tr>\n",
       "    <tr>\n",
       "      <th>2</th>\n",
       "      <td>{'name': 'Tadttartrosia Koygerva', 'objid': '7...</td>\n",
       "      <td>{'objid': '8621950387977', 'name': 'population...</td>\n",
       "    </tr>\n",
       "    <tr>\n",
       "      <th>3</th>\n",
       "      <td>{'name': 'Jegongontes Yequi', 'objid': '337637...</td>\n",
       "      <td>{'objid': '3534719503579', 'name': 'population...</td>\n",
       "    </tr>\n",
       "    <tr>\n",
       "      <th>4</th>\n",
       "      <td>{'name': 'Jegongontes Vilbo', 'objid': '765259...</td>\n",
       "      <td>{'objid': '3185478274113', 'name': 'population...</td>\n",
       "    </tr>\n",
       "    <tr>\n",
       "      <th>5</th>\n",
       "      <td>{'name': 'Peebat Koysamganmesay', 'objid': '40...</td>\n",
       "      <td>{'objid': '6579067285507', 'name': 'population...</td>\n",
       "    </tr>\n",
       "    <tr>\n",
       "      <th>6</th>\n",
       "      <td>{'name': 'Mosfo Tuhes', 'objid': '468314559353...</td>\n",
       "      <td>{'objid': '3113860578798', 'name': 'population...</td>\n",
       "    </tr>\n",
       "    <tr>\n",
       "      <th>7</th>\n",
       "      <td>{'name': 'Jegongontes Jebil', 'objid': '755578...</td>\n",
       "      <td>{'objid': '4472386620556', 'name': 'population...</td>\n",
       "    </tr>\n",
       "    <tr>\n",
       "      <th>8</th>\n",
       "      <td>{'name': 'Jegongontes Yesernam', 'objid': '459...</td>\n",
       "      <td>{'objid': '6848352203739', 'name': 'population...</td>\n",
       "    </tr>\n",
       "    <tr>\n",
       "      <th>9</th>\n",
       "      <td>{'name': 'Jegongontes Yereine', 'objid': '8374...</td>\n",
       "      <td>{'objid': '3512331476769', 'name': 'population...</td>\n",
       "    </tr>\n",
       "    <tr>\n",
       "      <th>10</th>\n",
       "      <td>{'name': 'Jegongontes Yedebia', 'objid': '6287...</td>\n",
       "      <td>{'objid': '0083144455523', 'name': 'population...</td>\n",
       "    </tr>\n",
       "    <tr>\n",
       "      <th>11</th>\n",
       "      <td>{'name': 'Jegongontes Yeenxi', 'objid': '68658...</td>\n",
       "      <td>{'objid': '4050222612380', 'name': 'population...</td>\n",
       "    </tr>\n",
       "    <tr>\n",
       "      <th>12</th>\n",
       "      <td>{'name': 'Jegongontes Yeraihay', 'objid': '423...</td>\n",
       "      <td>{'objid': '5002678824794', 'name': 'population...</td>\n",
       "    </tr>\n",
       "    <tr>\n",
       "      <th>13</th>\n",
       "      <td>{'name': 'Jegongontes Yemayrin', 'objid': '394...</td>\n",
       "      <td>{'objid': '9057080854470', 'name': 'population...</td>\n",
       "    </tr>\n",
       "    <tr>\n",
       "      <th>14</th>\n",
       "      <td>{'name': 'Jegongontes Yehenhen', 'objid': '173...</td>\n",
       "      <td>{'objid': '9624356436302', 'name': 'population...</td>\n",
       "    </tr>\n",
       "    <tr>\n",
       "      <th>15</th>\n",
       "      <td>{'name': 'Jegongontes Yemaymunmon', 'objid': '...</td>\n",
       "      <td>{'objid': '5074881424331', 'name': 'population...</td>\n",
       "    </tr>\n",
       "    <tr>\n",
       "      <th>16</th>\n",
       "      <td>{'name': 'Jegongontes Yemayonhua', 'objid': '2...</td>\n",
       "      <td>{'objid': '7796299433522', 'name': 'population...</td>\n",
       "    </tr>\n",
       "    <tr>\n",
       "      <th>17</th>\n",
       "      <td>{'name': 'Jegongontes Yemaytasgas', 'objid': '...</td>\n",
       "      <td>{'objid': '0713564168222', 'name': 'population...</td>\n",
       "    </tr>\n",
       "    <tr>\n",
       "      <th>18</th>\n",
       "      <td>{'name': 'Jegongontes Yemayamlin', 'objid': '2...</td>\n",
       "      <td>{'objid': '1375315914591', 'name': 'population...</td>\n",
       "    </tr>\n",
       "    <tr>\n",
       "      <th>19</th>\n",
       "      <td>{'name': 'Jegongontes Yemayryhia', 'objid': '9...</td>\n",
       "      <td>{'objid': '2908960875305', 'name': 'population...</td>\n",
       "    </tr>\n",
       "  </tbody>\n",
       "</table>\n",
       "</div>"
      ],
      "text/plain": [
       "                                                    0  \\\n",
       "0   {'name': 'Tadttartrosia Balwalpin', 'objid': '...   \n",
       "1   {'name': 'Tadttartrosia Bridlis', 'objid': '58...   \n",
       "2   {'name': 'Tadttartrosia Koygerva', 'objid': '7...   \n",
       "3   {'name': 'Jegongontes Yequi', 'objid': '337637...   \n",
       "4   {'name': 'Jegongontes Vilbo', 'objid': '765259...   \n",
       "5   {'name': 'Peebat Koysamganmesay', 'objid': '40...   \n",
       "6   {'name': 'Mosfo Tuhes', 'objid': '468314559353...   \n",
       "7   {'name': 'Jegongontes Jebil', 'objid': '755578...   \n",
       "8   {'name': 'Jegongontes Yesernam', 'objid': '459...   \n",
       "9   {'name': 'Jegongontes Yereine', 'objid': '8374...   \n",
       "10  {'name': 'Jegongontes Yedebia', 'objid': '6287...   \n",
       "11  {'name': 'Jegongontes Yeenxi', 'objid': '68658...   \n",
       "12  {'name': 'Jegongontes Yeraihay', 'objid': '423...   \n",
       "13  {'name': 'Jegongontes Yemayrin', 'objid': '394...   \n",
       "14  {'name': 'Jegongontes Yehenhen', 'objid': '173...   \n",
       "15  {'name': 'Jegongontes Yemaymunmon', 'objid': '...   \n",
       "16  {'name': 'Jegongontes Yemayonhua', 'objid': '2...   \n",
       "17  {'name': 'Jegongontes Yemaytasgas', 'objid': '...   \n",
       "18  {'name': 'Jegongontes Yemayamlin', 'objid': '2...   \n",
       "19  {'name': 'Jegongontes Yemayryhia', 'objid': '9...   \n",
       "\n",
       "                                                    1  \n",
       "0   {'objid': '7048518277044', 'name': 'population...  \n",
       "1   {'objid': '3512691701424', 'name': 'population...  \n",
       "2   {'objid': '8621950387977', 'name': 'population...  \n",
       "3   {'objid': '3534719503579', 'name': 'population...  \n",
       "4   {'objid': '3185478274113', 'name': 'population...  \n",
       "5   {'objid': '6579067285507', 'name': 'population...  \n",
       "6   {'objid': '3113860578798', 'name': 'population...  \n",
       "7   {'objid': '4472386620556', 'name': 'population...  \n",
       "8   {'objid': '6848352203739', 'name': 'population...  \n",
       "9   {'objid': '3512331476769', 'name': 'population...  \n",
       "10  {'objid': '0083144455523', 'name': 'population...  \n",
       "11  {'objid': '4050222612380', 'name': 'population...  \n",
       "12  {'objid': '5002678824794', 'name': 'population...  \n",
       "13  {'objid': '9057080854470', 'name': 'population...  \n",
       "14  {'objid': '9624356436302', 'name': 'population...  \n",
       "15  {'objid': '5074881424331', 'name': 'population...  \n",
       "16  {'objid': '7796299433522', 'name': 'population...  \n",
       "17  {'objid': '0713564168222', 'name': 'population...  \n",
       "18  {'objid': '1375315914591', 'name': 'population...  \n",
       "19  {'objid': '2908960875305', 'name': 'population...  "
      ]
     },
     "execution_count": 48,
     "metadata": {},
     "output_type": "execute_result"
    }
   ],
   "source": [
    "pd.DataFrame([d['nodes'] for d in dfs])"
   ]
  },
  {
   "cell_type": "code",
   "execution_count": null,
   "metadata": {},
   "outputs": [],
   "source": [
    "    "
   ]
  }
 ],
 "metadata": {
  "kernelspec": {
   "display_name": "exoplanets",
   "language": "python",
   "name": "python3"
  },
  "language_info": {
   "codemirror_mode": {
    "name": "ipython",
    "version": 3
   },
   "file_extension": ".py",
   "mimetype": "text/x-python",
   "name": "python",
   "nbconvert_exporter": "python",
   "pygments_lexer": "ipython3",
   "version": "3.8.16"
  },
  "orig_nbformat": 4,
  "vscode": {
   "interpreter": {
    "hash": "625a17269cb94aebb094cbcf5e0e8340f26b69d46569da60e8fc69439048adbf"
   }
  }
 },
 "nbformat": 4,
 "nbformat_minor": 2
}
