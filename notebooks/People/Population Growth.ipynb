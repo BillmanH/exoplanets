{
 "cells": [
  {
   "attachments": {},
   "cell_type": "markdown",
   "metadata": {},
   "source": [
    "## Population growth\n",
    "* Populations that die are deleted, so they don't grow.\n",
    "* However all pops that can grow will, regardless of wheter they are starving or not. \n",
    "* Starving will lower thier health, which will eventually make them unable to grow. \n",
    "\n",
    "Sarving and Death is taken care of elsewhere, so this notebook won't have that filter. \n"
   ]
  },
  {
   "cell_type": "code",
   "execution_count": 1,
   "metadata": {},
   "outputs": [
    {
     "name": "stdout",
     "output_type": "stream",
     "text": [
      "executing local windows deployment\n"
     ]
    }
   ],
   "source": [
    "import sys\n",
    "import numpy as np\n",
    "import pandas as pd\n",
    "\n",
    "# mapping to the modules that make the app\n",
    "sys.path.insert(0, \"../..\")\n",
    "\n",
    "\n",
    "\n",
    "import yaml, ssl, asyncio, pickle, os, ast\n",
    "\n",
    "ssl._create_default_https_context = ssl._create_unverified_context\n",
    "asyncio.set_event_loop_policy(asyncio.WindowsSelectorEventLoopPolicy())\n",
    "\n",
    "import nest_asyncio\n",
    "# this is required for running in a Jupyter Notebook. \n",
    "nest_asyncio.apply()\n",
    "\n",
    "#importing the libraries from the app\n",
    "from app.connectors import cmdb_graph\n",
    "from app.objects import time\n",
    "from app.objects import population, species\n",
    "from app.functions import language, maths\n",
    "\n",
    "c = cmdb_graph.CosmosdbClient()\n"
   ]
  },
  {
   "cell_type": "markdown",
   "metadata": {},
   "source": [
    "Much of the Population growth is handled in scripts inside the Azure Function"
   ]
  },
  {
   "cell_type": "code",
   "execution_count": 2,
   "metadata": {},
   "outputs": [],
   "source": [
    "params = yaml.safe_load(open(os.path.join(os.getenv(\"abspath\"),\"app/configurations/popgrowthconfig.yaml\")))\n",
    "syllables = pickle.load(open(os.path.join(os.getenv(\"abspath\"),\"app/creators/specs/syllables.p\"), \"rb\"))\n",
    "username = 'notebook'"
   ]
  },
  {
   "attachments": {},
   "cell_type": "markdown",
   "metadata": {},
   "source": [
    "Time is updated by the `time` function. It is always running."
   ]
  },
  {
   "cell_type": "code",
   "execution_count": 3,
   "metadata": {},
   "outputs": [
    {
     "data": {
      "text/plain": [
       "< time at: 2024-04-21T18:58:16.417572+00:00 UTU:13989 >"
      ]
     },
     "execution_count": 3,
     "metadata": {},
     "output_type": "execute_result"
    }
   ],
   "source": [
    "t = time.Time(c)\n",
    "t.get_current_UTU()\n",
    "params['currentTime'] = t.params['currentTime']\n",
    "t"
   ]
  },
  {
   "cell_type": "code",
   "execution_count": 4,
   "metadata": {},
   "outputs": [
    {
     "data": {
      "text/plain": [
       "{'pop_health_requirement': 0.6,\n",
       " 'pop_consumes': 2,\n",
       " 'starve_damage': 0.05,\n",
       " 'changing_values': ['conformity',\n",
       "  'literacy',\n",
       "  'aggression',\n",
       "  'constitution',\n",
       "  'wealth',\n",
       "  'factionLoyalty'],\n",
       " 'currentTime': 13989}"
      ]
     },
     "execution_count": 4,
     "metadata": {},
     "output_type": "execute_result"
    }
   ],
   "source": [
    "params"
   ]
  },
  {
   "attachments": {},
   "cell_type": "markdown",
   "metadata": {},
   "source": [
    "For this notebook, setting the `pop_health_requirement` to an arbitrary value just to examine."
   ]
  },
  {
   "cell_type": "code",
   "execution_count": 5,
   "metadata": {},
   "outputs": [],
   "source": [
    "params['pop_health_requirement'] = 0.4"
   ]
  },
  {
   "attachments": {},
   "cell_type": "markdown",
   "metadata": {},
   "source": []
  },
  {
   "cell_type": "code",
   "execution_count": 6,
   "metadata": {},
   "outputs": [
    {
     "data": {
      "text/plain": [
       "['4659716792872',\n",
       " 0.7,\n",
       " 0.651,\n",
       " '9423196100160',\n",
       " 0.7,\n",
       " 0.5328,\n",
       " '4753859535188',\n",
       " 0.7,\n",
       " 0.5143,\n",
       " '3660563754665',\n",
       " 0.7,\n",
       " 0.5828,\n",
       " '2909803569658',\n",
       " 0.7,\n",
       " 0.522,\n",
       " '8603380707717',\n",
       " 0.7,\n",
       " 0.5645,\n",
       " '0253192577182',\n",
       " 0.7,\n",
       " 0.6035,\n",
       " '6648922593970',\n",
       " 0.7,\n",
       " 0.3835,\n",
       " '1977798732964',\n",
       " 0.7,\n",
       " 0.5315,\n",
       " '8156212511459',\n",
       " 0.7,\n",
       " 0.4875,\n",
       " '0804013652458',\n",
       " 0.7,\n",
       " 0.4728,\n",
       " '5840971700979',\n",
       " 0.7,\n",
       " 0.5397,\n",
       " '3276597990265',\n",
       " 0.7,\n",
       " 0.5348,\n",
       " '2797495206916',\n",
       " 0.7,\n",
       " 0.5662]"
      ]
     },
     "execution_count": 6,
     "metadata": {},
     "output_type": "execute_result"
    }
   ],
   "source": [
    "healthy_pops_query = f\"\"\"\n",
    "        g.V().has('label','pop')\n",
    "            .has('health',gt({params.get(\"pop_health_requirement\")})).as('pop')\n",
    "            .values('objid','health','wealth')\n",
    "        \"\"\"\n",
    "\n",
    "c.run_query(healthy_pops_query)\n",
    "c.res"
   ]
  },
  {
   "cell_type": "markdown",
   "metadata": {},
   "source": [
    "chop those results into a dataframe."
   ]
  },
  {
   "cell_type": "code",
   "execution_count": 7,
   "metadata": {},
   "outputs": [
    {
     "data": {
      "text/html": [
       "<div>\n",
       "<style scoped>\n",
       "    .dataframe tbody tr th:only-of-type {\n",
       "        vertical-align: middle;\n",
       "    }\n",
       "\n",
       "    .dataframe tbody tr th {\n",
       "        vertical-align: top;\n",
       "    }\n",
       "\n",
       "    .dataframe thead th {\n",
       "        text-align: right;\n",
       "    }\n",
       "</style>\n",
       "<table border=\"1\" class=\"dataframe\">\n",
       "  <thead>\n",
       "    <tr style=\"text-align: right;\">\n",
       "      <th></th>\n",
       "      <th>objid</th>\n",
       "      <th>health</th>\n",
       "      <th>wealth</th>\n",
       "    </tr>\n",
       "  </thead>\n",
       "  <tbody>\n",
       "    <tr>\n",
       "      <th>0</th>\n",
       "      <td>4659716792872</td>\n",
       "      <td>0.7</td>\n",
       "      <td>0.6510</td>\n",
       "    </tr>\n",
       "    <tr>\n",
       "      <th>1</th>\n",
       "      <td>9423196100160</td>\n",
       "      <td>0.7</td>\n",
       "      <td>0.5328</td>\n",
       "    </tr>\n",
       "    <tr>\n",
       "      <th>2</th>\n",
       "      <td>4753859535188</td>\n",
       "      <td>0.7</td>\n",
       "      <td>0.5143</td>\n",
       "    </tr>\n",
       "    <tr>\n",
       "      <th>3</th>\n",
       "      <td>3660563754665</td>\n",
       "      <td>0.7</td>\n",
       "      <td>0.5828</td>\n",
       "    </tr>\n",
       "    <tr>\n",
       "      <th>4</th>\n",
       "      <td>2909803569658</td>\n",
       "      <td>0.7</td>\n",
       "      <td>0.5220</td>\n",
       "    </tr>\n",
       "    <tr>\n",
       "      <th>5</th>\n",
       "      <td>8603380707717</td>\n",
       "      <td>0.7</td>\n",
       "      <td>0.5645</td>\n",
       "    </tr>\n",
       "    <tr>\n",
       "      <th>6</th>\n",
       "      <td>0253192577182</td>\n",
       "      <td>0.7</td>\n",
       "      <td>0.6035</td>\n",
       "    </tr>\n",
       "    <tr>\n",
       "      <th>7</th>\n",
       "      <td>6648922593970</td>\n",
       "      <td>0.7</td>\n",
       "      <td>0.3835</td>\n",
       "    </tr>\n",
       "    <tr>\n",
       "      <th>8</th>\n",
       "      <td>1977798732964</td>\n",
       "      <td>0.7</td>\n",
       "      <td>0.5315</td>\n",
       "    </tr>\n",
       "    <tr>\n",
       "      <th>9</th>\n",
       "      <td>8156212511459</td>\n",
       "      <td>0.7</td>\n",
       "      <td>0.4875</td>\n",
       "    </tr>\n",
       "    <tr>\n",
       "      <th>10</th>\n",
       "      <td>0804013652458</td>\n",
       "      <td>0.7</td>\n",
       "      <td>0.4728</td>\n",
       "    </tr>\n",
       "    <tr>\n",
       "      <th>11</th>\n",
       "      <td>5840971700979</td>\n",
       "      <td>0.7</td>\n",
       "      <td>0.5397</td>\n",
       "    </tr>\n",
       "    <tr>\n",
       "      <th>12</th>\n",
       "      <td>3276597990265</td>\n",
       "      <td>0.7</td>\n",
       "      <td>0.5348</td>\n",
       "    </tr>\n",
       "    <tr>\n",
       "      <th>13</th>\n",
       "      <td>2797495206916</td>\n",
       "      <td>0.7</td>\n",
       "      <td>0.5662</td>\n",
       "    </tr>\n",
       "  </tbody>\n",
       "</table>\n",
       "</div>"
      ],
      "text/plain": [
       "            objid  health  wealth\n",
       "0   4659716792872     0.7  0.6510\n",
       "1   9423196100160     0.7  0.5328\n",
       "2   4753859535188     0.7  0.5143\n",
       "3   3660563754665     0.7  0.5828\n",
       "4   2909803569658     0.7  0.5220\n",
       "5   8603380707717     0.7  0.5645\n",
       "6   0253192577182     0.7  0.6035\n",
       "7   6648922593970     0.7  0.3835\n",
       "8   1977798732964     0.7  0.5315\n",
       "9   8156212511459     0.7  0.4875\n",
       "10  0804013652458     0.7  0.4728\n",
       "11  5840971700979     0.7  0.5397\n",
       "12  3276597990265     0.7  0.5348\n",
       "13  2797495206916     0.7  0.5662"
      ]
     },
     "execution_count": 7,
     "metadata": {},
     "output_type": "execute_result"
    }
   ],
   "source": [
    "a = np.array(c.res)\n",
    "np.split(a,len(a)/3)\n",
    "pops_df = pd.DataFrame(np.split(a,len(a)/3),columns=['objid','health','wealth'])\n",
    "pops_df[['health','wealth']] = pops_df[['health','wealth']].astype(float)\n",
    "pops_df"
   ]
  },
  {
   "cell_type": "markdown",
   "metadata": {},
   "source": [
    "Add randomness"
   ]
  },
  {
   "cell_type": "code",
   "execution_count": 8,
   "metadata": {},
   "outputs": [
    {
     "data": {
      "text/html": [
       "<div>\n",
       "<style scoped>\n",
       "    .dataframe tbody tr th:only-of-type {\n",
       "        vertical-align: middle;\n",
       "    }\n",
       "\n",
       "    .dataframe tbody tr th {\n",
       "        vertical-align: top;\n",
       "    }\n",
       "\n",
       "    .dataframe thead th {\n",
       "        text-align: right;\n",
       "    }\n",
       "</style>\n",
       "<table border=\"1\" class=\"dataframe\">\n",
       "  <thead>\n",
       "    <tr style=\"text-align: right;\">\n",
       "      <th></th>\n",
       "      <th>objid</th>\n",
       "      <th>health</th>\n",
       "      <th>wealth</th>\n",
       "      <th>roll</th>\n",
       "    </tr>\n",
       "  </thead>\n",
       "  <tbody>\n",
       "    <tr>\n",
       "      <th>0</th>\n",
       "      <td>4659716792872</td>\n",
       "      <td>0.7</td>\n",
       "      <td>0.6510</td>\n",
       "      <td>0.739809</td>\n",
       "    </tr>\n",
       "    <tr>\n",
       "      <th>1</th>\n",
       "      <td>9423196100160</td>\n",
       "      <td>0.7</td>\n",
       "      <td>0.5328</td>\n",
       "      <td>0.053943</td>\n",
       "    </tr>\n",
       "    <tr>\n",
       "      <th>2</th>\n",
       "      <td>4753859535188</td>\n",
       "      <td>0.7</td>\n",
       "      <td>0.5143</td>\n",
       "      <td>0.788845</td>\n",
       "    </tr>\n",
       "    <tr>\n",
       "      <th>3</th>\n",
       "      <td>3660563754665</td>\n",
       "      <td>0.7</td>\n",
       "      <td>0.5828</td>\n",
       "      <td>0.391167</td>\n",
       "    </tr>\n",
       "    <tr>\n",
       "      <th>4</th>\n",
       "      <td>2909803569658</td>\n",
       "      <td>0.7</td>\n",
       "      <td>0.5220</td>\n",
       "      <td>0.771922</td>\n",
       "    </tr>\n",
       "    <tr>\n",
       "      <th>5</th>\n",
       "      <td>8603380707717</td>\n",
       "      <td>0.7</td>\n",
       "      <td>0.5645</td>\n",
       "      <td>0.203556</td>\n",
       "    </tr>\n",
       "    <tr>\n",
       "      <th>6</th>\n",
       "      <td>0253192577182</td>\n",
       "      <td>0.7</td>\n",
       "      <td>0.6035</td>\n",
       "      <td>0.137790</td>\n",
       "    </tr>\n",
       "    <tr>\n",
       "      <th>7</th>\n",
       "      <td>6648922593970</td>\n",
       "      <td>0.7</td>\n",
       "      <td>0.3835</td>\n",
       "      <td>0.717699</td>\n",
       "    </tr>\n",
       "    <tr>\n",
       "      <th>8</th>\n",
       "      <td>1977798732964</td>\n",
       "      <td>0.7</td>\n",
       "      <td>0.5315</td>\n",
       "      <td>0.342138</td>\n",
       "    </tr>\n",
       "    <tr>\n",
       "      <th>9</th>\n",
       "      <td>8156212511459</td>\n",
       "      <td>0.7</td>\n",
       "      <td>0.4875</td>\n",
       "      <td>0.867895</td>\n",
       "    </tr>\n",
       "    <tr>\n",
       "      <th>10</th>\n",
       "      <td>0804013652458</td>\n",
       "      <td>0.7</td>\n",
       "      <td>0.4728</td>\n",
       "      <td>0.515411</td>\n",
       "    </tr>\n",
       "    <tr>\n",
       "      <th>11</th>\n",
       "      <td>5840971700979</td>\n",
       "      <td>0.7</td>\n",
       "      <td>0.5397</td>\n",
       "      <td>0.881495</td>\n",
       "    </tr>\n",
       "    <tr>\n",
       "      <th>12</th>\n",
       "      <td>3276597990265</td>\n",
       "      <td>0.7</td>\n",
       "      <td>0.5348</td>\n",
       "      <td>0.189513</td>\n",
       "    </tr>\n",
       "    <tr>\n",
       "      <th>13</th>\n",
       "      <td>2797495206916</td>\n",
       "      <td>0.7</td>\n",
       "      <td>0.5662</td>\n",
       "      <td>0.073219</td>\n",
       "    </tr>\n",
       "  </tbody>\n",
       "</table>\n",
       "</div>"
      ],
      "text/plain": [
       "            objid  health  wealth      roll\n",
       "0   4659716792872     0.7  0.6510  0.739809\n",
       "1   9423196100160     0.7  0.5328  0.053943\n",
       "2   4753859535188     0.7  0.5143  0.788845\n",
       "3   3660563754665     0.7  0.5828  0.391167\n",
       "4   2909803569658     0.7  0.5220  0.771922\n",
       "5   8603380707717     0.7  0.5645  0.203556\n",
       "6   0253192577182     0.7  0.6035  0.137790\n",
       "7   6648922593970     0.7  0.3835  0.717699\n",
       "8   1977798732964     0.7  0.5315  0.342138\n",
       "9   8156212511459     0.7  0.4875  0.867895\n",
       "10  0804013652458     0.7  0.4728  0.515411\n",
       "11  5840971700979     0.7  0.5397  0.881495\n",
       "12  3276597990265     0.7  0.5348  0.189513\n",
       "13  2797495206916     0.7  0.5662  0.073219"
      ]
     },
     "execution_count": 8,
     "metadata": {},
     "output_type": "execute_result"
    }
   ],
   "source": [
    "pops_df['roll'] = pops_df['objid'].apply(lambda x: np.random.random())\n",
    "pops_df"
   ]
  },
  {
   "cell_type": "markdown",
   "metadata": {},
   "source": [
    "select the populations that will grow. "
   ]
  },
  {
   "cell_type": "code",
   "execution_count": 9,
   "metadata": {},
   "outputs": [
    {
     "data": {
      "text/html": [
       "<div>\n",
       "<style scoped>\n",
       "    .dataframe tbody tr th:only-of-type {\n",
       "        vertical-align: middle;\n",
       "    }\n",
       "\n",
       "    .dataframe tbody tr th {\n",
       "        vertical-align: top;\n",
       "    }\n",
       "\n",
       "    .dataframe thead th {\n",
       "        text-align: right;\n",
       "    }\n",
       "</style>\n",
       "<table border=\"1\" class=\"dataframe\">\n",
       "  <thead>\n",
       "    <tr style=\"text-align: right;\">\n",
       "      <th></th>\n",
       "      <th>objid</th>\n",
       "      <th>health</th>\n",
       "      <th>wealth</th>\n",
       "      <th>roll</th>\n",
       "      <th>grow</th>\n",
       "    </tr>\n",
       "  </thead>\n",
       "  <tbody>\n",
       "    <tr>\n",
       "      <th>0</th>\n",
       "      <td>4659716792872</td>\n",
       "      <td>0.7</td>\n",
       "      <td>0.6510</td>\n",
       "      <td>0.739809</td>\n",
       "      <td>False</td>\n",
       "    </tr>\n",
       "    <tr>\n",
       "      <th>1</th>\n",
       "      <td>9423196100160</td>\n",
       "      <td>0.7</td>\n",
       "      <td>0.5328</td>\n",
       "      <td>0.053943</td>\n",
       "      <td>True</td>\n",
       "    </tr>\n",
       "    <tr>\n",
       "      <th>2</th>\n",
       "      <td>4753859535188</td>\n",
       "      <td>0.7</td>\n",
       "      <td>0.5143</td>\n",
       "      <td>0.788845</td>\n",
       "      <td>False</td>\n",
       "    </tr>\n",
       "    <tr>\n",
       "      <th>3</th>\n",
       "      <td>3660563754665</td>\n",
       "      <td>0.7</td>\n",
       "      <td>0.5828</td>\n",
       "      <td>0.391167</td>\n",
       "      <td>True</td>\n",
       "    </tr>\n",
       "    <tr>\n",
       "      <th>4</th>\n",
       "      <td>2909803569658</td>\n",
       "      <td>0.7</td>\n",
       "      <td>0.5220</td>\n",
       "      <td>0.771922</td>\n",
       "      <td>False</td>\n",
       "    </tr>\n",
       "    <tr>\n",
       "      <th>5</th>\n",
       "      <td>8603380707717</td>\n",
       "      <td>0.7</td>\n",
       "      <td>0.5645</td>\n",
       "      <td>0.203556</td>\n",
       "      <td>True</td>\n",
       "    </tr>\n",
       "    <tr>\n",
       "      <th>6</th>\n",
       "      <td>0253192577182</td>\n",
       "      <td>0.7</td>\n",
       "      <td>0.6035</td>\n",
       "      <td>0.137790</td>\n",
       "      <td>True</td>\n",
       "    </tr>\n",
       "    <tr>\n",
       "      <th>7</th>\n",
       "      <td>6648922593970</td>\n",
       "      <td>0.7</td>\n",
       "      <td>0.3835</td>\n",
       "      <td>0.717699</td>\n",
       "      <td>False</td>\n",
       "    </tr>\n",
       "    <tr>\n",
       "      <th>8</th>\n",
       "      <td>1977798732964</td>\n",
       "      <td>0.7</td>\n",
       "      <td>0.5315</td>\n",
       "      <td>0.342138</td>\n",
       "      <td>True</td>\n",
       "    </tr>\n",
       "    <tr>\n",
       "      <th>9</th>\n",
       "      <td>8156212511459</td>\n",
       "      <td>0.7</td>\n",
       "      <td>0.4875</td>\n",
       "      <td>0.867895</td>\n",
       "      <td>False</td>\n",
       "    </tr>\n",
       "    <tr>\n",
       "      <th>10</th>\n",
       "      <td>0804013652458</td>\n",
       "      <td>0.7</td>\n",
       "      <td>0.4728</td>\n",
       "      <td>0.515411</td>\n",
       "      <td>True</td>\n",
       "    </tr>\n",
       "    <tr>\n",
       "      <th>11</th>\n",
       "      <td>5840971700979</td>\n",
       "      <td>0.7</td>\n",
       "      <td>0.5397</td>\n",
       "      <td>0.881495</td>\n",
       "      <td>False</td>\n",
       "    </tr>\n",
       "    <tr>\n",
       "      <th>12</th>\n",
       "      <td>3276597990265</td>\n",
       "      <td>0.7</td>\n",
       "      <td>0.5348</td>\n",
       "      <td>0.189513</td>\n",
       "      <td>True</td>\n",
       "    </tr>\n",
       "    <tr>\n",
       "      <th>13</th>\n",
       "      <td>2797495206916</td>\n",
       "      <td>0.7</td>\n",
       "      <td>0.5662</td>\n",
       "      <td>0.073219</td>\n",
       "      <td>True</td>\n",
       "    </tr>\n",
       "  </tbody>\n",
       "</table>\n",
       "</div>"
      ],
      "text/plain": [
       "            objid  health  wealth      roll   grow\n",
       "0   4659716792872     0.7  0.6510  0.739809  False\n",
       "1   9423196100160     0.7  0.5328  0.053943   True\n",
       "2   4753859535188     0.7  0.5143  0.788845  False\n",
       "3   3660563754665     0.7  0.5828  0.391167   True\n",
       "4   2909803569658     0.7  0.5220  0.771922  False\n",
       "5   8603380707717     0.7  0.5645  0.203556   True\n",
       "6   0253192577182     0.7  0.6035  0.137790   True\n",
       "7   6648922593970     0.7  0.3835  0.717699  False\n",
       "8   1977798732964     0.7  0.5315  0.342138   True\n",
       "9   8156212511459     0.7  0.4875  0.867895  False\n",
       "10  0804013652458     0.7  0.4728  0.515411   True\n",
       "11  5840971700979     0.7  0.5397  0.881495  False\n",
       "12  3276597990265     0.7  0.5348  0.189513   True\n",
       "13  2797495206916     0.7  0.5662  0.073219   True"
      ]
     },
     "execution_count": 9,
     "metadata": {},
     "output_type": "execute_result"
    }
   ],
   "source": [
    "pops_df['grow'] = pops_df[['wealth','health']].T.mean() >= pops_df['roll']\n",
    "pops_df"
   ]
  },
  {
   "cell_type": "code",
   "execution_count": 10,
   "metadata": {},
   "outputs": [
    {
     "data": {
      "text/html": [
       "<div>\n",
       "<style scoped>\n",
       "    .dataframe tbody tr th:only-of-type {\n",
       "        vertical-align: middle;\n",
       "    }\n",
       "\n",
       "    .dataframe tbody tr th {\n",
       "        vertical-align: top;\n",
       "    }\n",
       "\n",
       "    .dataframe thead th {\n",
       "        text-align: right;\n",
       "    }\n",
       "</style>\n",
       "<table border=\"1\" class=\"dataframe\">\n",
       "  <thead>\n",
       "    <tr style=\"text-align: right;\">\n",
       "      <th></th>\n",
       "      <th>objid</th>\n",
       "      <th>health</th>\n",
       "      <th>wealth</th>\n",
       "    </tr>\n",
       "  </thead>\n",
       "  <tbody>\n",
       "    <tr>\n",
       "      <th>0</th>\n",
       "      <td>9423196100160</td>\n",
       "      <td>0.7</td>\n",
       "      <td>0.5328</td>\n",
       "    </tr>\n",
       "    <tr>\n",
       "      <th>1</th>\n",
       "      <td>3660563754665</td>\n",
       "      <td>0.7</td>\n",
       "      <td>0.5828</td>\n",
       "    </tr>\n",
       "    <tr>\n",
       "      <th>2</th>\n",
       "      <td>8603380707717</td>\n",
       "      <td>0.7</td>\n",
       "      <td>0.5645</td>\n",
       "    </tr>\n",
       "    <tr>\n",
       "      <th>3</th>\n",
       "      <td>0253192577182</td>\n",
       "      <td>0.7</td>\n",
       "      <td>0.6035</td>\n",
       "    </tr>\n",
       "    <tr>\n",
       "      <th>4</th>\n",
       "      <td>1977798732964</td>\n",
       "      <td>0.7</td>\n",
       "      <td>0.5315</td>\n",
       "    </tr>\n",
       "    <tr>\n",
       "      <th>5</th>\n",
       "      <td>0804013652458</td>\n",
       "      <td>0.7</td>\n",
       "      <td>0.4728</td>\n",
       "    </tr>\n",
       "    <tr>\n",
       "      <th>6</th>\n",
       "      <td>3276597990265</td>\n",
       "      <td>0.7</td>\n",
       "      <td>0.5348</td>\n",
       "    </tr>\n",
       "    <tr>\n",
       "      <th>7</th>\n",
       "      <td>2797495206916</td>\n",
       "      <td>0.7</td>\n",
       "      <td>0.5662</td>\n",
       "    </tr>\n",
       "  </tbody>\n",
       "</table>\n",
       "</div>"
      ],
      "text/plain": [
       "           objid  health  wealth\n",
       "0  9423196100160     0.7  0.5328\n",
       "1  3660563754665     0.7  0.5828\n",
       "2  8603380707717     0.7  0.5645\n",
       "3  0253192577182     0.7  0.6035\n",
       "4  1977798732964     0.7  0.5315\n",
       "5  0804013652458     0.7  0.4728\n",
       "6  3276597990265     0.7  0.5348\n",
       "7  2797495206916     0.7  0.5662"
      ]
     },
     "execution_count": 10,
     "metadata": {},
     "output_type": "execute_result"
    }
   ],
   "source": [
    "reproducing_pops = pops_df[pops_df['grow']].drop(['roll','grow'],axis=1).reset_index(drop=True)\n",
    "reproducing_pops"
   ]
  },
  {
   "cell_type": "markdown",
   "metadata": {},
   "source": [
    "Now that we have the list of reproducing pops, we can generate new species from them. \n"
   ]
  },
  {
   "cell_type": "code",
   "execution_count": 11,
   "metadata": {},
   "outputs": [
    {
     "data": {
      "text/plain": [
       "{'objid': '3660563754665', 'health': 0.7, 'wealth': 0.5828}"
      ]
     },
     "execution_count": 11,
     "metadata": {},
     "output_type": "execute_result"
    }
   ],
   "source": [
    "parent_pop = reproducing_pops.sample().to_dict(orient='records')[0]\n",
    "parent_pop"
   ]
  },
  {
   "cell_type": "markdown",
   "metadata": {},
   "source": [
    "Note, there are a specific list of edges that a child note must have. "
   ]
  },
  {
   "cell_type": "code",
   "execution_count": 12,
   "metadata": {},
   "outputs": [
    {
     "data": {
      "text/plain": [
       "['isIn', 'isOf', 'inhabits']"
      ]
     },
     "execution_count": 12,
     "metadata": {},
     "output_type": "execute_result"
    }
   ],
   "source": [
    "query_child_must_have = f\"\"\"\n",
    "        g.V().has('objid','{parent_pop[\"objid\"]}')\n",
    "            .outE().values('label','inVLabel','outVLabel')\n",
    "        \"\"\"\n",
    "\n",
    "\n",
    "c.run_query(query_child_must_have)\n",
    "required_edges = c.res\n",
    "required_edges"
   ]
  },
  {
   "cell_type": "markdown",
   "metadata": {},
   "source": [
    "* 'isOf' - The Species\n",
    "* 'inhabits' - planet or vessal that it is in\n",
    "* 'childOf' - It's parent pop\n",
    "* 'isIn' - The faction that it is in. "
   ]
  },
  {
   "cell_type": "code",
   "execution_count": 13,
   "metadata": {},
   "outputs": [
    {
     "data": {
      "text/plain": [
       "[{'labels': [[], ['pop', 'location', 'species', 'faction']],\n",
       "  'objects': [[{'objid': ['3660563754665'],\n",
       "     'name': ['Luling Pegashia'],\n",
       "     'conformity': [0.491],\n",
       "     'literacy': [0.604],\n",
       "     'aggression': [0.625],\n",
       "     'constitution': [0.498],\n",
       "     'health': [0.7],\n",
       "     'isIn': ['0697488714945'],\n",
       "     'industry': [0.5615],\n",
       "     'wealth': [0.5828],\n",
       "     'factionLoyalty': [0.538],\n",
       "     'isIdle': ['true'],\n",
       "     'userguid': ['ac5b8081-7ef9-4bce-baac-6d0ea7e1782c'],\n",
       "     'objtype': ['pop']}],\n",
       "   [{'name': ['Sar'],\n",
       "     'class': ['terrestrial'],\n",
       "     'objid': ['6430884923575'],\n",
       "     'radius': [0.508],\n",
       "     'mass': [0.967],\n",
       "     'orbitsDistance': [0.813],\n",
       "     'orbitsId': ['6701681243146'],\n",
       "     'orbitsName': ['Barmasgranmi'],\n",
       "     'isSupportsLife': ['true'],\n",
       "     'isPopulated': ['true'],\n",
       "     'isHomeworld': ['true'],\n",
       "     'userguid': ['ac5b8081-7ef9-4bce-baac-6d0ea7e1782c'],\n",
       "     'objtype': ['planet']},\n",
       "    {'name': ['Le'],\n",
       "     'objid': ['4284334697626'],\n",
       "     'consumes': ['organics'],\n",
       "     'effuses': ['organic waste,plastics'],\n",
       "     'conformity': ['0.5'],\n",
       "     'aggression': ['0.5'],\n",
       "     'literacy': ['0.5'],\n",
       "     'constitution': ['0.5'],\n",
       "     'userguid': ['ac5b8081-7ef9-4bce-baac-6d0ea7e1782c'],\n",
       "     'objtype': ['species']},\n",
       "    {'name': ['Luling'],\n",
       "     'objid': ['0697488714945'],\n",
       "     'lat': [-0.096],\n",
       "     'long': [0.0],\n",
       "     'userguid': ['ac5b8081-7ef9-4bce-baac-6d0ea7e1782c'],\n",
       "     'objtype': ['faction']}]]}]"
      ]
     },
     "execution_count": 13,
     "metadata": {},
     "output_type": "execute_result"
    }
   ],
   "source": [
    "query_pop_species_faction = f\"\"\"\n",
    "        g.V().has('objid','{parent_pop[\"objid\"]}')\n",
    "            .local(\n",
    "                union(\n",
    "                    out('inhabits').as('location'),\n",
    "                    out('isOf').as('species'),\n",
    "                    out('isIn').as('faction')\n",
    "                    )\n",
    "                    .fold()).as('pop','location','species','faction')\n",
    "                .path()\n",
    "                .by(unfold().valueMap().fold())\n",
    "        \"\"\"\n",
    "\n",
    "\n",
    "c.run_query(query_pop_species_faction)\n",
    "c.res"
   ]
  },
  {
   "cell_type": "code",
   "execution_count": 14,
   "metadata": {},
   "outputs": [
    {
     "data": {
      "text/plain": [
       "{'objid': '3660563754665',\n",
       " 'name': 'Luling Pegashia',\n",
       " 'conformity': 0.491,\n",
       " 'literacy': 0.604,\n",
       " 'aggression': 0.625,\n",
       " 'constitution': 0.498,\n",
       " 'health': 0.7,\n",
       " 'isIn': '0697488714945',\n",
       " 'industry': 0.5615,\n",
       " 'wealth': 0.5828,\n",
       " 'factionLoyalty': 0.538,\n",
       " 'isIdle': 'true',\n",
       " 'userguid': 'ac5b8081-7ef9-4bce-baac-6d0ea7e1782c',\n",
       " 'objtype': 'pop',\n",
       " 'id': '3660563754665'}"
      ]
     },
     "execution_count": 14,
     "metadata": {},
     "output_type": "execute_result"
    }
   ],
   "source": [
    "pop_dict = c.clean_node(c.res[0]['objects'][0][0])\n",
    "pop_dict"
   ]
  },
  {
   "cell_type": "code",
   "execution_count": 15,
   "metadata": {},
   "outputs": [
    {
     "data": {
      "text/plain": [
       "{'name': 'Sar',\n",
       " 'class': 'terrestrial',\n",
       " 'objid': '6430884923575',\n",
       " 'radius': 0.508,\n",
       " 'mass': 0.967,\n",
       " 'orbitsDistance': 0.813,\n",
       " 'orbitsId': '6701681243146',\n",
       " 'orbitsName': 'Barmasgranmi',\n",
       " 'isSupportsLife': 'true',\n",
       " 'isPopulated': 'true',\n",
       " 'isHomeworld': 'true',\n",
       " 'userguid': 'ac5b8081-7ef9-4bce-baac-6d0ea7e1782c',\n",
       " 'objtype': 'planet',\n",
       " 'id': '6430884923575'}"
      ]
     },
     "execution_count": 15,
     "metadata": {},
     "output_type": "execute_result"
    }
   ],
   "source": [
    "loc_dict = c.clean_node(c.res[0]['objects'][1][0])\n",
    "loc_dict"
   ]
  },
  {
   "cell_type": "code",
   "execution_count": 16,
   "metadata": {},
   "outputs": [
    {
     "data": {
      "text/plain": [
       "{'name': 'Le',\n",
       " 'objid': '4284334697626',\n",
       " 'consumes': 'organics',\n",
       " 'effuses': 'organic waste,plastics',\n",
       " 'conformity': '0.5',\n",
       " 'aggression': '0.5',\n",
       " 'literacy': '0.5',\n",
       " 'constitution': '0.5',\n",
       " 'userguid': 'ac5b8081-7ef9-4bce-baac-6d0ea7e1782c',\n",
       " 'objtype': 'species',\n",
       " 'id': '4284334697626'}"
      ]
     },
     "execution_count": 16,
     "metadata": {},
     "output_type": "execute_result"
    }
   ],
   "source": [
    "sp_dict = c.clean_node(c.res[0]['objects'][1][1])\n",
    "sp_dict"
   ]
  },
  {
   "cell_type": "code",
   "execution_count": 17,
   "metadata": {},
   "outputs": [
    {
     "data": {
      "text/plain": [
       "{'name': 'Luling',\n",
       " 'objid': '0697488714945',\n",
       " 'lat': -0.096,\n",
       " 'long': 0.0,\n",
       " 'userguid': 'ac5b8081-7ef9-4bce-baac-6d0ea7e1782c',\n",
       " 'objtype': 'faction',\n",
       " 'id': '0697488714945'}"
      ]
     },
     "execution_count": 17,
     "metadata": {},
     "output_type": "execute_result"
    }
   ],
   "source": [
    "fact_dict = c.clean_node(c.res[0]['objects'][1][2])\n",
    "fact_dict"
   ]
  },
  {
   "cell_type": "markdown",
   "metadata": {},
   "source": [
    "Note that the formatting (created by the structure of the query is)\n",
    "```\n",
    "[\n",
    "    [pop],\n",
    "    [species,faction]\n",
    "]\n",
    "```"
   ]
  },
  {
   "cell_type": "markdown",
   "metadata": {},
   "source": [
    "Going to create species objects for the populations that will reproduce"
   ]
  },
  {
   "cell_type": "code",
   "execution_count": 18,
   "metadata": {},
   "outputs": [
    {
     "data": {
      "text/plain": [
       "<species: None; 4284334697626; Le>"
      ]
     },
     "execution_count": 18,
     "metadata": {},
     "output_type": "execute_result"
    }
   ],
   "source": [
    "sp = species.Species(sp_dict)\n",
    "sp"
   ]
  },
  {
   "cell_type": "markdown",
   "metadata": {},
   "source": [
    "Loading in the parent attributes as defaults"
   ]
  },
  {
   "cell_type": "code",
   "execution_count": 19,
   "metadata": {},
   "outputs": [],
   "source": [
    "sp.config['defaults'] = pop_dict"
   ]
  },
  {
   "cell_type": "code",
   "execution_count": 20,
   "metadata": {},
   "outputs": [
    {
     "data": {
      "text/plain": [
       "{'name': 'Le',\n",
       " 'objid': '4284334697626',\n",
       " 'consumes': 'organics',\n",
       " 'effuses': 'organic waste,plastics',\n",
       " 'conformity': '0.5',\n",
       " 'aggression': '0.5',\n",
       " 'literacy': '0.5',\n",
       " 'constitution': '0.5',\n",
       " 'userguid': 'ac5b8081-7ef9-4bce-baac-6d0ea7e1782c',\n",
       " 'objtype': 'species',\n",
       " 'id': '4284334697626',\n",
       " 'defaults': {'objid': '3660563754665',\n",
       "  'name': 'Luling Pegashia',\n",
       "  'conformity': 0.491,\n",
       "  'literacy': 0.604,\n",
       "  'aggression': 0.625,\n",
       "  'constitution': 0.498,\n",
       "  'health': 0.7,\n",
       "  'isIn': '0697488714945',\n",
       "  'industry': 0.5615,\n",
       "  'wealth': 0.5828,\n",
       "  'factionLoyalty': 0.538,\n",
       "  'isIdle': 'true',\n",
       "  'userguid': 'ac5b8081-7ef9-4bce-baac-6d0ea7e1782c',\n",
       "  'objtype': 'pop',\n",
       "  'id': '3660563754665'}}"
      ]
     },
     "execution_count": 20,
     "metadata": {},
     "output_type": "execute_result"
    }
   ],
   "source": [
    "sp.config"
   ]
  },
  {
   "cell_type": "code",
   "execution_count": 21,
   "metadata": {},
   "outputs": [
    {
     "data": {
      "text/plain": [
       "<pop: pop; 3650739535522; Luling Pegashiaen>"
      ]
     },
     "execution_count": 21,
     "metadata": {},
     "output_type": "execute_result"
    }
   ],
   "source": [
    "child = population.Pop(sp)\n",
    "child.name = sp.config['defaults']['name']+language.make_word(1).lower()\n",
    "child"
   ]
  },
  {
   "cell_type": "markdown",
   "metadata": {},
   "source": [
    "Note that the child must have a userguid"
   ]
  },
  {
   "cell_type": "code",
   "execution_count": 22,
   "metadata": {},
   "outputs": [
    {
     "data": {
      "text/plain": [
       "{'name': 'Luling Pegashiaen',\n",
       " 'objid': '3650739535522',\n",
       " 'label': 'pop',\n",
       " 'conformity': 0.615,\n",
       " 'literacy': 0.486,\n",
       " 'aggression': 0.441,\n",
       " 'constitution': 0.534,\n",
       " 'health': 0.7,\n",
       " 'isIn': None,\n",
       " 'industry': 0.48750000000000004,\n",
       " 'wealth': 0.48675,\n",
       " 'factionLoyalty': 0.542,\n",
       " 'isIdle': True}"
      ]
     },
     "execution_count": 22,
     "metadata": {},
     "output_type": "execute_result"
    }
   ],
   "source": [
    "child.get_data()"
   ]
  },
  {
   "cell_type": "markdown",
   "metadata": {},
   "source": [
    "Now that I have the child population, I can check that they have the needed edges. "
   ]
  },
  {
   "cell_type": "code",
   "execution_count": 23,
   "metadata": {},
   "outputs": [
    {
     "data": {
      "text/plain": [
       "['isIn', 'isOf', 'inhabits']"
      ]
     },
     "execution_count": 23,
     "metadata": {},
     "output_type": "execute_result"
    }
   ],
   "source": [
    "required_edges"
   ]
  },
  {
   "cell_type": "code",
   "execution_count": 24,
   "metadata": {},
   "outputs": [
    {
     "data": {
      "text/plain": [
       "{'node1': '3650739535522', 'node2': '3660563754665', 'label': 'childOf'}"
      ]
     },
     "execution_count": 24,
     "metadata": {},
     "output_type": "execute_result"
    }
   ],
   "source": [
    "child.childOf"
   ]
  },
  {
   "cell_type": "code",
   "execution_count": 25,
   "metadata": {},
   "outputs": [
    {
     "data": {
      "text/plain": [
       "{'node1': '3650739535522', 'node2': '4284334697626', 'label': 'isOf'}"
      ]
     },
     "execution_count": 25,
     "metadata": {},
     "output_type": "execute_result"
    }
   ],
   "source": [
    "child.isOfSpecies"
   ]
  },
  {
   "cell_type": "code",
   "execution_count": 26,
   "metadata": {},
   "outputs": [
    {
     "data": {
      "text/plain": [
       "{'node1': '3650739535522', 'node2': '0697488714945', 'label': 'isIn'}"
      ]
     },
     "execution_count": 26,
     "metadata": {},
     "output_type": "execute_result"
    }
   ],
   "source": [
    "isIn_edge = child.get_isInFaction()\n",
    "isIn_edge['node2'] = fact_dict['objid']\n",
    "isIn_edge"
   ]
  },
  {
   "cell_type": "code",
   "execution_count": 27,
   "metadata": {},
   "outputs": [
    {
     "data": {
      "text/plain": [
       "{'node1': '3650739535522', 'node2': '6430884923575', 'label': 'inhabits'}"
      ]
     },
     "execution_count": 27,
     "metadata": {},
     "output_type": "execute_result"
    }
   ],
   "source": [
    "inhabits_edge = {'node1': child.objid, 'node2': loc_dict['objid'], 'label': 'inhabits'}\n",
    "inhabits_edge"
   ]
  },
  {
   "cell_type": "code",
   "execution_count": 28,
   "metadata": {},
   "outputs": [
    {
     "data": {
      "text/html": [
       "<div>\n",
       "<style scoped>\n",
       "    .dataframe tbody tr th:only-of-type {\n",
       "        vertical-align: middle;\n",
       "    }\n",
       "\n",
       "    .dataframe tbody tr th {\n",
       "        vertical-align: top;\n",
       "    }\n",
       "\n",
       "    .dataframe thead th {\n",
       "        text-align: right;\n",
       "    }\n",
       "</style>\n",
       "<table border=\"1\" class=\"dataframe\">\n",
       "  <thead>\n",
       "    <tr style=\"text-align: right;\">\n",
       "      <th></th>\n",
       "      <th>node1</th>\n",
       "      <th>node2</th>\n",
       "      <th>label</th>\n",
       "    </tr>\n",
       "  </thead>\n",
       "  <tbody>\n",
       "    <tr>\n",
       "      <th>0</th>\n",
       "      <td>3650739535522</td>\n",
       "      <td>3660563754665</td>\n",
       "      <td>childOf</td>\n",
       "    </tr>\n",
       "    <tr>\n",
       "      <th>1</th>\n",
       "      <td>3650739535522</td>\n",
       "      <td>4284334697626</td>\n",
       "      <td>isOf</td>\n",
       "    </tr>\n",
       "    <tr>\n",
       "      <th>2</th>\n",
       "      <td>3650739535522</td>\n",
       "      <td>0697488714945</td>\n",
       "      <td>isIn</td>\n",
       "    </tr>\n",
       "    <tr>\n",
       "      <th>3</th>\n",
       "      <td>3650739535522</td>\n",
       "      <td>6430884923575</td>\n",
       "      <td>inhabits</td>\n",
       "    </tr>\n",
       "  </tbody>\n",
       "</table>\n",
       "</div>"
      ],
      "text/plain": [
       "           node1          node2     label\n",
       "0  3650739535522  3660563754665   childOf\n",
       "1  3650739535522  4284334697626      isOf\n",
       "2  3650739535522  0697488714945      isIn\n",
       "3  3650739535522  6430884923575  inhabits"
      ]
     },
     "execution_count": 28,
     "metadata": {},
     "output_type": "execute_result"
    }
   ],
   "source": [
    "pd.DataFrame([child.childOf,\n",
    "              child.isOfSpecies,\n",
    "              isIn_edge,\n",
    "              inhabits_edge])"
   ]
  },
  {
   "cell_type": "markdown",
   "metadata": {},
   "source": [
    "## Building the uploaded data"
   ]
  },
  {
   "cell_type": "code",
   "execution_count": 29,
   "metadata": {},
   "outputs": [
    {
     "data": {
      "text/plain": [
       "{'name': 'Luling Pegashiaen',\n",
       " 'objid': '3650739535522',\n",
       " 'label': 'pop',\n",
       " 'conformity': 0.615,\n",
       " 'literacy': 0.486,\n",
       " 'aggression': 0.441,\n",
       " 'constitution': 0.534,\n",
       " 'health': 0.7,\n",
       " 'isIn': None,\n",
       " 'industry': 0.48750000000000004,\n",
       " 'wealth': 0.48675,\n",
       " 'factionLoyalty': 0.542,\n",
       " 'isIdle': True,\n",
       " 'userguid': 'ac5b8081-7ef9-4bce-baac-6d0ea7e1782c'}"
      ]
     },
     "execution_count": 29,
     "metadata": {},
     "output_type": "execute_result"
    }
   ],
   "source": [
    "child_data = child.get_data()\n",
    "child_data['userguid'] = pop_dict['userguid'] \n",
    "child_data"
   ]
  },
  {
   "cell_type": "code",
   "execution_count": 30,
   "metadata": {},
   "outputs": [
    {
     "data": {
      "text/plain": [
       "{'objid': '7255912950476',\n",
       " 'name': 'population growth',\n",
       " 'label': 'event',\n",
       " 'text': 'The population (Luling Pegashia) inhabiting Sar has grown to produce the population: Luling Pegashiaen.',\n",
       " 'visibleTo': 'ac5b8081-7ef9-4bce-baac-6d0ea7e1782c',\n",
       " 'time': 13989,\n",
       " 'userguid': 'ac5b8081-7ef9-4bce-baac-6d0ea7e1782c',\n",
       " 'source': 'notebook'}"
      ]
     },
     "execution_count": 30,
     "metadata": {},
     "output_type": "execute_result"
    }
   ],
   "source": [
    "def population_growth_event(t,parent,location,child):\n",
    "    node = {\n",
    "        'objid':maths.uuid(),\n",
    "        'name':'population growth',\n",
    "        'label':'event',\n",
    "        'text': f\"The population ({parent['name']}) inhabiting {location['name']} has grown to produce the population: {child.name}.\",\n",
    "        'visibleTo':parent['userguid'],\n",
    "        'time':t.params['currentTime'],\n",
    "        'userguid':parent['userguid'],\n",
    "        'source':'notebook'\n",
    "    }\n",
    "    return node\n",
    "\n",
    "event = population_growth_event(t,pop_dict,loc_dict,child)\n",
    "event"
   ]
  },
  {
   "cell_type": "code",
   "execution_count": 31,
   "metadata": {},
   "outputs": [],
   "source": [
    "event_edge = {'node1': child.objid, 'node2': event['objid'], 'label': 'caused'}"
   ]
  },
  {
   "cell_type": "code",
   "execution_count": 32,
   "metadata": {},
   "outputs": [
    {
     "name": "stdout",
     "output_type": "stream",
     "text": [
      "The final dataset is 2 nodes and 4 edges\n"
     ]
    }
   ],
   "source": [
    "data = {\"nodes\":[child_data, event] ,\"edges\":[inhabits_edge,child.isOfSpecies,isIn_edge,event_edge] }\n",
    "\n",
    "print(f\"The final dataset is {len(data.get('nodes'))} nodes and {len(data.get('edges'))} edges\")"
   ]
  },
  {
   "cell_type": "code",
   "execution_count": 33,
   "metadata": {},
   "outputs": [
    {
     "data": {
      "text/html": [
       "<div>\n",
       "<style scoped>\n",
       "    .dataframe tbody tr th:only-of-type {\n",
       "        vertical-align: middle;\n",
       "    }\n",
       "\n",
       "    .dataframe tbody tr th {\n",
       "        vertical-align: top;\n",
       "    }\n",
       "\n",
       "    .dataframe thead th {\n",
       "        text-align: right;\n",
       "    }\n",
       "</style>\n",
       "<table border=\"1\" class=\"dataframe\">\n",
       "  <thead>\n",
       "    <tr style=\"text-align: right;\">\n",
       "      <th></th>\n",
       "      <th>node1</th>\n",
       "      <th>node2</th>\n",
       "      <th>label</th>\n",
       "    </tr>\n",
       "  </thead>\n",
       "  <tbody>\n",
       "    <tr>\n",
       "      <th>0</th>\n",
       "      <td>3650739535522</td>\n",
       "      <td>6430884923575</td>\n",
       "      <td>inhabits</td>\n",
       "    </tr>\n",
       "    <tr>\n",
       "      <th>1</th>\n",
       "      <td>3650739535522</td>\n",
       "      <td>4284334697626</td>\n",
       "      <td>isOf</td>\n",
       "    </tr>\n",
       "    <tr>\n",
       "      <th>2</th>\n",
       "      <td>3650739535522</td>\n",
       "      <td>0697488714945</td>\n",
       "      <td>isIn</td>\n",
       "    </tr>\n",
       "    <tr>\n",
       "      <th>3</th>\n",
       "      <td>3650739535522</td>\n",
       "      <td>7255912950476</td>\n",
       "      <td>caused</td>\n",
       "    </tr>\n",
       "  </tbody>\n",
       "</table>\n",
       "</div>"
      ],
      "text/plain": [
       "           node1          node2     label\n",
       "0  3650739535522  6430884923575  inhabits\n",
       "1  3650739535522  4284334697626      isOf\n",
       "2  3650739535522  0697488714945      isIn\n",
       "3  3650739535522  7255912950476    caused"
      ]
     },
     "execution_count": 33,
     "metadata": {},
     "output_type": "execute_result"
    }
   ],
   "source": [
    "pd.DataFrame(data['edges'])"
   ]
  },
  {
   "cell_type": "code",
   "execution_count": 34,
   "metadata": {},
   "outputs": [
    {
     "data": {
      "text/html": [
       "<div>\n",
       "<style scoped>\n",
       "    .dataframe tbody tr th:only-of-type {\n",
       "        vertical-align: middle;\n",
       "    }\n",
       "\n",
       "    .dataframe tbody tr th {\n",
       "        vertical-align: top;\n",
       "    }\n",
       "\n",
       "    .dataframe thead th {\n",
       "        text-align: right;\n",
       "    }\n",
       "</style>\n",
       "<table border=\"1\" class=\"dataframe\">\n",
       "  <thead>\n",
       "    <tr style=\"text-align: right;\">\n",
       "      <th></th>\n",
       "      <th>name</th>\n",
       "      <th>objid</th>\n",
       "      <th>label</th>\n",
       "      <th>conformity</th>\n",
       "      <th>literacy</th>\n",
       "      <th>aggression</th>\n",
       "      <th>constitution</th>\n",
       "      <th>health</th>\n",
       "      <th>isIn</th>\n",
       "      <th>industry</th>\n",
       "      <th>wealth</th>\n",
       "      <th>factionLoyalty</th>\n",
       "      <th>isIdle</th>\n",
       "      <th>userguid</th>\n",
       "      <th>text</th>\n",
       "      <th>visibleTo</th>\n",
       "      <th>time</th>\n",
       "      <th>source</th>\n",
       "    </tr>\n",
       "  </thead>\n",
       "  <tbody>\n",
       "    <tr>\n",
       "      <th>0</th>\n",
       "      <td>Luling Pegashiaen</td>\n",
       "      <td>3650739535522</td>\n",
       "      <td>pop</td>\n",
       "      <td>0.615</td>\n",
       "      <td>0.486</td>\n",
       "      <td>0.441</td>\n",
       "      <td>0.534</td>\n",
       "      <td>0.7</td>\n",
       "      <td>NaN</td>\n",
       "      <td>0.4875</td>\n",
       "      <td>0.48675</td>\n",
       "      <td>0.542</td>\n",
       "      <td>True</td>\n",
       "      <td>ac5b8081-7ef9-4bce-baac-6d0ea7e1782c</td>\n",
       "      <td>NaN</td>\n",
       "      <td>NaN</td>\n",
       "      <td>NaN</td>\n",
       "      <td>NaN</td>\n",
       "    </tr>\n",
       "    <tr>\n",
       "      <th>1</th>\n",
       "      <td>population growth</td>\n",
       "      <td>7255912950476</td>\n",
       "      <td>event</td>\n",
       "      <td>NaN</td>\n",
       "      <td>NaN</td>\n",
       "      <td>NaN</td>\n",
       "      <td>NaN</td>\n",
       "      <td>NaN</td>\n",
       "      <td>NaN</td>\n",
       "      <td>NaN</td>\n",
       "      <td>NaN</td>\n",
       "      <td>NaN</td>\n",
       "      <td>NaN</td>\n",
       "      <td>ac5b8081-7ef9-4bce-baac-6d0ea7e1782c</td>\n",
       "      <td>The population (Luling Pegashia) inhabiting Sa...</td>\n",
       "      <td>ac5b8081-7ef9-4bce-baac-6d0ea7e1782c</td>\n",
       "      <td>13989.0</td>\n",
       "      <td>notebook</td>\n",
       "    </tr>\n",
       "  </tbody>\n",
       "</table>\n",
       "</div>"
      ],
      "text/plain": [
       "                name          objid  label  conformity  literacy  aggression  \\\n",
       "0  Luling Pegashiaen  3650739535522    pop       0.615     0.486       0.441   \n",
       "1  population growth  7255912950476  event         NaN       NaN         NaN   \n",
       "\n",
       "   constitution  health  isIn  industry   wealth  factionLoyalty isIdle  \\\n",
       "0         0.534     0.7   NaN    0.4875  0.48675           0.542   True   \n",
       "1           NaN     NaN   NaN       NaN      NaN             NaN    NaN   \n",
       "\n",
       "                               userguid  \\\n",
       "0  ac5b8081-7ef9-4bce-baac-6d0ea7e1782c   \n",
       "1  ac5b8081-7ef9-4bce-baac-6d0ea7e1782c   \n",
       "\n",
       "                                                text  \\\n",
       "0                                                NaN   \n",
       "1  The population (Luling Pegashia) inhabiting Sa...   \n",
       "\n",
       "                              visibleTo     time    source  \n",
       "0                                   NaN      NaN       NaN  \n",
       "1  ac5b8081-7ef9-4bce-baac-6d0ea7e1782c  13989.0  notebook  "
      ]
     },
     "execution_count": 34,
     "metadata": {},
     "output_type": "execute_result"
    }
   ],
   "source": [
    "pd.DataFrame(data['nodes']) "
   ]
  },
  {
   "cell_type": "markdown",
   "metadata": {},
   "source": [
    "It takes a while to upload all of that data. "
   ]
  },
  {
   "cell_type": "code",
   "execution_count": 35,
   "metadata": {},
   "outputs": [],
   "source": [
    "# c.upload_data('notebook',data)"
   ]
  },
  {
   "cell_type": "code",
   "execution_count": null,
   "metadata": {},
   "outputs": [],
   "source": []
  }
 ],
 "metadata": {
  "kernelspec": {
   "display_name": "exoplanets",
   "language": "python",
   "name": "python3"
  },
  "language_info": {
   "codemirror_mode": {
    "name": "ipython",
    "version": 3
   },
   "file_extension": ".py",
   "mimetype": "text/x-python",
   "name": "python",
   "nbconvert_exporter": "python",
   "pygments_lexer": "ipython3",
   "version": "3.8.16"
  },
  "orig_nbformat": 4,
  "vscode": {
   "interpreter": {
    "hash": "625a17269cb94aebb094cbcf5e0e8340f26b69d46569da60e8fc69439048adbf"
   }
  }
 },
 "nbformat": 4,
 "nbformat_minor": 2
}
