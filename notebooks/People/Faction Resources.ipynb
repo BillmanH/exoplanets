{
 "cells": [
  {
   "cell_type": "code",
   "execution_count": 1,
   "metadata": {},
   "outputs": [],
   "source": [
    "import sys, os\n",
    "sys.path.append('../..')\n",
    "\n",
    "import  ssl, asyncio\n",
    "\n",
    "ssl._create_default_https_context = ssl._create_unverified_context\n",
    "asyncio.set_event_loop_policy(asyncio.WindowsSelectorEventLoopPolicy())\n",
    "import nest_asyncio\n",
    "# this is required for running in a Jupyter Notebook. \n",
    "\n",
    "nest_asyncio.apply()\n"
   ]
  },
  {
   "cell_type": "code",
   "execution_count": 2,
   "metadata": {},
   "outputs": [
    {
     "name": "stdout",
     "output_type": "stream",
     "text": [
      "executing local windows deployment\n",
      "something wrong with your query: <class 'Exception'>\n"
     ]
    }
   ],
   "source": [
    "from app.connectors.cmdb_graph import CosmosdbClient\n",
    "c = CosmosdbClient()"
   ]
  },
  {
   "cell_type": "code",
   "execution_count": 3,
   "metadata": {},
   "outputs": [
    {
     "data": {
      "text/plain": [
       "[{'wealth': [0.0],\n",
       "  'name': ['Ciu'],\n",
       "  'objid': ['7327160462281'],\n",
       "  'lat': ['-0.134'],\n",
       "  'long': ['0.0'],\n",
       "  'infrastructure': ['0'],\n",
       "  'userguid': ['8d5b667f-b225-4641-b499-73b77558ff86'],\n",
       "  'objtype': ['faction']}]"
      ]
     },
     "execution_count": 3,
     "metadata": {},
     "output_type": "execute_result"
    }
   ],
   "source": [
    "faction = '7327160462281'\n",
    "\n",
    "faction_query = f\"g.V().has('objid', '{faction}').valueMap()\"\n",
    "c.run_query(faction_query)\n",
    "c.res"
   ]
  },
  {
   "cell_type": "code",
   "execution_count": 18,
   "metadata": {},
   "outputs": [
    {
     "data": {
      "text/plain": [
       "[{'volume': ['20.0'],\n",
       "  'name': ['grains'],\n",
       "  'type': ['organics'],\n",
       "  'description': ['grains that can be consumed by pops'],\n",
       "  'contained_by': ['[ship, faction]'],\n",
       "  'objid': ['3271102985863'],\n",
       "  'max_volume': [100],\n",
       "  'userguid': ['8d5b667f-b225-4641-b499-73b77558ff86'],\n",
       "  'objtype': ['resource']}]"
      ]
     },
     "execution_count": 18,
     "metadata": {},
     "output_type": "execute_result"
    }
   ],
   "source": [
    "faction_resource_query = f\"g.V().has('objid', '{faction}').out('has').valueMap()\"\n",
    "c.run_query(faction_resource_query)\n",
    "c.res"
   ]
  },
  {
   "cell_type": "code",
   "execution_count": 16,
   "metadata": {},
   "outputs": [
    {
     "data": {
      "text/plain": [
       "[]"
      ]
     },
     "execution_count": 16,
     "metadata": {},
     "output_type": "execute_result"
    }
   ],
   "source": [
    "faction_resource_query = f\"g.V().has('objid', '{faction}').out('has').drop()\"\n",
    "c.run_query(faction_resource_query)\n",
    "c.res"
   ]
  },
  {
   "cell_type": "code",
   "execution_count": null,
   "metadata": {},
   "outputs": [],
   "source": []
  }
 ],
 "metadata": {
  "kernelspec": {
   "display_name": "exoplanets",
   "language": "python",
   "name": "python3"
  },
  "language_info": {
   "codemirror_mode": {
    "name": "ipython",
    "version": 3
   },
   "file_extension": ".py",
   "mimetype": "text/x-python",
   "name": "python",
   "nbconvert_exporter": "python",
   "pygments_lexer": "ipython3",
   "version": "3.8.16"
  }
 },
 "nbformat": 4,
 "nbformat_minor": 2
}
