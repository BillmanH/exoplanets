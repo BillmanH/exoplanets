{
 "cells": [
  {
   "cell_type": "markdown",
   "metadata": {},
   "source": [
    "# Generating Populations and Species\n",
    "Assuming that the civilization is on the verge of moving from a phaze 0 to phase 1 civ.\n",
    "* baseline species\n",
    "* n populations (pops)\n",
    "* population varience (within the norms of the species)\n",
    "* allegiance groups to factions"
   ]
  },
  {
   "cell_type": "markdown",
   "metadata": {},
   "source": [
    "Starting with an example user form data"
   ]
  },
  {
   "cell_type": "code",
   "execution_count": 1,
   "metadata": {},
   "outputs": [],
   "source": [
    "\r\n",
    "from numpy import random, round, interp, linspace\r\n",
    "import pickle\r\n",
    "from sklearn.cluster import KMeans\r\n",
    "import altair as alt\r\n",
    "import sys, os\r\n",
    "from sklearn.cluster import KMeans\r\n",
    "\r\n",
    "import pandas as pd\r\n"
   ]
  },
  {
   "cell_type": "markdown",
   "metadata": {},
   "source": [
    "origional `data` comes from the user via the form in `forms.py`"
   ]
  },
  {
   "cell_type": "code",
   "execution_count": 2,
   "metadata": {},
   "outputs": [
    {
     "data": {
      "text/plain": "{'conformity': 0.4, 'literacy': 0.7, 'aggression': 0.5, 'constitution': 0.4}"
     },
     "execution_count": 2,
     "metadata": {},
     "output_type": "execute_result"
    }
   ],
   "source": [
    "starting_attributes = ['conformity', 'literacy', 'aggression', 'constitution']\r\n",
    "\r\n",
    "data = {\r\n",
    "    'conformity':0.4,\r\n",
    "    'literacy':0.7,\r\n",
    "    'aggression':0.5,\r\n",
    "    'constitution':0.4,\r\n",
    "    'starting_pop': 100\r\n",
    "}\r\n",
    "\r\n",
    "def build_species(data):\r\n",
    "    species = {}\r\n",
    "    for attr in starting_attributes:\r\n",
    "        species[attr] = data[attr]\r\n",
    "    return species\r\n",
    "    \r\n",
    "species = build_species(data)\r\n",
    "species\r\n"
   ]
  },
  {
   "cell_type": "code",
   "execution_count": 3,
   "metadata": {},
   "outputs": [],
   "source": [
    "sys.path.append('..')\r\n",
    "import helpers.dbquery as db\r\n",
    "import helpers.functions as f"
   ]
  },
  {
   "cell_type": "markdown",
   "metadata": {},
   "source": [
    "## Creating groups of populations, all with different attributes\r\n",
    "\r\n",
    "Populations vary based on conformity, some populations are more literate, some are more aggressive. "
   ]
  },
  {
   "cell_type": "code",
   "execution_count": 4,
   "metadata": {},
   "outputs": [
    {
     "name": "stdout",
     "output_type": "stream",
     "text": [
      "the population conformity:  0.12\n"
     ]
    },
    {
     "data": {
      "text/html": "<div>\n<style scoped>\n    .dataframe tbody tr th:only-of-type {\n        vertical-align: middle;\n    }\n\n    .dataframe tbody tr th {\n        vertical-align: top;\n    }\n\n    .dataframe thead th {\n        text-align: right;\n    }\n</style>\n<table border=\"1\" class=\"dataframe\">\n  <thead>\n    <tr style=\"text-align: right;\">\n      <th></th>\n      <th>conformity</th>\n      <th>literacy</th>\n      <th>aggression</th>\n      <th>constitution</th>\n    </tr>\n  </thead>\n  <tbody>\n    <tr>\n      <th>0</th>\n      <td>0.415</td>\n      <td>0.579</td>\n      <td>0.445</td>\n      <td>0.426</td>\n    </tr>\n    <tr>\n      <th>1</th>\n      <td>0.252</td>\n      <td>0.519</td>\n      <td>0.742</td>\n      <td>0.452</td>\n    </tr>\n    <tr>\n      <th>2</th>\n      <td>0.514</td>\n      <td>0.583</td>\n      <td>0.431</td>\n      <td>0.477</td>\n    </tr>\n    <tr>\n      <th>3</th>\n      <td>0.374</td>\n      <td>0.617</td>\n      <td>0.519</td>\n      <td>0.569</td>\n    </tr>\n    <tr>\n      <th>4</th>\n      <td>0.439</td>\n      <td>0.670</td>\n      <td>0.350</td>\n      <td>0.373</td>\n    </tr>\n    <tr>\n      <th>...</th>\n      <td>...</td>\n      <td>...</td>\n      <td>...</td>\n      <td>...</td>\n    </tr>\n    <tr>\n      <th>95</th>\n      <td>0.428</td>\n      <td>0.759</td>\n      <td>0.311</td>\n      <td>0.382</td>\n    </tr>\n    <tr>\n      <th>96</th>\n      <td>0.498</td>\n      <td>0.697</td>\n      <td>0.346</td>\n      <td>0.350</td>\n    </tr>\n    <tr>\n      <th>97</th>\n      <td>0.310</td>\n      <td>0.754</td>\n      <td>0.452</td>\n      <td>0.588</td>\n    </tr>\n    <tr>\n      <th>98</th>\n      <td>0.505</td>\n      <td>0.724</td>\n      <td>0.525</td>\n      <td>0.326</td>\n    </tr>\n    <tr>\n      <th>99</th>\n      <td>0.415</td>\n      <td>0.692</td>\n      <td>0.602</td>\n      <td>0.479</td>\n    </tr>\n  </tbody>\n</table>\n<p>100 rows × 4 columns</p>\n</div>",
      "text/plain": "    conformity  literacy  aggression  constitution\n0        0.415     0.579       0.445         0.426\n1        0.252     0.519       0.742         0.452\n2        0.514     0.583       0.431         0.477\n3        0.374     0.617       0.519         0.569\n4        0.439     0.670       0.350         0.373\n..         ...       ...         ...           ...\n95       0.428     0.759       0.311         0.382\n96       0.498     0.697       0.346         0.350\n97       0.310     0.754       0.452         0.588\n98       0.505     0.724       0.525         0.326\n99       0.415     0.692       0.602         0.479\n\n[100 rows x 4 columns]"
     },
     "execution_count": 4,
     "metadata": {},
     "output_type": "execute_result"
    }
   ],
   "source": [
    "pop_std = .2 * (1-species['conformity'])\r\n",
    "print(\"the population conformity: \", pop_std)\r\n",
    "\r\n",
    "def vary_pops(species):\r\n",
    "    pop = {}\r\n",
    "    for k in list(species.keys()):\r\n",
    "        pop[k] = abs(round(random.normal(species[k], pop_std),3))\r\n",
    "    return pop\r\n",
    "\r\n",
    "pops = pd.DataFrame([vary_pops(species) for i in range(data['starting_pop'])])\r\n",
    "pops"
   ]
  },
  {
   "cell_type": "markdown",
   "metadata": {},
   "source": [
    "The end result is that population factions are grouped by the idealogical differences of the people in them. This gives each faction a distinct culture. "
   ]
  },
  {
   "cell_type": "markdown",
   "metadata": {},
   "source": [
    "## Dividing pops into factions\r\n",
    "\r\n",
    "I feel like there isn't a way to pick an ideal number of factions procedurally,  so until I think of something better I'm just going to go with an arbitrary range based on `population_conformity`.\r\n",
    "\r\n",
    "The amount of different nations is relative to `1-population_conformity` and then scaled out over a number of steps defined as `n_steps`"
   ]
  },
  {
   "cell_type": "code",
   "execution_count": 5,
   "metadata": {},
   "outputs": [
    {
     "data": {
      "text/plain": "3"
     },
     "execution_count": 5,
     "metadata": {},
     "output_type": "execute_result"
    }
   ],
   "source": [
    "n_steps = 6\r\n",
    "\r\n",
    "def get_n_factions(n_steps):\r\n",
    "    x = interp(\r\n",
    "        (1-data[\"conformity\"]),\r\n",
    "            linspace(0, 1, num=n_steps),\r\n",
    "            [i for i in range(n_steps)]\r\n",
    "        )\r\n",
    "    return int(round(x))\r\n",
    "\r\n",
    "get_n_factions(n_steps)"
   ]
  },
  {
   "cell_type": "code",
   "execution_count": 6,
   "metadata": {},
   "outputs": [],
   "source": [
    "kmeans = KMeans(n_clusters=n_steps).fit(pops[starting_attributes])\r\n",
    "pops['faction_no'] = kmeans.labels_"
   ]
  },
  {
   "cell_type": "code",
   "execution_count": 13,
   "metadata": {},
   "outputs": [
    {
     "data": {
      "text/html": "<div>\n<style scoped>\n    .dataframe tbody tr th:only-of-type {\n        vertical-align: middle;\n    }\n\n    .dataframe tbody tr th {\n        vertical-align: top;\n    }\n\n    .dataframe thead th {\n        text-align: right;\n    }\n</style>\n<table border=\"1\" class=\"dataframe\">\n  <thead>\n    <tr style=\"text-align: right;\">\n      <th></th>\n      <th>conformity</th>\n      <th>literacy</th>\n      <th>aggression</th>\n      <th>constitution</th>\n      <th>name</th>\n    </tr>\n  </thead>\n  <tbody>\n    <tr>\n      <th>0</th>\n      <td>0.214714</td>\n      <td>0.662214</td>\n      <td>0.513643</td>\n      <td>0.268500</td>\n      <td>Chak</td>\n    </tr>\n    <tr>\n      <th>1</th>\n      <td>0.341929</td>\n      <td>0.846000</td>\n      <td>0.522500</td>\n      <td>0.497143</td>\n      <td>Groes</td>\n    </tr>\n    <tr>\n      <th>2</th>\n      <td>0.541067</td>\n      <td>0.680067</td>\n      <td>0.565333</td>\n      <td>0.320267</td>\n      <td>Rovsk</td>\n    </tr>\n    <tr>\n      <th>3</th>\n      <td>0.408500</td>\n      <td>0.809187</td>\n      <td>0.333125</td>\n      <td>0.341625</td>\n      <td>Hol</td>\n    </tr>\n    <tr>\n      <th>4</th>\n      <td>0.391167</td>\n      <td>0.682389</td>\n      <td>0.667889</td>\n      <td>0.474944</td>\n      <td>Lyands</td>\n    </tr>\n    <tr>\n      <th>5</th>\n      <td>0.432217</td>\n      <td>0.596826</td>\n      <td>0.414478</td>\n      <td>0.466478</td>\n      <td>Evsk</td>\n    </tr>\n  </tbody>\n</table>\n</div>",
      "text/plain": "   conformity  literacy  aggression  constitution    name\n0    0.214714  0.662214    0.513643      0.268500    Chak\n1    0.341929  0.846000    0.522500      0.497143   Groes\n2    0.541067  0.680067    0.565333      0.320267   Rovsk\n3    0.408500  0.809187    0.333125      0.341625     Hol\n4    0.391167  0.682389    0.667889      0.474944  Lyands\n5    0.432217  0.596826    0.414478      0.466478    Evsk"
     },
     "execution_count": 13,
     "metadata": {},
     "output_type": "execute_result"
    }
   ],
   "source": [
    "factions = pd.DataFrame(kmeans.cluster_centers_, columns=starting_attributes)\r\n",
    "factions['name'] = factions['conformity'].apply(lambda x: f.make_word(1))\r\n",
    "factions"
   ]
  },
  {
   "cell_type": "markdown",
   "metadata": {},
   "source": [
    "So individual `pops` vary slightly, relative to the `conformity`. And `conformity` also determines the number of factions in the group. "
   ]
  },
  {
   "cell_type": "code",
   "execution_count": 8,
   "metadata": {},
   "outputs": [
    {
     "data": {
      "text/html": "\n<div id=\"altair-viz-5f0c747efde349c6801cf143bc4f9f09\"></div>\n<script type=\"text/javascript\">\n  (function(spec, embedOpt){\n    let outputDiv = document.currentScript.previousElementSibling;\n    if (outputDiv.id !== \"altair-viz-5f0c747efde349c6801cf143bc4f9f09\") {\n      outputDiv = document.getElementById(\"altair-viz-5f0c747efde349c6801cf143bc4f9f09\");\n    }\n    const paths = {\n      \"vega\": \"https://cdn.jsdelivr.net/npm//vega@5?noext\",\n      \"vega-lib\": \"https://cdn.jsdelivr.net/npm//vega-lib?noext\",\n      \"vega-lite\": \"https://cdn.jsdelivr.net/npm//vega-lite@4.8.1?noext\",\n      \"vega-embed\": \"https://cdn.jsdelivr.net/npm//vega-embed@6?noext\",\n    };\n\n    function loadScript(lib) {\n      return new Promise(function(resolve, reject) {\n        var s = document.createElement('script');\n        s.src = paths[lib];\n        s.async = true;\n        s.onload = () => resolve(paths[lib]);\n        s.onerror = () => reject(`Error loading script: ${paths[lib]}`);\n        document.getElementsByTagName(\"head\")[0].appendChild(s);\n      });\n    }\n\n    function showError(err) {\n      outputDiv.innerHTML = `<div class=\"error\" style=\"color:red;\">${err}</div>`;\n      throw err;\n    }\n\n    function displayChart(vegaEmbed) {\n      vegaEmbed(outputDiv, spec, embedOpt)\n        .catch(err => showError(`Javascript Error: ${err.message}<br>This usually means there's a typo in your chart specification. See the javascript console for the full traceback.`));\n    }\n\n    if(typeof define === \"function\" && define.amd) {\n      requirejs.config({paths});\n      require([\"vega-embed\"], displayChart, err => showError(`Error loading script: ${err.message}`));\n    } else if (typeof vegaEmbed === \"function\") {\n      displayChart(vegaEmbed);\n    } else {\n      loadScript(\"vega\")\n        .then(() => loadScript(\"vega-lite\"))\n        .then(() => loadScript(\"vega-embed\"))\n        .catch(showError)\n        .then(() => displayChart(vegaEmbed));\n    }\n  })({\"config\": {\"view\": {\"continuousWidth\": 400, \"continuousHeight\": 300}}, \"data\": {\"name\": \"data-79ec126ee6a8ed045d445dc3059ec37d\"}, \"mark\": \"circle\", \"encoding\": {\"color\": {\"type\": \"nominal\", \"field\": \"faction_no\"}, \"x\": {\"type\": \"quantitative\", \"field\": \"literacy\"}, \"y\": {\"type\": \"quantitative\", \"field\": \"aggression\"}}, \"$schema\": \"https://vega.github.io/schema/vega-lite/v4.8.1.json\", \"datasets\": {\"data-79ec126ee6a8ed045d445dc3059ec37d\": [{\"conformity\": 0.415, \"literacy\": 0.579, \"aggression\": 0.445, \"constitution\": 0.426, \"faction_no\": 5}, {\"conformity\": 0.252, \"literacy\": 0.519, \"aggression\": 0.742, \"constitution\": 0.452, \"faction_no\": 4}, {\"conformity\": 0.514, \"literacy\": 0.583, \"aggression\": 0.431, \"constitution\": 0.477, \"faction_no\": 5}, {\"conformity\": 0.374, \"literacy\": 0.617, \"aggression\": 0.519, \"constitution\": 0.569, \"faction_no\": 5}, {\"conformity\": 0.439, \"literacy\": 0.67, \"aggression\": 0.35, \"constitution\": 0.373, \"faction_no\": 5}, {\"conformity\": 0.405, \"literacy\": 0.538, \"aggression\": 0.421, \"constitution\": 0.421, \"faction_no\": 5}, {\"conformity\": 0.38, \"literacy\": 0.647, \"aggression\": 0.575, \"constitution\": 0.464, \"faction_no\": 4}, {\"conformity\": 0.454, \"literacy\": 0.631, \"aggression\": 0.708, \"constitution\": 0.399, \"faction_no\": 4}, {\"conformity\": 0.409, \"literacy\": 0.918, \"aggression\": 0.5, \"constitution\": 0.555, \"faction_no\": 1}, {\"conformity\": 0.536, \"literacy\": 0.708, \"aggression\": 0.407, \"constitution\": 0.416, \"faction_no\": 5}, {\"conformity\": 0.488, \"literacy\": 0.708, \"aggression\": 0.47, \"constitution\": 0.208, \"faction_no\": 2}, {\"conformity\": 0.206, \"literacy\": 0.678, \"aggression\": 0.366, \"constitution\": 0.334, \"faction_no\": 0}, {\"conformity\": 0.515, \"literacy\": 0.943, \"aggression\": 0.348, \"constitution\": 0.389, \"faction_no\": 3}, {\"conformity\": 0.636, \"literacy\": 0.697, \"aggression\": 0.509, \"constitution\": 0.368, \"faction_no\": 2}, {\"conformity\": 0.364, \"literacy\": 0.58, \"aggression\": 0.445, \"constitution\": 0.388, \"faction_no\": 5}, {\"conformity\": 0.212, \"literacy\": 0.859, \"aggression\": 0.641, \"constitution\": 0.441, \"faction_no\": 1}, {\"conformity\": 0.489, \"literacy\": 0.755, \"aggression\": 0.636, \"constitution\": 0.582, \"faction_no\": 4}, {\"conformity\": 0.341, \"literacy\": 0.602, \"aggression\": 0.492, \"constitution\": 0.517, \"faction_no\": 5}, {\"conformity\": 0.466, \"literacy\": 0.584, \"aggression\": 0.393, \"constitution\": 0.6, \"faction_no\": 5}, {\"conformity\": 0.284, \"literacy\": 0.74, \"aggression\": 0.571, \"constitution\": 0.23, \"faction_no\": 0}, {\"conformity\": 0.467, \"literacy\": 0.582, \"aggression\": 0.589, \"constitution\": 0.369, \"faction_no\": 2}, {\"conformity\": 0.393, \"literacy\": 0.781, \"aggression\": 0.726, \"constitution\": 0.422, \"faction_no\": 4}, {\"conformity\": 0.293, \"literacy\": 0.565, \"aggression\": 0.364, \"constitution\": 0.376, \"faction_no\": 5}, {\"conformity\": 0.54, \"literacy\": 0.626, \"aggression\": 0.382, \"constitution\": 0.494, \"faction_no\": 5}, {\"conformity\": 0.271, \"literacy\": 0.741, \"aggression\": 0.519, \"constitution\": 0.496, \"faction_no\": 1}, {\"conformity\": 0.364, \"literacy\": 0.627, \"aggression\": 0.291, \"constitution\": 0.484, \"faction_no\": 5}, {\"conformity\": 0.32, \"literacy\": 0.637, \"aggression\": 0.653, \"constitution\": 0.096, \"faction_no\": 0}, {\"conformity\": 0.482, \"literacy\": 0.657, \"aggression\": 0.534, \"constitution\": 0.433, \"faction_no\": 2}, {\"conformity\": 0.495, \"literacy\": 0.927, \"aggression\": 0.473, \"constitution\": 0.443, \"faction_no\": 1}, {\"conformity\": 0.266, \"literacy\": 0.709, \"aggression\": 0.559, \"constitution\": 0.41, \"faction_no\": 0}, {\"conformity\": 0.42, \"literacy\": 0.722, \"aggression\": 0.329, \"constitution\": 0.537, \"faction_no\": 5}, {\"conformity\": 0.243, \"literacy\": 0.556, \"aggression\": 0.46, \"constitution\": 0.392, \"faction_no\": 0}, {\"conformity\": 0.47, \"literacy\": 0.688, \"aggression\": 0.52, \"constitution\": 0.448, \"faction_no\": 5}, {\"conformity\": 0.409, \"literacy\": 0.646, \"aggression\": 0.641, \"constitution\": 0.368, \"faction_no\": 4}, {\"conformity\": 0.417, \"literacy\": 0.591, \"aggression\": 0.561, \"constitution\": 0.327, \"faction_no\": 2}, {\"conformity\": 0.071, \"literacy\": 0.628, \"aggression\": 0.383, \"constitution\": 0.274, \"faction_no\": 0}, {\"conformity\": 0.335, \"literacy\": 0.525, \"aggression\": 0.401, \"constitution\": 0.4, \"faction_no\": 5}, {\"conformity\": 0.445, \"literacy\": 0.865, \"aggression\": 0.411, \"constitution\": 0.372, \"faction_no\": 3}, {\"conformity\": 0.338, \"literacy\": 0.535, \"aggression\": 0.582, \"constitution\": 0.412, \"faction_no\": 4}, {\"conformity\": 0.419, \"literacy\": 0.806, \"aggression\": 0.561, \"constitution\": 0.54, \"faction_no\": 1}, {\"conformity\": 0.266, \"literacy\": 0.51, \"aggression\": 0.524, \"constitution\": 0.582, \"faction_no\": 5}, {\"conformity\": 0.674, \"literacy\": 0.574, \"aggression\": 0.78, \"constitution\": 0.308, \"faction_no\": 2}, {\"conformity\": 0.42, \"literacy\": 0.818, \"aggression\": 0.487, \"constitution\": 0.58, \"faction_no\": 1}, {\"conformity\": 0.178, \"literacy\": 0.775, \"aggression\": 0.468, \"constitution\": 0.315, \"faction_no\": 0}, {\"conformity\": 0.269, \"literacy\": 0.913, \"aggression\": 0.569, \"constitution\": 0.503, \"faction_no\": 1}, {\"conformity\": 0.42, \"literacy\": 0.611, \"aggression\": 0.427, \"constitution\": 0.691, \"faction_no\": 5}, {\"conformity\": 0.199, \"literacy\": 0.657, \"aggression\": 0.495, \"constitution\": 0.053, \"faction_no\": 0}, {\"conformity\": 0.455, \"literacy\": 0.944, \"aggression\": 0.246, \"constitution\": 0.287, \"faction_no\": 3}, {\"conformity\": 0.406, \"literacy\": 0.661, \"aggression\": 0.166, \"constitution\": 0.16, \"faction_no\": 3}, {\"conformity\": 0.468, \"literacy\": 0.613, \"aggression\": 0.606, \"constitution\": 0.594, \"faction_no\": 4}, {\"conformity\": 0.289, \"literacy\": 0.726, \"aggression\": 0.506, \"constitution\": 0.282, \"faction_no\": 0}, {\"conformity\": 0.397, \"literacy\": 0.767, \"aggression\": 0.66, \"constitution\": 0.474, \"faction_no\": 4}, {\"conformity\": 0.529, \"literacy\": 0.575, \"aggression\": 0.324, \"constitution\": 0.557, \"faction_no\": 5}, {\"conformity\": 0.448, \"literacy\": 0.611, \"aggression\": 0.363, \"constitution\": 0.341, \"faction_no\": 5}, {\"conformity\": 0.569, \"literacy\": 0.59, \"aggression\": 0.372, \"constitution\": 0.316, \"faction_no\": 5}, {\"conformity\": 0.373, \"literacy\": 0.986, \"aggression\": 0.517, \"constitution\": 0.497, \"faction_no\": 1}, {\"conformity\": 0.559, \"literacy\": 0.827, \"aggression\": 0.47, \"constitution\": 0.353, \"faction_no\": 2}, {\"conformity\": 0.394, \"literacy\": 0.787, \"aggression\": 0.292, \"constitution\": 0.327, \"faction_no\": 3}, {\"conformity\": 0.548, \"literacy\": 0.907, \"aggression\": 0.283, \"constitution\": 0.397, \"faction_no\": 3}, {\"conformity\": 0.204, \"literacy\": 0.612, \"aggression\": 0.436, \"constitution\": 0.189, \"faction_no\": 0}, {\"conformity\": 0.297, \"literacy\": 0.818, \"aggression\": 0.417, \"constitution\": 0.36, \"faction_no\": 3}, {\"conformity\": 0.198, \"literacy\": 0.702, \"aggression\": 0.744, \"constitution\": 0.393, \"faction_no\": 4}, {\"conformity\": 0.364, \"literacy\": 0.771, \"aggression\": 0.476, \"constitution\": 0.243, \"faction_no\": 3}, {\"conformity\": 0.397, \"literacy\": 0.5, \"aggression\": 0.46, \"constitution\": 0.37, \"faction_no\": 5}, {\"conformity\": 0.35, \"literacy\": 0.879, \"aggression\": 0.251, \"constitution\": 0.429, \"faction_no\": 3}, {\"conformity\": 0.405, \"literacy\": 0.68, \"aggression\": 0.814, \"constitution\": 0.517, \"faction_no\": 4}, {\"conformity\": 0.183, \"literacy\": 0.665, \"aggression\": 0.763, \"constitution\": 0.293, \"faction_no\": 0}, {\"conformity\": 0.486, \"literacy\": 0.577, \"aggression\": 0.482, \"constitution\": 0.573, \"faction_no\": 5}, {\"conformity\": 0.331, \"literacy\": 0.786, \"aggression\": 0.451, \"constitution\": 0.438, \"faction_no\": 1}, {\"conformity\": 0.763, \"literacy\": 0.53, \"aggression\": 0.494, \"constitution\": 0.261, \"faction_no\": 2}, {\"conformity\": 0.473, \"literacy\": 0.782, \"aggression\": 0.526, \"constitution\": 0.135, \"faction_no\": 2}, {\"conformity\": 0.415, \"literacy\": 0.815, \"aggression\": 0.419, \"constitution\": 0.321, \"faction_no\": 3}, {\"conformity\": 0.358, \"literacy\": 0.831, \"aggression\": 0.763, \"constitution\": 0.506, \"faction_no\": 4}, {\"conformity\": 0.426, \"literacy\": 0.706, \"aggression\": 0.602, \"constitution\": 0.235, \"faction_no\": 2}, {\"conformity\": 0.675, \"literacy\": 0.91, \"aggression\": 0.577, \"constitution\": 0.369, \"faction_no\": 2}, {\"conformity\": 0.378, \"literacy\": 0.784, \"aggression\": 0.306, \"constitution\": 0.396, \"faction_no\": 3}, {\"conformity\": 0.561, \"literacy\": 0.795, \"aggression\": 0.702, \"constitution\": 0.502, \"faction_no\": 4}, {\"conformity\": 0.55, \"literacy\": 0.539, \"aggression\": 0.391, \"constitution\": 0.373, \"faction_no\": 5}, {\"conformity\": 0.385, \"literacy\": 0.586, \"aggression\": 0.604, \"constitution\": 0.254, \"faction_no\": 2}, {\"conformity\": 0.327, \"literacy\": 0.858, \"aggression\": 0.437, \"constitution\": 0.561, \"faction_no\": 1}, {\"conformity\": 0.439, \"literacy\": 0.768, \"aggression\": 0.676, \"constitution\": 0.386, \"faction_no\": 4}, {\"conformity\": 0.366, \"literacy\": 0.753, \"aggression\": 0.232, \"constitution\": 0.348, \"faction_no\": 3}, {\"conformity\": 0.498, \"literacy\": 0.706, \"aggression\": 0.594, \"constitution\": 0.479, \"faction_no\": 4}, {\"conformity\": 0.322, \"literacy\": 0.759, \"aggression\": 0.493, \"constitution\": 0.387, \"faction_no\": 1}, {\"conformity\": 0.214, \"literacy\": 0.668, \"aggression\": 0.38, \"constitution\": 0.295, \"faction_no\": 0}, {\"conformity\": 0.389, \"literacy\": 0.799, \"aggression\": 0.447, \"constitution\": 0.362, \"faction_no\": 3}, {\"conformity\": 0.689, \"literacy\": 0.646, \"aggression\": 0.696, \"constitution\": 0.459, \"faction_no\": 2}, {\"conformity\": 0.362, \"literacy\": 0.606, \"aggression\": 0.641, \"constitution\": 0.575, \"faction_no\": 4}, {\"conformity\": 0.243, \"literacy\": 0.81, \"aggression\": 0.598, \"constitution\": 0.425, \"faction_no\": 1}, {\"conformity\": 0.225, \"literacy\": 0.609, \"aggression\": 0.61, \"constitution\": 0.545, \"faction_no\": 4}, {\"conformity\": 0.132, \"literacy\": 0.657, \"aggression\": 0.593, \"constitution\": 0.327, \"faction_no\": 0}, {\"conformity\": 0.288, \"literacy\": 0.765, \"aggression\": 0.379, \"constitution\": 0.343, \"faction_no\": 3}, {\"conformity\": 0.386, \"literacy\": 0.909, \"aggression\": 0.617, \"constitution\": 0.506, \"faction_no\": 1}, {\"conformity\": 0.477, \"literacy\": 0.681, \"aggression\": 0.543, \"constitution\": 0.399, \"faction_no\": 2}, {\"conformity\": 0.217, \"literacy\": 0.563, \"aggression\": 0.558, \"constitution\": 0.269, \"faction_no\": 0}, {\"conformity\": 0.428, \"literacy\": 0.759, \"aggression\": 0.311, \"constitution\": 0.382, \"faction_no\": 3}, {\"conformity\": 0.498, \"literacy\": 0.697, \"aggression\": 0.346, \"constitution\": 0.35, \"faction_no\": 3}, {\"conformity\": 0.31, \"literacy\": 0.754, \"aggression\": 0.452, \"constitution\": 0.588, \"faction_no\": 1}, {\"conformity\": 0.505, \"literacy\": 0.724, \"aggression\": 0.525, \"constitution\": 0.326, \"faction_no\": 2}, {\"conformity\": 0.415, \"literacy\": 0.692, \"aggression\": 0.602, \"constitution\": 0.479, \"faction_no\": 4}]}}, {\"mode\": \"vega-lite\"});\n</script>",
      "text/plain": "alt.Chart(...)"
     },
     "execution_count": 8,
     "metadata": {},
     "output_type": "execute_result"
    }
   ],
   "source": [
    "chart = alt.Chart(pops).mark_circle().encode(x='literacy',y='aggression',color='faction_no:N')\r\n",
    "chart"
   ]
  },
  {
   "cell_type": "markdown",
   "metadata": {},
   "source": [
    "The cluster centers can represent the 'zeitgeist' of that faction's culture. "
   ]
  },
  {
   "cell_type": "markdown",
   "metadata": {},
   "source": [
    "# Other population attributes"
   ]
  },
  {
   "cell_type": "markdown",
   "metadata": {},
   "source": [
    "## Other attributes that get added\r\n",
    "These items aren't used to calculate factions as they refer to resources, not values. These are calculated at the creation of a `pop` and later can be updated. \r\n",
    "\r\n",
    "* Industry = aggression + constitution\r\n"
   ]
  },
  {
   "cell_type": "code",
   "execution_count": 16,
   "metadata": {},
   "outputs": [
    {
     "data": {
      "text/html": "<div>\n<style scoped>\n    .dataframe tbody tr th:only-of-type {\n        vertical-align: middle;\n    }\n\n    .dataframe tbody tr th {\n        vertical-align: top;\n    }\n\n    .dataframe thead th {\n        text-align: right;\n    }\n</style>\n<table border=\"1\" class=\"dataframe\">\n  <thead>\n    <tr style=\"text-align: right;\">\n      <th></th>\n      <th>conformity</th>\n      <th>literacy</th>\n      <th>aggression</th>\n      <th>constitution</th>\n      <th>faction_no</th>\n      <th>industry</th>\n    </tr>\n  </thead>\n  <tbody>\n    <tr>\n      <th>0</th>\n      <td>0.415</td>\n      <td>0.579</td>\n      <td>0.445</td>\n      <td>0.426</td>\n      <td>5</td>\n      <td>0.4355</td>\n    </tr>\n    <tr>\n      <th>1</th>\n      <td>0.252</td>\n      <td>0.519</td>\n      <td>0.742</td>\n      <td>0.452</td>\n      <td>4</td>\n      <td>0.5970</td>\n    </tr>\n    <tr>\n      <th>2</th>\n      <td>0.514</td>\n      <td>0.583</td>\n      <td>0.431</td>\n      <td>0.477</td>\n      <td>5</td>\n      <td>0.4540</td>\n    </tr>\n    <tr>\n      <th>3</th>\n      <td>0.374</td>\n      <td>0.617</td>\n      <td>0.519</td>\n      <td>0.569</td>\n      <td>5</td>\n      <td>0.5440</td>\n    </tr>\n    <tr>\n      <th>4</th>\n      <td>0.439</td>\n      <td>0.670</td>\n      <td>0.350</td>\n      <td>0.373</td>\n      <td>5</td>\n      <td>0.3615</td>\n    </tr>\n    <tr>\n      <th>...</th>\n      <td>...</td>\n      <td>...</td>\n      <td>...</td>\n      <td>...</td>\n      <td>...</td>\n      <td>...</td>\n    </tr>\n    <tr>\n      <th>95</th>\n      <td>0.428</td>\n      <td>0.759</td>\n      <td>0.311</td>\n      <td>0.382</td>\n      <td>3</td>\n      <td>0.3465</td>\n    </tr>\n    <tr>\n      <th>96</th>\n      <td>0.498</td>\n      <td>0.697</td>\n      <td>0.346</td>\n      <td>0.350</td>\n      <td>3</td>\n      <td>0.3480</td>\n    </tr>\n    <tr>\n      <th>97</th>\n      <td>0.310</td>\n      <td>0.754</td>\n      <td>0.452</td>\n      <td>0.588</td>\n      <td>1</td>\n      <td>0.5200</td>\n    </tr>\n    <tr>\n      <th>98</th>\n      <td>0.505</td>\n      <td>0.724</td>\n      <td>0.525</td>\n      <td>0.326</td>\n      <td>2</td>\n      <td>0.4255</td>\n    </tr>\n    <tr>\n      <th>99</th>\n      <td>0.415</td>\n      <td>0.692</td>\n      <td>0.602</td>\n      <td>0.479</td>\n      <td>4</td>\n      <td>0.5405</td>\n    </tr>\n  </tbody>\n</table>\n<p>100 rows × 6 columns</p>\n</div>",
      "text/plain": "    conformity  literacy  aggression  constitution  faction_no  industry\n0        0.415     0.579       0.445         0.426           5    0.4355\n1        0.252     0.519       0.742         0.452           4    0.5970\n2        0.514     0.583       0.431         0.477           5    0.4540\n3        0.374     0.617       0.519         0.569           5    0.5440\n4        0.439     0.670       0.350         0.373           5    0.3615\n..         ...       ...         ...           ...         ...       ...\n95       0.428     0.759       0.311         0.382           3    0.3465\n96       0.498     0.697       0.346         0.350           3    0.3480\n97       0.310     0.754       0.452         0.588           1    0.5200\n98       0.505     0.724       0.525         0.326           2    0.4255\n99       0.415     0.692       0.602         0.479           4    0.5405\n\n[100 rows x 6 columns]"
     },
     "execution_count": 16,
     "metadata": {},
     "output_type": "execute_result"
    }
   ],
   "source": [
    "pops['industry'] = (pops['aggression'] + pops['constitution'])/2\r\n",
    "pops"
   ]
  },
  {
   "cell_type": "code",
   "execution_count": null,
   "metadata": {},
   "outputs": [],
   "source": []
  }
 ],
 "metadata": {
  "kernelspec": {
   "display_name": "Python 3.7.0 64-bit ('exoplanets': conda)",
   "name": "python370jvsc74a57bd0963f8bc8d1837394f85b1a87cb03282203007ac74b0df2c49e442752684865e9"
  },
  "language_info": {
   "codemirror_mode": {
    "name": "ipython",
    "version": 3
   },
   "file_extension": ".py",
   "mimetype": "text/x-python",
   "name": "python",
   "nbconvert_exporter": "python",
   "pygments_lexer": "ipython3",
   "version": "3.7.0"
  }
 },
 "nbformat": 4,
 "nbformat_minor": 5
}