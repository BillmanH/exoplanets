{
 "cells": [
  {
   "cell_type": "markdown",
   "metadata": {},
   "source": [
    "# Generating Populations and Species\n",
    "Assuming that the civilization is on the verge of moving from a phaze 0 to phase 1 civ.\n",
    "* baseline species\n",
    "* n populations (pops)\n",
    "* population varience (within the norms of the species)\n",
    "* allegiance groups to factions"
   ]
  },
  {
   "cell_type": "markdown",
   "metadata": {},
   "source": [
    "Starting with an example user form data"
   ]
  },
  {
   "cell_type": "code",
   "execution_count": 32,
   "metadata": {},
   "outputs": [],
   "source": [
    "\r\n",
    "from numpy import random, round\r\n",
    "from sklearn.cluster import KMeans\r\n",
    "import altair as alt\r\n",
    "import sys, os\r\n",
    "from sklearn.cluster import KMeans\r\n",
    "\r\n",
    "import pandas as pd\r\n"
   ]
  },
  {
   "cell_type": "code",
   "execution_count": 46,
   "metadata": {},
   "outputs": [],
   "source": [
    "# # TODO: figure out importing so that I can load game functions\r\n",
    "# game_modules = '../../web/app/creators'\r\n",
    "# django_root = '../..'\r\n",
    "# print(os.listdir(django_root))\r\n",
    "# sys.path.append(game_modules)\r\n",
    "# sys.path.append(django_root)\r\n",
    "# sys.path.append(language_p)\r\n",
    "# import language\r\n"
   ]
  },
  {
   "cell_type": "code",
   "execution_count": 74,
   "metadata": {},
   "outputs": [
    {
     "data": {
      "text/plain": "{'population_conformity': 0.4,\n 'population_literacy': 0.7,\n 'population_aggression': 0.5,\n 'population_constitution': 0.4}"
     },
     "execution_count": 74,
     "metadata": {},
     "output_type": "execute_result"
    }
   ],
   "source": [
    "\r\n",
    "data = {\r\n",
    "    'population_conformity':0.4,\r\n",
    "    'population_literacy':0.7,\r\n",
    "    'population_aggression':0.5,\r\n",
    "    'population_constitution':0.4,\r\n",
    "    'starting_pop': 100\r\n",
    "}\r\n",
    "\r\n",
    "def build_species(data):\r\n",
    "    species = {}\r\n",
    "    for attr in ['population_conformity', 'population_literacy', 'population_aggression', 'population_constitution']:\r\n",
    "        species[attr] = data[attr]\r\n",
    "    return species\r\n",
    "    \r\n",
    "species = build_species(data)\r\n",
    "species\r\n"
   ]
  },
  {
   "cell_type": "markdown",
   "metadata": {},
   "source": [
    "## Creating groups of populations, all with different attributes\r\n",
    "\r\n",
    "Populations vary based on conformity, some populations are more literate, some are more aggressive. "
   ]
  },
  {
   "cell_type": "code",
   "execution_count": 75,
   "metadata": {},
   "outputs": [
    {
     "name": "stdout",
     "output_type": "stream",
     "text": [
      "the population conformity:  0.12\n"
     ]
    },
    {
     "data": {
      "text/html": "<div>\n<style scoped>\n    .dataframe tbody tr th:only-of-type {\n        vertical-align: middle;\n    }\n\n    .dataframe tbody tr th {\n        vertical-align: top;\n    }\n\n    .dataframe thead th {\n        text-align: right;\n    }\n</style>\n<table border=\"1\" class=\"dataframe\">\n  <thead>\n    <tr style=\"text-align: right;\">\n      <th></th>\n      <th>population_conformity</th>\n      <th>population_literacy</th>\n      <th>population_aggression</th>\n      <th>population_constitution</th>\n    </tr>\n  </thead>\n  <tbody>\n    <tr>\n      <th>0</th>\n      <td>0.618</td>\n      <td>0.670</td>\n      <td>0.758</td>\n      <td>0.333</td>\n    </tr>\n    <tr>\n      <th>1</th>\n      <td>0.278</td>\n      <td>0.645</td>\n      <td>0.512</td>\n      <td>0.512</td>\n    </tr>\n    <tr>\n      <th>2</th>\n      <td>0.486</td>\n      <td>0.665</td>\n      <td>0.476</td>\n      <td>0.485</td>\n    </tr>\n    <tr>\n      <th>3</th>\n      <td>0.370</td>\n      <td>0.634</td>\n      <td>0.462</td>\n      <td>0.362</td>\n    </tr>\n    <tr>\n      <th>4</th>\n      <td>0.375</td>\n      <td>0.679</td>\n      <td>0.672</td>\n      <td>0.379</td>\n    </tr>\n    <tr>\n      <th>...</th>\n      <td>...</td>\n      <td>...</td>\n      <td>...</td>\n      <td>...</td>\n    </tr>\n    <tr>\n      <th>95</th>\n      <td>0.434</td>\n      <td>0.776</td>\n      <td>0.583</td>\n      <td>0.466</td>\n    </tr>\n    <tr>\n      <th>96</th>\n      <td>0.372</td>\n      <td>0.648</td>\n      <td>0.415</td>\n      <td>0.575</td>\n    </tr>\n    <tr>\n      <th>97</th>\n      <td>0.239</td>\n      <td>0.432</td>\n      <td>0.635</td>\n      <td>0.228</td>\n    </tr>\n    <tr>\n      <th>98</th>\n      <td>0.504</td>\n      <td>0.655</td>\n      <td>0.413</td>\n      <td>0.498</td>\n    </tr>\n    <tr>\n      <th>99</th>\n      <td>0.480</td>\n      <td>0.769</td>\n      <td>0.358</td>\n      <td>0.429</td>\n    </tr>\n  </tbody>\n</table>\n<p>100 rows × 4 columns</p>\n</div>",
      "text/plain": "    population_conformity  population_literacy  population_aggression  \\\n0                   0.618                0.670                  0.758   \n1                   0.278                0.645                  0.512   \n2                   0.486                0.665                  0.476   \n3                   0.370                0.634                  0.462   \n4                   0.375                0.679                  0.672   \n..                    ...                  ...                    ...   \n95                  0.434                0.776                  0.583   \n96                  0.372                0.648                  0.415   \n97                  0.239                0.432                  0.635   \n98                  0.504                0.655                  0.413   \n99                  0.480                0.769                  0.358   \n\n    population_constitution  \n0                     0.333  \n1                     0.512  \n2                     0.485  \n3                     0.362  \n4                     0.379  \n..                      ...  \n95                    0.466  \n96                    0.575  \n97                    0.228  \n98                    0.498  \n99                    0.429  \n\n[100 rows x 4 columns]"
     },
     "execution_count": 75,
     "metadata": {},
     "output_type": "execute_result"
    }
   ],
   "source": [
    "pop_std = .2 * (1-species['population_conformity'])\r\n",
    "print(\"the population conformity: \", pop_std)\r\n",
    "\r\n",
    "def vary_pops(species):\r\n",
    "    pop = {}\r\n",
    "    for k in list(species.keys()):\r\n",
    "        pop[k] = abs(round(random.normal(species[k], pop_std),3))\r\n",
    "    return pop\r\n",
    "\r\n",
    "pops = pd.DataFrame([vary_pops(species) for i in range(data['starting_pop'])])\r\n",
    "pops"
   ]
  },
  {
   "cell_type": "code",
   "execution_count": 79,
   "metadata": {},
   "outputs": [],
   "source": [
    "kmeans = KMeans(n_clusters=2).fit(pops)\r\n",
    "pops['faction_no'] = kmeans.labels_"
   ]
  },
  {
   "cell_type": "code",
   "execution_count": 80,
   "metadata": {},
   "outputs": [
    {
     "data": {
      "text/plain": "3.71128204"
     },
     "execution_count": 80,
     "metadata": {},
     "output_type": "execute_result"
    }
   ],
   "source": [
    "kmeans.inertia_"
   ]
  },
  {
   "cell_type": "code",
   "execution_count": 81,
   "metadata": {},
   "outputs": [
    {
     "data": {
      "text/html": "\n<div id=\"altair-viz-71fa427f59c946e284300e938cdf790f\"></div>\n<script type=\"text/javascript\">\n  (function(spec, embedOpt){\n    let outputDiv = document.currentScript.previousElementSibling;\n    if (outputDiv.id !== \"altair-viz-71fa427f59c946e284300e938cdf790f\") {\n      outputDiv = document.getElementById(\"altair-viz-71fa427f59c946e284300e938cdf790f\");\n    }\n    const paths = {\n      \"vega\": \"https://cdn.jsdelivr.net/npm//vega@5?noext\",\n      \"vega-lib\": \"https://cdn.jsdelivr.net/npm//vega-lib?noext\",\n      \"vega-lite\": \"https://cdn.jsdelivr.net/npm//vega-lite@4.8.1?noext\",\n      \"vega-embed\": \"https://cdn.jsdelivr.net/npm//vega-embed@6?noext\",\n    };\n\n    function loadScript(lib) {\n      return new Promise(function(resolve, reject) {\n        var s = document.createElement('script');\n        s.src = paths[lib];\n        s.async = true;\n        s.onload = () => resolve(paths[lib]);\n        s.onerror = () => reject(`Error loading script: ${paths[lib]}`);\n        document.getElementsByTagName(\"head\")[0].appendChild(s);\n      });\n    }\n\n    function showError(err) {\n      outputDiv.innerHTML = `<div class=\"error\" style=\"color:red;\">${err}</div>`;\n      throw err;\n    }\n\n    function displayChart(vegaEmbed) {\n      vegaEmbed(outputDiv, spec, embedOpt)\n        .catch(err => showError(`Javascript Error: ${err.message}<br>This usually means there's a typo in your chart specification. See the javascript console for the full traceback.`));\n    }\n\n    if(typeof define === \"function\" && define.amd) {\n      requirejs.config({paths});\n      require([\"vega-embed\"], displayChart, err => showError(`Error loading script: ${err.message}`));\n    } else if (typeof vegaEmbed === \"function\") {\n      displayChart(vegaEmbed);\n    } else {\n      loadScript(\"vega\")\n        .then(() => loadScript(\"vega-lite\"))\n        .then(() => loadScript(\"vega-embed\"))\n        .catch(showError)\n        .then(() => displayChart(vegaEmbed));\n    }\n  })({\"config\": {\"view\": {\"continuousWidth\": 400, \"continuousHeight\": 300}}, \"data\": {\"name\": \"data-78a3a4f5ddf7327052c4407c72b8a6e3\"}, \"mark\": \"circle\", \"encoding\": {\"color\": {\"type\": \"nominal\", \"field\": \"faction_no\"}, \"x\": {\"type\": \"quantitative\", \"field\": \"population_literacy\"}, \"y\": {\"type\": \"quantitative\", \"field\": \"population_aggression\"}}, \"$schema\": \"https://vega.github.io/schema/vega-lite/v4.8.1.json\", \"datasets\": {\"data-78a3a4f5ddf7327052c4407c72b8a6e3\": [{\"population_conformity\": 0.618, \"population_literacy\": 0.67, \"population_aggression\": 0.758, \"population_constitution\": 0.333, \"faction_no\": 0}, {\"population_conformity\": 0.278, \"population_literacy\": 0.645, \"population_aggression\": 0.512, \"population_constitution\": 0.512, \"faction_no\": 1}, {\"population_conformity\": 0.486, \"population_literacy\": 0.665, \"population_aggression\": 0.476, \"population_constitution\": 0.485, \"faction_no\": 1}, {\"population_conformity\": 0.37, \"population_literacy\": 0.634, \"population_aggression\": 0.462, \"population_constitution\": 0.362, \"faction_no\": 0}, {\"population_conformity\": 0.375, \"population_literacy\": 0.679, \"population_aggression\": 0.672, \"population_constitution\": 0.379, \"faction_no\": 0}, {\"population_conformity\": 0.377, \"population_literacy\": 0.869, \"population_aggression\": 0.652, \"population_constitution\": 0.602, \"faction_no\": 1}, {\"population_conformity\": 0.289, \"population_literacy\": 0.702, \"population_aggression\": 0.492, \"population_constitution\": 0.473, \"faction_no\": 1}, {\"population_conformity\": 0.413, \"population_literacy\": 0.8, \"population_aggression\": 0.295, \"population_constitution\": 0.48, \"faction_no\": 1}, {\"population_conformity\": 0.479, \"population_literacy\": 0.664, \"population_aggression\": 0.375, \"population_constitution\": 0.412, \"faction_no\": 1}, {\"population_conformity\": 0.322, \"population_literacy\": 0.534, \"population_aggression\": 0.495, \"population_constitution\": 0.407, \"faction_no\": 0}, {\"population_conformity\": 0.561, \"population_literacy\": 0.876, \"population_aggression\": 0.547, \"population_constitution\": 0.41, \"faction_no\": 1}, {\"population_conformity\": 0.385, \"population_literacy\": 0.623, \"population_aggression\": 0.625, \"population_constitution\": 0.514, \"faction_no\": 0}, {\"population_conformity\": 0.295, \"population_literacy\": 0.626, \"population_aggression\": 0.567, \"population_constitution\": 0.157, \"faction_no\": 0}, {\"population_conformity\": 0.331, \"population_literacy\": 0.466, \"population_aggression\": 0.582, \"population_constitution\": 0.436, \"faction_no\": 0}, {\"population_conformity\": 0.298, \"population_literacy\": 0.762, \"population_aggression\": 0.405, \"population_constitution\": 0.574, \"faction_no\": 1}, {\"population_conformity\": 0.28, \"population_literacy\": 0.508, \"population_aggression\": 0.606, \"population_constitution\": 0.403, \"faction_no\": 0}, {\"population_conformity\": 0.3, \"population_literacy\": 0.703, \"population_aggression\": 0.626, \"population_constitution\": 0.362, \"faction_no\": 0}, {\"population_conformity\": 0.51, \"population_literacy\": 0.791, \"population_aggression\": 0.452, \"population_constitution\": 0.562, \"faction_no\": 1}, {\"population_conformity\": 0.378, \"population_literacy\": 0.818, \"population_aggression\": 0.441, \"population_constitution\": 0.469, \"faction_no\": 1}, {\"population_conformity\": 0.48, \"population_literacy\": 1.002, \"population_aggression\": 0.433, \"population_constitution\": 0.529, \"faction_no\": 1}, {\"population_conformity\": 0.494, \"population_literacy\": 0.692, \"population_aggression\": 0.623, \"population_constitution\": 0.469, \"faction_no\": 0}, {\"population_conformity\": 0.471, \"population_literacy\": 0.746, \"population_aggression\": 0.307, \"population_constitution\": 0.239, \"faction_no\": 1}, {\"population_conformity\": 0.709, \"population_literacy\": 0.568, \"population_aggression\": 0.415, \"population_constitution\": 0.451, \"faction_no\": 0}, {\"population_conformity\": 0.431, \"population_literacy\": 0.84, \"population_aggression\": 0.476, \"population_constitution\": 0.483, \"faction_no\": 1}, {\"population_conformity\": 0.39, \"population_literacy\": 0.753, \"population_aggression\": 0.621, \"population_constitution\": 0.371, \"faction_no\": 0}, {\"population_conformity\": 0.517, \"population_literacy\": 0.678, \"population_aggression\": 0.449, \"population_constitution\": 0.283, \"faction_no\": 0}, {\"population_conformity\": 0.379, \"population_literacy\": 0.636, \"population_aggression\": 0.316, \"population_constitution\": 0.505, \"faction_no\": 1}, {\"population_conformity\": 0.315, \"population_literacy\": 1.019, \"population_aggression\": 0.527, \"population_constitution\": 0.46, \"faction_no\": 1}, {\"population_conformity\": 0.514, \"population_literacy\": 0.752, \"population_aggression\": 0.338, \"population_constitution\": 0.392, \"faction_no\": 1}, {\"population_conformity\": 0.525, \"population_literacy\": 0.722, \"population_aggression\": 0.537, \"population_constitution\": 0.385, \"faction_no\": 0}, {\"population_conformity\": 0.311, \"population_literacy\": 0.879, \"population_aggression\": 0.644, \"population_constitution\": 0.402, \"faction_no\": 1}, {\"population_conformity\": 0.454, \"population_literacy\": 0.652, \"population_aggression\": 0.32, \"population_constitution\": 0.525, \"faction_no\": 1}, {\"population_conformity\": 0.503, \"population_literacy\": 0.958, \"population_aggression\": 0.432, \"population_constitution\": 0.281, \"faction_no\": 1}, {\"population_conformity\": 0.281, \"population_literacy\": 0.683, \"population_aggression\": 0.598, \"population_constitution\": 0.422, \"faction_no\": 0}, {\"population_conformity\": 0.378, \"population_literacy\": 0.937, \"population_aggression\": 0.381, \"population_constitution\": 0.341, \"faction_no\": 1}, {\"population_conformity\": 0.477, \"population_literacy\": 0.818, \"population_aggression\": 0.538, \"population_constitution\": 0.453, \"faction_no\": 1}, {\"population_conformity\": 0.234, \"population_literacy\": 0.731, \"population_aggression\": 0.547, \"population_constitution\": 0.205, \"faction_no\": 0}, {\"population_conformity\": 0.334, \"population_literacy\": 0.887, \"population_aggression\": 0.23, \"population_constitution\": 0.373, \"faction_no\": 1}, {\"population_conformity\": 0.293, \"population_literacy\": 0.766, \"population_aggression\": 0.498, \"population_constitution\": 0.46, \"faction_no\": 1}, {\"population_conformity\": 0.269, \"population_literacy\": 0.876, \"population_aggression\": 0.618, \"population_constitution\": 0.348, \"faction_no\": 1}, {\"population_conformity\": 0.483, \"population_literacy\": 0.873, \"population_aggression\": 0.632, \"population_constitution\": 0.472, \"faction_no\": 1}, {\"population_conformity\": 0.475, \"population_literacy\": 0.749, \"population_aggression\": 0.409, \"population_constitution\": 0.486, \"faction_no\": 1}, {\"population_conformity\": 0.467, \"population_literacy\": 0.676, \"population_aggression\": 0.458, \"population_constitution\": 0.3, \"faction_no\": 0}, {\"population_conformity\": 0.398, \"population_literacy\": 0.619, \"population_aggression\": 0.42, \"population_constitution\": 0.41, \"faction_no\": 0}, {\"population_conformity\": 0.45, \"population_literacy\": 0.66, \"population_aggression\": 0.615, \"population_constitution\": 0.463, \"faction_no\": 0}, {\"population_conformity\": 0.474, \"population_literacy\": 0.499, \"population_aggression\": 0.525, \"population_constitution\": 0.306, \"faction_no\": 0}, {\"population_conformity\": 0.367, \"population_literacy\": 0.836, \"population_aggression\": 0.4, \"population_constitution\": 0.626, \"faction_no\": 1}, {\"population_conformity\": 0.174, \"population_literacy\": 0.79, \"population_aggression\": 0.499, \"population_constitution\": 0.452, \"faction_no\": 1}, {\"population_conformity\": 0.431, \"population_literacy\": 0.705, \"population_aggression\": 0.482, \"population_constitution\": 0.406, \"faction_no\": 1}, {\"population_conformity\": 0.475, \"population_literacy\": 0.626, \"population_aggression\": 0.444, \"population_constitution\": 0.196, \"faction_no\": 0}, {\"population_conformity\": 0.312, \"population_literacy\": 0.767, \"population_aggression\": 0.599, \"population_constitution\": 0.476, \"faction_no\": 1}, {\"population_conformity\": 0.383, \"population_literacy\": 0.706, \"population_aggression\": 0.686, \"population_constitution\": 0.051, \"faction_no\": 0}, {\"population_conformity\": 0.439, \"population_literacy\": 0.47, \"population_aggression\": 0.402, \"population_constitution\": 0.287, \"faction_no\": 0}, {\"population_conformity\": 0.498, \"population_literacy\": 0.711, \"population_aggression\": 0.529, \"population_constitution\": 0.474, \"faction_no\": 1}, {\"population_conformity\": 0.355, \"population_literacy\": 0.867, \"population_aggression\": 0.565, \"population_constitution\": 0.364, \"faction_no\": 1}, {\"population_conformity\": 0.297, \"population_literacy\": 0.697, \"population_aggression\": 0.656, \"population_constitution\": 0.346, \"faction_no\": 0}, {\"population_conformity\": 0.526, \"population_literacy\": 0.738, \"population_aggression\": 0.75, \"population_constitution\": 0.241, \"faction_no\": 0}, {\"population_conformity\": 0.363, \"population_literacy\": 0.627, \"population_aggression\": 0.59, \"population_constitution\": 0.257, \"faction_no\": 0}, {\"population_conformity\": 0.508, \"population_literacy\": 0.458, \"population_aggression\": 0.413, \"population_constitution\": 0.359, \"faction_no\": 0}, {\"population_conformity\": 0.401, \"population_literacy\": 0.752, \"population_aggression\": 0.675, \"population_constitution\": 0.3, \"faction_no\": 0}, {\"population_conformity\": 0.509, \"population_literacy\": 0.6, \"population_aggression\": 0.46, \"population_constitution\": 0.29, \"faction_no\": 0}, {\"population_conformity\": 0.371, \"population_literacy\": 0.629, \"population_aggression\": 0.691, \"population_constitution\": 0.256, \"faction_no\": 0}, {\"population_conformity\": 0.364, \"population_literacy\": 0.699, \"population_aggression\": 0.666, \"population_constitution\": 0.305, \"faction_no\": 0}, {\"population_conformity\": 0.455, \"population_literacy\": 0.493, \"population_aggression\": 0.508, \"population_constitution\": 0.359, \"faction_no\": 0}, {\"population_conformity\": 0.246, \"population_literacy\": 0.767, \"population_aggression\": 0.556, \"population_constitution\": 0.474, \"faction_no\": 1}, {\"population_conformity\": 0.282, \"population_literacy\": 0.872, \"population_aggression\": 0.191, \"population_constitution\": 0.494, \"faction_no\": 1}, {\"population_conformity\": 0.414, \"population_literacy\": 0.655, \"population_aggression\": 0.502, \"population_constitution\": 0.438, \"faction_no\": 0}, {\"population_conformity\": 0.343, \"population_literacy\": 0.856, \"population_aggression\": 0.632, \"population_constitution\": 0.237, \"faction_no\": 0}, {\"population_conformity\": 0.255, \"population_literacy\": 0.628, \"population_aggression\": 0.639, \"population_constitution\": 0.284, \"faction_no\": 0}, {\"population_conformity\": 0.498, \"population_literacy\": 0.773, \"population_aggression\": 0.32, \"population_constitution\": 0.543, \"faction_no\": 1}, {\"population_conformity\": 0.318, \"population_literacy\": 0.565, \"population_aggression\": 0.514, \"population_constitution\": 0.514, \"faction_no\": 0}, {\"population_conformity\": 0.382, \"population_literacy\": 0.64, \"population_aggression\": 0.58, \"population_constitution\": 0.318, \"faction_no\": 0}, {\"population_conformity\": 0.523, \"population_literacy\": 0.603, \"population_aggression\": 0.654, \"population_constitution\": 0.355, \"faction_no\": 0}, {\"population_conformity\": 0.577, \"population_literacy\": 0.822, \"population_aggression\": 0.528, \"population_constitution\": 0.307, \"faction_no\": 1}, {\"population_conformity\": 0.3, \"population_literacy\": 0.708, \"population_aggression\": 0.579, \"population_constitution\": 0.377, \"faction_no\": 0}, {\"population_conformity\": 0.586, \"population_literacy\": 0.671, \"population_aggression\": 0.601, \"population_constitution\": 0.359, \"faction_no\": 0}, {\"population_conformity\": 0.473, \"population_literacy\": 0.745, \"population_aggression\": 0.403, \"population_constitution\": 0.468, \"faction_no\": 1}, {\"population_conformity\": 0.246, \"population_literacy\": 0.776, \"population_aggression\": 0.605, \"population_constitution\": 0.468, \"faction_no\": 1}, {\"population_conformity\": 0.476, \"population_literacy\": 0.831, \"population_aggression\": 0.542, \"population_constitution\": 0.314, \"faction_no\": 1}, {\"population_conformity\": 0.217, \"population_literacy\": 0.489, \"population_aggression\": 0.467, \"population_constitution\": 0.359, \"faction_no\": 0}, {\"population_conformity\": 0.36, \"population_literacy\": 0.564, \"population_aggression\": 0.633, \"population_constitution\": 0.351, \"faction_no\": 0}, {\"population_conformity\": 0.491, \"population_literacy\": 0.677, \"population_aggression\": 0.312, \"population_constitution\": 0.22, \"faction_no\": 1}, {\"population_conformity\": 0.349, \"population_literacy\": 0.544, \"population_aggression\": 0.435, \"population_constitution\": 0.43, \"faction_no\": 0}, {\"population_conformity\": 0.342, \"population_literacy\": 0.802, \"population_aggression\": 0.389, \"population_constitution\": 0.432, \"faction_no\": 1}, {\"population_conformity\": 0.467, \"population_literacy\": 0.718, \"population_aggression\": 0.439, \"population_constitution\": 0.475, \"faction_no\": 1}, {\"population_conformity\": 0.387, \"population_literacy\": 0.633, \"population_aggression\": 0.555, \"population_constitution\": 0.266, \"faction_no\": 0}, {\"population_conformity\": 0.454, \"population_literacy\": 0.784, \"population_aggression\": 0.61, \"population_constitution\": 0.289, \"faction_no\": 0}, {\"population_conformity\": 0.376, \"population_literacy\": 0.705, \"population_aggression\": 0.376, \"population_constitution\": 0.322, \"faction_no\": 1}, {\"population_conformity\": 0.526, \"population_literacy\": 0.659, \"population_aggression\": 0.589, \"population_constitution\": 0.442, \"faction_no\": 0}, {\"population_conformity\": 0.465, \"population_literacy\": 0.745, \"population_aggression\": 0.313, \"population_constitution\": 0.504, \"faction_no\": 1}, {\"population_conformity\": 0.218, \"population_literacy\": 0.715, \"population_aggression\": 0.358, \"population_constitution\": 0.313, \"faction_no\": 1}, {\"population_conformity\": 0.457, \"population_literacy\": 0.697, \"population_aggression\": 0.633, \"population_constitution\": 0.364, \"faction_no\": 0}, {\"population_conformity\": 0.403, \"population_literacy\": 0.574, \"population_aggression\": 0.646, \"population_constitution\": 0.36, \"faction_no\": 0}, {\"population_conformity\": 0.514, \"population_literacy\": 0.928, \"population_aggression\": 0.64, \"population_constitution\": 0.342, \"faction_no\": 1}, {\"population_conformity\": 0.207, \"population_literacy\": 0.667, \"population_aggression\": 0.645, \"population_constitution\": 0.35, \"faction_no\": 0}, {\"population_conformity\": 0.434, \"population_literacy\": 0.776, \"population_aggression\": 0.583, \"population_constitution\": 0.466, \"faction_no\": 1}, {\"population_conformity\": 0.372, \"population_literacy\": 0.648, \"population_aggression\": 0.415, \"population_constitution\": 0.575, \"faction_no\": 1}, {\"population_conformity\": 0.239, \"population_literacy\": 0.432, \"population_aggression\": 0.635, \"population_constitution\": 0.228, \"faction_no\": 0}, {\"population_conformity\": 0.504, \"population_literacy\": 0.655, \"population_aggression\": 0.413, \"population_constitution\": 0.498, \"faction_no\": 1}, {\"population_conformity\": 0.48, \"population_literacy\": 0.769, \"population_aggression\": 0.358, \"population_constitution\": 0.429, \"faction_no\": 1}]}}, {\"mode\": \"vega-lite\"});\n</script>",
      "text/plain": "alt.Chart(...)"
     },
     "execution_count": 81,
     "metadata": {},
     "output_type": "execute_result"
    }
   ],
   "source": [
    "chart = alt.Chart(pops).mark_circle().encode(x='population_literacy',y='population_aggression',color='faction_no:N')\r\n",
    "chart"
   ]
  },
  {
   "cell_type": "markdown",
   "metadata": {},
   "source": [
    "The end result is that population factions are grouped by the idealogical differences of the people in them. This gives each faction a distinct culture. "
   ]
  },
  {
   "cell_type": "code",
   "execution_count": 84,
   "metadata": {},
   "outputs": [
    {
     "data": {
      "text/html": "<div>\n<style scoped>\n    .dataframe tbody tr th:only-of-type {\n        vertical-align: middle;\n    }\n\n    .dataframe tbody tr th {\n        vertical-align: top;\n    }\n\n    .dataframe thead th {\n        text-align: right;\n    }\n</style>\n<table border=\"1\" class=\"dataframe\">\n  <thead>\n    <tr style=\"text-align: right;\">\n      <th></th>\n      <th>population_conformity</th>\n      <th>population_literacy</th>\n      <th>population_aggression</th>\n      <th>population_constitution</th>\n      <th>faction_no</th>\n    </tr>\n  </thead>\n  <tbody>\n    <tr>\n      <th>0</th>\n      <td>0.40052</td>\n      <td>0.63176</td>\n      <td>0.57382</td>\n      <td>0.33972</td>\n      <td>1.0</td>\n    </tr>\n    <tr>\n      <th>1</th>\n      <td>0.40468</td>\n      <td>0.78764</td>\n      <td>0.45122</td>\n      <td>0.44340</td>\n      <td>0.0</td>\n    </tr>\n  </tbody>\n</table>\n</div>",
      "text/plain": "   population_conformity  population_literacy  population_aggression  \\\n0                0.40052              0.63176                0.57382   \n1                0.40468              0.78764                0.45122   \n\n   population_constitution  faction_no  \n0                  0.33972         1.0  \n1                  0.44340         0.0  "
     },
     "execution_count": 84,
     "metadata": {},
     "output_type": "execute_result"
    }
   ],
   "source": [
    "pd.DataFrame(kmeans.cluster_centers_, columns=pops.columns)"
   ]
  },
  {
   "cell_type": "markdown",
   "metadata": {},
   "source": [
    "The cluster centers can represent the 'zeitgeist' of that faction's culture. "
   ]
  },
  {
   "cell_type": "markdown",
   "metadata": {},
   "source": [
    "## Deciding the right number of factions to have."
   ]
  },
  {
   "cell_type": "code",
   "execution_count": null,
   "metadata": {},
   "outputs": [],
   "source": [
    "#"
   ]
  }
 ],
 "metadata": {
  "kernelspec": {
   "display_name": "Python 3.7.0 64-bit ('exoplanets': conda)",
   "name": "python370jvsc74a57bd0963f8bc8d1837394f85b1a87cb03282203007ac74b0df2c49e442752684865e9"
  },
  "language_info": {
   "codemirror_mode": {
    "name": "ipython",
    "version": 3
   },
   "file_extension": ".py",
   "mimetype": "text/x-python",
   "name": "python",
   "nbconvert_exporter": "python",
   "pygments_lexer": "ipython3",
   "version": "3.7.0"
  }
 },
 "nbformat": 4,
 "nbformat_minor": 5
}