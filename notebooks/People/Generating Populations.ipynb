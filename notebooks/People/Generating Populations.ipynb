{
 "cells": [
  {
   "cell_type": "markdown",
   "metadata": {},
   "source": [
    "# Generating Populations and Species\n",
    "Assuming that the civilization is on the verge of moving from a phaze 0 to phase 1 civ.\n",
    "* baseline species\n",
    "* n populations (pops)\n",
    "* population varience (within the norms of the species)\n",
    "* allegiance groups to factions"
   ]
  },
  {
   "cell_type": "markdown",
   "metadata": {},
   "source": [
    "Starting with an example user form data"
   ]
  },
  {
   "cell_type": "code",
   "execution_count": 28,
   "metadata": {},
   "outputs": [],
   "source": [
    "\r\n",
    "from numpy import random, round\r\n",
    "from sklearn.cluster import KMeans\r\n",
    "\r\n",
    "import pandas as pd\r\n"
   ]
  },
  {
   "cell_type": "code",
   "execution_count": 20,
   "metadata": {},
   "outputs": [
    {
     "data": {
      "text/plain": "{'population_conformity': 0.4,\n 'population_literacy': 0.7,\n 'population_aggression': 0.5,\n 'population_constitution': 0.4}"
     },
     "execution_count": 20,
     "metadata": {},
     "output_type": "execute_result"
    }
   ],
   "source": [
    "\r\n",
    "data = {\r\n",
    "    'population_conformity':0.4,\r\n",
    "    'population_literacy':0.7,\r\n",
    "    'population_aggression':0.5,\r\n",
    "    'population_constitution':0.4,\r\n",
    "    'starting_pop': 7\r\n",
    "}\r\n",
    "\r\n",
    "def build_species(data):\r\n",
    "    species = {}\r\n",
    "    for attr in ['population_conformity', 'population_literacy', 'population_aggression', 'population_constitution']:\r\n",
    "        species[attr] = data[attr]\r\n",
    "    return species\r\n",
    "    \r\n",
    "species = build_species(data)\r\n",
    "species\r\n"
   ]
  },
  {
   "cell_type": "code",
   "execution_count": 29,
   "metadata": {},
   "outputs": [
    {
     "data": {
      "text/html": "<div>\n<style scoped>\n    .dataframe tbody tr th:only-of-type {\n        vertical-align: middle;\n    }\n\n    .dataframe tbody tr th {\n        vertical-align: top;\n    }\n\n    .dataframe thead th {\n        text-align: right;\n    }\n</style>\n<table border=\"1\" class=\"dataframe\">\n  <thead>\n    <tr style=\"text-align: right;\">\n      <th></th>\n      <th>population_conformity</th>\n      <th>population_literacy</th>\n      <th>population_aggression</th>\n      <th>population_constitution</th>\n    </tr>\n  </thead>\n  <tbody>\n    <tr>\n      <th>0</th>\n      <td>0.565</td>\n      <td>0.099</td>\n      <td>0.502</td>\n      <td>0.406</td>\n    </tr>\n    <tr>\n      <th>1</th>\n      <td>0.354</td>\n      <td>0.726</td>\n      <td>0.332</td>\n      <td>0.501</td>\n    </tr>\n    <tr>\n      <th>2</th>\n      <td>0.498</td>\n      <td>0.935</td>\n      <td>0.512</td>\n      <td>0.310</td>\n    </tr>\n    <tr>\n      <th>3</th>\n      <td>0.240</td>\n      <td>0.883</td>\n      <td>0.537</td>\n      <td>0.496</td>\n    </tr>\n    <tr>\n      <th>4</th>\n      <td>0.202</td>\n      <td>0.572</td>\n      <td>0.502</td>\n      <td>0.460</td>\n    </tr>\n    <tr>\n      <th>5</th>\n      <td>0.510</td>\n      <td>1.005</td>\n      <td>0.047</td>\n      <td>0.218</td>\n    </tr>\n    <tr>\n      <th>6</th>\n      <td>0.405</td>\n      <td>0.847</td>\n      <td>0.357</td>\n      <td>0.586</td>\n    </tr>\n  </tbody>\n</table>\n</div>",
      "text/plain": "   population_conformity  population_literacy  population_aggression  \\\n0                  0.565                0.099                  0.502   \n1                  0.354                0.726                  0.332   \n2                  0.498                0.935                  0.512   \n3                  0.240                0.883                  0.537   \n4                  0.202                0.572                  0.502   \n5                  0.510                1.005                  0.047   \n6                  0.405                0.847                  0.357   \n\n   population_constitution  \n0                    0.406  \n1                    0.501  \n2                    0.310  \n3                    0.496  \n4                    0.460  \n5                    0.218  \n6                    0.586  "
     },
     "execution_count": 29,
     "metadata": {},
     "output_type": "execute_result"
    }
   ],
   "source": [
    "pop_std = .2\r\n",
    "\r\n",
    "def vary_pops(species):\r\n",
    "    pop = {}\r\n",
    "    for k in list(species.keys()):\r\n",
    "        pop[k] = abs(round(random.normal(species[k], pop_std),3))\r\n",
    "    return pop\r\n",
    "\r\n",
    "pd.DataFrame([vary_pops(species) for i in range(data['starting_pop'])])"
   ]
  },
  {
   "cell_type": "code",
   "execution_count": null,
   "metadata": {},
   "outputs": [],
   "source": []
  }
 ],
 "metadata": {
  "kernelspec": {
   "display_name": "Python 3.7.0 64-bit ('exoplanets': conda)",
   "name": "python370jvsc74a57bd0963f8bc8d1837394f85b1a87cb03282203007ac74b0df2c49e442752684865e9"
  },
  "language_info": {
   "codemirror_mode": {
    "name": "ipython",
    "version": 3
   },
   "file_extension": ".py",
   "mimetype": "text/x-python",
   "name": "python",
   "nbconvert_exporter": "python",
   "pygments_lexer": "ipython3",
   "version": "3.7.0"
  }
 },
 "nbformat": 4,
 "nbformat_minor": 5
}