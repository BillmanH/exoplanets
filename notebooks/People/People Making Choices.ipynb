{
 "cells": [
  {
   "cell_type": "markdown",
   "source": [
    "# How People Decide what they want to do\r\n",
    "Directed graph approach\r\n",
    "\r\n",
    "Generally people want to do a number of different things. For this I'm going to create a schema for this in a graph language that allows me to designate how much a `pop` desires to take a certain action. This will be used later when determining AI decisions. "
   ],
   "metadata": {}
  },
  {
   "cell_type": "markdown",
   "source": [],
   "metadata": {}
  },
  {
   "cell_type": "code",
   "execution_count": 24,
   "source": [
    "import sys\r\n",
    "import numpy as np\r\n",
    "import pandas as pd\r\n",
    "import altair as alt\r\n",
    "sys.path.append('..')\r\n",
    "import helpers.dbquery as db\r\n",
    "import helpers.functions as f\r\n",
    "import yaml, ssl, asyncio\r\n",
    "\r\n",
    "ssl._create_default_https_context = ssl._create_unverified_context\r\n",
    "asyncio.set_event_loop_policy(asyncio.WindowsSelectorEventLoopPolicy())\r\n",
    "import nest_asyncio\r\n",
    "# this is required for running in a Jupyter Notebook. \r\n",
    "nest_asyncio.apply()"
   ],
   "outputs": [],
   "metadata": {}
  },
  {
   "cell_type": "code",
   "execution_count": 2,
   "source": [
    "import nb_black"
   ],
   "outputs": [],
   "metadata": {}
  },
  {
   "cell_type": "code",
   "execution_count": 9,
   "source": [
    "res = db.run_query(\"g.V().hasLabel('pop').has('username','userbill').valueMap()\")\r\n",
    "pops = [db.clean_node(n) for n in res]\r\n",
    "pops[0]"
   ],
   "outputs": [
    {
     "output_type": "execute_result",
     "data": {
      "text/plain": [
       "{'conformity': '0.197',\n",
       " 'literacy': '0.822',\n",
       " 'aggression': '0.384',\n",
       " 'constitution': '0.615',\n",
       " 'objid': '5771833830958',\n",
       " 'faction_no': '2',\n",
       " 'name': 'Heznius Ying',\n",
       " 'isInFaction': '7100167726406',\n",
       " 'industry': '0.4995',\n",
       " 'wealth': '0.66075',\n",
       " 'faction_loyalty': '0.49550000000000005',\n",
       " 'username': 'userbill',\n",
       " 'objtype': 'pop',\n",
       " 'id': '5771833830958'}"
      ]
     },
     "metadata": {},
     "execution_count": 9
    }
   ],
   "metadata": {}
  },
  {
   "cell_type": "markdown",
   "source": [
    "Each population wants to do everything to a degree, the amount of desire to do that thing is expressed by the edge weight. \r\n",
    "* Attack a population\r\n",
    "* Focus on improving literacy\r\n",
    "* Focus on improving industry"
   ],
   "metadata": {}
  },
  {
   "cell_type": "markdown",
   "source": [
    "# population wants to improve industry\r\n",
    "\r\n",
    "populations want to improve industry when:\r\n",
    "* they are not wealty\r\n",
    "* they are at war\r\n",
    "\r\n",
    "\r\n"
   ],
   "metadata": {}
  },
  {
   "cell_type": "code",
   "execution_count": 30,
   "source": [
    "n = 2.5\r\n",
    "ind_df = pd.DataFrame(np.sort([float(p['wealth']) for p in pops]),columns=['wealth'])\r\n",
    "# Test equation:\r\n",
    "# ind_df = pd.DataFrame(range(10),columns=['wealth'])\r\n",
    "ind_df['desires_industry'] = ind_df['wealth'].apply(lambda x: ((x+1)**(1-n) - 1)/(1-n))\r\n",
    "alt.Chart(ind_df).mark_line().encode(x='wealth',y='desires_industry')"
   ],
   "outputs": [
    {
     "output_type": "execute_result",
     "data": {
      "text/html": [
       "\n",
       "<div id=\"altair-viz-a18aef5d2c7d4a1ba80be1f808585f4d\"></div>\n",
       "<script type=\"text/javascript\">\n",
       "  (function(spec, embedOpt){\n",
       "    let outputDiv = document.currentScript.previousElementSibling;\n",
       "    if (outputDiv.id !== \"altair-viz-a18aef5d2c7d4a1ba80be1f808585f4d\") {\n",
       "      outputDiv = document.getElementById(\"altair-viz-a18aef5d2c7d4a1ba80be1f808585f4d\");\n",
       "    }\n",
       "    const paths = {\n",
       "      \"vega\": \"https://cdn.jsdelivr.net/npm//vega@5?noext\",\n",
       "      \"vega-lib\": \"https://cdn.jsdelivr.net/npm//vega-lib?noext\",\n",
       "      \"vega-lite\": \"https://cdn.jsdelivr.net/npm//vega-lite@4.8.1?noext\",\n",
       "      \"vega-embed\": \"https://cdn.jsdelivr.net/npm//vega-embed@6?noext\",\n",
       "    };\n",
       "\n",
       "    function loadScript(lib) {\n",
       "      return new Promise(function(resolve, reject) {\n",
       "        var s = document.createElement('script');\n",
       "        s.src = paths[lib];\n",
       "        s.async = true;\n",
       "        s.onload = () => resolve(paths[lib]);\n",
       "        s.onerror = () => reject(`Error loading script: ${paths[lib]}`);\n",
       "        document.getElementsByTagName(\"head\")[0].appendChild(s);\n",
       "      });\n",
       "    }\n",
       "\n",
       "    function showError(err) {\n",
       "      outputDiv.innerHTML = `<div class=\"error\" style=\"color:red;\">${err}</div>`;\n",
       "      throw err;\n",
       "    }\n",
       "\n",
       "    function displayChart(vegaEmbed) {\n",
       "      vegaEmbed(outputDiv, spec, embedOpt)\n",
       "        .catch(err => showError(`Javascript Error: ${err.message}<br>This usually means there's a typo in your chart specification. See the javascript console for the full traceback.`));\n",
       "    }\n",
       "\n",
       "    if(typeof define === \"function\" && define.amd) {\n",
       "      requirejs.config({paths});\n",
       "      require([\"vega-embed\"], displayChart, err => showError(`Error loading script: ${err.message}`));\n",
       "    } else if (typeof vegaEmbed === \"function\") {\n",
       "      displayChart(vegaEmbed);\n",
       "    } else {\n",
       "      loadScript(\"vega\")\n",
       "        .then(() => loadScript(\"vega-lite\"))\n",
       "        .then(() => loadScript(\"vega-embed\"))\n",
       "        .catch(showError)\n",
       "        .then(() => displayChart(vegaEmbed));\n",
       "    }\n",
       "  })({\"config\": {\"view\": {\"continuousWidth\": 400, \"continuousHeight\": 300}}, \"data\": {\"name\": \"data-e97c61248973dc201a31cba976bc045d\"}, \"mark\": \"line\", \"encoding\": {\"x\": {\"type\": \"quantitative\", \"field\": \"wealth\"}, \"y\": {\"type\": \"quantitative\", \"field\": \"desires_industry\"}}, \"$schema\": \"https://vega.github.io/schema/vega-lite/v4.8.1.json\", \"datasets\": {\"data-e97c61248973dc201a31cba976bc045d\": [{\"wealth\": 0, \"desires_industry\": -0.0}, {\"wealth\": 1, \"desires_industry\": 0.43096440627115085}, {\"wealth\": 2, \"desires_industry\": 0.5383666068467498}, {\"wealth\": 3, \"desires_industry\": 0.5833333333333334}, {\"wealth\": 4, \"desires_industry\": 0.6070381872666722}, {\"wealth\": 5, \"desires_industry\": 0.6213057455040153}, {\"wealth\": 6, \"desires_industry\": 0.6306700501895974}, {\"wealth\": 7, \"desires_industry\": 0.6372038841172272}, {\"wealth\": 8, \"desires_industry\": 0.6419753086419754}, {\"wealth\": 9, \"desires_industry\": 0.6455848155988775}]}}, {\"mode\": \"vega-lite\"});\n",
       "</script>"
      ],
      "text/plain": [
       "alt.Chart(...)"
      ]
     },
     "metadata": {},
     "execution_count": 30
    }
   ],
   "metadata": {}
  },
  {
   "cell_type": "code",
   "execution_count": null,
   "source": [],
   "outputs": [],
   "metadata": {}
  }
 ],
 "metadata": {
  "interpreter": {
   "hash": "963f8bc8d1837394f85b1a87cb03282203007ac74b0df2c49e442752684865e9"
  },
  "kernelspec": {
   "name": "python3",
   "display_name": "Python 3.7.0 64-bit ('exoplanets': conda)"
  },
  "language_info": {
   "codemirror_mode": {
    "name": "ipython",
    "version": 3
   },
   "file_extension": ".py",
   "mimetype": "text/x-python",
   "name": "python",
   "nbconvert_exporter": "python",
   "pygments_lexer": "ipython3",
   "version": "3.7.0"
  },
  "orig_nbformat": 4
 },
 "nbformat": 4,
 "nbformat_minor": 2
}