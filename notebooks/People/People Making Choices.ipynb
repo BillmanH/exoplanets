{
 "cells": [
  {
   "cell_type": "markdown",
   "metadata": {},
   "source": [
    "# How People Decide what they want to do\n",
    "Directed graph approach\n",
    "\n",
    "People (`pops`) have desires for things like wealth, science and industry. \n",
    "\n",
    "## Action\n",
    "An anonymous function will choose a pop and run the following actions:\n",
    "* decide which actions, if any, that pop is capable of\n",
    "* if there is at least one desire with met requirements\n",
    "    * the pop will take the action with the greatest desire\n",
    "* if there isn't at least one action\n",
    "    * desire for one of those items will increase\n",
    "\n",
    "\n",
    "\n",
    "**Note** this notebook actualy builds the desires into the graph, overwriting existing ontology. Nodes that do this are commented out.\n",
    "\n"
   ]
  },
  {
   "cell_type": "code",
   "execution_count": 1,
   "metadata": {},
   "outputs": [],
   "source": [
    "import sys\n",
    "import numpy as np\n",
    "import pandas as pd\n",
    "import altair as alt\n",
    "sys.path.append('..')\n",
    "import helpers.dbquery as db\n",
    "import helpers.functions as f\n",
    "import yaml, ssl, asyncio\n",
    "import nb_black\n",
    "\n",
    "ssl._create_default_https_context = ssl._create_unverified_context\n",
    "asyncio.set_event_loop_policy(asyncio.WindowsSelectorEventLoopPolicy())\n",
    "import nest_asyncio\n",
    "# this is required for running in a Jupyter Notebook. \n",
    "nest_asyncio.apply()"
   ]
  },
  {
   "cell_type": "code",
   "execution_count": 5,
   "metadata": {},
   "outputs": [
    {
     "data": {
      "text/plain": [
       "{'name': 'Elpuerhou Lon',\n",
       " 'objid': '4446619274817',\n",
       " 'conformity': 0.393,\n",
       " 'literacy': 0.603,\n",
       " 'aggression': 0.649,\n",
       " 'constitution': 0.305,\n",
       " 'health': 0.5,\n",
       " 'isInFaction': '7438213295991',\n",
       " 'industry': 0.477,\n",
       " 'wealth': 0.54,\n",
       " 'factionLoyalty': 0.613,\n",
       " 'isIdle': 'True',\n",
       " 'username': 'Billmanserver',\n",
       " 'objtype': 'pop',\n",
       " 'id': '4446619274817'}"
      ]
     },
     "execution_count": 5,
     "metadata": {},
     "output_type": "execute_result"
    }
   ],
   "source": [
    "local_user = \"Billmanserver\"\n",
    "# Requires special client as 'username' is often unavailable. \n",
    "c = db.CosmosdbClient()\n",
    "\n",
    "c.run_query(f\"g.V().hasLabel('pop').has('username','{local_user}').valueMap()\")\n",
    "pops = c.clean_nodes(c.res)\n",
    "pops[0]"
   ]
  },
  {
   "cell_type": "code",
   "execution_count": 6,
   "metadata": {},
   "outputs": [],
   "source": [
    "# mapping to the modules that make the app\n",
    "sys.path.insert(0, \"../../app\")\n",
    "import creators.maths as maths\n",
    "\n"
   ]
  },
  {
   "cell_type": "markdown",
   "metadata": {},
   "source": [
    "Each population wants to do everything to a degree, the amount of desire to do that thing is expressed by the edge weight. \n",
    "* Attack a population\n",
    "* Focus on improving literacy\n",
    "* Focus on improving industry"
   ]
  },
  {
   "cell_type": "markdown",
   "metadata": {},
   "source": [
    "# Desires as Objects <a class=\"anchor\" id=\"desire\"></a>\n",
    "\n",
    "## Desire with targets.\n",
    "Both factions and pops can have desire. Action is guided by desire based on the `max(desire.weight)`.\n",
    "`desire` is an edge, the type of that desire is a property of that edge, and the edge weight is the amount of desire. The target (`node2`) is the recipient. \n",
    "\n",
    "Examples:\n",
    "* faction wants trade with faction\n",
    "* pop wants war with another pop\n",
    "* pop wants faction to go to war with faction\n",
    "\n",
    "## Desire without targets.\n",
    "\n",
    "Desires without targets must link to an objective. That objective can be it's own node.\n",
    "\n",
    "### This next cell will upload new desires from `desires.yaml`, which can be edited at any time. \n",
    "\n",
    "desires.yaml can be used to configure how people act as a default. This can be helpful in adjusting the default settings in your universe. \n"
   ]
  },
  {
   "cell_type": "code",
   "execution_count": 10,
   "metadata": {},
   "outputs": [
    {
     "ename": "AttributeError",
     "evalue": "module 'helpers.dbquery' has no attribute 'run_query'",
     "output_type": "error",
     "traceback": [
      "\u001b[1;31m---------------------------------------------------------------------------\u001b[0m",
      "\u001b[1;31mAttributeError\u001b[0m                            Traceback (most recent call last)",
      "\u001b[1;32m<ipython-input-10-223bac8e5398>\u001b[0m in \u001b[0;36m<module>\u001b[1;34m\u001b[0m\n\u001b[0;32m     13\u001b[0m \u001b[1;31m# After creating the nodes, pulling them into the notebook for reference\u001b[0m\u001b[1;33m\u001b[0m\u001b[1;33m\u001b[0m\u001b[0m\n\u001b[0;32m     14\u001b[0m \u001b[1;31m# I won't re-create them here, unless I've updated the file.\u001b[0m\u001b[1;33m\u001b[0m\u001b[1;33m\u001b[0m\u001b[0m\n\u001b[1;32m---> 15\u001b[1;33m \u001b[0mres\u001b[0m \u001b[1;33m=\u001b[0m \u001b[0mdb\u001b[0m\u001b[1;33m.\u001b[0m\u001b[0mrun_query\u001b[0m\u001b[1;33m(\u001b[0m\u001b[1;34m\"g.V().hasLabel('objective').valueMap()\"\u001b[0m\u001b[1;33m)\u001b[0m\u001b[1;33m\u001b[0m\u001b[0m\n\u001b[0m\u001b[0;32m     16\u001b[0m \u001b[0mobjectives\u001b[0m \u001b[1;33m=\u001b[0m \u001b[1;33m[\u001b[0m\u001b[0mdb\u001b[0m\u001b[1;33m.\u001b[0m\u001b[0mclean_node\u001b[0m\u001b[1;33m(\u001b[0m\u001b[0mn\u001b[0m\u001b[1;33m)\u001b[0m \u001b[1;32mfor\u001b[0m \u001b[0mn\u001b[0m \u001b[1;32min\u001b[0m \u001b[0mres\u001b[0m\u001b[1;33m]\u001b[0m\u001b[1;33m\u001b[0m\u001b[0m\n\u001b[0;32m     17\u001b[0m \u001b[0mpd\u001b[0m\u001b[1;33m.\u001b[0m\u001b[0mDataFrame\u001b[0m\u001b[1;33m(\u001b[0m\u001b[0mobjectives\u001b[0m\u001b[1;33m)\u001b[0m\u001b[1;33m\u001b[0m\u001b[0m\n",
      "\u001b[1;31mAttributeError\u001b[0m: module 'helpers.dbquery' has no attribute 'run_query'"
     ]
    }
   ],
   "source": [
    "# Drop the items, if they exist. \n",
    "# c.run_query(\"g.V().hasLabel('objective').has('username','notebook').drop()\")\n",
    "\n",
    "# # Load the new objectives\n",
    "# objectives_yaml = yaml.safe_load(open(\"desires.yaml\"))['objectives']\n",
    "# for i,o in enumerate(objectives_yaml):\n",
    "#     objectives_yaml[i]['objid'] = maths.uuid()\n",
    "# data = {\"nodes\":objectives_yaml,'edges':[]}\n",
    "\n",
    "# # Then Create the nodes and add them to the DB\n",
    "# c.upload_data('notebook',data)\n",
    "\n",
    "# After creating the nodes, pulling them into the notebook for reference\n",
    "# I won't re-create them here, unless I've updated the file. \n",
    "res = db.run_query(\"g.V().hasLabel('objective').valueMap()\")\n",
    "objectives = [db.clean_node(n) for n in res]\n",
    "pd.DataFrame(objectives)\n"
   ]
  },
  {
   "attachments": {},
   "cell_type": "markdown",
   "metadata": {},
   "source": [
    "Casting and uploading the objectives"
   ]
  },
  {
   "cell_type": "markdown",
   "metadata": {},
   "source": [
    "The same for actions:"
   ]
  },
  {
   "cell_type": "code",
   "execution_count": 11,
   "metadata": {},
   "outputs": [
    {
     "data": {
      "text/html": [
       "<div>\n",
       "<style scoped>\n",
       "    .dataframe tbody tr th:only-of-type {\n",
       "        vertical-align: middle;\n",
       "    }\n",
       "\n",
       "    .dataframe tbody tr th {\n",
       "        vertical-align: top;\n",
       "    }\n",
       "\n",
       "    .dataframe thead th {\n",
       "        text-align: right;\n",
       "    }\n",
       "</style>\n",
       "<table border=\"1\" class=\"dataframe\">\n",
       "  <thead>\n",
       "    <tr style=\"text-align: right;\">\n",
       "      <th></th>\n",
       "      <th>type</th>\n",
       "      <th>applies_to</th>\n",
       "      <th>effort</th>\n",
       "      <th>requires_attr</th>\n",
       "      <th>requirement_description</th>\n",
       "      <th>augments_self_properties</th>\n",
       "      <th>comment</th>\n",
       "      <th>username</th>\n",
       "      <th>objtype</th>\n",
       "      <th>objid</th>\n",
       "      <th>id</th>\n",
       "    </tr>\n",
       "  </thead>\n",
       "  <tbody>\n",
       "    <tr>\n",
       "      <th>0</th>\n",
       "      <td>patriot_education</td>\n",
       "      <td>pop</td>\n",
       "      <td>10</td>\n",
       "      <td>faction_loyalty;.1</td>\n",
       "      <td>population loyalty to faction must be &gt; .1</td>\n",
       "      <td>faction_loyalty,literacy,aggression;0.05,0.01,...</td>\n",
       "      <td>expand public education programs with a collec...</td>\n",
       "      <td>notebook</td>\n",
       "      <td>action</td>\n",
       "      <td>0350974030416</td>\n",
       "      <td>0350974030416</td>\n",
       "    </tr>\n",
       "    <tr>\n",
       "      <th>1</th>\n",
       "      <td>healthcare_initialtives</td>\n",
       "      <td>pop</td>\n",
       "      <td>15</td>\n",
       "      <td>wealth;.1</td>\n",
       "      <td>population wealth &gt; .1</td>\n",
       "      <td>health,wealth;0.01,-.01</td>\n",
       "      <td>increase the health and literacy of other popu...</td>\n",
       "      <td>notebook</td>\n",
       "      <td>action</td>\n",
       "      <td>8724677636972</td>\n",
       "      <td>8724677636972</td>\n",
       "    </tr>\n",
       "    <tr>\n",
       "      <th>2</th>\n",
       "      <td>individual_education</td>\n",
       "      <td>pop</td>\n",
       "      <td>15</td>\n",
       "      <td>wealth;.1</td>\n",
       "      <td>population wealth &gt; .1</td>\n",
       "      <td>wealth,literacy,faction_loyalty;-.1,0.01,-.01</td>\n",
       "      <td>expand privatized education, increase literacy...</td>\n",
       "      <td>notebook</td>\n",
       "      <td>action</td>\n",
       "      <td>4745964700937</td>\n",
       "      <td>4745964700937</td>\n",
       "    </tr>\n",
       "  </tbody>\n",
       "</table>\n",
       "</div>"
      ],
      "text/plain": [
       "                      type applies_to  effort       requires_attr  \\\n",
       "0        patriot_education        pop      10  faction_loyalty;.1   \n",
       "1  healthcare_initialtives        pop      15           wealth;.1   \n",
       "2     individual_education        pop      15           wealth;.1   \n",
       "\n",
       "                      requirement_description  \\\n",
       "0  population loyalty to faction must be > .1   \n",
       "1                      population wealth > .1   \n",
       "2                      population wealth > .1   \n",
       "\n",
       "                            augments_self_properties  \\\n",
       "0  faction_loyalty,literacy,aggression;0.05,0.01,...   \n",
       "1                            health,wealth;0.01,-.01   \n",
       "2      wealth,literacy,faction_loyalty;-.1,0.01,-.01   \n",
       "\n",
       "                                             comment  username objtype  \\\n",
       "0  expand public education programs with a collec...  notebook  action   \n",
       "1  increase the health and literacy of other popu...  notebook  action   \n",
       "2  expand privatized education, increase literacy...  notebook  action   \n",
       "\n",
       "           objid             id  \n",
       "0  0350974030416  0350974030416  \n",
       "1  8724677636972  8724677636972  \n",
       "2  4745964700937  4745964700937  "
      ]
     },
     "execution_count": 11,
     "metadata": {},
     "output_type": "execute_result"
    }
   ],
   "source": [
    "# # Drop the items, if they exist. \n",
    "# db.run_query(\"g.V().hasLabel('action').has('username','notebook').drop()\")\n",
    "# actions_yaml = yaml.safe_load(open(\"actions_pop.yaml\"))['actions']\n",
    "# data = {\"nodes\":actions_yaml,'edges':[]}\n",
    "# data \n",
    "\n",
    "# # Then Create the nodes and add them to the DB\n",
    "# db.upload_data(data,verbose=True)\n",
    "\n",
    "# After creating the nodes, pulling them into the notebook for reference\n",
    "# I won't re-create them here, unless I've updated the file. \n",
    "res = db.run_query(\"g.V().hasLabel('action').valueMap()\")\n",
    "action = [db.clean_node(n) for n in res]\n",
    "pd.DataFrame(action)\n"
   ]
  },
  {
   "cell_type": "markdown",
   "metadata": {},
   "source": [
    "Actions that have `applies_to:\"pop\"` will be loaded to new populations as a default. "
   ]
  },
  {
   "cell_type": "markdown",
   "metadata": {},
   "source": []
  },
  {
   "cell_type": "markdown",
   "metadata": {},
   "source": [
    "# population wants to improve industry\n",
    "\n",
    "populations want to improve industry when:\n",
    "* they are not wealty\n",
    "* they are at war\n",
    "\n",
    "\n"
   ]
  },
  {
   "cell_type": "code",
   "execution_count": 11,
   "metadata": {},
   "outputs": [
    {
     "data": {
      "text/html": [
       "\n",
       "<div id=\"altair-viz-7c6cd524242c4c48b56141884e5ef1fe\"></div>\n",
       "<script type=\"text/javascript\">\n",
       "  (function(spec, embedOpt){\n",
       "    let outputDiv = document.currentScript.previousElementSibling;\n",
       "    if (outputDiv.id !== \"altair-viz-7c6cd524242c4c48b56141884e5ef1fe\") {\n",
       "      outputDiv = document.getElementById(\"altair-viz-7c6cd524242c4c48b56141884e5ef1fe\");\n",
       "    }\n",
       "    const paths = {\n",
       "      \"vega\": \"https://cdn.jsdelivr.net/npm//vega@5?noext\",\n",
       "      \"vega-lib\": \"https://cdn.jsdelivr.net/npm//vega-lib?noext\",\n",
       "      \"vega-lite\": \"https://cdn.jsdelivr.net/npm//vega-lite@4.8.1?noext\",\n",
       "      \"vega-embed\": \"https://cdn.jsdelivr.net/npm//vega-embed@6?noext\",\n",
       "    };\n",
       "\n",
       "    function loadScript(lib) {\n",
       "      return new Promise(function(resolve, reject) {\n",
       "        var s = document.createElement('script');\n",
       "        s.src = paths[lib];\n",
       "        s.async = true;\n",
       "        s.onload = () => resolve(paths[lib]);\n",
       "        s.onerror = () => reject(`Error loading script: ${paths[lib]}`);\n",
       "        document.getElementsByTagName(\"head\")[0].appendChild(s);\n",
       "      });\n",
       "    }\n",
       "\n",
       "    function showError(err) {\n",
       "      outputDiv.innerHTML = `<div class=\"error\" style=\"color:red;\">${err}</div>`;\n",
       "      throw err;\n",
       "    }\n",
       "\n",
       "    function displayChart(vegaEmbed) {\n",
       "      vegaEmbed(outputDiv, spec, embedOpt)\n",
       "        .catch(err => showError(`Javascript Error: ${err.message}<br>This usually means there's a typo in your chart specification. See the javascript console for the full traceback.`));\n",
       "    }\n",
       "\n",
       "    if(typeof define === \"function\" && define.amd) {\n",
       "      requirejs.config({paths});\n",
       "      require([\"vega-embed\"], displayChart, err => showError(`Error loading script: ${err.message}`));\n",
       "    } else if (typeof vegaEmbed === \"function\") {\n",
       "      displayChart(vegaEmbed);\n",
       "    } else {\n",
       "      loadScript(\"vega\")\n",
       "        .then(() => loadScript(\"vega-lite\"))\n",
       "        .then(() => loadScript(\"vega-embed\"))\n",
       "        .catch(showError)\n",
       "        .then(() => displayChart(vegaEmbed));\n",
       "    }\n",
       "  })({\"config\": {\"view\": {\"continuousWidth\": 400, \"continuousHeight\": 300}}, \"data\": {\"name\": \"data-6df6e6ca78ef2f4e8e0a8af853020c5c\"}, \"mark\": \"line\", \"encoding\": {\"x\": {\"type\": \"quantitative\", \"field\": \"base\"}, \"y\": {\"type\": \"quantitative\", \"field\": \"desire_base\"}}, \"title\": \"Desire relative to the base attribute\", \"$schema\": \"https://vega.github.io/schema/vega-lite/v4.8.1.json\", \"datasets\": {\"data-6df6e6ca78ef2f4e8e0a8af853020c5c\": [{\"wealth\": 0.548, \"base\": 0, \"desires_industry\": 0.35400516795865633, \"desire_base\": -0.0}, {\"wealth\": 0.6058, \"base\": 1, \"desires_industry\": 0.3772574417735708, \"desire_base\": 0.5}, {\"wealth\": 0.6082, \"base\": 2, \"desires_industry\": 0.3781867926874767, \"desire_base\": 0.6666666666666667}, {\"wealth\": 0.6088, \"base\": 3, \"desires_industry\": 0.3784186971655893, \"desire_base\": 0.75}, {\"wealth\": 0.6362, \"base\": 4, \"desires_industry\": 0.38882777166605553, \"desire_base\": 0.8}, {\"wealth\": 0.643, \"base\": 5, \"desires_industry\": 0.39135727328058434, \"desire_base\": 0.8333333333333334}, {\"wealth\": 0.7252, \"base\": 6, \"desires_industry\": 0.4203570600510086, \"desire_base\": 0.8571428571428572}]}}, {\"mode\": \"vega-lite\"});\n",
       "</script>"
      ],
      "text/plain": [
       "alt.Chart(...)"
      ]
     },
     "execution_count": 11,
     "metadata": {},
     "output_type": "execute_result"
    }
   ],
   "source": [
    "# Marginal return on base attribute\n",
    "n = 2\n",
    "ind_df = pd.DataFrame(np.sort([float(p['wealth']) for p in pops]),columns=['wealth'])\n",
    "ind_df['base'] = range(len(ind_df))\n",
    "ind_df['desires_industry'] = ind_df['wealth'].apply(lambda x: ((x+1)**(1-n) - 1)/(1-n))\n",
    "ind_df['desire_base'] = ind_df['base'].apply(lambda x: ((x+1)**(1-n) - 1)/(1-n))\n",
    "alt.Chart(ind_df).mark_line().encode(x='base',y='desire_base').properties(title=\"Desire relative to the base attribute\")"
   ]
  },
  {
   "cell_type": "code",
   "execution_count": 12,
   "metadata": {},
   "outputs": [
    {
     "data": {
      "text/html": [
       "\n",
       "<div id=\"altair-viz-7c47a814256a4af9ac4094842410b119\"></div>\n",
       "<script type=\"text/javascript\">\n",
       "  (function(spec, embedOpt){\n",
       "    let outputDiv = document.currentScript.previousElementSibling;\n",
       "    if (outputDiv.id !== \"altair-viz-7c47a814256a4af9ac4094842410b119\") {\n",
       "      outputDiv = document.getElementById(\"altair-viz-7c47a814256a4af9ac4094842410b119\");\n",
       "    }\n",
       "    const paths = {\n",
       "      \"vega\": \"https://cdn.jsdelivr.net/npm//vega@5?noext\",\n",
       "      \"vega-lib\": \"https://cdn.jsdelivr.net/npm//vega-lib?noext\",\n",
       "      \"vega-lite\": \"https://cdn.jsdelivr.net/npm//vega-lite@4.8.1?noext\",\n",
       "      \"vega-embed\": \"https://cdn.jsdelivr.net/npm//vega-embed@6?noext\",\n",
       "    };\n",
       "\n",
       "    function loadScript(lib) {\n",
       "      return new Promise(function(resolve, reject) {\n",
       "        var s = document.createElement('script');\n",
       "        s.src = paths[lib];\n",
       "        s.async = true;\n",
       "        s.onload = () => resolve(paths[lib]);\n",
       "        s.onerror = () => reject(`Error loading script: ${paths[lib]}`);\n",
       "        document.getElementsByTagName(\"head\")[0].appendChild(s);\n",
       "      });\n",
       "    }\n",
       "\n",
       "    function showError(err) {\n",
       "      outputDiv.innerHTML = `<div class=\"error\" style=\"color:red;\">${err}</div>`;\n",
       "      throw err;\n",
       "    }\n",
       "\n",
       "    function displayChart(vegaEmbed) {\n",
       "      vegaEmbed(outputDiv, spec, embedOpt)\n",
       "        .catch(err => showError(`Javascript Error: ${err.message}<br>This usually means there's a typo in your chart specification. See the javascript console for the full traceback.`));\n",
       "    }\n",
       "\n",
       "    if(typeof define === \"function\" && define.amd) {\n",
       "      requirejs.config({paths});\n",
       "      require([\"vega-embed\"], displayChart, err => showError(`Error loading script: ${err.message}`));\n",
       "    } else if (typeof vegaEmbed === \"function\") {\n",
       "      displayChart(vegaEmbed);\n",
       "    } else {\n",
       "      loadScript(\"vega\")\n",
       "        .then(() => loadScript(\"vega-lite\"))\n",
       "        .then(() => loadScript(\"vega-embed\"))\n",
       "        .catch(showError)\n",
       "        .then(() => displayChart(vegaEmbed));\n",
       "    }\n",
       "  })({\"config\": {\"view\": {\"continuousWidth\": 400, \"continuousHeight\": 300}}, \"data\": {\"name\": \"data-6df6e6ca78ef2f4e8e0a8af853020c5c\"}, \"mark\": \"line\", \"encoding\": {\"x\": {\"type\": \"nominal\", \"field\": \"wealth\"}, \"y\": {\"type\": \"quantitative\", \"field\": \"desires_industry\"}}, \"title\": \"Desires wealth industry relative to industry\", \"$schema\": \"https://vega.github.io/schema/vega-lite/v4.8.1.json\", \"datasets\": {\"data-6df6e6ca78ef2f4e8e0a8af853020c5c\": [{\"wealth\": 0.548, \"base\": 0, \"desires_industry\": 0.35400516795865633, \"desire_base\": -0.0}, {\"wealth\": 0.6058, \"base\": 1, \"desires_industry\": 0.3772574417735708, \"desire_base\": 0.5}, {\"wealth\": 0.6082, \"base\": 2, \"desires_industry\": 0.3781867926874767, \"desire_base\": 0.6666666666666667}, {\"wealth\": 0.6088, \"base\": 3, \"desires_industry\": 0.3784186971655893, \"desire_base\": 0.75}, {\"wealth\": 0.6362, \"base\": 4, \"desires_industry\": 0.38882777166605553, \"desire_base\": 0.8}, {\"wealth\": 0.643, \"base\": 5, \"desires_industry\": 0.39135727328058434, \"desire_base\": 0.8333333333333334}, {\"wealth\": 0.7252, \"base\": 6, \"desires_industry\": 0.4203570600510086, \"desire_base\": 0.8571428571428572}]}}, {\"mode\": \"vega-lite\"});\n",
       "</script>"
      ],
      "text/plain": [
       "alt.Chart(...)"
      ]
     },
     "execution_count": 12,
     "metadata": {},
     "output_type": "execute_result"
    }
   ],
   "source": [
    "alt.Chart(ind_df).mark_line().encode(x='wealth:N',y='desires_industry').properties(title=\"Desires wealth industry relative to industry\")"
   ]
  },
  {
   "cell_type": "markdown",
   "metadata": {},
   "source": [
    "## feeding that desire to the populations\n",
    "\n",
    "Per above, the initial desire to do a thing is dependant on the `leading attribute`. This makes it easy to adjust the population desires in the `desires.yaml`."
   ]
  },
  {
   "cell_type": "code",
   "execution_count": 13,
   "metadata": {},
   "outputs": [
    {
     "name": "stdout",
     "output_type": "stream",
     "text": [
      "{'conformity': 0.199, 'literacy': 0.722, 'aggression': 0.508, 'constitution': 0.481, 'objid': '4253777177342', 'faction_no': 0, 'name': 'Roysa Ta', 'isInFaction': '3323278109620', 'industry': 0.4945, 'wealth': 0.6082, 'faction_loyalty': 0.5225, 'username': 'BillmanLocal2', 'objtype': 'pop', 'id': '4253777177342'}\n",
      "{'type': 'industry', 'weight': '0.5', 'leadingAttribute': 'wealth', 'comment': 'build factories, skyscrapers, infrastructure', 'username': 'notebook', 'objtype': 'objective', 'objid': '2008795542230', 'id': '2008795542230'}\n"
     ]
    }
   ],
   "source": [
    "def get_desire(x):\n",
    "       return np.round(((float(x)+1)**(1-n) - 1)/(1-n),3)\n",
    "\n",
    "popno = 0\n",
    "objectiveno = 0\n",
    "\n",
    "print(pops[popno])\n",
    "print(objectives[objectiveno])"
   ]
  },
  {
   "cell_type": "code",
   "execution_count": 14,
   "metadata": {},
   "outputs": [
    {
     "data": {
      "text/plain": [
       "0.378"
      ]
     },
     "execution_count": 14,
     "metadata": {},
     "output_type": "execute_result"
    }
   ],
   "source": [
    "get_desire(pops[popno][objectives[objectiveno]['leadingAttribute']])"
   ]
  },
  {
   "cell_type": "markdown",
   "metadata": {},
   "source": [
    "Create a desire edge for each desire, for each population."
   ]
  },
  {
   "cell_type": "code",
   "execution_count": 15,
   "metadata": {},
   "outputs": [],
   "source": [
    "edges = []\n",
    "for p in pops:\n",
    "    for o in objectives:\n",
    "        edge = {'label':'desires',\n",
    "                'node1':p['objid'],\n",
    "                'node2':o['objid'],\n",
    "                'desire':o['type'],\n",
    "                'weight':get_desire(p[o['leadingAttribute']])}\n",
    "        edges.append(edge)"
   ]
  },
  {
   "cell_type": "code",
   "execution_count": 16,
   "metadata": {},
   "outputs": [
    {
     "data": {
      "text/plain": [
       "{'type': 'science',\n",
       " 'weight': '0.5',\n",
       " 'leadingAttribute': 'literacy',\n",
       " 'comment': 'building schools, education systems, information infrastructure',\n",
       " 'username': 'notebook',\n",
       " 'objtype': 'objective',\n",
       " 'objid': '7056154012146',\n",
       " 'id': '7056154012146'}"
      ]
     },
     "execution_count": 16,
     "metadata": {},
     "output_type": "execute_result"
    }
   ],
   "source": [
    "o"
   ]
  },
  {
   "cell_type": "markdown",
   "metadata": {},
   "source": [
    "# Weighing based on the strongest desire\n",
    "\n",
    "Here is how you take one pop, and calculate what it desires most. "
   ]
  },
  {
   "cell_type": "code",
   "execution_count": 17,
   "metadata": {},
   "outputs": [
    {
     "data": {
      "text/html": [
       "<div>\n",
       "<style scoped>\n",
       "    .dataframe tbody tr th:only-of-type {\n",
       "        vertical-align: middle;\n",
       "    }\n",
       "\n",
       "    .dataframe tbody tr th {\n",
       "        vertical-align: top;\n",
       "    }\n",
       "\n",
       "    .dataframe thead th {\n",
       "        text-align: right;\n",
       "    }\n",
       "</style>\n",
       "<table border=\"1\" class=\"dataframe\">\n",
       "  <thead>\n",
       "    <tr style=\"text-align: right;\">\n",
       "      <th></th>\n",
       "      <th>type</th>\n",
       "      <th>weight</th>\n",
       "      <th>leadingAttribute</th>\n",
       "      <th>comment</th>\n",
       "      <th>username</th>\n",
       "      <th>objtype</th>\n",
       "      <th>objid</th>\n",
       "      <th>id</th>\n",
       "    </tr>\n",
       "  </thead>\n",
       "  <tbody>\n",
       "    <tr>\n",
       "      <th>0</th>\n",
       "      <td>industry</td>\n",
       "      <td>0.5</td>\n",
       "      <td>wealth</td>\n",
       "      <td>build factories, skyscrapers, infrastructure</td>\n",
       "      <td>notebook</td>\n",
       "      <td>objective</td>\n",
       "      <td>2008795542230</td>\n",
       "      <td>2008795542230</td>\n",
       "    </tr>\n",
       "    <tr>\n",
       "      <th>1</th>\n",
       "      <td>expansion</td>\n",
       "      <td>0.5</td>\n",
       "      <td>industry</td>\n",
       "      <td>to increase population, eventually becoming a ...</td>\n",
       "      <td>notebook</td>\n",
       "      <td>objective</td>\n",
       "      <td>3832546566671</td>\n",
       "      <td>3832546566671</td>\n",
       "    </tr>\n",
       "    <tr>\n",
       "      <th>2</th>\n",
       "      <td>war</td>\n",
       "      <td>0.4</td>\n",
       "      <td>aggression</td>\n",
       "      <td>the general amount that the society wants to f...</td>\n",
       "      <td>notebook</td>\n",
       "      <td>objective</td>\n",
       "      <td>9111777612067</td>\n",
       "      <td>9111777612067</td>\n",
       "    </tr>\n",
       "    <tr>\n",
       "      <th>3</th>\n",
       "      <td>wealth</td>\n",
       "      <td>0.5</td>\n",
       "      <td>literacy</td>\n",
       "      <td>increasing luxury, entertainiment and amenities</td>\n",
       "      <td>notebook</td>\n",
       "      <td>objective</td>\n",
       "      <td>9171875985828</td>\n",
       "      <td>9171875985828</td>\n",
       "    </tr>\n",
       "    <tr>\n",
       "      <th>4</th>\n",
       "      <td>science</td>\n",
       "      <td>0.5</td>\n",
       "      <td>literacy</td>\n",
       "      <td>building schools, education systems, informati...</td>\n",
       "      <td>notebook</td>\n",
       "      <td>objective</td>\n",
       "      <td>7056154012146</td>\n",
       "      <td>7056154012146</td>\n",
       "    </tr>\n",
       "  </tbody>\n",
       "</table>\n",
       "</div>"
      ],
      "text/plain": [
       "        type weight leadingAttribute  \\\n",
       "0   industry    0.5           wealth   \n",
       "1  expansion    0.5         industry   \n",
       "2        war    0.4       aggression   \n",
       "3     wealth    0.5         literacy   \n",
       "4    science    0.5         literacy   \n",
       "\n",
       "                                             comment  username    objtype  \\\n",
       "0       build factories, skyscrapers, infrastructure  notebook  objective   \n",
       "1  to increase population, eventually becoming a ...  notebook  objective   \n",
       "2  the general amount that the society wants to f...  notebook  objective   \n",
       "3    increasing luxury, entertainiment and amenities  notebook  objective   \n",
       "4  building schools, education systems, informati...  notebook  objective   \n",
       "\n",
       "           objid             id  \n",
       "0  2008795542230  2008795542230  \n",
       "1  3832546566671  3832546566671  \n",
       "2  9111777612067  9111777612067  \n",
       "3  9171875985828  9171875985828  \n",
       "4  7056154012146  7056154012146  "
      ]
     },
     "execution_count": 17,
     "metadata": {},
     "output_type": "execute_result"
    }
   ],
   "source": [
    "query = \"g.V().hasLabel('objective').valueMap()\"\n",
    "db.qtodf(query)"
   ]
  },
  {
   "cell_type": "code",
   "execution_count": null,
   "metadata": {},
   "outputs": [],
   "source": [
    "db.qtodf(f\"g.V().hasLabel('pop').has('username','{local_user}').limit(2).valueMap()\")"
   ]
  },
  {
   "cell_type": "markdown",
   "metadata": {},
   "source": [
    "Arbitrarily grabbing a pop id: `9033676237817`"
   ]
  },
  {
   "cell_type": "code",
   "execution_count": 18,
   "metadata": {},
   "outputs": [],
   "source": [
    "popid1 = \"4253777177342\"\n",
    "popid2 = \"8383433262758\""
   ]
  },
  {
   "cell_type": "markdown",
   "metadata": {},
   "source": [
    "I'll likely revisit this query, but it moves the project along for now. This returns the desire for each objective. This can be expanded as it grows. "
   ]
  },
  {
   "cell_type": "code",
   "execution_count": 31,
   "metadata": {},
   "outputs": [
    {
     "data": {
      "text/html": [
       "<div>\n",
       "<style scoped>\n",
       "    .dataframe tbody tr th:only-of-type {\n",
       "        vertical-align: middle;\n",
       "    }\n",
       "\n",
       "    .dataframe tbody tr th {\n",
       "        vertical-align: top;\n",
       "    }\n",
       "\n",
       "    .dataframe thead th {\n",
       "        text-align: right;\n",
       "    }\n",
       "</style>\n",
       "<table border=\"1\" class=\"dataframe\">\n",
       "  <thead>\n",
       "    <tr style=\"text-align: right;\">\n",
       "      <th></th>\n",
       "      <th>name</th>\n",
       "      <th>objid</th>\n",
       "      <th>weight</th>\n",
       "      <th>type</th>\n",
       "      <th>objid</th>\n",
       "      <th>comment</th>\n",
       "      <th>leadingAttribute</th>\n",
       "    </tr>\n",
       "  </thead>\n",
       "  <tbody>\n",
       "    <tr>\n",
       "      <th>0</th>\n",
       "      <td>Renna Ditan</td>\n",
       "      <td>8383433262758</td>\n",
       "      <td>0.389</td>\n",
       "      <td>industry</td>\n",
       "      <td>2008795542230</td>\n",
       "      <td>build factories, skyscrapers, infrastructure</td>\n",
       "      <td>wealth</td>\n",
       "    </tr>\n",
       "    <tr>\n",
       "      <th>1</th>\n",
       "      <td>Renna Ditan</td>\n",
       "      <td>8383433262758</td>\n",
       "      <td>0.415</td>\n",
       "      <td>expansion</td>\n",
       "      <td>3832546566671</td>\n",
       "      <td>to increase population, eventually becoming a ...</td>\n",
       "      <td>industry</td>\n",
       "    </tr>\n",
       "    <tr>\n",
       "      <th>2</th>\n",
       "      <td>Renna Ditan</td>\n",
       "      <td>8383433262758</td>\n",
       "      <td>0.360</td>\n",
       "      <td>wealth</td>\n",
       "      <td>9171875985828</td>\n",
       "      <td>increasing luxury, entertainiment and amenities</td>\n",
       "      <td>literacy</td>\n",
       "    </tr>\n",
       "    <tr>\n",
       "      <th>3</th>\n",
       "      <td>Renna Ditan</td>\n",
       "      <td>8383433262758</td>\n",
       "      <td>0.362</td>\n",
       "      <td>war</td>\n",
       "      <td>9111777612067</td>\n",
       "      <td>the general amount that the society wants to f...</td>\n",
       "      <td>aggression</td>\n",
       "    </tr>\n",
       "    <tr>\n",
       "      <th>4</th>\n",
       "      <td>Renna Ditan</td>\n",
       "      <td>8383433262758</td>\n",
       "      <td>0.360</td>\n",
       "      <td>science</td>\n",
       "      <td>7056154012146</td>\n",
       "      <td>building schools, education systems, informati...</td>\n",
       "      <td>literacy</td>\n",
       "    </tr>\n",
       "  </tbody>\n",
       "</table>\n",
       "</div>"
      ],
      "text/plain": [
       "          name          objid  weight       type          objid  \\\n",
       "0  Renna Ditan  8383433262758   0.389   industry  2008795542230   \n",
       "1  Renna Ditan  8383433262758   0.415  expansion  3832546566671   \n",
       "2  Renna Ditan  8383433262758   0.360     wealth  9171875985828   \n",
       "3  Renna Ditan  8383433262758   0.362        war  9111777612067   \n",
       "4  Renna Ditan  8383433262758   0.360    science  7056154012146   \n",
       "\n",
       "                                             comment leadingAttribute  \n",
       "0       build factories, skyscrapers, infrastructure           wealth  \n",
       "1  to increase population, eventually becoming a ...         industry  \n",
       "2    increasing luxury, entertainiment and amenities         literacy  \n",
       "3  the general amount that the society wants to f...       aggression  \n",
       "4  building schools, education systems, informati...         literacy  "
      ]
     },
     "execution_count": 31,
     "metadata": {},
     "output_type": "execute_result"
    }
   ],
   "source": [
    "def flatten(list_of_lists):\n",
    "    if len(list_of_lists) == 0:\n",
    "        return list_of_lists\n",
    "    if isinstance(list_of_lists[0], list):\n",
    "        return flatten(list_of_lists[0]) + flatten(list_of_lists[1:])\n",
    "    return list_of_lists[:1] + flatten(list_of_lists[1:])\n",
    "\n",
    "d_map = db.run_query(f\"g.V().has('objid','{popid2}').outE('desires').inV().dedup().path().by(values('name','objid').fold()).by('weight').by(values('type','objid','comment','leadingAttribute').fold())\")\n",
    "desires_list = [flatten(d['objects']) for d in d_map]\n",
    "df_desires = pd.DataFrame(desires_list, columns=['name','objid','weight','type','objid','comment','leadingAttribute'])\n",
    "df_desires"
   ]
  },
  {
   "cell_type": "code",
   "execution_count": null,
   "metadata": {},
   "outputs": [],
   "source": [
    "columns=['name','objid','weight','type','objid','comment','leadingAttribute']\n",
    "[{columns[j[0]]:j[1] for j in enumerate(i) if columns[j[0]]!='objid'} for i in regular_list]"
   ]
  },
  {
   "cell_type": "markdown",
   "metadata": {},
   "source": [
    "# User actions\n",
    "\n",
    "Specifically actions that are taken by the user (not things pops do by themselves)\n",
    "Actions have a relationship with desire.\n",
    "* the `leadingdesire` shows which desire warrants that action\n",
    "* the `required_desire` shows how much they need to want it for it to be available. "
   ]
  },
  {
   "cell_type": "code",
   "execution_count": 27,
   "metadata": {},
   "outputs": [
    {
     "data": {
      "text/html": [
       "<div>\n",
       "<style scoped>\n",
       "    .dataframe tbody tr th:only-of-type {\n",
       "        vertical-align: middle;\n",
       "    }\n",
       "\n",
       "    .dataframe tbody tr th {\n",
       "        vertical-align: top;\n",
       "    }\n",
       "\n",
       "    .dataframe thead th {\n",
       "        text-align: right;\n",
       "    }\n",
       "</style>\n",
       "<table border=\"1\" class=\"dataframe\">\n",
       "  <thead>\n",
       "    <tr style=\"text-align: right;\">\n",
       "      <th></th>\n",
       "      <th>type</th>\n",
       "      <th>required_desire</th>\n",
       "      <th>leadingdesire</th>\n",
       "      <th>comment</th>\n",
       "      <th>username</th>\n",
       "      <th>objtype</th>\n",
       "      <th>objid</th>\n",
       "      <th>id</th>\n",
       "    </tr>\n",
       "  </thead>\n",
       "  <tbody>\n",
       "    <tr>\n",
       "      <th>0</th>\n",
       "      <td>patriot_education</td>\n",
       "      <td>0.5</td>\n",
       "      <td>wealth</td>\n",
       "      <td>expand public education programs with a collec...</td>\n",
       "      <td>notebook</td>\n",
       "      <td>action</td>\n",
       "      <td>6215825744107</td>\n",
       "      <td>6215825744107</td>\n",
       "    </tr>\n",
       "    <tr>\n",
       "      <th>1</th>\n",
       "      <td>safetynets</td>\n",
       "      <td>0.7</td>\n",
       "      <td>wealth</td>\n",
       "      <td>increase the wealth and literacy of other popu...</td>\n",
       "      <td>notebook</td>\n",
       "      <td>action</td>\n",
       "      <td>7818338629871</td>\n",
       "      <td>7818338629871</td>\n",
       "    </tr>\n",
       "    <tr>\n",
       "      <th>2</th>\n",
       "      <td>charity</td>\n",
       "      <td>0.8</td>\n",
       "      <td>wealth</td>\n",
       "      <td>increase the wealth and literacy of population...</td>\n",
       "      <td>notebook</td>\n",
       "      <td>action</td>\n",
       "      <td>7100369067332</td>\n",
       "      <td>7100369067332</td>\n",
       "    </tr>\n",
       "    <tr>\n",
       "      <th>3</th>\n",
       "      <td>attack</td>\n",
       "      <td>0.8</td>\n",
       "      <td>aggression</td>\n",
       "      <td>pointless loss of lives and wealth, possibly r...</td>\n",
       "      <td>notebook</td>\n",
       "      <td>action</td>\n",
       "      <td>6881021997118</td>\n",
       "      <td>6881021997118</td>\n",
       "    </tr>\n",
       "    <tr>\n",
       "      <th>4</th>\n",
       "      <td>patriot_propoganda</td>\n",
       "      <td>0.2</td>\n",
       "      <td>industry</td>\n",
       "      <td>build national pride, increasin faction loyalt...</td>\n",
       "      <td>notebook</td>\n",
       "      <td>action</td>\n",
       "      <td>8960412060009</td>\n",
       "      <td>8960412060009</td>\n",
       "    </tr>\n",
       "    <tr>\n",
       "      <th>5</th>\n",
       "      <td>betterliving</td>\n",
       "      <td>0.3</td>\n",
       "      <td>literacy</td>\n",
       "      <td>researching advances in medication and domesti...</td>\n",
       "      <td>notebook</td>\n",
       "      <td>action</td>\n",
       "      <td>9395913208376</td>\n",
       "      <td>9395913208376</td>\n",
       "    </tr>\n",
       "    <tr>\n",
       "      <th>6</th>\n",
       "      <td>individual_education</td>\n",
       "      <td>0.2</td>\n",
       "      <td>wealth</td>\n",
       "      <td>expand privatized education, increase literacy...</td>\n",
       "      <td>notebook</td>\n",
       "      <td>action</td>\n",
       "      <td>1129902930373</td>\n",
       "      <td>1129902930373</td>\n",
       "    </tr>\n",
       "    <tr>\n",
       "      <th>7</th>\n",
       "      <td>buildinfra</td>\n",
       "      <td>0.5</td>\n",
       "      <td>wealth</td>\n",
       "      <td>increase industry by investing in local infras...</td>\n",
       "      <td>notebook</td>\n",
       "      <td>action</td>\n",
       "      <td>2507865371045</td>\n",
       "      <td>2507865371045</td>\n",
       "    </tr>\n",
       "  </tbody>\n",
       "</table>\n",
       "</div>"
      ],
      "text/plain": [
       "                   type  required_desire leadingdesire  \\\n",
       "0     patriot_education              0.5        wealth   \n",
       "1            safetynets              0.7        wealth   \n",
       "2               charity              0.8        wealth   \n",
       "3                attack              0.8    aggression   \n",
       "4    patriot_propoganda              0.2      industry   \n",
       "5          betterliving              0.3      literacy   \n",
       "6  individual_education              0.2        wealth   \n",
       "7            buildinfra              0.5        wealth   \n",
       "\n",
       "                                             comment  username objtype  \\\n",
       "0  expand public education programs with a collec...  notebook  action   \n",
       "1  increase the wealth and literacy of other popu...  notebook  action   \n",
       "2  increase the wealth and literacy of population...  notebook  action   \n",
       "3  pointless loss of lives and wealth, possibly r...  notebook  action   \n",
       "4  build national pride, increasin faction loyalt...  notebook  action   \n",
       "5  researching advances in medication and domesti...  notebook  action   \n",
       "6  expand privatized education, increase literacy...  notebook  action   \n",
       "7  increase industry by investing in local infras...  notebook  action   \n",
       "\n",
       "           objid             id  \n",
       "0  6215825744107  6215825744107  \n",
       "1  7818338629871  7818338629871  \n",
       "2  7100369067332  7100369067332  \n",
       "3  6881021997118  6881021997118  \n",
       "4  8960412060009  8960412060009  \n",
       "5  9395913208376  9395913208376  \n",
       "6  1129902930373  1129902930373  \n",
       "7  2507865371045  2507865371045  "
      ]
     },
     "execution_count": 27,
     "metadata": {},
     "output_type": "execute_result"
    }
   ],
   "source": [
    "res = db.run_query(\"g.V().hasLabel('action').valueMap()\")\n",
    "action = [db.clean_node(n) for n in res]\n",
    "df_action = pd.DataFrame(action)\n",
    "df_action"
   ]
  },
  {
   "cell_type": "markdown",
   "metadata": {},
   "source": [
    "But when we filter the total available actions by the ones that are available"
   ]
  },
  {
   "cell_type": "code",
   "execution_count": 59,
   "metadata": {},
   "outputs": [
    {
     "data": {
      "text/html": [
       "<div>\n",
       "<style scoped>\n",
       "    .dataframe tbody tr th:only-of-type {\n",
       "        vertical-align: middle;\n",
       "    }\n",
       "\n",
       "    .dataframe tbody tr th {\n",
       "        vertical-align: top;\n",
       "    }\n",
       "\n",
       "    .dataframe thead th {\n",
       "        text-align: right;\n",
       "    }\n",
       "</style>\n",
       "<table border=\"1\" class=\"dataframe\">\n",
       "  <thead>\n",
       "    <tr style=\"text-align: right;\">\n",
       "      <th></th>\n",
       "      <th>type</th>\n",
       "      <th>required_desire</th>\n",
       "      <th>leadingdesire</th>\n",
       "      <th>comment</th>\n",
       "      <th>username</th>\n",
       "      <th>objtype</th>\n",
       "      <th>objid</th>\n",
       "      <th>id</th>\n",
       "    </tr>\n",
       "  </thead>\n",
       "  <tbody>\n",
       "    <tr>\n",
       "      <th>4</th>\n",
       "      <td>patriot_propoganda</td>\n",
       "      <td>0.2</td>\n",
       "      <td>industry</td>\n",
       "      <td>build national pride, increasin faction loyalt...</td>\n",
       "      <td>notebook</td>\n",
       "      <td>action</td>\n",
       "      <td>8960412060009</td>\n",
       "      <td>8960412060009</td>\n",
       "    </tr>\n",
       "    <tr>\n",
       "      <th>5</th>\n",
       "      <td>betterliving</td>\n",
       "      <td>0.3</td>\n",
       "      <td>literacy</td>\n",
       "      <td>researching advances in medication and domesti...</td>\n",
       "      <td>notebook</td>\n",
       "      <td>action</td>\n",
       "      <td>9395913208376</td>\n",
       "      <td>9395913208376</td>\n",
       "    </tr>\n",
       "    <tr>\n",
       "      <th>6</th>\n",
       "      <td>individual_education</td>\n",
       "      <td>0.2</td>\n",
       "      <td>wealth</td>\n",
       "      <td>expand privatized education, increase literacy...</td>\n",
       "      <td>notebook</td>\n",
       "      <td>action</td>\n",
       "      <td>1129902930373</td>\n",
       "      <td>1129902930373</td>\n",
       "    </tr>\n",
       "  </tbody>\n",
       "</table>\n",
       "</div>"
      ],
      "text/plain": [
       "                   type  required_desire leadingdesire  \\\n",
       "4    patriot_propoganda              0.2      industry   \n",
       "5          betterliving              0.3      literacy   \n",
       "6  individual_education              0.2        wealth   \n",
       "\n",
       "                                             comment  username objtype  \\\n",
       "4  build national pride, increasin faction loyalt...  notebook  action   \n",
       "5  researching advances in medication and domesti...  notebook  action   \n",
       "6  expand privatized education, increase literacy...  notebook  action   \n",
       "\n",
       "           objid             id  \n",
       "4  8960412060009  8960412060009  \n",
       "5  9395913208376  9395913208376  \n",
       "6  1129902930373  1129902930373  "
      ]
     },
     "execution_count": 59,
     "metadata": {},
     "output_type": "execute_result"
    }
   ],
   "source": [
    "action_filter = (df_action[['type','required_desire']]\n",
    "    .apply(\n",
    "        lambda x: df_desires[df_desires['type']=='industry']['weight']\n",
    "        .values[0]>x.required_desire,\n",
    "        axis=1\n",
    "        ))\n",
    "df_action[action_filter]"
   ]
  },
  {
   "cell_type": "markdown",
   "metadata": {},
   "source": [
    "These are the actions available to take."
   ]
  },
  {
   "cell_type": "code",
   "execution_count": null,
   "metadata": {},
   "outputs": [],
   "source": []
  }
 ],
 "metadata": {
  "kernelspec": {
   "display_name": "Python 3.7.0 ('exoplanets')",
   "language": "python",
   "name": "python3"
  },
  "language_info": {
   "codemirror_mode": {
    "name": "ipython",
    "version": 3
   },
   "file_extension": ".py",
   "mimetype": "text/x-python",
   "name": "python",
   "nbconvert_exporter": "python",
   "pygments_lexer": "ipython3",
   "version": "3.7.0"
  },
  "orig_nbformat": 4,
  "vscode": {
   "interpreter": {
    "hash": "625a17269cb94aebb094cbcf5e0e8340f26b69d46569da60e8fc69439048adbf"
   }
  }
 },
 "nbformat": 4,
 "nbformat_minor": 2
}
