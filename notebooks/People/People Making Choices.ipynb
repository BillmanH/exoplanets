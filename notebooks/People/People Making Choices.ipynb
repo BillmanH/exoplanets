{
 "cells": [
  {
   "cell_type": "markdown",
   "source": [
    "# How People Decide what they want to do\r\n",
    "Directed graph approach\r\n",
    "\r\n",
    "Generally people want to do a number of different things. For this I'm going to create a schema for this in a graph language that allows me to designate how much a `pop` desires to take a certain action. This will be used later when determining AI decisions. "
   ],
   "metadata": {}
  },
  {
   "cell_type": "markdown",
   "source": [],
   "metadata": {}
  },
  {
   "cell_type": "code",
   "execution_count": 4,
   "source": [
    "import sys\r\n",
    "import numpy as np\r\n",
    "import pandas as pd\r\n",
    "import altair as alt\r\n",
    "sys.path.append('..')\r\n",
    "import helpers.dbquery as db\r\n",
    "import helpers.functions as f\r\n",
    "import yaml, ssl, asyncio\r\n",
    "\r\n",
    "ssl._create_default_https_context = ssl._create_unverified_context\r\n",
    "asyncio.set_event_loop_policy(asyncio.WindowsSelectorEventLoopPolicy())\r\n",
    "import nest_asyncio\r\n",
    "# this is required for running in a Jupyter Notebook. \r\n",
    "nest_asyncio.apply()"
   ],
   "outputs": [],
   "metadata": {}
  },
  {
   "cell_type": "code",
   "execution_count": 5,
   "source": [
    "import nb_black"
   ],
   "outputs": [],
   "metadata": {}
  },
  {
   "cell_type": "code",
   "execution_count": 6,
   "source": [
    "res = db.run_query(\"g.V().hasLabel('pop').has('username','userbill').valueMap()\")\r\n",
    "pops = [db.clean_node(n) for n in res]\r\n",
    "pops[0]"
   ],
   "outputs": [
    {
     "output_type": "execute_result",
     "data": {
      "text/plain": [
       "{'conformity': '0.197',\n",
       " 'literacy': '0.822',\n",
       " 'aggression': '0.384',\n",
       " 'constitution': '0.615',\n",
       " 'objid': '5771833830958',\n",
       " 'faction_no': '2',\n",
       " 'name': 'Heznius Ying',\n",
       " 'isInFaction': '7100167726406',\n",
       " 'industry': '0.4995',\n",
       " 'wealth': '0.66075',\n",
       " 'faction_loyalty': '0.49550000000000005',\n",
       " 'username': 'userbill',\n",
       " 'objtype': 'pop',\n",
       " 'id': '5771833830958'}"
      ]
     },
     "metadata": {},
     "execution_count": 6
    }
   ],
   "metadata": {}
  },
  {
   "cell_type": "markdown",
   "source": [
    "Each population wants to do everything to a degree, the amount of desire to do that thing is expressed by the edge weight. \r\n",
    "* Attack a population\r\n",
    "* Focus on improving literacy\r\n",
    "* Focus on improving industry"
   ],
   "metadata": {}
  },
  {
   "cell_type": "markdown",
   "source": [
    "# Desires as Objects\r\n",
    "\r\n",
    "## Desire with targets.\r\n",
    "Both factions and pops can have desire. Action is guided by desire based on the `max(desire.weight)`.\r\n",
    "`desire` is an edge, the type of that desire is a property of that edge, and the edge weight is the amount of desire. The target (`node2`) is the recipient. \r\n",
    "\r\n",
    "Examples:\r\n",
    "* faction wants trade with faction\r\n",
    "* pop wants war with another pop\r\n",
    "* pop wants faction to go to war with faction\r\n",
    "\r\n",
    "## Desire without targets.\r\n",
    "\r\n",
    "Desires without targets must link to an objective. That objective can be it's own node.\r\n"
   ],
   "metadata": {}
  },
  {
   "cell_type": "code",
   "execution_count": null,
   "source": [],
   "outputs": [],
   "metadata": {}
  },
  {
   "cell_type": "markdown",
   "source": [
    "# population wants to improve industry\r\n",
    "\r\n",
    "populations want to improve industry when:\r\n",
    "* they are not wealty\r\n",
    "* they are at war\r\n",
    "\r\n",
    "\r\n"
   ],
   "metadata": {}
  },
  {
   "cell_type": "code",
   "execution_count": 7,
   "source": [
    "n = 2.5\r\n",
    "ind_df = pd.DataFrame(np.sort([float(p['wealth']) for p in pops]),columns=['wealth'])\r\n",
    "# Test equation:\r\n",
    "# ind_df = pd.DataFrame(range(10),columns=['wealth'])\r\n",
    "ind_df['desires_industry'] = ind_df['wealth'].apply(lambda x: ((x+1)**(1-n) - 1)/(1-n))\r\n",
    "alt.Chart(ind_df).mark_line().encode(x='wealth',y='desires_industry')"
   ],
   "outputs": [
    {
     "output_type": "execute_result",
     "data": {
      "text/html": [
       "\n",
       "<div id=\"altair-viz-644ac51c36334c7ab8ac74ae3a5b5d13\"></div>\n",
       "<script type=\"text/javascript\">\n",
       "  (function(spec, embedOpt){\n",
       "    let outputDiv = document.currentScript.previousElementSibling;\n",
       "    if (outputDiv.id !== \"altair-viz-644ac51c36334c7ab8ac74ae3a5b5d13\") {\n",
       "      outputDiv = document.getElementById(\"altair-viz-644ac51c36334c7ab8ac74ae3a5b5d13\");\n",
       "    }\n",
       "    const paths = {\n",
       "      \"vega\": \"https://cdn.jsdelivr.net/npm//vega@5?noext\",\n",
       "      \"vega-lib\": \"https://cdn.jsdelivr.net/npm//vega-lib?noext\",\n",
       "      \"vega-lite\": \"https://cdn.jsdelivr.net/npm//vega-lite@4.8.1?noext\",\n",
       "      \"vega-embed\": \"https://cdn.jsdelivr.net/npm//vega-embed@6?noext\",\n",
       "    };\n",
       "\n",
       "    function loadScript(lib) {\n",
       "      return new Promise(function(resolve, reject) {\n",
       "        var s = document.createElement('script');\n",
       "        s.src = paths[lib];\n",
       "        s.async = true;\n",
       "        s.onload = () => resolve(paths[lib]);\n",
       "        s.onerror = () => reject(`Error loading script: ${paths[lib]}`);\n",
       "        document.getElementsByTagName(\"head\")[0].appendChild(s);\n",
       "      });\n",
       "    }\n",
       "\n",
       "    function showError(err) {\n",
       "      outputDiv.innerHTML = `<div class=\"error\" style=\"color:red;\">${err}</div>`;\n",
       "      throw err;\n",
       "    }\n",
       "\n",
       "    function displayChart(vegaEmbed) {\n",
       "      vegaEmbed(outputDiv, spec, embedOpt)\n",
       "        .catch(err => showError(`Javascript Error: ${err.message}<br>This usually means there's a typo in your chart specification. See the javascript console for the full traceback.`));\n",
       "    }\n",
       "\n",
       "    if(typeof define === \"function\" && define.amd) {\n",
       "      requirejs.config({paths});\n",
       "      require([\"vega-embed\"], displayChart, err => showError(`Error loading script: ${err.message}`));\n",
       "    } else if (typeof vegaEmbed === \"function\") {\n",
       "      displayChart(vegaEmbed);\n",
       "    } else {\n",
       "      loadScript(\"vega\")\n",
       "        .then(() => loadScript(\"vega-lite\"))\n",
       "        .then(() => loadScript(\"vega-embed\"))\n",
       "        .catch(showError)\n",
       "        .then(() => displayChart(vegaEmbed));\n",
       "    }\n",
       "  })({\"config\": {\"view\": {\"continuousWidth\": 400, \"continuousHeight\": 300}}, \"data\": {\"name\": \"data-375459fe7f660323e1c6ff82fb2bee01\"}, \"mark\": \"line\", \"encoding\": {\"x\": {\"type\": \"quantitative\", \"field\": \"wealth\"}, \"y\": {\"type\": \"quantitative\", \"field\": \"desires_industry\"}}, \"$schema\": \"https://vega.github.io/schema/vega-lite/v4.8.1.json\", \"datasets\": {\"data-375459fe7f660323e1c6ff82fb2bee01\": [{\"wealth\": 0.54475, \"desires_industry\": 0.31943331280724135}, {\"wealth\": 0.58375, \"desires_industry\": 0.3321800088275669}, {\"wealth\": 0.591, \"desires_industry\": 0.33446372679617326}, {\"wealth\": 0.63825, \"desires_industry\": 0.348731567122361}, {\"wealth\": 0.66075, \"desires_industry\": 0.35517075622935895}, {\"wealth\": 0.66325, \"desires_industry\": 0.35587279778244135}, {\"wealth\": 0.6765, \"desires_industry\": 0.3595499866788163}]}}, {\"mode\": \"vega-lite\"});\n",
       "</script>"
      ],
      "text/plain": [
       "alt.Chart(...)"
      ]
     },
     "metadata": {},
     "execution_count": 7
    }
   ],
   "metadata": {}
  },
  {
   "cell_type": "code",
   "execution_count": 13,
   "source": [
    "desire = [{'node1':p['objid'],\r\n",
    "                        'label':'desires',\r\n",
    "                        'node2':'improve_industry',\r\n",
    "                        'type':''} for p in pops]\r\n"
   ],
   "outputs": [
    {
     "output_type": "execute_result",
     "data": {
      "text/plain": [
       "{'node1': '5771833830958'}"
      ]
     },
     "metadata": {},
     "execution_count": 13
    }
   ],
   "metadata": {}
  },
  {
   "cell_type": "code",
   "execution_count": null,
   "source": [],
   "outputs": [],
   "metadata": {}
  }
 ],
 "metadata": {
  "interpreter": {
   "hash": "963f8bc8d1837394f85b1a87cb03282203007ac74b0df2c49e442752684865e9"
  },
  "kernelspec": {
   "name": "python3",
   "display_name": "Python 3.7.0 64-bit ('exoplanets': conda)"
  },
  "language_info": {
   "codemirror_mode": {
    "name": "ipython",
    "version": 3
   },
   "file_extension": ".py",
   "mimetype": "text/x-python",
   "name": "python",
   "nbconvert_exporter": "python",
   "pygments_lexer": "ipython3",
   "version": "3.7.0"
  },
  "orig_nbformat": 4
 },
 "nbformat": 4,
 "nbformat_minor": 2
}