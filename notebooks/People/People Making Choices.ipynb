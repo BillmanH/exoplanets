{
 "cells": [
  {
   "cell_type": "markdown",
   "source": [
    "# How People Decide what they want to do\r\n",
    "Directed graph approach\r\n",
    "\r\n",
    "Generally people want to do a number of different things. For this I'm going to create a schema for this in a graph language that allows me to designate how much a `pop` desires to take a certain action. This will be used later when determining AI decisions. \r\n",
    "\r\n",
    "**Note** this notebook actualy builds the desires into the graph, overwriting existing ontology. "
   ],
   "metadata": {}
  },
  {
   "cell_type": "code",
   "execution_count": 1,
   "source": [
    "import sys\r\n",
    "import numpy as np\r\n",
    "import pandas as pd\r\n",
    "import altair as alt\r\n",
    "sys.path.append('..')\r\n",
    "import helpers.dbquery as db\r\n",
    "import helpers.functions as f\r\n",
    "import yaml, ssl, asyncio\r\n",
    "import nb_black\r\n",
    "\r\n",
    "ssl._create_default_https_context = ssl._create_unverified_context\r\n",
    "asyncio.set_event_loop_policy(asyncio.WindowsSelectorEventLoopPolicy())\r\n",
    "import nest_asyncio\r\n",
    "# this is required for running in a Jupyter Notebook. \r\n",
    "nest_asyncio.apply()"
   ],
   "outputs": [],
   "metadata": {}
  },
  {
   "cell_type": "code",
   "execution_count": 2,
   "source": [
    "res = db.run_query(\"g.V().hasLabel('pop').has('username','userbill').valueMap()\")\r\n",
    "pops = [db.clean_node(n) for n in res]\r\n",
    "pops[0]"
   ],
   "outputs": [
    {
     "output_type": "execute_result",
     "data": {
      "text/plain": [
       "{'conformity': '0.197',\n",
       " 'literacy': '0.822',\n",
       " 'aggression': '0.384',\n",
       " 'constitution': '0.615',\n",
       " 'objid': '5771833830958',\n",
       " 'faction_no': '2',\n",
       " 'name': 'Heznius Ying',\n",
       " 'isInFaction': '7100167726406',\n",
       " 'industry': '0.4995',\n",
       " 'wealth': '0.66075',\n",
       " 'faction_loyalty': '0.49550000000000005',\n",
       " 'username': 'userbill',\n",
       " 'objtype': 'pop',\n",
       " 'id': '5771833830958'}"
      ]
     },
     "metadata": {},
     "execution_count": 2
    }
   ],
   "metadata": {}
  },
  {
   "cell_type": "markdown",
   "source": [
    "Each population wants to do everything to a degree, the amount of desire to do that thing is expressed by the edge weight. \r\n",
    "* Attack a population\r\n",
    "* Focus on improving literacy\r\n",
    "* Focus on improving industry"
   ],
   "metadata": {}
  },
  {
   "cell_type": "markdown",
   "source": [
    "# Desires as Objects\r\n",
    "\r\n",
    "## Desire with targets.\r\n",
    "Both factions and pops can have desire. Action is guided by desire based on the `max(desire.weight)`.\r\n",
    "`desire` is an edge, the type of that desire is a property of that edge, and the edge weight is the amount of desire. The target (`node2`) is the recipient. \r\n",
    "\r\n",
    "Examples:\r\n",
    "* faction wants trade with faction\r\n",
    "* pop wants war with another pop\r\n",
    "* pop wants faction to go to war with faction\r\n",
    "\r\n",
    "## Desire without targets.\r\n",
    "\r\n",
    "Desires without targets must link to an objective. That objective can be it's own node.\r\n"
   ],
   "metadata": {}
  },
  {
   "cell_type": "code",
   "execution_count": 13,
   "source": [
    "# Drop the items, if they exist. \r\n",
    "db.run_query(\"g.V().hasLabel('objective').has('username','notebook').drop()\")\r\n",
    "objectives = yaml.safe_load(open(\"desires.yaml\"))['objectives']\r\n",
    "data = {\"nodes\":objectives,'edges':[]}\r\n",
    "db.upload_data(data)\r\n"
   ],
   "outputs": [
    {
     "output_type": "stream",
     "name": "stdout",
     "text": [
      "g.addV('objective').property('type','industry').property('weight','0.5').property('leadingAttribute','wealth').property('comment','build factories, skyscrapers, infrastructure').property('username','notebook').property('objtype','objective').property('objid','7640659063021')\n",
      "g.addV('objective').property('type','expansion').property('weight','0.5').property('leadingAttribute','industry').property('comment','to increase population, eventually becoming a new pop').property('username','notebook').property('objtype','objective').property('objid','5234098410041')\n",
      "g.addV('objective').property('type','war').property('weight','0.4').property('leadingAttribute','aggression').property('comment','the general amount that the society wants to fight').property('username','notebook').property('objtype','objective').property('objid','1678034398160')\n",
      "g.addV('objective').property('type','science').property('weight','0.5').property('leadingAttribute','literacy').property('comment','building schools, education systems, information infrastructure').property('username','notebook').property('objtype','objective').property('objid','2165911843715')\n",
      "g.addV('objective').property('type','wealth').property('weight','0.5').property('leadingAttribute','literacy').property('comment','increasing luxury, entertainiment and amenities').property('username','notebook').property('objtype','objective').property('objid','1435424289185')\n"
     ]
    }
   ],
   "metadata": {}
  },
  {
   "cell_type": "markdown",
   "source": [
    "# population wants to improve industry\r\n",
    "\r\n",
    "populations want to improve industry when:\r\n",
    "* they are not wealty\r\n",
    "* they are at war\r\n",
    "\r\n",
    "\r\n"
   ],
   "metadata": {}
  },
  {
   "cell_type": "code",
   "execution_count": 19,
   "source": [
    "# Marginal return on \r\n",
    "n = 2\r\n",
    "ind_df = pd.DataFrame(np.sort([float(p['wealth']) for p in pops]),columns=['wealth'])\r\n",
    "ind_df['base'] = range(len(ind_df))\r\n",
    "ind_df['desires_industry'] = ind_df['wealth'].apply(lambda x: ((x+1)**(1-n) - 1)/(1-n))\r\n",
    "ind_df['desire_base'] = ind_df['wealth'].apply(lambda x: ((x+1)**(1-n) - 1)/(1-n))\r\n",
    "alt.Chart(ind_df).mark_line().encode(x='base',y='desire_base').properties(title=\"Desire relative to the base attribute\")"
   ],
   "outputs": [
    {
     "output_type": "execute_result",
     "data": {
      "text/html": [
       "\n",
       "<div id=\"altair-viz-920ffc6c74d7414fba90b7dd37254422\"></div>\n",
       "<script type=\"text/javascript\">\n",
       "  (function(spec, embedOpt){\n",
       "    let outputDiv = document.currentScript.previousElementSibling;\n",
       "    if (outputDiv.id !== \"altair-viz-920ffc6c74d7414fba90b7dd37254422\") {\n",
       "      outputDiv = document.getElementById(\"altair-viz-920ffc6c74d7414fba90b7dd37254422\");\n",
       "    }\n",
       "    const paths = {\n",
       "      \"vega\": \"https://cdn.jsdelivr.net/npm//vega@5?noext\",\n",
       "      \"vega-lib\": \"https://cdn.jsdelivr.net/npm//vega-lib?noext\",\n",
       "      \"vega-lite\": \"https://cdn.jsdelivr.net/npm//vega-lite@4.8.1?noext\",\n",
       "      \"vega-embed\": \"https://cdn.jsdelivr.net/npm//vega-embed@6?noext\",\n",
       "    };\n",
       "\n",
       "    function loadScript(lib) {\n",
       "      return new Promise(function(resolve, reject) {\n",
       "        var s = document.createElement('script');\n",
       "        s.src = paths[lib];\n",
       "        s.async = true;\n",
       "        s.onload = () => resolve(paths[lib]);\n",
       "        s.onerror = () => reject(`Error loading script: ${paths[lib]}`);\n",
       "        document.getElementsByTagName(\"head\")[0].appendChild(s);\n",
       "      });\n",
       "    }\n",
       "\n",
       "    function showError(err) {\n",
       "      outputDiv.innerHTML = `<div class=\"error\" style=\"color:red;\">${err}</div>`;\n",
       "      throw err;\n",
       "    }\n",
       "\n",
       "    function displayChart(vegaEmbed) {\n",
       "      vegaEmbed(outputDiv, spec, embedOpt)\n",
       "        .catch(err => showError(`Javascript Error: ${err.message}<br>This usually means there's a typo in your chart specification. See the javascript console for the full traceback.`));\n",
       "    }\n",
       "\n",
       "    if(typeof define === \"function\" && define.amd) {\n",
       "      requirejs.config({paths});\n",
       "      require([\"vega-embed\"], displayChart, err => showError(`Error loading script: ${err.message}`));\n",
       "    } else if (typeof vegaEmbed === \"function\") {\n",
       "      displayChart(vegaEmbed);\n",
       "    } else {\n",
       "      loadScript(\"vega\")\n",
       "        .then(() => loadScript(\"vega-lite\"))\n",
       "        .then(() => loadScript(\"vega-embed\"))\n",
       "        .catch(showError)\n",
       "        .then(() => displayChart(vegaEmbed));\n",
       "    }\n",
       "  })({\"config\": {\"view\": {\"continuousWidth\": 400, \"continuousHeight\": 300}}, \"data\": {\"name\": \"data-171210eb4d3965455b171915a88eda04\"}, \"mark\": \"line\", \"encoding\": {\"x\": {\"type\": \"quantitative\", \"field\": \"base\"}, \"y\": {\"type\": \"quantitative\", \"field\": \"desire_base\"}}, \"title\": \"Desire relative to the base attribute\", \"$schema\": \"https://vega.github.io/schema/vega-lite/v4.8.1.json\", \"datasets\": {\"data-171210eb4d3965455b171915a88eda04\": [{\"wealth\": 0.54475, \"base\": 0, \"desires_industry\": 0.3526460592328856, \"desire_base\": 0.3526460592328856}, {\"wealth\": 0.58375, \"base\": 1, \"desires_industry\": 0.3685872138910813, \"desire_base\": 0.3685872138910813}, {\"wealth\": 0.591, \"base\": 2, \"desires_industry\": 0.37146448774355745, \"desire_base\": 0.37146448774355745}, {\"wealth\": 0.63825, \"base\": 3, \"desires_industry\": 0.38959255302914697, \"desire_base\": 0.38959255302914697}, {\"wealth\": 0.66075, \"base\": 4, \"desires_industry\": 0.39786241156104163, \"desire_base\": 0.39786241156104163}, {\"wealth\": 0.66325, \"base\": 5, \"desires_industry\": 0.3987674733203067, \"desire_base\": 0.3987674733203067}, {\"wealth\": 0.6765, \"base\": 6, \"desires_industry\": 0.40351923650462274, \"desire_base\": 0.40351923650462274}]}}, {\"mode\": \"vega-lite\"});\n",
       "</script>"
      ],
      "text/plain": [
       "alt.Chart(...)"
      ]
     },
     "metadata": {},
     "execution_count": 19
    }
   ],
   "metadata": {}
  },
  {
   "cell_type": "code",
   "execution_count": 25,
   "source": [
    "alt.Chart(ind_df).mark_line().encode(x='wealth:N',y='desires_industry').properties(title=\"Desires wealth industry relative to industry\")"
   ],
   "outputs": [
    {
     "output_type": "execute_result",
     "data": {
      "text/html": [
       "\n",
       "<div id=\"altair-viz-985471975cae4e3c8a6a84b5767c3cfe\"></div>\n",
       "<script type=\"text/javascript\">\n",
       "  (function(spec, embedOpt){\n",
       "    let outputDiv = document.currentScript.previousElementSibling;\n",
       "    if (outputDiv.id !== \"altair-viz-985471975cae4e3c8a6a84b5767c3cfe\") {\n",
       "      outputDiv = document.getElementById(\"altair-viz-985471975cae4e3c8a6a84b5767c3cfe\");\n",
       "    }\n",
       "    const paths = {\n",
       "      \"vega\": \"https://cdn.jsdelivr.net/npm//vega@5?noext\",\n",
       "      \"vega-lib\": \"https://cdn.jsdelivr.net/npm//vega-lib?noext\",\n",
       "      \"vega-lite\": \"https://cdn.jsdelivr.net/npm//vega-lite@4.8.1?noext\",\n",
       "      \"vega-embed\": \"https://cdn.jsdelivr.net/npm//vega-embed@6?noext\",\n",
       "    };\n",
       "\n",
       "    function loadScript(lib) {\n",
       "      return new Promise(function(resolve, reject) {\n",
       "        var s = document.createElement('script');\n",
       "        s.src = paths[lib];\n",
       "        s.async = true;\n",
       "        s.onload = () => resolve(paths[lib]);\n",
       "        s.onerror = () => reject(`Error loading script: ${paths[lib]}`);\n",
       "        document.getElementsByTagName(\"head\")[0].appendChild(s);\n",
       "      });\n",
       "    }\n",
       "\n",
       "    function showError(err) {\n",
       "      outputDiv.innerHTML = `<div class=\"error\" style=\"color:red;\">${err}</div>`;\n",
       "      throw err;\n",
       "    }\n",
       "\n",
       "    function displayChart(vegaEmbed) {\n",
       "      vegaEmbed(outputDiv, spec, embedOpt)\n",
       "        .catch(err => showError(`Javascript Error: ${err.message}<br>This usually means there's a typo in your chart specification. See the javascript console for the full traceback.`));\n",
       "    }\n",
       "\n",
       "    if(typeof define === \"function\" && define.amd) {\n",
       "      requirejs.config({paths});\n",
       "      require([\"vega-embed\"], displayChart, err => showError(`Error loading script: ${err.message}`));\n",
       "    } else if (typeof vegaEmbed === \"function\") {\n",
       "      displayChart(vegaEmbed);\n",
       "    } else {\n",
       "      loadScript(\"vega\")\n",
       "        .then(() => loadScript(\"vega-lite\"))\n",
       "        .then(() => loadScript(\"vega-embed\"))\n",
       "        .catch(showError)\n",
       "        .then(() => displayChart(vegaEmbed));\n",
       "    }\n",
       "  })({\"config\": {\"view\": {\"continuousWidth\": 400, \"continuousHeight\": 300}}, \"data\": {\"name\": \"data-171210eb4d3965455b171915a88eda04\"}, \"mark\": \"line\", \"encoding\": {\"x\": {\"type\": \"nominal\", \"field\": \"wealth\"}, \"y\": {\"type\": \"quantitative\", \"field\": \"desires_industry\"}}, \"title\": \"Desires wealth industry relative to industry\", \"$schema\": \"https://vega.github.io/schema/vega-lite/v4.8.1.json\", \"datasets\": {\"data-171210eb4d3965455b171915a88eda04\": [{\"wealth\": 0.54475, \"base\": 0, \"desires_industry\": 0.3526460592328856, \"desire_base\": 0.3526460592328856}, {\"wealth\": 0.58375, \"base\": 1, \"desires_industry\": 0.3685872138910813, \"desire_base\": 0.3685872138910813}, {\"wealth\": 0.591, \"base\": 2, \"desires_industry\": 0.37146448774355745, \"desire_base\": 0.37146448774355745}, {\"wealth\": 0.63825, \"base\": 3, \"desires_industry\": 0.38959255302914697, \"desire_base\": 0.38959255302914697}, {\"wealth\": 0.66075, \"base\": 4, \"desires_industry\": 0.39786241156104163, \"desire_base\": 0.39786241156104163}, {\"wealth\": 0.66325, \"base\": 5, \"desires_industry\": 0.3987674733203067, \"desire_base\": 0.3987674733203067}, {\"wealth\": 0.6765, \"base\": 6, \"desires_industry\": 0.40351923650462274, \"desire_base\": 0.40351923650462274}]}}, {\"mode\": \"vega-lite\"});\n",
       "</script>"
      ],
      "text/plain": [
       "alt.Chart(...)"
      ]
     },
     "metadata": {},
     "execution_count": 25
    }
   ],
   "metadata": {}
  },
  {
   "cell_type": "markdown",
   "source": [
    "## feeding that desire to the populations\r\n"
   ],
   "metadata": {}
  },
  {
   "cell_type": "code",
   "execution_count": 26,
   "source": [
    "objectives[0],pops[0]"
   ],
   "outputs": [
    {
     "output_type": "execute_result",
     "data": {
      "text/plain": [
       "({'label': 'objective',\n",
       "  'type': 'industry',\n",
       "  'weight': 0.5,\n",
       "  'leadingAttribute': 'wealth',\n",
       "  'comment': 'build factories, skyscrapers, infrastructure',\n",
       "  'username': 'notebook',\n",
       "  'objtype': 'objective'},\n",
       " {'conformity': '0.197',\n",
       "  'literacy': '0.822',\n",
       "  'aggression': '0.384',\n",
       "  'constitution': '0.615',\n",
       "  'objid': '5771833830958',\n",
       "  'faction_no': '2',\n",
       "  'name': 'Heznius Ying',\n",
       "  'isInFaction': '7100167726406',\n",
       "  'industry': '0.4995',\n",
       "  'wealth': '0.66075',\n",
       "  'faction_loyalty': '0.49550000000000005',\n",
       "  'username': 'userbill',\n",
       "  'objtype': 'pop',\n",
       "  'id': '5771833830958'})"
      ]
     },
     "metadata": {},
     "execution_count": 26
    }
   ],
   "metadata": {}
  },
  {
   "cell_type": "code",
   "execution_count": null,
   "source": [
    "def get_desire(o,p):\r\n",
    "        ((x+1)**(1-n) - 1)/(1-n)\r\n",
    "\r\n",
    "\r\n",
    "for p in pops:\r\n",
    "    for o in objectives:\r\n",
    "        edge = {'label':'desires',\r\n",
    "                'node1':p['objid'],\r\n",
    "                'node2':o['type']}"
   ],
   "outputs": [],
   "metadata": {}
  }
 ],
 "metadata": {
  "interpreter": {
   "hash": "963f8bc8d1837394f85b1a87cb03282203007ac74b0df2c49e442752684865e9"
  },
  "kernelspec": {
   "name": "python3",
   "display_name": "Python 3.7.0 64-bit ('exoplanets': conda)"
  },
  "language_info": {
   "codemirror_mode": {
    "name": "ipython",
    "version": 3
   },
   "file_extension": ".py",
   "mimetype": "text/x-python",
   "name": "python",
   "nbconvert_exporter": "python",
   "pygments_lexer": "ipython3",
   "version": "3.7.0"
  },
  "orig_nbformat": 4
 },
 "nbformat": 4,
 "nbformat_minor": 2
}