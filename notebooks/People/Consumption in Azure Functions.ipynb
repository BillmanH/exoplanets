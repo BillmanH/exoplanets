{
 "cells": [
  {
   "cell_type": "markdown",
   "metadata": {},
   "source": [
    "# Consumption"
   ]
  },
  {
   "cell_type": "markdown",
   "metadata": {},
   "source": [
    "Populations consume.\n"
   ]
  },
  {
   "cell_type": "code",
   "execution_count": 1,
   "metadata": {},
   "outputs": [
    {
     "name": "stderr",
     "output_type": "stream",
     "text": [
      "INFO:root:logs showing as print\n"
     ]
    },
    {
     "name": "stdout",
     "output_type": "stream",
     "text": [
      "['function_app.py']\n"
     ]
    }
   ],
   "source": [
    "import os\n",
    "import  ssl, asyncio\n",
    "import nest_asyncio\n",
    "import pandas as pd\n",
    "\n",
    "# moving back to the root, but idempotent in case we are already there\n",
    "if 'function_app.py' not in os.listdir():\n",
    "    os.chdir('../..')\n",
    "print([f for f in os.listdir() if f == 'function_app.py'])\n",
    "\n",
    "import logging\n",
    "logger = logging.getLogger()\n",
    "logger.setLevel(logging.DEBUG)\n",
    "logging.info(\"logs showing as print\")\n",
    "\n",
    "\n",
    "\n",
    "ssl._create_default_https_context = ssl._create_unverified_context\n",
    "asyncio.set_event_loop_policy(asyncio.WindowsSelectorEventLoopPolicy())\n",
    "# this is required for running in a Jupyter Notebook. \n",
    "nest_asyncio.apply()"
   ]
  },
  {
   "cell_type": "code",
   "execution_count": 2,
   "metadata": {},
   "outputs": [
    {
     "name": "stdout",
     "output_type": "stream",
     "text": [
      "executing local windows deployment\n",
      "something wrong with your query: <class 'Exception'>\n"
     ]
    }
   ],
   "source": [
    "import function_app as f"
   ]
  },
  {
   "cell_type": "code",
   "execution_count": 3,
   "metadata": {},
   "outputs": [
    {
     "name": "stderr",
     "output_type": "stream",
     "text": [
      "DEBUG:asyncio:Using selector: SelectSelector\n",
      "INFO:root:EXOADMIN: health requirement 0.7\n",
      "DEBUG:asyncio:Using selector: SelectSelector\n",
      "INFO:root:EXOADMIN: healthy_pops_query 0\n",
      "INFO:root:EXOADMIN: No pops that meet the pop_health_requirement\n",
      "DEBUG:asyncio:Using selector: SelectSelector\n",
      "INFO:root:EXOADMIN: Total jobs: 0\n",
      "INFO:root:EXOADMIN: Total actions resolved in this run: 0\n",
      "DEBUG:asyncio:Using selector: SelectSelector\n",
      "DEBUG:asyncio:Using selector: SelectSelector\n",
      "INFO:root:EXOADMIN: messages: job:0, growth:0, consumption:7, renewal:1 - at: < time at UTU:1002 >\n",
      "INFO:root:EXOADMIN: Total Messages generated: 8 at: < time at UTU:1002 >\n"
     ]
    },
    {
     "data": {
      "text/html": [
       "<div>\n",
       "<style scoped>\n",
       "    .dataframe tbody tr th:only-of-type {\n",
       "        vertical-align: middle;\n",
       "    }\n",
       "\n",
       "    .dataframe tbody tr th {\n",
       "        vertical-align: top;\n",
       "    }\n",
       "\n",
       "    .dataframe thead th {\n",
       "        text-align: right;\n",
       "    }\n",
       "</style>\n",
       "<table border=\"1\" class=\"dataframe\">\n",
       "  <thead>\n",
       "    <tr style=\"text-align: right;\">\n",
       "      <th></th>\n",
       "      <th>objid</th>\n",
       "      <th>consumes</th>\n",
       "      <th>effuses</th>\n",
       "    </tr>\n",
       "  </thead>\n",
       "  <tbody>\n",
       "    <tr>\n",
       "      <th>0</th>\n",
       "      <td>4975085035335</td>\n",
       "      <td>[organics]</td>\n",
       "      <td>[organic waste, plastics]</td>\n",
       "    </tr>\n",
       "    <tr>\n",
       "      <th>1</th>\n",
       "      <td>8510105182256</td>\n",
       "      <td>[organics]</td>\n",
       "      <td>[organic waste, plastics]</td>\n",
       "    </tr>\n",
       "    <tr>\n",
       "      <th>2</th>\n",
       "      <td>4558198014921</td>\n",
       "      <td>[organics]</td>\n",
       "      <td>[organic waste, plastics]</td>\n",
       "    </tr>\n",
       "    <tr>\n",
       "      <th>3</th>\n",
       "      <td>4966734219567</td>\n",
       "      <td>[organics]</td>\n",
       "      <td>[organic waste, plastics]</td>\n",
       "    </tr>\n",
       "    <tr>\n",
       "      <th>4</th>\n",
       "      <td>6238436631717</td>\n",
       "      <td>[organics]</td>\n",
       "      <td>[organic waste, plastics]</td>\n",
       "    </tr>\n",
       "    <tr>\n",
       "      <th>5</th>\n",
       "      <td>3449618203493</td>\n",
       "      <td>[organics]</td>\n",
       "      <td>[organic waste, plastics]</td>\n",
       "    </tr>\n",
       "    <tr>\n",
       "      <th>6</th>\n",
       "      <td>3069640564489</td>\n",
       "      <td>[organics]</td>\n",
       "      <td>[organic waste, plastics]</td>\n",
       "    </tr>\n",
       "  </tbody>\n",
       "</table>\n",
       "</div>"
      ],
      "text/plain": [
       "           objid    consumes                    effuses\n",
       "0  4975085035335  [organics]  [organic waste, plastics]\n",
       "1  8510105182256  [organics]  [organic waste, plastics]\n",
       "2  4558198014921  [organics]  [organic waste, plastics]\n",
       "3  4966734219567  [organics]  [organic waste, plastics]\n",
       "4  6238436631717  [organics]  [organic waste, plastics]\n",
       "5  3449618203493  [organics]  [organic waste, plastics]\n",
       "6  3069640564489  [organics]  [organic waste, plastics]"
      ]
     },
     "execution_count": 3,
     "metadata": {},
     "output_type": "execute_result"
    }
   ],
   "source": [
    "action_messages = f.process_action_messages()\n",
    "consumption_messages = [c for c in action_messages if c['action'] == 'consume']\n",
    "pd.DataFrame([c['agent'] for c in consumption_messages])"
   ]
  },
  {
   "cell_type": "markdown",
   "metadata": {},
   "source": [
    "All populations `consume` some resources and `effuse` some resources. "
   ]
  },
  {
   "cell_type": "code",
   "execution_count": 4,
   "metadata": {},
   "outputs": [
    {
     "name": "stderr",
     "output_type": "stream",
     "text": [
      "DEBUG:asyncio:Using selector: SelectSelector\n",
      "INFO:root:EXOADMIN: processing message: consume at UTU:< time at UTU:1002 >\n",
      "INFO:root:EXOADMIN: check_faction_has_resource query: \n",
      "    g.V().has('objid','4975085035335').out('isIn').out('has').has('objtype','resource').has('name','organics').valueMap()\n",
      "    \n",
      "DEBUG:asyncio:Using selector: SelectSelector\n",
      "INFO:root:EXOADMIN: 4975085035335 was not able to locate the resource - c.res:[]\n",
      "INFO:root:EXOADMIN: faction does not have the resource. Local reasources will be consumed.\n"
     ]
    },
    {
     "ename": "TypeError",
     "evalue": "reduce_location_resource() missing 1 required positional argument: 'consuming'",
     "output_type": "error",
     "traceback": [
      "\u001b[1;31m---------------------------------------------------------------------------\u001b[0m",
      "\u001b[1;31mTypeError\u001b[0m                                 Traceback (most recent call last)",
      "Cell \u001b[1;32mIn[4], line 1\u001b[0m\n\u001b[1;32m----> 1\u001b[0m \u001b[43mf\u001b[49m\u001b[38;5;241;43m.\u001b[39;49m\u001b[43mprocess_action_event_message\u001b[49m\u001b[43m(\u001b[49m\u001b[43mconsumption_messages\u001b[49m\u001b[43m[\u001b[49m\u001b[38;5;241;43m0\u001b[39;49m\u001b[43m]\u001b[49m\u001b[43m)\u001b[49m\n",
      "File \u001b[1;32mc:\\Users\\willi\\repos\\exoplanets\\function_app.py:100\u001b[0m, in \u001b[0;36mprocess_action_event_message\u001b[1;34m(message)\u001b[0m\n\u001b[0;32m     97\u001b[0m \u001b[38;5;28;01mif\u001b[39;00m message\u001b[38;5;241m.\u001b[39mget(\u001b[38;5;124m'\u001b[39m\u001b[38;5;124maction\u001b[39m\u001b[38;5;124m'\u001b[39m)\u001b[38;5;241m==\u001b[39m\u001b[38;5;124m\"\u001b[39m\u001b[38;5;124mconsume\u001b[39m\u001b[38;5;124m\"\u001b[39m:\n\u001b[0;32m     98\u001b[0m     \u001b[38;5;28;01mfor\u001b[39;00m resource \u001b[38;5;129;01min\u001b[39;00m message[\u001b[38;5;124m'\u001b[39m\u001b[38;5;124magent\u001b[39m\u001b[38;5;124m'\u001b[39m][\u001b[38;5;124m'\u001b[39m\u001b[38;5;124mconsumes\u001b[39m\u001b[38;5;124m'\u001b[39m]:\n\u001b[0;32m     99\u001b[0m         \u001b[38;5;66;03m# starving messages are generated when pops don't have resources\u001b[39;00m\n\u001b[1;32m--> 100\u001b[0m         outgoing_messages \u001b[38;5;241m+\u001b[39m\u001b[38;5;241m=\u001b[39m \u001b[43mconsumption\u001b[49m\u001b[38;5;241;43m.\u001b[39;49m\u001b[43mconsume\u001b[49m\u001b[43m(\u001b[49m\u001b[43mc\u001b[49m\u001b[43m,\u001b[49m\u001b[43mt\u001b[49m\u001b[43m,\u001b[49m\u001b[43mmessage\u001b[49m\u001b[43m,\u001b[49m\u001b[43mresource\u001b[49m\u001b[43m)\u001b[49m\n\u001b[0;32m    101\u001b[0m     logging\u001b[38;5;241m.\u001b[39minfo(\u001b[38;5;124mf\u001b[39m\u001b[38;5;124m\"\u001b[39m\u001b[38;5;124mEXOADMIN:       -------And with that processed CONSUMPTION: \u001b[39m\u001b[38;5;132;01m{\u001b[39;00mmessage[\u001b[38;5;124m'\u001b[39m\u001b[38;5;124magent\u001b[39m\u001b[38;5;124m'\u001b[39m]\u001b[38;5;132;01m}\u001b[39;00m\u001b[38;5;124m at UTU:\u001b[39m\u001b[38;5;132;01m{\u001b[39;00mt\u001b[38;5;132;01m}\u001b[39;00m\u001b[38;5;124m\"\u001b[39m)\n\u001b[0;32m    103\u001b[0m \u001b[38;5;66;03m# resources that automatically renew. Like organic resources. \u001b[39;00m\n",
      "File \u001b[1;32mc:\\Users\\willi\\repos\\exoplanets\\app\\functions\\consumption.py:140\u001b[0m, in \u001b[0;36mconsume\u001b[1;34m(c, t, message, consuming)\u001b[0m\n\u001b[0;32m    137\u001b[0m \u001b[38;5;28;01melse\u001b[39;00m:\n\u001b[0;32m    138\u001b[0m     \u001b[38;5;66;03m# reduce the resource at the location\u001b[39;00m\n\u001b[0;32m    139\u001b[0m     logging\u001b[38;5;241m.\u001b[39minfo(\u001b[38;5;124mf\u001b[39m\u001b[38;5;124m\"\u001b[39m\u001b[38;5;124mEXOADMIN: faction does not have the resource. Local reasources will be consumed.\u001b[39m\u001b[38;5;124m\"\u001b[39m)\n\u001b[1;32m--> 140\u001b[0m     starving_messages \u001b[38;5;241m=\u001b[39m \u001b[43mreduce_location_resource\u001b[49m\u001b[43m(\u001b[49m\u001b[43mc\u001b[49m\u001b[43m,\u001b[49m\u001b[43mt\u001b[49m\u001b[43m,\u001b[49m\u001b[43mmessage\u001b[49m\u001b[43m)\u001b[49m\n\u001b[0;32m    141\u001b[0m \u001b[38;5;28;01mreturn\u001b[39;00m starving_messages\n",
      "\u001b[1;31mTypeError\u001b[0m: reduce_location_resource() missing 1 required positional argument: 'consuming'"
     ]
    }
   ],
   "source": [
    "f.process_action_event_message(consumption_messages[0])"
   ]
  },
  {
   "cell_type": "code",
   "execution_count": 3,
   "metadata": {},
   "outputs": [
    {
     "name": "stderr",
     "output_type": "stream",
     "text": [
      "DEBUG:asyncio:Using selector: SelectSelector\n",
      "DEBUG:asyncio:Using selector: SelectSelector\n",
      "INFO:root:EXOADMIN: number of items: 1\n",
      "INFO:root:EXOADMIN: Total Messages generated: 1 at: < time at UTU:1002 >\n"
     ]
    }
   ],
   "source": [
    "structure_messages = f.get_structure_messages()"
   ]
  },
  {
   "cell_type": "code",
   "execution_count": 4,
   "metadata": {},
   "outputs": [
    {
     "data": {
      "text/html": [
       "<div>\n",
       "<style scoped>\n",
       "    .dataframe tbody tr th:only-of-type {\n",
       "        vertical-align: middle;\n",
       "    }\n",
       "\n",
       "    .dataframe tbody tr th {\n",
       "        vertical-align: top;\n",
       "    }\n",
       "\n",
       "    .dataframe thead th {\n",
       "        text-align: right;\n",
       "    }\n",
       "</style>\n",
       "<table border=\"1\" class=\"dataframe\">\n",
       "  <thead>\n",
       "    <tr style=\"text-align: right;\">\n",
       "      <th></th>\n",
       "      <th>faction</th>\n",
       "      <th>pop</th>\n",
       "      <th>structure</th>\n",
       "      <th>action</th>\n",
       "    </tr>\n",
       "  </thead>\n",
       "  <tbody>\n",
       "    <tr>\n",
       "      <th>0</th>\n",
       "      <td>{'wealth': 0, 'name': 'Ciu', 'objid': '7327160...</td>\n",
       "      <td>{'isIdle': 'true', 'name': 'Ciu Damlantia', 'o...</td>\n",
       "      <td>{'name': 'Farmland', 'objid': '6886425430993',...</td>\n",
       "      <td>structure</td>\n",
       "    </tr>\n",
       "  </tbody>\n",
       "</table>\n",
       "</div>"
      ],
      "text/plain": [
       "                                             faction  \\\n",
       "0  {'wealth': 0, 'name': 'Ciu', 'objid': '7327160...   \n",
       "\n",
       "                                                 pop  \\\n",
       "0  {'isIdle': 'true', 'name': 'Ciu Damlantia', 'o...   \n",
       "\n",
       "                                           structure     action  \n",
       "0  {'name': 'Farmland', 'objid': '6886425430993',...  structure  "
      ]
     },
     "execution_count": 4,
     "metadata": {},
     "output_type": "execute_result"
    }
   ],
   "source": [
    "pd.DataFrame(structure_messages)"
   ]
  },
  {
   "cell_type": "markdown",
   "metadata": {},
   "source": [
    "## Resolving those messages"
   ]
  },
  {
   "cell_type": "code",
   "execution_count": 7,
   "metadata": {},
   "outputs": [
    {
     "name": "stderr",
     "output_type": "stream",
     "text": [
      "DEBUG:asyncio:Using selector: SelectSelector\n",
      "INFO:root:EXOADMIN: processing message: consume at UTU:< time at UTU:1002 >\n",
      "INFO:root:EXOADMIN: Processing reduce_location_resource for: {'objid': '4975085035335', 'consumes': ['organics'], 'effuses': ['organic waste', 'plastics']}\n",
      "INFO:root:EXOADMIN: resource_query query: \n",
      "    g.V().has('objid','4975085035335').out('inhabits').out('has').has('objtype','resource').has('name','organics').valuemap()\n",
      "    \n",
      "DEBUG:asyncio:Using selector: SelectSelector\n",
      "INFO:root:EXOADMIN: resources 6367214839613 consumed by 4975085035335: reduced by 2, 1082.0-> 1080.0\n",
      "INFO:root:EXOADMIN: patch_resource_query: \n",
      "        g.V().has('objid','4975085035335')\n",
      "            .out('inhabits')\n",
      "            .out('has').has('label','resource')\n",
      "            .has('name','organics')\n",
      "            .property('volume',1080.0)\n",
      "    \n",
      "DEBUG:asyncio:Using selector: SelectSelector\n",
      "INFO:root:EXOADMIN: agent: 4975085035335 consumed resource: 6367214839613. 1082.0->1080.0\n",
      "INFO:root:EXOADMIN:       -------And with that processed CONSUMPTION: {'objid': '4975085035335', 'consumes': ['organics'], 'effuses': ['organic waste', 'plastics']} at UTU:< time at UTU:1002 >\n"
     ]
    },
    {
     "data": {
      "text/plain": [
       "[]"
      ]
     },
     "execution_count": 7,
     "metadata": {},
     "output_type": "execute_result"
    }
   ],
   "source": [
    "f.process_action_event_message(action_messages[0])"
   ]
  },
  {
   "cell_type": "code",
   "execution_count": 11,
   "metadata": {},
   "outputs": [
    {
     "name": "stderr",
     "output_type": "stream",
     "text": [
      "DEBUG:asyncio:Using selector: SelectSelector\n",
      "INFO:root:EXOADMIN: processing message: consume at UTU:< time at UTU:1002 >\n",
      "INFO:root:EXOADMIN: Processing reduce_location_resource for: {'objid': '4975085035335', 'consumes': ['organics'], 'effuses': ['organic waste', 'plastics']}\n",
      "INFO:root:EXOADMIN: resource_query query: \n",
      "    g.V().has('objid','4975085035335').out('inhabits').out('has').has('objtype','resource').has('name','organics').valuemap()\n",
      "    \n",
      "DEBUG:asyncio:Using selector: SelectSelector\n",
      "INFO:root:EXOADMIN: resources 6367214839613 consumed by 4975085035335: reduced by 2, 1084.0-> 1082.0\n",
      "INFO:root:EXOADMIN: patch_resource_query: \n",
      "        g.V().has('objid','4975085035335')\n",
      "            .out('inhabits')\n",
      "            .out('has').has('label','resource')\n",
      "            .has('name','organics')\n",
      "            .property('volume',1082.0)\n",
      "    \n",
      "DEBUG:asyncio:Using selector: SelectSelector\n",
      "INFO:root:EXOADMIN: agent: 4975085035335 consumed resource: 6367214839613. 1084.0->1082.0\n",
      "INFO:root:EXOADMIN:       -------And with that processed CONSUMPTION: {'objid': '4975085035335', 'consumes': ['organics'], 'effuses': ['organic waste', 'plastics']} at UTU:< time at UTU:1002 >\n"
     ]
    },
    {
     "data": {
      "text/plain": [
       "[]"
      ]
     },
     "execution_count": 11,
     "metadata": {},
     "output_type": "execute_result"
    }
   ],
   "source": [
    "f.process_action_event_message(action_messages[1])"
   ]
  },
  {
   "cell_type": "code",
   "execution_count": 10,
   "metadata": {},
   "outputs": [
    {
     "data": {
      "text/html": [
       "<div>\n",
       "<style scoped>\n",
       "    .dataframe tbody tr th:only-of-type {\n",
       "        vertical-align: middle;\n",
       "    }\n",
       "\n",
       "    .dataframe tbody tr th {\n",
       "        vertical-align: top;\n",
       "    }\n",
       "\n",
       "    .dataframe thead th {\n",
       "        text-align: right;\n",
       "    }\n",
       "</style>\n",
       "<table border=\"1\" class=\"dataframe\">\n",
       "  <thead>\n",
       "    <tr style=\"text-align: right;\">\n",
       "      <th></th>\n",
       "      <th>faction</th>\n",
       "      <th>pop</th>\n",
       "      <th>structure</th>\n",
       "      <th>action</th>\n",
       "    </tr>\n",
       "  </thead>\n",
       "  <tbody>\n",
       "    <tr>\n",
       "      <th>0</th>\n",
       "      <td>{'wealth': 0, 'name': 'Ciu', 'objid': '7327160...</td>\n",
       "      <td>{'isIdle': 'true', 'name': 'Ciu Damlantia', 'o...</td>\n",
       "      <td>{'name': 'Farmland', 'objid': '6886425430993',...</td>\n",
       "      <td>structure</td>\n",
       "    </tr>\n",
       "  </tbody>\n",
       "</table>\n",
       "</div>"
      ],
      "text/plain": [
       "                                             faction  \\\n",
       "0  {'wealth': 0, 'name': 'Ciu', 'objid': '7327160...   \n",
       "\n",
       "                                                 pop  \\\n",
       "0  {'isIdle': 'true', 'name': 'Ciu Damlantia', 'o...   \n",
       "\n",
       "                                           structure     action  \n",
       "0  {'name': 'Farmland', 'objid': '6886425430993',...  structure  "
      ]
     },
     "execution_count": 10,
     "metadata": {},
     "output_type": "execute_result"
    }
   ],
   "source": [
    "pd.DataFrame(structure_messages)\n",
    "# structure_messages[0]['faction']"
   ]
  },
  {
   "cell_type": "code",
   "execution_count": 6,
   "metadata": {},
   "outputs": [
    {
     "name": "stderr",
     "output_type": "stream",
     "text": [
      "DEBUG:asyncio:Using selector: SelectSelector\n",
      "INFO:root:EXOADMIN: processing message: structure at UTU:< time at UTU:1002 >\n",
      "INFO:root:EXOADMIN:       -------And with that processed STRUCTURE: {'faction': {'wealth': 0, 'name': 'Ciu', 'objid': '7327160462281', 'lat': '-0.134', 'long': '0.0', 'infrastructure': '0', 'userguid': '8d5b667f-b225-4641-b499-73b77558ff86', 'objtype': 'faction', 'id': '7327160462281'}, 'pop': {'isIdle': 'true', 'name': 'Ciu Damlantia', 'objid': '3069640564489', 'conformity': '0.397', 'literacy': '0.658', 'aggression': '0.399', 'constitution': '0.465', 'health': '0.7', 'isIn': '7327160462281', 'industry': '0.43200000000000005', 'wealth': '0.545', 'factionLoyalty': '0.525', 'userguid': '8d5b667f-b225-4641-b499-73b77558ff86', 'objtype': 'pop', 'id': '3069640564489'}, 'structure': {'name': 'Farmland', 'objid': '6886425430993', 'ownedBy': '3069640564489', 'type': 'farmland', 'description': 'Generates organic foodstuffs', 'populations will consume food before consuming natural resources': 'None', 'planet_requirements': '{isHabitable: True}', 'faction_augments': '{wealth: -1}', 'renews_faction_resource': '{grains: 10}', 'owned_by': 'pop', 'effort': 1, 'userguid': '8d5b667f-b225-4641-b499-73b77558ff86', 'objtype': 'building', 'id': '6886425430993'}, 'action': 'structure'} at UTU:< time at UTU:1002 >\n",
      "INFO:root:EXOADMIN: process_structure, structure: Farmland: 6886425430993\n",
      "INFO:root:EXOADMIN: this structure augments a property of the faction\n",
      "INFO:root:EXOADMIN: wealth has changed from 0 to 0\n",
      "DEBUG:asyncio:Using selector: SelectSelector\n",
      "INFO:root:EXOADMIN: this structure renews the resources of the faction\n",
      "INFO:root:EXOADMIN: resources_to_renew: {'grains': 10}. For faction: {'wealth': 0, 'name': 'Ciu', 'objid': '7327160462281', 'lat': '-0.134', 'long': '0.0', 'infrastructure': '0', 'userguid': '8d5b667f-b225-4641-b499-73b77558ff86', 'objtype': 'faction', 'id': '7327160462281'}\n",
      "DEBUG:asyncio:Using selector: SelectSelector\n",
      "INFO:root:EXOADMIN: faction_resources: [{'name': 'grains', 'type': 'organics', 'description': 'grains that can be consumed by pops', 'contained_by': '[ship, faction]', 'objid': '3271102985863', 'max_volume': 100, 'volume': 10, 'userguid': '8d5b667f-b225-4641-b499-73b77558ff86', 'objtype': 'resource', 'id': '3271102985863'}]\n",
      "INFO:root:EXOADMIN: resources grains:3271102985863 changed by 10, 10.0-> 20.0\n",
      "INFO:root:EXOADMIN: renew_query: g.V().has('objid','3271102985863').property('volume','20.0')\n",
      "DEBUG:asyncio:Using selector: SelectSelector\n"
     ]
    },
    {
     "data": {
      "text/plain": [
       "[]"
      ]
     },
     "execution_count": 6,
     "metadata": {},
     "output_type": "execute_result"
    }
   ],
   "source": [
    "f.process_action_event_message(structure_messages[0])"
   ]
  },
  {
   "cell_type": "markdown",
   "metadata": {},
   "source": [
    "## Incrementing the timer\n",
    "Just for testing purposes. Some jobs can only be done when ready. \n"
   ]
  },
  {
   "cell_type": "code",
   "execution_count": 1,
   "metadata": {},
   "outputs": [
    {
     "ename": "NameError",
     "evalue": "name 'f' is not defined",
     "output_type": "error",
     "traceback": [
      "\u001b[1;31m---------------------------------------------------------------------------\u001b[0m",
      "\u001b[1;31mNameError\u001b[0m                                 Traceback (most recent call last)",
      "Cell \u001b[1;32mIn[1], line 1\u001b[0m\n\u001b[1;32m----> 1\u001b[0m \u001b[43mf\u001b[49m\u001b[38;5;241m.\u001b[39mincrement_timer()\n",
      "\u001b[1;31mNameError\u001b[0m: name 'f' is not defined"
     ]
    }
   ],
   "source": [
    "f.increment_timer()"
   ]
  },
  {
   "cell_type": "code",
   "execution_count": null,
   "metadata": {},
   "outputs": [],
   "source": []
  },
  {
   "cell_type": "code",
   "execution_count": null,
   "metadata": {},
   "outputs": [],
   "source": []
  }
 ],
 "metadata": {
  "kernelspec": {
   "display_name": "exoplanets",
   "language": "python",
   "name": "python3"
  },
  "language_info": {
   "codemirror_mode": {
    "name": "ipython",
    "version": 3
   },
   "file_extension": ".py",
   "mimetype": "text/x-python",
   "name": "python",
   "nbconvert_exporter": "python",
   "pygments_lexer": "ipython3",
   "version": "3.8.16"
  }
 },
 "nbformat": 4,
 "nbformat_minor": 2
}
