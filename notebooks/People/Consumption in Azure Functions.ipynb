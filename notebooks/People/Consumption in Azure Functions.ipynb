{
 "cells": [
  {
   "cell_type": "markdown",
   "metadata": {},
   "source": [
    "# Consumption"
   ]
  },
  {
   "cell_type": "markdown",
   "metadata": {},
   "source": [
    "Populations consume.\n"
   ]
  },
  {
   "cell_type": "code",
   "execution_count": 1,
   "metadata": {},
   "outputs": [
    {
     "name": "stderr",
     "output_type": "stream",
     "text": [
      "INFO:root:logs showing as print\n"
     ]
    },
    {
     "name": "stdout",
     "output_type": "stream",
     "text": [
      "['function_app.py']\n"
     ]
    }
   ],
   "source": [
    "import os\n",
    "import  ssl, asyncio\n",
    "import nest_asyncio\n",
    "import pandas as pd\n",
    "\n",
    "# moving back to the root, but idempotent in case we are already there\n",
    "if 'function_app.py' not in os.listdir():\n",
    "    os.chdir('../..')\n",
    "print([f for f in os.listdir() if f == 'function_app.py'])\n",
    "\n",
    "import logging\n",
    "logger = logging.getLogger()\n",
    "logger.setLevel(logging.DEBUG)\n",
    "logging.info(\"logs showing as print\")\n",
    "\n",
    "\n",
    "\n",
    "ssl._create_default_https_context = ssl._create_unverified_context\n",
    "asyncio.set_event_loop_policy(asyncio.WindowsSelectorEventLoopPolicy())\n",
    "# this is required for running in a Jupyter Notebook. \n",
    "nest_asyncio.apply()"
   ]
  },
  {
   "cell_type": "code",
   "execution_count": 2,
   "metadata": {},
   "outputs": [
    {
     "name": "stdout",
     "output_type": "stream",
     "text": [
      "executing local windows deployment\n",
      "something wrong with your query: <class 'Exception'>\n"
     ]
    }
   ],
   "source": [
    "import function_app as f"
   ]
  },
  {
   "cell_type": "code",
   "execution_count": 3,
   "metadata": {},
   "outputs": [
    {
     "name": "stderr",
     "output_type": "stream",
     "text": [
      "DEBUG:asyncio:Using selector: SelectSelector\n",
      "INFO:root:EXOADMIN: health requirement 0.7\n",
      "DEBUG:asyncio:Using selector: SelectSelector\n",
      "INFO:root:EXOADMIN: healthy_pops_query 0\n",
      "INFO:root:EXOADMIN: No pops that meet the pop_health_requirement\n",
      "DEBUG:asyncio:Using selector: SelectSelector\n",
      "INFO:root:EXOADMIN: Total jobs: 0\n",
      "INFO:root:EXOADMIN: Total actions resolved in this run: 0\n",
      "DEBUG:asyncio:Using selector: SelectSelector\n",
      "DEBUG:asyncio:Using selector: SelectSelector\n",
      "INFO:root:EXOADMIN: messages: job:0, growth:0, consumption:7, renewal:0 - at: < time at UTU:1004 >\n",
      "INFO:root:EXOADMIN: Total Messages generated: 7 at: < time at UTU:1004 >\n"
     ]
    },
    {
     "data": {
      "text/html": [
       "<div>\n",
       "<style scoped>\n",
       "    .dataframe tbody tr th:only-of-type {\n",
       "        vertical-align: middle;\n",
       "    }\n",
       "\n",
       "    .dataframe tbody tr th {\n",
       "        vertical-align: top;\n",
       "    }\n",
       "\n",
       "    .dataframe thead th {\n",
       "        text-align: right;\n",
       "    }\n",
       "</style>\n",
       "<table border=\"1\" class=\"dataframe\">\n",
       "  <thead>\n",
       "    <tr style=\"text-align: right;\">\n",
       "      <th></th>\n",
       "      <th>objid</th>\n",
       "      <th>consumes</th>\n",
       "      <th>effuses</th>\n",
       "    </tr>\n",
       "  </thead>\n",
       "  <tbody>\n",
       "    <tr>\n",
       "      <th>0</th>\n",
       "      <td>9888651460599</td>\n",
       "      <td>[organics]</td>\n",
       "      <td>[organic waste, plastics]</td>\n",
       "    </tr>\n",
       "    <tr>\n",
       "      <th>1</th>\n",
       "      <td>9629113611489</td>\n",
       "      <td>[organics]</td>\n",
       "      <td>[organic waste, plastics]</td>\n",
       "    </tr>\n",
       "    <tr>\n",
       "      <th>2</th>\n",
       "      <td>6668897649955</td>\n",
       "      <td>[organics]</td>\n",
       "      <td>[organic waste, plastics]</td>\n",
       "    </tr>\n",
       "    <tr>\n",
       "      <th>3</th>\n",
       "      <td>6880883763526</td>\n",
       "      <td>[organics]</td>\n",
       "      <td>[organic waste, plastics]</td>\n",
       "    </tr>\n",
       "    <tr>\n",
       "      <th>4</th>\n",
       "      <td>7372021564759</td>\n",
       "      <td>[organics]</td>\n",
       "      <td>[organic waste, plastics]</td>\n",
       "    </tr>\n",
       "    <tr>\n",
       "      <th>5</th>\n",
       "      <td>2416478665710</td>\n",
       "      <td>[organics]</td>\n",
       "      <td>[organic waste, plastics]</td>\n",
       "    </tr>\n",
       "    <tr>\n",
       "      <th>6</th>\n",
       "      <td>0255814826981</td>\n",
       "      <td>[organics]</td>\n",
       "      <td>[organic waste, plastics]</td>\n",
       "    </tr>\n",
       "  </tbody>\n",
       "</table>\n",
       "</div>"
      ],
      "text/plain": [
       "           objid    consumes                    effuses\n",
       "0  9888651460599  [organics]  [organic waste, plastics]\n",
       "1  9629113611489  [organics]  [organic waste, plastics]\n",
       "2  6668897649955  [organics]  [organic waste, plastics]\n",
       "3  6880883763526  [organics]  [organic waste, plastics]\n",
       "4  7372021564759  [organics]  [organic waste, plastics]\n",
       "5  2416478665710  [organics]  [organic waste, plastics]\n",
       "6  0255814826981  [organics]  [organic waste, plastics]"
      ]
     },
     "execution_count": 3,
     "metadata": {},
     "output_type": "execute_result"
    }
   ],
   "source": [
    "action_messages = f.process_action_messages()\n",
    "consumption_messages = [c for c in action_messages if c['action'] == 'consume']\n",
    "pd.DataFrame([c['agent'] for c in consumption_messages])"
   ]
  },
  {
   "cell_type": "markdown",
   "metadata": {},
   "source": [
    "All populations `consume` some resources and `effuse` some resources. "
   ]
  },
  {
   "cell_type": "code",
   "execution_count": 9,
   "metadata": {},
   "outputs": [
    {
     "name": "stderr",
     "output_type": "stream",
     "text": [
      "DEBUG:asyncio:Using selector: SelectSelector\n",
      "INFO:root:EXOADMIN: processing message: consume at UTU:< time at UTU:1004 >\n",
      "INFO:root:EXOADMIN: check_faction_has_resource query: \n",
      "    g.V().has('objid','9888651460599').out('isIn').out('has').has('objtype','resource').has('type','organics').valueMap()\n",
      "    \n",
      "DEBUG:asyncio:Using selector: SelectSelector\n",
      "INFO:root:EXOADMIN: faction: 9888651460599 does not have the resource: organics.\n",
      "INFO:root:EXOADMIN: faction does not have the resource. Local reasources will be consumed.\n",
      "INFO:root:EXOADMIN: Processing reduce_location_resource for: {'objid': '9888651460599', 'consumes': ['organics'], 'effuses': ['organic waste', 'plastics']}\n",
      "INFO:root:EXOADMIN: objid:9888651460599 consumes  2 organics\n",
      "INFO:root:EXOADMIN: location_resource_query query: \n",
      "    g.V().has('objid','9888651460599').out('inhabits').out('has').has('objtype','resource').has('type','organics').valuemap()\n",
      "    \n",
      "DEBUG:asyncio:Using selector: SelectSelector\n",
      "INFO:root:EXOADMIN: resources 2712790777820 consumed by 9888651460599: reduced by 2, 1046-> 1044.0\n",
      "INFO:root:EXOADMIN: patch_resource_query: g.V().has('objid','2712790777820').property('volume',1044.0)\n",
      "DEBUG:asyncio:Using selector: SelectSelector\n",
      "INFO:root:EXOADMIN: agent: 9888651460599 consumed resource: 2712790777820. 1046.0->1044.0\n",
      "INFO:root:EXOADMIN:       -------And with that processed CONSUMPTION: {'objid': '9888651460599', 'consumes': ['organics'], 'effuses': ['organic waste', 'plastics']} at UTU:< time at UTU:1004 >\n"
     ]
    },
    {
     "data": {
      "text/plain": [
       "[]"
      ]
     },
     "execution_count": 9,
     "metadata": {},
     "output_type": "execute_result"
    }
   ],
   "source": [
    "f.process_action_event_message(consumption_messages[0])"
   ]
  },
  {
   "cell_type": "code",
   "execution_count": null,
   "metadata": {},
   "outputs": [],
   "source": []
  },
  {
   "cell_type": "code",
   "execution_count": null,
   "metadata": {},
   "outputs": [],
   "source": []
  }
 ],
 "metadata": {
  "kernelspec": {
   "display_name": "exoplanets",
   "language": "python",
   "name": "python3"
  },
  "language_info": {
   "codemirror_mode": {
    "name": "ipython",
    "version": 3
   },
   "file_extension": ".py",
   "mimetype": "text/x-python",
   "name": "python",
   "nbconvert_exporter": "python",
   "pygments_lexer": "ipython3",
   "version": "3.8.16"
  }
 },
 "nbformat": 4,
 "nbformat_minor": 2
}
