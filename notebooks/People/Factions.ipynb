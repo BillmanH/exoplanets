{
 "cells": [
  {
   "attachments": {},
   "cell_type": "markdown",
   "metadata": {},
   "source": [
    "# Building Populations and Factions"
   ]
  },
  {
   "cell_type": "code",
   "execution_count": 10,
   "metadata": {},
   "outputs": [],
   "source": [
    "import numpy as np\n",
    "import pandas as pd\n",
    "\n",
    "from sklearn.cluster import KMeans\n",
    "from sklearn.decomposition import PCA\n",
    "\n",
    "import sys, os, ssl\n",
    "import asyncio\n",
    "import altair as alt\n",
    "\n",
    "# mapping to the modules that make the app\n",
    "sys.path.insert(0, \"../..\")\n"
   ]
  },
  {
   "cell_type": "code",
   "execution_count": 11,
   "metadata": {},
   "outputs": [
    {
     "name": "stdout",
     "output_type": "stream",
     "text": [
      "executing local windows deployment\n",
      "something wrong with your query: <class 'Exception'>\n"
     ]
    }
   ],
   "source": [
    "ssl._create_default_https_context = ssl._create_unverified_context\n",
    "asyncio.set_event_loop_policy(asyncio.WindowsSelectorEventLoopPolicy())\n",
    "import nest_asyncio\n",
    "\n",
    "# this is required for running in a Jupyter Notebook.\n",
    "nest_asyncio.apply()\n",
    "\n",
    "import app.connectors.cmdb_graph as cmdb_graph\n",
    "\n",
    "c = cmdb_graph.CosmosdbClient()"
   ]
  },
  {
   "cell_type": "code",
   "execution_count": 4,
   "metadata": {},
   "outputs": [],
   "source": [
    "from app.creators import homeworld\n",
    "from app.objects import species, population"
   ]
  },
  {
   "attachments": {},
   "cell_type": "markdown",
   "metadata": {},
   "source": [
    "Example data from the input form:"
   ]
  },
  {
   "cell_type": "code",
   "execution_count": 4,
   "metadata": {},
   "outputs": [],
   "source": [
    "data = {\n",
    "    \"label\": \"form\",\n",
    "    \"name\": \"worldgenform\",\n",
    "    \"objid\": \"0000000000001\",\n",
    "    \"owner\": \"user.username\",\n",
    "    \"username\": \"user.username\",\n",
    "    \"accountid\": \"0000000000001\",\n",
    "    \"conformity\": 0.1,\n",
    "    \"constitution\": 0.5,\n",
    "    \"literacy\": 0.5,\n",
    "    \"aggression\": 0.5,\n",
    "    \"num_planets\": 4,\n",
    "    \"num_moons\": 10,\n",
    "    \"starting_pop\": 30,\n",
    "    \"organics\": 0.5,\n",
    "    \"minerals\": 0.5,\n",
    "}"
   ]
  },
  {
   "cell_type": "code",
   "execution_count": 7,
   "metadata": {},
   "outputs": [
    {
     "data": {
      "text/plain": [
       "'nodes'"
      ]
     },
     "execution_count": 7,
     "metadata": {},
     "output_type": "execute_result"
    }
   ],
   "source": [
    "nodes, edges = homeworld.build_people(data)\n",
    "nodes"
   ]
  },
  {
   "cell_type": "code",
   "execution_count": 6,
   "metadata": {},
   "outputs": [
    {
     "ename": "TypeError",
     "evalue": "string indices must be integers",
     "output_type": "error",
     "traceback": [
      "\u001b[1;31m---------------------------------------------------------------------------\u001b[0m",
      "\u001b[1;31mTypeError\u001b[0m                                 Traceback (most recent call last)",
      "\u001b[1;32m<ipython-input-6-101887cbc677>\u001b[0m in \u001b[0;36m<module>\u001b[1;34m\u001b[0m\n\u001b[1;32m----> 1\u001b[1;33m \u001b[1;33m[\u001b[0m\u001b[0mn\u001b[0m \u001b[1;32mfor\u001b[0m \u001b[0mn\u001b[0m \u001b[1;32min\u001b[0m \u001b[0mnodes\u001b[0m \u001b[1;32mif\u001b[0m \u001b[0mn\u001b[0m\u001b[1;33m[\u001b[0m\u001b[1;34m\"label\"\u001b[0m\u001b[1;33m]\u001b[0m \u001b[1;33m==\u001b[0m \u001b[1;34m\"faction\"\u001b[0m\u001b[1;33m]\u001b[0m\u001b[1;33m\u001b[0m\u001b[0m\n\u001b[0m",
      "\u001b[1;32m<ipython-input-6-101887cbc677>\u001b[0m in \u001b[0;36m<listcomp>\u001b[1;34m(.0)\u001b[0m\n\u001b[1;32m----> 1\u001b[1;33m \u001b[1;33m[\u001b[0m\u001b[0mn\u001b[0m \u001b[1;32mfor\u001b[0m \u001b[0mn\u001b[0m \u001b[1;32min\u001b[0m \u001b[0mnodes\u001b[0m \u001b[1;32mif\u001b[0m \u001b[0mn\u001b[0m\u001b[1;33m[\u001b[0m\u001b[1;34m\"label\"\u001b[0m\u001b[1;33m]\u001b[0m \u001b[1;33m==\u001b[0m \u001b[1;34m\"faction\"\u001b[0m\u001b[1;33m]\u001b[0m\u001b[1;33m\u001b[0m\u001b[0m\n\u001b[0m",
      "\u001b[1;31mTypeError\u001b[0m: string indices must be integers"
     ]
    }
   ],
   "source": [
    "[n for n in nodes if n[\"label\"] == \"faction\"]"
   ]
  },
  {
   "cell_type": "code",
   "execution_count": 7,
   "metadata": {},
   "outputs": [
    {
     "data": {
      "text/plain": [
       "False"
      ]
     },
     "execution_count": 7,
     "metadata": {},
     "output_type": "execute_result"
    }
   ],
   "source": [
    "0 in [[0, 0]]"
   ]
  },
  {
   "cell_type": "code",
   "execution_count": 8,
   "metadata": {},
   "outputs": [
    {
     "data": {
      "text/plain": [
       "[1, 1]"
      ]
     },
     "execution_count": 8,
     "metadata": {},
     "output_type": "execute_result"
    }
   ],
   "source": [
    "options = [[1, 1], [-1, 1], [1, -1], [-1, -1]]\n",
    "pick = options[np.random.choice([0, 1, 2, 3])]\n",
    "pick"
   ]
  },
  {
   "cell_type": "code",
   "execution_count": 9,
   "metadata": {},
   "outputs": [
    {
     "data": {
      "text/plain": [
       "[1, -1]"
      ]
     },
     "execution_count": 9,
     "metadata": {},
     "output_type": "execute_result"
    }
   ],
   "source": [
    "new_pick = options[np.random.choice([0, 1, 2, 3])]\n",
    "new_pick"
   ]
  },
  {
   "cell_type": "code",
   "execution_count": 10,
   "metadata": {},
   "outputs": [
    {
     "data": {
      "text/plain": [
       "[2, 0]"
      ]
     },
     "execution_count": 10,
     "metadata": {},
     "output_type": "execute_result"
    }
   ],
   "source": [
    "all_pick = np.add(pick, new_pick)\n",
    "all_pick.tolist()"
   ]
  },
  {
   "cell_type": "markdown",
   "metadata": {},
   "source": [
    "# Getting resources and populations of factions"
   ]
  },
  {
   "cell_type": "code",
   "execution_count": null,
   "metadata": {},
   "outputs": [],
   "source": [
    "objid = \"0293168419375\"\n",
    "pops_query = f\"g.V().has('objid','{objid}').in('isIn').valueMap()\"\n",
    "resources_query = f\"g.V().has('objid','{objid}').out('has').valueMap()\"\n",
    "c.add_query(pops_query)\n",
    "c.add_query(resources_query)\n",
    "c.run_queries()"
   ]
  },
  {
   "cell_type": "code",
   "execution_count": 14,
   "metadata": {},
   "outputs": [
    {
     "data": {
      "text/plain": [
       "[{'name': ['Snorelau Terdeciay'],\n",
       "  'objid': ['1054627691861'],\n",
       "  'conformity': ['0.647'],\n",
       "  'literacy': ['0.75'],\n",
       "  'aggression': ['0.389'],\n",
       "  'constitution': ['0.419'],\n",
       "  'health': ['0.7'],\n",
       "  'isIn': ['0293168419375'],\n",
       "  'industry': ['0.404'],\n",
       "  'wealth': ['0.577'],\n",
       "  'factionLoyalty': ['0.712'],\n",
       "  'isIdle': ['true'],\n",
       "  'userguid': ['8d5b667f-b225-4641-b499-73b77558ff86'],\n",
       "  'objtype': ['pop']},\n",
       " {'isIdle': ['true'],\n",
       "  'name': ['Snorelau Hinos'],\n",
       "  'objid': ['1059544263233'],\n",
       "  'conformity': ['0.733'],\n",
       "  'literacy': ['0.79'],\n",
       "  'aggression': ['0.263'],\n",
       "  'constitution': ['0.429'],\n",
       "  'health': ['0.7'],\n",
       "  'isIn': ['0293168419375'],\n",
       "  'industry': ['0.346'],\n",
       "  'wealth': ['0.5680000000000001'],\n",
       "  'factionLoyalty': ['0.686'],\n",
       "  'userguid': ['8d5b667f-b225-4641-b499-73b77558ff86'],\n",
       "  'objtype': ['pop']},\n",
       " {'name': ['Snorelau Canis'],\n",
       "  'objid': ['5073166215030'],\n",
       "  'conformity': ['0.659'],\n",
       "  'literacy': ['0.605'],\n",
       "  'aggression': ['0.32'],\n",
       "  'constitution': ['0.431'],\n",
       "  'health': ['0.7'],\n",
       "  'isIn': ['0293168419375'],\n",
       "  'industry': ['0.3755'],\n",
       "  'wealth': ['0.49024999999999996'],\n",
       "  'factionLoyalty': ['0.59'],\n",
       "  'isIdle': ['true'],\n",
       "  'userguid': ['8d5b667f-b225-4641-b499-73b77558ff86'],\n",
       "  'objtype': ['pop']},\n",
       " {'name': ['Snorelau Dolay'],\n",
       "  'objid': ['6920160640511'],\n",
       "  'conformity': ['0.676'],\n",
       "  'literacy': ['0.743'],\n",
       "  'aggression': ['0.173'],\n",
       "  'constitution': ['0.384'],\n",
       "  'health': ['0.7'],\n",
       "  'isIn': ['0293168419375'],\n",
       "  'industry': ['0.27849999999999997'],\n",
       "  'wealth': ['0.51075'],\n",
       "  'factionLoyalty': ['0.628'],\n",
       "  'isIdle': ['true'],\n",
       "  'userguid': ['8d5b667f-b225-4641-b499-73b77558ff86'],\n",
       "  'objtype': ['pop']}]"
      ]
     },
     "execution_count": 14,
     "metadata": {},
     "output_type": "execute_result"
    }
   ],
   "source": [
    "c.res[pops_query]"
   ]
  },
  {
   "cell_type": "code",
   "execution_count": 20,
   "metadata": {},
   "outputs": [
    {
     "data": {
      "text/plain": [
       "[]"
      ]
     },
     "execution_count": 20,
     "metadata": {},
     "output_type": "execute_result"
    }
   ],
   "source": [
    "query = f\"g.V().has('objid','{objid}').out().valueMap()\"\n",
    "c.run_query(query)\n",
    "c.res"
   ]
  },
  {
   "cell_type": "code",
   "execution_count": 21,
   "metadata": {},
   "outputs": [
    {
     "data": {
      "text/html": [
       "<div>\n",
       "<style scoped>\n",
       "    .dataframe tbody tr th:only-of-type {\n",
       "        vertical-align: middle;\n",
       "    }\n",
       "\n",
       "    .dataframe tbody tr th {\n",
       "        vertical-align: top;\n",
       "    }\n",
       "\n",
       "    .dataframe thead th {\n",
       "        text-align: right;\n",
       "    }\n",
       "</style>\n",
       "<table border=\"1\" class=\"dataframe\">\n",
       "  <thead>\n",
       "    <tr style=\"text-align: right;\">\n",
       "      <th></th>\n",
       "    </tr>\n",
       "  </thead>\n",
       "  <tbody>\n",
       "  </tbody>\n",
       "</table>\n",
       "</div>"
      ],
      "text/plain": [
       "Empty DataFrame\n",
       "Columns: []\n",
       "Index: []"
      ]
     },
     "execution_count": 21,
     "metadata": {},
     "output_type": "execute_result"
    }
   ],
   "source": [
    "pd.DataFrame(c.clean_nodes(c.res))"
   ]
  },
  {
   "cell_type": "code",
   "execution_count": null,
   "metadata": {},
   "outputs": [],
   "source": []
  }
 ],
 "metadata": {
  "kernelspec": {
   "display_name": "exoplanets",
   "language": "python",
   "name": "python3"
  },
  "language_info": {
   "codemirror_mode": {
    "name": "ipython",
    "version": 3
   },
   "file_extension": ".py",
   "mimetype": "text/x-python",
   "name": "python",
   "nbconvert_exporter": "python",
   "pygments_lexer": "ipython3",
   "version": "3.8.16"
  },
  "orig_nbformat": 4,
  "vscode": {
   "interpreter": {
    "hash": "625a17269cb94aebb094cbcf5e0e8340f26b69d46569da60e8fc69439048adbf"
   }
  }
 },
 "nbformat": 4,
 "nbformat_minor": 2
}
