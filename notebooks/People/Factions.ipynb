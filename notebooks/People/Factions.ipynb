{
 "cells": [
  {
   "attachments": {},
   "cell_type": "markdown",
   "metadata": {},
   "source": [
    "# Building Populations and Factions"
   ]
  },
  {
   "cell_type": "code",
   "execution_count": 1,
   "metadata": {},
   "outputs": [],
   "source": [
    "import numpy as np\n",
    "import pandas as pd\n",
    "\n",
    "from sklearn.cluster import KMeans\n",
    "from sklearn.decomposition import PCA\n",
    "\n",
    "import sys, os\n",
    "import altair as alt\n",
    "\n",
    "# mapping to the modules that make the app\n",
    "sys.path.insert(0, \"../..\")\n",
    "sys.path.insert(0, \"../../app\")\n",
    "\n",
    "\n",
    "%load_ext lab_black"
   ]
  },
  {
   "cell_type": "code",
   "execution_count": 2,
   "metadata": {},
   "outputs": [],
   "source": [
    "from app import creators"
   ]
  },
  {
   "cell_type": "code",
   "execution_count": 3,
   "metadata": {},
   "outputs": [],
   "source": [
    "from app.creators import homeworld\n",
    "from app.objects import species, population"
   ]
  },
  {
   "attachments": {},
   "cell_type": "markdown",
   "metadata": {},
   "source": [
    "Example data from the input form:"
   ]
  },
  {
   "cell_type": "code",
   "execution_count": 4,
   "metadata": {},
   "outputs": [],
   "source": [
    "data = {\n",
    "    \"label\": \"form\",\n",
    "    \"name\": \"worldgenform\",\n",
    "    \"objid\": \"0000000000001\",\n",
    "    \"owner\": \"user.username\",\n",
    "    \"username\": \"user.username\",\n",
    "    \"accountid\": \"0000000000001\",\n",
    "    \"conformity\": 0.1,\n",
    "    \"constitution\": 0.5,\n",
    "    \"literacy\": 0.5,\n",
    "    \"aggression\": 0.5,\n",
    "    \"num_planets\": 4,\n",
    "    \"num_moons\": 10,\n",
    "    \"starting_pop\": 30,\n",
    "    \"organics\": 0.5,\n",
    "    \"minerals\": 0.5,\n",
    "}"
   ]
  },
  {
   "cell_type": "code",
   "execution_count": 5,
   "metadata": {},
   "outputs": [],
   "source": [
    "nodes, edges = homeworld.build_people(data)"
   ]
  },
  {
   "cell_type": "code",
   "execution_count": 12,
   "metadata": {},
   "outputs": [
    {
     "data": {
      "text/plain": [
       "[{'name': 'Rocziqawi',\n",
       "  'objid': '4008773813677',\n",
       "  'label': 'faction',\n",
       "  'lat': -0.2,\n",
       "  'long': -0.168,\n",
       "  'pop_loactions': [[0, 0],\n",
       "   [-2, -2],\n",
       "   [2, -2],\n",
       "   [-2, 0],\n",
       "   [-1, -1],\n",
       "   [0, 2],\n",
       "   [-2, 2],\n",
       "   [2, 0],\n",
       "   [1, -3]]},\n",
       " {'name': 'Ler',\n",
       "  'objid': '2095607860319',\n",
       "  'label': 'faction',\n",
       "  'lat': 0.057,\n",
       "  'long': 0.006,\n",
       "  'pop_loactions': [[0, 0],\n",
       "   [-1, -1],\n",
       "   [-2, 0],\n",
       "   [0, 2],\n",
       "   [-1, 1],\n",
       "   [-1, 3],\n",
       "   [0, -2],\n",
       "   [1, 1],\n",
       "   [-2, 2],\n",
       "   [-2, -2],\n",
       "   [1, -1],\n",
       "   [2, 0]]},\n",
       " {'name': 'Ce',\n",
       "  'objid': '8423670952485',\n",
       "  'label': 'faction',\n",
       "  'lat': -0.154,\n",
       "  'long': 0.182,\n",
       "  'pop_loactions': [[0, 0], [-2, -2], [-1, -1], [-2, 2], [-2, 0], [2, 0]]},\n",
       " {'name': 'Cor',\n",
       "  'objid': '3346048701281',\n",
       "  'label': 'faction',\n",
       "  'lat': 0.296,\n",
       "  'long': -0.02,\n",
       "  'pop_loactions': [[0, 0],\n",
       "   [-2, 2],\n",
       "   [0, 2],\n",
       "   [-2, 0],\n",
       "   [1, -1],\n",
       "   [2, -2],\n",
       "   [-1, -1]]}]"
      ]
     },
     "execution_count": 12,
     "metadata": {},
     "output_type": "execute_result"
    }
   ],
   "source": [
    "[n for n in nodes if n[\"label\"] == \"faction\"]"
   ]
  },
  {
   "cell_type": "code",
   "execution_count": 7,
   "metadata": {},
   "outputs": [
    {
     "data": {
      "text/plain": [
       "False"
      ]
     },
     "execution_count": 7,
     "metadata": {},
     "output_type": "execute_result"
    }
   ],
   "source": [
    "0 in [[0, 0]]"
   ]
  },
  {
   "cell_type": "code",
   "execution_count": 8,
   "metadata": {},
   "outputs": [
    {
     "data": {
      "text/plain": [
       "[1, 1]"
      ]
     },
     "execution_count": 8,
     "metadata": {},
     "output_type": "execute_result"
    }
   ],
   "source": [
    "options = [[1, 1], [-1, 1], [1, -1], [-1, -1]]\n",
    "pick = options[np.random.choice([0, 1, 2, 3])]\n",
    "pick"
   ]
  },
  {
   "cell_type": "code",
   "execution_count": 9,
   "metadata": {},
   "outputs": [
    {
     "data": {
      "text/plain": [
       "[1, -1]"
      ]
     },
     "execution_count": 9,
     "metadata": {},
     "output_type": "execute_result"
    }
   ],
   "source": [
    "new_pick = options[np.random.choice([0, 1, 2, 3])]\n",
    "new_pick"
   ]
  },
  {
   "cell_type": "code",
   "execution_count": 10,
   "metadata": {},
   "outputs": [
    {
     "data": {
      "text/plain": [
       "[2, 0]"
      ]
     },
     "execution_count": 10,
     "metadata": {},
     "output_type": "execute_result"
    }
   ],
   "source": [
    "all_pick = np.add(pick, new_pick)\n",
    "all_pick.tolist()"
   ]
  },
  {
   "cell_type": "code",
   "execution_count": null,
   "metadata": {},
   "outputs": [],
   "source": []
  }
 ],
 "metadata": {
  "kernelspec": {
   "display_name": "exoplanets",
   "language": "python",
   "name": "python3"
  },
  "language_info": {
   "codemirror_mode": {
    "name": "ipython",
    "version": 3
   },
   "file_extension": ".py",
   "mimetype": "text/x-python",
   "name": "python",
   "nbconvert_exporter": "python",
   "pygments_lexer": "ipython3",
   "version": "3.7.0"
  },
  "orig_nbformat": 4,
  "vscode": {
   "interpreter": {
    "hash": "625a17269cb94aebb094cbcf5e0e8340f26b69d46569da60e8fc69439048adbf"
   }
  }
 },
 "nbformat": 4,
 "nbformat_minor": 2
}
