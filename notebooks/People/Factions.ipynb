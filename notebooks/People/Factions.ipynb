{
 "cells": [
  {
   "attachments": {},
   "cell_type": "markdown",
   "metadata": {},
   "source": [
    "# Building Populations and Factions"
   ]
  },
  {
   "cell_type": "code",
   "execution_count": 4,
   "metadata": {},
   "outputs": [
    {
     "name": "stdout",
     "output_type": "stream",
     "text": [
      "The lab_black extension is already loaded. To reload it, use:\n",
      "  %reload_ext lab_black\n"
     ]
    }
   ],
   "source": [
    "import numpy as np\n",
    "import pandas as pd\n",
    "\n",
    "from sklearn.cluster import KMeans\n",
    "from sklearn.decomposition import PCA\n",
    "\n",
    "import sys, os\n",
    "import altair as alt\n",
    "\n",
    "# mapping to the modules that make the app\n",
    "sys.path.insert(0, \"../..\")\n",
    "sys.path.insert(0, \"../../app\")\n",
    "\n",
    "\n",
    "%load_ext lab_black"
   ]
  },
  {
   "cell_type": "code",
   "execution_count": 5,
   "metadata": {},
   "outputs": [],
   "source": [
    "from app import creators"
   ]
  },
  {
   "cell_type": "code",
   "execution_count": 9,
   "metadata": {},
   "outputs": [],
   "source": [
    "from app.creators import homeworld\n",
    "from app.objects import species, population"
   ]
  },
  {
   "attachments": {},
   "cell_type": "markdown",
   "metadata": {},
   "source": [
    "Example data from the input form:"
   ]
  },
  {
   "cell_type": "code",
   "execution_count": 7,
   "metadata": {},
   "outputs": [],
   "source": [
    "data = {\n",
    "    \"label\": \"form\",\n",
    "    \"name\": \"worldgenform\",\n",
    "    \"objid\": \"0000000000001\",\n",
    "    \"owner\": \"user.username\",\n",
    "    \"username\": \"user.username\",\n",
    "    \"accountid\": \"0000000000001\",\n",
    "    \"conformity\": 0.5,\n",
    "    \"constitution\": 0.5,\n",
    "    \"literacy\": 0.5,\n",
    "    \"aggression\": 0.5,\n",
    "    \"num_planets\": 4,\n",
    "    \"num_moons\": 10,\n",
    "    \"starting_pop\": 7,\n",
    "    \"organics\": 0.5,\n",
    "    \"minerals\": 0.5,\n",
    "}"
   ]
  },
  {
   "attachments": {},
   "cell_type": "markdown",
   "metadata": {},
   "source": [
    "# Species"
   ]
  },
  {
   "cell_type": "code",
   "execution_count": 10,
   "metadata": {},
   "outputs": [
    {
     "data": {
      "text/plain": [
       "{'name': 'Giobilyganj',\n",
       " 'objid': '7664494834698',\n",
       " 'label': 'species',\n",
       " 'consumes': ['Organic'],\n",
       " 'effuses': ['Organic waste', 'Plastics'],\n",
       " 'viral_resilience': 0.7,\n",
       " 'habitat_resilience': 0.2}"
      ]
     },
     "execution_count": 10,
     "metadata": {},
     "output_type": "execute_result"
    }
   ],
   "source": [
    "species = species.Species()\n",
    "species.build_attr(data)\n",
    "species.get_data()"
   ]
  },
  {
   "cell_type": "code",
   "execution_count": 11,
   "metadata": {},
   "outputs": [
    {
     "data": {
      "text/plain": [
       "[<pop: pop; 5737175283133; unnamed>,\n",
       " <pop: pop; 3792350943299; unnamed>,\n",
       " <pop: pop; 0445402194292; unnamed>,\n",
       " <pop: pop; 9911658268206; unnamed>,\n",
       " <pop: pop; 5232694087667; unnamed>,\n",
       " <pop: pop; 0835631676356; unnamed>,\n",
       " <pop: pop; 0493247425748; unnamed>]"
      ]
     },
     "execution_count": 11,
     "metadata": {},
     "output_type": "execute_result"
    }
   ],
   "source": [
    "pops = [population.Pop(species) for i in range(int(data[\"starting_pop\"]))]\n",
    "pops"
   ]
  },
  {
   "cell_type": "code",
   "execution_count": 12,
   "metadata": {},
   "outputs": [
    {
     "data": {
      "text/html": [
       "<div>\n",
       "<style scoped>\n",
       "    .dataframe tbody tr th:only-of-type {\n",
       "        vertical-align: middle;\n",
       "    }\n",
       "\n",
       "    .dataframe tbody tr th {\n",
       "        vertical-align: top;\n",
       "    }\n",
       "\n",
       "    .dataframe thead th {\n",
       "        text-align: right;\n",
       "    }\n",
       "</style>\n",
       "<table border=\"1\" class=\"dataframe\">\n",
       "  <thead>\n",
       "    <tr style=\"text-align: right;\">\n",
       "      <th></th>\n",
       "      <th>name</th>\n",
       "      <th>objid</th>\n",
       "      <th>label</th>\n",
       "      <th>conformity</th>\n",
       "      <th>literacy</th>\n",
       "      <th>aggression</th>\n",
       "      <th>constitution</th>\n",
       "      <th>health</th>\n",
       "      <th>isInFaction</th>\n",
       "      <th>industry</th>\n",
       "      <th>wealth</th>\n",
       "      <th>factionLoyalty</th>\n",
       "      <th>isIdle</th>\n",
       "    </tr>\n",
       "  </thead>\n",
       "  <tbody>\n",
       "    <tr>\n",
       "      <th>0</th>\n",
       "      <td>unnamed</td>\n",
       "      <td>5737175283133</td>\n",
       "      <td>pop</td>\n",
       "      <td>0.198</td>\n",
       "      <td>0.501</td>\n",
       "      <td>0.686</td>\n",
       "      <td>0.621</td>\n",
       "      <td>0.5</td>\n",
       "      <td>None</td>\n",
       "      <td>0.6535</td>\n",
       "      <td>0.57725</td>\n",
       "      <td>0.177</td>\n",
       "      <td>true</td>\n",
       "    </tr>\n",
       "    <tr>\n",
       "      <th>1</th>\n",
       "      <td>unnamed</td>\n",
       "      <td>3792350943299</td>\n",
       "      <td>pop</td>\n",
       "      <td>0.538</td>\n",
       "      <td>0.448</td>\n",
       "      <td>0.528</td>\n",
       "      <td>0.525</td>\n",
       "      <td>0.5</td>\n",
       "      <td>None</td>\n",
       "      <td>0.5265</td>\n",
       "      <td>0.48725</td>\n",
       "      <td>0.547</td>\n",
       "      <td>true</td>\n",
       "    </tr>\n",
       "    <tr>\n",
       "      <th>2</th>\n",
       "      <td>unnamed</td>\n",
       "      <td>0445402194292</td>\n",
       "      <td>pop</td>\n",
       "      <td>0.601</td>\n",
       "      <td>0.465</td>\n",
       "      <td>0.451</td>\n",
       "      <td>0.376</td>\n",
       "      <td>0.5</td>\n",
       "      <td>None</td>\n",
       "      <td>0.4135</td>\n",
       "      <td>0.43925</td>\n",
       "      <td>0.749</td>\n",
       "      <td>true</td>\n",
       "    </tr>\n",
       "    <tr>\n",
       "      <th>3</th>\n",
       "      <td>unnamed</td>\n",
       "      <td>9911658268206</td>\n",
       "      <td>pop</td>\n",
       "      <td>0.534</td>\n",
       "      <td>0.420</td>\n",
       "      <td>0.583</td>\n",
       "      <td>0.537</td>\n",
       "      <td>0.5</td>\n",
       "      <td>None</td>\n",
       "      <td>0.5600</td>\n",
       "      <td>0.49000</td>\n",
       "      <td>0.411</td>\n",
       "      <td>true</td>\n",
       "    </tr>\n",
       "    <tr>\n",
       "      <th>4</th>\n",
       "      <td>unnamed</td>\n",
       "      <td>5232694087667</td>\n",
       "      <td>pop</td>\n",
       "      <td>0.584</td>\n",
       "      <td>0.524</td>\n",
       "      <td>0.273</td>\n",
       "      <td>0.371</td>\n",
       "      <td>0.5</td>\n",
       "      <td>None</td>\n",
       "      <td>0.3220</td>\n",
       "      <td>0.42300</td>\n",
       "      <td>0.537</td>\n",
       "      <td>true</td>\n",
       "    </tr>\n",
       "    <tr>\n",
       "      <th>5</th>\n",
       "      <td>unnamed</td>\n",
       "      <td>0835631676356</td>\n",
       "      <td>pop</td>\n",
       "      <td>0.553</td>\n",
       "      <td>0.418</td>\n",
       "      <td>0.396</td>\n",
       "      <td>0.758</td>\n",
       "      <td>0.5</td>\n",
       "      <td>None</td>\n",
       "      <td>0.5770</td>\n",
       "      <td>0.49750</td>\n",
       "      <td>0.590</td>\n",
       "      <td>true</td>\n",
       "    </tr>\n",
       "    <tr>\n",
       "      <th>6</th>\n",
       "      <td>unnamed</td>\n",
       "      <td>0493247425748</td>\n",
       "      <td>pop</td>\n",
       "      <td>0.847</td>\n",
       "      <td>0.567</td>\n",
       "      <td>0.470</td>\n",
       "      <td>0.476</td>\n",
       "      <td>0.5</td>\n",
       "      <td>None</td>\n",
       "      <td>0.4730</td>\n",
       "      <td>0.52000</td>\n",
       "      <td>0.835</td>\n",
       "      <td>true</td>\n",
       "    </tr>\n",
       "  </tbody>\n",
       "</table>\n",
       "</div>"
      ],
      "text/plain": [
       "      name          objid label  conformity  literacy  aggression  \\\n",
       "0  unnamed  5737175283133   pop       0.198     0.501       0.686   \n",
       "1  unnamed  3792350943299   pop       0.538     0.448       0.528   \n",
       "2  unnamed  0445402194292   pop       0.601     0.465       0.451   \n",
       "3  unnamed  9911658268206   pop       0.534     0.420       0.583   \n",
       "4  unnamed  5232694087667   pop       0.584     0.524       0.273   \n",
       "5  unnamed  0835631676356   pop       0.553     0.418       0.396   \n",
       "6  unnamed  0493247425748   pop       0.847     0.567       0.470   \n",
       "\n",
       "   constitution  health isInFaction  industry   wealth  factionLoyalty isIdle  \n",
       "0         0.621     0.5        None    0.6535  0.57725           0.177   true  \n",
       "1         0.525     0.5        None    0.5265  0.48725           0.547   true  \n",
       "2         0.376     0.5        None    0.4135  0.43925           0.749   true  \n",
       "3         0.537     0.5        None    0.5600  0.49000           0.411   true  \n",
       "4         0.371     0.5        None    0.3220  0.42300           0.537   true  \n",
       "5         0.758     0.5        None    0.5770  0.49750           0.590   true  \n",
       "6         0.476     0.5        None    0.4730  0.52000           0.835   true  "
      ]
     },
     "execution_count": 12,
     "metadata": {},
     "output_type": "execute_result"
    }
   ],
   "source": [
    "pops_df = pd.DataFrame([p.get_data() for p in pops])\n",
    "pops_df"
   ]
  },
  {
   "attachments": {},
   "cell_type": "markdown",
   "metadata": {},
   "source": [
    "populations are unnamed because I use the faction name in the name. So they are given a name after the faction is created. "
   ]
  },
  {
   "cell_type": "code",
   "execution_count": 13,
   "metadata": {},
   "outputs": [],
   "source": [
    "n_factions = homeworld.get_n_factions(homeworld.n_steps, float(data[\"conformity\"]))\n",
    "kmeans = KMeans(n_clusters=n_factions).fit(\n",
    "    pops_df[[c for c in pops_df.columns if c in homeworld.starting_attributes]]\n",
    ")"
   ]
  },
  {
   "cell_type": "code",
   "execution_count": 15,
   "metadata": {},
   "outputs": [
    {
     "data": {
      "text/plain": [
       "[<faction: no type; 8068514917477; Garguiredyrydong>,\n",
       " <faction: no type; 0673942153782; No>]"
      ]
     },
     "execution_count": 15,
     "metadata": {},
     "output_type": "execute_result"
    }
   ],
   "source": [
    "factions = [population.Faction(i) for i in range(kmeans.n_clusters)]\n",
    "factions"
   ]
  },
  {
   "cell_type": "code",
   "execution_count": 16,
   "metadata": {},
   "outputs": [],
   "source": [
    "# Assign the pop to that faction number, not yet matched to an ID.\n",
    "for i, n in enumerate(kmeans.labels_):\n",
    "    pops[i].set_faction(n)"
   ]
  },
  {
   "cell_type": "code",
   "execution_count": 17,
   "metadata": {},
   "outputs": [
    {
     "data": {
      "text/plain": [
       "{'name': 'Garguiredyrydong Mel',\n",
       " 'objid': '3792350943299',\n",
       " 'label': 'pop',\n",
       " 'conformity': 0.538,\n",
       " 'literacy': 0.448,\n",
       " 'aggression': 0.528,\n",
       " 'constitution': 0.525,\n",
       " 'health': 0.5,\n",
       " 'isInFaction': '8068514917477',\n",
       " 'industry': 0.5265,\n",
       " 'wealth': 0.48724999999999996,\n",
       " 'factionLoyalty': 0.547,\n",
       " 'isIdle': 'true'}"
      ]
     },
     "execution_count": 17,
     "metadata": {},
     "output_type": "execute_result"
    }
   ],
   "source": [
    "# Set the name of the population to comply with the faction it is in.\n",
    "for p in pops:\n",
    "    faction = [i for i in factions if i.faction_no == p.factionNo][0]\n",
    "    if p.name == \"\":\n",
    "        p.name = p.make_name(2, 2)\n",
    "    p.set_pop_name(faction)\n",
    "    faction.assign_pop_to_faction(p)\n",
    "\n",
    "[p.get_data() for p in pops][1]"
   ]
  },
  {
   "cell_type": "code",
   "execution_count": 18,
   "metadata": {},
   "outputs": [
    {
     "data": {
      "text/html": [
       "<div>\n",
       "<style scoped>\n",
       "    .dataframe tbody tr th:only-of-type {\n",
       "        vertical-align: middle;\n",
       "    }\n",
       "\n",
       "    .dataframe tbody tr th {\n",
       "        vertical-align: top;\n",
       "    }\n",
       "\n",
       "    .dataframe thead th {\n",
       "        text-align: right;\n",
       "    }\n",
       "</style>\n",
       "<table border=\"1\" class=\"dataframe\">\n",
       "  <thead>\n",
       "    <tr style=\"text-align: right;\">\n",
       "      <th></th>\n",
       "      <th>conformity</th>\n",
       "      <th>literacy</th>\n",
       "      <th>aggression</th>\n",
       "      <th>constitution</th>\n",
       "    </tr>\n",
       "  </thead>\n",
       "  <tbody>\n",
       "    <tr>\n",
       "      <th>0</th>\n",
       "      <td>0.6095</td>\n",
       "      <td>0.473667</td>\n",
       "      <td>0.450167</td>\n",
       "      <td>0.507167</td>\n",
       "    </tr>\n",
       "    <tr>\n",
       "      <th>1</th>\n",
       "      <td>0.1980</td>\n",
       "      <td>0.501000</td>\n",
       "      <td>0.686000</td>\n",
       "      <td>0.621000</td>\n",
       "    </tr>\n",
       "  </tbody>\n",
       "</table>\n",
       "</div>"
      ],
      "text/plain": [
       "   conformity  literacy  aggression  constitution\n",
       "0      0.6095  0.473667    0.450167      0.507167\n",
       "1      0.1980  0.501000    0.686000      0.621000"
      ]
     },
     "execution_count": 18,
     "metadata": {},
     "output_type": "execute_result"
    }
   ],
   "source": [
    "pd.DataFrame(kmeans.cluster_centers_, columns=homeworld.starting_attributes)"
   ]
  },
  {
   "cell_type": "code",
   "execution_count": 19,
   "metadata": {},
   "outputs": [],
   "source": [
    "pca = PCA(n_components=2)\n",
    "X_r = pca.fit(kmeans.cluster_centers_).transform(kmeans.cluster_centers_)"
   ]
  },
  {
   "attachments": {},
   "cell_type": "markdown",
   "metadata": {},
   "source": [
    "Per the docs at sklearn:\n",
    "\n",
    "`explained_variance_ratio_`: Percentage of variance explained by each of the selected components."
   ]
  },
  {
   "cell_type": "code",
   "execution_count": 20,
   "metadata": {},
   "outputs": [
    {
     "data": {
      "text/plain": [
       "array([1.00000000e+00, 8.05621492e-32])"
      ]
     },
     "execution_count": 20,
     "metadata": {},
     "output_type": "execute_result"
    }
   ],
   "source": [
    "pca.explained_variance_ratio_"
   ]
  },
  {
   "cell_type": "code",
   "execution_count": 21,
   "metadata": {},
   "outputs": [
    {
     "data": {
      "text/plain": [
       "array([[-2.44261515e-01,  5.55111512e-17],\n",
       "       [ 2.44261515e-01,  6.93889390e-17]])"
      ]
     },
     "execution_count": 21,
     "metadata": {},
     "output_type": "execute_result"
    }
   ],
   "source": [
    "X_r"
   ]
  },
  {
   "cell_type": "code",
   "execution_count": 22,
   "metadata": {},
   "outputs": [
    {
     "data": {
      "text/html": [
       "\n",
       "<div id=\"altair-viz-6fe90b34b6484d53afb46e8458f8090a\"></div>\n",
       "<script type=\"text/javascript\">\n",
       "  (function(spec, embedOpt){\n",
       "    let outputDiv = document.currentScript.previousElementSibling;\n",
       "    if (outputDiv.id !== \"altair-viz-6fe90b34b6484d53afb46e8458f8090a\") {\n",
       "      outputDiv = document.getElementById(\"altair-viz-6fe90b34b6484d53afb46e8458f8090a\");\n",
       "    }\n",
       "    const paths = {\n",
       "      \"vega\": \"https://cdn.jsdelivr.net/npm//vega@5?noext\",\n",
       "      \"vega-lib\": \"https://cdn.jsdelivr.net/npm//vega-lib?noext\",\n",
       "      \"vega-lite\": \"https://cdn.jsdelivr.net/npm//vega-lite@4.8.1?noext\",\n",
       "      \"vega-embed\": \"https://cdn.jsdelivr.net/npm//vega-embed@6?noext\",\n",
       "    };\n",
       "\n",
       "    function loadScript(lib) {\n",
       "      return new Promise(function(resolve, reject) {\n",
       "        var s = document.createElement('script');\n",
       "        s.src = paths[lib];\n",
       "        s.async = true;\n",
       "        s.onload = () => resolve(paths[lib]);\n",
       "        s.onerror = () => reject(`Error loading script: ${paths[lib]}`);\n",
       "        document.getElementsByTagName(\"head\")[0].appendChild(s);\n",
       "      });\n",
       "    }\n",
       "\n",
       "    function showError(err) {\n",
       "      outputDiv.innerHTML = `<div class=\"error\" style=\"color:red;\">${err}</div>`;\n",
       "      throw err;\n",
       "    }\n",
       "\n",
       "    function displayChart(vegaEmbed) {\n",
       "      vegaEmbed(outputDiv, spec, embedOpt)\n",
       "        .catch(err => showError(`Javascript Error: ${err.message}<br>This usually means there's a typo in your chart specification. See the javascript console for the full traceback.`));\n",
       "    }\n",
       "\n",
       "    if(typeof define === \"function\" && define.amd) {\n",
       "      requirejs.config({paths});\n",
       "      require([\"vega-embed\"], displayChart, err => showError(`Error loading script: ${err.message}`));\n",
       "    } else if (typeof vegaEmbed === \"function\") {\n",
       "      displayChart(vegaEmbed);\n",
       "    } else {\n",
       "      loadScript(\"vega\")\n",
       "        .then(() => loadScript(\"vega-lite\"))\n",
       "        .then(() => loadScript(\"vega-embed\"))\n",
       "        .catch(showError)\n",
       "        .then(() => displayChart(vegaEmbed));\n",
       "    }\n",
       "  })({\"config\": {\"view\": {\"continuousWidth\": 400, \"continuousHeight\": 300}}, \"data\": {\"name\": \"data-2bdd511d6ac1cc94740be9c5007c6025\"}, \"mark\": {\"type\": \"circle\", \"size\": 60}, \"encoding\": {\"x\": {\"type\": \"quantitative\", \"field\": \"lat\"}, \"y\": {\"type\": \"quantitative\", \"field\": \"long\"}}, \"$schema\": \"https://vega.github.io/schema/vega-lite/v4.8.1.json\", \"datasets\": {\"data-2bdd511d6ac1cc94740be9c5007c6025\": [{\"long\": -0.24426151456993797, \"lat\": 5.551115123125783e-17}, {\"long\": 0.244261514569938, \"lat\": 6.938893903907228e-17}]}}, {\"mode\": \"vega-lite\"});\n",
       "</script>"
      ],
      "text/plain": [
       "alt.Chart(...)"
      ]
     },
     "execution_count": 22,
     "metadata": {},
     "output_type": "execute_result"
    }
   ],
   "source": [
    "source = pd.DataFrame(X_r, columns=[\"long\", \"lat\"])\n",
    "\n",
    "alt.Chart(source).mark_circle(size=60).encode(\n",
    "    x=\"lat\", y=\"long\",\n",
    ")"
   ]
  },
  {
   "cell_type": "code",
   "execution_count": null,
   "metadata": {},
   "outputs": [],
   "source": []
  }
 ],
 "metadata": {
  "kernelspec": {
   "display_name": "exoplanets",
   "language": "python",
   "name": "python3"
  },
  "language_info": {
   "codemirror_mode": {
    "name": "ipython",
    "version": 3
   },
   "file_extension": ".py",
   "mimetype": "text/x-python",
   "name": "python",
   "nbconvert_exporter": "python",
   "pygments_lexer": "ipython3",
   "version": "3.7.0"
  },
  "orig_nbformat": 4,
  "vscode": {
   "interpreter": {
    "hash": "625a17269cb94aebb094cbcf5e0e8340f26b69d46569da60e8fc69439048adbf"
   }
  }
 },
 "nbformat": 4,
 "nbformat_minor": 2
}
