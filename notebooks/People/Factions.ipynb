{
 "cells": [
  {
   "attachments": {},
   "cell_type": "markdown",
   "metadata": {},
   "source": [
    "# Building Populations and Factions"
   ]
  },
  {
   "cell_type": "code",
   "execution_count": 40,
   "metadata": {},
   "outputs": [
    {
     "name": "stdout",
     "output_type": "stream",
     "text": [
      "The lab_black extension is already loaded. To reload it, use:\n",
      "  %reload_ext lab_black\n"
     ]
    }
   ],
   "source": [
    "import numpy as np\n",
    "import pandas as pd\n",
    "\n",
    "from sklearn.cluster import KMeans\n",
    "from sklearn.decomposition import PCA\n",
    "\n",
    "import sys, os\n",
    "import altair as alt\n",
    "\n",
    "# mapping to the modules that make the app\n",
    "sys.path.insert(0, \"../../app\")\n",
    "\n",
    "\n",
    "%load_ext lab_black"
   ]
  },
  {
   "cell_type": "code",
   "execution_count": 2,
   "metadata": {},
   "outputs": [
    {
     "data": {
      "text/plain": [
       "creators.homeworld.Faction"
      ]
     },
     "execution_count": 2,
     "metadata": {},
     "output_type": "execute_result"
    }
   ],
   "source": [
    "import creators.homeworld as homeworld\n",
    "\n",
    "homeworld.Faction"
   ]
  },
  {
   "attachments": {},
   "cell_type": "markdown",
   "metadata": {},
   "source": [
    "Example data from the input form:"
   ]
  },
  {
   "cell_type": "code",
   "execution_count": 3,
   "metadata": {},
   "outputs": [],
   "source": [
    "data = {\n",
    "    \"planet_name\": \"Earth\",\n",
    "    \"num_planets\": \"6\",\n",
    "    \"num_moons\": \"24\",\n",
    "    \"home_has_moons\": \"on\",\n",
    "    \"starting_pop\": \"7\",\n",
    "    \"conformity\": \"0.3\",\n",
    "    \"literacy\": \"0.7\",\n",
    "    \"aggression\": \"0.5\",\n",
    "    \"constitution\": \"0.5\",\n",
    "    \"name\": \"form\",\n",
    "    \"objid\": \"4864559553238\",\n",
    "    \"username\": \"Billmanh\",\n",
    "    \"objtype\": \"form\",\n",
    "    \"id\": \"4864559553238\",\n",
    "}"
   ]
  },
  {
   "cell_type": "code",
   "execution_count": 4,
   "metadata": {},
   "outputs": [
    {
     "data": {
      "text/plain": [
       "{'name': 'Roudai',\n",
       " 'objid': '1859555884197',\n",
       " 'label': 'species',\n",
       " 'consumes': 'organic',\n",
       " 'effuses': 'organic waste',\n",
       " 'viral_resilience': 0.7,\n",
       " 'habitat_resilience': 0.2}"
      ]
     },
     "execution_count": 4,
     "metadata": {},
     "output_type": "execute_result"
    }
   ],
   "source": [
    "species = homeworld.Species()\n",
    "species.build_attr(data)\n",
    "species.get_data()"
   ]
  },
  {
   "cell_type": "code",
   "execution_count": 5,
   "metadata": {},
   "outputs": [
    {
     "data": {
      "text/plain": [
       "[<pop: pop; 7750803014250; unnamed>,\n",
       " <pop: pop; 5702609366813; unnamed>,\n",
       " <pop: pop; 3149795765312; unnamed>,\n",
       " <pop: pop; 1222543194179; unnamed>,\n",
       " <pop: pop; 6103740850185; unnamed>,\n",
       " <pop: pop; 8641355839452; unnamed>,\n",
       " <pop: pop; 2672601626527; unnamed>]"
      ]
     },
     "execution_count": 5,
     "metadata": {},
     "output_type": "execute_result"
    }
   ],
   "source": [
    "pops = [homeworld.Pop(species) for i in range(int(data[\"starting_pop\"]))]\n",
    "pops"
   ]
  },
  {
   "cell_type": "code",
   "execution_count": 6,
   "metadata": {},
   "outputs": [
    {
     "data": {
      "text/html": [
       "<div>\n",
       "<style scoped>\n",
       "    .dataframe tbody tr th:only-of-type {\n",
       "        vertical-align: middle;\n",
       "    }\n",
       "\n",
       "    .dataframe tbody tr th {\n",
       "        vertical-align: top;\n",
       "    }\n",
       "\n",
       "    .dataframe thead th {\n",
       "        text-align: right;\n",
       "    }\n",
       "</style>\n",
       "<table border=\"1\" class=\"dataframe\">\n",
       "  <thead>\n",
       "    <tr style=\"text-align: right;\">\n",
       "      <th></th>\n",
       "      <th>name</th>\n",
       "      <th>objid</th>\n",
       "      <th>label</th>\n",
       "      <th>conformity</th>\n",
       "      <th>literacy</th>\n",
       "      <th>aggression</th>\n",
       "      <th>constitution</th>\n",
       "      <th>health</th>\n",
       "      <th>isInFaction</th>\n",
       "      <th>industry</th>\n",
       "      <th>wealth</th>\n",
       "      <th>factionLoyalty</th>\n",
       "      <th>isIdle</th>\n",
       "    </tr>\n",
       "  </thead>\n",
       "  <tbody>\n",
       "    <tr>\n",
       "      <th>0</th>\n",
       "      <td>unnamed</td>\n",
       "      <td>7750803014250</td>\n",
       "      <td>pop</td>\n",
       "      <td>0.401</td>\n",
       "      <td>0.702</td>\n",
       "      <td>0.952</td>\n",
       "      <td>0.844</td>\n",
       "      <td>0.5</td>\n",
       "      <td>None</td>\n",
       "      <td>0.8980</td>\n",
       "      <td>0.80000</td>\n",
       "      <td>0.539</td>\n",
       "      <td>True</td>\n",
       "    </tr>\n",
       "    <tr>\n",
       "      <th>1</th>\n",
       "      <td>unnamed</td>\n",
       "      <td>5702609366813</td>\n",
       "      <td>pop</td>\n",
       "      <td>0.283</td>\n",
       "      <td>0.880</td>\n",
       "      <td>0.491</td>\n",
       "      <td>0.462</td>\n",
       "      <td>0.5</td>\n",
       "      <td>None</td>\n",
       "      <td>0.4765</td>\n",
       "      <td>0.67825</td>\n",
       "      <td>0.279</td>\n",
       "      <td>True</td>\n",
       "    </tr>\n",
       "    <tr>\n",
       "      <th>2</th>\n",
       "      <td>unnamed</td>\n",
       "      <td>3149795765312</td>\n",
       "      <td>pop</td>\n",
       "      <td>0.200</td>\n",
       "      <td>0.505</td>\n",
       "      <td>0.543</td>\n",
       "      <td>0.206</td>\n",
       "      <td>0.5</td>\n",
       "      <td>None</td>\n",
       "      <td>0.3745</td>\n",
       "      <td>0.43975</td>\n",
       "      <td>0.123</td>\n",
       "      <td>True</td>\n",
       "    </tr>\n",
       "    <tr>\n",
       "      <th>3</th>\n",
       "      <td>unnamed</td>\n",
       "      <td>1222543194179</td>\n",
       "      <td>pop</td>\n",
       "      <td>0.203</td>\n",
       "      <td>0.892</td>\n",
       "      <td>0.594</td>\n",
       "      <td>0.383</td>\n",
       "      <td>0.5</td>\n",
       "      <td>None</td>\n",
       "      <td>0.4885</td>\n",
       "      <td>0.69025</td>\n",
       "      <td>0.177</td>\n",
       "      <td>True</td>\n",
       "    </tr>\n",
       "    <tr>\n",
       "      <th>4</th>\n",
       "      <td>unnamed</td>\n",
       "      <td>6103740850185</td>\n",
       "      <td>pop</td>\n",
       "      <td>0.296</td>\n",
       "      <td>0.772</td>\n",
       "      <td>0.308</td>\n",
       "      <td>0.432</td>\n",
       "      <td>0.5</td>\n",
       "      <td>None</td>\n",
       "      <td>0.3700</td>\n",
       "      <td>0.57100</td>\n",
       "      <td>0.334</td>\n",
       "      <td>True</td>\n",
       "    </tr>\n",
       "    <tr>\n",
       "      <th>5</th>\n",
       "      <td>unnamed</td>\n",
       "      <td>8641355839452</td>\n",
       "      <td>pop</td>\n",
       "      <td>0.566</td>\n",
       "      <td>0.888</td>\n",
       "      <td>0.323</td>\n",
       "      <td>0.142</td>\n",
       "      <td>0.5</td>\n",
       "      <td>None</td>\n",
       "      <td>0.2325</td>\n",
       "      <td>0.56025</td>\n",
       "      <td>0.598</td>\n",
       "      <td>True</td>\n",
       "    </tr>\n",
       "    <tr>\n",
       "      <th>6</th>\n",
       "      <td>unnamed</td>\n",
       "      <td>2672601626527</td>\n",
       "      <td>pop</td>\n",
       "      <td>0.562</td>\n",
       "      <td>0.524</td>\n",
       "      <td>0.184</td>\n",
       "      <td>0.493</td>\n",
       "      <td>0.5</td>\n",
       "      <td>None</td>\n",
       "      <td>0.3385</td>\n",
       "      <td>0.43125</td>\n",
       "      <td>0.522</td>\n",
       "      <td>True</td>\n",
       "    </tr>\n",
       "  </tbody>\n",
       "</table>\n",
       "</div>"
      ],
      "text/plain": [
       "      name          objid label  conformity  literacy  aggression  \\\n",
       "0  unnamed  7750803014250   pop       0.401     0.702       0.952   \n",
       "1  unnamed  5702609366813   pop       0.283     0.880       0.491   \n",
       "2  unnamed  3149795765312   pop       0.200     0.505       0.543   \n",
       "3  unnamed  1222543194179   pop       0.203     0.892       0.594   \n",
       "4  unnamed  6103740850185   pop       0.296     0.772       0.308   \n",
       "5  unnamed  8641355839452   pop       0.566     0.888       0.323   \n",
       "6  unnamed  2672601626527   pop       0.562     0.524       0.184   \n",
       "\n",
       "   constitution  health isInFaction  industry   wealth  factionLoyalty isIdle  \n",
       "0         0.844     0.5        None    0.8980  0.80000           0.539   True  \n",
       "1         0.462     0.5        None    0.4765  0.67825           0.279   True  \n",
       "2         0.206     0.5        None    0.3745  0.43975           0.123   True  \n",
       "3         0.383     0.5        None    0.4885  0.69025           0.177   True  \n",
       "4         0.432     0.5        None    0.3700  0.57100           0.334   True  \n",
       "5         0.142     0.5        None    0.2325  0.56025           0.598   True  \n",
       "6         0.493     0.5        None    0.3385  0.43125           0.522   True  "
      ]
     },
     "execution_count": 6,
     "metadata": {},
     "output_type": "execute_result"
    }
   ],
   "source": [
    "pops_df = pd.DataFrame([p.get_data() for p in pops])\n",
    "pops_df"
   ]
  },
  {
   "attachments": {},
   "cell_type": "markdown",
   "metadata": {},
   "source": [
    "populations are unnamed because I use the faction name in the name. So they are given a name after the faction. "
   ]
  },
  {
   "cell_type": "code",
   "execution_count": 7,
   "metadata": {},
   "outputs": [],
   "source": [
    "n_factions = homeworld.get_n_factions(homeworld.n_steps, float(data[\"conformity\"]))\n",
    "kmeans = KMeans(n_clusters=n_factions).fit(\n",
    "    pops_df[[c for c in pops_df.columns if c in homeworld.starting_attributes]]\n",
    ")"
   ]
  },
  {
   "cell_type": "code",
   "execution_count": 8,
   "metadata": {},
   "outputs": [
    {
     "data": {
      "text/plain": [
       "[<faction: no type; 0058026195137; Bilgenfranhor>,\n",
       " <faction: no type; 0018958629315; Dudro>,\n",
       " <faction: no type; 5810243650957; Gi>]"
      ]
     },
     "execution_count": 8,
     "metadata": {},
     "output_type": "execute_result"
    }
   ],
   "source": [
    "factions = [homeworld.Faction(i) for i in range(kmeans.n_clusters)]\n",
    "factions"
   ]
  },
  {
   "cell_type": "code",
   "execution_count": 9,
   "metadata": {},
   "outputs": [],
   "source": [
    "# Assign the pop to that faction number, not yet matched to an ID.\n",
    "for i, n in enumerate(kmeans.labels_):\n",
    "    pops[i].set_faction(n)"
   ]
  },
  {
   "cell_type": "code",
   "execution_count": 12,
   "metadata": {},
   "outputs": [
    {
     "data": {
      "text/plain": [
       "{'name': 'Gi Dad',\n",
       " 'objid': '5702609366813',\n",
       " 'label': 'pop',\n",
       " 'conformity': 0.283,\n",
       " 'literacy': 0.88,\n",
       " 'aggression': 0.491,\n",
       " 'constitution': 0.462,\n",
       " 'health': 0.5,\n",
       " 'isInFaction': '5810243650957',\n",
       " 'industry': 0.47650000000000003,\n",
       " 'wealth': 0.67825,\n",
       " 'factionLoyalty': 0.279,\n",
       " 'isIdle': 'True'}"
      ]
     },
     "execution_count": 12,
     "metadata": {},
     "output_type": "execute_result"
    }
   ],
   "source": [
    "# Set the name of the population to comply with the faction it is in.\n",
    "for p in pops:\n",
    "    faction = [i for i in factions if i.faction_no == p.factionNo][0]\n",
    "    if p.name == \"\":\n",
    "        p.name = p.make_name(2, 2)\n",
    "    p.set_pop_name(faction)\n",
    "    faction.assign_pop_to_faction(p)\n",
    "\n",
    "[p.get_data() for p in pops][1]"
   ]
  },
  {
   "cell_type": "code",
   "execution_count": 35,
   "metadata": {},
   "outputs": [
    {
     "data": {
      "text/html": [
       "<div>\n",
       "<style scoped>\n",
       "    .dataframe tbody tr th:only-of-type {\n",
       "        vertical-align: middle;\n",
       "    }\n",
       "\n",
       "    .dataframe tbody tr th {\n",
       "        vertical-align: top;\n",
       "    }\n",
       "\n",
       "    .dataframe thead th {\n",
       "        text-align: right;\n",
       "    }\n",
       "</style>\n",
       "<table border=\"1\" class=\"dataframe\">\n",
       "  <thead>\n",
       "    <tr style=\"text-align: right;\">\n",
       "      <th></th>\n",
       "      <th>conformity</th>\n",
       "      <th>literacy</th>\n",
       "      <th>aggression</th>\n",
       "      <th>constitution</th>\n",
       "    </tr>\n",
       "  </thead>\n",
       "  <tbody>\n",
       "    <tr>\n",
       "      <th>0</th>\n",
       "      <td>0.5640</td>\n",
       "      <td>0.70600</td>\n",
       "      <td>0.2535</td>\n",
       "      <td>0.31750</td>\n",
       "    </tr>\n",
       "    <tr>\n",
       "      <th>1</th>\n",
       "      <td>0.4010</td>\n",
       "      <td>0.70200</td>\n",
       "      <td>0.9520</td>\n",
       "      <td>0.84400</td>\n",
       "    </tr>\n",
       "    <tr>\n",
       "      <th>2</th>\n",
       "      <td>0.2455</td>\n",
       "      <td>0.76225</td>\n",
       "      <td>0.4840</td>\n",
       "      <td>0.37075</td>\n",
       "    </tr>\n",
       "  </tbody>\n",
       "</table>\n",
       "</div>"
      ],
      "text/plain": [
       "   conformity  literacy  aggression  constitution\n",
       "0      0.5640   0.70600      0.2535       0.31750\n",
       "1      0.4010   0.70200      0.9520       0.84400\n",
       "2      0.2455   0.76225      0.4840       0.37075"
      ]
     },
     "execution_count": 35,
     "metadata": {},
     "output_type": "execute_result"
    }
   ],
   "source": [
    "pd.DataFrame(kmeans.cluster_centers_, columns=homeworld.starting_attributes)"
   ]
  },
  {
   "cell_type": "code",
   "execution_count": 37,
   "metadata": {},
   "outputs": [],
   "source": [
    "pca = PCA(n_components=2)\n",
    "X_r = pca.fit(kmeans.cluster_centers_).transform(kmeans.cluster_centers_)"
   ]
  },
  {
   "attachments": {},
   "cell_type": "markdown",
   "metadata": {},
   "source": [
    "Per the docs at sklearn:\n",
    "\n",
    "`explained_variance_ratio_`: Percentage of variance explained by each of the selected components."
   ]
  },
  {
   "cell_type": "code",
   "execution_count": 38,
   "metadata": {},
   "outputs": [
    {
     "data": {
      "text/plain": [
       "array([0.88409421, 0.11590579])"
      ]
     },
     "execution_count": 38,
     "metadata": {},
     "output_type": "execute_result"
    }
   ],
   "source": [
    "pca.explained_variance_ratio_"
   ]
  },
  {
   "cell_type": "code",
   "execution_count": 39,
   "metadata": {},
   "outputs": [
    {
     "data": {
      "text/plain": [
       "array([[-0.37570541, -0.13471467],\n",
       "       [ 0.51006509, -0.05045245],\n",
       "       [-0.13435968,  0.18516713]])"
      ]
     },
     "execution_count": 39,
     "metadata": {},
     "output_type": "execute_result"
    }
   ],
   "source": [
    "X_r"
   ]
  },
  {
   "cell_type": "code",
   "execution_count": 45,
   "metadata": {},
   "outputs": [
    {
     "data": {
      "text/html": [
       "\n",
       "<div id=\"altair-viz-bab74a4226d649729c6cf2877af9cdde\"></div>\n",
       "<script type=\"text/javascript\">\n",
       "  (function(spec, embedOpt){\n",
       "    let outputDiv = document.currentScript.previousElementSibling;\n",
       "    if (outputDiv.id !== \"altair-viz-bab74a4226d649729c6cf2877af9cdde\") {\n",
       "      outputDiv = document.getElementById(\"altair-viz-bab74a4226d649729c6cf2877af9cdde\");\n",
       "    }\n",
       "    const paths = {\n",
       "      \"vega\": \"https://cdn.jsdelivr.net/npm//vega@5?noext\",\n",
       "      \"vega-lib\": \"https://cdn.jsdelivr.net/npm//vega-lib?noext\",\n",
       "      \"vega-lite\": \"https://cdn.jsdelivr.net/npm//vega-lite@4.8.1?noext\",\n",
       "      \"vega-embed\": \"https://cdn.jsdelivr.net/npm//vega-embed@6?noext\",\n",
       "    };\n",
       "\n",
       "    function loadScript(lib) {\n",
       "      return new Promise(function(resolve, reject) {\n",
       "        var s = document.createElement('script');\n",
       "        s.src = paths[lib];\n",
       "        s.async = true;\n",
       "        s.onload = () => resolve(paths[lib]);\n",
       "        s.onerror = () => reject(`Error loading script: ${paths[lib]}`);\n",
       "        document.getElementsByTagName(\"head\")[0].appendChild(s);\n",
       "      });\n",
       "    }\n",
       "\n",
       "    function showError(err) {\n",
       "      outputDiv.innerHTML = `<div class=\"error\" style=\"color:red;\">${err}</div>`;\n",
       "      throw err;\n",
       "    }\n",
       "\n",
       "    function displayChart(vegaEmbed) {\n",
       "      vegaEmbed(outputDiv, spec, embedOpt)\n",
       "        .catch(err => showError(`Javascript Error: ${err.message}<br>This usually means there's a typo in your chart specification. See the javascript console for the full traceback.`));\n",
       "    }\n",
       "\n",
       "    if(typeof define === \"function\" && define.amd) {\n",
       "      requirejs.config({paths});\n",
       "      require([\"vega-embed\"], displayChart, err => showError(`Error loading script: ${err.message}`));\n",
       "    } else if (typeof vegaEmbed === \"function\") {\n",
       "      displayChart(vegaEmbed);\n",
       "    } else {\n",
       "      loadScript(\"vega\")\n",
       "        .then(() => loadScript(\"vega-lite\"))\n",
       "        .then(() => loadScript(\"vega-embed\"))\n",
       "        .catch(showError)\n",
       "        .then(() => displayChart(vegaEmbed));\n",
       "    }\n",
       "  })({\"config\": {\"view\": {\"continuousWidth\": 400, \"continuousHeight\": 300}}, \"data\": {\"name\": \"data-d46c253c7668a114c0c8ce5ad9fe8c1c\"}, \"mark\": {\"type\": \"circle\", \"size\": 60}, \"encoding\": {\"x\": {\"type\": \"quantitative\", \"field\": \"lat\"}, \"y\": {\"type\": \"quantitative\", \"field\": \"long\"}}, \"$schema\": \"https://vega.github.io/schema/vega-lite/v4.8.1.json\", \"datasets\": {\"data-d46c253c7668a114c0c8ce5ad9fe8c1c\": [{\"long\": -0.3757054086173487, \"lat\": -0.13471467313508678}, {\"long\": 0.5100650911492944, \"lat\": -0.050452452993725916}, {\"long\": -0.13435968253194575, \"lat\": 0.18516712612881264}]}}, {\"mode\": \"vega-lite\"});\n",
       "</script>"
      ],
      "text/plain": [
       "alt.Chart(...)"
      ]
     },
     "execution_count": 45,
     "metadata": {},
     "output_type": "execute_result"
    }
   ],
   "source": [
    "source = pd.DataFrame(X_r, columns=[\"long\", \"lat\"])\n",
    "\n",
    "alt.Chart(source).mark_circle(size=60).encode(\n",
    "    x=\"lat\", y=\"long\",\n",
    ")"
   ]
  },
  {
   "cell_type": "code",
   "execution_count": null,
   "metadata": {},
   "outputs": [],
   "source": []
  }
 ],
 "metadata": {
  "kernelspec": {
   "display_name": "exoplanets",
   "language": "python",
   "name": "python3"
  },
  "language_info": {
   "codemirror_mode": {
    "name": "ipython",
    "version": 3
   },
   "file_extension": ".py",
   "mimetype": "text/x-python",
   "name": "python",
   "nbconvert_exporter": "python",
   "pygments_lexer": "ipython3",
   "version": "3.7.0"
  },
  "orig_nbformat": 4,
  "vscode": {
   "interpreter": {
    "hash": "625a17269cb94aebb094cbcf5e0e8340f26b69d46569da60e8fc69439048adbf"
   }
  }
 },
 "nbformat": 4,
 "nbformat_minor": 2
}
