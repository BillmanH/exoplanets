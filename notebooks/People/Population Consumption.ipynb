{
 "cells": [
  {
   "attachments": {},
   "cell_type": "markdown",
   "metadata": {},
   "source": [
    "# Managing population consumption"
   ]
  },
  {
   "cell_type": "code",
   "execution_count": 1,
   "metadata": {},
   "outputs": [],
   "source": [
    "import sys\n",
    "import numpy as np\n",
    "import pandas as pd\n",
    "import altair as alt\n",
    "\n",
    "# mapping to the modules that make the app\n",
    "sys.path.insert(0, \"../..\")\n",
    "sys.path.insert(0, \"../../app\")\n",
    "\n",
    "import yaml, ssl, asyncio, pickle, os, ast\n",
    "\n",
    "ssl._create_default_https_context = ssl._create_unverified_context\n",
    "asyncio.set_event_loop_policy(asyncio.WindowsSelectorEventLoopPolicy())\n",
    "\n",
    "import nest_asyncio\n",
    "# this is required for running in a Jupyter Notebook. \n",
    "nest_asyncio.apply()"
   ]
  },
  {
   "cell_type": "markdown",
   "metadata": {},
   "source": [
    "Much of the Population growth is handled in scripts inside the Azure Function"
   ]
  },
  {
   "cell_type": "code",
   "execution_count": 3,
   "metadata": {},
   "outputs": [],
   "source": [
    "# mapping to the modules that make the app\n",
    "\n",
    "from app.connectors import cmdb_graph\n",
    "from app.objects import time\n",
    "\n",
    "c = cmdb_graph.CosmosdbClient()\n",
    "\n"
   ]
  },
  {
   "cell_type": "code",
   "execution_count": 4,
   "metadata": {},
   "outputs": [],
   "source": [
    "params = yaml.safe_load(open(os.path.join(os.getenv(\"abspath\"),\"app/configurations/popgrowthconfig.yaml\")))\n",
    "syllables = pickle.load(open(os.path.join(os.getenv(\"abspath\"),\"app/creators/specs/syllables.p\"), \"rb\"))\n",
    "username = 'notebook'"
   ]
  },
  {
   "attachments": {},
   "cell_type": "markdown",
   "metadata": {},
   "source": [
    "Time is updated by the `time` function. It is always running."
   ]
  },
  {
   "cell_type": "code",
   "execution_count": 5,
   "metadata": {},
   "outputs": [
    {
     "data": {
      "text/plain": [
       "< time at: 2024-05-23T16:08:51.626889+00:00 UTU:15989 >"
      ]
     },
     "execution_count": 5,
     "metadata": {},
     "output_type": "execute_result"
    }
   ],
   "source": [
    "t = time.Time(c)\n",
    "t.get_current_UTU()\n",
    "params['currentTime'] = t.params['currentTime']\n",
    "t"
   ]
  },
  {
   "cell_type": "code",
   "execution_count": 6,
   "metadata": {},
   "outputs": [
    {
     "data": {
      "text/plain": [
       "{'pop_health_requirement': 0.7,\n",
       " 'pop_consumes': 2,\n",
       " 'starve_damage': 0.05,\n",
       " 'changing_values': ['conformity',\n",
       "  'literacy',\n",
       "  'aggression',\n",
       "  'constitution',\n",
       "  'wealth',\n",
       "  'factionLoyalty'],\n",
       " 'currentTime': 15989}"
      ]
     },
     "execution_count": 6,
     "metadata": {},
     "output_type": "execute_result"
    }
   ],
   "source": [
    "params"
   ]
  },
  {
   "attachments": {},
   "cell_type": "markdown",
   "metadata": {},
   "source": [
    "For this notebook, setting the `pop_health_requirement` to an arbitrary value just to examine."
   ]
  },
  {
   "attachments": {},
   "cell_type": "markdown",
   "metadata": {},
   "source": [
    "## Population Resource Consumption"
   ]
  },
  {
   "cell_type": "code",
   "execution_count": 12,
   "metadata": {},
   "outputs": [],
   "source": [
    "from app.functions import consumption"
   ]
  },
  {
   "attachments": {},
   "cell_type": "markdown",
   "metadata": {},
   "source": [
    "We're going to run a resourse query test to ensure that consumption is happening. To test, update the `objid` with a planet that has consuming pops. "
   ]
  },
  {
   "cell_type": "code",
   "execution_count": 15,
   "metadata": {},
   "outputs": [],
   "source": [
    "objid = '7851126304352'"
   ]
  },
  {
   "cell_type": "code",
   "execution_count": 17,
   "metadata": {},
   "outputs": [
    {
     "name": "stdout",
     "output_type": "stream",
     "text": [
      "\n",
      "g.V().has('objid','7851126304352').out('has').valueMap()\n",
      "\n"
     ]
    },
    {
     "data": {
      "text/html": [
       "<div>\n",
       "<style scoped>\n",
       "    .dataframe tbody tr th:only-of-type {\n",
       "        vertical-align: middle;\n",
       "    }\n",
       "\n",
       "    .dataframe tbody tr th {\n",
       "        vertical-align: top;\n",
       "    }\n",
       "\n",
       "    .dataframe thead th {\n",
       "        text-align: right;\n",
       "    }\n",
       "</style>\n",
       "<table border=\"1\" class=\"dataframe\">\n",
       "  <thead>\n",
       "    <tr style=\"text-align: right;\">\n",
       "      <th></th>\n",
       "      <th>name</th>\n",
       "      <th>objid</th>\n",
       "      <th>volume</th>\n",
       "      <th>max_volume</th>\n",
       "      <th>description</th>\n",
       "      <th>replenish_rate</th>\n",
       "      <th>userguid</th>\n",
       "      <th>objtype</th>\n",
       "      <th>id</th>\n",
       "    </tr>\n",
       "  </thead>\n",
       "  <tbody>\n",
       "    <tr>\n",
       "      <th>0</th>\n",
       "      <td>organics</td>\n",
       "      <td>0528623152769</td>\n",
       "      <td>1159</td>\n",
       "      <td>1159</td>\n",
       "      <td>bilogical material that can be consumed by pops</td>\n",
       "      <td>10.0</td>\n",
       "      <td>8d5b667f-b225-4641-b499-73b77558ff86</td>\n",
       "      <td>resource</td>\n",
       "      <td>0528623152769</td>\n",
       "    </tr>\n",
       "    <tr>\n",
       "      <th>1</th>\n",
       "      <td>common minerals</td>\n",
       "      <td>1853839760845</td>\n",
       "      <td>90</td>\n",
       "      <td>90</td>\n",
       "      <td>Iron and other common material used in constru...</td>\n",
       "      <td>NaN</td>\n",
       "      <td>8d5b667f-b225-4641-b499-73b77558ff86</td>\n",
       "      <td>resource</td>\n",
       "      <td>1853839760845</td>\n",
       "    </tr>\n",
       "    <tr>\n",
       "      <th>2</th>\n",
       "      <td>rare minerals</td>\n",
       "      <td>7874781257076</td>\n",
       "      <td>63</td>\n",
       "      <td>63</td>\n",
       "      <td>lithium, silver and other rare minerals used i...</td>\n",
       "      <td>NaN</td>\n",
       "      <td>8d5b667f-b225-4641-b499-73b77558ff86</td>\n",
       "      <td>resource</td>\n",
       "      <td>7874781257076</td>\n",
       "    </tr>\n",
       "    <tr>\n",
       "      <th>3</th>\n",
       "      <td>water</td>\n",
       "      <td>0025435962279</td>\n",
       "      <td>10232</td>\n",
       "      <td>10232</td>\n",
       "      <td>H2O ready to be consumed, either frozen or in ...</td>\n",
       "      <td>NaN</td>\n",
       "      <td>8d5b667f-b225-4641-b499-73b77558ff86</td>\n",
       "      <td>resource</td>\n",
       "      <td>0025435962279</td>\n",
       "    </tr>\n",
       "  </tbody>\n",
       "</table>\n",
       "</div>"
      ],
      "text/plain": [
       "              name          objid  volume  max_volume  \\\n",
       "0         organics  0528623152769    1159        1159   \n",
       "1  common minerals  1853839760845      90          90   \n",
       "2    rare minerals  7874781257076      63          63   \n",
       "3            water  0025435962279   10232       10232   \n",
       "\n",
       "                                         description  replenish_rate  \\\n",
       "0    bilogical material that can be consumed by pops            10.0   \n",
       "1  Iron and other common material used in constru...             NaN   \n",
       "2  lithium, silver and other rare minerals used i...             NaN   \n",
       "3  H2O ready to be consumed, either frozen or in ...             NaN   \n",
       "\n",
       "                               userguid   objtype             id  \n",
       "0  8d5b667f-b225-4641-b499-73b77558ff86  resource  0528623152769  \n",
       "1  8d5b667f-b225-4641-b499-73b77558ff86  resource  1853839760845  \n",
       "2  8d5b667f-b225-4641-b499-73b77558ff86  resource  7874781257076  \n",
       "3  8d5b667f-b225-4641-b499-73b77558ff86  resource  0025435962279  "
      ]
     },
     "execution_count": 17,
     "metadata": {},
     "output_type": "execute_result"
    }
   ],
   "source": [
    "validate_resources_updated_query = f\"\"\"\n",
    "g.V().has('objid','{objid}').out('has').valueMap()\n",
    "\"\"\"\n",
    "print(validate_resources_updated_query)\n",
    "c.run_query(validate_resources_updated_query)\n",
    "pre_consumption = pd.DataFrame.from_records(c.clean_nodes(c.res))\n",
    "pre_consumption"
   ]
  },
  {
   "cell_type": "code",
   "execution_count": 18,
   "metadata": {},
   "outputs": [],
   "source": [
    "\n",
    "all_pops_query = f\"\"\"\n",
    "g.V().has('label','pop').as('pop')\n",
    "    .local(\n",
    "        union(\n",
    "            out('inhabits').as('location'),\n",
    "            out('isOf').as('species')\n",
    "            )\n",
    "            .fold()).as('location','species')\n",
    "        .path()\n",
    "        .by(unfold().valueMap().fold())\n",
    "\"\"\""
   ]
  },
  {
   "cell_type": "code",
   "execution_count": 19,
   "metadata": {},
   "outputs": [
    {
     "data": {
      "text/html": [
       "<div>\n",
       "<style scoped>\n",
       "    .dataframe tbody tr th:only-of-type {\n",
       "        vertical-align: middle;\n",
       "    }\n",
       "\n",
       "    .dataframe tbody tr th {\n",
       "        vertical-align: top;\n",
       "    }\n",
       "\n",
       "    .dataframe thead th {\n",
       "        text-align: right;\n",
       "    }\n",
       "</style>\n",
       "<table border=\"1\" class=\"dataframe\">\n",
       "  <thead>\n",
       "    <tr style=\"text-align: right;\">\n",
       "      <th></th>\n",
       "      <th>pop</th>\n",
       "      <th>location</th>\n",
       "      <th>species</th>\n",
       "    </tr>\n",
       "  </thead>\n",
       "  <tbody>\n",
       "    <tr>\n",
       "      <th>0</th>\n",
       "      <td>{'isIdle': 'false', 'name': 'Beachbouthabra Hi...</td>\n",
       "      <td>{'name': 'Maivil', 'class': 'terrestrial', 'ob...</td>\n",
       "      <td>{'name': 'Nis', 'objid': '9540156108482', 'con...</td>\n",
       "    </tr>\n",
       "    <tr>\n",
       "      <th>1</th>\n",
       "      <td>{'name': 'Tinkin Zeporquakot', 'objid': '55505...</td>\n",
       "      <td>{'name': 'Maivil', 'class': 'terrestrial', 'ob...</td>\n",
       "      <td>{'name': 'Nis', 'objid': '9540156108482', 'con...</td>\n",
       "    </tr>\n",
       "    <tr>\n",
       "      <th>2</th>\n",
       "      <td>{'name': 'Tinkin Len', 'objid': '7880677119676...</td>\n",
       "      <td>{'name': 'Maivil', 'class': 'terrestrial', 'ob...</td>\n",
       "      <td>{'name': 'Nis', 'objid': '9540156108482', 'con...</td>\n",
       "    </tr>\n",
       "    <tr>\n",
       "      <th>3</th>\n",
       "      <td>{'isIdle': 'false', 'name': 'Beachbouthabra Be...</td>\n",
       "      <td>{'name': 'Maivil', 'class': 'terrestrial', 'ob...</td>\n",
       "      <td>{'name': 'Nis', 'objid': '9540156108482', 'con...</td>\n",
       "    </tr>\n",
       "    <tr>\n",
       "      <th>4</th>\n",
       "      <td>{'isIdle': 'false', 'name': 'Beachbouthabra Sa...</td>\n",
       "      <td>{'name': 'Maivil', 'class': 'terrestrial', 'ob...</td>\n",
       "      <td>{'name': 'Nis', 'objid': '9540156108482', 'con...</td>\n",
       "    </tr>\n",
       "    <tr>\n",
       "      <th>5</th>\n",
       "      <td>{'name': 'Tinkin Raykalbrid', 'objid': '796167...</td>\n",
       "      <td>{'name': 'Maivil', 'class': 'terrestrial', 'ob...</td>\n",
       "      <td>{'name': 'Nis', 'objid': '9540156108482', 'con...</td>\n",
       "    </tr>\n",
       "    <tr>\n",
       "      <th>6</th>\n",
       "      <td>{'name': 'Beachbouthabra Fortchartaugui', 'obj...</td>\n",
       "      <td>{'name': 'Maivil', 'class': 'terrestrial', 'ob...</td>\n",
       "      <td>{'name': 'Nis', 'objid': '9540156108482', 'con...</td>\n",
       "    </tr>\n",
       "  </tbody>\n",
       "</table>\n",
       "</div>"
      ],
      "text/plain": [
       "                                                 pop  \\\n",
       "0  {'isIdle': 'false', 'name': 'Beachbouthabra Hi...   \n",
       "1  {'name': 'Tinkin Zeporquakot', 'objid': '55505...   \n",
       "2  {'name': 'Tinkin Len', 'objid': '7880677119676...   \n",
       "3  {'isIdle': 'false', 'name': 'Beachbouthabra Be...   \n",
       "4  {'isIdle': 'false', 'name': 'Beachbouthabra Sa...   \n",
       "5  {'name': 'Tinkin Raykalbrid', 'objid': '796167...   \n",
       "6  {'name': 'Beachbouthabra Fortchartaugui', 'obj...   \n",
       "\n",
       "                                            location  \\\n",
       "0  {'name': 'Maivil', 'class': 'terrestrial', 'ob...   \n",
       "1  {'name': 'Maivil', 'class': 'terrestrial', 'ob...   \n",
       "2  {'name': 'Maivil', 'class': 'terrestrial', 'ob...   \n",
       "3  {'name': 'Maivil', 'class': 'terrestrial', 'ob...   \n",
       "4  {'name': 'Maivil', 'class': 'terrestrial', 'ob...   \n",
       "5  {'name': 'Maivil', 'class': 'terrestrial', 'ob...   \n",
       "6  {'name': 'Maivil', 'class': 'terrestrial', 'ob...   \n",
       "\n",
       "                                             species  \n",
       "0  {'name': 'Nis', 'objid': '9540156108482', 'con...  \n",
       "1  {'name': 'Nis', 'objid': '9540156108482', 'con...  \n",
       "2  {'name': 'Nis', 'objid': '9540156108482', 'con...  \n",
       "3  {'name': 'Nis', 'objid': '9540156108482', 'con...  \n",
       "4  {'name': 'Nis', 'objid': '9540156108482', 'con...  \n",
       "5  {'name': 'Nis', 'objid': '9540156108482', 'con...  \n",
       "6  {'name': 'Nis', 'objid': '9540156108482', 'con...  "
      ]
     },
     "execution_count": 19,
     "metadata": {},
     "output_type": "execute_result"
    }
   ],
   "source": [
    "c.run_query(all_pops_query)\n",
    "data = c.reduce_res(c.res)\n",
    "pd.DataFrame(data)"
   ]
  },
  {
   "cell_type": "code",
   "execution_count": 20,
   "metadata": {},
   "outputs": [
    {
     "data": {
      "text/html": [
       "<div>\n",
       "<style scoped>\n",
       "    .dataframe tbody tr th:only-of-type {\n",
       "        vertical-align: middle;\n",
       "    }\n",
       "\n",
       "    .dataframe tbody tr th {\n",
       "        vertical-align: top;\n",
       "    }\n",
       "\n",
       "    .dataframe thead th {\n",
       "        text-align: right;\n",
       "    }\n",
       "</style>\n",
       "<table border=\"1\" class=\"dataframe\">\n",
       "  <thead>\n",
       "    <tr style=\"text-align: right;\">\n",
       "      <th></th>\n",
       "      <th>isIdle</th>\n",
       "      <th>name</th>\n",
       "      <th>objid</th>\n",
       "      <th>conformity</th>\n",
       "      <th>literacy</th>\n",
       "      <th>aggression</th>\n",
       "      <th>constitution</th>\n",
       "      <th>health</th>\n",
       "      <th>isIn</th>\n",
       "      <th>industry</th>\n",
       "      <th>wealth</th>\n",
       "      <th>factionLoyalty</th>\n",
       "      <th>userguid</th>\n",
       "      <th>objtype</th>\n",
       "      <th>id</th>\n",
       "    </tr>\n",
       "  </thead>\n",
       "  <tbody>\n",
       "    <tr>\n",
       "      <th>0</th>\n",
       "      <td>false</td>\n",
       "      <td>Beachbouthabra Hiaton</td>\n",
       "      <td>7092251861714</td>\n",
       "      <td>0.680</td>\n",
       "      <td>0.468</td>\n",
       "      <td>0.501</td>\n",
       "      <td>0.482</td>\n",
       "      <td>0.7</td>\n",
       "      <td>6987949209694</td>\n",
       "      <td>0.4915</td>\n",
       "      <td>0.4798</td>\n",
       "      <td>0.707</td>\n",
       "      <td>8d5b667f-b225-4641-b499-73b77558ff86</td>\n",
       "      <td>pop</td>\n",
       "      <td>7092251861714</td>\n",
       "    </tr>\n",
       "    <tr>\n",
       "      <th>1</th>\n",
       "      <td>true</td>\n",
       "      <td>Tinkin Zeporquakot</td>\n",
       "      <td>5550515400694</td>\n",
       "      <td>0.356</td>\n",
       "      <td>0.417</td>\n",
       "      <td>0.495</td>\n",
       "      <td>0.351</td>\n",
       "      <td>0.7</td>\n",
       "      <td>1384718841923</td>\n",
       "      <td>0.4230</td>\n",
       "      <td>0.4200</td>\n",
       "      <td>0.425</td>\n",
       "      <td>8d5b667f-b225-4641-b499-73b77558ff86</td>\n",
       "      <td>pop</td>\n",
       "      <td>5550515400694</td>\n",
       "    </tr>\n",
       "    <tr>\n",
       "      <th>2</th>\n",
       "      <td>true</td>\n",
       "      <td>Tinkin Len</td>\n",
       "      <td>7880677119676</td>\n",
       "      <td>0.450</td>\n",
       "      <td>0.510</td>\n",
       "      <td>0.549</td>\n",
       "      <td>0.355</td>\n",
       "      <td>0.7</td>\n",
       "      <td>1384718841923</td>\n",
       "      <td>0.4520</td>\n",
       "      <td>0.4810</td>\n",
       "      <td>0.446</td>\n",
       "      <td>8d5b667f-b225-4641-b499-73b77558ff86</td>\n",
       "      <td>pop</td>\n",
       "      <td>7880677119676</td>\n",
       "    </tr>\n",
       "    <tr>\n",
       "      <th>3</th>\n",
       "      <td>false</td>\n",
       "      <td>Beachbouthabra Benranjore</td>\n",
       "      <td>5380932415285</td>\n",
       "      <td>0.522</td>\n",
       "      <td>0.404</td>\n",
       "      <td>0.608</td>\n",
       "      <td>0.538</td>\n",
       "      <td>0.7</td>\n",
       "      <td>6987949209694</td>\n",
       "      <td>0.5730</td>\n",
       "      <td>0.4885</td>\n",
       "      <td>0.741</td>\n",
       "      <td>8d5b667f-b225-4641-b499-73b77558ff86</td>\n",
       "      <td>pop</td>\n",
       "      <td>5380932415285</td>\n",
       "    </tr>\n",
       "    <tr>\n",
       "      <th>4</th>\n",
       "      <td>false</td>\n",
       "      <td>Beachbouthabra Sant</td>\n",
       "      <td>6684973836024</td>\n",
       "      <td>0.723</td>\n",
       "      <td>0.502</td>\n",
       "      <td>0.458</td>\n",
       "      <td>0.522</td>\n",
       "      <td>0.7</td>\n",
       "      <td>6987949209694</td>\n",
       "      <td>0.4900</td>\n",
       "      <td>0.4960</td>\n",
       "      <td>0.701</td>\n",
       "      <td>8d5b667f-b225-4641-b499-73b77558ff86</td>\n",
       "      <td>pop</td>\n",
       "      <td>6684973836024</td>\n",
       "    </tr>\n",
       "    <tr>\n",
       "      <th>5</th>\n",
       "      <td>true</td>\n",
       "      <td>Tinkin Raykalbrid</td>\n",
       "      <td>7961679440441</td>\n",
       "      <td>0.550</td>\n",
       "      <td>0.495</td>\n",
       "      <td>0.599</td>\n",
       "      <td>0.362</td>\n",
       "      <td>0.7</td>\n",
       "      <td>1384718841923</td>\n",
       "      <td>0.4805</td>\n",
       "      <td>0.4878</td>\n",
       "      <td>0.616</td>\n",
       "      <td>8d5b667f-b225-4641-b499-73b77558ff86</td>\n",
       "      <td>pop</td>\n",
       "      <td>7961679440441</td>\n",
       "    </tr>\n",
       "    <tr>\n",
       "      <th>6</th>\n",
       "      <td>true</td>\n",
       "      <td>Beachbouthabra Fortchartaugui</td>\n",
       "      <td>7082994639519</td>\n",
       "      <td>0.505</td>\n",
       "      <td>0.275</td>\n",
       "      <td>0.720</td>\n",
       "      <td>0.561</td>\n",
       "      <td>0.7</td>\n",
       "      <td>6987949209694</td>\n",
       "      <td>0.6405</td>\n",
       "      <td>0.4578</td>\n",
       "      <td>0.506</td>\n",
       "      <td>8d5b667f-b225-4641-b499-73b77558ff86</td>\n",
       "      <td>pop</td>\n",
       "      <td>7082994639519</td>\n",
       "    </tr>\n",
       "  </tbody>\n",
       "</table>\n",
       "</div>"
      ],
      "text/plain": [
       "  isIdle                           name          objid  conformity  literacy  \\\n",
       "0  false          Beachbouthabra Hiaton  7092251861714       0.680     0.468   \n",
       "1   true             Tinkin Zeporquakot  5550515400694       0.356     0.417   \n",
       "2   true                     Tinkin Len  7880677119676       0.450     0.510   \n",
       "3  false      Beachbouthabra Benranjore  5380932415285       0.522     0.404   \n",
       "4  false            Beachbouthabra Sant  6684973836024       0.723     0.502   \n",
       "5   true              Tinkin Raykalbrid  7961679440441       0.550     0.495   \n",
       "6   true  Beachbouthabra Fortchartaugui  7082994639519       0.505     0.275   \n",
       "\n",
       "   aggression  constitution  health           isIn  industry  wealth  \\\n",
       "0       0.501         0.482     0.7  6987949209694    0.4915  0.4798   \n",
       "1       0.495         0.351     0.7  1384718841923    0.4230  0.4200   \n",
       "2       0.549         0.355     0.7  1384718841923    0.4520  0.4810   \n",
       "3       0.608         0.538     0.7  6987949209694    0.5730  0.4885   \n",
       "4       0.458         0.522     0.7  6987949209694    0.4900  0.4960   \n",
       "5       0.599         0.362     0.7  1384718841923    0.4805  0.4878   \n",
       "6       0.720         0.561     0.7  6987949209694    0.6405  0.4578   \n",
       "\n",
       "   factionLoyalty                              userguid objtype             id  \n",
       "0           0.707  8d5b667f-b225-4641-b499-73b77558ff86     pop  7092251861714  \n",
       "1           0.425  8d5b667f-b225-4641-b499-73b77558ff86     pop  5550515400694  \n",
       "2           0.446  8d5b667f-b225-4641-b499-73b77558ff86     pop  7880677119676  \n",
       "3           0.741  8d5b667f-b225-4641-b499-73b77558ff86     pop  5380932415285  \n",
       "4           0.701  8d5b667f-b225-4641-b499-73b77558ff86     pop  6684973836024  \n",
       "5           0.616  8d5b667f-b225-4641-b499-73b77558ff86     pop  7961679440441  \n",
       "6           0.506  8d5b667f-b225-4641-b499-73b77558ff86     pop  7082994639519  "
      ]
     },
     "execution_count": 20,
     "metadata": {},
     "output_type": "execute_result"
    }
   ],
   "source": [
    "pops_df = pd.DataFrame([d['pop'] for d in data])\n",
    "pops_df"
   ]
  },
  {
   "cell_type": "code",
   "execution_count": 21,
   "metadata": {},
   "outputs": [
    {
     "data": {
      "text/html": [
       "<div>\n",
       "<style scoped>\n",
       "    .dataframe tbody tr th:only-of-type {\n",
       "        vertical-align: middle;\n",
       "    }\n",
       "\n",
       "    .dataframe tbody tr th {\n",
       "        vertical-align: top;\n",
       "    }\n",
       "\n",
       "    .dataframe thead th {\n",
       "        text-align: right;\n",
       "    }\n",
       "</style>\n",
       "<table border=\"1\" class=\"dataframe\">\n",
       "  <thead>\n",
       "    <tr style=\"text-align: right;\">\n",
       "      <th></th>\n",
       "      <th>name</th>\n",
       "      <th>objid</th>\n",
       "      <th>consumes</th>\n",
       "      <th>effuses</th>\n",
       "      <th>conformity</th>\n",
       "      <th>aggression</th>\n",
       "      <th>literacy</th>\n",
       "      <th>constitution</th>\n",
       "      <th>userguid</th>\n",
       "      <th>objtype</th>\n",
       "      <th>id</th>\n",
       "    </tr>\n",
       "  </thead>\n",
       "  <tbody>\n",
       "    <tr>\n",
       "      <th>0</th>\n",
       "      <td>Nis</td>\n",
       "      <td>9540156108482</td>\n",
       "      <td>organics</td>\n",
       "      <td>organic waste,plastics</td>\n",
       "      <td>0.570</td>\n",
       "      <td>0.580</td>\n",
       "      <td>0.420</td>\n",
       "      <td>0.430</td>\n",
       "      <td>8d5b667f-b225-4641-b499-73b77558ff86</td>\n",
       "      <td>species</td>\n",
       "      <td>9540156108482</td>\n",
       "    </tr>\n",
       "    <tr>\n",
       "      <th>1</th>\n",
       "      <td>Nis</td>\n",
       "      <td>9540156108482</td>\n",
       "      <td>organics</td>\n",
       "      <td>organic waste,plastics</td>\n",
       "      <td>0.570</td>\n",
       "      <td>0.580</td>\n",
       "      <td>0.420</td>\n",
       "      <td>0.430</td>\n",
       "      <td>8d5b667f-b225-4641-b499-73b77558ff86</td>\n",
       "      <td>species</td>\n",
       "      <td>9540156108482</td>\n",
       "    </tr>\n",
       "    <tr>\n",
       "      <th>2</th>\n",
       "      <td>Nis</td>\n",
       "      <td>9540156108482</td>\n",
       "      <td>organics</td>\n",
       "      <td>organic waste,plastics</td>\n",
       "      <td>0.570</td>\n",
       "      <td>0.580</td>\n",
       "      <td>0.420</td>\n",
       "      <td>0.430</td>\n",
       "      <td>8d5b667f-b225-4641-b499-73b77558ff86</td>\n",
       "      <td>species</td>\n",
       "      <td>9540156108482</td>\n",
       "    </tr>\n",
       "    <tr>\n",
       "      <th>3</th>\n",
       "      <td>Nis</td>\n",
       "      <td>9540156108482</td>\n",
       "      <td>organics</td>\n",
       "      <td>organic waste,plastics</td>\n",
       "      <td>0.570</td>\n",
       "      <td>0.580</td>\n",
       "      <td>0.420</td>\n",
       "      <td>0.430</td>\n",
       "      <td>8d5b667f-b225-4641-b499-73b77558ff86</td>\n",
       "      <td>species</td>\n",
       "      <td>9540156108482</td>\n",
       "    </tr>\n",
       "    <tr>\n",
       "      <th>4</th>\n",
       "      <td>Nis</td>\n",
       "      <td>9540156108482</td>\n",
       "      <td>organics</td>\n",
       "      <td>organic waste,plastics</td>\n",
       "      <td>0.570</td>\n",
       "      <td>0.580</td>\n",
       "      <td>0.420</td>\n",
       "      <td>0.430</td>\n",
       "      <td>8d5b667f-b225-4641-b499-73b77558ff86</td>\n",
       "      <td>species</td>\n",
       "      <td>9540156108482</td>\n",
       "    </tr>\n",
       "    <tr>\n",
       "      <th>5</th>\n",
       "      <td>Nis</td>\n",
       "      <td>9540156108482</td>\n",
       "      <td>organics</td>\n",
       "      <td>organic waste,plastics</td>\n",
       "      <td>0.570</td>\n",
       "      <td>0.580</td>\n",
       "      <td>0.420</td>\n",
       "      <td>0.430</td>\n",
       "      <td>8d5b667f-b225-4641-b499-73b77558ff86</td>\n",
       "      <td>species</td>\n",
       "      <td>9540156108482</td>\n",
       "    </tr>\n",
       "    <tr>\n",
       "      <th>6</th>\n",
       "      <td>Nis</td>\n",
       "      <td>9540156108482</td>\n",
       "      <td>organics</td>\n",
       "      <td>organic waste,plastics</td>\n",
       "      <td>0.570</td>\n",
       "      <td>0.580</td>\n",
       "      <td>0.420</td>\n",
       "      <td>0.430</td>\n",
       "      <td>8d5b667f-b225-4641-b499-73b77558ff86</td>\n",
       "      <td>species</td>\n",
       "      <td>9540156108482</td>\n",
       "    </tr>\n",
       "  </tbody>\n",
       "</table>\n",
       "</div>"
      ],
      "text/plain": [
       "  name          objid  consumes                 effuses conformity aggression  \\\n",
       "0  Nis  9540156108482  organics  organic waste,plastics      0.570      0.580   \n",
       "1  Nis  9540156108482  organics  organic waste,plastics      0.570      0.580   \n",
       "2  Nis  9540156108482  organics  organic waste,plastics      0.570      0.580   \n",
       "3  Nis  9540156108482  organics  organic waste,plastics      0.570      0.580   \n",
       "4  Nis  9540156108482  organics  organic waste,plastics      0.570      0.580   \n",
       "5  Nis  9540156108482  organics  organic waste,plastics      0.570      0.580   \n",
       "6  Nis  9540156108482  organics  organic waste,plastics      0.570      0.580   \n",
       "\n",
       "  literacy constitution                              userguid  objtype  \\\n",
       "0    0.420        0.430  8d5b667f-b225-4641-b499-73b77558ff86  species   \n",
       "1    0.420        0.430  8d5b667f-b225-4641-b499-73b77558ff86  species   \n",
       "2    0.420        0.430  8d5b667f-b225-4641-b499-73b77558ff86  species   \n",
       "3    0.420        0.430  8d5b667f-b225-4641-b499-73b77558ff86  species   \n",
       "4    0.420        0.430  8d5b667f-b225-4641-b499-73b77558ff86  species   \n",
       "5    0.420        0.430  8d5b667f-b225-4641-b499-73b77558ff86  species   \n",
       "6    0.420        0.430  8d5b667f-b225-4641-b499-73b77558ff86  species   \n",
       "\n",
       "              id  \n",
       "0  9540156108482  \n",
       "1  9540156108482  \n",
       "2  9540156108482  \n",
       "3  9540156108482  \n",
       "4  9540156108482  \n",
       "5  9540156108482  \n",
       "6  9540156108482  "
      ]
     },
     "execution_count": 21,
     "metadata": {},
     "output_type": "execute_result"
    }
   ],
   "source": [
    "species_df = pd.DataFrame([d['species'] for d in data])\n",
    "species_df"
   ]
  },
  {
   "cell_type": "code",
   "execution_count": 22,
   "metadata": {},
   "outputs": [
    {
     "data": {
      "text/html": [
       "<div>\n",
       "<style scoped>\n",
       "    .dataframe tbody tr th:only-of-type {\n",
       "        vertical-align: middle;\n",
       "    }\n",
       "\n",
       "    .dataframe tbody tr th {\n",
       "        vertical-align: top;\n",
       "    }\n",
       "\n",
       "    .dataframe thead th {\n",
       "        text-align: right;\n",
       "    }\n",
       "</style>\n",
       "<table border=\"1\" class=\"dataframe\">\n",
       "  <thead>\n",
       "    <tr style=\"text-align: right;\">\n",
       "      <th></th>\n",
       "      <th>name</th>\n",
       "      <th>class</th>\n",
       "      <th>objid</th>\n",
       "      <th>atmosphere</th>\n",
       "      <th>radius</th>\n",
       "      <th>mass</th>\n",
       "      <th>orbitsDistance</th>\n",
       "      <th>orbitsId</th>\n",
       "      <th>orbitsName</th>\n",
       "      <th>isSupportsLife</th>\n",
       "      <th>isPopulated</th>\n",
       "      <th>isHomeworld</th>\n",
       "      <th>userguid</th>\n",
       "      <th>objtype</th>\n",
       "      <th>id</th>\n",
       "    </tr>\n",
       "  </thead>\n",
       "  <tbody>\n",
       "    <tr>\n",
       "      <th>0</th>\n",
       "      <td>Maivil</td>\n",
       "      <td>terrestrial</td>\n",
       "      <td>7851126304352</td>\n",
       "      <td>[{Argon: 0.0}, {Carbon Dioxide: 0.0}, {Helium:...</td>\n",
       "      <td>0.777</td>\n",
       "      <td>0.802</td>\n",
       "      <td>1.481</td>\n",
       "      <td>2264456623306</td>\n",
       "      <td>Tra</td>\n",
       "      <td>true</td>\n",
       "      <td>true</td>\n",
       "      <td>true</td>\n",
       "      <td>8d5b667f-b225-4641-b499-73b77558ff86</td>\n",
       "      <td>planet</td>\n",
       "      <td>7851126304352</td>\n",
       "    </tr>\n",
       "    <tr>\n",
       "      <th>1</th>\n",
       "      <td>Maivil</td>\n",
       "      <td>terrestrial</td>\n",
       "      <td>7851126304352</td>\n",
       "      <td>[{Argon: 0.0}, {Carbon Dioxide: 0.0}, {Helium:...</td>\n",
       "      <td>0.777</td>\n",
       "      <td>0.802</td>\n",
       "      <td>1.481</td>\n",
       "      <td>2264456623306</td>\n",
       "      <td>Tra</td>\n",
       "      <td>true</td>\n",
       "      <td>true</td>\n",
       "      <td>true</td>\n",
       "      <td>8d5b667f-b225-4641-b499-73b77558ff86</td>\n",
       "      <td>planet</td>\n",
       "      <td>7851126304352</td>\n",
       "    </tr>\n",
       "    <tr>\n",
       "      <th>2</th>\n",
       "      <td>Maivil</td>\n",
       "      <td>terrestrial</td>\n",
       "      <td>7851126304352</td>\n",
       "      <td>[{Argon: 0.0}, {Carbon Dioxide: 0.0}, {Helium:...</td>\n",
       "      <td>0.777</td>\n",
       "      <td>0.802</td>\n",
       "      <td>1.481</td>\n",
       "      <td>2264456623306</td>\n",
       "      <td>Tra</td>\n",
       "      <td>true</td>\n",
       "      <td>true</td>\n",
       "      <td>true</td>\n",
       "      <td>8d5b667f-b225-4641-b499-73b77558ff86</td>\n",
       "      <td>planet</td>\n",
       "      <td>7851126304352</td>\n",
       "    </tr>\n",
       "    <tr>\n",
       "      <th>3</th>\n",
       "      <td>Maivil</td>\n",
       "      <td>terrestrial</td>\n",
       "      <td>7851126304352</td>\n",
       "      <td>[{Argon: 0.0}, {Carbon Dioxide: 0.0}, {Helium:...</td>\n",
       "      <td>0.777</td>\n",
       "      <td>0.802</td>\n",
       "      <td>1.481</td>\n",
       "      <td>2264456623306</td>\n",
       "      <td>Tra</td>\n",
       "      <td>true</td>\n",
       "      <td>true</td>\n",
       "      <td>true</td>\n",
       "      <td>8d5b667f-b225-4641-b499-73b77558ff86</td>\n",
       "      <td>planet</td>\n",
       "      <td>7851126304352</td>\n",
       "    </tr>\n",
       "    <tr>\n",
       "      <th>4</th>\n",
       "      <td>Maivil</td>\n",
       "      <td>terrestrial</td>\n",
       "      <td>7851126304352</td>\n",
       "      <td>[{Argon: 0.0}, {Carbon Dioxide: 0.0}, {Helium:...</td>\n",
       "      <td>0.777</td>\n",
       "      <td>0.802</td>\n",
       "      <td>1.481</td>\n",
       "      <td>2264456623306</td>\n",
       "      <td>Tra</td>\n",
       "      <td>true</td>\n",
       "      <td>true</td>\n",
       "      <td>true</td>\n",
       "      <td>8d5b667f-b225-4641-b499-73b77558ff86</td>\n",
       "      <td>planet</td>\n",
       "      <td>7851126304352</td>\n",
       "    </tr>\n",
       "    <tr>\n",
       "      <th>5</th>\n",
       "      <td>Maivil</td>\n",
       "      <td>terrestrial</td>\n",
       "      <td>7851126304352</td>\n",
       "      <td>[{Argon: 0.0}, {Carbon Dioxide: 0.0}, {Helium:...</td>\n",
       "      <td>0.777</td>\n",
       "      <td>0.802</td>\n",
       "      <td>1.481</td>\n",
       "      <td>2264456623306</td>\n",
       "      <td>Tra</td>\n",
       "      <td>true</td>\n",
       "      <td>true</td>\n",
       "      <td>true</td>\n",
       "      <td>8d5b667f-b225-4641-b499-73b77558ff86</td>\n",
       "      <td>planet</td>\n",
       "      <td>7851126304352</td>\n",
       "    </tr>\n",
       "    <tr>\n",
       "      <th>6</th>\n",
       "      <td>Maivil</td>\n",
       "      <td>terrestrial</td>\n",
       "      <td>7851126304352</td>\n",
       "      <td>[{Argon: 0.0}, {Carbon Dioxide: 0.0}, {Helium:...</td>\n",
       "      <td>0.777</td>\n",
       "      <td>0.802</td>\n",
       "      <td>1.481</td>\n",
       "      <td>2264456623306</td>\n",
       "      <td>Tra</td>\n",
       "      <td>true</td>\n",
       "      <td>true</td>\n",
       "      <td>true</td>\n",
       "      <td>8d5b667f-b225-4641-b499-73b77558ff86</td>\n",
       "      <td>planet</td>\n",
       "      <td>7851126304352</td>\n",
       "    </tr>\n",
       "  </tbody>\n",
       "</table>\n",
       "</div>"
      ],
      "text/plain": [
       "     name        class          objid  \\\n",
       "0  Maivil  terrestrial  7851126304352   \n",
       "1  Maivil  terrestrial  7851126304352   \n",
       "2  Maivil  terrestrial  7851126304352   \n",
       "3  Maivil  terrestrial  7851126304352   \n",
       "4  Maivil  terrestrial  7851126304352   \n",
       "5  Maivil  terrestrial  7851126304352   \n",
       "6  Maivil  terrestrial  7851126304352   \n",
       "\n",
       "                                          atmosphere  radius   mass  \\\n",
       "0  [{Argon: 0.0}, {Carbon Dioxide: 0.0}, {Helium:...   0.777  0.802   \n",
       "1  [{Argon: 0.0}, {Carbon Dioxide: 0.0}, {Helium:...   0.777  0.802   \n",
       "2  [{Argon: 0.0}, {Carbon Dioxide: 0.0}, {Helium:...   0.777  0.802   \n",
       "3  [{Argon: 0.0}, {Carbon Dioxide: 0.0}, {Helium:...   0.777  0.802   \n",
       "4  [{Argon: 0.0}, {Carbon Dioxide: 0.0}, {Helium:...   0.777  0.802   \n",
       "5  [{Argon: 0.0}, {Carbon Dioxide: 0.0}, {Helium:...   0.777  0.802   \n",
       "6  [{Argon: 0.0}, {Carbon Dioxide: 0.0}, {Helium:...   0.777  0.802   \n",
       "\n",
       "   orbitsDistance       orbitsId orbitsName isSupportsLife isPopulated  \\\n",
       "0           1.481  2264456623306        Tra           true        true   \n",
       "1           1.481  2264456623306        Tra           true        true   \n",
       "2           1.481  2264456623306        Tra           true        true   \n",
       "3           1.481  2264456623306        Tra           true        true   \n",
       "4           1.481  2264456623306        Tra           true        true   \n",
       "5           1.481  2264456623306        Tra           true        true   \n",
       "6           1.481  2264456623306        Tra           true        true   \n",
       "\n",
       "  isHomeworld                              userguid objtype             id  \n",
       "0        true  8d5b667f-b225-4641-b499-73b77558ff86  planet  7851126304352  \n",
       "1        true  8d5b667f-b225-4641-b499-73b77558ff86  planet  7851126304352  \n",
       "2        true  8d5b667f-b225-4641-b499-73b77558ff86  planet  7851126304352  \n",
       "3        true  8d5b667f-b225-4641-b499-73b77558ff86  planet  7851126304352  \n",
       "4        true  8d5b667f-b225-4641-b499-73b77558ff86  planet  7851126304352  \n",
       "5        true  8d5b667f-b225-4641-b499-73b77558ff86  planet  7851126304352  \n",
       "6        true  8d5b667f-b225-4641-b499-73b77558ff86  planet  7851126304352  "
      ]
     },
     "execution_count": 22,
     "metadata": {},
     "output_type": "execute_result"
    }
   ],
   "source": [
    "locations_df = pd.DataFrame([d['location'] for d in data])\n",
    "locations_df"
   ]
  },
  {
   "attachments": {},
   "cell_type": "markdown",
   "metadata": {},
   "source": [
    "First getting the list of consumption for each pop.\n"
   ]
  },
  {
   "cell_type": "code",
   "execution_count": 23,
   "metadata": {},
   "outputs": [],
   "source": [
    "pops_df,species_df,locations_df = consumption.all_pops_consumption(c)\n"
   ]
  },
  {
   "attachments": {},
   "cell_type": "markdown",
   "metadata": {},
   "source": [
    "We expand that dataset to break open the list of people in each pop. "
   ]
  },
  {
   "cell_type": "code",
   "execution_count": 24,
   "metadata": {},
   "outputs": [
    {
     "data": {
      "text/plain": [
       "{'pop_health_requirement': 0.7,\n",
       " 'pop_consumes': 2,\n",
       " 'starve_damage': 0.05,\n",
       " 'changing_values': ['conformity',\n",
       "  'literacy',\n",
       "  'aggression',\n",
       "  'constitution',\n",
       "  'wealth',\n",
       "  'factionLoyalty'],\n",
       " 'currentTime': 15989}"
      ]
     },
     "execution_count": 24,
     "metadata": {},
     "output_type": "execute_result"
    }
   ],
   "source": [
    "params"
   ]
  },
  {
   "cell_type": "code",
   "execution_count": 25,
   "metadata": {},
   "outputs": [
    {
     "data": {
      "text/html": [
       "<div>\n",
       "<style scoped>\n",
       "    .dataframe tbody tr th:only-of-type {\n",
       "        vertical-align: middle;\n",
       "    }\n",
       "\n",
       "    .dataframe tbody tr th {\n",
       "        vertical-align: top;\n",
       "    }\n",
       "\n",
       "    .dataframe thead th {\n",
       "        text-align: right;\n",
       "    }\n",
       "</style>\n",
       "<table border=\"1\" class=\"dataframe\">\n",
       "  <thead>\n",
       "    <tr style=\"text-align: right;\">\n",
       "      <th></th>\n",
       "      <th>location_id</th>\n",
       "      <th>consumes</th>\n",
       "      <th>pop</th>\n",
       "      <th>consumption</th>\n",
       "      <th>multi</th>\n",
       "    </tr>\n",
       "  </thead>\n",
       "  <tbody>\n",
       "    <tr>\n",
       "      <th>0</th>\n",
       "      <td>7851126304352</td>\n",
       "      <td>organics</td>\n",
       "      <td>7</td>\n",
       "      <td>14</td>\n",
       "      <td>False</td>\n",
       "    </tr>\n",
       "  </tbody>\n",
       "</table>\n",
       "</div>"
      ],
      "text/plain": [
       "     location_id  consumes pop consumption  multi\n",
       "0  7851126304352  organics   7          14  False"
      ]
     },
     "execution_count": 25,
     "metadata": {},
     "output_type": "execute_result"
    }
   ],
   "source": [
    "consumption_df = consumption.get_consumption_df(locations_df,species_df,params)\n",
    "consumption_df = consumption.expand_consumption_df(consumption_df)\n",
    "consumption_df"
   ]
  },
  {
   "attachments": {},
   "cell_type": "markdown",
   "metadata": {},
   "source": [
    "\n",
    "Then we get a list of the resources available on that location. "
   ]
  },
  {
   "cell_type": "code",
   "execution_count": 26,
   "metadata": {},
   "outputs": [
    {
     "data": {
      "text/plain": [
       "[{'labels': [['location'], ['resource']],\n",
       "  'objects': [{'objid': ['7851126304352'], 'name': ['Maivil']},\n",
       "   {'volume': [1159], 'objid': ['0528623152769'], 'name': ['organics']}]}]"
      ]
     },
     "execution_count": 26,
     "metadata": {},
     "output_type": "execute_result"
    }
   ],
   "source": [
    "c.run_query(consumption.make_resource_query(consumption_df))\n",
    "resources = c.res\n",
    "resources"
   ]
  },
  {
   "cell_type": "code",
   "execution_count": 27,
   "metadata": {},
   "outputs": [
    {
     "data": {
      "text/html": [
       "<div>\n",
       "<style scoped>\n",
       "    .dataframe tbody tr th:only-of-type {\n",
       "        vertical-align: middle;\n",
       "    }\n",
       "\n",
       "    .dataframe tbody tr th {\n",
       "        vertical-align: top;\n",
       "    }\n",
       "\n",
       "    .dataframe thead th {\n",
       "        text-align: right;\n",
       "    }\n",
       "</style>\n",
       "<table border=\"1\" class=\"dataframe\">\n",
       "  <thead>\n",
       "    <tr style=\"text-align: right;\">\n",
       "      <th></th>\n",
       "      <th>location_id</th>\n",
       "      <th>consumes</th>\n",
       "      <th>pop</th>\n",
       "      <th>consumption</th>\n",
       "      <th>multi</th>\n",
       "      <th>available</th>\n",
       "      <th>remaining</th>\n",
       "    </tr>\n",
       "  </thead>\n",
       "  <tbody>\n",
       "    <tr>\n",
       "      <th>0</th>\n",
       "      <td>7851126304352</td>\n",
       "      <td>organics</td>\n",
       "      <td>7</td>\n",
       "      <td>14</td>\n",
       "      <td>False</td>\n",
       "      <td>1159.0</td>\n",
       "      <td>1145.0</td>\n",
       "    </tr>\n",
       "  </tbody>\n",
       "</table>\n",
       "</div>"
      ],
      "text/plain": [
       "     location_id  consumes pop consumption  multi  available  remaining\n",
       "0  7851126304352  organics   7          14  False     1159.0     1145.0"
      ]
     },
     "execution_count": 27,
     "metadata": {},
     "output_type": "execute_result"
    }
   ],
   "source": [
    "consumption_df = consumption.tally_consumption(c,consumption_df,resources)\n",
    "consumption_df"
   ]
  },
  {
   "attachments": {},
   "cell_type": "markdown",
   "metadata": {},
   "source": [
    "Then we update the resources by taking out the resources that exist. You can check that this has happened in the graph by looking at the location ids. This is a verification query that isn't run in the function application."
   ]
  },
  {
   "cell_type": "code",
   "execution_count": 28,
   "metadata": {},
   "outputs": [
    {
     "data": {
      "text/plain": [
       "0    None\n",
       "dtype: object"
      ]
     },
     "execution_count": 28,
     "metadata": {},
     "output_type": "execute_result"
    }
   ],
   "source": [
    "consumption_df.apply(lambda x: consumption.make_resource_update_query(c,x),axis=1)"
   ]
  },
  {
   "cell_type": "code",
   "execution_count": 29,
   "metadata": {},
   "outputs": [],
   "source": [
    "c.run_query(validate_resources_updated_query)\n",
    "post_consumption = pd.DataFrame.from_records(c.clean_nodes(c.res))"
   ]
  },
  {
   "cell_type": "code",
   "execution_count": 30,
   "metadata": {},
   "outputs": [
    {
     "data": {
      "text/html": [
       "<div>\n",
       "<style scoped>\n",
       "    .dataframe tbody tr th:only-of-type {\n",
       "        vertical-align: middle;\n",
       "    }\n",
       "\n",
       "    .dataframe tbody tr th {\n",
       "        vertical-align: top;\n",
       "    }\n",
       "\n",
       "    .dataframe thead th {\n",
       "        text-align: right;\n",
       "    }\n",
       "</style>\n",
       "<table border=\"1\" class=\"dataframe\">\n",
       "  <thead>\n",
       "    <tr style=\"text-align: right;\">\n",
       "      <th></th>\n",
       "      <th>name</th>\n",
       "      <th>objid</th>\n",
       "      <th>volume</th>\n",
       "      <th>max_volume</th>\n",
       "      <th>description</th>\n",
       "      <th>replenish_rate</th>\n",
       "      <th>userguid</th>\n",
       "      <th>objtype</th>\n",
       "      <th>id</th>\n",
       "    </tr>\n",
       "  </thead>\n",
       "  <tbody>\n",
       "    <tr>\n",
       "      <th>0</th>\n",
       "      <td>organics</td>\n",
       "      <td>0528623152769</td>\n",
       "      <td>1159</td>\n",
       "      <td>1159</td>\n",
       "      <td>bilogical material that can be consumed by pops</td>\n",
       "      <td>10.0</td>\n",
       "      <td>8d5b667f-b225-4641-b499-73b77558ff86</td>\n",
       "      <td>resource</td>\n",
       "      <td>0528623152769</td>\n",
       "    </tr>\n",
       "    <tr>\n",
       "      <th>1</th>\n",
       "      <td>common minerals</td>\n",
       "      <td>1853839760845</td>\n",
       "      <td>90</td>\n",
       "      <td>90</td>\n",
       "      <td>Iron and other common material used in constru...</td>\n",
       "      <td>NaN</td>\n",
       "      <td>8d5b667f-b225-4641-b499-73b77558ff86</td>\n",
       "      <td>resource</td>\n",
       "      <td>1853839760845</td>\n",
       "    </tr>\n",
       "    <tr>\n",
       "      <th>2</th>\n",
       "      <td>rare minerals</td>\n",
       "      <td>7874781257076</td>\n",
       "      <td>63</td>\n",
       "      <td>63</td>\n",
       "      <td>lithium, silver and other rare minerals used i...</td>\n",
       "      <td>NaN</td>\n",
       "      <td>8d5b667f-b225-4641-b499-73b77558ff86</td>\n",
       "      <td>resource</td>\n",
       "      <td>7874781257076</td>\n",
       "    </tr>\n",
       "    <tr>\n",
       "      <th>3</th>\n",
       "      <td>water</td>\n",
       "      <td>0025435962279</td>\n",
       "      <td>10232</td>\n",
       "      <td>10232</td>\n",
       "      <td>H2O ready to be consumed, either frozen or in ...</td>\n",
       "      <td>NaN</td>\n",
       "      <td>8d5b667f-b225-4641-b499-73b77558ff86</td>\n",
       "      <td>resource</td>\n",
       "      <td>0025435962279</td>\n",
       "    </tr>\n",
       "  </tbody>\n",
       "</table>\n",
       "</div>"
      ],
      "text/plain": [
       "              name          objid  volume  max_volume  \\\n",
       "0         organics  0528623152769    1159        1159   \n",
       "1  common minerals  1853839760845      90          90   \n",
       "2    rare minerals  7874781257076      63          63   \n",
       "3            water  0025435962279   10232       10232   \n",
       "\n",
       "                                         description  replenish_rate  \\\n",
       "0    bilogical material that can be consumed by pops            10.0   \n",
       "1  Iron and other common material used in constru...             NaN   \n",
       "2  lithium, silver and other rare minerals used i...             NaN   \n",
       "3  H2O ready to be consumed, either frozen or in ...             NaN   \n",
       "\n",
       "                               userguid   objtype             id  \n",
       "0  8d5b667f-b225-4641-b499-73b77558ff86  resource  0528623152769  \n",
       "1  8d5b667f-b225-4641-b499-73b77558ff86  resource  1853839760845  \n",
       "2  8d5b667f-b225-4641-b499-73b77558ff86  resource  7874781257076  \n",
       "3  8d5b667f-b225-4641-b499-73b77558ff86  resource  0025435962279  "
      ]
     },
     "execution_count": 30,
     "metadata": {},
     "output_type": "execute_result"
    }
   ],
   "source": [
    "pre_consumption"
   ]
  },
  {
   "cell_type": "markdown",
   "metadata": {},
   "source": [
    "Only the resources that are consumed will diminish, and they will stop diminishing if the level goes below `0`"
   ]
  },
  {
   "cell_type": "code",
   "execution_count": 31,
   "metadata": {},
   "outputs": [
    {
     "data": {
      "text/html": [
       "<div>\n",
       "<style scoped>\n",
       "    .dataframe tbody tr th:only-of-type {\n",
       "        vertical-align: middle;\n",
       "    }\n",
       "\n",
       "    .dataframe tbody tr th {\n",
       "        vertical-align: top;\n",
       "    }\n",
       "\n",
       "    .dataframe thead th {\n",
       "        text-align: right;\n",
       "    }\n",
       "</style>\n",
       "<table border=\"1\" class=\"dataframe\">\n",
       "  <thead>\n",
       "    <tr style=\"text-align: right;\">\n",
       "      <th></th>\n",
       "      <th>volume</th>\n",
       "      <th>name</th>\n",
       "      <th>objid</th>\n",
       "      <th>max_volume</th>\n",
       "      <th>description</th>\n",
       "      <th>replenish_rate</th>\n",
       "      <th>userguid</th>\n",
       "      <th>objtype</th>\n",
       "      <th>id</th>\n",
       "    </tr>\n",
       "  </thead>\n",
       "  <tbody>\n",
       "    <tr>\n",
       "      <th>0</th>\n",
       "      <td>1145</td>\n",
       "      <td>organics</td>\n",
       "      <td>0528623152769</td>\n",
       "      <td>1159</td>\n",
       "      <td>bilogical material that can be consumed by pops</td>\n",
       "      <td>10.0</td>\n",
       "      <td>8d5b667f-b225-4641-b499-73b77558ff86</td>\n",
       "      <td>resource</td>\n",
       "      <td>0528623152769</td>\n",
       "    </tr>\n",
       "    <tr>\n",
       "      <th>1</th>\n",
       "      <td>90</td>\n",
       "      <td>common minerals</td>\n",
       "      <td>1853839760845</td>\n",
       "      <td>90</td>\n",
       "      <td>Iron and other common material used in constru...</td>\n",
       "      <td>NaN</td>\n",
       "      <td>8d5b667f-b225-4641-b499-73b77558ff86</td>\n",
       "      <td>resource</td>\n",
       "      <td>1853839760845</td>\n",
       "    </tr>\n",
       "    <tr>\n",
       "      <th>2</th>\n",
       "      <td>63</td>\n",
       "      <td>rare minerals</td>\n",
       "      <td>7874781257076</td>\n",
       "      <td>63</td>\n",
       "      <td>lithium, silver and other rare minerals used i...</td>\n",
       "      <td>NaN</td>\n",
       "      <td>8d5b667f-b225-4641-b499-73b77558ff86</td>\n",
       "      <td>resource</td>\n",
       "      <td>7874781257076</td>\n",
       "    </tr>\n",
       "    <tr>\n",
       "      <th>3</th>\n",
       "      <td>10232</td>\n",
       "      <td>water</td>\n",
       "      <td>0025435962279</td>\n",
       "      <td>10232</td>\n",
       "      <td>H2O ready to be consumed, either frozen or in ...</td>\n",
       "      <td>NaN</td>\n",
       "      <td>8d5b667f-b225-4641-b499-73b77558ff86</td>\n",
       "      <td>resource</td>\n",
       "      <td>0025435962279</td>\n",
       "    </tr>\n",
       "  </tbody>\n",
       "</table>\n",
       "</div>"
      ],
      "text/plain": [
       "   volume             name          objid  max_volume  \\\n",
       "0    1145         organics  0528623152769        1159   \n",
       "1      90  common minerals  1853839760845          90   \n",
       "2      63    rare minerals  7874781257076          63   \n",
       "3   10232            water  0025435962279       10232   \n",
       "\n",
       "                                         description  replenish_rate  \\\n",
       "0    bilogical material that can be consumed by pops            10.0   \n",
       "1  Iron and other common material used in constru...             NaN   \n",
       "2  lithium, silver and other rare minerals used i...             NaN   \n",
       "3  H2O ready to be consumed, either frozen or in ...             NaN   \n",
       "\n",
       "                               userguid   objtype             id  \n",
       "0  8d5b667f-b225-4641-b499-73b77558ff86  resource  0528623152769  \n",
       "1  8d5b667f-b225-4641-b499-73b77558ff86  resource  1853839760845  \n",
       "2  8d5b667f-b225-4641-b499-73b77558ff86  resource  7874781257076  \n",
       "3  8d5b667f-b225-4641-b499-73b77558ff86  resource  0025435962279  "
      ]
     },
     "execution_count": 31,
     "metadata": {},
     "output_type": "execute_result"
    }
   ],
   "source": [
    "post_consumption"
   ]
  },
  {
   "attachments": {},
   "cell_type": "markdown",
   "metadata": {},
   "source": [
    "Now for the starving. Populations without enough food will starve (health declines). Populations with < 0 health will die."
   ]
  },
  {
   "cell_type": "code",
   "execution_count": 32,
   "metadata": {},
   "outputs": [
    {
     "data": {
      "text/html": [
       "<div>\n",
       "<style scoped>\n",
       "    .dataframe tbody tr th:only-of-type {\n",
       "        vertical-align: middle;\n",
       "    }\n",
       "\n",
       "    .dataframe tbody tr th {\n",
       "        vertical-align: top;\n",
       "    }\n",
       "\n",
       "    .dataframe thead th {\n",
       "        text-align: right;\n",
       "    }\n",
       "</style>\n",
       "<table border=\"1\" class=\"dataframe\">\n",
       "  <thead>\n",
       "    <tr style=\"text-align: right;\">\n",
       "      <th></th>\n",
       "      <th>location_id</th>\n",
       "      <th>consumes</th>\n",
       "      <th>pop</th>\n",
       "      <th>consumption</th>\n",
       "      <th>multi</th>\n",
       "      <th>available</th>\n",
       "      <th>remaining</th>\n",
       "    </tr>\n",
       "  </thead>\n",
       "  <tbody>\n",
       "    <tr>\n",
       "      <th>0</th>\n",
       "      <td>7851126304352</td>\n",
       "      <td>organics</td>\n",
       "      <td>7</td>\n",
       "      <td>14</td>\n",
       "      <td>False</td>\n",
       "      <td>1159.0</td>\n",
       "      <td>1145.0</td>\n",
       "    </tr>\n",
       "  </tbody>\n",
       "</table>\n",
       "</div>"
      ],
      "text/plain": [
       "     location_id  consumes pop consumption  multi  available  remaining\n",
       "0  7851126304352  organics   7          14  False     1159.0     1145.0"
      ]
     },
     "execution_count": 32,
     "metadata": {},
     "output_type": "execute_result"
    }
   ],
   "source": [
    "consumption_df"
   ]
  },
  {
   "cell_type": "code",
   "execution_count": 33,
   "metadata": {},
   "outputs": [
    {
     "name": "stdout",
     "output_type": "stream",
     "text": [
      "0 pops will starve in nan\n"
     ]
    },
    {
     "data": {
      "text/plain": [
       "Series([], dtype: float64)"
      ]
     },
     "execution_count": 33,
     "metadata": {},
     "output_type": "execute_result"
    }
   ],
   "source": [
    "consumption_df[consumption_df['remaining']<=0].apply(lambda x: consumption.lower_health(c,params,x),axis=1)"
   ]
  },
  {
   "attachments": {},
   "cell_type": "markdown",
   "metadata": {},
   "source": [
    "Looking more closely at `lower_health`\n",
    "This only happens on locations that have < 0 resources. But here we're going to do it regardless"
   ]
  },
  {
   "cell_type": "code",
   "execution_count": 46,
   "metadata": {},
   "outputs": [
    {
     "name": "stdout",
     "output_type": "stream",
     "text": [
      "location_id    9003968629604\n",
      "consumes            organics\n",
      "pop                       12\n",
      "consumption               24\n",
      "multi                  False\n",
      "available             1157.0\n",
      "remaining             1133.0\n",
      "Name: 0, dtype: object\n"
     ]
    },
    {
     "data": {
      "text/plain": [
       "{'labels': [['location'], ['pop'], ['species']],\n",
       " 'objects': [{'objid': ['9003968629604'], 'name': ['Kotlaymau']},\n",
       "  {'name': ['Tauraite Len'],\n",
       "   'objid': ['0670547457716'],\n",
       "   'health': [0.7],\n",
       "   'username': ['BillmanLocal2']},\n",
       "  {'name': ['Alman'], 'objid': ['3421173158043'], 'consumes': ['organics']}]}"
      ]
     },
     "execution_count": 46,
     "metadata": {},
     "output_type": "execute_result"
    }
   ],
   "source": [
    "x = consumption_df.loc[0]\n",
    "print(x)\n",
    "\n",
    "dead_pop_nodes = []\n",
    "dead_pop_ids = []\n",
    "death_event_edges = []\n",
    "query =f\"\"\"\n",
    "g.V().has('objid','{x.location_id}').as('location').in('inhabits')\n",
    "    .haslabel('pop').as('pop')\n",
    "    .out('isOf').as('species')\n",
    "    .path()\n",
    "        .by(valueMap('objid','name'))\n",
    "        .by(valueMap('name','objid','health','username'))\n",
    "        .by(valueMap('name','objid','consumes'))\n",
    "\"\"\"\n",
    "c.run_query(query)\n",
    "out = c.res\n",
    "out[0]"
   ]
  },
  {
   "cell_type": "markdown",
   "metadata": {},
   "source": [
    "## Looking more closely at starvation\n",
    "\n",
    "* Grab my testing planet, with people on it\n",
    "* Lower that amount of resource on that planet to 0\n",
    "* run the lower health metric\n",
    "* watch the people starve and die"
   ]
  },
  {
   "cell_type": "code",
   "execution_count": 47,
   "metadata": {},
   "outputs": [
    {
     "data": {
      "text/plain": [
       "{'name': 'Lecarrang',\n",
       " 'class': 'terrestrial',\n",
       " 'objid': '2423418653337',\n",
       " 'radius': 0.54,\n",
       " 'mass': 0.821,\n",
       " 'orbitsDistance': 0.939,\n",
       " 'orbitsId': '5618858323815',\n",
       " 'orbitsName': 'Senpol',\n",
       " 'isSupportsLife': 'true',\n",
       " 'isPopulated': 'true',\n",
       " 'isHomeworld': 'true',\n",
       " 'username': 'Billmanserver',\n",
       " 'objtype': 'planet',\n",
       " 'id': '2423418653337'}"
      ]
     },
     "execution_count": 47,
     "metadata": {},
     "output_type": "execute_result"
    }
   ],
   "source": [
    "username = 'Billmanserver'\n",
    "c.run_query(f\"\"\"\n",
    "            g.V().haslabel('planet').has('username','{username}').has('isPopulated','true').valuemap()\n",
    "    \"\"\")\n",
    "\n",
    "planet = c.clean_node(c.res[0])\n",
    "planet"
   ]
  },
  {
   "cell_type": "markdown",
   "metadata": {},
   "source": [
    "Grabbing that planets organics as well, and setting the amount of the organics to zero"
   ]
  },
  {
   "cell_type": "code",
   "execution_count": 48,
   "metadata": {},
   "outputs": [],
   "source": [
    "username = 'Billmanserver'\n",
    "c.run_query(f\"\"\"\n",
    "            g.V().haslabel('planet').has('username','{username}').has('isPopulated','true').out('has').has('name','Organic').property('volume',-1)\n",
    "    \"\"\")"
   ]
  },
  {
   "cell_type": "code",
   "execution_count": 49,
   "metadata": {},
   "outputs": [
    {
     "data": {
      "text/html": [
       "<div>\n",
       "<style scoped>\n",
       "    .dataframe tbody tr th:only-of-type {\n",
       "        vertical-align: middle;\n",
       "    }\n",
       "\n",
       "    .dataframe tbody tr th {\n",
       "        vertical-align: top;\n",
       "    }\n",
       "\n",
       "    .dataframe thead th {\n",
       "        text-align: right;\n",
       "    }\n",
       "</style>\n",
       "<table border=\"1\" class=\"dataframe\">\n",
       "  <thead>\n",
       "    <tr style=\"text-align: right;\">\n",
       "      <th></th>\n",
       "      <th>location_id</th>\n",
       "      <th>consumes</th>\n",
       "      <th>pop</th>\n",
       "      <th>consumption</th>\n",
       "      <th>multi</th>\n",
       "      <th>available</th>\n",
       "      <th>remaining</th>\n",
       "    </tr>\n",
       "  </thead>\n",
       "  <tbody>\n",
       "    <tr>\n",
       "      <th>0</th>\n",
       "      <td>9003968629604</td>\n",
       "      <td>organics</td>\n",
       "      <td>12</td>\n",
       "      <td>24</td>\n",
       "      <td>False</td>\n",
       "      <td>1157.0</td>\n",
       "      <td>1133.0</td>\n",
       "    </tr>\n",
       "  </tbody>\n",
       "</table>\n",
       "</div>"
      ],
      "text/plain": [
       "     location_id  consumes pop consumption  multi  available  remaining\n",
       "0  9003968629604  organics  12          24  False     1157.0     1133.0"
      ]
     },
     "execution_count": 49,
     "metadata": {},
     "output_type": "execute_result"
    }
   ],
   "source": [
    "consumption_df.loc[consumption_df['location_id']==planet['objid'],['remaining','available']] = -1\n",
    "consumption_df"
   ]
  },
  {
   "cell_type": "code",
   "execution_count": 50,
   "metadata": {},
   "outputs": [
    {
     "data": {
      "text/plain": [
       "{'volume': -1,\n",
       " 'name': 'Organic',\n",
       " 'objid': '5788906859522',\n",
       " 'max_volume': 1040,\n",
       " 'description': 'bilogical material that can be consumed by pops',\n",
       " 'replenish_rate': 10,\n",
       " 'username': 'Billmanserver',\n",
       " 'objtype': 'resource',\n",
       " 'id': '5788906859522'}"
      ]
     },
     "execution_count": 50,
     "metadata": {},
     "output_type": "execute_result"
    }
   ],
   "source": [
    "username = 'Billmanserver'\n",
    "c.run_query(f\"\"\"\n",
    "            g.V().haslabel('planet').has('username','{username}').has('isPopulated','true').out('has').valuemap()\n",
    "    \"\"\")\n",
    "\n",
    "organics = c.clean_node(c.res[0])\n",
    "organics"
   ]
  },
  {
   "cell_type": "markdown",
   "metadata": {},
   "source": [
    "Now that the resources are gone, the population should start to starve. "
   ]
  },
  {
   "cell_type": "code",
   "execution_count": 51,
   "metadata": {},
   "outputs": [
    {
     "name": "stdout",
     "output_type": "stream",
     "text": [
      "0 pops will starve in nan\n"
     ]
    },
    {
     "data": {
      "text/plain": [
       "Series([], dtype: float64)"
      ]
     },
     "execution_count": 51,
     "metadata": {},
     "output_type": "execute_result"
    }
   ],
   "source": [
    "consumption_df.loc[consumption_df['location_id']==planet['objid']].apply(lambda x: consumption.lower_health(c,params,x),axis=1)"
   ]
  },
  {
   "cell_type": "code",
   "execution_count": 52,
   "metadata": {},
   "outputs": [],
   "source": [
    "health_query =f\"\"\"\n",
    "    g.V().has('objid','{planet['objid']}').as('location').in('inhabits')\n",
    "        .haslabel('pop').as('pop')\n",
    "        .out('isOf').as('species')\n",
    "        .path()\n",
    "            .by(valueMap('objid','name'))\n",
    "            .by(valueMap('name','objid','health','username'))\n",
    "            .by(valueMap('name','objid','consumes'))\n",
    "\"\"\""
   ]
  },
  {
   "cell_type": "code",
   "execution_count": 53,
   "metadata": {},
   "outputs": [
    {
     "data": {
      "text/html": [
       "<div>\n",
       "<style scoped>\n",
       "    .dataframe tbody tr th:only-of-type {\n",
       "        vertical-align: middle;\n",
       "    }\n",
       "\n",
       "    .dataframe tbody tr th {\n",
       "        vertical-align: top;\n",
       "    }\n",
       "\n",
       "    .dataframe thead th {\n",
       "        text-align: right;\n",
       "    }\n",
       "</style>\n",
       "<table border=\"1\" class=\"dataframe\">\n",
       "  <thead>\n",
       "    <tr style=\"text-align: right;\">\n",
       "      <th></th>\n",
       "    </tr>\n",
       "  </thead>\n",
       "  <tbody>\n",
       "  </tbody>\n",
       "</table>\n",
       "</div>"
      ],
      "text/plain": [
       "Empty DataFrame\n",
       "Columns: []\n",
       "Index: []"
      ]
     },
     "execution_count": 53,
     "metadata": {},
     "output_type": "execute_result"
    }
   ],
   "source": [
    "c.run_query(health_query)\n",
    "out = c.res\n",
    "pd.DataFrame([i['objects'][1] for i in out])"
   ]
  },
  {
   "cell_type": "markdown",
   "metadata": {},
   "source": [
    "Run the following cells again and again to watch the health go down. "
   ]
  },
  {
   "cell_type": "code",
   "execution_count": 32,
   "metadata": {},
   "outputs": [
    {
     "name": "stdout",
     "output_type": "stream",
     "text": [
      "7 pops will starve in 1425359096973\n"
     ]
    },
    {
     "data": {
      "text/plain": [
       "0    None\n",
       "dtype: object"
      ]
     },
     "execution_count": 32,
     "metadata": {},
     "output_type": "execute_result"
    }
   ],
   "source": [
    "consumption_df.loc[consumption_df['location_id']==planet['objid']].apply(lambda x: consumption.lower_health(c,params,x),axis=1)"
   ]
  },
  {
   "cell_type": "code",
   "execution_count": 33,
   "metadata": {},
   "outputs": [
    {
     "data": {
      "text/html": [
       "<div>\n",
       "<style scoped>\n",
       "    .dataframe tbody tr th:only-of-type {\n",
       "        vertical-align: middle;\n",
       "    }\n",
       "\n",
       "    .dataframe tbody tr th {\n",
       "        vertical-align: top;\n",
       "    }\n",
       "\n",
       "    .dataframe thead th {\n",
       "        text-align: right;\n",
       "    }\n",
       "</style>\n",
       "<table border=\"1\" class=\"dataframe\">\n",
       "  <thead>\n",
       "    <tr style=\"text-align: right;\">\n",
       "      <th></th>\n",
       "      <th>name</th>\n",
       "      <th>objid</th>\n",
       "      <th>health</th>\n",
       "      <th>username</th>\n",
       "    </tr>\n",
       "  </thead>\n",
       "  <tbody>\n",
       "    <tr>\n",
       "      <th>0</th>\n",
       "      <td>[Aythakorei Or]</td>\n",
       "      <td>[9427021644478]</td>\n",
       "      <td>[0.5999999999999999]</td>\n",
       "      <td>[Billmanserver]</td>\n",
       "    </tr>\n",
       "    <tr>\n",
       "      <th>1</th>\n",
       "      <td>[Aythakorei Rezche]</td>\n",
       "      <td>[8742217486310]</td>\n",
       "      <td>[0.5999999999999999]</td>\n",
       "      <td>[Billmanserver]</td>\n",
       "    </tr>\n",
       "    <tr>\n",
       "      <th>2</th>\n",
       "      <td>[Aythakorei Burghuatoucal]</td>\n",
       "      <td>[2128380883047]</td>\n",
       "      <td>[0.5999999999999999]</td>\n",
       "      <td>[Billmanserver]</td>\n",
       "    </tr>\n",
       "    <tr>\n",
       "      <th>3</th>\n",
       "      <td>[Aythakorei Ton]</td>\n",
       "      <td>[6992584860189]</td>\n",
       "      <td>[0.5999999999999999]</td>\n",
       "      <td>[Billmanserver]</td>\n",
       "    </tr>\n",
       "    <tr>\n",
       "      <th>4</th>\n",
       "      <td>[Borgantasga Nak]</td>\n",
       "      <td>[7444602298651]</td>\n",
       "      <td>[0.5999999999999999]</td>\n",
       "      <td>[Billmanserver]</td>\n",
       "    </tr>\n",
       "    <tr>\n",
       "      <th>5</th>\n",
       "      <td>[Borgantasga Bin]</td>\n",
       "      <td>[7852618490329]</td>\n",
       "      <td>[0.5999999999999999]</td>\n",
       "      <td>[Billmanserver]</td>\n",
       "    </tr>\n",
       "    <tr>\n",
       "      <th>6</th>\n",
       "      <td>[Aythakorei Ziburgdiadan]</td>\n",
       "      <td>[3415888692185]</td>\n",
       "      <td>[0.5999999999999999]</td>\n",
       "      <td>[Billmanserver]</td>\n",
       "    </tr>\n",
       "  </tbody>\n",
       "</table>\n",
       "</div>"
      ],
      "text/plain": [
       "                         name            objid                health  \\\n",
       "0             [Aythakorei Or]  [9427021644478]  [0.5999999999999999]   \n",
       "1         [Aythakorei Rezche]  [8742217486310]  [0.5999999999999999]   \n",
       "2  [Aythakorei Burghuatoucal]  [2128380883047]  [0.5999999999999999]   \n",
       "3            [Aythakorei Ton]  [6992584860189]  [0.5999999999999999]   \n",
       "4           [Borgantasga Nak]  [7444602298651]  [0.5999999999999999]   \n",
       "5           [Borgantasga Bin]  [7852618490329]  [0.5999999999999999]   \n",
       "6   [Aythakorei Ziburgdiadan]  [3415888692185]  [0.5999999999999999]   \n",
       "\n",
       "          username  \n",
       "0  [Billmanserver]  \n",
       "1  [Billmanserver]  \n",
       "2  [Billmanserver]  \n",
       "3  [Billmanserver]  \n",
       "4  [Billmanserver]  \n",
       "5  [Billmanserver]  \n",
       "6  [Billmanserver]  "
      ]
     },
     "execution_count": 33,
     "metadata": {},
     "output_type": "execute_result"
    }
   ],
   "source": [
    "c.run_query(health_query)\n",
    "out = c.res\n",
    "pd.DataFrame([i['objects'][1] for i in out])"
   ]
  },
  {
   "cell_type": "code",
   "execution_count": 46,
   "metadata": {},
   "outputs": [
    {
     "name": "stdout",
     "output_type": "stream",
     "text": [
      "7 pops will starve in 1425359096973\n"
     ]
    },
    {
     "data": {
      "text/html": [
       "<div>\n",
       "<style scoped>\n",
       "    .dataframe tbody tr th:only-of-type {\n",
       "        vertical-align: middle;\n",
       "    }\n",
       "\n",
       "    .dataframe tbody tr th {\n",
       "        vertical-align: top;\n",
       "    }\n",
       "\n",
       "    .dataframe thead th {\n",
       "        text-align: right;\n",
       "    }\n",
       "</style>\n",
       "<table border=\"1\" class=\"dataframe\">\n",
       "  <thead>\n",
       "    <tr style=\"text-align: right;\">\n",
       "      <th></th>\n",
       "    </tr>\n",
       "  </thead>\n",
       "  <tbody>\n",
       "  </tbody>\n",
       "</table>\n",
       "</div>"
      ],
      "text/plain": [
       "Empty DataFrame\n",
       "Columns: []\n",
       "Index: []"
      ]
     },
     "execution_count": 46,
     "metadata": {},
     "output_type": "execute_result"
    }
   ],
   "source": [
    "consumption_df.loc[consumption_df['location_id']==planet['objid']].apply(lambda x: consumption.lower_health(c,params,x),axis=1)\n",
    "c.run_query(health_query)\n",
    "out = c.res\n",
    "pd.DataFrame([i['objects'][1] for i in out])"
   ]
  },
  {
   "cell_type": "code",
   "execution_count": null,
   "metadata": {},
   "outputs": [],
   "source": []
  },
  {
   "cell_type": "code",
   "execution_count": null,
   "metadata": {},
   "outputs": [],
   "source": []
  }
 ],
 "metadata": {
  "kernelspec": {
   "display_name": "exoplanets",
   "language": "python",
   "name": "python3"
  },
  "language_info": {
   "codemirror_mode": {
    "name": "ipython",
    "version": 3
   },
   "file_extension": ".py",
   "mimetype": "text/x-python",
   "name": "python",
   "nbconvert_exporter": "python",
   "pygments_lexer": "ipython3",
   "version": "3.8.16"
  },
  "orig_nbformat": 4,
  "vscode": {
   "interpreter": {
    "hash": "625a17269cb94aebb094cbcf5e0e8340f26b69d46569da60e8fc69439048adbf"
   }
  }
 },
 "nbformat": 4,
 "nbformat_minor": 2
}
