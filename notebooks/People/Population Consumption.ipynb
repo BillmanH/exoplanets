{
 "cells": [
  {
   "attachments": {},
   "cell_type": "markdown",
   "metadata": {},
   "source": [
    "## Population Resource Consumption"
   ]
  },
  {
   "cell_type": "code",
   "execution_count": 1,
   "metadata": {},
   "outputs": [],
   "source": [
    "import sys\n",
    "import numpy as np\n",
    "import pandas as pd\n",
    "import altair as alt\n",
    "\n",
    "# mapping to the modules that make the app\n",
    "sys.path.insert(0, \"../../az-function/\")\n",
    "\n",
    "import yaml, ssl, asyncio, pickle, os, ast\n",
    "\n",
    "ssl._create_default_https_context = ssl._create_unverified_context\n",
    "asyncio.set_event_loop_policy(asyncio.WindowsSelectorEventLoopPolicy())\n",
    "\n",
    "import nest_asyncio\n",
    "# this is required for running in a Jupyter Notebook. \n",
    "nest_asyncio.apply()"
   ]
  },
  {
   "cell_type": "markdown",
   "metadata": {},
   "source": [
    "Much of the Population growth is handled in scripts inside the Azure Function"
   ]
  },
  {
   "cell_type": "code",
   "execution_count": 2,
   "metadata": {},
   "outputs": [
    {
     "name": "stdout",
     "output_type": "stream",
     "text": [
      "executing local windows deployment\n"
     ]
    }
   ],
   "source": [
    "# mapping to the modules that make the app\n",
    "\n",
    "from app.connectors import cmdb_graph\n",
    "from app.functions import consumption\n",
    "from app.objects import time\n",
    "\n",
    "c = cmdb_graph.CosmosdbClient()\n"
   ]
  },
  {
   "cell_type": "code",
   "execution_count": 3,
   "metadata": {},
   "outputs": [],
   "source": [
    "params = yaml.safe_load(open(os.path.join(os.getenv(\"abspath\"),\"app/configurations/popgrowthconfig.yaml\")))\n",
    "syllables = pickle.load(open(os.path.join(os.getenv(\"abspath\"),\"app/creators/specs/syllables.p\"), \"rb\"))\n",
    "username = 'notebook'"
   ]
  },
  {
   "attachments": {},
   "cell_type": "markdown",
   "metadata": {},
   "source": [
    "Time is updated by the `time` function. It is always running."
   ]
  },
  {
   "cell_type": "code",
   "execution_count": 4,
   "metadata": {},
   "outputs": [
    {
     "data": {
      "text/plain": [
       "< time at: 2024-06-02T15:46:19.932267+00:00 UTU:17943 >"
      ]
     },
     "execution_count": 4,
     "metadata": {},
     "output_type": "execute_result"
    }
   ],
   "source": [
    "t = time.Time(c)\n",
    "t.get_current_UTU()\n",
    "params['currentTime'] = t.params['currentTime']\n",
    "t"
   ]
  },
  {
   "cell_type": "code",
   "execution_count": 5,
   "metadata": {},
   "outputs": [
    {
     "data": {
      "text/plain": [
       "{'pop_health_requirement': 0.7,\n",
       " 'pop_consumes': 2,\n",
       " 'starve_damage': 0.05,\n",
       " 'changing_values': ['conformity',\n",
       "  'literacy',\n",
       "  'aggression',\n",
       "  'constitution',\n",
       "  'wealth',\n",
       "  'factionLoyalty'],\n",
       " 'currentTime': 17943}"
      ]
     },
     "execution_count": 5,
     "metadata": {},
     "output_type": "execute_result"
    }
   ],
   "source": [
    "params"
   ]
  },
  {
   "attachments": {},
   "cell_type": "markdown",
   "metadata": {},
   "source": [
    "For this notebook, setting the `pop_health_requirement` to an arbitrary value just to examine."
   ]
  },
  {
   "attachments": {},
   "cell_type": "markdown",
   "metadata": {},
   "source": [
    "# Calculation which planets will consume"
   ]
  },
  {
   "attachments": {},
   "cell_type": "markdown",
   "metadata": {},
   "source": [
    "I've given up on trying to get a list of planets with the consumption type. I'm convinced that this could be an Azure Cosmos issue that I can't solve. \n",
    "\n",
    "```\n",
    "g.V().has('label','planet').\n",
    "    project('planetName', 'grouping').\n",
    "        by('name').\n",
    "        by(in('inhabits').out('isOf').as('species').groupCount().by('consumes'))\n",
    "```"
   ]
  },
  {
   "cell_type": "markdown",
   "metadata": {},
   "source": [
    "So first we are going to get a list of the locations who have populations. It could be any location, including planets. So I'm going to query based on "
   ]
  },
  {
   "cell_type": "code",
   "execution_count": 14,
   "metadata": {},
   "outputs": [
    {
     "data": {
      "text/plain": [
       "[{'name': 'Damshamunling',\n",
       "  'label': 'planet',\n",
       "  'objid': '6135767546801',\n",
       "  'consumes': [{'organics': 7}]},\n",
       " {'name': 'Teinspringsgio',\n",
       "  'label': 'planet',\n",
       "  'objid': '9482778660790',\n",
       "  'consumes': [{'organics': 7}]}]"
      ]
     },
     "execution_count": 14,
     "metadata": {},
     "output_type": "execute_result"
    }
   ],
   "source": [
    "consuming_planets = consumption.get_consuming_planets(c)\n",
    "consuming_planets"
   ]
  },
  {
   "cell_type": "markdown",
   "metadata": {},
   "source": [
    "Then we will create an action event for each pop"
   ]
  },
  {
   "cell_type": "code",
   "execution_count": 17,
   "metadata": {},
   "outputs": [
    {
     "data": {
      "text/plain": [
       "{'agent': {'name': 'Damshamunling',\n",
       "  'label': 'planet',\n",
       "  'objid': '6135767546801',\n",
       "  'consumes': [{'organics': 7}]},\n",
       " 'action': 'consume'}"
      ]
     },
     "execution_count": 17,
     "metadata": {},
     "output_type": "execute_result"
    }
   ],
   "source": [
    "message = consumption.get_consumption_message(consuming_planets[0])\n",
    "message"
   ]
  },
  {
   "cell_type": "markdown",
   "metadata": {},
   "source": [
    "## Consuming\n",
    "\n"
   ]
  },
  {
   "cell_type": "code",
   "execution_count": 41,
   "metadata": {},
   "outputs": [
    {
     "name": "stdout",
     "output_type": "stream",
     "text": [
      "resources on Damshamunling reduced by 7, 979-> 972\n",
      "{'volume': 979, 'name': 'organics', 'objid': '6439289323440', 'max_volume': 1007, 'description': 'bilogical material that can be consumed by pops', 'replenish_rate': 10, 'userguid': '8d5b667f-b225-4641-b499-73b77558ff86', 'objtype': 'resource', 'id': '6439289323440'}\n"
     ]
    }
   ],
   "source": [
    "def reduce_location_resource(c,message, consumption):\n",
    "    # find out if the location has the resource\n",
    "    objid = message['agent']['objid']\n",
    "    consuming = list(consumption.keys())[0]\n",
    "    quantity = list(consumption.values())[0]\n",
    "    resource_query = f\"\"\"\n",
    "    g.V().has('objid','{objid}').out('has').has('label','resource').has('name','{consuming}').valuemap()\n",
    "    \"\"\"\n",
    "    c.run_query(resource_query)\n",
    "    if len(c.res) != 1:\n",
    "        print(f\"{objid} has a resource issue - c.res:{c.res}\")\n",
    "    resource = c.clean_nodes(c.res)[0]\n",
    "    if resource['volume'] > quantity:\n",
    "        new_volume = resource['volume'] - quantity\n",
    "        patch_resource_query = f\"\"\"\n",
    "        g.V().has('objid','{objid}').out('has').has('label','resource').has('name','{consuming}')\n",
    "            .property('volume', {new_volume})\n",
    "        \"\"\"\n",
    "        c.run_query(patch_resource_query)\n",
    "        print(f\"resources on {message['agent']['name']} reduced by {quantity}, {resource['volume']}-> {new_volume}\")\n",
    "    if resource['volume'] <= quantity:\n",
    "        new_volume = 0\n",
    "        patch_resource_query = f\"\"\"\n",
    "        g.V().has('objid','{objid}').out('has').has('label','resource').has('name','{consuming}')\n",
    "            .property('volume', {new_volume})\n",
    "        \"\"\"\n",
    "        c.run_query(patch_resource_query)\n",
    "        print(f\"resources on {message['agent']['name']} reduced by {quantity}, People at this location will starve.\")\n",
    "    return resource\n",
    "\n",
    "\n",
    "for resource in message['agent']['consumes']:\n",
    "    # print(message['agent'], resource)\n",
    "    resource =reduce_location_resource(c,message,resource)\n",
    "    print(resource)\n",
    "    "
   ]
  },
  {
   "cell_type": "markdown",
   "metadata": {},
   "source": [
    "Grabbing that planets organics as well, and setting the amount of the organics to zero"
   ]
  },
  {
   "cell_type": "markdown",
   "metadata": {},
   "source": [
    "Now that the resources are gone, the population should start to starve. "
   ]
  },
  {
   "cell_type": "code",
   "execution_count": 51,
   "metadata": {},
   "outputs": [
    {
     "name": "stdout",
     "output_type": "stream",
     "text": [
      "0 pops will starve in nan\n"
     ]
    },
    {
     "data": {
      "text/plain": [
       "Series([], dtype: float64)"
      ]
     },
     "execution_count": 51,
     "metadata": {},
     "output_type": "execute_result"
    }
   ],
   "source": [
    "consumption_df.loc[consumption_df['location_id']==planet['objid']].apply(lambda x: consumption.lower_health(c,params,x),axis=1)"
   ]
  },
  {
   "cell_type": "code",
   "execution_count": 52,
   "metadata": {},
   "outputs": [],
   "source": [
    "health_query =f\"\"\"\n",
    "    g.V().has('objid','{planet['objid']}').as('location').in('inhabits')\n",
    "        .haslabel('pop').as('pop')\n",
    "        .out('isOf').as('species')\n",
    "        .path()\n",
    "            .by(valueMap('objid','name'))\n",
    "            .by(valueMap('name','objid','health','username'))\n",
    "            .by(valueMap('name','objid','consumes'))\n",
    "\"\"\""
   ]
  },
  {
   "cell_type": "code",
   "execution_count": 53,
   "metadata": {},
   "outputs": [
    {
     "data": {
      "text/html": [
       "<div>\n",
       "<style scoped>\n",
       "    .dataframe tbody tr th:only-of-type {\n",
       "        vertical-align: middle;\n",
       "    }\n",
       "\n",
       "    .dataframe tbody tr th {\n",
       "        vertical-align: top;\n",
       "    }\n",
       "\n",
       "    .dataframe thead th {\n",
       "        text-align: right;\n",
       "    }\n",
       "</style>\n",
       "<table border=\"1\" class=\"dataframe\">\n",
       "  <thead>\n",
       "    <tr style=\"text-align: right;\">\n",
       "      <th></th>\n",
       "    </tr>\n",
       "  </thead>\n",
       "  <tbody>\n",
       "  </tbody>\n",
       "</table>\n",
       "</div>"
      ],
      "text/plain": [
       "Empty DataFrame\n",
       "Columns: []\n",
       "Index: []"
      ]
     },
     "execution_count": 53,
     "metadata": {},
     "output_type": "execute_result"
    }
   ],
   "source": [
    "c.run_query(health_query)\n",
    "out = c.res\n",
    "pd.DataFrame([i['objects'][1] for i in out])"
   ]
  },
  {
   "cell_type": "markdown",
   "metadata": {},
   "source": [
    "Run the following cells again and again to watch the health go down. "
   ]
  },
  {
   "cell_type": "code",
   "execution_count": 32,
   "metadata": {},
   "outputs": [
    {
     "name": "stdout",
     "output_type": "stream",
     "text": [
      "7 pops will starve in 1425359096973\n"
     ]
    },
    {
     "data": {
      "text/plain": [
       "0    None\n",
       "dtype: object"
      ]
     },
     "execution_count": 32,
     "metadata": {},
     "output_type": "execute_result"
    }
   ],
   "source": [
    "consumption_df.loc[consumption_df['location_id']==planet['objid']].apply(lambda x: consumption.lower_health(c,params,x),axis=1)"
   ]
  },
  {
   "cell_type": "code",
   "execution_count": 33,
   "metadata": {},
   "outputs": [
    {
     "data": {
      "text/html": [
       "<div>\n",
       "<style scoped>\n",
       "    .dataframe tbody tr th:only-of-type {\n",
       "        vertical-align: middle;\n",
       "    }\n",
       "\n",
       "    .dataframe tbody tr th {\n",
       "        vertical-align: top;\n",
       "    }\n",
       "\n",
       "    .dataframe thead th {\n",
       "        text-align: right;\n",
       "    }\n",
       "</style>\n",
       "<table border=\"1\" class=\"dataframe\">\n",
       "  <thead>\n",
       "    <tr style=\"text-align: right;\">\n",
       "      <th></th>\n",
       "      <th>name</th>\n",
       "      <th>objid</th>\n",
       "      <th>health</th>\n",
       "      <th>username</th>\n",
       "    </tr>\n",
       "  </thead>\n",
       "  <tbody>\n",
       "    <tr>\n",
       "      <th>0</th>\n",
       "      <td>[Aythakorei Or]</td>\n",
       "      <td>[9427021644478]</td>\n",
       "      <td>[0.5999999999999999]</td>\n",
       "      <td>[Billmanserver]</td>\n",
       "    </tr>\n",
       "    <tr>\n",
       "      <th>1</th>\n",
       "      <td>[Aythakorei Rezche]</td>\n",
       "      <td>[8742217486310]</td>\n",
       "      <td>[0.5999999999999999]</td>\n",
       "      <td>[Billmanserver]</td>\n",
       "    </tr>\n",
       "    <tr>\n",
       "      <th>2</th>\n",
       "      <td>[Aythakorei Burghuatoucal]</td>\n",
       "      <td>[2128380883047]</td>\n",
       "      <td>[0.5999999999999999]</td>\n",
       "      <td>[Billmanserver]</td>\n",
       "    </tr>\n",
       "    <tr>\n",
       "      <th>3</th>\n",
       "      <td>[Aythakorei Ton]</td>\n",
       "      <td>[6992584860189]</td>\n",
       "      <td>[0.5999999999999999]</td>\n",
       "      <td>[Billmanserver]</td>\n",
       "    </tr>\n",
       "    <tr>\n",
       "      <th>4</th>\n",
       "      <td>[Borgantasga Nak]</td>\n",
       "      <td>[7444602298651]</td>\n",
       "      <td>[0.5999999999999999]</td>\n",
       "      <td>[Billmanserver]</td>\n",
       "    </tr>\n",
       "    <tr>\n",
       "      <th>5</th>\n",
       "      <td>[Borgantasga Bin]</td>\n",
       "      <td>[7852618490329]</td>\n",
       "      <td>[0.5999999999999999]</td>\n",
       "      <td>[Billmanserver]</td>\n",
       "    </tr>\n",
       "    <tr>\n",
       "      <th>6</th>\n",
       "      <td>[Aythakorei Ziburgdiadan]</td>\n",
       "      <td>[3415888692185]</td>\n",
       "      <td>[0.5999999999999999]</td>\n",
       "      <td>[Billmanserver]</td>\n",
       "    </tr>\n",
       "  </tbody>\n",
       "</table>\n",
       "</div>"
      ],
      "text/plain": [
       "                         name            objid                health  \\\n",
       "0             [Aythakorei Or]  [9427021644478]  [0.5999999999999999]   \n",
       "1         [Aythakorei Rezche]  [8742217486310]  [0.5999999999999999]   \n",
       "2  [Aythakorei Burghuatoucal]  [2128380883047]  [0.5999999999999999]   \n",
       "3            [Aythakorei Ton]  [6992584860189]  [0.5999999999999999]   \n",
       "4           [Borgantasga Nak]  [7444602298651]  [0.5999999999999999]   \n",
       "5           [Borgantasga Bin]  [7852618490329]  [0.5999999999999999]   \n",
       "6   [Aythakorei Ziburgdiadan]  [3415888692185]  [0.5999999999999999]   \n",
       "\n",
       "          username  \n",
       "0  [Billmanserver]  \n",
       "1  [Billmanserver]  \n",
       "2  [Billmanserver]  \n",
       "3  [Billmanserver]  \n",
       "4  [Billmanserver]  \n",
       "5  [Billmanserver]  \n",
       "6  [Billmanserver]  "
      ]
     },
     "execution_count": 33,
     "metadata": {},
     "output_type": "execute_result"
    }
   ],
   "source": [
    "c.run_query(health_query)\n",
    "out = c.res\n",
    "pd.DataFrame([i['objects'][1] for i in out])"
   ]
  },
  {
   "cell_type": "code",
   "execution_count": 46,
   "metadata": {},
   "outputs": [
    {
     "name": "stdout",
     "output_type": "stream",
     "text": [
      "7 pops will starve in 1425359096973\n"
     ]
    },
    {
     "data": {
      "text/html": [
       "<div>\n",
       "<style scoped>\n",
       "    .dataframe tbody tr th:only-of-type {\n",
       "        vertical-align: middle;\n",
       "    }\n",
       "\n",
       "    .dataframe tbody tr th {\n",
       "        vertical-align: top;\n",
       "    }\n",
       "\n",
       "    .dataframe thead th {\n",
       "        text-align: right;\n",
       "    }\n",
       "</style>\n",
       "<table border=\"1\" class=\"dataframe\">\n",
       "  <thead>\n",
       "    <tr style=\"text-align: right;\">\n",
       "      <th></th>\n",
       "    </tr>\n",
       "  </thead>\n",
       "  <tbody>\n",
       "  </tbody>\n",
       "</table>\n",
       "</div>"
      ],
      "text/plain": [
       "Empty DataFrame\n",
       "Columns: []\n",
       "Index: []"
      ]
     },
     "execution_count": 46,
     "metadata": {},
     "output_type": "execute_result"
    }
   ],
   "source": [
    "consumption_df.loc[consumption_df['location_id']==planet['objid']].apply(lambda x: consumption.lower_health(c,params,x),axis=1)\n",
    "c.run_query(health_query)\n",
    "out = c.res\n",
    "pd.DataFrame([i['objects'][1] for i in out])"
   ]
  },
  {
   "cell_type": "code",
   "execution_count": null,
   "metadata": {},
   "outputs": [],
   "source": []
  },
  {
   "cell_type": "code",
   "execution_count": null,
   "metadata": {},
   "outputs": [],
   "source": []
  }
 ],
 "metadata": {
  "kernelspec": {
   "display_name": "exoplanets",
   "language": "python",
   "name": "python3"
  },
  "language_info": {
   "codemirror_mode": {
    "name": "ipython",
    "version": 3
   },
   "file_extension": ".py",
   "mimetype": "text/x-python",
   "name": "python",
   "nbconvert_exporter": "python",
   "pygments_lexer": "ipython3",
   "version": "3.8.16"
  },
  "orig_nbformat": 4,
  "vscode": {
   "interpreter": {
    "hash": "625a17269cb94aebb094cbcf5e0e8340f26b69d46569da60e8fc69439048adbf"
   }
  }
 },
 "nbformat": 4,
 "nbformat_minor": 2
}
