{
 "cells": [
  {
   "attachments": {},
   "cell_type": "markdown",
   "metadata": {},
   "source": [
    "## Population Resource Consumption"
   ]
  },
  {
   "cell_type": "code",
   "execution_count": 1,
   "metadata": {},
   "outputs": [],
   "source": [
    "import sys\n",
    "import numpy as np\n",
    "import pandas as pd\n",
    "import altair as alt\n",
    "\n",
    "# mapping to the modules that make the app\n",
    "sys.path.insert(0, \"../../az-function/\")\n",
    "\n",
    "import yaml, ssl, asyncio, pickle, os, ast\n",
    "\n",
    "ssl._create_default_https_context = ssl._create_unverified_context\n",
    "asyncio.set_event_loop_policy(asyncio.WindowsSelectorEventLoopPolicy())\n",
    "\n",
    "import nest_asyncio\n",
    "# this is required for running in a Jupyter Notebook. \n",
    "nest_asyncio.apply()"
   ]
  },
  {
   "cell_type": "markdown",
   "metadata": {},
   "source": [
    "Much of the Population growth is handled in scripts inside the Azure Function"
   ]
  },
  {
   "cell_type": "code",
   "execution_count": 2,
   "metadata": {},
   "outputs": [
    {
     "name": "stdout",
     "output_type": "stream",
     "text": [
      "executing local windows deployment\n"
     ]
    }
   ],
   "source": [
    "# mapping to the modules that make the app\n",
    "\n",
    "from app.connectors import cmdb_graph\n",
    "from app.functions import consumption\n",
    "from app.objects import time\n",
    "\n",
    "c = cmdb_graph.CosmosdbClient()\n"
   ]
  },
  {
   "cell_type": "code",
   "execution_count": 3,
   "metadata": {},
   "outputs": [],
   "source": [
    "params = yaml.safe_load(open(os.path.join(os.getenv(\"abspath\"),\"app/configurations/popgrowthconfig.yaml\")))\n",
    "syllables = pickle.load(open(os.path.join(os.getenv(\"abspath\"),\"app/creators/specs/syllables.p\"), \"rb\"))\n",
    "username = 'notebook'"
   ]
  },
  {
   "attachments": {},
   "cell_type": "markdown",
   "metadata": {},
   "source": [
    "Time is updated by the `time` function. It is always running."
   ]
  },
  {
   "cell_type": "code",
   "execution_count": 4,
   "metadata": {},
   "outputs": [
    {
     "data": {
      "text/plain": [
       "< time at: 2024-06-02T19:25:51.614561+00:00 UTU:17981 >"
      ]
     },
     "execution_count": 4,
     "metadata": {},
     "output_type": "execute_result"
    }
   ],
   "source": [
    "t = time.Time(c)\n",
    "t.get_current_UTU()\n",
    "params['currentTime'] = t.params['currentTime']\n",
    "t"
   ]
  },
  {
   "cell_type": "code",
   "execution_count": 5,
   "metadata": {},
   "outputs": [
    {
     "data": {
      "text/plain": [
       "{'pop_health_requirement': 0.7,\n",
       " 'pop_consumes': 2,\n",
       " 'starve_damage': 0.05,\n",
       " 'changing_values': ['conformity',\n",
       "  'literacy',\n",
       "  'aggression',\n",
       "  'constitution',\n",
       "  'wealth',\n",
       "  'factionLoyalty'],\n",
       " 'currentTime': 17981}"
      ]
     },
     "execution_count": 5,
     "metadata": {},
     "output_type": "execute_result"
    }
   ],
   "source": [
    "params"
   ]
  },
  {
   "attachments": {},
   "cell_type": "markdown",
   "metadata": {},
   "source": [
    "For this notebook, setting the `pop_health_requirement` to an arbitrary value just to examine."
   ]
  },
  {
   "attachments": {},
   "cell_type": "markdown",
   "metadata": {},
   "source": [
    "# Calculation which planets will consume"
   ]
  },
  {
   "attachments": {},
   "cell_type": "markdown",
   "metadata": {},
   "source": [
    "I've given up on trying to get a list of planets with the consumption type. I'm convinced that this could be an Azure Cosmos issue that I can't solve. \n",
    "\n",
    "```\n",
    "g.V().has('label','planet').\n",
    "    project('planetName', 'grouping').\n",
    "        by('name').\n",
    "        by(in('inhabits').out('isOf').as('species').groupCount().by('consumes'))\n",
    "```"
   ]
  },
  {
   "cell_type": "markdown",
   "metadata": {},
   "source": [
    "So first we are going to get a list of the locations who have populations. It could be any location, including planets. So I'm going to query based on "
   ]
  },
  {
   "cell_type": "code",
   "execution_count": 6,
   "metadata": {},
   "outputs": [
    {
     "data": {
      "text/plain": [
       "[{'name': 'Damshamunling',\n",
       "  'label': 'planet',\n",
       "  'objid': '6135767546801',\n",
       "  'consumes': [{'organics': 7}]},\n",
       " {'name': 'Teinspringsgio',\n",
       "  'label': 'planet',\n",
       "  'objid': '9482778660790',\n",
       "  'consumes': [{'organics': 7}]}]"
      ]
     },
     "execution_count": 6,
     "metadata": {},
     "output_type": "execute_result"
    }
   ],
   "source": [
    "consuming_planets = consumption.get_consuming_planets(c)\n",
    "consuming_planets"
   ]
  },
  {
   "cell_type": "markdown",
   "metadata": {},
   "source": [
    "Then we will create an action event for each pop"
   ]
  },
  {
   "cell_type": "code",
   "execution_count": 7,
   "metadata": {},
   "outputs": [
    {
     "data": {
      "text/plain": [
       "{'agent': {'name': 'Damshamunling',\n",
       "  'label': 'planet',\n",
       "  'objid': '6135767546801',\n",
       "  'consumes': [{'organics': 7}]},\n",
       " 'action': 'consume'}"
      ]
     },
     "execution_count": 7,
     "metadata": {},
     "output_type": "execute_result"
    }
   ],
   "source": [
    "message = consumption.get_consumption_message(consuming_planets[0])\n",
    "message"
   ]
  },
  {
   "cell_type": "markdown",
   "metadata": {},
   "source": [
    "## Consuming\n",
    "\n"
   ]
  },
  {
   "cell_type": "code",
   "execution_count": 9,
   "metadata": {},
   "outputs": [
    {
     "name": "stdout",
     "output_type": "stream",
     "text": [
      "resources on Damshamunling reduced by 7, 839-> 832\n",
      "{'volume': 839, 'name': 'organics', 'objid': '6439289323440', 'max_volume': 1007, 'description': 'bilogical material that can be consumed by pops', 'replenish_rate': 10, 'userguid': '8d5b667f-b225-4641-b499-73b77558ff86', 'objtype': 'resource', 'id': '6439289323440'}\n"
     ]
    }
   ],
   "source": [
    "def reduce_location_resource(c,message, consumption):\n",
    "    # find out if the location has the resource\n",
    "    objid = message['agent']['objid']\n",
    "    consuming = list(consumption.keys())[0]\n",
    "    quantity = list(consumption.values())[0]\n",
    "    resource_query = f\"\"\"\n",
    "    g.V().has('objid','{objid}').out('has').has('label','resource').has('name','{consuming}').valuemap()\n",
    "    \"\"\"\n",
    "    c.run_query(resource_query)\n",
    "    if len(c.res) != 1:\n",
    "        print(f\"{objid} has a resource issue - c.res:{c.res}\")\n",
    "    resource = c.clean_nodes(c.res)[0]\n",
    "    if resource['volume'] > quantity:\n",
    "        new_volume = resource['volume'] - quantity\n",
    "        patch_resource_query = f\"\"\"\n",
    "        g.V().has('objid','{objid}').out('has').has('label','resource').has('name','{consuming}')\n",
    "            .property('volume', {new_volume})\n",
    "        \"\"\"\n",
    "        c.run_query(patch_resource_query)\n",
    "        print(f\"resources on {message['agent']['name']} reduced by {quantity}, {resource['volume']}-> {new_volume}\")\n",
    "    if resource['volume'] <= quantity:\n",
    "        new_volume = 0\n",
    "        patch_resource_query = f\"\"\"\n",
    "        g.V().has('objid','{objid}').out('has').has('label','resource').has('name','{consuming}')\n",
    "            .property('volume', {new_volume})\n",
    "        \"\"\"\n",
    "        c.run_query(patch_resource_query)\n",
    "        print(f\"resources on {message['agent']['name']} reduced by {quantity}, People at this location will starve.\")\n",
    "    return resource\n",
    "\n",
    "\n",
    "for resource in message['agent']['consumes']:\n",
    "    # print(message['agent'], resource)\n",
    "    resource =reduce_location_resource(c,message,resource)\n",
    "    print(resource)\n",
    "    "
   ]
  },
  {
   "cell_type": "markdown",
   "metadata": {},
   "source": [
    "# Renewing Resources"
   ]
  },
  {
   "cell_type": "code",
   "execution_count": 10,
   "metadata": {},
   "outputs": [],
   "source": [
    "renewing_resources_query =f\"\"\"\n",
    "   g.V().has('label','resource').has('replenish_rate').valuemap()\n",
    "\"\"\""
   ]
  },
  {
   "cell_type": "code",
   "execution_count": 11,
   "metadata": {},
   "outputs": [
    {
     "data": {
      "text/plain": [
       "[{'replenish_rate': 10,\n",
       "  'volume': 159,\n",
       "  'name': 'Organic',\n",
       "  'objid': '4182507921316',\n",
       "  'max_volume': 895,\n",
       "  'description': 'bilogical material that can be consumed by pops',\n",
       "  'username': 'manderson',\n",
       "  'objtype': 'resource',\n",
       "  'id': '4182507921316'},\n",
       " {'replenish_rate': 10,\n",
       "  'volume': 9,\n",
       "  'name': 'organics',\n",
       "  'objid': '9706157180627',\n",
       "  'max_volume': 1095,\n",
       "  'description': 'bilogical material that can be consumed by pops',\n",
       "  'username': 'Billmanserver',\n",
       "  'objtype': 'resource',\n",
       "  'id': '9706157180627'},\n",
       " {'replenish_rate': 10,\n",
       "  'volume': 525,\n",
       "  'name': 'organics',\n",
       "  'objid': '0058029712212',\n",
       "  'max_volume': 1051,\n",
       "  'description': 'bilogical material that can be consumed by pops',\n",
       "  'username': 'BillmanLocal2',\n",
       "  'objtype': 'resource',\n",
       "  'id': '0058029712212'},\n",
       " {'replenish_rate': 10,\n",
       "  'name': 'organics',\n",
       "  'objid': '7450760547046',\n",
       "  'volume': 850,\n",
       "  'max_volume': 850,\n",
       "  'description': 'bilogical material that can be consumed by pops',\n",
       "  'username': 'william.jeffrey.harding@gmail.com',\n",
       "  'objtype': 'resource',\n",
       "  'id': '7450760547046'},\n",
       " {'replenish_rate': 10,\n",
       "  'name': 'organics',\n",
       "  'objid': '4994136174182',\n",
       "  'volume': 968,\n",
       "  'max_volume': 968,\n",
       "  'description': 'bilogical material that can be consumed by pops',\n",
       "  'username': 'BillmanLocal',\n",
       "  'objtype': 'resource',\n",
       "  'id': '4994136174182'},\n",
       " {'replenish_rate': 10,\n",
       "  'name': 'organics',\n",
       "  'objid': '5943833201995',\n",
       "  'volume': 1050,\n",
       "  'max_volume': 1050,\n",
       "  'description': 'bilogical material that can be consumed by pops',\n",
       "  'username': 'william.harding@avanade.com',\n",
       "  'objtype': 'resource',\n",
       "  'id': '5943833201995'},\n",
       " {'replenish_rate': 10,\n",
       "  'name': 'organics',\n",
       "  'objid': '5093982959216',\n",
       "  'volume': 884,\n",
       "  'max_volume': 884,\n",
       "  'description': 'bilogical material that can be consumed by pops',\n",
       "  'username': '',\n",
       "  'objtype': 'resource',\n",
       "  'id': '5093982959216'},\n",
       " {'replenish_rate': 10,\n",
       "  'name': 'organics',\n",
       "  'objid': '9365823173233',\n",
       "  'volume': 1107,\n",
       "  'max_volume': 1107,\n",
       "  'description': 'bilogical material that can be consumed by pops',\n",
       "  'username': '8d5b667f-b225-4641-b499-73b77558ff86',\n",
       "  'objtype': 'resource',\n",
       "  'id': '9365823173233'},\n",
       " {'replenish_rate': 10,\n",
       "  'name': 'organics',\n",
       "  'objid': '1528122914361',\n",
       "  'volume': 979,\n",
       "  'max_volume': 979,\n",
       "  'description': 'bilogical material that can be consumed by pops',\n",
       "  'username': '8d5b667f-b225-4641-b499-73b77558ff86',\n",
       "  'objtype': 'resource',\n",
       "  'id': '1528122914361'},\n",
       " {'replenish_rate': 10,\n",
       "  'name': 'organics',\n",
       "  'objid': '8554977397617',\n",
       "  'volume': 1048,\n",
       "  'max_volume': 1048,\n",
       "  'description': 'bilogical material that can be consumed by pops',\n",
       "  'username': '8d5b667f-b225-4641-b499-73b77558ff86',\n",
       "  'objtype': 'resource',\n",
       "  'id': '8554977397617'},\n",
       " {'replenish_rate': 10,\n",
       "  'name': 'organics',\n",
       "  'objid': '7545614794726',\n",
       "  'volume': 1221,\n",
       "  'max_volume': 1221,\n",
       "  'description': 'bilogical material that can be consumed by pops',\n",
       "  'username': '8d5b667f-b225-4641-b499-73b77558ff86',\n",
       "  'objtype': 'resource',\n",
       "  'id': '7545614794726'},\n",
       " {'replenish_rate': 10,\n",
       "  'name': 'organics',\n",
       "  'objid': '3206333545102',\n",
       "  'volume': 860,\n",
       "  'max_volume': 860,\n",
       "  'description': 'bilogical material that can be consumed by pops',\n",
       "  'username': '8d5b667f-b225-4641-b499-73b77558ff86',\n",
       "  'objtype': 'resource',\n",
       "  'id': '3206333545102'},\n",
       " {'replenish_rate': 10,\n",
       "  'name': 'organics',\n",
       "  'objid': '8200907428131',\n",
       "  'volume': 1049,\n",
       "  'max_volume': 1049,\n",
       "  'description': 'bilogical material that can be consumed by pops',\n",
       "  'username': '8d5b667f-b225-4641-b499-73b77558ff86',\n",
       "  'objtype': 'resource',\n",
       "  'id': '8200907428131'},\n",
       " {'replenish_rate': 10,\n",
       "  'name': 'organics',\n",
       "  'objid': '0851975454380',\n",
       "  'volume': 1057,\n",
       "  'max_volume': 1057,\n",
       "  'description': 'bilogical material that can be consumed by pops',\n",
       "  'username': '8d5b667f-b225-4641-b499-73b77558ff86',\n",
       "  'objtype': 'resource',\n",
       "  'id': '0851975454380'},\n",
       " {'replenish_rate': 10,\n",
       "  'name': 'organics',\n",
       "  'objid': '3232796150253',\n",
       "  'volume': 886,\n",
       "  'max_volume': 886,\n",
       "  'description': 'bilogical material that can be consumed by pops',\n",
       "  'username': '8d5b667f-b225-4641-b499-73b77558ff86',\n",
       "  'objtype': 'resource',\n",
       "  'id': '3232796150253'},\n",
       " {'replenish_rate': 10,\n",
       "  'name': 'organics',\n",
       "  'objid': '5882410322230',\n",
       "  'volume': 818,\n",
       "  'max_volume': 818,\n",
       "  'description': 'bilogical material that can be consumed by pops',\n",
       "  'username': '8d5b667f-b225-4641-b499-73b77558ff86',\n",
       "  'objtype': 'resource',\n",
       "  'id': '5882410322230'},\n",
       " {'replenish_rate': 10,\n",
       "  'volume': 832,\n",
       "  'name': 'organics',\n",
       "  'objid': '6439289323440',\n",
       "  'max_volume': 1007,\n",
       "  'description': 'bilogical material that can be consumed by pops',\n",
       "  'userguid': '8d5b667f-b225-4641-b499-73b77558ff86',\n",
       "  'objtype': 'resource',\n",
       "  'id': '6439289323440'},\n",
       " {'replenish_rate': 10,\n",
       "  'volume': 920,\n",
       "  'name': 'organics',\n",
       "  'objid': '4297972133845',\n",
       "  'max_volume': 1053,\n",
       "  'description': 'bilogical material that can be consumed by pops',\n",
       "  'userguid': 'ac5b8081-7ef9-4bce-baac-6d0ea7e1782c',\n",
       "  'objtype': 'resource',\n",
       "  'id': '4297972133845'}]"
      ]
     },
     "execution_count": 11,
     "metadata": {},
     "output_type": "execute_result"
    }
   ],
   "source": [
    "c.run_query(renewing_resources_query)\n",
    "renewing_resources = c.clean_nodes(c.res)\n",
    "renewing_resources"
   ]
  },
  {
   "cell_type": "code",
   "execution_count": 12,
   "metadata": {},
   "outputs": [
    {
     "data": {
      "text/plain": [
       "[{'agent': {'replenish_rate': 10,\n",
       "   'volume': 159,\n",
       "   'name': 'Organic',\n",
       "   'objid': '4182507921316',\n",
       "   'max_volume': 895,\n",
       "   'description': 'bilogical material that can be consumed by pops',\n",
       "   'username': 'manderson',\n",
       "   'objtype': 'resource',\n",
       "   'id': '4182507921316'},\n",
       "  'action': 'consume'},\n",
       " {'agent': {'replenish_rate': 10,\n",
       "   'volume': 9,\n",
       "   'name': 'organics',\n",
       "   'objid': '9706157180627',\n",
       "   'max_volume': 1095,\n",
       "   'description': 'bilogical material that can be consumed by pops',\n",
       "   'username': 'Billmanserver',\n",
       "   'objtype': 'resource',\n",
       "   'id': '9706157180627'},\n",
       "  'action': 'consume'},\n",
       " {'agent': {'replenish_rate': 10,\n",
       "   'volume': 525,\n",
       "   'name': 'organics',\n",
       "   'objid': '0058029712212',\n",
       "   'max_volume': 1051,\n",
       "   'description': 'bilogical material that can be consumed by pops',\n",
       "   'username': 'BillmanLocal2',\n",
       "   'objtype': 'resource',\n",
       "   'id': '0058029712212'},\n",
       "  'action': 'consume'},\n",
       " {'agent': {'replenish_rate': 10,\n",
       "   'name': 'organics',\n",
       "   'objid': '7450760547046',\n",
       "   'volume': 850,\n",
       "   'max_volume': 850,\n",
       "   'description': 'bilogical material that can be consumed by pops',\n",
       "   'username': 'william.jeffrey.harding@gmail.com',\n",
       "   'objtype': 'resource',\n",
       "   'id': '7450760547046'},\n",
       "  'action': 'consume'},\n",
       " {'agent': {'replenish_rate': 10,\n",
       "   'name': 'organics',\n",
       "   'objid': '4994136174182',\n",
       "   'volume': 968,\n",
       "   'max_volume': 968,\n",
       "   'description': 'bilogical material that can be consumed by pops',\n",
       "   'username': 'BillmanLocal',\n",
       "   'objtype': 'resource',\n",
       "   'id': '4994136174182'},\n",
       "  'action': 'consume'},\n",
       " {'agent': {'replenish_rate': 10,\n",
       "   'name': 'organics',\n",
       "   'objid': '5943833201995',\n",
       "   'volume': 1050,\n",
       "   'max_volume': 1050,\n",
       "   'description': 'bilogical material that can be consumed by pops',\n",
       "   'username': 'william.harding@avanade.com',\n",
       "   'objtype': 'resource',\n",
       "   'id': '5943833201995'},\n",
       "  'action': 'consume'},\n",
       " {'agent': {'replenish_rate': 10,\n",
       "   'name': 'organics',\n",
       "   'objid': '5093982959216',\n",
       "   'volume': 884,\n",
       "   'max_volume': 884,\n",
       "   'description': 'bilogical material that can be consumed by pops',\n",
       "   'username': '',\n",
       "   'objtype': 'resource',\n",
       "   'id': '5093982959216'},\n",
       "  'action': 'consume'},\n",
       " {'agent': {'replenish_rate': 10,\n",
       "   'name': 'organics',\n",
       "   'objid': '9365823173233',\n",
       "   'volume': 1107,\n",
       "   'max_volume': 1107,\n",
       "   'description': 'bilogical material that can be consumed by pops',\n",
       "   'username': '8d5b667f-b225-4641-b499-73b77558ff86',\n",
       "   'objtype': 'resource',\n",
       "   'id': '9365823173233'},\n",
       "  'action': 'consume'},\n",
       " {'agent': {'replenish_rate': 10,\n",
       "   'name': 'organics',\n",
       "   'objid': '1528122914361',\n",
       "   'volume': 979,\n",
       "   'max_volume': 979,\n",
       "   'description': 'bilogical material that can be consumed by pops',\n",
       "   'username': '8d5b667f-b225-4641-b499-73b77558ff86',\n",
       "   'objtype': 'resource',\n",
       "   'id': '1528122914361'},\n",
       "  'action': 'consume'},\n",
       " {'agent': {'replenish_rate': 10,\n",
       "   'name': 'organics',\n",
       "   'objid': '8554977397617',\n",
       "   'volume': 1048,\n",
       "   'max_volume': 1048,\n",
       "   'description': 'bilogical material that can be consumed by pops',\n",
       "   'username': '8d5b667f-b225-4641-b499-73b77558ff86',\n",
       "   'objtype': 'resource',\n",
       "   'id': '8554977397617'},\n",
       "  'action': 'consume'},\n",
       " {'agent': {'replenish_rate': 10,\n",
       "   'name': 'organics',\n",
       "   'objid': '7545614794726',\n",
       "   'volume': 1221,\n",
       "   'max_volume': 1221,\n",
       "   'description': 'bilogical material that can be consumed by pops',\n",
       "   'username': '8d5b667f-b225-4641-b499-73b77558ff86',\n",
       "   'objtype': 'resource',\n",
       "   'id': '7545614794726'},\n",
       "  'action': 'consume'},\n",
       " {'agent': {'replenish_rate': 10,\n",
       "   'name': 'organics',\n",
       "   'objid': '3206333545102',\n",
       "   'volume': 860,\n",
       "   'max_volume': 860,\n",
       "   'description': 'bilogical material that can be consumed by pops',\n",
       "   'username': '8d5b667f-b225-4641-b499-73b77558ff86',\n",
       "   'objtype': 'resource',\n",
       "   'id': '3206333545102'},\n",
       "  'action': 'consume'},\n",
       " {'agent': {'replenish_rate': 10,\n",
       "   'name': 'organics',\n",
       "   'objid': '8200907428131',\n",
       "   'volume': 1049,\n",
       "   'max_volume': 1049,\n",
       "   'description': 'bilogical material that can be consumed by pops',\n",
       "   'username': '8d5b667f-b225-4641-b499-73b77558ff86',\n",
       "   'objtype': 'resource',\n",
       "   'id': '8200907428131'},\n",
       "  'action': 'consume'},\n",
       " {'agent': {'replenish_rate': 10,\n",
       "   'name': 'organics',\n",
       "   'objid': '0851975454380',\n",
       "   'volume': 1057,\n",
       "   'max_volume': 1057,\n",
       "   'description': 'bilogical material that can be consumed by pops',\n",
       "   'username': '8d5b667f-b225-4641-b499-73b77558ff86',\n",
       "   'objtype': 'resource',\n",
       "   'id': '0851975454380'},\n",
       "  'action': 'consume'},\n",
       " {'agent': {'replenish_rate': 10,\n",
       "   'name': 'organics',\n",
       "   'objid': '3232796150253',\n",
       "   'volume': 886,\n",
       "   'max_volume': 886,\n",
       "   'description': 'bilogical material that can be consumed by pops',\n",
       "   'username': '8d5b667f-b225-4641-b499-73b77558ff86',\n",
       "   'objtype': 'resource',\n",
       "   'id': '3232796150253'},\n",
       "  'action': 'consume'},\n",
       " {'agent': {'replenish_rate': 10,\n",
       "   'name': 'organics',\n",
       "   'objid': '5882410322230',\n",
       "   'volume': 818,\n",
       "   'max_volume': 818,\n",
       "   'description': 'bilogical material that can be consumed by pops',\n",
       "   'username': '8d5b667f-b225-4641-b499-73b77558ff86',\n",
       "   'objtype': 'resource',\n",
       "   'id': '5882410322230'},\n",
       "  'action': 'consume'},\n",
       " {'agent': {'replenish_rate': 10,\n",
       "   'volume': 832,\n",
       "   'name': 'organics',\n",
       "   'objid': '6439289323440',\n",
       "   'max_volume': 1007,\n",
       "   'description': 'bilogical material that can be consumed by pops',\n",
       "   'userguid': '8d5b667f-b225-4641-b499-73b77558ff86',\n",
       "   'objtype': 'resource',\n",
       "   'id': '6439289323440'},\n",
       "  'action': 'consume'},\n",
       " {'agent': {'replenish_rate': 10,\n",
       "   'volume': 920,\n",
       "   'name': 'organics',\n",
       "   'objid': '4297972133845',\n",
       "   'max_volume': 1053,\n",
       "   'description': 'bilogical material that can be consumed by pops',\n",
       "   'userguid': 'ac5b8081-7ef9-4bce-baac-6d0ea7e1782c',\n",
       "   'objtype': 'resource',\n",
       "   'id': '4297972133845'},\n",
       "  'action': 'consume'}]"
      ]
     },
     "execution_count": 12,
     "metadata": {},
     "output_type": "execute_result"
    }
   ],
   "source": [
    "renewal_messages = []\n",
    "for resource in renewing_resources:\n",
    "    if resource['volume'] <= resource['max_volume']:\n",
    "        renewal_message = consumption.get_renewal_message(resource)\n",
    "        renewal_messages.append(renewal_message)\n",
    "\n",
    "renewal_messages"
   ]
  },
  {
   "cell_type": "code",
   "execution_count": null,
   "metadata": {},
   "outputs": [],
   "source": []
  }
 ],
 "metadata": {
  "kernelspec": {
   "display_name": "exoplanets",
   "language": "python",
   "name": "python3"
  },
  "language_info": {
   "codemirror_mode": {
    "name": "ipython",
    "version": 3
   },
   "file_extension": ".py",
   "mimetype": "text/x-python",
   "name": "python",
   "nbconvert_exporter": "python",
   "pygments_lexer": "ipython3",
   "version": "3.8.16"
  },
  "orig_nbformat": 4,
  "vscode": {
   "interpreter": {
    "hash": "625a17269cb94aebb094cbcf5e0e8340f26b69d46569da60e8fc69439048adbf"
   }
  }
 },
 "nbformat": 4,
 "nbformat_minor": 2
}
