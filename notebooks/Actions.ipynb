{
 "cells": [
  {
   "attachments": {},
   "cell_type": "markdown",
   "metadata": {},
   "source": [
    "# Getting available actions\n",
    "Actions are configured in `app\\configurations` directory. When the UI makes a request to get the actions available for an object, the `app/ajaxviews/actions.py` loads the yaml, and interprets what actions that the selected object is available to take. Those actions are sent to the user. "
   ]
  },
  {
   "cell_type": "code",
   "execution_count": 1,
   "metadata": {},
   "outputs": [],
   "source": [
    "import sys\n",
    "import numpy as np\n",
    "import pandas as pd\n",
    "import altair as alt\n",
    "\n",
    "sys.path.append(\"..\")\n",
    "import helpers.dbquery as db\n",
    "import helpers.functions as f\n",
    "import yaml, ssl, asyncio\n",
    "import nb_black\n",
    "\n",
    "ssl._create_default_https_context = ssl._create_unverified_context\n",
    "asyncio.set_event_loop_policy(asyncio.WindowsSelectorEventLoopPolicy())\n",
    "import nest_asyncio\n",
    "\n",
    "# this is required for running in a Jupyter Notebook.\n",
    "nest_asyncio.apply()\n",
    "\n",
    "import sys, os\n",
    "\n",
    "\n",
    "%load_ext lab_black"
   ]
  },
  {
   "cell_type": "code",
   "execution_count": 2,
   "metadata": {},
   "outputs": [],
   "source": [
    "import app.ajaxviews.actions as actions\n",
    "import app.models as models\n",
    "\n",
    "c = models.CosmosdbClient()"
   ]
  },
  {
   "attachments": {},
   "cell_type": "markdown",
   "metadata": {},
   "source": [
    "You can load the full actions list. "
   ]
  },
  {
   "cell_type": "code",
   "execution_count": 3,
   "metadata": {},
   "outputs": [
    {
     "data": {
      "text/html": [
       "<div>\n",
       "<style scoped>\n",
       "    .dataframe tbody tr th:only-of-type {\n",
       "        vertical-align: middle;\n",
       "    }\n",
       "\n",
       "    .dataframe tbody tr th {\n",
       "        vertical-align: top;\n",
       "    }\n",
       "\n",
       "    .dataframe thead th {\n",
       "        text-align: right;\n",
       "    }\n",
       "</style>\n",
       "<table border=\"1\" class=\"dataframe\">\n",
       "  <thead>\n",
       "    <tr style=\"text-align: right;\">\n",
       "      <th></th>\n",
       "      <th>type</th>\n",
       "      <th>label</th>\n",
       "      <th>applies_to</th>\n",
       "      <th>effort</th>\n",
       "      <th>requires_attr</th>\n",
       "      <th>augments_self_properties</th>\n",
       "      <th>comment</th>\n",
       "      <th>leadingdesire</th>\n",
       "    </tr>\n",
       "  </thead>\n",
       "  <tbody>\n",
       "    <tr>\n",
       "      <th>0</th>\n",
       "      <td>patriot_education</td>\n",
       "      <td>action</td>\n",
       "      <td>pop</td>\n",
       "      <td>10</td>\n",
       "      <td>{'factionLoyalty': 0.1}</td>\n",
       "      <td>{'factionLoyalty': 0.05, 'literacy': 0.01, 'ag...</td>\n",
       "      <td>expand public education programs with a collec...</td>\n",
       "      <td>NaN</td>\n",
       "    </tr>\n",
       "    <tr>\n",
       "      <th>1</th>\n",
       "      <td>safety_nets</td>\n",
       "      <td>action</td>\n",
       "      <td>pop</td>\n",
       "      <td>15</td>\n",
       "      <td>{'wealth': 0.1}</td>\n",
       "      <td>{'constitution': 0.05, 'wealth': '-.05'}</td>\n",
       "      <td>increase the general health of the population</td>\n",
       "      <td>NaN</td>\n",
       "    </tr>\n",
       "    <tr>\n",
       "      <th>2</th>\n",
       "      <td>individual_education</td>\n",
       "      <td>action</td>\n",
       "      <td>pop</td>\n",
       "      <td>10</td>\n",
       "      <td>{'wealth': 0.1}</td>\n",
       "      <td>{'conformity': -0.05, 'literacy': 0.1}</td>\n",
       "      <td>increase the general health of the population</td>\n",
       "      <td>NaN</td>\n",
       "    </tr>\n",
       "    <tr>\n",
       "      <th>3</th>\n",
       "      <td>patriot_propoganda</td>\n",
       "      <td>action</td>\n",
       "      <td>pop</td>\n",
       "      <td>10</td>\n",
       "      <td>NaN</td>\n",
       "      <td>{'factionLoyalty': 0.1, 'conformity': 0.1, 'ag...</td>\n",
       "      <td>build national pride, increasin faction loyalt...</td>\n",
       "      <td>NaN</td>\n",
       "    </tr>\n",
       "    <tr>\n",
       "      <th>4</th>\n",
       "      <td>build_infrastructure</td>\n",
       "      <td>action</td>\n",
       "      <td>pop</td>\n",
       "      <td>20</td>\n",
       "      <td>{'wealth': 0.5}</td>\n",
       "      <td>{'wealth': -0.05, 'industrial_infrastructure': 1}</td>\n",
       "      <td>increase industry by investing in local infras...</td>\n",
       "      <td>wealth</td>\n",
       "    </tr>\n",
       "    <tr>\n",
       "      <th>5</th>\n",
       "      <td>healthcare_initialtives</td>\n",
       "      <td>action</td>\n",
       "      <td>pop</td>\n",
       "      <td>15</td>\n",
       "      <td>{'wealth': 0.1}</td>\n",
       "      <td>{'health': 0.01, 'wealth': '-.01'}</td>\n",
       "      <td>increase the health and literacy of other popu...</td>\n",
       "      <td>NaN</td>\n",
       "    </tr>\n",
       "    <tr>\n",
       "      <th>6</th>\n",
       "      <td>individual_education</td>\n",
       "      <td>action</td>\n",
       "      <td>pop</td>\n",
       "      <td>15</td>\n",
       "      <td>{'wealth': 0.1}</td>\n",
       "      <td>{'wealth': '-.1', 'literacy': 0.01, 'factionLo...</td>\n",
       "      <td>expand privatized education, increase literacy...</td>\n",
       "      <td>NaN</td>\n",
       "    </tr>\n",
       "  </tbody>\n",
       "</table>\n",
       "</div>"
      ],
      "text/plain": [
       "                      type   label applies_to  effort  \\\n",
       "0        patriot_education  action        pop      10   \n",
       "1              safety_nets  action        pop      15   \n",
       "2     individual_education  action        pop      10   \n",
       "3       patriot_propoganda  action        pop      10   \n",
       "4     build_infrastructure  action        pop      20   \n",
       "5  healthcare_initialtives  action        pop      15   \n",
       "6     individual_education  action        pop      15   \n",
       "\n",
       "             requires_attr                           augments_self_properties  \\\n",
       "0  {'factionLoyalty': 0.1}  {'factionLoyalty': 0.05, 'literacy': 0.01, 'ag...   \n",
       "1          {'wealth': 0.1}           {'constitution': 0.05, 'wealth': '-.05'}   \n",
       "2          {'wealth': 0.1}             {'conformity': -0.05, 'literacy': 0.1}   \n",
       "3                      NaN  {'factionLoyalty': 0.1, 'conformity': 0.1, 'ag...   \n",
       "4          {'wealth': 0.5}  {'wealth': -0.05, 'industrial_infrastructure': 1}   \n",
       "5          {'wealth': 0.1}                 {'health': 0.01, 'wealth': '-.01'}   \n",
       "6          {'wealth': 0.1}  {'wealth': '-.1', 'literacy': 0.01, 'factionLo...   \n",
       "\n",
       "                                             comment leadingdesire  \n",
       "0  expand public education programs with a collec...           NaN  \n",
       "1      increase the general health of the population           NaN  \n",
       "2      increase the general health of the population           NaN  \n",
       "3  build national pride, increasin faction loyalt...           NaN  \n",
       "4  increase industry by investing in local infras...        wealth  \n",
       "5  increase the health and literacy of other popu...           NaN  \n",
       "6  expand privatized education, increase literacy...           NaN  "
      ]
     },
     "execution_count": 3,
     "metadata": {},
     "output_type": "execute_result"
    }
   ],
   "source": [
    "all_actions = actions.get_actions_config()\n",
    "pd.DataFrame(all_actions)"
   ]
  },
  {
   "cell_type": "code",
   "execution_count": 4,
   "metadata": {},
   "outputs": [
    {
     "data": {
      "text/plain": [
       "{'isIdle': 'false',\n",
       " 'name': 'Isgi Argorflo',\n",
       " 'objid': '8880560711424',\n",
       " 'conformity': 0.489,\n",
       " 'literacy': 0.667,\n",
       " 'aggression': 0.554,\n",
       " 'constitution': 0.443,\n",
       " 'health': 0.5,\n",
       " 'isInFaction': '1234234304432',\n",
       " 'industry': 0.4985,\n",
       " 'wealth': 0.5828,\n",
       " 'factionLoyalty': 0.459,\n",
       " 'username': 'BillmanLocal2',\n",
       " 'objtype': 'pop',\n",
       " 'id': '8880560711424'}"
      ]
     },
     "execution_count": 4,
     "metadata": {},
     "output_type": "execute_result"
    }
   ],
   "source": [
    "pop_id = \"8880560711424\"\n",
    "c.run_query(f\"g.V().has('objid','{pop_id}').valueMap()\")\n",
    "pop = c.clean_nodes(c.res)[0]\n",
    "pop"
   ]
  },
  {
   "cell_type": "code",
   "execution_count": 5,
   "metadata": {},
   "outputs": [],
   "source": [
    "validator = actions.ActionValidator(pop, all_actions)"
   ]
  },
  {
   "cell_type": "code",
   "execution_count": 6,
   "metadata": {},
   "outputs": [
    {
     "data": {
      "text/html": [
       "<div>\n",
       "<style scoped>\n",
       "    .dataframe tbody tr th:only-of-type {\n",
       "        vertical-align: middle;\n",
       "    }\n",
       "\n",
       "    .dataframe tbody tr th {\n",
       "        vertical-align: top;\n",
       "    }\n",
       "\n",
       "    .dataframe thead th {\n",
       "        text-align: right;\n",
       "    }\n",
       "</style>\n",
       "<table border=\"1\" class=\"dataframe\">\n",
       "  <thead>\n",
       "    <tr style=\"text-align: right;\">\n",
       "      <th></th>\n",
       "      <th>type</th>\n",
       "      <th>label</th>\n",
       "      <th>applies_to</th>\n",
       "      <th>effort</th>\n",
       "      <th>requires_attr</th>\n",
       "      <th>augments_self_properties</th>\n",
       "      <th>comment</th>\n",
       "      <th>leadingdesire</th>\n",
       "    </tr>\n",
       "  </thead>\n",
       "  <tbody>\n",
       "    <tr>\n",
       "      <th>0</th>\n",
       "      <td>patriot_education</td>\n",
       "      <td>action</td>\n",
       "      <td>pop</td>\n",
       "      <td>10</td>\n",
       "      <td>{'factionLoyalty': 0.1}</td>\n",
       "      <td>{'factionLoyalty': 0.05, 'literacy': 0.01, 'ag...</td>\n",
       "      <td>expand public education programs with a collec...</td>\n",
       "      <td>NaN</td>\n",
       "    </tr>\n",
       "    <tr>\n",
       "      <th>1</th>\n",
       "      <td>safety_nets</td>\n",
       "      <td>action</td>\n",
       "      <td>pop</td>\n",
       "      <td>15</td>\n",
       "      <td>{'wealth': 0.1}</td>\n",
       "      <td>{'constitution': 0.05, 'wealth': '-.05'}</td>\n",
       "      <td>increase the general health of the population</td>\n",
       "      <td>NaN</td>\n",
       "    </tr>\n",
       "    <tr>\n",
       "      <th>2</th>\n",
       "      <td>individual_education</td>\n",
       "      <td>action</td>\n",
       "      <td>pop</td>\n",
       "      <td>10</td>\n",
       "      <td>{'wealth': 0.1}</td>\n",
       "      <td>{'conformity': -0.05, 'literacy': 0.1}</td>\n",
       "      <td>increase the general health of the population</td>\n",
       "      <td>NaN</td>\n",
       "    </tr>\n",
       "    <tr>\n",
       "      <th>3</th>\n",
       "      <td>patriot_propoganda</td>\n",
       "      <td>action</td>\n",
       "      <td>pop</td>\n",
       "      <td>10</td>\n",
       "      <td>NaN</td>\n",
       "      <td>{'factionLoyalty': 0.1, 'conformity': 0.1, 'ag...</td>\n",
       "      <td>build national pride, increasin faction loyalt...</td>\n",
       "      <td>NaN</td>\n",
       "    </tr>\n",
       "    <tr>\n",
       "      <th>4</th>\n",
       "      <td>build_infrastructure</td>\n",
       "      <td>action</td>\n",
       "      <td>pop</td>\n",
       "      <td>20</td>\n",
       "      <td>{'wealth': 0.5}</td>\n",
       "      <td>{'wealth': -0.05, 'industrial_infrastructure': 1}</td>\n",
       "      <td>increase industry by investing in local infras...</td>\n",
       "      <td>wealth</td>\n",
       "    </tr>\n",
       "    <tr>\n",
       "      <th>5</th>\n",
       "      <td>healthcare_initialtives</td>\n",
       "      <td>action</td>\n",
       "      <td>pop</td>\n",
       "      <td>15</td>\n",
       "      <td>{'wealth': 0.1}</td>\n",
       "      <td>{'health': 0.01, 'wealth': '-.01'}</td>\n",
       "      <td>increase the health and literacy of other popu...</td>\n",
       "      <td>NaN</td>\n",
       "    </tr>\n",
       "    <tr>\n",
       "      <th>6</th>\n",
       "      <td>individual_education</td>\n",
       "      <td>action</td>\n",
       "      <td>pop</td>\n",
       "      <td>15</td>\n",
       "      <td>{'wealth': 0.1}</td>\n",
       "      <td>{'wealth': '-.1', 'literacy': 0.01, 'factionLo...</td>\n",
       "      <td>expand privatized education, increase literacy...</td>\n",
       "      <td>NaN</td>\n",
       "    </tr>\n",
       "  </tbody>\n",
       "</table>\n",
       "</div>"
      ],
      "text/plain": [
       "                      type   label applies_to  effort  \\\n",
       "0        patriot_education  action        pop      10   \n",
       "1              safety_nets  action        pop      15   \n",
       "2     individual_education  action        pop      10   \n",
       "3       patriot_propoganda  action        pop      10   \n",
       "4     build_infrastructure  action        pop      20   \n",
       "5  healthcare_initialtives  action        pop      15   \n",
       "6     individual_education  action        pop      15   \n",
       "\n",
       "             requires_attr                           augments_self_properties  \\\n",
       "0  {'factionLoyalty': 0.1}  {'factionLoyalty': 0.05, 'literacy': 0.01, 'ag...   \n",
       "1          {'wealth': 0.1}           {'constitution': 0.05, 'wealth': '-.05'}   \n",
       "2          {'wealth': 0.1}             {'conformity': -0.05, 'literacy': 0.1}   \n",
       "3                      NaN  {'factionLoyalty': 0.1, 'conformity': 0.1, 'ag...   \n",
       "4          {'wealth': 0.5}  {'wealth': -0.05, 'industrial_infrastructure': 1}   \n",
       "5          {'wealth': 0.1}                 {'health': 0.01, 'wealth': '-.01'}   \n",
       "6          {'wealth': 0.1}  {'wealth': '-.1', 'literacy': 0.01, 'factionLo...   \n",
       "\n",
       "                                             comment leadingdesire  \n",
       "0  expand public education programs with a collec...           NaN  \n",
       "1      increase the general health of the population           NaN  \n",
       "2      increase the general health of the population           NaN  \n",
       "3  build national pride, increasin faction loyalt...           NaN  \n",
       "4  increase industry by investing in local infras...        wealth  \n",
       "5  increase the health and literacy of other popu...           NaN  \n",
       "6  expand privatized education, increase literacy...           NaN  "
      ]
     },
     "execution_count": 6,
     "metadata": {},
     "output_type": "execute_result"
    }
   ],
   "source": [
    "pd.DataFrame(validator.validate())"
   ]
  },
  {
   "attachments": {},
   "cell_type": "markdown",
   "metadata": {},
   "source": [
    "## Creating a job\n",
    "\n",
    "to create a job you need an agent and and action. This is done in the ajax views for that class (e.g. `app/ajaxviews/pop`) because they are a request from the UI.\n",
    "\n"
   ]
  },
  {
   "cell_type": "code",
   "execution_count": 7,
   "metadata": {},
   "outputs": [
    {
     "data": {
      "text/plain": [
       "[{'node1': '8880560711424',\n",
       "  'node2': '1234567890',\n",
       "  'label': 'takingAction',\n",
       "  'name': 'takingAction',\n",
       "  'weight': 10010,\n",
       "  'actionType': 'patriot_education',\n",
       "  'status': 'pending'}]"
      ]
     },
     "execution_count": 7,
     "metadata": {},
     "output_type": "execute_result"
    }
   ],
   "source": [
    "def create_job(pop, action, universalTime):\n",
    "    if type(universalTime) == list:\n",
    "        universalTime = universalTime[0]\n",
    "    time_to_complete = int(universalTime[\"currentTime\"]) + int(action[\"effort\"])\n",
    "    # not actually creating the node here, just demo.\n",
    "    # uid = create_action_node(c,action,pop)\n",
    "    popToAction = {\n",
    "        \"node1\": pop[\"objid\"],\n",
    "        \"node2\": \"1234567890\",\n",
    "        \"label\": \"takingAction\",\n",
    "        \"name\": \"takingAction\",\n",
    "        \"weight\": time_to_complete,\n",
    "        \"actionType\": action[\"type\"],\n",
    "        \"status\": \"pending\",\n",
    "    }\n",
    "    edges = [popToAction]\n",
    "    return edges\n",
    "\n",
    "\n",
    "time = {\"currentTime\": 10000}\n",
    "create_job(pop, all_actions[0], time)"
   ]
  },
  {
   "cell_type": "code",
   "execution_count": 64,
   "metadata": {},
   "outputs": [
    {
     "data": {
      "text/html": [
       "<div>\n",
       "<style scoped>\n",
       "    .dataframe tbody tr th:only-of-type {\n",
       "        vertical-align: middle;\n",
       "    }\n",
       "\n",
       "    .dataframe tbody tr th {\n",
       "        vertical-align: top;\n",
       "    }\n",
       "\n",
       "    .dataframe thead th {\n",
       "        text-align: right;\n",
       "    }\n",
       "</style>\n",
       "<table border=\"1\" class=\"dataframe\">\n",
       "  <thead>\n",
       "    <tr style=\"text-align: right;\">\n",
       "      <th></th>\n",
       "      <th>action</th>\n",
       "      <th>job</th>\n",
       "      <th>agent</th>\n",
       "    </tr>\n",
       "  </thead>\n",
       "  <tbody>\n",
       "    <tr>\n",
       "      <th>0</th>\n",
       "      <td>{'id': '539f4d55-7dea-487a-8b62-756b0fe0d313',...</td>\n",
       "      <td>{'id': '6e029d81-83c9-4069-afa6-639aef48bd8f',...</td>\n",
       "      <td>{'id': 'eaa24c0e-8dcf-43d5-af89-ca6bb91d3111',...</td>\n",
       "    </tr>\n",
       "    <tr>\n",
       "      <th>1</th>\n",
       "      <td>{'id': '42011202-a68d-43d8-841f-87c50f42ac58',...</td>\n",
       "      <td>{'id': '5e9dce26-a02b-4972-a1c3-97d1f7d85f16',...</td>\n",
       "      <td>{'id': '083f7cac-dade-4961-b554-ad3009e704fa',...</td>\n",
       "    </tr>\n",
       "    <tr>\n",
       "      <th>2</th>\n",
       "      <td>{'id': 'c08bb02d-5739-49f4-a8c1-62c905f0bee5',...</td>\n",
       "      <td>{'id': 'e528b285-0e02-41a4-9226-0b94ffb8433c',...</td>\n",
       "      <td>{'id': '0f6f0e7b-4ce4-4390-a455-5f24a859a62d',...</td>\n",
       "    </tr>\n",
       "    <tr>\n",
       "      <th>3</th>\n",
       "      <td>{'id': 'aa2e3217-0a2b-47e9-abf7-c963ac28a543',...</td>\n",
       "      <td>{'id': 'e3fa5d2e-ce10-40dc-9367-9e95c3bba555',...</td>\n",
       "      <td>{'id': '90bcb328-de86-42d4-a59d-c182cc3eb995',...</td>\n",
       "    </tr>\n",
       "  </tbody>\n",
       "</table>\n",
       "</div>"
      ],
      "text/plain": [
       "                                              action  \\\n",
       "0  {'id': '539f4d55-7dea-487a-8b62-756b0fe0d313',...   \n",
       "1  {'id': '42011202-a68d-43d8-841f-87c50f42ac58',...   \n",
       "2  {'id': 'c08bb02d-5739-49f4-a8c1-62c905f0bee5',...   \n",
       "3  {'id': 'aa2e3217-0a2b-47e9-abf7-c963ac28a543',...   \n",
       "\n",
       "                                                 job  \\\n",
       "0  {'id': '6e029d81-83c9-4069-afa6-639aef48bd8f',...   \n",
       "1  {'id': '5e9dce26-a02b-4972-a1c3-97d1f7d85f16',...   \n",
       "2  {'id': 'e528b285-0e02-41a4-9226-0b94ffb8433c',...   \n",
       "3  {'id': 'e3fa5d2e-ce10-40dc-9367-9e95c3bba555',...   \n",
       "\n",
       "                                               agent  \n",
       "0  {'id': 'eaa24c0e-8dcf-43d5-af89-ca6bb91d3111',...  \n",
       "1  {'id': '083f7cac-dade-4961-b554-ad3009e704fa',...  \n",
       "2  {'id': '0f6f0e7b-4ce4-4390-a455-5f24a859a62d',...  \n",
       "3  {'id': '90bcb328-de86-42d4-a59d-c182cc3eb995',...  "
      ]
     },
     "execution_count": 64,
     "metadata": {},
     "output_type": "execute_result"
    }
   ],
   "source": [
    "actions_query = \"\"\"\n",
    "    g.V().haslabel('action').as('action')\n",
    "                .inE('takingAction').as('job')\n",
    "                .outV().as('agent')\n",
    "                .select('action','job','agent')\n",
    "\"\"\"\n",
    "\n",
    "c.run_query(actions_query)\n",
    "pd.DataFrame(c.res)"
   ]
  },
  {
   "attachments": {},
   "cell_type": "markdown",
   "metadata": {},
   "source": [
    "All actions require both an agent, job and action. The properties of the action determine how it affects other things. \n"
   ]
  },
  {
   "cell_type": "code",
   "execution_count": 65,
   "metadata": {},
   "outputs": [
    {
     "data": {
      "text/plain": [
       "{'type': 'individual_education',\n",
       " 'requires_attr': '{wealth: 0.1}',\n",
       " 'applies_to': 'pop',\n",
       " 'effort': 15,\n",
       " 'augments_self_properties': '{wealth: -.1, literacy: 0.01, factionLoyalty: -.01}',\n",
       " 'comment': 'expand privatized education, increase literacy and wealth at the cost of faction loyalty',\n",
       " 'name': 'individual education',\n",
       " 'username': 'BillmanLocal2',\n",
       " 'objtype': 'action',\n",
       " 'objid': '4636333262697'}"
      ]
     },
     "execution_count": 65,
     "metadata": {},
     "output_type": "execute_result"
    }
   ],
   "source": [
    "def parse_properties(node):\n",
    "    n = {}\n",
    "    for k in node[\"properties\"].keys():\n",
    "        if len(node[\"properties\"][k]) == 1:\n",
    "            n[k] = node[\"properties\"][k][0][\"value\"]\n",
    "    return n\n",
    "\n",
    "\n",
    "action = parse_properties(pd.DataFrame(c.res).loc[1].action)\n",
    "action"
   ]
  },
  {
   "cell_type": "code",
   "execution_count": 92,
   "metadata": {},
   "outputs": [
    {
     "data": {
      "text/plain": [
       "{'isIdle': 'True',\n",
       " 'name': 'Letquamar Mennu',\n",
       " 'objid': '2570162977799',\n",
       " 'conformity': 0.527,\n",
       " 'literacy': 0.473,\n",
       " 'aggression': 0.442,\n",
       " 'constitution': 0.576,\n",
       " 'health': 0.5,\n",
       " 'isInFaction': '6048684961165',\n",
       " 'industry': 0.509,\n",
       " 'wealth': 0.491,\n",
       " 'factionLoyalty': 0.609,\n",
       " 'username': 'BillmanLocal2',\n",
       " 'objtype': 'pop'}"
      ]
     },
     "execution_count": 92,
     "metadata": {},
     "output_type": "execute_result"
    }
   ],
   "source": [
    "agent = parse_properties(pd.DataFrame(c.res).loc[1].agent)\n",
    "agent"
   ]
  },
  {
   "attachments": {},
   "cell_type": "markdown",
   "metadata": {},
   "source": [
    "### Augments self properties\n",
    "Takes a dictionary of properties and augments them. Adds the property if it does not exist. \n"
   ]
  },
  {
   "cell_type": "code",
   "execution_count": 93,
   "metadata": {},
   "outputs": [
    {
     "data": {
      "text/plain": [
       "{'wealth': '-.1', 'literacy': 0.01, 'factionLoyalty': '-.01'}"
      ]
     },
     "execution_count": 93,
     "metadata": {},
     "output_type": "execute_result"
    }
   ],
   "source": [
    "augments_self_properties = yaml.safe_load(action[\"augments_self_properties\"])\n",
    "augments_self_properties"
   ]
  },
  {
   "cell_type": "code",
   "execution_count": 94,
   "metadata": {},
   "outputs": [
    {
     "name": "stdout",
     "output_type": "stream",
     "text": [
      "results of:  individual_education\n"
     ]
    },
    {
     "data": {
      "text/html": [
       "<div>\n",
       "<style scoped>\n",
       "    .dataframe tbody tr th:only-of-type {\n",
       "        vertical-align: middle;\n",
       "    }\n",
       "\n",
       "    .dataframe tbody tr th {\n",
       "        vertical-align: top;\n",
       "    }\n",
       "\n",
       "    .dataframe thead th {\n",
       "        text-align: right;\n",
       "    }\n",
       "</style>\n",
       "<table border=\"1\" class=\"dataframe\">\n",
       "  <thead>\n",
       "    <tr style=\"text-align: right;\">\n",
       "      <th></th>\n",
       "      <th>0</th>\n",
       "      <th>1</th>\n",
       "    </tr>\n",
       "  </thead>\n",
       "  <tbody>\n",
       "    <tr>\n",
       "      <th>isIdle</th>\n",
       "      <td>True</td>\n",
       "      <td>True</td>\n",
       "    </tr>\n",
       "    <tr>\n",
       "      <th>name</th>\n",
       "      <td>Letquamar Mennu</td>\n",
       "      <td>Letquamar Mennu</td>\n",
       "    </tr>\n",
       "    <tr>\n",
       "      <th>objid</th>\n",
       "      <td>2570162977799</td>\n",
       "      <td>2570162977799</td>\n",
       "    </tr>\n",
       "    <tr>\n",
       "      <th>conformity</th>\n",
       "      <td>0.527</td>\n",
       "      <td>0.527</td>\n",
       "    </tr>\n",
       "    <tr>\n",
       "      <th>literacy</th>\n",
       "      <td>0.473</td>\n",
       "      <td>0.483</td>\n",
       "    </tr>\n",
       "    <tr>\n",
       "      <th>aggression</th>\n",
       "      <td>0.442</td>\n",
       "      <td>0.442</td>\n",
       "    </tr>\n",
       "    <tr>\n",
       "      <th>constitution</th>\n",
       "      <td>0.576</td>\n",
       "      <td>0.576</td>\n",
       "    </tr>\n",
       "    <tr>\n",
       "      <th>health</th>\n",
       "      <td>0.5</td>\n",
       "      <td>0.5</td>\n",
       "    </tr>\n",
       "    <tr>\n",
       "      <th>isInFaction</th>\n",
       "      <td>6048684961165</td>\n",
       "      <td>6048684961165</td>\n",
       "    </tr>\n",
       "    <tr>\n",
       "      <th>industry</th>\n",
       "      <td>0.509</td>\n",
       "      <td>0.509</td>\n",
       "    </tr>\n",
       "    <tr>\n",
       "      <th>wealth</th>\n",
       "      <td>0.491</td>\n",
       "      <td>0.391</td>\n",
       "    </tr>\n",
       "    <tr>\n",
       "      <th>factionLoyalty</th>\n",
       "      <td>0.609</td>\n",
       "      <td>0.599</td>\n",
       "    </tr>\n",
       "    <tr>\n",
       "      <th>username</th>\n",
       "      <td>BillmanLocal2</td>\n",
       "      <td>BillmanLocal2</td>\n",
       "    </tr>\n",
       "    <tr>\n",
       "      <th>objtype</th>\n",
       "      <td>pop</td>\n",
       "      <td>pop</td>\n",
       "    </tr>\n",
       "  </tbody>\n",
       "</table>\n",
       "</div>"
      ],
      "text/plain": [
       "                              0                1\n",
       "isIdle                     True             True\n",
       "name            Letquamar Mennu  Letquamar Mennu\n",
       "objid             2570162977799    2570162977799\n",
       "conformity                0.527            0.527\n",
       "literacy                  0.473            0.483\n",
       "aggression                0.442            0.442\n",
       "constitution              0.576            0.576\n",
       "health                      0.5              0.5\n",
       "isInFaction       6048684961165    6048684961165\n",
       "industry                  0.509            0.509\n",
       "wealth                    0.491            0.391\n",
       "factionLoyalty            0.609            0.599\n",
       "username          BillmanLocal2    BillmanLocal2\n",
       "objtype                     pop              pop"
      ]
     },
     "execution_count": 94,
     "metadata": {},
     "output_type": "execute_result"
    }
   ],
   "source": [
    "def resolve_augments_self_properties(agent, action):\n",
    "    agent = agent.copy()\n",
    "    self_properties = yaml.safe_load(action[\"augments_self_properties\"])\n",
    "    for p in self_properties.keys():\n",
    "        agent[p] = agent[p] + float(self_properties[p])\n",
    "    return agent\n",
    "\n",
    "\n",
    "agent2 = resolve_augments_self_properties(agent, action)\n",
    "results = pd.DataFrame([agent, agent2],).T\n",
    "print(\"results of: \", action[\"type\"])\n",
    "results"
   ]
  },
  {
   "cell_type": "code",
   "execution_count": 100,
   "metadata": {},
   "outputs": [
    {
     "data": {
      "text/plain": [
       "\"g.V().has('objid','2570162977799').property('wealth',0.491).property('literacy',0.473).property('factionLoyalty',0.609)\""
      ]
     },
     "execution_count": 100,
     "metadata": {},
     "output_type": "execute_result"
    }
   ],
   "source": [
    "def query_patch_properties(agent, action):\n",
    "    query = f\"g.V().has('objid','{agent['objid']}')\"\n",
    "    for n in yaml.safe_load(action[\"augments_self_properties\"]):\n",
    "        query += f\".property('{n}',{agent[n]})\"\n",
    "    return query\n",
    "\n",
    "\n",
    "query_patch_properties(agent, action)"
   ]
  },
  {
   "cell_type": "code",
   "execution_count": null,
   "metadata": {},
   "outputs": [],
   "source": []
  }
 ],
 "metadata": {
  "kernelspec": {
   "display_name": "exoplanets",
   "language": "python",
   "name": "python3"
  },
  "language_info": {
   "codemirror_mode": {
    "name": "ipython",
    "version": 3
   },
   "file_extension": ".py",
   "mimetype": "text/x-python",
   "name": "python",
   "nbconvert_exporter": "python",
   "pygments_lexer": "ipython3",
   "version": "3.7.0"
  },
  "orig_nbformat": 4,
  "vscode": {
   "interpreter": {
    "hash": "625a17269cb94aebb094cbcf5e0e8340f26b69d46569da60e8fc69439048adbf"
   }
  }
 },
 "nbformat": 4,
 "nbformat_minor": 2
}
