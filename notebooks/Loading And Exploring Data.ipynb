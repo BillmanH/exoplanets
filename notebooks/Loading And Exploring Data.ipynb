{
 "cells": [
  {
   "cell_type": "markdown",
   "metadata": {},
   "source": [
    "# Loading and parsing the data"
   ]
  },
  {
   "cell_type": "code",
   "execution_count": 1,
   "metadata": {},
   "outputs": [],
   "source": [
    "import pandas as pd\n",
    "import numpy as np"
   ]
  },
  {
   "cell_type": "markdown",
   "metadata": {},
   "source": [
    "The first 100 lines of the file are dictionary definitions. Usefull but not a dataframe."
   ]
  },
  {
   "cell_type": "code",
   "execution_count": 5,
   "metadata": {},
   "outputs": [],
   "source": [
    "df = pd.read_csv('../data/PS_2021.02.26_19.09.39.csv',skiprows=100)"
   ]
  },
  {
   "cell_type": "code",
   "execution_count": 6,
   "metadata": {},
   "outputs": [
    {
     "output_type": "execute_result",
     "data": {
      "text/plain": [
       "          pl_name  hostname  default_flag  sy_snum  sy_pnum  discoverymethod  \\\n",
       "0      30 Ari B b  30 Ari B             0        4        1  Radial Velocity   \n",
       "1      30 Ari B b  30 Ari B             0        4        1  Radial Velocity   \n",
       "2      30 Ari B b  30 Ari B             1        4        1  Radial Velocity   \n",
       "3           PH1 b       PH1             1        4        1          Transit   \n",
       "4      16 Cyg B b  16 Cyg B             0        3        1  Radial Velocity   \n",
       "...           ...       ...           ...      ...      ...              ...   \n",
       "29334   tau Cet h   tau Cet             1        1        4  Radial Velocity   \n",
       "29335   tau Gem b   tau Gem             0        1        1  Radial Velocity   \n",
       "29336   tau Gem b   tau Gem             1        1        1  Radial Velocity   \n",
       "29337    xi Aql b    xi Aql             1        1        1  Radial Velocity   \n",
       "29338    xi Aql b    xi Aql             0        1        1  Radial Velocity   \n",
       "\n",
       "       disc_year                           disc_facility              soltype  \\\n",
       "0           2009  Thueringer Landessternwarte Tautenburg  Published Confirmed   \n",
       "1           2009  Thueringer Landessternwarte Tautenburg  Published Confirmed   \n",
       "2           2009  Thueringer Landessternwarte Tautenburg  Published Confirmed   \n",
       "3           2012                                  Kepler  Published Confirmed   \n",
       "4           1996                  Multiple Observatories  Published Confirmed   \n",
       "...          ...                                     ...                  ...   \n",
       "29334       2017                  Multiple Observatories  Published Confirmed   \n",
       "29335       2013                        Lick Observatory  Published Confirmed   \n",
       "29336       2013                        Lick Observatory  Published Confirmed   \n",
       "29337       2007       Okayama Astrophysical Observatory  Published Confirmed   \n",
       "29338       2007       Okayama Astrophysical Observatory  Published Confirmed   \n",
       "\n",
       "       pl_controv_flag  ... sy_vmagerr2  sy_kmag  sy_kmagerr1  sy_kmagerr2  \\\n",
       "0                    0  ...      -0.023    5.822        0.021       -0.021   \n",
       "1                    0  ...      -0.023    5.822        0.021       -0.021   \n",
       "2                    0  ...      -0.023    5.822        0.021       -0.021   \n",
       "3                    0  ...      -0.149   12.395        0.021       -0.021   \n",
       "4                    0  ...      -0.016    4.651        0.016       -0.016   \n",
       "...                ...  ...         ...      ...          ...          ...   \n",
       "29334                0  ...      -0.023    1.794        0.274       -0.274   \n",
       "29335                0  ...      -0.023    1.681        0.254       -0.254   \n",
       "29336                0  ...      -0.023    1.681        0.254       -0.254   \n",
       "29337                0  ...      -0.023    2.171        0.220       -0.220   \n",
       "29338                0  ...      -0.023    2.171        0.220       -0.220   \n",
       "\n",
       "       sy_gaiamag  sy_gaiamagerr1  sy_gaiamagerr2   rowupdate  pl_pubdate  \\\n",
       "0         6.96085        0.000512       -0.000512  2018-04-25     2015-11   \n",
       "1         6.96085        0.000512       -0.000512  2018-04-25     2009-12   \n",
       "2         6.96085        0.000512       -0.000512  2018-09-04     2017-03   \n",
       "3        13.69880        0.001604       -0.001604  2014-05-14     2013-05   \n",
       "4         6.06428        0.000603       -0.000603  2018-04-25     2007-01   \n",
       "...           ...             ...             ...         ...         ...   \n",
       "29334     3.24854        0.010399       -0.010399  2017-08-14     2017-10   \n",
       "29335     4.03996        0.006709       -0.006709  2014-05-16     2003-12   \n",
       "29336     4.03996        0.006709       -0.006709  2014-05-14     2013-07   \n",
       "29337     4.42501        0.003837       -0.003837  2014-05-14     2008-06   \n",
       "29338     4.42501        0.003837       -0.003837  2014-07-23     2011-08   \n",
       "\n",
       "       releasedate  \n",
       "0       2015-12-03  \n",
       "1       2014-05-14  \n",
       "2       2018-09-06  \n",
       "3       2014-05-14  \n",
       "4       2014-09-18  \n",
       "...            ...  \n",
       "29334   2017-08-17  \n",
       "29335   2014-05-16  \n",
       "29336   2014-05-14  \n",
       "29337   2014-05-14  \n",
       "29338   2014-07-23  \n",
       "\n",
       "[29339 rows x 92 columns]"
      ],
      "text/html": "<div>\n<style scoped>\n    .dataframe tbody tr th:only-of-type {\n        vertical-align: middle;\n    }\n\n    .dataframe tbody tr th {\n        vertical-align: top;\n    }\n\n    .dataframe thead th {\n        text-align: right;\n    }\n</style>\n<table border=\"1\" class=\"dataframe\">\n  <thead>\n    <tr style=\"text-align: right;\">\n      <th></th>\n      <th>pl_name</th>\n      <th>hostname</th>\n      <th>default_flag</th>\n      <th>sy_snum</th>\n      <th>sy_pnum</th>\n      <th>discoverymethod</th>\n      <th>disc_year</th>\n      <th>disc_facility</th>\n      <th>soltype</th>\n      <th>pl_controv_flag</th>\n      <th>...</th>\n      <th>sy_vmagerr2</th>\n      <th>sy_kmag</th>\n      <th>sy_kmagerr1</th>\n      <th>sy_kmagerr2</th>\n      <th>sy_gaiamag</th>\n      <th>sy_gaiamagerr1</th>\n      <th>sy_gaiamagerr2</th>\n      <th>rowupdate</th>\n      <th>pl_pubdate</th>\n      <th>releasedate</th>\n    </tr>\n  </thead>\n  <tbody>\n    <tr>\n      <th>0</th>\n      <td>30 Ari B b</td>\n      <td>30 Ari B</td>\n      <td>0</td>\n      <td>4</td>\n      <td>1</td>\n      <td>Radial Velocity</td>\n      <td>2009</td>\n      <td>Thueringer Landessternwarte Tautenburg</td>\n      <td>Published Confirmed</td>\n      <td>0</td>\n      <td>...</td>\n      <td>-0.023</td>\n      <td>5.822</td>\n      <td>0.021</td>\n      <td>-0.021</td>\n      <td>6.96085</td>\n      <td>0.000512</td>\n      <td>-0.000512</td>\n      <td>2018-04-25</td>\n      <td>2015-11</td>\n      <td>2015-12-03</td>\n    </tr>\n    <tr>\n      <th>1</th>\n      <td>30 Ari B b</td>\n      <td>30 Ari B</td>\n      <td>0</td>\n      <td>4</td>\n      <td>1</td>\n      <td>Radial Velocity</td>\n      <td>2009</td>\n      <td>Thueringer Landessternwarte Tautenburg</td>\n      <td>Published Confirmed</td>\n      <td>0</td>\n      <td>...</td>\n      <td>-0.023</td>\n      <td>5.822</td>\n      <td>0.021</td>\n      <td>-0.021</td>\n      <td>6.96085</td>\n      <td>0.000512</td>\n      <td>-0.000512</td>\n      <td>2018-04-25</td>\n      <td>2009-12</td>\n      <td>2014-05-14</td>\n    </tr>\n    <tr>\n      <th>2</th>\n      <td>30 Ari B b</td>\n      <td>30 Ari B</td>\n      <td>1</td>\n      <td>4</td>\n      <td>1</td>\n      <td>Radial Velocity</td>\n      <td>2009</td>\n      <td>Thueringer Landessternwarte Tautenburg</td>\n      <td>Published Confirmed</td>\n      <td>0</td>\n      <td>...</td>\n      <td>-0.023</td>\n      <td>5.822</td>\n      <td>0.021</td>\n      <td>-0.021</td>\n      <td>6.96085</td>\n      <td>0.000512</td>\n      <td>-0.000512</td>\n      <td>2018-09-04</td>\n      <td>2017-03</td>\n      <td>2018-09-06</td>\n    </tr>\n    <tr>\n      <th>3</th>\n      <td>PH1 b</td>\n      <td>PH1</td>\n      <td>1</td>\n      <td>4</td>\n      <td>1</td>\n      <td>Transit</td>\n      <td>2012</td>\n      <td>Kepler</td>\n      <td>Published Confirmed</td>\n      <td>0</td>\n      <td>...</td>\n      <td>-0.149</td>\n      <td>12.395</td>\n      <td>0.021</td>\n      <td>-0.021</td>\n      <td>13.69880</td>\n      <td>0.001604</td>\n      <td>-0.001604</td>\n      <td>2014-05-14</td>\n      <td>2013-05</td>\n      <td>2014-05-14</td>\n    </tr>\n    <tr>\n      <th>4</th>\n      <td>16 Cyg B b</td>\n      <td>16 Cyg B</td>\n      <td>0</td>\n      <td>3</td>\n      <td>1</td>\n      <td>Radial Velocity</td>\n      <td>1996</td>\n      <td>Multiple Observatories</td>\n      <td>Published Confirmed</td>\n      <td>0</td>\n      <td>...</td>\n      <td>-0.016</td>\n      <td>4.651</td>\n      <td>0.016</td>\n      <td>-0.016</td>\n      <td>6.06428</td>\n      <td>0.000603</td>\n      <td>-0.000603</td>\n      <td>2018-04-25</td>\n      <td>2007-01</td>\n      <td>2014-09-18</td>\n    </tr>\n    <tr>\n      <th>...</th>\n      <td>...</td>\n      <td>...</td>\n      <td>...</td>\n      <td>...</td>\n      <td>...</td>\n      <td>...</td>\n      <td>...</td>\n      <td>...</td>\n      <td>...</td>\n      <td>...</td>\n      <td>...</td>\n      <td>...</td>\n      <td>...</td>\n      <td>...</td>\n      <td>...</td>\n      <td>...</td>\n      <td>...</td>\n      <td>...</td>\n      <td>...</td>\n      <td>...</td>\n      <td>...</td>\n    </tr>\n    <tr>\n      <th>29334</th>\n      <td>tau Cet h</td>\n      <td>tau Cet</td>\n      <td>1</td>\n      <td>1</td>\n      <td>4</td>\n      <td>Radial Velocity</td>\n      <td>2017</td>\n      <td>Multiple Observatories</td>\n      <td>Published Confirmed</td>\n      <td>0</td>\n      <td>...</td>\n      <td>-0.023</td>\n      <td>1.794</td>\n      <td>0.274</td>\n      <td>-0.274</td>\n      <td>3.24854</td>\n      <td>0.010399</td>\n      <td>-0.010399</td>\n      <td>2017-08-14</td>\n      <td>2017-10</td>\n      <td>2017-08-17</td>\n    </tr>\n    <tr>\n      <th>29335</th>\n      <td>tau Gem b</td>\n      <td>tau Gem</td>\n      <td>0</td>\n      <td>1</td>\n      <td>1</td>\n      <td>Radial Velocity</td>\n      <td>2013</td>\n      <td>Lick Observatory</td>\n      <td>Published Confirmed</td>\n      <td>0</td>\n      <td>...</td>\n      <td>-0.023</td>\n      <td>1.681</td>\n      <td>0.254</td>\n      <td>-0.254</td>\n      <td>4.03996</td>\n      <td>0.006709</td>\n      <td>-0.006709</td>\n      <td>2014-05-16</td>\n      <td>2003-12</td>\n      <td>2014-05-16</td>\n    </tr>\n    <tr>\n      <th>29336</th>\n      <td>tau Gem b</td>\n      <td>tau Gem</td>\n      <td>1</td>\n      <td>1</td>\n      <td>1</td>\n      <td>Radial Velocity</td>\n      <td>2013</td>\n      <td>Lick Observatory</td>\n      <td>Published Confirmed</td>\n      <td>0</td>\n      <td>...</td>\n      <td>-0.023</td>\n      <td>1.681</td>\n      <td>0.254</td>\n      <td>-0.254</td>\n      <td>4.03996</td>\n      <td>0.006709</td>\n      <td>-0.006709</td>\n      <td>2014-05-14</td>\n      <td>2013-07</td>\n      <td>2014-05-14</td>\n    </tr>\n    <tr>\n      <th>29337</th>\n      <td>xi Aql b</td>\n      <td>xi Aql</td>\n      <td>1</td>\n      <td>1</td>\n      <td>1</td>\n      <td>Radial Velocity</td>\n      <td>2007</td>\n      <td>Okayama Astrophysical Observatory</td>\n      <td>Published Confirmed</td>\n      <td>0</td>\n      <td>...</td>\n      <td>-0.023</td>\n      <td>2.171</td>\n      <td>0.220</td>\n      <td>-0.220</td>\n      <td>4.42501</td>\n      <td>0.003837</td>\n      <td>-0.003837</td>\n      <td>2014-05-14</td>\n      <td>2008-06</td>\n      <td>2014-05-14</td>\n    </tr>\n    <tr>\n      <th>29338</th>\n      <td>xi Aql b</td>\n      <td>xi Aql</td>\n      <td>0</td>\n      <td>1</td>\n      <td>1</td>\n      <td>Radial Velocity</td>\n      <td>2007</td>\n      <td>Okayama Astrophysical Observatory</td>\n      <td>Published Confirmed</td>\n      <td>0</td>\n      <td>...</td>\n      <td>-0.023</td>\n      <td>2.171</td>\n      <td>0.220</td>\n      <td>-0.220</td>\n      <td>4.42501</td>\n      <td>0.003837</td>\n      <td>-0.003837</td>\n      <td>2014-07-23</td>\n      <td>2011-08</td>\n      <td>2014-07-23</td>\n    </tr>\n  </tbody>\n</table>\n<p>29339 rows × 92 columns</p>\n</div>"
     },
     "metadata": {},
     "execution_count": 6
    }
   ],
   "source": [
    "df"
   ]
  },
  {
   "source": [
    "First, is the pl_name a primary key? "
   ],
   "cell_type": "markdown",
   "metadata": {}
  },
  {
   "cell_type": "code",
   "execution_count": 10,
   "metadata": {},
   "outputs": [
    {
     "output_type": "execute_result",
     "data": {
      "text/plain": [
       "(4352, 29339)"
      ]
     },
     "metadata": {},
     "execution_count": 10
    }
   ],
   "source": [
    "len(df['pl_name'].unique()),  len(df['pl_name'])"
   ]
  },
  {
   "source": [
    "Ok, so no. Then what does that pl_name mean and which column is unique."
   ],
   "cell_type": "markdown",
   "metadata": {}
  },
  {
   "cell_type": "code",
   "execution_count": 14,
   "metadata": {},
   "outputs": [
    {
     "output_type": "execute_result",
     "data": {
      "text/plain": [
       "      pl_name  hostname  default_flag  sy_snum  sy_pnum  discoverymethod  \\\n",
       "0  30 Ari B b  30 Ari B             0        4        1  Radial Velocity   \n",
       "1  30 Ari B b  30 Ari B             0        4        1  Radial Velocity   \n",
       "2  30 Ari B b  30 Ari B             1        4        1  Radial Velocity   \n",
       "\n",
       "   disc_year                           disc_facility              soltype  \\\n",
       "0       2009  Thueringer Landessternwarte Tautenburg  Published Confirmed   \n",
       "1       2009  Thueringer Landessternwarte Tautenburg  Published Confirmed   \n",
       "2       2009  Thueringer Landessternwarte Tautenburg  Published Confirmed   \n",
       "\n",
       "   pl_controv_flag  ... sy_vmagerr2  sy_kmag  sy_kmagerr1  sy_kmagerr2  \\\n",
       "0                0  ...      -0.023    5.822        0.021       -0.021   \n",
       "1                0  ...      -0.023    5.822        0.021       -0.021   \n",
       "2                0  ...      -0.023    5.822        0.021       -0.021   \n",
       "\n",
       "   sy_gaiamag  sy_gaiamagerr1  sy_gaiamagerr2   rowupdate  pl_pubdate  \\\n",
       "0     6.96085        0.000512       -0.000512  2018-04-25     2015-11   \n",
       "1     6.96085        0.000512       -0.000512  2018-04-25     2009-12   \n",
       "2     6.96085        0.000512       -0.000512  2018-09-04     2017-03   \n",
       "\n",
       "   releasedate  \n",
       "0   2015-12-03  \n",
       "1   2014-05-14  \n",
       "2   2018-09-06  \n",
       "\n",
       "[3 rows x 92 columns]"
      ],
      "text/html": "<div>\n<style scoped>\n    .dataframe tbody tr th:only-of-type {\n        vertical-align: middle;\n    }\n\n    .dataframe tbody tr th {\n        vertical-align: top;\n    }\n\n    .dataframe thead th {\n        text-align: right;\n    }\n</style>\n<table border=\"1\" class=\"dataframe\">\n  <thead>\n    <tr style=\"text-align: right;\">\n      <th></th>\n      <th>pl_name</th>\n      <th>hostname</th>\n      <th>default_flag</th>\n      <th>sy_snum</th>\n      <th>sy_pnum</th>\n      <th>discoverymethod</th>\n      <th>disc_year</th>\n      <th>disc_facility</th>\n      <th>soltype</th>\n      <th>pl_controv_flag</th>\n      <th>...</th>\n      <th>sy_vmagerr2</th>\n      <th>sy_kmag</th>\n      <th>sy_kmagerr1</th>\n      <th>sy_kmagerr2</th>\n      <th>sy_gaiamag</th>\n      <th>sy_gaiamagerr1</th>\n      <th>sy_gaiamagerr2</th>\n      <th>rowupdate</th>\n      <th>pl_pubdate</th>\n      <th>releasedate</th>\n    </tr>\n  </thead>\n  <tbody>\n    <tr>\n      <th>0</th>\n      <td>30 Ari B b</td>\n      <td>30 Ari B</td>\n      <td>0</td>\n      <td>4</td>\n      <td>1</td>\n      <td>Radial Velocity</td>\n      <td>2009</td>\n      <td>Thueringer Landessternwarte Tautenburg</td>\n      <td>Published Confirmed</td>\n      <td>0</td>\n      <td>...</td>\n      <td>-0.023</td>\n      <td>5.822</td>\n      <td>0.021</td>\n      <td>-0.021</td>\n      <td>6.96085</td>\n      <td>0.000512</td>\n      <td>-0.000512</td>\n      <td>2018-04-25</td>\n      <td>2015-11</td>\n      <td>2015-12-03</td>\n    </tr>\n    <tr>\n      <th>1</th>\n      <td>30 Ari B b</td>\n      <td>30 Ari B</td>\n      <td>0</td>\n      <td>4</td>\n      <td>1</td>\n      <td>Radial Velocity</td>\n      <td>2009</td>\n      <td>Thueringer Landessternwarte Tautenburg</td>\n      <td>Published Confirmed</td>\n      <td>0</td>\n      <td>...</td>\n      <td>-0.023</td>\n      <td>5.822</td>\n      <td>0.021</td>\n      <td>-0.021</td>\n      <td>6.96085</td>\n      <td>0.000512</td>\n      <td>-0.000512</td>\n      <td>2018-04-25</td>\n      <td>2009-12</td>\n      <td>2014-05-14</td>\n    </tr>\n    <tr>\n      <th>2</th>\n      <td>30 Ari B b</td>\n      <td>30 Ari B</td>\n      <td>1</td>\n      <td>4</td>\n      <td>1</td>\n      <td>Radial Velocity</td>\n      <td>2009</td>\n      <td>Thueringer Landessternwarte Tautenburg</td>\n      <td>Published Confirmed</td>\n      <td>0</td>\n      <td>...</td>\n      <td>-0.023</td>\n      <td>5.822</td>\n      <td>0.021</td>\n      <td>-0.021</td>\n      <td>6.96085</td>\n      <td>0.000512</td>\n      <td>-0.000512</td>\n      <td>2018-09-04</td>\n      <td>2017-03</td>\n      <td>2018-09-06</td>\n    </tr>\n  </tbody>\n</table>\n<p>3 rows × 92 columns</p>\n</div>"
     },
     "metadata": {},
     "execution_count": 14
    }
   ],
   "source": [
    "one_p_name = df.loc[0,'pl_name']\n",
    "\n",
    "df[df['pl_name']==one_p_name]"
   ]
  },
  {
   "cell_type": "code",
   "execution_count": 17,
   "metadata": {},
   "outputs": [
    {
     "output_type": "stream",
     "name": "stdout",
     "text": [
      "<a refstr=KANE_ET_AL__2015 href=https://ui.adsabs.harvard.edu/abs/2015ApJ...815...32K/abstract target=ref>Kane et al. 2015 </a>\n"
     ]
    }
   ],
   "source": [
    "print(df.loc[0,'pl_refname'])"
   ]
  },
  {
   "cell_type": "code",
   "execution_count": null,
   "metadata": {},
   "outputs": [],
   "source": []
  }
 ],
 "metadata": {
  "kernelspec": {
   "display_name": "Python 3",
   "language": "python",
   "name": "python3"
  },
  "language_info": {
   "codemirror_mode": {
    "name": "ipython",
    "version": 3
   },
   "file_extension": ".py",
   "mimetype": "text/x-python",
   "name": "python",
   "nbconvert_exporter": "python",
   "pygments_lexer": "ipython3",
   "version": "3.6.12-final"
  }
 },
 "nbformat": 4,
 "nbformat_minor": 4
}