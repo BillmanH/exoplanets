{
 "cells": [
  {
   "attachments": {},
   "cell_type": "markdown",
   "metadata": {},
   "source": [
    "To test that you have the correct environment variables: \n",
    "```\n",
    "conda env config vars list\n",
    "```"
   ]
  },
  {
   "cell_type": "code",
   "execution_count": 11,
   "metadata": {},
   "outputs": [
    {
     "name": "stdout",
     "output_type": "stream",
     "text": [
      "attempting to call https://exodestaiopen.openai.azure.com/\n"
     ]
    }
   ],
   "source": [
    "import os, sys\n",
    "import requests\n",
    "# import json\n",
    "import openai\n",
    "\n",
    "params = {\"api_key\":os.getenv('OPENAI_KEY'),\n",
    "          \"api_base\":\"https://exodestaiopen.openai.azure.com/\",\n",
    "          \"api_type\":\"azure\",\n",
    "          \"api_version\":\"2022-12-01\"}\n",
    "\n",
    "\n",
    "openai.api_key = params['api_key']\n",
    "openai.api_base =  params['api_base']\n",
    "openai.api_type = params['api_type']\n",
    "openai.api_version = params['api_version']\n",
    "\n",
    "deployment_name='exoplanetgpt'\n",
    "\n",
    "print(\"attempting to call\",openai.api_base)\n",
    "# # Send a completion call to generate an answer\n",
    "start_phrase = 'Write a tagline for an ice cream shop. '\n",
    "response = openai.Completion.create(engine=deployment_name, prompt=start_phrase, max_tokens=10)\n"
   ]
  },
  {
   "attachments": {},
   "cell_type": "markdown",
   "metadata": {},
   "source": [
    "Also the cosmosdb module in the app."
   ]
  },
  {
   "cell_type": "code",
   "execution_count": 12,
   "metadata": {},
   "outputs": [],
   "source": [
    "sys.path.append('..')\n",
    "from app.cmdb_graph import CosmosdbClient"
   ]
  },
  {
   "cell_type": "code",
   "execution_count": 8,
   "metadata": {},
   "outputs": [],
   "source": [
    "response = openai.Completion.create(\n",
    "  engine=deployment_name,\n",
    "  prompt=\"<|im_start|>system\\nAssistant is a large language model trained by OpenAI.\\n<|im_end|>\\n<|im_start|>user\\nWhat's the difference between garbanzo beans and chickpeas?\\n<|im_end|>\\n<|im_start|>assistant\\n\",\n",
    "  temperature=0,\n",
    "  max_tokens=500,\n",
    "  top_p=0.5,\n",
    "  stop=[\"<|im_end|>\"])"
   ]
  },
  {
   "cell_type": "code",
   "execution_count": 9,
   "metadata": {},
   "outputs": [
    {
     "data": {
      "text/plain": [
       "<bound method OpenAIObject.to_dict_recursive of <OpenAIObject text_completion id=cmpl-77tFNKPWCz3b5j6HgUaQ1hLqxFvNr at 0x2678cc8ebd0> JSON: {\n",
       "  \"choices\": [\n",
       "    {\n",
       "      \"finish_reason\": \"stop\",\n",
       "      \"index\": 0,\n",
       "      \"logprobs\": null,\n",
       "      \"text\": \"There is no difference between garbanzo beans and chickpeas. They are two different names for the same legume. In some parts of the world, such as in the United States, they are commonly referred to as chickpeas, while in other parts of the world, such as in Spain and Latin America, they are known as garbanzo beans.\"\n",
       "    }\n",
       "  ],\n",
       "  \"created\": 1682115021,\n",
       "  \"id\": \"cmpl-77tFNKPWCz3b5j6HgUaQ1hLqxFvNr\",\n",
       "  \"model\": \"gpt-35-turbo\",\n",
       "  \"object\": \"text_completion\",\n",
       "  \"usage\": {\n",
       "    \"completion_tokens\": 74,\n",
       "    \"prompt_tokens\": 38,\n",
       "    \"total_tokens\": 112\n",
       "  }\n",
       "}>"
      ]
     },
     "execution_count": 9,
     "metadata": {},
     "output_type": "execute_result"
    }
   ],
   "source": [
    "response.to_dict_recursive"
   ]
  },
  {
   "cell_type": "code",
   "execution_count": null,
   "metadata": {},
   "outputs": [],
   "source": []
  }
 ],
 "metadata": {
  "kernelspec": {
   "display_name": "exoplanets",
   "language": "python",
   "name": "python3"
  },
  "language_info": {
   "codemirror_mode": {
    "name": "ipython",
    "version": 3
   },
   "file_extension": ".py",
   "mimetype": "text/x-python",
   "name": "python",
   "nbconvert_exporter": "python",
   "pygments_lexer": "ipython3",
   "version": "3.8.0"
  },
  "orig_nbformat": 4
 },
 "nbformat": 4,
 "nbformat_minor": 2
}
