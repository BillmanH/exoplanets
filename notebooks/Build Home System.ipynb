{
 "cells": [
  {
   "cell_type": "markdown",
   "metadata": {},
   "source": [
    "# Creating The base system and planets"
   ]
  },
  {
   "cell_type": "code",
   "execution_count": 1,
   "metadata": {},
   "outputs": [],
   "source": [
    "import numpy as np\n",
    "from numpy import random as r\n",
    "\n",
    "import pickle\n",
    "\n",
    "%load_ext lab_black"
   ]
  },
  {
   "cell_type": "markdown",
   "metadata": {},
   "source": [
    "First assuming the userform is created as such"
   ]
  },
  {
   "cell_type": "markdown",
   "metadata": {},
   "source": [
    "Data from the userform when creating a new game. "
   ]
  },
  {
   "cell_type": "code",
   "execution_count": 43,
   "metadata": {},
   "outputs": [],
   "source": [
    "data = {\n",
    "    \"planet_name\": \"Earth\",\n",
    "    \"num_planets\": \"6\",\n",
    "    \"num_moons\": \"24\",\n",
    "    \"home_has_moons\": \"on\",\n",
    "    \"starting_pop\": \"7\",\n",
    "    \"population_conformity\": \"0.3\",\n",
    "    \"population_literacy\": \"0.7\",\n",
    "    \"population_aggression\": \"0.5\",\n",
    "    \"population_constitution\": \"0.5\",\n",
    "}"
   ]
  },
  {
   "cell_type": "markdown",
   "metadata": {},
   "source": [
    "data from my stats"
   ]
  },
  {
   "cell_type": "code",
   "execution_count": 45,
   "metadata": {},
   "outputs": [],
   "source": [
    "pdata = {\n",
    "    \"dwarf\": {\n",
    "        \"count\": 6.0,\n",
    "        \"prob\": 0.42857142857142855,\n",
    "        \"mass_mean\": 0.0011061666666666668,\n",
    "        \"mass_std\": 0.0011102811205576121,\n",
    "        \"radius_mean\": 0.129,\n",
    "        \"radius_std\": 0.04591683787021923,\n",
    "    },\n",
    "    \"gas\": {\n",
    "        \"count\": 2.0,\n",
    "        \"prob\": 0.14285714285714285,\n",
    "        \"mass_mean\": 206.49599999999998,\n",
    "        \"mass_std\": 157.45005275324613,\n",
    "        \"radius_mean\": 10.055,\n",
    "        \"radius_std\": 1.2940054095713813,\n",
    "    },\n",
    "    \"ice\": {\n",
    "        \"count\": 2.0,\n",
    "        \"prob\": 0.14285714285714285,\n",
    "        \"mass_mean\": 15.8415,\n",
    "        \"mass_std\": 1.846255805678074,\n",
    "        \"radius_mean\": 3.923,\n",
    "        \"radius_std\": 0.08202438661763928,\n",
    "    },\n",
    "    \"terrestrial\": {\n",
    "        \"count\": 4.0,\n",
    "        \"prob\": 0.2857142857142857,\n",
    "        \"mass_mean\": 0.49432499999999996,\n",
    "        \"mass_std\": 0.4834953524423305,\n",
    "        \"radius_mean\": 0.7162,\n",
    "        \"radius_std\": 0.3056014070648236,\n",
    "    },\n",
    "}"
   ]
  },
  {
   "cell_type": "markdown",
   "metadata": {},
   "source": [
    "some globals that I'll use over and over"
   ]
  },
  {
   "cell_type": "code",
   "execution_count": 19,
   "metadata": {},
   "outputs": [],
   "source": [
    "import sys\n",
    "\n",
    "sys.path.insert(0, \"../web/app/creators\")\n",
    "\n",
    "import universe as u"
   ]
  },
  {
   "cell_type": "markdown",
   "metadata": {},
   "source": [
    "## The star system"
   ]
  },
  {
   "cell_type": "code",
   "execution_count": 22,
   "metadata": {},
   "outputs": [
    {
     "data": {
      "text/plain": [
       "{'name': 'hlātsmouth', 'label': 'system', 'objid': '3644318743147'}"
      ]
     },
     "execution_count": 22,
     "metadata": {},
     "output_type": "execute_result"
    }
   ],
   "source": [
    "system = {\n",
    "    \"name\": u.make_word(u.rnd(2, 1)),\n",
    "    \"label\": \"system\",\n",
    "    \"objid\": universe.uuid(n=13),\n",
    "}\n",
    "system"
   ]
  },
  {
   "cell_type": "markdown",
   "metadata": {},
   "source": [
    "## the sun\n",
    "just using a binary star system at this time"
   ]
  },
  {
   "cell_type": "code",
   "execution_count": 24,
   "metadata": {},
   "outputs": [
    {
     "data": {
      "text/plain": [
       "{'name': 'buxlingc', 'label': 'star', 'objid': '5142014946608'}"
      ]
     },
     "execution_count": 24,
     "metadata": {},
     "output_type": "execute_result"
    }
   ],
   "source": [
    "star = {\"name\": u.make_word(u.rnd(2, 1)), \"label\": \"star\", \"objid\": universe.uuid(n=13)}\n",
    "star"
   ]
  },
  {
   "cell_type": "markdown",
   "metadata": {},
   "source": [
    "now a list of planets\n"
   ]
  },
  {
   "cell_type": "code",
   "execution_count": 42,
   "metadata": {},
   "outputs": [
    {
     "data": {
      "text/plain": [
       "[{'name': 'falfçiše', 'label': 'planet', 'type': 'ice'},\n",
       " {'name': 'djanoléc', 'label': 'planet', 'type': 'terrestrial'},\n",
       " {'name': 'şaqrvūrmeys', 'label': 'planet', 'type': 'gas'},\n",
       " {'name': 'casrendtirīch', 'label': 'planet', 'type': 'terrestrial'},\n",
       " {'name': 'rièmarsh', 'label': 'planet', 'type': 'dwarf'},\n",
       " {'name': '', 'label': 'planet', 'type': 'ice'}]"
      ]
     },
     "execution_count": 42,
     "metadata": {},
     "output_type": "execute_result"
    }
   ],
   "source": [
    "planets = [\n",
    "    {\n",
    "        \"name\": u.make_word(u.rnd(2, 1)),\n",
    "        \"label\": \"planet\",\n",
    "        \"type\": r.choice(types, p=probs),\n",
    "    }\n",
    "    for p in range(int(data[\"num_planets\"]))\n",
    "]\n",
    "planets"
   ]
  },
  {
   "cell_type": "code",
   "execution_count": 36,
   "metadata": {},
   "outputs": [
    {
     "data": {
      "text/plain": [
       "[0.42857142857142855,\n",
       " 0.14285714285714285,\n",
       " 0.14285714285714285,\n",
       " 0.2857142857142858]"
      ]
     },
     "execution_count": 36,
     "metadata": {},
     "output_type": "execute_result"
    }
   ],
   "source": [
    "types = [\"gas\", \"ice\", \"dwarf\", \"terrestrial\"]\n",
    "probs = [x / 14 for x in [6, 2, 2]]\n",
    "probs.append(1 - sum(probs))\n",
    "probs"
   ]
  },
  {
   "cell_type": "code",
   "execution_count": 41,
   "metadata": {},
   "outputs": [
    {
     "data": {
      "text/plain": [
       "'terrestrial'"
      ]
     },
     "execution_count": 41,
     "metadata": {},
     "output_type": "execute_result"
    }
   ],
   "source": [
    "r.choice(types, p=probs)"
   ]
  },
  {
   "cell_type": "code",
   "execution_count": 38,
   "metadata": {},
   "outputs": [
    {
     "data": {
      "text/plain": [
       "(4, 4)"
      ]
     },
     "execution_count": 38,
     "metadata": {},
     "output_type": "execute_result"
    }
   ],
   "source": [
    "len(probs), len(types)"
   ]
  },
  {
   "cell_type": "code",
   "execution_count": null,
   "metadata": {},
   "outputs": [],
   "source": []
  }
 ],
 "metadata": {
  "kernelspec": {
   "display_name": "Python (exoplanets)",
   "language": "python",
   "name": "exoplanets"
  },
  "language_info": {
   "codemirror_mode": {
    "name": "ipython",
    "version": 3
   },
   "file_extension": ".py",
   "mimetype": "text/x-python",
   "name": "python",
   "nbconvert_exporter": "python",
   "pygments_lexer": "ipython3",
   "version": "3.7.0"
  }
 },
 "nbformat": 4,
 "nbformat_minor": 4
}
