{
 "cells": [
  {
   "attachments": {},
   "cell_type": "markdown",
   "metadata": {},
   "source": [
    "# Querying the Graph to study the universe. \n",
    "\n",
    "\n",
    "Eventually this will be an admin page. For now I'm just researching it. \n"
   ]
  },
  {
   "cell_type": "code",
   "execution_count": 1,
   "metadata": {},
   "outputs": [],
   "source": [
    "import sys, os\n",
    "import pandas as pd\n",
    "import altair as alt\n",
    "sys.path.append('..')\n",
    "\n",
    "import  ssl, asyncio\n",
    "\n",
    "ssl._create_default_https_context = ssl._create_unverified_context\n",
    "asyncio.set_event_loop_policy(asyncio.WindowsSelectorEventLoopPolicy())\n",
    "import nest_asyncio\n",
    "# this is required for running in a Jupyter Notebook. \n",
    "\n",
    "nest_asyncio.apply()\n",
    "\n",
    "PII_cols = ['username','userguid','owner']"
   ]
  },
  {
   "cell_type": "markdown",
   "metadata": {},
   "source": []
  },
  {
   "cell_type": "markdown",
   "metadata": {},
   "source": [
    "Most of the `asyncio` and `ssl` stuff is only used for notebooks, it's just here to demo the module. "
   ]
  },
  {
   "cell_type": "code",
   "execution_count": 2,
   "metadata": {},
   "outputs": [
    {
     "name": "stdout",
     "output_type": "stream",
     "text": [
      "executing local windows deployment\n"
     ]
    }
   ],
   "source": [
    "from app.connectors.cmdb_graph import CosmosdbClient"
   ]
  },
  {
   "attachments": {},
   "cell_type": "markdown",
   "metadata": {},
   "source": [
    "connecting using the same module in the app. "
   ]
  },
  {
   "cell_type": "code",
   "execution_count": 3,
   "metadata": {},
   "outputs": [],
   "source": [
    "c = CosmosdbClient()\n"
   ]
  },
  {
   "cell_type": "markdown",
   "metadata": {},
   "source": [
    "Testing the co"
   ]
  },
  {
   "cell_type": "code",
   "execution_count": 4,
   "metadata": {},
   "outputs": [
    {
     "data": {
      "text/plain": [
       "[8002]"
      ]
     },
     "execution_count": 4,
     "metadata": {},
     "output_type": "execute_result"
    }
   ],
   "source": [
    "c.run_query()\n",
    "c.res"
   ]
  },
  {
   "cell_type": "markdown",
   "metadata": {},
   "source": [
    "## Looking at a particular planet"
   ]
  },
  {
   "cell_type": "code",
   "execution_count": 7,
   "metadata": {},
   "outputs": [
    {
     "name": "stdout",
     "output_type": "stream",
     "text": [
      "g.V().has('objid', '4162230164127').valuemap()\n"
     ]
    },
    {
     "data": {
      "text/plain": [
       "[{'name': 'Leyeastpan',\n",
       "  'class': 'terrestrial',\n",
       "  'objid': '4162230164127',\n",
       "  'pop_cap': 100,\n",
       "  'atmosphere': '[{Argon: 0.185}, {Carbon Dioxide: 0.0}, {Helium: 0.037}, {Hydrogen: 0.231}, {Methane: 0.004}, {Nitrogen: 0.353}, {Oxygen: 0.104}, {Sodium: 0.087}]',\n",
       "  'radius': 0.697,\n",
       "  'mass': 0,\n",
       "  'orbitsDistance': 0.682,\n",
       "  'orbitsId': '7405736440710',\n",
       "  'orbitsName': 'Nakly',\n",
       "  'isSupportsLife': 'true',\n",
       "  'isPopulated': 'true',\n",
       "  'isHomeworld': 'true',\n",
       "  'userguid': '8d5b667f-b225-4641-b499-73b77558ff86',\n",
       "  'objtype': 'planet',\n",
       "  'id': '4162230164127'}]"
      ]
     },
     "execution_count": 7,
     "metadata": {},
     "output_type": "execute_result"
    }
   ],
   "source": [
    "location_id = \"4162230164127\"\n",
    "planet_query = f\"g.V().has('objid', '{location_id}').valuemap()\"\n",
    "print(planet_query)\n",
    "c.run_query(planet_query)\n",
    "c.clean_nodes(c.res)"
   ]
  },
  {
   "cell_type": "code",
   "execution_count": 8,
   "metadata": {},
   "outputs": [
    {
     "data": {
      "text/plain": [
       "[{'star': 1, 'system': 1, 'resource': 4}]"
      ]
     },
     "execution_count": 8,
     "metadata": {},
     "output_type": "execute_result"
    }
   ],
   "source": [
    "meta_count = f\"g.V().has('objid', '{location_id}').out().groupcount().by('label')\"\n",
    "\n",
    "\n",
    "c.run_query(meta_count)\n",
    "c.res"
   ]
  },
  {
   "cell_type": "code",
   "execution_count": 9,
   "metadata": {},
   "outputs": [
    {
     "data": {
      "text/plain": [
       "[{'moon': 2, 'pop': 7, 'biome': 1}]"
      ]
     },
     "execution_count": 9,
     "metadata": {},
     "output_type": "execute_result"
    }
   ],
   "source": [
    "meta_count = f\"g.V().has('objid', '{location_id}').in().groupcount().by('label')\"\n",
    "\n",
    "\n",
    "c.run_query(meta_count)\n",
    "c.res"
   ]
  },
  {
   "cell_type": "code",
   "execution_count": 10,
   "metadata": {},
   "outputs": [
    {
     "data": {
      "text/plain": [
       "[{'volume': [1223.0],\n",
       "  'name': ['organics'],\n",
       "  'objid': ['3771548359034'],\n",
       "  'max_volume': [1223],\n",
       "  'description': ['bilogical material that can be consumed by pops'],\n",
       "  'replenish_rate': [10],\n",
       "  'userguid': ['8d5b667f-b225-4641-b499-73b77558ff86'],\n",
       "  'objtype': ['resource']},\n",
       " {'name': ['common minerals'],\n",
       "  'objid': ['2808748861681'],\n",
       "  'volume': [86],\n",
       "  'max_volume': [86],\n",
       "  'description': ['Iron and other common material used in constructuion of infrastructure'],\n",
       "  'userguid': ['8d5b667f-b225-4641-b499-73b77558ff86'],\n",
       "  'objtype': ['resource']},\n",
       " {'name': ['rare minerals'],\n",
       "  'objid': ['1000531404900'],\n",
       "  'volume': [61],\n",
       "  'max_volume': [61],\n",
       "  'description': ['lithium, silver and other rare minerals used in infrastructure and technology'],\n",
       "  'userguid': ['8d5b667f-b225-4641-b499-73b77558ff86'],\n",
       "  'objtype': ['resource']},\n",
       " {'name': ['water'],\n",
       "  'objid': ['2834729569799'],\n",
       "  'volume': [9594],\n",
       "  'max_volume': [9594],\n",
       "  'description': ['H2O ready to be consumed, either frozen or in ice format'],\n",
       "  'userguid': ['8d5b667f-b225-4641-b499-73b77558ff86'],\n",
       "  'objtype': ['resource']}]"
      ]
     },
     "execution_count": 10,
     "metadata": {},
     "output_type": "execute_result"
    }
   ],
   "source": [
    "meta_count = f\"g.V().has('objid', '{location_id}').out('has').valuemap()\"\n",
    "c.run_query(meta_count)\n",
    "c.res"
   ]
  },
  {
   "cell_type": "markdown",
   "metadata": {},
   "source": [
    "Ok. So why aren't they starving. "
   ]
  },
  {
   "cell_type": "code",
   "execution_count": 14,
   "metadata": {},
   "outputs": [
    {
     "data": {
      "text/html": [
       "<div>\n",
       "<style scoped>\n",
       "    .dataframe tbody tr th:only-of-type {\n",
       "        vertical-align: middle;\n",
       "    }\n",
       "\n",
       "    .dataframe tbody tr th {\n",
       "        vertical-align: top;\n",
       "    }\n",
       "\n",
       "    .dataframe thead th {\n",
       "        text-align: right;\n",
       "    }\n",
       "</style>\n",
       "<table border=\"1\" class=\"dataframe\">\n",
       "  <thead>\n",
       "    <tr style=\"text-align: right;\">\n",
       "      <th></th>\n",
       "      <th>type</th>\n",
       "      <th>comment</th>\n",
       "      <th>effort</th>\n",
       "      <th>applies_to</th>\n",
       "      <th>owned_by</th>\n",
       "      <th>building</th>\n",
       "      <th>created_at</th>\n",
       "      <th>to_build</th>\n",
       "      <th>objid</th>\n",
       "      <th>userguid</th>\n",
       "      <th>objtype</th>\n",
       "      <th>id</th>\n",
       "      <th>requires_attr</th>\n",
       "      <th>augments_self_properties</th>\n",
       "      <th>description</th>\n",
       "      <th>name</th>\n",
       "    </tr>\n",
       "  </thead>\n",
       "  <tbody>\n",
       "    <tr>\n",
       "      <th>0</th>\n",
       "      <td>construction</td>\n",
       "      <td>constructing a Department of Forestry</td>\n",
       "      <td>10</td>\n",
       "      <td>pop</td>\n",
       "      <td>pop</td>\n",
       "      <td>forestry</td>\n",
       "      <td>55183</td>\n",
       "      <td>{type: forestry, label: building, name: Depart...</td>\n",
       "      <td>7166600645413</td>\n",
       "      <td>8d5b667f-b225-4641-b499-73b77558ff86</td>\n",
       "      <td>action</td>\n",
       "      <td>7166600645413</td>\n",
       "      <td>NaN</td>\n",
       "      <td>NaN</td>\n",
       "      <td>NaN</td>\n",
       "      <td>NaN</td>\n",
       "    </tr>\n",
       "    <tr>\n",
       "      <th>1</th>\n",
       "      <td>build_infrastructure</td>\n",
       "      <td>NaN</td>\n",
       "      <td>3</td>\n",
       "      <td>pop</td>\n",
       "      <td>NaN</td>\n",
       "      <td>NaN</td>\n",
       "      <td>55190</td>\n",
       "      <td>NaN</td>\n",
       "      <td>4258425703967</td>\n",
       "      <td>8d5b667f-b225-4641-b499-73b77558ff86</td>\n",
       "      <td>action</td>\n",
       "      <td>4258425703967</td>\n",
       "      <td>{wealth: 0.5}</td>\n",
       "      <td>{wealth: -0.1, industry: 0.1}</td>\n",
       "      <td>increase industry by investing in local infras...</td>\n",
       "      <td>build infrastructure</td>\n",
       "    </tr>\n",
       "    <tr>\n",
       "      <th>2</th>\n",
       "      <td>build_infrastructure</td>\n",
       "      <td>NaN</td>\n",
       "      <td>3</td>\n",
       "      <td>pop</td>\n",
       "      <td>NaN</td>\n",
       "      <td>NaN</td>\n",
       "      <td>55198</td>\n",
       "      <td>NaN</td>\n",
       "      <td>9918343745025</td>\n",
       "      <td>8d5b667f-b225-4641-b499-73b77558ff86</td>\n",
       "      <td>action</td>\n",
       "      <td>9918343745025</td>\n",
       "      <td>{wealth: 0.1}</td>\n",
       "      <td>{wealth: -0.1, industry: 0.1}</td>\n",
       "      <td>increase industry by investing in local infras...</td>\n",
       "      <td>build infrastructure</td>\n",
       "    </tr>\n",
       "    <tr>\n",
       "      <th>3</th>\n",
       "      <td>build_infrastructure</td>\n",
       "      <td>NaN</td>\n",
       "      <td>3</td>\n",
       "      <td>pop</td>\n",
       "      <td>NaN</td>\n",
       "      <td>NaN</td>\n",
       "      <td>55198</td>\n",
       "      <td>NaN</td>\n",
       "      <td>1140951323452</td>\n",
       "      <td>8d5b667f-b225-4641-b499-73b77558ff86</td>\n",
       "      <td>action</td>\n",
       "      <td>1140951323452</td>\n",
       "      <td>{wealth: 0.1}</td>\n",
       "      <td>{wealth: -0.1, industry: 0.1}</td>\n",
       "      <td>increase industry by investing in local infras...</td>\n",
       "      <td>build infrastructure</td>\n",
       "    </tr>\n",
       "    <tr>\n",
       "      <th>4</th>\n",
       "      <td>build_infrastructure</td>\n",
       "      <td>NaN</td>\n",
       "      <td>3</td>\n",
       "      <td>pop</td>\n",
       "      <td>NaN</td>\n",
       "      <td>NaN</td>\n",
       "      <td>55198</td>\n",
       "      <td>NaN</td>\n",
       "      <td>2913316203819</td>\n",
       "      <td>8d5b667f-b225-4641-b499-73b77558ff86</td>\n",
       "      <td>action</td>\n",
       "      <td>2913316203819</td>\n",
       "      <td>{wealth: 0.1}</td>\n",
       "      <td>{wealth: -0.1, industry: 0.1}</td>\n",
       "      <td>increase industry by investing in local infras...</td>\n",
       "      <td>build infrastructure</td>\n",
       "    </tr>\n",
       "  </tbody>\n",
       "</table>\n",
       "</div>"
      ],
      "text/plain": [
       "                   type                                comment  effort  \\\n",
       "0          construction  constructing a Department of Forestry      10   \n",
       "1  build_infrastructure                                    NaN       3   \n",
       "2  build_infrastructure                                    NaN       3   \n",
       "3  build_infrastructure                                    NaN       3   \n",
       "4  build_infrastructure                                    NaN       3   \n",
       "\n",
       "  applies_to owned_by  building  created_at  \\\n",
       "0        pop      pop  forestry       55183   \n",
       "1        pop      NaN       NaN       55190   \n",
       "2        pop      NaN       NaN       55198   \n",
       "3        pop      NaN       NaN       55198   \n",
       "4        pop      NaN       NaN       55198   \n",
       "\n",
       "                                            to_build          objid  \\\n",
       "0  {type: forestry, label: building, name: Depart...  7166600645413   \n",
       "1                                                NaN  4258425703967   \n",
       "2                                                NaN  9918343745025   \n",
       "3                                                NaN  1140951323452   \n",
       "4                                                NaN  2913316203819   \n",
       "\n",
       "                               userguid objtype             id  requires_attr  \\\n",
       "0  8d5b667f-b225-4641-b499-73b77558ff86  action  7166600645413            NaN   \n",
       "1  8d5b667f-b225-4641-b499-73b77558ff86  action  4258425703967  {wealth: 0.5}   \n",
       "2  8d5b667f-b225-4641-b499-73b77558ff86  action  9918343745025  {wealth: 0.1}   \n",
       "3  8d5b667f-b225-4641-b499-73b77558ff86  action  1140951323452  {wealth: 0.1}   \n",
       "4  8d5b667f-b225-4641-b499-73b77558ff86  action  2913316203819  {wealth: 0.1}   \n",
       "\n",
       "        augments_self_properties  \\\n",
       "0                            NaN   \n",
       "1  {wealth: -0.1, industry: 0.1}   \n",
       "2  {wealth: -0.1, industry: 0.1}   \n",
       "3  {wealth: -0.1, industry: 0.1}   \n",
       "4  {wealth: -0.1, industry: 0.1}   \n",
       "\n",
       "                                         description                  name  \n",
       "0                                                NaN                   NaN  \n",
       "1  increase industry by investing in local infras...  build infrastructure  \n",
       "2  increase industry by investing in local infras...  build infrastructure  \n",
       "3  increase industry by investing in local infras...  build infrastructure  \n",
       "4  increase industry by investing in local infras...  build infrastructure  "
      ]
     },
     "execution_count": 14,
     "metadata": {},
     "output_type": "execute_result"
    }
   ],
   "source": [
    "meta_count = f\"g.V().has('label', 'action').valuemap()\"\n",
    "c.run_query(meta_count)\n",
    "pd.DataFrame(c.clean_nodes(c.res))"
   ]
  },
  {
   "cell_type": "code",
   "execution_count": 16,
   "metadata": {},
   "outputs": [
    {
     "data": {
      "text/html": [
       "<div>\n",
       "<style scoped>\n",
       "    .dataframe tbody tr th:only-of-type {\n",
       "        vertical-align: middle;\n",
       "    }\n",
       "\n",
       "    .dataframe tbody tr th {\n",
       "        vertical-align: top;\n",
       "    }\n",
       "\n",
       "    .dataframe thead th {\n",
       "        text-align: right;\n",
       "    }\n",
       "</style>\n",
       "<table border=\"1\" class=\"dataframe\">\n",
       "  <thead>\n",
       "    <tr style=\"text-align: right;\">\n",
       "      <th></th>\n",
       "      <th>isIdle</th>\n",
       "      <th>name</th>\n",
       "      <th>objid</th>\n",
       "      <th>conformity</th>\n",
       "      <th>literacy</th>\n",
       "      <th>aggression</th>\n",
       "      <th>constitution</th>\n",
       "      <th>health</th>\n",
       "      <th>isIn</th>\n",
       "      <th>industry</th>\n",
       "      <th>wealth</th>\n",
       "      <th>factionLoyalty</th>\n",
       "      <th>userguid</th>\n",
       "      <th>objtype</th>\n",
       "      <th>id</th>\n",
       "    </tr>\n",
       "  </thead>\n",
       "  <tbody>\n",
       "    <tr>\n",
       "      <th>0</th>\n",
       "      <td>true</td>\n",
       "      <td>Dalram Leymon</td>\n",
       "      <td>2775406017619</td>\n",
       "      <td>0.802</td>\n",
       "      <td>0.798</td>\n",
       "      <td>0.315</td>\n",
       "      <td>0.190</td>\n",
       "      <td>0.7</td>\n",
       "      <td>6953342521081</td>\n",
       "      <td>0.2525</td>\n",
       "      <td>0.5252</td>\n",
       "      <td>0.812</td>\n",
       "      <td>8d5b667f-b225-4641-b499-73b77558ff86</td>\n",
       "      <td>pop</td>\n",
       "      <td>2775406017619</td>\n",
       "    </tr>\n",
       "    <tr>\n",
       "      <th>1</th>\n",
       "      <td>true</td>\n",
       "      <td>Dalram Dongfieldhal</td>\n",
       "      <td>7646745695043</td>\n",
       "      <td>0.752</td>\n",
       "      <td>0.761</td>\n",
       "      <td>0.268</td>\n",
       "      <td>0.272</td>\n",
       "      <td>0.7</td>\n",
       "      <td>6953342521081</td>\n",
       "      <td>0.3700</td>\n",
       "      <td>0.4155</td>\n",
       "      <td>0.729</td>\n",
       "      <td>8d5b667f-b225-4641-b499-73b77558ff86</td>\n",
       "      <td>pop</td>\n",
       "      <td>7646745695043</td>\n",
       "    </tr>\n",
       "    <tr>\n",
       "      <th>2</th>\n",
       "      <td>true</td>\n",
       "      <td>Dalram Sar</td>\n",
       "      <td>1561022813030</td>\n",
       "      <td>0.744</td>\n",
       "      <td>0.667</td>\n",
       "      <td>0.264</td>\n",
       "      <td>0.265</td>\n",
       "      <td>0.7</td>\n",
       "      <td>6953342521081</td>\n",
       "      <td>0.2645</td>\n",
       "      <td>0.4658</td>\n",
       "      <td>0.667</td>\n",
       "      <td>8d5b667f-b225-4641-b499-73b77558ff86</td>\n",
       "      <td>pop</td>\n",
       "      <td>1561022813030</td>\n",
       "    </tr>\n",
       "    <tr>\n",
       "      <th>3</th>\n",
       "      <td>true</td>\n",
       "      <td>Dalram Sildrotel</td>\n",
       "      <td>4084988156125</td>\n",
       "      <td>0.708</td>\n",
       "      <td>0.712</td>\n",
       "      <td>0.307</td>\n",
       "      <td>0.214</td>\n",
       "      <td>0.7</td>\n",
       "      <td>6953342521081</td>\n",
       "      <td>0.3605</td>\n",
       "      <td>0.3862</td>\n",
       "      <td>0.677</td>\n",
       "      <td>8d5b667f-b225-4641-b499-73b77558ff86</td>\n",
       "      <td>pop</td>\n",
       "      <td>4084988156125</td>\n",
       "    </tr>\n",
       "    <tr>\n",
       "      <th>4</th>\n",
       "      <td>true</td>\n",
       "      <td>Dalram Che</td>\n",
       "      <td>3159775761251</td>\n",
       "      <td>0.800</td>\n",
       "      <td>0.736</td>\n",
       "      <td>0.310</td>\n",
       "      <td>0.119</td>\n",
       "      <td>0.7</td>\n",
       "      <td>6953342521081</td>\n",
       "      <td>0.3145</td>\n",
       "      <td>0.3752</td>\n",
       "      <td>0.782</td>\n",
       "      <td>8d5b667f-b225-4641-b499-73b77558ff86</td>\n",
       "      <td>pop</td>\n",
       "      <td>3159775761251</td>\n",
       "    </tr>\n",
       "    <tr>\n",
       "      <th>5</th>\n",
       "      <td>true</td>\n",
       "      <td>Dalram Lu</td>\n",
       "      <td>4377972941053</td>\n",
       "      <td>0.820</td>\n",
       "      <td>0.657</td>\n",
       "      <td>0.277</td>\n",
       "      <td>0.152</td>\n",
       "      <td>0.7</td>\n",
       "      <td>6953342521081</td>\n",
       "      <td>0.3145</td>\n",
       "      <td>0.3358</td>\n",
       "      <td>0.849</td>\n",
       "      <td>8d5b667f-b225-4641-b499-73b77558ff86</td>\n",
       "      <td>pop</td>\n",
       "      <td>4377972941053</td>\n",
       "    </tr>\n",
       "    <tr>\n",
       "      <th>6</th>\n",
       "      <td>true</td>\n",
       "      <td>Dalram Fe</td>\n",
       "      <td>6359970696314</td>\n",
       "      <td>0.773</td>\n",
       "      <td>0.654</td>\n",
       "      <td>0.316</td>\n",
       "      <td>0.201</td>\n",
       "      <td>0.7</td>\n",
       "      <td>6953342521081</td>\n",
       "      <td>0.2585</td>\n",
       "      <td>0.4562</td>\n",
       "      <td>0.792</td>\n",
       "      <td>8d5b667f-b225-4641-b499-73b77558ff86</td>\n",
       "      <td>pop</td>\n",
       "      <td>6359970696314</td>\n",
       "    </tr>\n",
       "  </tbody>\n",
       "</table>\n",
       "</div>"
      ],
      "text/plain": [
       "  isIdle                 name          objid  conformity  literacy  \\\n",
       "0   true        Dalram Leymon  2775406017619       0.802     0.798   \n",
       "1   true  Dalram Dongfieldhal  7646745695043       0.752     0.761   \n",
       "2   true           Dalram Sar  1561022813030       0.744     0.667   \n",
       "3   true     Dalram Sildrotel  4084988156125       0.708     0.712   \n",
       "4   true           Dalram Che  3159775761251       0.800     0.736   \n",
       "5   true            Dalram Lu  4377972941053       0.820     0.657   \n",
       "6   true            Dalram Fe  6359970696314       0.773     0.654   \n",
       "\n",
       "   aggression  constitution  health           isIn  industry  wealth  \\\n",
       "0       0.315         0.190     0.7  6953342521081    0.2525  0.5252   \n",
       "1       0.268         0.272     0.7  6953342521081    0.3700  0.4155   \n",
       "2       0.264         0.265     0.7  6953342521081    0.2645  0.4658   \n",
       "3       0.307         0.214     0.7  6953342521081    0.3605  0.3862   \n",
       "4       0.310         0.119     0.7  6953342521081    0.3145  0.3752   \n",
       "5       0.277         0.152     0.7  6953342521081    0.3145  0.3358   \n",
       "6       0.316         0.201     0.7  6953342521081    0.2585  0.4562   \n",
       "\n",
       "   factionLoyalty                              userguid objtype             id  \n",
       "0           0.812  8d5b667f-b225-4641-b499-73b77558ff86     pop  2775406017619  \n",
       "1           0.729  8d5b667f-b225-4641-b499-73b77558ff86     pop  7646745695043  \n",
       "2           0.667  8d5b667f-b225-4641-b499-73b77558ff86     pop  1561022813030  \n",
       "3           0.677  8d5b667f-b225-4641-b499-73b77558ff86     pop  4084988156125  \n",
       "4           0.782  8d5b667f-b225-4641-b499-73b77558ff86     pop  3159775761251  \n",
       "5           0.849  8d5b667f-b225-4641-b499-73b77558ff86     pop  4377972941053  \n",
       "6           0.792  8d5b667f-b225-4641-b499-73b77558ff86     pop  6359970696314  "
      ]
     },
     "execution_count": 16,
     "metadata": {},
     "output_type": "execute_result"
    }
   ],
   "source": [
    "starving_pop_query =f\"\"\"\n",
    "    g.V().has('objid','{location_id}').in('inhabits').valuemap()\n",
    "    \"\"\"\n",
    "\n",
    "c.run_query(starving_pop_query)\n",
    "starving_pops = c.clean_nodes(c.res)\n",
    "pd.DataFrame(starving_pops)"
   ]
  },
  {
   "cell_type": "code",
   "execution_count": null,
   "metadata": {},
   "outputs": [],
   "source": []
  }
 ],
 "metadata": {
  "kernelspec": {
   "display_name": "Python 3.7.0 ('exoplanets')",
   "language": "python",
   "name": "python3"
  },
  "language_info": {
   "codemirror_mode": {
    "name": "ipython",
    "version": 3
   },
   "file_extension": ".py",
   "mimetype": "text/x-python",
   "name": "python",
   "nbconvert_exporter": "python",
   "pygments_lexer": "ipython3",
   "version": "3.8.16"
  },
  "orig_nbformat": 4,
  "vscode": {
   "interpreter": {
    "hash": "625a17269cb94aebb094cbcf5e0e8340f26b69d46569da60e8fc69439048adbf"
   }
  }
 },
 "nbformat": 4,
 "nbformat_minor": 2
}
