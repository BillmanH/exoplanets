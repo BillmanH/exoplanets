{
 "cells": [
  {
   "attachments": {},
   "cell_type": "markdown",
   "metadata": {},
   "source": [
    "# Querying the Graph to study the universe. \n",
    "\n",
    "\n",
    "Eventually this will be an admin page. For now I'm just researching it. \n"
   ]
  },
  {
   "cell_type": "code",
   "execution_count": 2,
   "metadata": {},
   "outputs": [],
   "source": [
    "import sys, os\n",
    "import pandas as pd\n",
    "import altair as alt\n",
    "sys.path.append('..')\n",
    "\n",
    "import  ssl, asyncio\n",
    "\n",
    "ssl._create_default_https_context = ssl._create_unverified_context\n",
    "asyncio.set_event_loop_policy(asyncio.WindowsSelectorEventLoopPolicy())\n",
    "import nest_asyncio\n",
    "# this is required for running in a Jupyter Notebook. \n",
    "\n",
    "nest_asyncio.apply()\n",
    "\n",
    "PII_cols = ['username','userguid','owner']"
   ]
  },
  {
   "cell_type": "markdown",
   "metadata": {},
   "source": []
  },
  {
   "cell_type": "markdown",
   "metadata": {},
   "source": [
    "Most of the `asyncio` and `ssl` stuff is only used for notebooks, it's just here to demo the module. "
   ]
  },
  {
   "cell_type": "code",
   "execution_count": 3,
   "metadata": {},
   "outputs": [
    {
     "name": "stdout",
     "output_type": "stream",
     "text": [
      "executing local windows deployment\n"
     ]
    }
   ],
   "source": [
    "from app.connectors.cmdb_graph import CosmosdbClient"
   ]
  },
  {
   "attachments": {},
   "cell_type": "markdown",
   "metadata": {},
   "source": [
    "connecting using the same module in the app. "
   ]
  },
  {
   "cell_type": "code",
   "execution_count": 4,
   "metadata": {},
   "outputs": [],
   "source": [
    "c = CosmosdbClient()\n"
   ]
  },
  {
   "cell_type": "markdown",
   "metadata": {},
   "source": [
    "Testing the co"
   ]
  },
  {
   "cell_type": "code",
   "execution_count": 5,
   "metadata": {},
   "outputs": [
    {
     "data": {
      "text/plain": [
       "[8120]"
      ]
     },
     "execution_count": 5,
     "metadata": {},
     "output_type": "execute_result"
    }
   ],
   "source": [
    "c.run_query()\n",
    "c.res"
   ]
  },
  {
   "cell_type": "markdown",
   "metadata": {},
   "source": [
    "## Looking at a particular planet"
   ]
  },
  {
   "cell_type": "code",
   "execution_count": 18,
   "metadata": {},
   "outputs": [
    {
     "name": "stdout",
     "output_type": "stream",
     "text": [
      "g.V().has('objid', '9546786684762').valuemap()\n"
     ]
    },
    {
     "data": {
      "text/plain": [
       "[{'name': 'Heimsan',\n",
       "  'class': 'terrestrial',\n",
       "  'objid': '9546786684762',\n",
       "  'pop_cap': 100,\n",
       "  'atmosphere': '[{Argon: 0.024}, {Carbon Dioxide: 0.019}, {Helium: 0.022}, {Hydrogen: 0.36}, {Methane: 0.005}, {Nitrogen: 0.28}, {Oxygen: 0.183}, {Sodium: 0.106}]',\n",
       "  'radius': 0.528,\n",
       "  'mass': 0.316,\n",
       "  'orbitsDistance': 0.426,\n",
       "  'orbitsId': '6261400091664',\n",
       "  'orbitsName': 'Nal',\n",
       "  'isSupportsLife': 'true',\n",
       "  'isPopulated': 'true',\n",
       "  'isHomeworld': 'true',\n",
       "  'userguid': '8d5b667f-b225-4641-b499-73b77558ff86',\n",
       "  'objtype': 'planet',\n",
       "  'id': '9546786684762'}]"
      ]
     },
     "execution_count": 18,
     "metadata": {},
     "output_type": "execute_result"
    }
   ],
   "source": [
    "location_id = \"9546786684762\"\n",
    "planet_query = f\"g.V().has('objid', '{location_id}').valuemap()\"\n",
    "print(planet_query)\n",
    "c.run_query(planet_query)\n",
    "c.clean_nodes(c.res)"
   ]
  },
  {
   "cell_type": "code",
   "execution_count": 19,
   "metadata": {},
   "outputs": [
    {
     "data": {
      "text/plain": [
       "[{'star': 1, 'system': 1, 'resource': 4}]"
      ]
     },
     "execution_count": 19,
     "metadata": {},
     "output_type": "execute_result"
    }
   ],
   "source": [
    "meta_count = f\"g.V().has('objid', '{location_id}').out().groupcount().by('label')\"\n",
    "\n",
    "\n",
    "c.run_query(meta_count)\n",
    "c.res"
   ]
  },
  {
   "cell_type": "code",
   "execution_count": 20,
   "metadata": {},
   "outputs": [
    {
     "data": {
      "text/plain": [
       "[{'moon': 2, 'pop': 101, 'biome': 1}]"
      ]
     },
     "execution_count": 20,
     "metadata": {},
     "output_type": "execute_result"
    }
   ],
   "source": [
    "meta_count = f\"g.V().has('objid', '{location_id}').in().groupcount().by('label')\"\n",
    "\n",
    "\n",
    "c.run_query(meta_count)\n",
    "c.res"
   ]
  },
  {
   "cell_type": "code",
   "execution_count": 23,
   "metadata": {},
   "outputs": [
    {
     "data": {
      "text/plain": [
       "[{'volume': [0],\n",
       "  'name': ['organics'],\n",
       "  'objid': ['2111521261896'],\n",
       "  'max_volume': [1003],\n",
       "  'description': ['bilogical material that can be consumed by pops'],\n",
       "  'replenish_rate': [10],\n",
       "  'userguid': ['8d5b667f-b225-4641-b499-73b77558ff86'],\n",
       "  'objtype': ['resource']},\n",
       " {'name': ['common minerals'],\n",
       "  'objid': ['2953562742312'],\n",
       "  'volume': [88],\n",
       "  'max_volume': [88],\n",
       "  'description': ['Iron and other common material used in constructuion of infrastructure'],\n",
       "  'userguid': ['8d5b667f-b225-4641-b499-73b77558ff86'],\n",
       "  'objtype': ['resource']},\n",
       " {'name': ['rare minerals'],\n",
       "  'objid': ['3990725193104'],\n",
       "  'volume': [52],\n",
       "  'max_volume': [52],\n",
       "  'description': ['lithium, silver and other rare minerals used in infrastructure and technology'],\n",
       "  'userguid': ['8d5b667f-b225-4641-b499-73b77558ff86'],\n",
       "  'objtype': ['resource']},\n",
       " {'name': ['water'],\n",
       "  'objid': ['6104225671322'],\n",
       "  'volume': [9735],\n",
       "  'max_volume': [9735],\n",
       "  'description': ['H2O ready to be consumed, either frozen or in ice format'],\n",
       "  'userguid': ['8d5b667f-b225-4641-b499-73b77558ff86'],\n",
       "  'objtype': ['resource']}]"
      ]
     },
     "execution_count": 23,
     "metadata": {},
     "output_type": "execute_result"
    }
   ],
   "source": [
    "meta_count = f\"g.V().has('objid', '{location_id}').out('has').valuemap()\"\n",
    "c.run_query(meta_count)\n",
    "c.res"
   ]
  },
  {
   "cell_type": "markdown",
   "metadata": {},
   "source": [
    "Ok. So why aren't they starving. "
   ]
  },
  {
   "cell_type": "code",
   "execution_count": 24,
   "metadata": {},
   "outputs": [
    {
     "data": {
      "text/plain": [
       "[{'type': ['individual_education'],\n",
       "  'requires_attr': ['{wealth: 0.1}'],\n",
       "  'applies_to': ['pop'],\n",
       "  'effort': [2],\n",
       "  'augments_self_properties': ['{wealth: -.1, literacy: 0.1, factionLoyalty: -.05}'],\n",
       "  'comment': ['expand privatized education, increase literacy and wealth at the cost of faction loyalty'],\n",
       "  'name': ['individual education'],\n",
       "  'created_at': [1014],\n",
       "  'objid': ['7161877396226'],\n",
       "  'username': ['BillmanLocal2'],\n",
       "  'objtype': ['action']},\n",
       " {'type': ['construction'],\n",
       "  'comment': ['constructing a farmland'],\n",
       "  'effort': [1],\n",
       "  'applies_to': ['pop'],\n",
       "  'owned_by': ['pop'],\n",
       "  'building': ['farmland'],\n",
       "  'created_at': [1014],\n",
       "  'objid': ['1021261158046'],\n",
       "  'username': ['BillmanLocal2'],\n",
       "  'objtype': ['action']},\n",
       " {'type': ['construction'],\n",
       "  'comment': ['constructing a solar panel'],\n",
       "  'effort': [3],\n",
       "  'applies_to': ['pop'],\n",
       "  'owned_by': ['pop'],\n",
       "  'building': ['solar_panel'],\n",
       "  'created_at': [1014],\n",
       "  'objid': ['0302107294481'],\n",
       "  'username': ['BillmanLocal2'],\n",
       "  'objtype': ['action']},\n",
       " {'type': ['construction'],\n",
       "  'comment': ['constructing a farmland'],\n",
       "  'effort': [1],\n",
       "  'applies_to': ['pop'],\n",
       "  'owned_by': ['pop'],\n",
       "  'building': ['farmland'],\n",
       "  'created_at': [1019],\n",
       "  'objid': ['6798498188490'],\n",
       "  'username': ['BillmanLocal2'],\n",
       "  'objtype': ['action']},\n",
       " {'type': ['construction'],\n",
       "  'comment': ['constructing a farmland'],\n",
       "  'effort': [1],\n",
       "  'applies_to': ['pop'],\n",
       "  'owned_by': ['pop'],\n",
       "  'building': ['farmland'],\n",
       "  'created_at': [1019],\n",
       "  'objid': ['3218335523550'],\n",
       "  'username': ['BillmanLocal2'],\n",
       "  'objtype': ['action']},\n",
       " {'type': ['patriot_education'],\n",
       "  'applies_to': ['pop'],\n",
       "  'effort': [1],\n",
       "  'requires_attr': ['{factionLoyalty: 0.1}'],\n",
       "  'augments_self_properties': ['{factionLoyalty: 0.05, literacy: 0.1, aggression: 0.05}'],\n",
       "  'comment': ['expand public education programs with a collective theme, increase literacy and faction loyalty. However, will cause some militaristic tendancies.'],\n",
       "  'name': ['patriot education'],\n",
       "  'created_at': [1019],\n",
       "  'objid': ['2231934637582'],\n",
       "  'username': ['BillmanLocal2'],\n",
       "  'objtype': ['action']},\n",
       " {'type': ['construction'],\n",
       "  'comment': ['constructing a farmland'],\n",
       "  'effort': [1],\n",
       "  'applies_to': ['pop'],\n",
       "  'owned_by': ['pop'],\n",
       "  'building': ['farmland'],\n",
       "  'created_at': [1023],\n",
       "  'objid': ['4675331678936'],\n",
       "  'username': ['BillmanLocal2'],\n",
       "  'objtype': ['action']},\n",
       " {'type': ['healthcare_initiatives'],\n",
       "  'applies_to': ['pop'],\n",
       "  'effort': [2],\n",
       "  'requires_attr': ['{wealth: 0.1}'],\n",
       "  'augments_self_properties': ['{health: 0.05, wealth: -.05}'],\n",
       "  'comment': ['increase the health of your population slightly, at the cost of a small amount of wealth'],\n",
       "  'name': ['healthcare initiatives'],\n",
       "  'created_at': [1027],\n",
       "  'objid': ['4498137374180'],\n",
       "  'username': ['BillmanLocal'],\n",
       "  'objtype': ['action']},\n",
       " {'type': ['healthcare_initiatives'],\n",
       "  'applies_to': ['pop'],\n",
       "  'effort': [2],\n",
       "  'requires_attr': ['{wealth: 0.1}'],\n",
       "  'augments_self_properties': ['{health: 0.05, wealth: -.05}'],\n",
       "  'comment': ['increase the health of your population slightly, at the cost of a small amount of wealth'],\n",
       "  'name': ['healthcare initiatives'],\n",
       "  'created_at': [21864],\n",
       "  'objid': ['2288430642506'],\n",
       "  'userguid': ['8d5b667f-b225-4641-b499-73b77558ff86'],\n",
       "  'objtype': ['action']},\n",
       " {'type': ['patriot_education'],\n",
       "  'applies_to': ['pop'],\n",
       "  'effort': [1],\n",
       "  'requires_attr': ['{factionLoyalty: 0.1}'],\n",
       "  'augments_self_properties': ['{factionLoyalty: 0.05, literacy: 0.1, aggression: 0.05}'],\n",
       "  'comment': ['expand public education programs with a collective theme, increase literacy and faction loyalty. However, will cause some militaristic tendancies.'],\n",
       "  'name': ['patriot education'],\n",
       "  'created_at': [21864],\n",
       "  'objid': ['4883083919505'],\n",
       "  'userguid': ['8d5b667f-b225-4641-b499-73b77558ff86'],\n",
       "  'objtype': ['action']}]"
      ]
     },
     "execution_count": 24,
     "metadata": {},
     "output_type": "execute_result"
    }
   ],
   "source": [
    "meta_count = f\"g.V().has('label', 'action').valuemap()\"\n",
    "c.run_query(meta_count)\n",
    "c.res"
   ]
  },
  {
   "cell_type": "code",
   "execution_count": null,
   "metadata": {},
   "outputs": [],
   "source": []
  }
 ],
 "metadata": {
  "kernelspec": {
   "display_name": "Python 3.7.0 ('exoplanets')",
   "language": "python",
   "name": "python3"
  },
  "language_info": {
   "codemirror_mode": {
    "name": "ipython",
    "version": 3
   },
   "file_extension": ".py",
   "mimetype": "text/x-python",
   "name": "python",
   "nbconvert_exporter": "python",
   "pygments_lexer": "ipython3",
   "version": "3.8.16"
  },
  "orig_nbformat": 4,
  "vscode": {
   "interpreter": {
    "hash": "625a17269cb94aebb094cbcf5e0e8340f26b69d46569da60e8fc69439048adbf"
   }
  }
 },
 "nbformat": 4,
 "nbformat_minor": 2
}
