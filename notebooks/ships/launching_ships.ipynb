{
 "cells": [
  {
   "cell_type": "markdown",
   "id": "85ad7875",
   "metadata": {},
   "source": [
    "# Launching ships\n",
    "\n",
    "Involves: \n",
    "\n",
    "* Choosing a target\n",
    "* Calculating the distance to that target\n",
    "* TODO: the fuel costs of breaking orbit\n",
    "* TODO: validate that the faction has enough fuel to run the mission\n",
    "\n",
    "    \n"
   ]
  },
  {
   "cell_type": "code",
   "execution_count": 1,
   "id": "a9a146f7",
   "metadata": {},
   "outputs": [],
   "source": [
    "import sys, os\n",
    "import pandas as pd\n",
    "import altair as alt\n",
    "sys.path.append('../..')\n",
    "\n",
    "import  ssl, asyncio\n",
    "\n",
    "ssl._create_default_https_context = ssl._create_unverified_context\n",
    "asyncio.set_event_loop_policy(asyncio.WindowsSelectorEventLoopPolicy())\n",
    "import nest_asyncio\n",
    "# this is required for running in a Jupyter Notebook. \n",
    "\n",
    "nest_asyncio.apply()\n",
    "\n",
    "PII_cols = ['username','userguid','owner']"
   ]
  },
  {
   "cell_type": "code",
   "execution_count": 4,
   "id": "bcee85d6",
   "metadata": {},
   "outputs": [],
   "source": [
    "from app.ajaxviews import ships\n",
    "\n",
    "c = ships.CosmosdbClient()"
   ]
  },
  {
   "cell_type": "code",
   "execution_count": 7,
   "id": "16162243",
   "metadata": {},
   "outputs": [
    {
     "data": {
      "text/plain": [
       "{'id': '04b9cba5-67c8-47e6-afcc-5b08d8c2a5e7',\n",
       " 'label': 'isIn',\n",
       " 'type': 'edge',\n",
       " 'inVLabel': 'building',\n",
       " 'outVLabel': 'ship',\n",
       " 'inV': '4254954610763',\n",
       " 'outV': '5254363799802',\n",
       " 'properties': {'userguid': '8d5b667f-b225-4641-b499-73b77558ff86'}}"
      ]
     },
     "execution_count": 7,
     "metadata": {},
     "output_type": "execute_result"
    }
   ],
   "source": [
    "ship = {\"name\": \"fakeship\",\n",
    "        \"objid\": \"5254363799802\"}\n",
    "\n",
    "shipIsIn = ships.get_ship_isin(c, ship)\n",
    "shipIsIn"
   ]
  },
  {
   "cell_type": "code",
   "execution_count": 9,
   "id": "ae3e1e6b",
   "metadata": {},
   "outputs": [
    {
     "data": {
      "text/plain": [
       "{'name': 'Karnia',\n",
       " 'class': 'terrestrial',\n",
       " 'objid': '3366473281713',\n",
       " 'pop_cap': 100,\n",
       " 'atmosphere': '[{Argon: 0.108}, {Carbon Dioxide: 0.357}, {Helium: 0.066}, {Hydrogen: 0.172}, {Methane: 0.002}, {Nitrogen: 0.15}, {Oxygen: 0.065}, {Sodium: 0.079}]',\n",
       " 'radius': 0.919,\n",
       " 'mass': 0.392,\n",
       " 'orbitsDistance': 0.631,\n",
       " 'orbitsId': '7510190479449',\n",
       " 'orbitsName': 'Hesroycia',\n",
       " 'isSupportsLife': 'true',\n",
       " 'isPopulated': 'true',\n",
       " 'isHomeworld': 'true',\n",
       " 'userguid': '8d5b667f-b225-4641-b499-73b77558ff86',\n",
       " 'objtype': 'planet',\n",
       " 'id': '3366473281713'}"
      ]
     },
     "execution_count": 9,
     "metadata": {},
     "output_type": "execute_result"
    }
   ],
   "source": [
    "location_query = (\n",
    "    f\"\"\"g.V().has('objid','{shipIsIn['inV']}')\n",
    "            .in('owns')\n",
    "            .out('inhabits')\n",
    "            .valueMap()\n",
    "    \"\"\"\n",
    ")\n",
    "c.run_query(location_query)\n",
    "origin_location = c.clean_nodes(c.res)[0]\n",
    "origin_location"
   ]
  },
  {
   "cell_type": "code",
   "execution_count": 10,
   "id": "34057599",
   "metadata": {},
   "outputs": [],
   "source": [
    "target_options = [{'name': 'Karnia',\n",
    "  'class': 'terrestrial',\n",
    "  'objid': '3366473281713',\n",
    "  'pop_cap': 100,\n",
    "  'atmosphere': '[{Argon: 0.108}, {Carbon Dioxide: 0.357}, {Helium: 0.066}, {Hydrogen: 0.172}, {Methane: 0.002}, {Nitrogen: 0.15}, {Oxygen: 0.065}, {Sodium: 0.079}]',\n",
    "  'radius': 0.919,\n",
    "  'mass': 0.392,\n",
    "  'orbitsDistance': 0.631,\n",
    "  'orbitsId': '7510190479449',\n",
    "  'orbitsName': 'Hesroycia',\n",
    "  'isSupportsLife': 'true',\n",
    "  'isPopulated': 'true',\n",
    "  'isHomeworld': 'true',\n",
    "  'userguid': '8d5b667f-b225-4641-b499-73b77558ff86',\n",
    "  'objtype': 'planet',\n",
    "  'id': '3366473281713'},\n",
    " {'name': 'Lakarau',\n",
    "  'class': 'rocky',\n",
    "  'objid': '9826600357817',\n",
    "  'pop_cap': 100,\n",
    "  'orbitsId': '3366473281713',\n",
    "  'orbitsName': 'Karnia',\n",
    "  'orbitsDistance': 0.9191,\n",
    "  'mass': 0.0004,\n",
    "  'radius': 0.1154,\n",
    "  'isSupportsLife': 'false',\n",
    "  'isPopulated': 'false',\n",
    "  'userguid': '8d5b667f-b225-4641-b499-73b77558ff86',\n",
    "  'objtype': 'moon',\n",
    "  'id': '9826600357817'}]"
   ]
  },
  {
   "cell_type": "code",
   "execution_count": 39,
   "id": "083a4777",
   "metadata": {},
   "outputs": [
    {
     "data": {
      "text/plain": [
       "0.009191"
      ]
     },
     "execution_count": 39,
     "metadata": {},
     "output_type": "execute_result"
    }
   ],
   "source": [
    "def get_distance(target):\n",
    "    if target[\"objtype\"] == \"planet\":\n",
    "        total_distance = abs(target['orbitsDistance'] - origin_location['orbitsDistance'])\n",
    "    if target[\"objtype\"] == \"moon\":\n",
    "        c.run_query(f\"g.V().has('objid','{target['orbitsId']}').valueMap()\")\n",
    "        orbit_planet = c.clean_nodes(c.res)[0]\n",
    "        total_distance = abs(orbit_planet['orbitsDistance'] - origin_location['orbitsDistance']) + target['orbitsDistance']\n",
    "        # TODO: Arbitrarily dividing the distance by 100 to get a more reasonable number. I should fix this in genesis so that moons orbitdistance is calculated by AU.\n",
    "        total_distance = total_distance/100\n",
    "    return total_distance\n",
    "\n",
    "get_distance(target_options[1])"
   ]
  },
  {
   "cell_type": "code",
   "execution_count": 40,
   "id": "bed49222",
   "metadata": {},
   "outputs": [
    {
     "data": {
      "text/plain": [
       "0.0"
      ]
     },
     "execution_count": 40,
     "metadata": {},
     "output_type": "execute_result"
    }
   ],
   "source": [
    "get_distance(target_options[0])"
   ]
  },
  {
   "cell_type": "code",
   "execution_count": null,
   "id": "dc68481a",
   "metadata": {},
   "outputs": [],
   "source": []
  }
 ],
 "metadata": {
  "kernelspec": {
   "display_name": "exoplanets",
   "language": "python",
   "name": "python3"
  },
  "language_info": {
   "codemirror_mode": {
    "name": "ipython",
    "version": 3
   },
   "file_extension": ".py",
   "mimetype": "text/x-python",
   "name": "python",
   "nbconvert_exporter": "python",
   "pygments_lexer": "ipython3",
   "version": "3.8.16"
  }
 },
 "nbformat": 4,
 "nbformat_minor": 5
}
