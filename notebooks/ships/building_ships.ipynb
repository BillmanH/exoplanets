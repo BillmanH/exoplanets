{
 "cells": [
  {
   "cell_type": "markdown",
   "metadata": {
    "vscode": {
     "languageId": "plaintext"
    }
   },
   "source": [
    "# Building Ships\n",
    "\n",
    "Ships are large structures that can be built in the `industrial_complex`. They consume resources to make and must be stored in a `shipyard`. "
   ]
  },
  {
   "cell_type": "code",
   "execution_count": 1,
   "metadata": {},
   "outputs": [],
   "source": [
    "import sys, os\n",
    "import pandas as pd\n",
    "import altair as alt\n",
    "import yaml\n",
    "sys.path.append('../..')\n",
    "\n",
    "import  ssl, asyncio\n",
    "\n",
    "ssl._create_default_https_context = ssl._create_unverified_context\n",
    "asyncio.set_event_loop_policy(asyncio.WindowsSelectorEventLoopPolicy())\n",
    "import nest_asyncio\n",
    "# this is required for running in a Jupyter Notebook. \n",
    "\n",
    "nest_asyncio.apply()\n",
    "\n",
    "PII_cols = ['username','userguid','owner']"
   ]
  },
  {
   "cell_type": "code",
   "execution_count": 2,
   "metadata": {},
   "outputs": [],
   "source": [
    "from app.objects import baseobjects\n",
    "from app.objects import ships\n",
    "from app.objects import population"
   ]
  },
  {
   "cell_type": "code",
   "execution_count": 3,
   "metadata": {},
   "outputs": [
    {
     "name": "stdout",
     "output_type": "stream",
     "text": [
      "executing local windows deployment\n",
      "something wrong with your query: <class 'Exception'>\n"
     ]
    }
   ],
   "source": [
    "from app.connectors.cmdb_graph import CosmosdbClient\n",
    "c = CosmosdbClient()"
   ]
  },
  {
   "cell_type": "markdown",
   "metadata": {},
   "source": [
    "industrial_complex `has_buttons`, which can `build_ship`. Ships are built from `designs`, which are also in the config. "
   ]
  },
  {
   "cell_type": "code",
   "execution_count": 18,
   "metadata": {},
   "outputs": [
    {
     "data": {
      "text/plain": [
       "dict_keys(['explanation', 'components', 'designs'])"
      ]
     },
     "execution_count": 18,
     "metadata": {},
     "output_type": "execute_result"
    }
   ],
   "source": [
    "ship_configurations = ships.ship_configurations\n",
    "ship_configurations.keys()"
   ]
  },
  {
   "cell_type": "markdown",
   "metadata": {},
   "source": [
    "A ships effort is the sum of it's components"
   ]
  },
  {
   "cell_type": "code",
   "execution_count": 5,
   "metadata": {},
   "outputs": [
    {
     "data": {
      "text/plain": [
       "{'type': 'probe',\n",
       " 'label': 'ship',\n",
       " 'name': 'Probe',\n",
       " 'description': 'One way scanning machine to observe a location. Requires ',\n",
       " 'components': ['engine', 'scanner']}"
      ]
     },
     "execution_count": 5,
     "metadata": {},
     "output_type": "execute_result"
    }
   ],
   "source": [
    "probe = ship_configurations['designs']['probe']\n",
    "probe"
   ]
  },
  {
   "cell_type": "markdown",
   "metadata": {},
   "source": [
    "# The Ship object"
   ]
  },
  {
   "cell_type": "code",
   "execution_count": 6,
   "metadata": {},
   "outputs": [],
   "source": [
    "class Component(baseobjects.Baseobject):\n",
    "    def __init__(self, config):\n",
    "        super().__init__()\n",
    "        self.label = \"component\"\n",
    "        self.config = config\n",
    "        self.type = config['type']\n",
    "        self.name = config['name']\n",
    "    \n",
    "\n",
    "    def get_data(self):\n",
    "        fund = self.get_fundimentals()\n",
    "        for k,v in self.config.items():\n",
    "            fund[k] = v\n",
    "        fund['type'] = self.config['type']\n",
    "        return fund\n"
   ]
  },
  {
   "cell_type": "code",
   "execution_count": 7,
   "metadata": {},
   "outputs": [],
   "source": [
    "class Design(baseobjects.Baseobject):\n",
    "    def __init__(self, config):\n",
    "        super().__init__()\n",
    "        self.label = \"design\"\n",
    "        self.config = config\n",
    "        self.type = config['type']\n",
    "        self.name = config['name']\n",
    "        self.design_type = config['label']\n",
    "    \n",
    "\n",
    "    def get_data(self):\n",
    "        fund = self.get_fundimentals()\n",
    "        for k,v in self.config.items():\n",
    "            fund[k] = v\n",
    "        fund['type'] = self.config['type']\n",
    "        fund['label'] = self.label\n",
    "        return fund\n"
   ]
  },
  {
   "cell_type": "code",
   "execution_count": 8,
   "metadata": {},
   "outputs": [],
   "source": [
    "class Ship(baseobjects.Baseobject):\n",
    "    def __init__(self, design, component_configurations):\n",
    "        super().__init__()\n",
    "        self.label = \"ship\"\n",
    "        # TODO: Naming for ships\n",
    "        self.name = design['name']\n",
    "        self.type = design['type']\n",
    "        self.design = Design(design)\n",
    "        self.components = [Component(component_configurations[c]) for c in design['components']]\n",
    "        self.stats = {}\n",
    "        self.build_stats()\n",
    "    \n",
    "    def build_stats(self):\n",
    "        for i in self.components:\n",
    "            c = i.get_data()\n",
    "            if 'augments_ship_stats' in c.keys():\n",
    "                for k,v in c['augments_ship_stats'].items():\n",
    "                    if k in self.stats.keys():\n",
    "                        self.stats[k] += v\n",
    "                    else:\n",
    "                        self.stats[k] = v\n",
    "\n",
    "    \n",
    "    def get_upload_data(self):\n",
    "        data = {'nodes':[], 'edges':[]}\n",
    "        data['nodes'].append(self.design.get_data())\n",
    "        for i in self.components:\n",
    "            data['nodes'].append(i.get_data())\n",
    "            data['edges'].append({'source':self.objid, 'target':i.objid, 'label':'has'})\n",
    "        data['nodes'].append(self.get_data())\n",
    "        return data\n",
    "\n",
    "    def get_data(self):\n",
    "        fund = self.get_fundimentals()\n",
    "        for k,v in self.stats.items():\n",
    "            fund[k] = v\n",
    "        fund['type'] = self.type\n",
    "        return fund\n",
    "\n"
   ]
  },
  {
   "cell_type": "code",
   "execution_count": 9,
   "metadata": {},
   "outputs": [
    {
     "data": {
      "text/plain": [
       "<ship: probe; 7176219766700; Probe>"
      ]
     },
     "execution_count": 9,
     "metadata": {},
     "output_type": "execute_result"
    }
   ],
   "source": [
    "ship = Ship(probe, ship_configurations['components'])\n",
    "ship"
   ]
  },
  {
   "cell_type": "code",
   "execution_count": 10,
   "metadata": {},
   "outputs": [
    {
     "data": {
      "text/plain": [
       "[<component: engine; 0938142536133; Engine>,\n",
       " <component: scanner; 8174853871945; Scanner>]"
      ]
     },
     "execution_count": 10,
     "metadata": {},
     "output_type": "execute_result"
    }
   ],
   "source": [
    "ship.components"
   ]
  },
  {
   "cell_type": "code",
   "execution_count": 11,
   "metadata": {},
   "outputs": [
    {
     "data": {
      "text/plain": [
       "{'speed': 1, 'build_effort': 2, 'cost': 2}"
      ]
     },
     "execution_count": 11,
     "metadata": {},
     "output_type": "execute_result"
    }
   ],
   "source": [
    "ship.stats"
   ]
  },
  {
   "cell_type": "code",
   "execution_count": 12,
   "metadata": {},
   "outputs": [
    {
     "data": {
      "text/plain": [
       "{'name': 'Probe',\n",
       " 'objid': '7176219766700',\n",
       " 'label': 'ship',\n",
       " 'speed': 1,\n",
       " 'build_effort': 2,\n",
       " 'cost': 2,\n",
       " 'type': 'probe'}"
      ]
     },
     "execution_count": 12,
     "metadata": {},
     "output_type": "execute_result"
    }
   ],
   "source": [
    "ship.get_data()"
   ]
  },
  {
   "cell_type": "code",
   "execution_count": 13,
   "metadata": {},
   "outputs": [
    {
     "data": {
      "text/html": [
       "<div>\n",
       "<style scoped>\n",
       "    .dataframe tbody tr th:only-of-type {\n",
       "        vertical-align: middle;\n",
       "    }\n",
       "\n",
       "    .dataframe tbody tr th {\n",
       "        vertical-align: top;\n",
       "    }\n",
       "\n",
       "    .dataframe thead th {\n",
       "        text-align: right;\n",
       "    }\n",
       "</style>\n",
       "<table border=\"1\" class=\"dataframe\">\n",
       "  <thead>\n",
       "    <tr style=\"text-align: right;\">\n",
       "      <th></th>\n",
       "      <th>name</th>\n",
       "      <th>objid</th>\n",
       "      <th>label</th>\n",
       "      <th>type</th>\n",
       "      <th>description</th>\n",
       "      <th>components</th>\n",
       "      <th>augments_ship_stats</th>\n",
       "      <th>fuel</th>\n",
       "      <th>render</th>\n",
       "      <th>grants_capability</th>\n",
       "      <th>speed</th>\n",
       "      <th>build_effort</th>\n",
       "      <th>cost</th>\n",
       "    </tr>\n",
       "  </thead>\n",
       "  <tbody>\n",
       "    <tr>\n",
       "      <th>0</th>\n",
       "      <td>Probe</td>\n",
       "      <td>0490982462913</td>\n",
       "      <td>design</td>\n",
       "      <td>probe</td>\n",
       "      <td>One way scanning machine to observe a location...</td>\n",
       "      <td>[engine, scanner]</td>\n",
       "      <td>NaN</td>\n",
       "      <td>NaN</td>\n",
       "      <td>NaN</td>\n",
       "      <td>NaN</td>\n",
       "      <td>NaN</td>\n",
       "      <td>NaN</td>\n",
       "      <td>NaN</td>\n",
       "    </tr>\n",
       "    <tr>\n",
       "      <th>1</th>\n",
       "      <td>Engine</td>\n",
       "      <td>0938142536133</td>\n",
       "      <td>component</td>\n",
       "      <td>engine</td>\n",
       "      <td>Engines for the ship. Increases the speed and ...</td>\n",
       "      <td>NaN</td>\n",
       "      <td>{'speed': 1, 'build_effort': 1, 'cost': 1}</td>\n",
       "      <td>0.0</td>\n",
       "      <td>cone</td>\n",
       "      <td>NaN</td>\n",
       "      <td>NaN</td>\n",
       "      <td>NaN</td>\n",
       "      <td>NaN</td>\n",
       "    </tr>\n",
       "    <tr>\n",
       "      <th>2</th>\n",
       "      <td>Scanner</td>\n",
       "      <td>8174853871945</td>\n",
       "      <td>component</td>\n",
       "      <td>scanner</td>\n",
       "      <td>Scans the environment for resources.</td>\n",
       "      <td>NaN</td>\n",
       "      <td>{'cost': 1, 'build_effort': 1}</td>\n",
       "      <td>NaN</td>\n",
       "      <td>ball</td>\n",
       "      <td>[scan]</td>\n",
       "      <td>NaN</td>\n",
       "      <td>NaN</td>\n",
       "      <td>NaN</td>\n",
       "    </tr>\n",
       "    <tr>\n",
       "      <th>3</th>\n",
       "      <td>Probe</td>\n",
       "      <td>7176219766700</td>\n",
       "      <td>ship</td>\n",
       "      <td>probe</td>\n",
       "      <td>NaN</td>\n",
       "      <td>NaN</td>\n",
       "      <td>NaN</td>\n",
       "      <td>NaN</td>\n",
       "      <td>NaN</td>\n",
       "      <td>NaN</td>\n",
       "      <td>1.0</td>\n",
       "      <td>2.0</td>\n",
       "      <td>2.0</td>\n",
       "    </tr>\n",
       "  </tbody>\n",
       "</table>\n",
       "</div>"
      ],
      "text/plain": [
       "      name          objid      label     type  \\\n",
       "0    Probe  0490982462913     design    probe   \n",
       "1   Engine  0938142536133  component   engine   \n",
       "2  Scanner  8174853871945  component  scanner   \n",
       "3    Probe  7176219766700       ship    probe   \n",
       "\n",
       "                                         description         components  \\\n",
       "0  One way scanning machine to observe a location...  [engine, scanner]   \n",
       "1  Engines for the ship. Increases the speed and ...                NaN   \n",
       "2               Scans the environment for resources.                NaN   \n",
       "3                                                NaN                NaN   \n",
       "\n",
       "                          augments_ship_stats  fuel render grants_capability  \\\n",
       "0                                         NaN   NaN    NaN               NaN   \n",
       "1  {'speed': 1, 'build_effort': 1, 'cost': 1}   0.0   cone               NaN   \n",
       "2              {'cost': 1, 'build_effort': 1}   NaN   ball            [scan]   \n",
       "3                                         NaN   NaN    NaN               NaN   \n",
       "\n",
       "   speed  build_effort  cost  \n",
       "0    NaN           NaN   NaN  \n",
       "1    NaN           NaN   NaN  \n",
       "2    NaN           NaN   NaN  \n",
       "3    1.0           2.0   2.0  "
      ]
     },
     "execution_count": 13,
     "metadata": {},
     "output_type": "execute_result"
    }
   ],
   "source": [
    "pd.DataFrame(ship.get_upload_data()['nodes'])"
   ]
  },
  {
   "cell_type": "code",
   "execution_count": 14,
   "metadata": {},
   "outputs": [
    {
     "data": {
      "text/html": [
       "<div>\n",
       "<style scoped>\n",
       "    .dataframe tbody tr th:only-of-type {\n",
       "        vertical-align: middle;\n",
       "    }\n",
       "\n",
       "    .dataframe tbody tr th {\n",
       "        vertical-align: top;\n",
       "    }\n",
       "\n",
       "    .dataframe thead th {\n",
       "        text-align: right;\n",
       "    }\n",
       "</style>\n",
       "<table border=\"1\" class=\"dataframe\">\n",
       "  <thead>\n",
       "    <tr style=\"text-align: right;\">\n",
       "      <th></th>\n",
       "      <th>source</th>\n",
       "      <th>target</th>\n",
       "      <th>label</th>\n",
       "    </tr>\n",
       "  </thead>\n",
       "  <tbody>\n",
       "    <tr>\n",
       "      <th>0</th>\n",
       "      <td>7176219766700</td>\n",
       "      <td>0938142536133</td>\n",
       "      <td>has</td>\n",
       "    </tr>\n",
       "    <tr>\n",
       "      <th>1</th>\n",
       "      <td>7176219766700</td>\n",
       "      <td>8174853871945</td>\n",
       "      <td>has</td>\n",
       "    </tr>\n",
       "  </tbody>\n",
       "</table>\n",
       "</div>"
      ],
      "text/plain": [
       "          source         target label\n",
       "0  7176219766700  0938142536133   has\n",
       "1  7176219766700  8174853871945   has"
      ]
     },
     "execution_count": 14,
     "metadata": {},
     "output_type": "execute_result"
    }
   ],
   "source": [
    "pd.DataFrame(ship.get_upload_data()['edges'])"
   ]
  },
  {
   "cell_type": "markdown",
   "metadata": {},
   "source": [
    "## The Fabrication process:\n",
    "| Step | Description                                                                 |\n",
    "|------|-----------------------------------------------------------------------------|\n",
    "| 1    | User will click on the `build_ship` button in the UX.                       |\n",
    "| 2    | The server will validate that the faction can build a ship.                 |\n",
    "| 3    | Ajax will take the building info and create a task.                         |\n",
    "| 4    | A job is created for the build.                                             |\n",
    "| `app.objects.structures.build_ship`   | Upon completion, the ship is added to whichever `shipyard` exists in that faction. |\n",
    "\n",
    "* The ajax button is here: app\\templates\\app\\ajax\\building_action.js\n",
    "* The Backend Function is here: app\\models\\buildings.py"
   ]
  },
  {
   "cell_type": "code",
   "execution_count": 15,
   "metadata": {},
   "outputs": [
    {
     "data": {
      "text/plain": [
       "{'agent': {'isIdle': 'false',\n",
       "  'name': 'Poldiasenah Ferfenmu',\n",
       "  'objid': '6668897649955',\n",
       "  'conformity': 0.477,\n",
       "  'literacy': 0.456,\n",
       "  'aggression': 0.5,\n",
       "  'constitution': 0.404,\n",
       "  'health': 0.7,\n",
       "  'isIn': '4060880433595',\n",
       "  'industry': 0.452,\n",
       "  'wealth': 0.454,\n",
       "  'factionLoyalty': 0.525,\n",
       "  'userguid': '8d5b667f-b225-4641-b499-73b77558ff86',\n",
       "  'objtype': 'pop'},\n",
       " 'action': {'type': 'fabricating',\n",
       "  'comment': 'Poldiasenah Ferfenmu:6668897649955 building a Probe',\n",
       "  'effort': 2,\n",
       "  'building': 'probe',\n",
       "  'faction_costs': 2,\n",
       "  'created_at': 1014,\n",
       "  'to_build': '{type: probe, label: ship, name: Probe, description: One way scanning machine to observe a location. Requires , components: [engine, scanner]}',\n",
       "  'objid': '2604129141389',\n",
       "  'userguid': '8d5b667f-b225-4641-b499-73b77558ff86',\n",
       "  'objtype': 'action'},\n",
       " 'job': {'status': 'pending',\n",
       "  'userguid': '8d5b667f-b225-4641-b499-73b77558ff86',\n",
       "  'name': 'takingAction',\n",
       "  'weight': '1016',\n",
       "  'actionType': 'fabricating',\n",
       "  'created_at': '1014'}}"
      ]
     },
     "execution_count": 15,
     "metadata": {},
     "output_type": "execute_result"
    }
   ],
   "source": [
    "message = {'agent': {'isIdle': 'false', 'name': 'Poldiasenah Ferfenmu', 'objid': '6668897649955', 'conformity': 0.477, 'literacy': 0.456, 'aggression': 0.5, 'constitution': 0.404, 'health': 0.7, 'isIn': '4060880433595', 'industry': 0.452, 'wealth': 0.454, 'factionLoyalty': 0.525, 'userguid': '8d5b667f-b225-4641-b499-73b77558ff86', 'objtype': 'pop'}, 'action': {'type': 'fabricating', 'comment': 'Poldiasenah Ferfenmu:6668897649955 building a Probe', 'effort': 2, 'building': 'probe', 'faction_costs': 2, 'created_at': 1014, 'to_build': '{type: probe, label: ship, name: Probe, description: One way scanning machine to observe a location. Requires , components: [engine, scanner]}', 'objid': '2604129141389', 'userguid': '8d5b667f-b225-4641-b499-73b77558ff86', 'objtype': 'action'}, 'job': {'status': 'pending', 'userguid': '8d5b667f-b225-4641-b499-73b77558ff86', 'name': 'takingAction', 'weight': '1016', 'actionType': 'fabricating', 'created_at': '1014'}}\n",
    "message"
   ]
  },
  {
   "cell_type": "code",
   "execution_count": 16,
   "metadata": {},
   "outputs": [],
   "source": [
    "agent = message['agent']\n",
    "if agent['current_design'] == 'probe':\n",
    "    design_config = ship_configurations['designs']['probe']"
   ]
  },
  {
   "cell_type": "code",
   "execution_count": 17,
   "metadata": {},
   "outputs": [
    {
     "data": {
      "text/plain": [
       "{'type': 'probe',\n",
       " 'label': 'ship',\n",
       " 'name': 'Probe',\n",
       " 'description': 'One way scanning machine to observe a location. Requires ',\n",
       " 'components': ['engine', 'scanner']}"
      ]
     },
     "execution_count": 17,
     "metadata": {},
     "output_type": "execute_result"
    }
   ],
   "source": [
    "design_config"
   ]
  },
  {
   "cell_type": "code",
   "execution_count": 18,
   "metadata": {},
   "outputs": [
    {
     "data": {
      "text/plain": [
       "['engine', 'scanner']"
      ]
     },
     "execution_count": 18,
     "metadata": {},
     "output_type": "execute_result"
    }
   ],
   "source": [
    "design_config['components']"
   ]
  },
  {
   "cell_type": "code",
   "execution_count": 19,
   "metadata": {},
   "outputs": [
    {
     "data": {
      "text/plain": [
       "<ship: probe; 0479737364650; Probe>"
      ]
     },
     "execution_count": 19,
     "metadata": {},
     "output_type": "execute_result"
    }
   ],
   "source": [
    "ship = Ship(design_config, ship_configurations['components'])\n",
    "ship"
   ]
  },
  {
   "cell_type": "code",
   "execution_count": 20,
   "metadata": {},
   "outputs": [
    {
     "data": {
      "text/plain": [
       "{'speed': 1, 'build_effort': 2, 'cost': 2}"
      ]
     },
     "execution_count": 20,
     "metadata": {},
     "output_type": "execute_result"
    }
   ],
   "source": [
    "ship.stats"
   ]
  },
  {
   "cell_type": "code",
   "execution_count": 21,
   "metadata": {},
   "outputs": [
    {
     "data": {
      "text/plain": [
       "{'objid': '9662163071808',\n",
       " 'type': 'manufacturing',\n",
       " 'name': 'Industrial manufacturing complex',\n",
       " 'faction_augments': '{wealth: -1}',\n",
       " 'description': 'Builds ships and other large objects for the faction.',\n",
       " 'has_buttons': '[build_ship]',\n",
       " 'current_design': 'probe',\n",
       " 'id': '9662163071808',\n",
       " 'owner': '5657120867640',\n",
       " 'objtype': '<->'}"
      ]
     },
     "execution_count": 21,
     "metadata": {},
     "output_type": "execute_result"
    }
   ],
   "source": [
    "agent"
   ]
  },
  {
   "cell_type": "markdown",
   "metadata": {},
   "source": [
    "## Seeing it in the function\n",
    "\n",
    "* go into the dev environment, build a shipyard and a manufacturing plant. \n",
    "* below, increment the timer until the job is ready\n",
    "* run the process action message to generate the message"
   ]
  },
  {
   "cell_type": "code",
   "execution_count": 4,
   "metadata": {},
   "outputs": [
    {
     "name": "stderr",
     "output_type": "stream",
     "text": [
      "INFO:root:logs showing as print\n"
     ]
    }
   ],
   "source": [
    "import function_app as f\n",
    "\n",
    "import logging\n",
    "logger = logging.getLogger()\n",
    "logger.setLevel(logging.DEBUG)\n",
    "logging.info(\"logs showing as print\")"
   ]
  },
  {
   "cell_type": "code",
   "execution_count": 5,
   "metadata": {},
   "outputs": [
    {
     "name": "stderr",
     "output_type": "stream",
     "text": [
      "DEBUG:asyncio:Using selector: SelectSelector\n",
      "INFO:root:EXOADMIN: health requirement 0.7\n",
      "DEBUG:asyncio:Using selector: SelectSelector\n",
      "INFO:root:EXOADMIN: healthy_pops_query 0\n",
      "INFO:root:EXOADMIN: No pops that meet the pop_health_requirement\n",
      "DEBUG:asyncio:Using selector: SelectSelector\n",
      "INFO:root:EXOADMIN: Total jobs: 1\n",
      "INFO:root:EXOADMIN: job instance of ACTION created: {'action': {'type': 'fabricating', 'comment': 'Poldiasenah Ferfenmu:6668897649955 building a Probe', 'effort': 2, 'building': 'probe', 'faction_costs': 2, 'created_at': 1021, 'to_build': '{type: probe, label: ship, name: Probe, description: One way scanning machine to observe a location. Requires , components: [engine, scanner]}', 'objid': '4865001438778', 'userguid': '8d5b667f-b225-4641-b499-73b77558ff86', 'objtype': 'action'}, 'job': {'status': 'pending', 'userguid': '8d5b667f-b225-4641-b499-73b77558ff86', 'name': 'takingAction', 'weight': '1023', 'actionType': 'fabricating', 'created_at': '1021'}, 'agent': {'isIdle': 'false', 'name': 'Poldiasenah Ferfenmu', 'objid': '6668897649955', 'conformity': 0.477, 'literacy': 0.456, 'aggression': 0.5, 'constitution': 0.404, 'health': 0.7, 'isIn': '4060880433595', 'industry': 0.452, 'wealth': 0.454, 'factionLoyalty': 0.525, 'userguid': '8d5b667f-b225-4641-b499-73b77558ff86', 'objtype': 'pop'}}\n",
      "INFO:root:< (Poldiasenah Ferfenmu: 6668897649955) -takingAction:1023-> (fabricating) > was added to the message queue\n",
      "INFO:root:EXOADMIN: Total actions resolved in this run: 1\n",
      "DEBUG:asyncio:Using selector: SelectSelector\n",
      "DEBUG:asyncio:Using selector: SelectSelector\n",
      "INFO:root:EXOADMIN: messages: job:1, growth:0, consumption:7, renewal:1 - at: < time at UTU:1028 >\n",
      "INFO:root:EXOADMIN: Total Messages generated: 9 at: < time at UTU:1028 >\n"
     ]
    }
   ],
   "source": [
    "action_messages = f.process_action_messages()"
   ]
  },
  {
   "cell_type": "code",
   "execution_count": 6,
   "metadata": {},
   "outputs": [],
   "source": [
    "# f.increment_timer()"
   ]
  },
  {
   "cell_type": "code",
   "execution_count": 7,
   "metadata": {},
   "outputs": [
    {
     "data": {
      "text/html": [
       "<div>\n",
       "<style scoped>\n",
       "    .dataframe tbody tr th:only-of-type {\n",
       "        vertical-align: middle;\n",
       "    }\n",
       "\n",
       "    .dataframe tbody tr th {\n",
       "        vertical-align: top;\n",
       "    }\n",
       "\n",
       "    .dataframe thead th {\n",
       "        text-align: right;\n",
       "    }\n",
       "</style>\n",
       "<table border=\"1\" class=\"dataframe\">\n",
       "  <thead>\n",
       "    <tr style=\"text-align: right;\">\n",
       "      <th></th>\n",
       "      <th>agent</th>\n",
       "      <th>action</th>\n",
       "      <th>job</th>\n",
       "    </tr>\n",
       "  </thead>\n",
       "  <tbody>\n",
       "    <tr>\n",
       "      <th>0</th>\n",
       "      <td>{'isIdle': 'false', 'name': 'Poldiasenah Ferfe...</td>\n",
       "      <td>{'type': 'fabricating', 'comment': 'Poldiasena...</td>\n",
       "      <td>{'status': 'pending', 'userguid': '8d5b667f-b2...</td>\n",
       "    </tr>\n",
       "    <tr>\n",
       "      <th>1</th>\n",
       "      <td>{'objid': '9888651460599', 'consumes': ['organ...</td>\n",
       "      <td>consume</td>\n",
       "      <td>NaN</td>\n",
       "    </tr>\n",
       "    <tr>\n",
       "      <th>2</th>\n",
       "      <td>{'objid': '9629113611489', 'consumes': ['organ...</td>\n",
       "      <td>consume</td>\n",
       "      <td>NaN</td>\n",
       "    </tr>\n",
       "    <tr>\n",
       "      <th>3</th>\n",
       "      <td>{'objid': '6668897649955', 'consumes': ['organ...</td>\n",
       "      <td>consume</td>\n",
       "      <td>NaN</td>\n",
       "    </tr>\n",
       "    <tr>\n",
       "      <th>4</th>\n",
       "      <td>{'objid': '6880883763526', 'consumes': ['organ...</td>\n",
       "      <td>consume</td>\n",
       "      <td>NaN</td>\n",
       "    </tr>\n",
       "    <tr>\n",
       "      <th>5</th>\n",
       "      <td>{'objid': '7372021564759', 'consumes': ['organ...</td>\n",
       "      <td>consume</td>\n",
       "      <td>NaN</td>\n",
       "    </tr>\n",
       "    <tr>\n",
       "      <th>6</th>\n",
       "      <td>{'objid': '2416478665710', 'consumes': ['organ...</td>\n",
       "      <td>consume</td>\n",
       "      <td>NaN</td>\n",
       "    </tr>\n",
       "    <tr>\n",
       "      <th>7</th>\n",
       "      <td>{'objid': '0255814826981', 'consumes': ['organ...</td>\n",
       "      <td>consume</td>\n",
       "      <td>NaN</td>\n",
       "    </tr>\n",
       "    <tr>\n",
       "      <th>8</th>\n",
       "      <td>{'replenish_rate': 10, 'volume': 1044.0, 'obji...</td>\n",
       "      <td>renew</td>\n",
       "      <td>NaN</td>\n",
       "    </tr>\n",
       "  </tbody>\n",
       "</table>\n",
       "</div>"
      ],
      "text/plain": [
       "                                               agent  \\\n",
       "0  {'isIdle': 'false', 'name': 'Poldiasenah Ferfe...   \n",
       "1  {'objid': '9888651460599', 'consumes': ['organ...   \n",
       "2  {'objid': '9629113611489', 'consumes': ['organ...   \n",
       "3  {'objid': '6668897649955', 'consumes': ['organ...   \n",
       "4  {'objid': '6880883763526', 'consumes': ['organ...   \n",
       "5  {'objid': '7372021564759', 'consumes': ['organ...   \n",
       "6  {'objid': '2416478665710', 'consumes': ['organ...   \n",
       "7  {'objid': '0255814826981', 'consumes': ['organ...   \n",
       "8  {'replenish_rate': 10, 'volume': 1044.0, 'obji...   \n",
       "\n",
       "                                              action  \\\n",
       "0  {'type': 'fabricating', 'comment': 'Poldiasena...   \n",
       "1                                            consume   \n",
       "2                                            consume   \n",
       "3                                            consume   \n",
       "4                                            consume   \n",
       "5                                            consume   \n",
       "6                                            consume   \n",
       "7                                            consume   \n",
       "8                                              renew   \n",
       "\n",
       "                                                 job  \n",
       "0  {'status': 'pending', 'userguid': '8d5b667f-b2...  \n",
       "1                                                NaN  \n",
       "2                                                NaN  \n",
       "3                                                NaN  \n",
       "4                                                NaN  \n",
       "5                                                NaN  \n",
       "6                                                NaN  \n",
       "7                                                NaN  \n",
       "8                                                NaN  "
      ]
     },
     "execution_count": 7,
     "metadata": {},
     "output_type": "execute_result"
    }
   ],
   "source": [
    "pd.DataFrame(action_messages)"
   ]
  },
  {
   "cell_type": "code",
   "execution_count": 8,
   "metadata": {},
   "outputs": [
    {
     "data": {
      "text/plain": [
       "{'agent': {'isIdle': 'false',\n",
       "  'name': 'Poldiasenah Ferfenmu',\n",
       "  'objid': '6668897649955',\n",
       "  'conformity': 0.477,\n",
       "  'literacy': 0.456,\n",
       "  'aggression': 0.5,\n",
       "  'constitution': 0.404,\n",
       "  'health': 0.7,\n",
       "  'isIn': '4060880433595',\n",
       "  'industry': 0.452,\n",
       "  'wealth': 0.454,\n",
       "  'factionLoyalty': 0.525,\n",
       "  'userguid': '8d5b667f-b225-4641-b499-73b77558ff86',\n",
       "  'objtype': 'pop'},\n",
       " 'action': {'type': 'fabricating',\n",
       "  'comment': 'Poldiasenah Ferfenmu:6668897649955 building a Probe',\n",
       "  'effort': 2,\n",
       "  'building': 'probe',\n",
       "  'faction_costs': 2,\n",
       "  'created_at': 1021,\n",
       "  'to_build': '{type: probe, label: ship, name: Probe, description: One way scanning machine to observe a location. Requires , components: [engine, scanner]}',\n",
       "  'objid': '4865001438778',\n",
       "  'userguid': '8d5b667f-b225-4641-b499-73b77558ff86',\n",
       "  'objtype': 'action'},\n",
       " 'job': {'status': 'pending',\n",
       "  'userguid': '8d5b667f-b225-4641-b499-73b77558ff86',\n",
       "  'name': 'takingAction',\n",
       "  'weight': '1023',\n",
       "  'actionType': 'fabricating',\n",
       "  'created_at': '1021'}}"
      ]
     },
     "execution_count": 8,
     "metadata": {},
     "output_type": "execute_result"
    }
   ],
   "source": [
    "message = action_messages[0]\n",
    "message"
   ]
  },
  {
   "cell_type": "code",
   "execution_count": 9,
   "metadata": {},
   "outputs": [
    {
     "name": "stderr",
     "output_type": "stream",
     "text": [
      "INFO:root:EXOADMIN: fabricating a ship\n",
      "INFO:root:EXOADMIN: possible ship designs: ['probe']\n",
      "INFO:root:EXOADMIN: ship design to build: probe\n",
      "INFO:root:EXOADMIN: created a ship: <ship: probe; 8197414110507; Probe>\n",
      "DEBUG:asyncio:Using selector: SelectSelector\n",
      "INFO:root:EXOADMIN: placing ship: 8197414110507 in shipyard:4756190697931\n",
      "INFO:root:EXOADMIN: expensing a ship: not implemented\n",
      "INFO:root:EXOADMIN: data created: 4 nodes and 3 edges\n",
      "INFO:root:EXOADMIN: fabrication complete for ship: {'name': 'Probe', 'objid': '8197414110507', 'label': 'ship', 'speed': 1, 'build_effort': 2, 'cost': 2, 'type': 'probe', 'userguid': '8d5b667f-b225-4641-b499-73b77558ff86'}\n"
     ]
    }
   ],
   "source": [
    "data = ships.fabricate(c, message, commit=False)"
   ]
  },
  {
   "cell_type": "code",
   "execution_count": 10,
   "metadata": {},
   "outputs": [
    {
     "data": {
      "text/html": [
       "<div>\n",
       "<style scoped>\n",
       "    .dataframe tbody tr th:only-of-type {\n",
       "        vertical-align: middle;\n",
       "    }\n",
       "\n",
       "    .dataframe tbody tr th {\n",
       "        vertical-align: top;\n",
       "    }\n",
       "\n",
       "    .dataframe thead th {\n",
       "        text-align: right;\n",
       "    }\n",
       "</style>\n",
       "<table border=\"1\" class=\"dataframe\">\n",
       "  <thead>\n",
       "    <tr style=\"text-align: right;\">\n",
       "      <th></th>\n",
       "      <th>name</th>\n",
       "      <th>objid</th>\n",
       "      <th>label</th>\n",
       "      <th>type</th>\n",
       "      <th>description</th>\n",
       "      <th>components</th>\n",
       "      <th>userguid</th>\n",
       "      <th>augments_ship_stats</th>\n",
       "      <th>fuel</th>\n",
       "      <th>render</th>\n",
       "      <th>grants_capability</th>\n",
       "      <th>speed</th>\n",
       "      <th>build_effort</th>\n",
       "      <th>cost</th>\n",
       "    </tr>\n",
       "  </thead>\n",
       "  <tbody>\n",
       "    <tr>\n",
       "      <th>0</th>\n",
       "      <td>Probe</td>\n",
       "      <td>8778861527915</td>\n",
       "      <td>design</td>\n",
       "      <td>probe</td>\n",
       "      <td>One way scanning machine to observe a location...</td>\n",
       "      <td>[engine, scanner]</td>\n",
       "      <td>8d5b667f-b225-4641-b499-73b77558ff86</td>\n",
       "      <td>NaN</td>\n",
       "      <td>NaN</td>\n",
       "      <td>NaN</td>\n",
       "      <td>NaN</td>\n",
       "      <td>NaN</td>\n",
       "      <td>NaN</td>\n",
       "      <td>NaN</td>\n",
       "    </tr>\n",
       "    <tr>\n",
       "      <th>1</th>\n",
       "      <td>Engine</td>\n",
       "      <td>8179375896921</td>\n",
       "      <td>component</td>\n",
       "      <td>engine</td>\n",
       "      <td>Engines for the ship. Increases the speed and ...</td>\n",
       "      <td>NaN</td>\n",
       "      <td>8d5b667f-b225-4641-b499-73b77558ff86</td>\n",
       "      <td>{'speed': 1, 'build_effort': 1, 'cost': 1}</td>\n",
       "      <td>0.0</td>\n",
       "      <td>cone</td>\n",
       "      <td>NaN</td>\n",
       "      <td>NaN</td>\n",
       "      <td>NaN</td>\n",
       "      <td>NaN</td>\n",
       "    </tr>\n",
       "    <tr>\n",
       "      <th>2</th>\n",
       "      <td>Scanner</td>\n",
       "      <td>4943781384881</td>\n",
       "      <td>component</td>\n",
       "      <td>scanner</td>\n",
       "      <td>Scans the environment for resources.</td>\n",
       "      <td>NaN</td>\n",
       "      <td>8d5b667f-b225-4641-b499-73b77558ff86</td>\n",
       "      <td>{'cost': 1, 'build_effort': 1}</td>\n",
       "      <td>NaN</td>\n",
       "      <td>ball</td>\n",
       "      <td>[scan]</td>\n",
       "      <td>NaN</td>\n",
       "      <td>NaN</td>\n",
       "      <td>NaN</td>\n",
       "    </tr>\n",
       "    <tr>\n",
       "      <th>3</th>\n",
       "      <td>Probe</td>\n",
       "      <td>8197414110507</td>\n",
       "      <td>ship</td>\n",
       "      <td>probe</td>\n",
       "      <td>NaN</td>\n",
       "      <td>NaN</td>\n",
       "      <td>8d5b667f-b225-4641-b499-73b77558ff86</td>\n",
       "      <td>NaN</td>\n",
       "      <td>NaN</td>\n",
       "      <td>NaN</td>\n",
       "      <td>NaN</td>\n",
       "      <td>1.0</td>\n",
       "      <td>2.0</td>\n",
       "      <td>2.0</td>\n",
       "    </tr>\n",
       "  </tbody>\n",
       "</table>\n",
       "</div>"
      ],
      "text/plain": [
       "      name          objid      label     type  \\\n",
       "0    Probe  8778861527915     design    probe   \n",
       "1   Engine  8179375896921  component   engine   \n",
       "2  Scanner  4943781384881  component  scanner   \n",
       "3    Probe  8197414110507       ship    probe   \n",
       "\n",
       "                                         description         components  \\\n",
       "0  One way scanning machine to observe a location...  [engine, scanner]   \n",
       "1  Engines for the ship. Increases the speed and ...                NaN   \n",
       "2               Scans the environment for resources.                NaN   \n",
       "3                                                NaN                NaN   \n",
       "\n",
       "                               userguid  \\\n",
       "0  8d5b667f-b225-4641-b499-73b77558ff86   \n",
       "1  8d5b667f-b225-4641-b499-73b77558ff86   \n",
       "2  8d5b667f-b225-4641-b499-73b77558ff86   \n",
       "3  8d5b667f-b225-4641-b499-73b77558ff86   \n",
       "\n",
       "                          augments_ship_stats  fuel render grants_capability  \\\n",
       "0                                         NaN   NaN    NaN               NaN   \n",
       "1  {'speed': 1, 'build_effort': 1, 'cost': 1}   0.0   cone               NaN   \n",
       "2              {'cost': 1, 'build_effort': 1}   NaN   ball            [scan]   \n",
       "3                                         NaN   NaN    NaN               NaN   \n",
       "\n",
       "   speed  build_effort  cost  \n",
       "0    NaN           NaN   NaN  \n",
       "1    NaN           NaN   NaN  \n",
       "2    NaN           NaN   NaN  \n",
       "3    1.0           2.0   2.0  "
      ]
     },
     "execution_count": 10,
     "metadata": {},
     "output_type": "execute_result"
    }
   ],
   "source": [
    "pd.DataFrame(data['nodes'])"
   ]
  },
  {
   "cell_type": "code",
   "execution_count": 11,
   "metadata": {},
   "outputs": [
    {
     "data": {
      "text/html": [
       "<div>\n",
       "<style scoped>\n",
       "    .dataframe tbody tr th:only-of-type {\n",
       "        vertical-align: middle;\n",
       "    }\n",
       "\n",
       "    .dataframe tbody tr th {\n",
       "        vertical-align: top;\n",
       "    }\n",
       "\n",
       "    .dataframe thead th {\n",
       "        text-align: right;\n",
       "    }\n",
       "</style>\n",
       "<table border=\"1\" class=\"dataframe\">\n",
       "  <thead>\n",
       "    <tr style=\"text-align: right;\">\n",
       "      <th></th>\n",
       "      <th>node1</th>\n",
       "      <th>node2</th>\n",
       "      <th>label</th>\n",
       "    </tr>\n",
       "  </thead>\n",
       "  <tbody>\n",
       "    <tr>\n",
       "      <th>0</th>\n",
       "      <td>8197414110507</td>\n",
       "      <td>8179375896921</td>\n",
       "      <td>has</td>\n",
       "    </tr>\n",
       "    <tr>\n",
       "      <th>1</th>\n",
       "      <td>8197414110507</td>\n",
       "      <td>4943781384881</td>\n",
       "      <td>has</td>\n",
       "    </tr>\n",
       "    <tr>\n",
       "      <th>2</th>\n",
       "      <td>8197414110507</td>\n",
       "      <td>4756190697931</td>\n",
       "      <td>isIn</td>\n",
       "    </tr>\n",
       "  </tbody>\n",
       "</table>\n",
       "</div>"
      ],
      "text/plain": [
       "           node1          node2 label\n",
       "0  8197414110507  8179375896921   has\n",
       "1  8197414110507  4943781384881   has\n",
       "2  8197414110507  4756190697931  isIn"
      ]
     },
     "execution_count": 11,
     "metadata": {},
     "output_type": "execute_result"
    }
   ],
   "source": [
    "pd.DataFrame(data['edges'])"
   ]
  },
  {
   "cell_type": "code",
   "execution_count": null,
   "metadata": {},
   "outputs": [],
   "source": []
  }
 ],
 "metadata": {
  "kernelspec": {
   "display_name": "exoplanets",
   "language": "python",
   "name": "python3"
  },
  "language_info": {
   "codemirror_mode": {
    "name": "ipython",
    "version": 3
   },
   "file_extension": ".py",
   "mimetype": "text/x-python",
   "name": "python",
   "nbconvert_exporter": "python",
   "pygments_lexer": "ipython3",
   "version": "3.8.16"
  }
 },
 "nbformat": 4,
 "nbformat_minor": 2
}
