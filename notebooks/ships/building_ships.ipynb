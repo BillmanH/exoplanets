{
 "cells": [
  {
   "cell_type": "markdown",
   "metadata": {
    "vscode": {
     "languageId": "plaintext"
    }
   },
   "source": [
    "# Building Ships\n",
    "\n",
    "Ships are large structures that can be built in the `industrial_complex`. They consume resources to make and must be stored in a `shipyard`. "
   ]
  },
  {
   "cell_type": "code",
   "execution_count": 1,
   "metadata": {},
   "outputs": [],
   "source": [
    "import sys, os\n",
    "import pandas as pd\n",
    "import altair as alt\n",
    "sys.path.append('../..')\n",
    "\n",
    "import  ssl, asyncio\n",
    "\n",
    "ssl._create_default_https_context = ssl._create_unverified_context\n",
    "asyncio.set_event_loop_policy(asyncio.WindowsSelectorEventLoopPolicy())\n",
    "import nest_asyncio\n",
    "# this is required for running in a Jupyter Notebook. \n",
    "\n",
    "nest_asyncio.apply()\n",
    "\n",
    "PII_cols = ['username','userguid','owner']"
   ]
  },
  {
   "cell_type": "code",
   "execution_count": 24,
   "metadata": {},
   "outputs": [],
   "source": [
    "from app.functions import configurations\n",
    "from app.objects import baseobjects"
   ]
  },
  {
   "cell_type": "code",
   "execution_count": 25,
   "metadata": {},
   "outputs": [],
   "source": [
    "from app.connectors.cmdb_graph import CosmosdbClient\n",
    "c = CosmosdbClient()"
   ]
  },
  {
   "cell_type": "markdown",
   "metadata": {},
   "source": [
    "industrial_complex `has_buttons`, which can `build_ship`. Ships are built from `designs`, which are also in the config. "
   ]
  },
  {
   "cell_type": "code",
   "execution_count": 54,
   "metadata": {},
   "outputs": [
    {
     "data": {
      "text/plain": [
       "dict_keys(['explanation', 'components', 'designs'])"
      ]
     },
     "execution_count": 54,
     "metadata": {},
     "output_type": "execute_result"
    }
   ],
   "source": [
    "ship_configurations = configurations.get_ship_configurations()['ship']\n",
    "ship_configurations.keys()"
   ]
  },
  {
   "cell_type": "markdown",
   "metadata": {},
   "source": [
    "A ships effort is the sum of it's components"
   ]
  },
  {
   "cell_type": "code",
   "execution_count": 55,
   "metadata": {},
   "outputs": [
    {
     "data": {
      "text/plain": [
       "{'type': 'probe',\n",
       " 'label': 'ship',\n",
       " 'name': 'Probe',\n",
       " 'description': 'One way scanning machine to observe a location. Requires ',\n",
       " 'components': ['engine', 'scanner']}"
      ]
     },
     "execution_count": 55,
     "metadata": {},
     "output_type": "execute_result"
    }
   ],
   "source": [
    "probe = ship_configurations['designs']['probe']\n",
    "probe"
   ]
  },
  {
   "cell_type": "markdown",
   "metadata": {},
   "source": [
    "# The Ship object"
   ]
  },
  {
   "cell_type": "code",
   "execution_count": 186,
   "metadata": {},
   "outputs": [],
   "source": [
    "class Component(baseobjects.Baseobject):\n",
    "    def __init__(self, config):\n",
    "        super().__init__()\n",
    "        self.label = \"component\"\n",
    "        self.config = config\n",
    "        self.type = config['type']\n",
    "        self.name = config['name']\n",
    "    \n",
    "\n",
    "    def get_data(self):\n",
    "        fund = self.get_fundimentals()\n",
    "        for k,v in self.config.items():\n",
    "            fund[k] = v\n",
    "        fund['type'] = self.config['type']\n",
    "        return fund\n"
   ]
  },
  {
   "cell_type": "code",
   "execution_count": 195,
   "metadata": {},
   "outputs": [],
   "source": [
    "class Design(baseobjects.Baseobject):\n",
    "    def __init__(self, config):\n",
    "        super().__init__()\n",
    "        self.label = \"design\"\n",
    "        self.config = config\n",
    "        self.type = config['type']\n",
    "        self.name = config['name']\n",
    "        self.design_type = config['label']\n",
    "    \n",
    "\n",
    "    def get_data(self):\n",
    "        fund = self.get_fundimentals()\n",
    "        for k,v in self.config.items():\n",
    "            fund[k] = v\n",
    "        fund['type'] = self.config['type']\n",
    "        fund['label'] = self.label\n",
    "        return fund\n"
   ]
  },
  {
   "cell_type": "code",
   "execution_count": null,
   "metadata": {},
   "outputs": [],
   "source": [
    "class Ship(baseobjects.Baseobject):\n",
    "    def __init__(self, design, component_configurations):\n",
    "        super().__init__()\n",
    "        self.label = \"ship\"\n",
    "        # TODO: Naming for ships\n",
    "        self.name = design['name']\n",
    "        self.type = design['type']\n",
    "        self.design = Design(design)\n",
    "        self.components = [Component(component_configurations[c]) for c in design['components']]\n",
    "        self.stats = {}\n",
    "        self.build_stats()\n",
    "    \n",
    "    def build_stats(self):\n",
    "        for i in self.components:\n",
    "            c = i.get_data()\n",
    "            if 'augments_ship_stats' in c.keys():\n",
    "                for k,v in c['augments_ship_stats'].items():\n",
    "                    if k in self.stats.keys():\n",
    "                        self.stats[k] += v\n",
    "                    else:\n",
    "                        self.stats[k] = v\n",
    "\n",
    "    \n",
    "    def get_upload_data(self):\n",
    "        data = {'nodes':[], 'edges':[]}\n",
    "        data['nodes'].append(self.design.get_data())\n",
    "        for i in self.components:\n",
    "            data['nodes'].append(i.get_data())\n",
    "            data['edges'].append({'source':self.objid, 'target':i.objid, 'label':'has'})\n",
    "        data['nodes'].append(self.get_data())\n",
    "        return data\n",
    "\n",
    "    def get_data(self):\n",
    "        fund = self.get_fundimentals()\n",
    "        for k,v in self.stats.items():\n",
    "            fund[k] = v\n",
    "        fund['type'] = self.type\n",
    "        return fund\n",
    "\n"
   ]
  },
  {
   "cell_type": "code",
   "execution_count": 197,
   "metadata": {},
   "outputs": [
    {
     "data": {
      "text/plain": [
       "<ship: probe; 9827306495835; Probe>"
      ]
     },
     "execution_count": 197,
     "metadata": {},
     "output_type": "execute_result"
    }
   ],
   "source": [
    "ship = Ship(probe, ship_configurations['components'])\n",
    "ship"
   ]
  },
  {
   "cell_type": "code",
   "execution_count": 198,
   "metadata": {},
   "outputs": [
    {
     "data": {
      "text/plain": [
       "[<component: engine; 6842355547894; Engine>,\n",
       " <component: scanner; 8102588717084; Scanner>]"
      ]
     },
     "execution_count": 198,
     "metadata": {},
     "output_type": "execute_result"
    }
   ],
   "source": [
    "ship.components"
   ]
  },
  {
   "cell_type": "code",
   "execution_count": 199,
   "metadata": {},
   "outputs": [
    {
     "data": {
      "text/plain": [
       "{'speed': 1, 'build_effort': 2, 'cost': 2}"
      ]
     },
     "execution_count": 199,
     "metadata": {},
     "output_type": "execute_result"
    }
   ],
   "source": [
    "ship.stats"
   ]
  },
  {
   "cell_type": "code",
   "execution_count": 200,
   "metadata": {},
   "outputs": [
    {
     "data": {
      "text/plain": [
       "{'name': 'Probe',\n",
       " 'objid': '9827306495835',\n",
       " 'label': 'ship',\n",
       " 'speed': 1,\n",
       " 'build_effort': 2,\n",
       " 'cost': 2,\n",
       " 'type': 'probe'}"
      ]
     },
     "execution_count": 200,
     "metadata": {},
     "output_type": "execute_result"
    }
   ],
   "source": [
    "ship.get_data()"
   ]
  },
  {
   "cell_type": "code",
   "execution_count": 201,
   "metadata": {},
   "outputs": [
    {
     "data": {
      "text/html": [
       "<div>\n",
       "<style scoped>\n",
       "    .dataframe tbody tr th:only-of-type {\n",
       "        vertical-align: middle;\n",
       "    }\n",
       "\n",
       "    .dataframe tbody tr th {\n",
       "        vertical-align: top;\n",
       "    }\n",
       "\n",
       "    .dataframe thead th {\n",
       "        text-align: right;\n",
       "    }\n",
       "</style>\n",
       "<table border=\"1\" class=\"dataframe\">\n",
       "  <thead>\n",
       "    <tr style=\"text-align: right;\">\n",
       "      <th></th>\n",
       "      <th>name</th>\n",
       "      <th>objid</th>\n",
       "      <th>label</th>\n",
       "      <th>type</th>\n",
       "      <th>description</th>\n",
       "      <th>components</th>\n",
       "      <th>augments_ship_stats</th>\n",
       "      <th>fuel</th>\n",
       "      <th>render</th>\n",
       "      <th>grants_capability</th>\n",
       "      <th>speed</th>\n",
       "      <th>build_effort</th>\n",
       "      <th>cost</th>\n",
       "    </tr>\n",
       "  </thead>\n",
       "  <tbody>\n",
       "    <tr>\n",
       "      <th>0</th>\n",
       "      <td>Probe</td>\n",
       "      <td>1713445880684</td>\n",
       "      <td>design</td>\n",
       "      <td>probe</td>\n",
       "      <td>One way scanning machine to observe a location...</td>\n",
       "      <td>[engine, scanner]</td>\n",
       "      <td>NaN</td>\n",
       "      <td>NaN</td>\n",
       "      <td>NaN</td>\n",
       "      <td>NaN</td>\n",
       "      <td>NaN</td>\n",
       "      <td>NaN</td>\n",
       "      <td>NaN</td>\n",
       "    </tr>\n",
       "    <tr>\n",
       "      <th>1</th>\n",
       "      <td>Engine</td>\n",
       "      <td>6842355547894</td>\n",
       "      <td>component</td>\n",
       "      <td>engine</td>\n",
       "      <td>Engines for the ship. Increases the speed and ...</td>\n",
       "      <td>NaN</td>\n",
       "      <td>{'speed': 1, 'build_effort': 1, 'cost': 1}</td>\n",
       "      <td>0.0</td>\n",
       "      <td>cone</td>\n",
       "      <td>NaN</td>\n",
       "      <td>NaN</td>\n",
       "      <td>NaN</td>\n",
       "      <td>NaN</td>\n",
       "    </tr>\n",
       "    <tr>\n",
       "      <th>2</th>\n",
       "      <td>Scanner</td>\n",
       "      <td>8102588717084</td>\n",
       "      <td>component</td>\n",
       "      <td>scanner</td>\n",
       "      <td>Scans the environment for resources.</td>\n",
       "      <td>NaN</td>\n",
       "      <td>{'cost': 1, 'build_effort': 1}</td>\n",
       "      <td>NaN</td>\n",
       "      <td>ball</td>\n",
       "      <td>[scan]</td>\n",
       "      <td>NaN</td>\n",
       "      <td>NaN</td>\n",
       "      <td>NaN</td>\n",
       "    </tr>\n",
       "    <tr>\n",
       "      <th>3</th>\n",
       "      <td>Probe</td>\n",
       "      <td>9827306495835</td>\n",
       "      <td>ship</td>\n",
       "      <td>probe</td>\n",
       "      <td>NaN</td>\n",
       "      <td>NaN</td>\n",
       "      <td>NaN</td>\n",
       "      <td>NaN</td>\n",
       "      <td>NaN</td>\n",
       "      <td>NaN</td>\n",
       "      <td>1.0</td>\n",
       "      <td>2.0</td>\n",
       "      <td>2.0</td>\n",
       "    </tr>\n",
       "  </tbody>\n",
       "</table>\n",
       "</div>"
      ],
      "text/plain": [
       "      name          objid      label     type  \\\n",
       "0    Probe  1713445880684     design    probe   \n",
       "1   Engine  6842355547894  component   engine   \n",
       "2  Scanner  8102588717084  component  scanner   \n",
       "3    Probe  9827306495835       ship    probe   \n",
       "\n",
       "                                         description         components  \\\n",
       "0  One way scanning machine to observe a location...  [engine, scanner]   \n",
       "1  Engines for the ship. Increases the speed and ...                NaN   \n",
       "2               Scans the environment for resources.                NaN   \n",
       "3                                                NaN                NaN   \n",
       "\n",
       "                          augments_ship_stats  fuel render grants_capability  \\\n",
       "0                                         NaN   NaN    NaN               NaN   \n",
       "1  {'speed': 1, 'build_effort': 1, 'cost': 1}   0.0   cone               NaN   \n",
       "2              {'cost': 1, 'build_effort': 1}   NaN   ball            [scan]   \n",
       "3                                         NaN   NaN    NaN               NaN   \n",
       "\n",
       "   speed  build_effort  cost  \n",
       "0    NaN           NaN   NaN  \n",
       "1    NaN           NaN   NaN  \n",
       "2    NaN           NaN   NaN  \n",
       "3    1.0           2.0   2.0  "
      ]
     },
     "execution_count": 201,
     "metadata": {},
     "output_type": "execute_result"
    }
   ],
   "source": [
    "pd.DataFrame(ship.get_upload_data()['nodes'])"
   ]
  },
  {
   "cell_type": "code",
   "execution_count": 194,
   "metadata": {},
   "outputs": [
    {
     "data": {
      "text/html": [
       "<div>\n",
       "<style scoped>\n",
       "    .dataframe tbody tr th:only-of-type {\n",
       "        vertical-align: middle;\n",
       "    }\n",
       "\n",
       "    .dataframe tbody tr th {\n",
       "        vertical-align: top;\n",
       "    }\n",
       "\n",
       "    .dataframe thead th {\n",
       "        text-align: right;\n",
       "    }\n",
       "</style>\n",
       "<table border=\"1\" class=\"dataframe\">\n",
       "  <thead>\n",
       "    <tr style=\"text-align: right;\">\n",
       "      <th></th>\n",
       "      <th>source</th>\n",
       "      <th>target</th>\n",
       "      <th>label</th>\n",
       "    </tr>\n",
       "  </thead>\n",
       "  <tbody>\n",
       "    <tr>\n",
       "      <th>0</th>\n",
       "      <td>0079912752816</td>\n",
       "      <td>7283795160076</td>\n",
       "      <td>has</td>\n",
       "    </tr>\n",
       "    <tr>\n",
       "      <th>1</th>\n",
       "      <td>0079912752816</td>\n",
       "      <td>1345294256743</td>\n",
       "      <td>has</td>\n",
       "    </tr>\n",
       "  </tbody>\n",
       "</table>\n",
       "</div>"
      ],
      "text/plain": [
       "          source         target label\n",
       "0  0079912752816  7283795160076   has\n",
       "1  0079912752816  1345294256743   has"
      ]
     },
     "execution_count": 194,
     "metadata": {},
     "output_type": "execute_result"
    }
   ],
   "source": [
    "pd.DataFrame(ship.get_upload_data()['edges'])"
   ]
  },
  {
   "cell_type": "markdown",
   "metadata": {},
   "source": [
    "## The Construction process:\n",
    "1. user will click on the `build_ship` button in the UX. \n",
    "2. ajax will take the building info and create a task.\n",
    "3. a job is created for the build\n",
    "4. upon completion, the ship is added to whichever `shipyard` exists in that faction"
   ]
  },
  {
   "cell_type": "code",
   "execution_count": null,
   "metadata": {},
   "outputs": [],
   "source": []
  },
  {
   "cell_type": "code",
   "execution_count": null,
   "metadata": {},
   "outputs": [],
   "source": []
  },
  {
   "cell_type": "code",
   "execution_count": null,
   "metadata": {},
   "outputs": [],
   "source": []
  }
 ],
 "metadata": {
  "kernelspec": {
   "display_name": "exoplanets",
   "language": "python",
   "name": "python3"
  },
  "language_info": {
   "codemirror_mode": {
    "name": "ipython",
    "version": 3
   },
   "file_extension": ".py",
   "mimetype": "text/x-python",
   "name": "python",
   "nbconvert_exporter": "python",
   "pygments_lexer": "ipython3",
   "version": "3.8.16"
  }
 },
 "nbformat": 4,
 "nbformat_minor": 2
}
