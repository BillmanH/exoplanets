{
 "cells": [
  {
   "cell_type": "markdown",
   "metadata": {
    "vscode": {
     "languageId": "plaintext"
    }
   },
   "source": [
    "# Building Ships\n",
    "\n",
    "Ships are large structures that can be built in the `industrial_complex`. They consume resources to make and must be stored in a `shipyard`. "
   ]
  },
  {
   "cell_type": "code",
   "execution_count": 1,
   "metadata": {},
   "outputs": [],
   "source": [
    "import sys, os\n",
    "import pandas as pd\n",
    "import altair as alt\n",
    "import yaml\n",
    "sys.path.append('../..')\n",
    "\n",
    "import  ssl, asyncio\n",
    "\n",
    "ssl._create_default_https_context = ssl._create_unverified_context\n",
    "asyncio.set_event_loop_policy(asyncio.WindowsSelectorEventLoopPolicy())\n",
    "import nest_asyncio\n",
    "# this is required for running in a Jupyter Notebook. \n",
    "\n",
    "nest_asyncio.apply()\n",
    "\n",
    "PII_cols = ['username','userguid','owner']"
   ]
  },
  {
   "cell_type": "code",
   "execution_count": 2,
   "metadata": {},
   "outputs": [],
   "source": [
    "from app.objects import baseobjects\n",
    "from app.objects import ships\n",
    "from app.objects import population"
   ]
  },
  {
   "cell_type": "code",
   "execution_count": 3,
   "metadata": {},
   "outputs": [
    {
     "name": "stdout",
     "output_type": "stream",
     "text": [
      "executing local windows deployment\n",
      "something wrong with your query: <class 'Exception'>\n"
     ]
    }
   ],
   "source": [
    "from app.connectors.cmdb_graph import CosmosdbClient\n",
    "c = CosmosdbClient()"
   ]
  },
  {
   "cell_type": "markdown",
   "metadata": {},
   "source": [
    "industrial_complex `has_buttons`, which can `build_ship`. Ships are built from `designs`, which are also in the config. "
   ]
  },
  {
   "cell_type": "code",
   "execution_count": 4,
   "metadata": {},
   "outputs": [
    {
     "data": {
      "text/plain": [
       "dict_keys(['explanation', 'components', 'designs'])"
      ]
     },
     "execution_count": 4,
     "metadata": {},
     "output_type": "execute_result"
    }
   ],
   "source": [
    "ship_configurations = ships.ship_configurations\n",
    "ship_configurations.keys()"
   ]
  },
  {
   "cell_type": "markdown",
   "metadata": {},
   "source": [
    "A ships effort is the sum of it's components"
   ]
  },
  {
   "cell_type": "code",
   "execution_count": 5,
   "metadata": {},
   "outputs": [
    {
     "data": {
      "text/plain": [
       "{'type': 'probe',\n",
       " 'label': 'ship',\n",
       " 'name': 'Probe',\n",
       " 'description': 'One way scanning machine to observe a location. Requires ',\n",
       " 'components': ['engine', 'scanner']}"
      ]
     },
     "execution_count": 5,
     "metadata": {},
     "output_type": "execute_result"
    }
   ],
   "source": [
    "probe = ship_configurations['designs']['probe']\n",
    "probe"
   ]
  },
  {
   "cell_type": "markdown",
   "metadata": {},
   "source": [
    "# The Ship object"
   ]
  },
  {
   "cell_type": "code",
   "execution_count": 6,
   "metadata": {},
   "outputs": [],
   "source": [
    "class Component(baseobjects.Baseobject):\n",
    "    def __init__(self, config):\n",
    "        super().__init__()\n",
    "        self.label = \"component\"\n",
    "        self.config = config\n",
    "        self.type = config['type']\n",
    "        self.name = config['name']\n",
    "    \n",
    "\n",
    "    def get_data(self):\n",
    "        fund = self.get_fundimentals()\n",
    "        for k,v in self.config.items():\n",
    "            fund[k] = v\n",
    "        fund['type'] = self.config['type']\n",
    "        return fund\n"
   ]
  },
  {
   "cell_type": "code",
   "execution_count": 7,
   "metadata": {},
   "outputs": [],
   "source": [
    "class Design(baseobjects.Baseobject):\n",
    "    def __init__(self, config):\n",
    "        super().__init__()\n",
    "        self.label = \"design\"\n",
    "        self.config = config\n",
    "        self.type = config['type']\n",
    "        self.name = config['name']\n",
    "        self.design_type = config['label']\n",
    "    \n",
    "\n",
    "    def get_data(self):\n",
    "        fund = self.get_fundimentals()\n",
    "        for k,v in self.config.items():\n",
    "            fund[k] = v\n",
    "        fund['type'] = self.config['type']\n",
    "        fund['label'] = self.label\n",
    "        return fund\n"
   ]
  },
  {
   "cell_type": "code",
   "execution_count": 8,
   "metadata": {},
   "outputs": [],
   "source": [
    "class Ship(baseobjects.Baseobject):\n",
    "    def __init__(self, design, component_configurations):\n",
    "        super().__init__()\n",
    "        self.label = \"ship\"\n",
    "        # TODO: Naming for ships\n",
    "        self.name = design['name']\n",
    "        self.type = design['type']\n",
    "        self.design = Design(design)\n",
    "        self.components = [Component(component_configurations[c]) for c in design['components']]\n",
    "        self.stats = {}\n",
    "        self.build_stats()\n",
    "    \n",
    "    def build_stats(self):\n",
    "        for i in self.components:\n",
    "            c = i.get_data()\n",
    "            if 'augments_ship_stats' in c.keys():\n",
    "                for k,v in c['augments_ship_stats'].items():\n",
    "                    if k in self.stats.keys():\n",
    "                        self.stats[k] += v\n",
    "                    else:\n",
    "                        self.stats[k] = v\n",
    "\n",
    "    \n",
    "    def get_upload_data(self):\n",
    "        data = {'nodes':[], 'edges':[]}\n",
    "        data['nodes'].append(self.design.get_data())\n",
    "        for i in self.components:\n",
    "            data['nodes'].append(i.get_data())\n",
    "            data['edges'].append({'source':self.objid, 'target':i.objid, 'label':'has'})\n",
    "        data['nodes'].append(self.get_data())\n",
    "        return data\n",
    "\n",
    "    def get_data(self):\n",
    "        fund = self.get_fundimentals()\n",
    "        for k,v in self.stats.items():\n",
    "            fund[k] = v\n",
    "        fund['type'] = self.type\n",
    "        return fund\n",
    "\n"
   ]
  },
  {
   "cell_type": "code",
   "execution_count": 9,
   "metadata": {},
   "outputs": [
    {
     "data": {
      "text/plain": [
       "<ship: probe; 1972430856265; Probe>"
      ]
     },
     "execution_count": 9,
     "metadata": {},
     "output_type": "execute_result"
    }
   ],
   "source": [
    "ship = Ship(probe, ship_configurations['components'])\n",
    "ship"
   ]
  },
  {
   "cell_type": "code",
   "execution_count": 10,
   "metadata": {},
   "outputs": [
    {
     "data": {
      "text/plain": [
       "[<component: engine; 8727185535932; Engine>,\n",
       " <component: scanner; 3175288726804; Scanner>]"
      ]
     },
     "execution_count": 10,
     "metadata": {},
     "output_type": "execute_result"
    }
   ],
   "source": [
    "ship.components"
   ]
  },
  {
   "cell_type": "code",
   "execution_count": 11,
   "metadata": {},
   "outputs": [
    {
     "data": {
      "text/plain": [
       "{'speed': 1, 'build_effort': 2, 'cost': 2}"
      ]
     },
     "execution_count": 11,
     "metadata": {},
     "output_type": "execute_result"
    }
   ],
   "source": [
    "ship.stats"
   ]
  },
  {
   "cell_type": "code",
   "execution_count": 12,
   "metadata": {},
   "outputs": [
    {
     "data": {
      "text/plain": [
       "{'name': 'Probe',\n",
       " 'objid': '1972430856265',\n",
       " 'label': 'ship',\n",
       " 'speed': 1,\n",
       " 'build_effort': 2,\n",
       " 'cost': 2,\n",
       " 'type': 'probe'}"
      ]
     },
     "execution_count": 12,
     "metadata": {},
     "output_type": "execute_result"
    }
   ],
   "source": [
    "ship.get_data()"
   ]
  },
  {
   "cell_type": "code",
   "execution_count": 13,
   "metadata": {},
   "outputs": [
    {
     "data": {
      "text/html": [
       "<div>\n",
       "<style scoped>\n",
       "    .dataframe tbody tr th:only-of-type {\n",
       "        vertical-align: middle;\n",
       "    }\n",
       "\n",
       "    .dataframe tbody tr th {\n",
       "        vertical-align: top;\n",
       "    }\n",
       "\n",
       "    .dataframe thead th {\n",
       "        text-align: right;\n",
       "    }\n",
       "</style>\n",
       "<table border=\"1\" class=\"dataframe\">\n",
       "  <thead>\n",
       "    <tr style=\"text-align: right;\">\n",
       "      <th></th>\n",
       "      <th>name</th>\n",
       "      <th>objid</th>\n",
       "      <th>label</th>\n",
       "      <th>type</th>\n",
       "      <th>description</th>\n",
       "      <th>components</th>\n",
       "      <th>augments_ship_stats</th>\n",
       "      <th>fuel</th>\n",
       "      <th>render</th>\n",
       "      <th>grants_capability</th>\n",
       "      <th>speed</th>\n",
       "      <th>build_effort</th>\n",
       "      <th>cost</th>\n",
       "    </tr>\n",
       "  </thead>\n",
       "  <tbody>\n",
       "    <tr>\n",
       "      <th>0</th>\n",
       "      <td>Probe</td>\n",
       "      <td>0034532612170</td>\n",
       "      <td>design</td>\n",
       "      <td>probe</td>\n",
       "      <td>One way scanning machine to observe a location...</td>\n",
       "      <td>[engine, scanner]</td>\n",
       "      <td>NaN</td>\n",
       "      <td>NaN</td>\n",
       "      <td>NaN</td>\n",
       "      <td>NaN</td>\n",
       "      <td>NaN</td>\n",
       "      <td>NaN</td>\n",
       "      <td>NaN</td>\n",
       "    </tr>\n",
       "    <tr>\n",
       "      <th>1</th>\n",
       "      <td>Engine</td>\n",
       "      <td>8727185535932</td>\n",
       "      <td>component</td>\n",
       "      <td>engine</td>\n",
       "      <td>Engines for the ship. Increases the speed and ...</td>\n",
       "      <td>NaN</td>\n",
       "      <td>{'speed': 1, 'build_effort': 1, 'cost': 1}</td>\n",
       "      <td>0.0</td>\n",
       "      <td>cone</td>\n",
       "      <td>NaN</td>\n",
       "      <td>NaN</td>\n",
       "      <td>NaN</td>\n",
       "      <td>NaN</td>\n",
       "    </tr>\n",
       "    <tr>\n",
       "      <th>2</th>\n",
       "      <td>Scanner</td>\n",
       "      <td>3175288726804</td>\n",
       "      <td>component</td>\n",
       "      <td>scanner</td>\n",
       "      <td>Scans the environment for resources.</td>\n",
       "      <td>NaN</td>\n",
       "      <td>{'cost': 1, 'build_effort': 1}</td>\n",
       "      <td>NaN</td>\n",
       "      <td>ball</td>\n",
       "      <td>[scan]</td>\n",
       "      <td>NaN</td>\n",
       "      <td>NaN</td>\n",
       "      <td>NaN</td>\n",
       "    </tr>\n",
       "    <tr>\n",
       "      <th>3</th>\n",
       "      <td>Probe</td>\n",
       "      <td>1972430856265</td>\n",
       "      <td>ship</td>\n",
       "      <td>probe</td>\n",
       "      <td>NaN</td>\n",
       "      <td>NaN</td>\n",
       "      <td>NaN</td>\n",
       "      <td>NaN</td>\n",
       "      <td>NaN</td>\n",
       "      <td>NaN</td>\n",
       "      <td>1.0</td>\n",
       "      <td>2.0</td>\n",
       "      <td>2.0</td>\n",
       "    </tr>\n",
       "  </tbody>\n",
       "</table>\n",
       "</div>"
      ],
      "text/plain": [
       "      name          objid      label     type  \\\n",
       "0    Probe  0034532612170     design    probe   \n",
       "1   Engine  8727185535932  component   engine   \n",
       "2  Scanner  3175288726804  component  scanner   \n",
       "3    Probe  1972430856265       ship    probe   \n",
       "\n",
       "                                         description         components  \\\n",
       "0  One way scanning machine to observe a location...  [engine, scanner]   \n",
       "1  Engines for the ship. Increases the speed and ...                NaN   \n",
       "2               Scans the environment for resources.                NaN   \n",
       "3                                                NaN                NaN   \n",
       "\n",
       "                          augments_ship_stats  fuel render grants_capability  \\\n",
       "0                                         NaN   NaN    NaN               NaN   \n",
       "1  {'speed': 1, 'build_effort': 1, 'cost': 1}   0.0   cone               NaN   \n",
       "2              {'cost': 1, 'build_effort': 1}   NaN   ball            [scan]   \n",
       "3                                         NaN   NaN    NaN               NaN   \n",
       "\n",
       "   speed  build_effort  cost  \n",
       "0    NaN           NaN   NaN  \n",
       "1    NaN           NaN   NaN  \n",
       "2    NaN           NaN   NaN  \n",
       "3    1.0           2.0   2.0  "
      ]
     },
     "execution_count": 13,
     "metadata": {},
     "output_type": "execute_result"
    }
   ],
   "source": [
    "pd.DataFrame(ship.get_upload_data()['nodes'])"
   ]
  },
  {
   "cell_type": "code",
   "execution_count": 14,
   "metadata": {},
   "outputs": [
    {
     "data": {
      "text/html": [
       "<div>\n",
       "<style scoped>\n",
       "    .dataframe tbody tr th:only-of-type {\n",
       "        vertical-align: middle;\n",
       "    }\n",
       "\n",
       "    .dataframe tbody tr th {\n",
       "        vertical-align: top;\n",
       "    }\n",
       "\n",
       "    .dataframe thead th {\n",
       "        text-align: right;\n",
       "    }\n",
       "</style>\n",
       "<table border=\"1\" class=\"dataframe\">\n",
       "  <thead>\n",
       "    <tr style=\"text-align: right;\">\n",
       "      <th></th>\n",
       "      <th>source</th>\n",
       "      <th>target</th>\n",
       "      <th>label</th>\n",
       "    </tr>\n",
       "  </thead>\n",
       "  <tbody>\n",
       "    <tr>\n",
       "      <th>0</th>\n",
       "      <td>1972430856265</td>\n",
       "      <td>8727185535932</td>\n",
       "      <td>has</td>\n",
       "    </tr>\n",
       "    <tr>\n",
       "      <th>1</th>\n",
       "      <td>1972430856265</td>\n",
       "      <td>3175288726804</td>\n",
       "      <td>has</td>\n",
       "    </tr>\n",
       "  </tbody>\n",
       "</table>\n",
       "</div>"
      ],
      "text/plain": [
       "          source         target label\n",
       "0  1972430856265  8727185535932   has\n",
       "1  1972430856265  3175288726804   has"
      ]
     },
     "execution_count": 14,
     "metadata": {},
     "output_type": "execute_result"
    }
   ],
   "source": [
    "pd.DataFrame(ship.get_upload_data()['edges'])"
   ]
  },
  {
   "cell_type": "markdown",
   "metadata": {},
   "source": [
    "## The Construction process:\n",
    "1. user will click on the `build_ship` button in the UX. \n",
    "2. The server will validate that the faction can build a ship. \n",
    "2. ajax will take the building info and create a task.\n",
    "3. a job is created for the build\n",
    "4. upon completion, the ship is added to whichever `shipyard` exists in that faction\n",
    "\n",
    "* The ajax button is here: app\\templates\\app\\ajax\\building_action.js\n",
    "* The Backend Function is here: app\\models\\buildings.py"
   ]
  },
  {
   "cell_type": "code",
   "execution_count": 26,
   "metadata": {},
   "outputs": [
    {
     "data": {
      "text/plain": [
       "{'agent': {'objid': '9662163071808',\n",
       "  'type': 'manufacturing',\n",
       "  'name': 'Industrial manufacturing complex',\n",
       "  'faction_augments': '{wealth: -1}',\n",
       "  'description': 'Builds ships and other large objects for the faction.',\n",
       "  'has_buttons': '[build_ship]',\n",
       "  'current_design': 'probe',\n",
       "  'id': '9662163071808',\n",
       "  'owner': '5657120867640',\n",
       "  'objtype': '<->'},\n",
       " 'action': 'build_ship'}"
      ]
     },
     "execution_count": 26,
     "metadata": {},
     "output_type": "execute_result"
    }
   ],
   "source": [
    "message = {'agent': {'objid': '9662163071808', 'type': 'manufacturing', 'name': 'Industrial manufacturing complex', 'faction_augments': '{wealth: -1}', 'description': 'Builds ships and other large objects for the faction.', 'has_buttons': '[build_ship]', 'current_design': 'probe', 'id': '9662163071808', 'owner': '5657120867640', 'objtype': '<->'}, 'action': 'build_ship'}\n",
    "message"
   ]
  },
  {
   "cell_type": "code",
   "execution_count": 16,
   "metadata": {},
   "outputs": [],
   "source": [
    "agent = message['agent']\n",
    "if agent['current_design'] == 'probe':\n",
    "    design_config = ship_configurations['designs']['probe']"
   ]
  },
  {
   "cell_type": "code",
   "execution_count": 17,
   "metadata": {},
   "outputs": [
    {
     "data": {
      "text/plain": [
       "{'type': 'probe',\n",
       " 'label': 'ship',\n",
       " 'name': 'Probe',\n",
       " 'description': 'One way scanning machine to observe a location. Requires ',\n",
       " 'components': ['engine', 'scanner']}"
      ]
     },
     "execution_count": 17,
     "metadata": {},
     "output_type": "execute_result"
    }
   ],
   "source": [
    "design_config"
   ]
  },
  {
   "cell_type": "code",
   "execution_count": 18,
   "metadata": {},
   "outputs": [
    {
     "data": {
      "text/plain": [
       "['engine', 'scanner']"
      ]
     },
     "execution_count": 18,
     "metadata": {},
     "output_type": "execute_result"
    }
   ],
   "source": [
    "design_config['components']"
   ]
  },
  {
   "cell_type": "code",
   "execution_count": 19,
   "metadata": {},
   "outputs": [
    {
     "data": {
      "text/plain": [
       "<ship: probe; 0479737364650; Probe>"
      ]
     },
     "execution_count": 19,
     "metadata": {},
     "output_type": "execute_result"
    }
   ],
   "source": [
    "ship = Ship(design_config, ship_configurations['components'])\n",
    "ship"
   ]
  },
  {
   "cell_type": "code",
   "execution_count": 20,
   "metadata": {},
   "outputs": [
    {
     "data": {
      "text/plain": [
       "{'speed': 1, 'build_effort': 2, 'cost': 2}"
      ]
     },
     "execution_count": 20,
     "metadata": {},
     "output_type": "execute_result"
    }
   ],
   "source": [
    "ship.stats"
   ]
  },
  {
   "cell_type": "code",
   "execution_count": 21,
   "metadata": {},
   "outputs": [
    {
     "data": {
      "text/plain": [
       "{'objid': '9662163071808',\n",
       " 'type': 'manufacturing',\n",
       " 'name': 'Industrial manufacturing complex',\n",
       " 'faction_augments': '{wealth: -1}',\n",
       " 'description': 'Builds ships and other large objects for the faction.',\n",
       " 'has_buttons': '[build_ship]',\n",
       " 'current_design': 'probe',\n",
       " 'id': '9662163071808',\n",
       " 'owner': '5657120867640',\n",
       " 'objtype': '<->'}"
      ]
     },
     "execution_count": 21,
     "metadata": {},
     "output_type": "execute_result"
    }
   ],
   "source": [
    "agent"
   ]
  },
  {
   "cell_type": "code",
   "execution_count": 22,
   "metadata": {},
   "outputs": [
    {
     "name": "stdout",
     "output_type": "stream",
     "text": [
      "faction has shipyard:  False\n"
     ]
    },
    {
     "data": {
      "text/plain": [
       "['farmland', 'forestry', 'manufacturing']"
      ]
     },
     "execution_count": 22,
     "metadata": {},
     "output_type": "execute_result"
    }
   ],
   "source": [
    "faction_buildings_query = f\"g.V().has('objid','{agent['owner']}').out('isIn').in('isIn').out('owns').values('type')\"\n",
    "c.run_query(faction_buildings_query)    \n",
    "print(\"faction has shipyard: \", ('shipyard' in c.res))\n",
    "c.res\n"
   ]
  },
  {
   "cell_type": "code",
   "execution_count": 25,
   "metadata": {},
   "outputs": [
    {
     "ename": "NameError",
     "evalue": "name 'agent' is not defined",
     "output_type": "error",
     "traceback": [
      "\u001b[1;31m---------------------------------------------------------------------------\u001b[0m",
      "\u001b[1;31mNameError\u001b[0m                                 Traceback (most recent call last)",
      "Cell \u001b[1;32mIn[25], line 3\u001b[0m\n\u001b[0;32m      1\u001b[0m \u001b[38;5;28;01mfrom\u001b[39;00m \u001b[38;5;21;01mapp\u001b[39;00m\u001b[38;5;21;01m.\u001b[39;00m\u001b[38;5;21;01majaxviews\u001b[39;00m \u001b[38;5;28;01mimport\u001b[39;00m pop\n\u001b[1;32m----> 3\u001b[0m \u001b[43mpop\u001b[49m\u001b[38;5;241;43m.\u001b[39;49m\u001b[43mbuild_ship\u001b[49m\u001b[43m(\u001b[49m\u001b[43mc\u001b[49m\u001b[43m,\u001b[49m\u001b[43mmessage\u001b[49m\u001b[43m)\u001b[49m\n",
      "File \u001b[1;32mc:\\Users\\willi\\repos\\exoplanets\\notebooks\\ships\\../..\\app\\ajaxviews\\pop.py:195\u001b[0m, in \u001b[0;36mbuild_ship\u001b[1;34m(c, message)\u001b[0m\n\u001b[0;32m    184\u001b[0m action \u001b[38;5;241m=\u001b[39m {\n\u001b[0;32m    185\u001b[0m     \u001b[38;5;124m\"\u001b[39m\u001b[38;5;124mtype\u001b[39m\u001b[38;5;124m\"\u001b[39m: \u001b[38;5;124m\"\u001b[39m\u001b[38;5;124mfabricating\u001b[39m\u001b[38;5;124m\"\u001b[39m,\n\u001b[0;32m    186\u001b[0m     \u001b[38;5;124m\"\u001b[39m\u001b[38;5;124mlabel\u001b[39m\u001b[38;5;124m\"\u001b[39m: \u001b[38;5;124m\"\u001b[39m\u001b[38;5;124maction\u001b[39m\u001b[38;5;124m\"\u001b[39m,\n\u001b[1;32m   (...)\u001b[0m\n\u001b[0;32m    192\u001b[0m     \u001b[38;5;124m\"\u001b[39m\u001b[38;5;124mto_build\u001b[39m\u001b[38;5;124m\"\u001b[39m:design_config\n\u001b[0;32m    193\u001b[0m }\n\u001b[0;32m    194\u001b[0m setIdle \u001b[38;5;241m=\u001b[39m \u001b[38;5;124mf\u001b[39m\u001b[38;5;124m\"\u001b[39m\u001b[38;5;124mg.V().has(\u001b[39m\u001b[38;5;124m'\u001b[39m\u001b[38;5;124mobjid\u001b[39m\u001b[38;5;124m'\u001b[39m\u001b[38;5;124m,\u001b[39m\u001b[38;5;124m'\u001b[39m\u001b[38;5;132;01m{\u001b[39;00mmessage[\u001b[38;5;124m'\u001b[39m\u001b[38;5;124magent\u001b[39m\u001b[38;5;124m'\u001b[39m][\u001b[38;5;124m'\u001b[39m\u001b[38;5;124mowner\u001b[39m\u001b[38;5;124m'\u001b[39m]\u001b[38;5;132;01m}\u001b[39;00m\u001b[38;5;124m'\u001b[39m\u001b[38;5;124m).property(\u001b[39m\u001b[38;5;124m'\u001b[39m\u001b[38;5;124misIdle\u001b[39m\u001b[38;5;124m'\u001b[39m\u001b[38;5;124m,\u001b[39m\u001b[38;5;124m'\u001b[39m\u001b[38;5;124mfalse\u001b[39m\u001b[38;5;124m'\u001b[39m\u001b[38;5;124m)\u001b[39m\u001b[38;5;124m\"\u001b[39m\n\u001b[1;32m--> 195\u001b[0m c\u001b[38;5;241m.\u001b[39mupload_data(\u001b[43magent\u001b[49m[\u001b[38;5;124m'\u001b[39m\u001b[38;5;124muserguid\u001b[39m\u001b[38;5;124m'\u001b[39m], create_job(message[\u001b[38;5;124m'\u001b[39m\u001b[38;5;124magent\u001b[39m\u001b[38;5;124m'\u001b[39m],message[\u001b[38;5;124m'\u001b[39m\u001b[38;5;124maction\u001b[39m\u001b[38;5;124m'\u001b[39m],utu))\n\u001b[0;32m    196\u001b[0m setIdleResp \u001b[38;5;241m=\u001b[39m c\u001b[38;5;241m.\u001b[39mrun_query(setIdle)\n\u001b[0;32m    197\u001b[0m \u001b[38;5;28;01mreturn\u001b[39;00m action\n",
      "\u001b[1;31mNameError\u001b[0m: name 'agent' is not defined"
     ]
    }
   ],
   "source": [
    "from app.ajaxviews import pop\n",
    "\n",
    "pop.build_ship(c,message)"
   ]
  },
  {
   "cell_type": "code",
   "execution_count": null,
   "metadata": {},
   "outputs": [],
   "source": []
  }
 ],
 "metadata": {
  "kernelspec": {
   "display_name": "exoplanets",
   "language": "python",
   "name": "python3"
  },
  "language_info": {
   "codemirror_mode": {
    "name": "ipython",
    "version": 3
   },
   "file_extension": ".py",
   "mimetype": "text/x-python",
   "name": "python",
   "nbconvert_exporter": "python",
   "pygments_lexer": "ipython3",
   "version": "3.8.16"
  }
 },
 "nbformat": 4,
 "nbformat_minor": 2
}
