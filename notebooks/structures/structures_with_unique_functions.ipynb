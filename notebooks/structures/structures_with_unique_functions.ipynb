{
 "cells": [
  {
   "cell_type": "markdown",
   "metadata": {},
   "source": [
    "# Structures with Unique Functionality"
   ]
  },
  {
   "cell_type": "markdown",
   "metadata": {},
   "source": [
    "Looking in `buildings.yaml` you will see that many structures have unique properties. \n",
    "* on_cycle: action/s to be taken on each building renew cycle\n",
    "* on_complete: action to be taken when the building is complete\n",
    "\n",
    "These are generated during the `factionBuildingTimer`  function, where event messages are generated. Those messages are resolved in `structures.process_structure()` within the `resolveActionEvents` function. That meas that they are all resolved asynchonously and without dependance on each other. \n"
   ]
  },
  {
   "cell_type": "markdown",
   "metadata": {},
   "source": [
    "### A demonstration"
   ]
  },
  {
   "cell_type": "code",
   "execution_count": 1,
   "metadata": {},
   "outputs": [
    {
     "name": "stderr",
     "output_type": "stream",
     "text": [
      "INFO:root:logs showing as print\n"
     ]
    },
    {
     "name": "stdout",
     "output_type": "stream",
     "text": [
      "['function_app.py']\n"
     ]
    }
   ],
   "source": [
    "import os\n",
    "import  ssl, asyncio\n",
    "import nest_asyncio\n",
    "import pandas as pd\n",
    "\n",
    "# moving back to the root, but idempotent in case we are already there\n",
    "if 'function_app.py' not in os.listdir():\n",
    "    os.chdir('../..')\n",
    "print([f for f in os.listdir() if f == 'function_app.py'])\n",
    "\n",
    "import logging\n",
    "logger = logging.getLogger()\n",
    "logger.setLevel(logging.DEBUG)\n",
    "logging.info(\"logs showing as print\")\n",
    "\n",
    "\n",
    "\n",
    "ssl._create_default_https_context = ssl._create_unverified_context\n",
    "asyncio.set_event_loop_policy(asyncio.WindowsSelectorEventLoopPolicy())\n",
    "# this is required for running in a Jupyter Notebook. \n",
    "nest_asyncio.apply()"
   ]
  },
  {
   "cell_type": "code",
   "execution_count": 2,
   "metadata": {},
   "outputs": [
    {
     "name": "stdout",
     "output_type": "stream",
     "text": [
      "executing local windows deployment\n",
      "something wrong with your query: <class 'Exception'>\n"
     ]
    }
   ],
   "source": [
    "import function_app as f"
   ]
  },
  {
   "cell_type": "markdown",
   "metadata": {},
   "source": [
    "## The Observatory\n",
    "\n",
    "```\n",
    "  observatory:\n",
    "    type: observatory\n",
    "    label: building\n",
    "    name: Stellar Observatory\n",
    "    description: \"Scans the solar system for planets, moons, comets,and asteroids.\"\n",
    "    owned_by: pop\n",
    "    faction_augments: \n",
    "      wealth: -10\n",
    "    requires_attr: \n",
    "      industry: .7\n",
    "    has_buttons:\n",
    "      - study_object\n",
    "    on_cycle:\n",
    "      - scan_system\n",
    "    effort: 5\n",
    "```"
   ]
  },
  {
   "cell_type": "markdown",
   "metadata": {},
   "source": [
    "The function of the timer function is only to get a list of messages that it will send to eventhub. It doesn't actually _do_ anything, it just creates actions for the `resolveActionEvents` to resolve. "
   ]
  },
  {
   "cell_type": "code",
   "execution_count": 3,
   "metadata": {},
   "outputs": [
    {
     "name": "stderr",
     "output_type": "stream",
     "text": [
      "DEBUG:asyncio:Using selector: SelectSelector\n",
      "DEBUG:asyncio:Using selector: SelectSelector\n",
      "INFO:root:EXOADMIN: number of items: 4\n",
      "INFO:root:EXOADMIN: Total Messages generated: 4 at: < time at UTU:1084 >\n"
     ]
    },
    {
     "data": {
      "text/html": [
       "<div>\n",
       "<style scoped>\n",
       "    .dataframe tbody tr th:only-of-type {\n",
       "        vertical-align: middle;\n",
       "    }\n",
       "\n",
       "    .dataframe tbody tr th {\n",
       "        vertical-align: top;\n",
       "    }\n",
       "\n",
       "    .dataframe thead th {\n",
       "        text-align: right;\n",
       "    }\n",
       "</style>\n",
       "<table border=\"1\" class=\"dataframe\">\n",
       "  <thead>\n",
       "    <tr style=\"text-align: right;\">\n",
       "      <th></th>\n",
       "      <th>faction</th>\n",
       "      <th>pop</th>\n",
       "      <th>structure</th>\n",
       "      <th>action</th>\n",
       "    </tr>\n",
       "  </thead>\n",
       "  <tbody>\n",
       "    <tr>\n",
       "      <th>0</th>\n",
       "      <td>{'wealth': 3, 'name': 'Ponhenhalgou', 'objid':...</td>\n",
       "      <td>{'isIdle': 'true', 'name': 'Ponhenhalgou Tubas...</td>\n",
       "      <td>{'name': 'Farmland', 'objid': '1882898224757',...</td>\n",
       "      <td>structure</td>\n",
       "    </tr>\n",
       "    <tr>\n",
       "      <th>1</th>\n",
       "      <td>{'wealth': '0', 'name': 'Quetylaban', 'objid':...</td>\n",
       "      <td>{'isIdle': 'true', 'name': 'Quetylaban Rez', '...</td>\n",
       "      <td>{'name': 'Industrial manufacturing complex', '...</td>\n",
       "      <td>structure</td>\n",
       "    </tr>\n",
       "    <tr>\n",
       "      <th>2</th>\n",
       "      <td>{'wealth': '0', 'name': 'Quetylaban', 'objid':...</td>\n",
       "      <td>{'isIdle': 'true', 'name': 'Quetylaban Saufloc...</td>\n",
       "      <td>{'name': 'Shipyard', 'objid': '6129816944130',...</td>\n",
       "      <td>structure</td>\n",
       "    </tr>\n",
       "    <tr>\n",
       "      <th>3</th>\n",
       "      <td>{'wealth': '0', 'name': 'Quetylaban', 'objid':...</td>\n",
       "      <td>{'isIdle': 'true', 'industry': '0.9', 'name': ...</td>\n",
       "      <td>{'name': 'Stellar Observatory', 'objid': '4325...</td>\n",
       "      <td>structure</td>\n",
       "    </tr>\n",
       "  </tbody>\n",
       "</table>\n",
       "</div>"
      ],
      "text/plain": [
       "                                             faction  \\\n",
       "0  {'wealth': 3, 'name': 'Ponhenhalgou', 'objid':...   \n",
       "1  {'wealth': '0', 'name': 'Quetylaban', 'objid':...   \n",
       "2  {'wealth': '0', 'name': 'Quetylaban', 'objid':...   \n",
       "3  {'wealth': '0', 'name': 'Quetylaban', 'objid':...   \n",
       "\n",
       "                                                 pop  \\\n",
       "0  {'isIdle': 'true', 'name': 'Ponhenhalgou Tubas...   \n",
       "1  {'isIdle': 'true', 'name': 'Quetylaban Rez', '...   \n",
       "2  {'isIdle': 'true', 'name': 'Quetylaban Saufloc...   \n",
       "3  {'isIdle': 'true', 'industry': '0.9', 'name': ...   \n",
       "\n",
       "                                           structure     action  \n",
       "0  {'name': 'Farmland', 'objid': '1882898224757',...  structure  \n",
       "1  {'name': 'Industrial manufacturing complex', '...  structure  \n",
       "2  {'name': 'Shipyard', 'objid': '6129816944130',...  structure  \n",
       "3  {'name': 'Stellar Observatory', 'objid': '4325...  structure  "
      ]
     },
     "execution_count": 3,
     "metadata": {},
     "output_type": "execute_result"
    }
   ],
   "source": [
    "structure_messages = f.get_structure_messages()\n",
    "pd.DataFrame(structure_messages)"
   ]
  },
  {
   "cell_type": "code",
   "execution_count": 4,
   "metadata": {},
   "outputs": [
    {
     "data": {
      "text/plain": [
       "{'name': 'Stellar Observatory',\n",
       " 'objid': '4325841147687',\n",
       " 'ownedBy': '7292775901561',\n",
       " 'userguid': '8d5b667f-b225-4641-b499-73b77558ff86',\n",
       " 'type': 'observatory',\n",
       " 'description': 'Scans the solar system for planets',\n",
       " 'moons': 'None',\n",
       " 'comets': 'None',\n",
       " 'and asteroids.': 'None',\n",
       " 'owned_by': 'pop',\n",
       " 'faction_augments': '{wealth: -10}',\n",
       " 'requires_attr': '{industry: 0.7}',\n",
       " 'on_cycle': '[scan_system]',\n",
       " 'effort': 5,\n",
       " 'objtype': 'building',\n",
       " 'id': '4325841147687'}"
      ]
     },
     "execution_count": 4,
     "metadata": {},
     "output_type": "execute_result"
    }
   ],
   "source": [
    "obervatory_message = structure_messages[3]\n",
    "obervatory_message['structure']"
   ]
  },
  {
   "cell_type": "markdown",
   "metadata": {},
   "source": [
    "## Resolving those messages\n",
    "\n",
    "First the timer function will query th structure to generate the discovery message. "
   ]
  },
  {
   "cell_type": "code",
   "execution_count": 5,
   "metadata": {},
   "outputs": [
    {
     "name": "stderr",
     "output_type": "stream",
     "text": [
      "DEBUG:asyncio:Using selector: SelectSelector\n",
      "INFO:root:EXOADMIN: processing message: structure at UTU:< time at UTU:1084 >\n",
      "INFO:root:EXOADMIN: process_structure, structure: Stellar Observatory: 4325841147687\n",
      "INFO:root:EXOADMIN: this structure augments a property of the faction\n",
      "INFO:root:EXOADMIN: wealth has changed from 0 to 0\n",
      "DEBUG:asyncio:Using selector: SelectSelector\n",
      "INFO:root:EXOADMIN: this structure has a cyclical effect: ['scan_system']\n",
      "INFO:root:EXOADMIN: processing cycle effect: scan_system\n",
      "DEBUG:asyncio:Using selector: SelectSelector\n",
      "INFO:root:EXOADMIN: query_counts_of_objects: {'planet': 4, 'moon': 10, 'star': 1, 'asteroid': 1}\n",
      "INFO:root:EXOADMIN: found a star with probability 1.0 and roll 0.9501330980564693\n",
      "INFO:root:EXOADMIN:       -------And with that processed STRUCTURE: {'faction': {'wealth': '0', 'name': 'Quetylaban', 'objid': '7667867938373', 'lat': -0.116, 'long': 0, 'infrastructure': 0, 'userguid': '8d5b667f-b225-4641-b499-73b77558ff86', 'objtype': 'faction', 'id': '7667867938373'}, 'pop': {'isIdle': 'true', 'industry': '0.9', 'name': 'Quetylaban Dor', 'objid': '7292775901561', 'conformity': 0.357, 'literacy': 0.48, 'aggression': 0.59, 'constitution': 0.611, 'health': 0.7, 'isIn': '7667867938373', 'wealth': 0.5402, 'factionLoyalty': 0.067, 'userguid': '8d5b667f-b225-4641-b499-73b77558ff86', 'objtype': 'pop', 'id': '7292775901561'}, 'structure': {'name': 'Stellar Observatory', 'objid': '4325841147687', 'ownedBy': '7292775901561', 'userguid': '8d5b667f-b225-4641-b499-73b77558ff86', 'type': 'observatory', 'description': 'Scans the solar system for planets', 'moons': 'None', 'comets': 'None', 'and asteroids.': 'None', 'owned_by': 'pop', 'faction_augments': '{wealth: -10}', 'requires_attr': '{industry: 0.7}', 'on_cycle': '[scan_system]', 'effort': 5, 'objtype': 'building', 'id': '4325841147687'}, 'action': 'structure'} at UTU:< time at UTU:1084 >\n"
     ]
    },
    {
     "data": {
      "text/plain": [
       "[{'action': 'discovery',\n",
       "  'agent': {'name': 'Stellar Observatory',\n",
       "   'objid': '4325841147687',\n",
       "   'ownedBy': '7292775901561',\n",
       "   'userguid': '8d5b667f-b225-4641-b499-73b77558ff86',\n",
       "   'type': 'observatory',\n",
       "   'description': 'Scans the solar system for planets',\n",
       "   'moons': 'None',\n",
       "   'comets': 'None',\n",
       "   'and asteroids.': 'None',\n",
       "   'owned_by': 'pop',\n",
       "   'faction_augments': '{wealth: -10}',\n",
       "   'requires_attr': '{industry: 0.7}',\n",
       "   'on_cycle': '[scan_system]',\n",
       "   'effort': 5,\n",
       "   'objtype': 'building',\n",
       "   'id': '4325841147687'},\n",
       "  'object': 'star'}]"
      ]
     },
     "execution_count": 5,
     "metadata": {},
     "output_type": "execute_result"
    }
   ],
   "source": [
    "discovery_message = f.process_action_event_message(obervatory_message)\n",
    "discovery_message\n"
   ]
  },
  {
   "cell_type": "markdown",
   "metadata": {},
   "source": [
    "Then the event function will 'discover' or create the new celestial body. "
   ]
  },
  {
   "cell_type": "code",
   "execution_count": 7,
   "metadata": {},
   "outputs": [
    {
     "name": "stderr",
     "output_type": "stream",
     "text": [
      "DEBUG:asyncio:Using selector: SelectSelector\n",
      "INFO:root:EXOADMIN: processing message: discovery at UTU:< time at UTU:1084 >\n",
      "INFO:root:EXOADMIN: structure_system_query: \n",
      "    g.V().has('objid','4325841147687').in('owns').out('inhabits').out('isIn').valuemap()\n",
      "    \n",
      "DEBUG:asyncio:Using selector: SelectSelector\n",
      "INFO:root:EXOADMIN: discovery has been made in system: {'objid': '9726813013638', 'name': 'Raste', 'class': 'ordered', 'isHomeSystem': 'true', 'glat': 39.465, 'glon': 2.219, 'gelat': 7.672, 'userguid': '8d5b667f-b225-4641-b499-73b77558ff86', 'objtype': 'system', 'id': '9726813013638'}\n",
      "INFO:root:EXOADMIN: Creating star: <asteroid: p-type; 0044445742095; He>\n",
      "DEBUG:asyncio:Using selector: SelectSelector\n",
      "DEBUG:asyncio:Using selector: SelectSelector\n",
      "INFO:root:EXOADMIN: Uploading data: {'nodes': [{'name': 'He', 'class': 'p-type', 'objid': '0044445742095', 'label': 'asteroid', 'pop_cap': 100, 'orbitsDistance': 3.258, 'mass': 3.0753260803374276e-07, 'radius': 0.00016668824341021442, 'isPopulated': 'false', 'description': 'Primitive asteroids, which are thought to be some of the oldest and most primitive bodies in the solar system.', 'id': '0044445742095'}], 'edges': [{'node1': '0044445742095', 'node2': '9726813013638', 'label': 'isIn'}]}\n",
      "INFO:root:EXOADMIN:       -------And with that processed DISCOVERY: {'action': 'discovery', 'agent': {'name': 'Stellar Observatory', 'objid': '4325841147687', 'ownedBy': '7292775901561', 'userguid': '8d5b667f-b225-4641-b499-73b77558ff86', 'type': 'observatory', 'description': 'Scans the solar system for planets', 'moons': 'None', 'comets': 'None', 'and asteroids.': 'None', 'owned_by': 'pop', 'faction_augments': '{wealth: -10}', 'requires_attr': '{industry: 0.7}', 'on_cycle': '[scan_system]', 'effort': 5, 'objtype': 'building', 'id': '4325841147687'}, 'object': 'star', 'system': {'objid': '9726813013638', 'name': 'Raste', 'class': 'ordered', 'isHomeSystem': 'true', 'glat': 39.465, 'glon': 2.219, 'gelat': 7.672, 'userguid': '8d5b667f-b225-4641-b499-73b77558ff86', 'objtype': 'system', 'id': '9726813013638'}} at UTU:< time at UTU:1084 >\n"
     ]
    },
    {
     "data": {
      "text/plain": [
       "[]"
      ]
     },
     "execution_count": 7,
     "metadata": {},
     "output_type": "execute_result"
    }
   ],
   "source": [
    "f.process_action_event_message(discovery_message[0])"
   ]
  },
  {
   "cell_type": "code",
   "execution_count": null,
   "metadata": {},
   "outputs": [],
   "source": []
  }
 ],
 "metadata": {
  "kernelspec": {
   "display_name": "exoplanets",
   "language": "python",
   "name": "python3"
  },
  "language_info": {
   "codemirror_mode": {
    "name": "ipython",
    "version": 3
   },
   "file_extension": ".py",
   "mimetype": "text/x-python",
   "name": "python",
   "nbconvert_exporter": "python",
   "pygments_lexer": "ipython3",
   "version": "3.8.16"
  }
 },
 "nbformat": 4,
 "nbformat_minor": 2
}
