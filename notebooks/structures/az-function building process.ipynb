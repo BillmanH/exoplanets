{
 "cells": [
  {
   "cell_type": "markdown",
   "metadata": {},
   "source": [
    "# Buildings that have ongoing processes\n",
    "\n",
    "Many buildings have ongoing process that happen over time. This is controlled by an AZ timer function.\n",
    "```python\n",
    "@app.function_name(name=\"factionBuildingTimer\")\n",
    "@app.schedule(schedule=\"0 */10 * * * *\", \n",
    "              arg_name=\"mytimer\",\n",
    "              run_on_startup=RUNNING_LOCALLY)\n",
    "```\n",
    "\n"
   ]
  },
  {
   "cell_type": "code",
   "execution_count": 1,
   "metadata": {},
   "outputs": [],
   "source": [
    "import numpy as np\n",
    "import pandas as pd\n",
    "import logging\n",
    "import sys, os, yaml, ssl, asyncio\n",
    "\n",
    "logging.basicConfig(level=logging.DEBUG, format='%(asctime)s - %(levelname)s - %(message)s')\n",
    "\n",
    "# mapping to the modules that make the app\n",
    "sys.path.insert(0, \"../..\")\n"
   ]
  },
  {
   "cell_type": "code",
   "execution_count": 2,
   "metadata": {},
   "outputs": [
    {
     "name": "stdout",
     "output_type": "stream",
     "text": [
      "executing local windows deployment\n"
     ]
    }
   ],
   "source": [
    "ssl._create_default_https_context = ssl._create_unverified_context\n",
    "asyncio.set_event_loop_policy(asyncio.WindowsSelectorEventLoopPolicy())\n",
    "import nest_asyncio\n",
    "\n",
    "# this is required for running in a Jupyter Notebook.\n",
    "nest_asyncio.apply()\n",
    "\n",
    "from app.connectors import cmdb_graph\n",
    "from app.objects import structures\n",
    "c = cmdb_graph.CosmosdbClient()"
   ]
  },
  {
   "cell_type": "markdown",
   "metadata": {},
   "source": [
    "Starting with getting a list of the structures and listing them. "
   ]
  },
  {
   "cell_type": "code",
   "execution_count": 3,
   "metadata": {},
   "outputs": [
    {
     "name": "stderr",
     "output_type": "stream",
     "text": [
      "2024-10-14 19:41:34,203 - DEBUG - Using selector: SelectSelector\n",
      "2024-10-14 19:41:34,883 - INFO - EXOADMIN: number of items: 1\n"
     ]
    },
    {
     "data": {
      "text/html": [
       "<div>\n",
       "<style scoped>\n",
       "    .dataframe tbody tr th:only-of-type {\n",
       "        vertical-align: middle;\n",
       "    }\n",
       "\n",
       "    .dataframe tbody tr th {\n",
       "        vertical-align: top;\n",
       "    }\n",
       "\n",
       "    .dataframe thead th {\n",
       "        text-align: right;\n",
       "    }\n",
       "</style>\n",
       "<table border=\"1\" class=\"dataframe\">\n",
       "  <thead>\n",
       "    <tr style=\"text-align: right;\">\n",
       "      <th></th>\n",
       "      <th>faction</th>\n",
       "      <th>pop</th>\n",
       "      <th>structure</th>\n",
       "      <th>action</th>\n",
       "    </tr>\n",
       "  </thead>\n",
       "  <tbody>\n",
       "    <tr>\n",
       "      <th>0</th>\n",
       "      <td>{'wealth': -1048, 'name': 'Dalram', 'objid': '...</td>\n",
       "      <td>{'isIdle': 'true', 'name': 'Dalram Leymon', 'o...</td>\n",
       "      <td>{'name': 'Department of Forestry', 'objid': '6...</td>\n",
       "      <td>structure</td>\n",
       "    </tr>\n",
       "  </tbody>\n",
       "</table>\n",
       "</div>"
      ],
      "text/plain": [
       "                                             faction  \\\n",
       "0  {'wealth': -1048, 'name': 'Dalram', 'objid': '...   \n",
       "\n",
       "                                                 pop  \\\n",
       "0  {'isIdle': 'true', 'name': 'Dalram Leymon', 'o...   \n",
       "\n",
       "                                           structure     action  \n",
       "0  {'name': 'Department of Forestry', 'objid': '6...  structure  "
      ]
     },
     "execution_count": 3,
     "metadata": {},
     "output_type": "execute_result"
    }
   ],
   "source": [
    "faction_res = structures.get_faction_pop_structures(c)\n",
    "pd.DataFrame(faction_res)"
   ]
  },
  {
   "cell_type": "code",
   "execution_count": null,
   "metadata": {},
   "outputs": [],
   "source": []
  },
  {
   "cell_type": "markdown",
   "metadata": {},
   "source": [
    "Here we are attaching `structure` to the message so that the EventHub trigger can catch it and process it. Other than that, it does nothing. "
   ]
  },
  {
   "cell_type": "code",
   "execution_count": 8,
   "metadata": {},
   "outputs": [
    {
     "data": {
      "text/plain": [
       "'structure'"
      ]
     },
     "execution_count": 8,
     "metadata": {},
     "output_type": "execute_result"
    }
   ],
   "source": [
    "message = faction_res[0]\n",
    "message['action']"
   ]
  },
  {
   "cell_type": "code",
   "execution_count": 9,
   "metadata": {},
   "outputs": [
    {
     "data": {
      "text/plain": [
       "dict_keys(['faction', 'pop', 'structure', 'action'])"
      ]
     },
     "execution_count": 9,
     "metadata": {},
     "output_type": "execute_result"
    }
   ],
   "source": [
    "message.keys()"
   ]
  },
  {
   "cell_type": "code",
   "execution_count": 10,
   "metadata": {},
   "outputs": [
    {
     "data": {
      "text/plain": [
       "{'name': 'Department of Forestry',\n",
       " 'objid': '6058595786349',\n",
       " 'ownedBy': '2775406017619',\n",
       " 'type': 'forestry',\n",
       " 'description': 'Generates organic foodstuffs',\n",
       " 'populations will consume food before consuming natural resources': 'None',\n",
       " 'planet_requirements': '{isHabitable: True}',\n",
       " 'faction_augments': '{wealth: -3}',\n",
       " 'renews_location_resource': '{organics: 10}',\n",
       " 'owned_by': 'pop',\n",
       " 'effort': '10',\n",
       " 'userguid': '8d5b667f-b225-4641-b499-73b77558ff86',\n",
       " 'objtype': 'building',\n",
       " 'id': '6058595786349'}"
      ]
     },
     "execution_count": 10,
     "metadata": {},
     "output_type": "execute_result"
    }
   ],
   "source": [
    "message['structure']"
   ]
  },
  {
   "cell_type": "code",
   "execution_count": 11,
   "metadata": {},
   "outputs": [
    {
     "data": {
      "text/plain": [
       "{'isIdle': 'true',\n",
       " 'name': 'Dalram Leymon',\n",
       " 'objid': '2775406017619',\n",
       " 'conformity': 0.802,\n",
       " 'literacy': 0.798,\n",
       " 'aggression': 0.315,\n",
       " 'constitution': 0.19,\n",
       " 'health': 0.7,\n",
       " 'isIn': '6953342521081',\n",
       " 'industry': 0.2525,\n",
       " 'wealth': 0.5252,\n",
       " 'factionLoyalty': 0.812,\n",
       " 'userguid': '8d5b667f-b225-4641-b499-73b77558ff86',\n",
       " 'objtype': 'pop',\n",
       " 'id': '2775406017619'}"
      ]
     },
     "execution_count": 11,
     "metadata": {},
     "output_type": "execute_result"
    }
   ],
   "source": [
    "message['pop']"
   ]
  },
  {
   "cell_type": "code",
   "execution_count": 12,
   "metadata": {},
   "outputs": [
    {
     "data": {
      "text/plain": [
       "{'wealth': -457,\n",
       " 'name': 'Dalram',\n",
       " 'objid': '6953342521081',\n",
       " 'lat': 0,\n",
       " 'long': 0,\n",
       " 'infrastructure': 0,\n",
       " 'userguid': '8d5b667f-b225-4641-b499-73b77558ff86',\n",
       " 'objtype': 'faction',\n",
       " 'id': '6953342521081'}"
      ]
     },
     "execution_count": 12,
     "metadata": {},
     "output_type": "execute_result"
    }
   ],
   "source": [
    "message['faction']"
   ]
  },
  {
   "cell_type": "markdown",
   "metadata": {},
   "source": [
    "## faction_augments"
   ]
  },
  {
   "cell_type": "code",
   "execution_count": 13,
   "metadata": {},
   "outputs": [
    {
     "name": "stderr",
     "output_type": "stream",
     "text": [
      "--- Logging error ---\n",
      "Traceback (most recent call last):\n",
      "  File \"c:\\Users\\willi\\miniconda3\\envs\\exoplanets\\lib\\logging\\__init__.py\", line 1085, in emit\n",
      "    msg = self.format(record)\n",
      "  File \"c:\\Users\\willi\\miniconda3\\envs\\exoplanets\\lib\\logging\\__init__.py\", line 929, in format\n",
      "    return fmt.format(record)\n",
      "  File \"c:\\Users\\willi\\miniconda3\\envs\\exoplanets\\lib\\logging\\__init__.py\", line 668, in format\n",
      "    record.message = record.getMessage()\n",
      "  File \"c:\\Users\\willi\\miniconda3\\envs\\exoplanets\\lib\\logging\\__init__.py\", line 373, in getMessage\n",
      "    msg = msg % self.args\n",
      "TypeError: not all arguments converted during string formatting\n",
      "Call stack:\n",
      "  File \"c:\\Users\\willi\\miniconda3\\envs\\exoplanets\\lib\\runpy.py\", line 194, in _run_module_as_main\n",
      "    return _run_code(code, main_globals, None,\n",
      "  File \"c:\\Users\\willi\\miniconda3\\envs\\exoplanets\\lib\\runpy.py\", line 87, in _run_code\n",
      "    exec(code, run_globals)\n",
      "  File \"c:\\Users\\willi\\miniconda3\\envs\\exoplanets\\lib\\site-packages\\ipykernel_launcher.py\", line 17, in <module>\n",
      "    app.launch_new_instance()\n",
      "  File \"c:\\Users\\willi\\miniconda3\\envs\\exoplanets\\lib\\site-packages\\traitlets\\config\\application.py\", line 1053, in launch_instance\n",
      "    app.start()\n",
      "  File \"c:\\Users\\willi\\miniconda3\\envs\\exoplanets\\lib\\site-packages\\ipykernel\\kernelapp.py\", line 736, in start\n",
      "    self.io_loop.start()\n",
      "  File \"c:\\Users\\willi\\miniconda3\\envs\\exoplanets\\lib\\site-packages\\tornado\\platform\\asyncio.py\", line 195, in start\n",
      "    self.asyncio_loop.run_forever()\n",
      "  File \"c:\\Users\\willi\\miniconda3\\envs\\exoplanets\\lib\\asyncio\\base_events.py\", line 570, in run_forever\n",
      "    self._run_once()\n",
      "  File \"c:\\Users\\willi\\miniconda3\\envs\\exoplanets\\lib\\site-packages\\nest_asyncio.py\", line 129, in _run_once\n",
      "    handle._run()\n",
      "  File \"c:\\Users\\willi\\miniconda3\\envs\\exoplanets\\lib\\asyncio\\events.py\", line 81, in _run\n",
      "    self._context.run(self._callback, *self._args)\n",
      "  File \"c:\\Users\\willi\\miniconda3\\envs\\exoplanets\\lib\\site-packages\\ipykernel\\kernelbase.py\", line 516, in dispatch_queue\n",
      "    await self.process_one()\n",
      "  File \"c:\\Users\\willi\\miniconda3\\envs\\exoplanets\\lib\\site-packages\\ipykernel\\kernelbase.py\", line 505, in process_one\n",
      "    await dispatch(*args)\n",
      "  File \"c:\\Users\\willi\\miniconda3\\envs\\exoplanets\\lib\\site-packages\\ipykernel\\kernelbase.py\", line 412, in dispatch_shell\n",
      "    await result\n",
      "  File \"c:\\Users\\willi\\miniconda3\\envs\\exoplanets\\lib\\site-packages\\ipykernel\\kernelbase.py\", line 740, in execute_request\n",
      "    reply_content = await reply_content\n",
      "  File \"c:\\Users\\willi\\miniconda3\\envs\\exoplanets\\lib\\site-packages\\ipykernel\\ipkernel.py\", line 422, in do_execute\n",
      "    res = shell.run_cell(\n",
      "  File \"c:\\Users\\willi\\miniconda3\\envs\\exoplanets\\lib\\site-packages\\ipykernel\\zmqshell.py\", line 546, in run_cell\n",
      "    return super().run_cell(*args, **kwargs)\n",
      "  File \"c:\\Users\\willi\\miniconda3\\envs\\exoplanets\\lib\\site-packages\\IPython\\core\\interactiveshell.py\", line 3009, in run_cell\n",
      "    result = self._run_cell(\n",
      "  File \"c:\\Users\\willi\\miniconda3\\envs\\exoplanets\\lib\\site-packages\\IPython\\core\\interactiveshell.py\", line 3064, in _run_cell\n",
      "    result = runner(coro)\n",
      "  File \"c:\\Users\\willi\\miniconda3\\envs\\exoplanets\\lib\\site-packages\\IPython\\core\\async_helpers.py\", line 129, in _pseudo_sync_runner\n",
      "    coro.send(None)\n",
      "  File \"c:\\Users\\willi\\miniconda3\\envs\\exoplanets\\lib\\site-packages\\IPython\\core\\interactiveshell.py\", line 3269, in run_cell_async\n",
      "    has_raised = await self.run_ast_nodes(code_ast.body, cell_name,\n",
      "  File \"c:\\Users\\willi\\miniconda3\\envs\\exoplanets\\lib\\site-packages\\IPython\\core\\interactiveshell.py\", line 3448, in run_ast_nodes\n",
      "    if await self.run_code(code, result, async_=asy):\n",
      "  File \"c:\\Users\\willi\\miniconda3\\envs\\exoplanets\\lib\\site-packages\\IPython\\core\\interactiveshell.py\", line 3508, in run_code\n",
      "    exec(code_obj, self.user_global_ns, self.user_ns)\n",
      "  File \"C:\\Users\\willi\\AppData\\Local\\Temp\\ipykernel_13368\\6718891.py\", line 1, in <module>\n",
      "    structures.augemt_faction(c, message)\n",
      "  File \"c:\\Users\\willi\\repos\\exoplanets\\notebooks\\structures\\../..\\app\\objects\\structures.py\", line 72, in augemt_faction\n",
      "    logging.info(\"EXOADMIN: \", item, \"has changed from\", old_value, \"to\" ,new_value)\n",
      "Message: 'EXOADMIN: '\n",
      "Arguments: ('wealth', 'has changed from', -457, 'to', -460)\n",
      "2024-10-13 11:19:09,282 - DEBUG - Using selector: SelectSelector\n",
      "2024-10-13 11:19:09,630 - INFO - \n",
      "            g.V().has('label','faction').has('objid','6953342521081').property('wealth', -460)\n",
      "        \n"
     ]
    },
    {
     "data": {
      "text/plain": [
       "{'wealth': -3}"
      ]
     },
     "execution_count": 13,
     "metadata": {},
     "output_type": "execute_result"
    }
   ],
   "source": [
    "structures.augemt_faction(c, message)"
   ]
  },
  {
   "cell_type": "code",
   "execution_count": 14,
   "metadata": {},
   "outputs": [
    {
     "name": "stderr",
     "output_type": "stream",
     "text": [
      "2024-10-13 11:19:10,061 - DEBUG - Using selector: SelectSelector\n"
     ]
    },
    {
     "data": {
      "text/plain": [
       "[{'wealth': -460,\n",
       "  'name': 'Dalram',\n",
       "  'objid': '6953342521081',\n",
       "  'lat': 0,\n",
       "  'long': 0,\n",
       "  'infrastructure': 0,\n",
       "  'userguid': '8d5b667f-b225-4641-b499-73b77558ff86',\n",
       "  'objtype': 'faction',\n",
       "  'id': '6953342521081'}]"
      ]
     },
     "execution_count": 14,
     "metadata": {},
     "output_type": "execute_result"
    }
   ],
   "source": [
    "fac_id = message['faction']['objid']\n",
    "check_faction = f\"\"\"\n",
    "        g.V().has('label','faction').has('objid','{fac_id}').valueMap()\n",
    "    \"\"\"\n",
    "c.run_query(check_faction)\n",
    "c.clean_nodes(c.res)"
   ]
  },
  {
   "cell_type": "markdown",
   "metadata": {},
   "source": [
    "# The ongoing faction process in Azure Functions\n"
   ]
  },
  {
   "cell_type": "code",
   "execution_count": 15,
   "metadata": {},
   "outputs": [
    {
     "name": "stderr",
     "output_type": "stream",
     "text": [
      "2024-10-13 11:19:11,462 - DEBUG - Using selector: SelectSelector\n",
      "2024-10-13 11:19:11,809 - INFO - EXOADMIN: number of items: 1\n"
     ]
    },
    {
     "data": {
      "text/html": [
       "<div>\n",
       "<style scoped>\n",
       "    .dataframe tbody tr th:only-of-type {\n",
       "        vertical-align: middle;\n",
       "    }\n",
       "\n",
       "    .dataframe tbody tr th {\n",
       "        vertical-align: top;\n",
       "    }\n",
       "\n",
       "    .dataframe thead th {\n",
       "        text-align: right;\n",
       "    }\n",
       "</style>\n",
       "<table border=\"1\" class=\"dataframe\">\n",
       "  <thead>\n",
       "    <tr style=\"text-align: right;\">\n",
       "      <th></th>\n",
       "      <th>faction</th>\n",
       "      <th>pop</th>\n",
       "      <th>structure</th>\n",
       "      <th>action</th>\n",
       "    </tr>\n",
       "  </thead>\n",
       "  <tbody>\n",
       "    <tr>\n",
       "      <th>0</th>\n",
       "      <td>{'wealth': -460, 'name': 'Dalram', 'objid': '6...</td>\n",
       "      <td>{'isIdle': 'true', 'name': 'Dalram Leymon', 'o...</td>\n",
       "      <td>{'name': 'Department of Forestry', 'objid': '6...</td>\n",
       "      <td>structure</td>\n",
       "    </tr>\n",
       "  </tbody>\n",
       "</table>\n",
       "</div>"
      ],
      "text/plain": [
       "                                             faction  \\\n",
       "0  {'wealth': -460, 'name': 'Dalram', 'objid': '6...   \n",
       "\n",
       "                                                 pop  \\\n",
       "0  {'isIdle': 'true', 'name': 'Dalram Leymon', 'o...   \n",
       "\n",
       "                                           structure     action  \n",
       "0  {'name': 'Department of Forestry', 'objid': '6...  structure  "
      ]
     },
     "execution_count": 15,
     "metadata": {},
     "output_type": "execute_result"
    }
   ],
   "source": [
    "messages = structures.get_faction_pop_structures(c)\n",
    "pd.DataFrame(messages)"
   ]
  },
  {
   "cell_type": "code",
   "execution_count": 16,
   "metadata": {},
   "outputs": [
    {
     "data": {
      "text/plain": [
       "dict_keys(['faction', 'pop', 'structure', 'action'])"
      ]
     },
     "execution_count": 16,
     "metadata": {},
     "output_type": "execute_result"
    }
   ],
   "source": [
    "message = messages[0]\n",
    "message.keys()"
   ]
  },
  {
   "cell_type": "code",
   "execution_count": 17,
   "metadata": {},
   "outputs": [
    {
     "data": {
      "text/plain": [
       "{'name': 'Department of Forestry',\n",
       " 'objid': '6058595786349',\n",
       " 'ownedBy': '2775406017619',\n",
       " 'type': 'forestry',\n",
       " 'description': 'Generates organic foodstuffs',\n",
       " 'populations will consume food before consuming natural resources': 'None',\n",
       " 'planet_requirements': '{isHabitable: True}',\n",
       " 'faction_augments': '{wealth: -3}',\n",
       " 'renews_location_resource': '{organics: 10}',\n",
       " 'owned_by': 'pop',\n",
       " 'effort': '10',\n",
       " 'userguid': '8d5b667f-b225-4641-b499-73b77558ff86',\n",
       " 'objtype': 'building',\n",
       " 'id': '6058595786349'}"
      ]
     },
     "execution_count": 17,
     "metadata": {},
     "output_type": "execute_result"
    }
   ],
   "source": [
    "message['structure']  "
   ]
  },
  {
   "cell_type": "code",
   "execution_count": 18,
   "metadata": {},
   "outputs": [
    {
     "name": "stdout",
     "output_type": "stream",
     "text": [
      "EXOADMIN: process_structure, structure: Department of Forestry: 6058595786349\n"
     ]
    }
   ],
   "source": [
    "print(f\"EXOADMIN: process_structure, structure: {message['structure']['name']}: {message['structure']['objid']}\")"
   ]
  },
  {
   "cell_type": "markdown",
   "metadata": {},
   "source": [
    "## Augmenting the resources of a location"
   ]
  },
  {
   "cell_type": "code",
   "execution_count": 20,
   "metadata": {},
   "outputs": [
    {
     "data": {
      "text/plain": [
       "{'faction': {'wealth': -460,\n",
       "  'name': 'Dalram',\n",
       "  'objid': '6953342521081',\n",
       "  'lat': 0,\n",
       "  'long': 0,\n",
       "  'infrastructure': 0,\n",
       "  'userguid': '8d5b667f-b225-4641-b499-73b77558ff86',\n",
       "  'objtype': 'faction',\n",
       "  'id': '6953342521081'},\n",
       " 'pop': {'isIdle': 'true',\n",
       "  'name': 'Dalram Leymon',\n",
       "  'objid': '2775406017619',\n",
       "  'conformity': 0.802,\n",
       "  'literacy': 0.798,\n",
       "  'aggression': 0.315,\n",
       "  'constitution': 0.19,\n",
       "  'health': 0.7,\n",
       "  'isIn': '6953342521081',\n",
       "  'industry': 0.2525,\n",
       "  'wealth': 0.5252,\n",
       "  'factionLoyalty': 0.812,\n",
       "  'userguid': '8d5b667f-b225-4641-b499-73b77558ff86',\n",
       "  'objtype': 'pop',\n",
       "  'id': '2775406017619'},\n",
       " 'structure': {'name': 'Department of Forestry',\n",
       "  'objid': '6058595786349',\n",
       "  'ownedBy': '2775406017619',\n",
       "  'type': 'forestry',\n",
       "  'description': 'Generates organic foodstuffs',\n",
       "  'populations will consume food before consuming natural resources': 'None',\n",
       "  'planet_requirements': '{isHabitable: True}',\n",
       "  'faction_augments': '{wealth: -3}',\n",
       "  'renews_location_resource': '{organics: 10}',\n",
       "  'owned_by': 'pop',\n",
       "  'effort': '10',\n",
       "  'userguid': '8d5b667f-b225-4641-b499-73b77558ff86',\n",
       "  'objtype': 'building',\n",
       "  'id': '6058595786349'},\n",
       " 'action': 'structure'}"
      ]
     },
     "execution_count": 20,
     "metadata": {},
     "output_type": "execute_result"
    }
   ],
   "source": [
    "message"
   ]
  },
  {
   "cell_type": "code",
   "execution_count": 21,
   "metadata": {},
   "outputs": [
    {
     "data": {
      "text/plain": [
       "{'name': 'Department of Forestry',\n",
       " 'objid': '6058595786349',\n",
       " 'ownedBy': '2775406017619',\n",
       " 'type': 'forestry',\n",
       " 'description': 'Generates organic foodstuffs',\n",
       " 'populations will consume food before consuming natural resources': 'None',\n",
       " 'planet_requirements': '{isHabitable: True}',\n",
       " 'faction_augments': '{wealth: -3}',\n",
       " 'renews_location_resource': '{organics: 10}',\n",
       " 'owned_by': 'pop',\n",
       " 'effort': '10',\n",
       " 'userguid': '8d5b667f-b225-4641-b499-73b77558ff86',\n",
       " 'objtype': 'building',\n",
       " 'id': '6058595786349'}"
      ]
     },
     "execution_count": 21,
     "metadata": {},
     "output_type": "execute_result"
    }
   ],
   "source": [
    "message['structure']"
   ]
  },
  {
   "cell_type": "markdown",
   "metadata": {},
   "source": [
    "the `process_structure` function in the az-function app will look for the field `renews_location_resource`"
   ]
  },
  {
   "cell_type": "code",
   "execution_count": 22,
   "metadata": {},
   "outputs": [
    {
     "data": {
      "text/plain": [
       "{'organics': 10}"
      ]
     },
     "execution_count": 22,
     "metadata": {},
     "output_type": "execute_result"
    }
   ],
   "source": [
    "resources_to_renew = yaml.safe_load(message['structure']['renews_location_resource'])\n",
    "resources_to_renew"
   ]
  },
  {
   "cell_type": "code",
   "execution_count": 37,
   "metadata": {},
   "outputs": [
    {
     "name": "stderr",
     "output_type": "stream",
     "text": [
      "2024-10-13 11:45:48,043 - DEBUG - Using selector: SelectSelector\n",
      "2024-10-13 11:45:48,470 - DEBUG - Using selector: SelectSelector\n"
     ]
    }
   ],
   "source": [
    "popobjid = message['pop']['objid']\n",
    "location_resources_query = f\"g.V().has('objid','{popobjid}').out('inhabits').out('has').has('label','resource').valueMap()\"\n",
    "location_query = f\"g.V().has('objid','{popobjid}').out('inhabits').valueMap()\"\n",
    "c.add_query(location_resources_query)\n",
    "c.add_query(location_query)\n",
    "c.run_queries()\n"
   ]
  },
  {
   "cell_type": "code",
   "execution_count": 50,
   "metadata": {},
   "outputs": [
    {
     "data": {
      "text/plain": [
       "{'name': 'Leyeastpan',\n",
       " 'class': 'terrestrial',\n",
       " 'objid': '4162230164127',\n",
       " 'pop_cap': 100,\n",
       " 'atmosphere': '[{Argon: 0.185}, {Carbon Dioxide: 0.0}, {Helium: 0.037}, {Hydrogen: 0.231}, {Methane: 0.004}, {Nitrogen: 0.353}, {Oxygen: 0.104}, {Sodium: 0.087}]',\n",
       " 'radius': 0.697,\n",
       " 'mass': 0,\n",
       " 'orbitsDistance': 0.682,\n",
       " 'orbitsId': '7405736440710',\n",
       " 'orbitsName': 'Nakly',\n",
       " 'isSupportsLife': 'true',\n",
       " 'isPopulated': 'true',\n",
       " 'isHomeworld': 'true',\n",
       " 'userguid': '8d5b667f-b225-4641-b499-73b77558ff86',\n",
       " 'objtype': 'planet',\n",
       " 'id': '4162230164127'}"
      ]
     },
     "execution_count": 50,
     "metadata": {},
     "output_type": "execute_result"
    }
   ],
   "source": [
    "location_resources = c.clean_nodes(c.res[location_resources_query])\n",
    "location = c.clean_nodes(c.res[location_query])[0]\n",
    "location"
   ]
  },
  {
   "cell_type": "code",
   "execution_count": 24,
   "metadata": {},
   "outputs": [],
   "source": [
    "def augment_resources(c,resource,value):\n",
    "    if resource['volume'] < resource['max_volume']:\n",
    "        old_volume = resource['volume']\n",
    "        new_volume = resource['volume'] + value\n",
    "        print(f\"EXOADMIN: resources {resource['name']}:{resource['objid']} changed by {value}, {old_volume}-> {new_volume}\")\n",
    "        renew_query = f\"g.V().has('objid','{resource['objid']}').property('volume','{new_volume}')\"\n",
    "        print(renew_query)\n",
    "        # c.run_query(renew_query)\n",
    "    return resource"
   ]
  },
  {
   "cell_type": "markdown",
   "metadata": {},
   "source": [
    "To create new resources we will need configurations"
   ]
  },
  {
   "cell_type": "code",
   "execution_count": 35,
   "metadata": {},
   "outputs": [],
   "source": [
    "from app.functions import configurations\n",
    "from app.functions import maths"
   ]
  },
  {
   "cell_type": "code",
   "execution_count": 34,
   "metadata": {},
   "outputs": [
    {
     "data": {
      "text/plain": [
       "{'organics': {'name': 'organics',\n",
       "  'type': 'vegitable',\n",
       "  'description': 'bilogical material that can be consumed by pops',\n",
       "  'mean': 1000,\n",
       "  'std': 100,\n",
       "  'replenish_rate': 10},\n",
       " 'minerals_common': {'name': 'common minerals',\n",
       "  'type': 'mineral',\n",
       "  'description': 'Iron and other common material used in constructuion of infrastructure',\n",
       "  'mean': 100,\n",
       "  'std': 10},\n",
       " 'minerals_rare': {'name': 'rare minerals',\n",
       "  'type': 'mineral',\n",
       "  'description': 'lithium, silver and other rare minerals used in infrastructure and technology',\n",
       "  'mean': 50,\n",
       "  'std': 10},\n",
       " 'water': {'name': 'water',\n",
       "  'type': 'mineral',\n",
       "  'description': 'H2O ready to be consumed, either frozen or in ice format',\n",
       "  'mean': 10000,\n",
       "  'std': 1000}}"
      ]
     },
     "execution_count": 34,
     "metadata": {},
     "output_type": "execute_result"
    }
   ],
   "source": [
    "resource_config = configurations.get_resource_configurations()\n",
    "resource_config['resource']['resources']"
   ]
  },
  {
   "cell_type": "code",
   "execution_count": 48,
   "metadata": {},
   "outputs": [],
   "source": [
    "def generate_new_resource(c,resource,location,value,resource_config):\n",
    "    new_resource = resource_config['resource']['resources'][resource]\n",
    "    new_resource['objid'] = maths.uuid()\n",
    "    new_resource['volume'] = value\n",
    "    data = {'nodes:': [new_resource], 'edges': [{'from': location['objid'], 'to': new_resource['objid'], 'label': 'has'}]}\n",
    "    print(f\"EXOADMIN: resources {new_resource['name']}:{new_resource['objid']} with volume: {value}\")\n",
    "    print(data)\n",
    "    print(new_resource)\n",
    "    return resource"
   ]
  },
  {
   "cell_type": "code",
   "execution_count": 26,
   "metadata": {},
   "outputs": [],
   "source": [
    "for r in resources_to_renew.keys():\n",
    "    # check if the resource is in the location\n",
    "    resource_exists = len([i for i in location_resources if i['name']==r])>0\n",
    "    if resource_exists:\n",
    "        resource = [i for i in location_resources if i['name']==r][0]\n",
    "        value = resources_to_renew[r]\n",
    "        augment_resources(c,resource, value)\n",
    "    if not resource_exists:\n",
    "        print(f\"EXOADMIN: resource {r} not found in location, and will be created\")\n",
    "        resource_config = configurations.get_resource_configurations()\n",
    "\n",
    "    "
   ]
  },
  {
   "cell_type": "code",
   "execution_count": 53,
   "metadata": {},
   "outputs": [
    {
     "data": {
      "text/plain": [
       "10"
      ]
     },
     "execution_count": 53,
     "metadata": {},
     "output_type": "execute_result"
    }
   ],
   "source": [
    "resources_to_renew[r]"
   ]
  },
  {
   "cell_type": "code",
   "execution_count": 54,
   "metadata": {},
   "outputs": [
    {
     "name": "stdout",
     "output_type": "stream",
     "text": [
      "EXOADMIN: resources organics:0590888623964 created with volume: 10\n",
      "{'nodes:': [{'name': 'organics', 'type': 'vegitable', 'description': 'bilogical material that can be consumed by pops', 'mean': 1000, 'std': 100, 'replenish_rate': 10, 'objid': '0590888623964', 'volume': 10}], 'edges': [{'from': '4162230164127', 'to': '0590888623964', 'label': 'has'}]}\n",
      "{'name': 'organics', 'type': 'vegitable', 'description': 'bilogical material that can be consumed by pops', 'mean': 1000, 'std': 100, 'replenish_rate': 10, 'objid': '0590888623964', 'volume': 10}\n"
     ]
    },
    {
     "data": {
      "text/plain": [
       "'organics'"
      ]
     },
     "execution_count": 54,
     "metadata": {},
     "output_type": "execute_result"
    }
   ],
   "source": [
    "generate_new_resource(c,r,location,resources_to_renew[r],resource_config)"
   ]
  },
  {
   "cell_type": "markdown",
   "metadata": {},
   "source": [
    "# Full Test\n"
   ]
  },
  {
   "cell_type": "code",
   "execution_count": 3,
   "metadata": {},
   "outputs": [
    {
     "name": "stderr",
     "output_type": "stream",
     "text": [
      "2024-10-14 19:45:38,702 - DEBUG - Using selector: SelectSelector\n",
      "2024-10-14 19:45:39,153 - INFO - EXOADMIN: number of items: 1\n"
     ]
    },
    {
     "data": {
      "text/html": [
       "<div>\n",
       "<style scoped>\n",
       "    .dataframe tbody tr th:only-of-type {\n",
       "        vertical-align: middle;\n",
       "    }\n",
       "\n",
       "    .dataframe tbody tr th {\n",
       "        vertical-align: top;\n",
       "    }\n",
       "\n",
       "    .dataframe thead th {\n",
       "        text-align: right;\n",
       "    }\n",
       "</style>\n",
       "<table border=\"1\" class=\"dataframe\">\n",
       "  <thead>\n",
       "    <tr style=\"text-align: right;\">\n",
       "      <th></th>\n",
       "      <th>faction</th>\n",
       "      <th>pop</th>\n",
       "      <th>structure</th>\n",
       "      <th>action</th>\n",
       "    </tr>\n",
       "  </thead>\n",
       "  <tbody>\n",
       "    <tr>\n",
       "      <th>0</th>\n",
       "      <td>{'wealth': -1054, 'name': 'Dalram', 'objid': '...</td>\n",
       "      <td>{'isIdle': 'true', 'name': 'Dalram Leymon', 'o...</td>\n",
       "      <td>{'name': 'Department of Forestry', 'objid': '6...</td>\n",
       "      <td>structure</td>\n",
       "    </tr>\n",
       "  </tbody>\n",
       "</table>\n",
       "</div>"
      ],
      "text/plain": [
       "                                             faction  \\\n",
       "0  {'wealth': -1054, 'name': 'Dalram', 'objid': '...   \n",
       "\n",
       "                                                 pop  \\\n",
       "0  {'isIdle': 'true', 'name': 'Dalram Leymon', 'o...   \n",
       "\n",
       "                                           structure     action  \n",
       "0  {'name': 'Department of Forestry', 'objid': '6...  structure  "
      ]
     },
     "execution_count": 3,
     "metadata": {},
     "output_type": "execute_result"
    }
   ],
   "source": [
    "faction_res = structures.get_faction_pop_structures(c)\n",
    "pd.DataFrame(faction_res)"
   ]
  },
  {
   "cell_type": "code",
   "execution_count": 4,
   "metadata": {},
   "outputs": [
    {
     "name": "stderr",
     "output_type": "stream",
     "text": [
      "2024-10-14 19:45:39,168 - INFO - EXOADMIN: process_structure, structure: Department of Forestry: 6058595786349\n",
      "2024-10-14 19:45:39,169 - INFO - EXOADMIN: wealth has changed from -1054 to 0\n",
      "2024-10-14 19:45:39,170 - DEBUG - Using selector: SelectSelector\n",
      "2024-10-14 19:45:39,468 - INFO - \n",
      "            g.V().has('label','faction').has('objid','6953342521081').property('wealth', 0)\n",
      "        \n",
      "2024-10-14 19:45:39,469 - DEBUG - Using selector: SelectSelector\n",
      "2024-10-14 19:45:39,805 - DEBUG - Using selector: SelectSelector\n",
      "2024-10-14 19:45:40,158 - INFO - EXOADMIN: resources organics:3771548359034 changed by 10, 1216.0-> 1226.0\n",
      "2024-10-14 19:45:40,159 - INFO - g.V().has('objid','3771548359034').property('volume','1226.0')\n",
      "2024-10-14 19:45:40,159 - DEBUG - Using selector: SelectSelector\n"
     ]
    }
   ],
   "source": [
    "structures.process_structure(c, faction_res[0]) "
   ]
  },
  {
   "cell_type": "code",
   "execution_count": null,
   "metadata": {},
   "outputs": [],
   "source": []
  }
 ],
 "metadata": {
  "kernelspec": {
   "display_name": "exoplanets",
   "language": "python",
   "name": "python3"
  },
  "language_info": {
   "codemirror_mode": {
    "name": "ipython",
    "version": 3
   },
   "file_extension": ".py",
   "mimetype": "text/x-python",
   "name": "python",
   "nbconvert_exporter": "python",
   "pygments_lexer": "ipython3",
   "version": "3.8.16"
  }
 },
 "nbformat": 4,
 "nbformat_minor": 2
}
