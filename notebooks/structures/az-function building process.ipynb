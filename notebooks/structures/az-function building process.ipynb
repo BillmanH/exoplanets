{
 "cells": [
  {
   "cell_type": "markdown",
   "metadata": {},
   "source": [
    "# Buildings that have ongoing processes\n",
    "\n",
    "Many buildings have ongoing process that happen over time. This is controlled by an AZ timer function.\n",
    "```python\n",
    "@app.function_name(name=\"factionBuildingTimer\")\n",
    "@app.schedule(schedule=\"0 */10 * * * *\", \n",
    "              arg_name=\"mytimer\",\n",
    "              run_on_startup=RUNNING_LOCALLY)\n",
    "```\n",
    "\n"
   ]
  },
  {
   "cell_type": "code",
   "execution_count": 3,
   "metadata": {},
   "outputs": [],
   "source": [
    "import numpy as np\n",
    "import pandas as pd\n",
    "\n",
    "import sys, os, yaml, ssl, asyncio\n",
    "\n",
    "\n",
    "\n",
    "# mapping to the modules that make the app\n",
    "sys.path.insert(0, \"../..\")\n"
   ]
  },
  {
   "cell_type": "code",
   "execution_count": 4,
   "metadata": {},
   "outputs": [
    {
     "name": "stdout",
     "output_type": "stream",
     "text": [
      "executing local windows deployment\n"
     ]
    }
   ],
   "source": [
    "ssl._create_default_https_context = ssl._create_unverified_context\n",
    "asyncio.set_event_loop_policy(asyncio.WindowsSelectorEventLoopPolicy())\n",
    "import nest_asyncio\n",
    "\n",
    "# this is required for running in a Jupyter Notebook.\n",
    "nest_asyncio.apply()\n",
    "\n",
    "from app.connectors import cmdb_graph\n",
    "\n",
    "c = cmdb_graph.CosmosdbClient()"
   ]
  },
  {
   "cell_type": "code",
   "execution_count": 71,
   "metadata": {},
   "outputs": [
    {
     "name": "stdout",
     "output_type": "stream",
     "text": [
      "EXOADMIN: number of items: 5\n"
     ]
    }
   ],
   "source": [
    "def get_faction_pop_structures(c):\n",
    "    building_query = f\"\"\"\n",
    "    g.V().has('label','faction').as('faction').in('isIn').has('label','pop').as('pop').out('owns').as('structure').path().by(valueMap())\n",
    "    \"\"\"\n",
    "    c.run_query(building_query)\n",
    "    faction_res = c.query_to_dict(c.res)\n",
    "    print(f\"EXOADMIN: number of items: {len(faction_res)}\")\n",
    "    for item in faction_res:\n",
    "        item['action'] = 'structure'\n",
    "    return faction_res\n",
    "\n",
    "faction_res = get_faction_pop_structures(c)"
   ]
  },
  {
   "cell_type": "markdown",
   "metadata": {},
   "source": [
    "Here we are attaching `structure` to the message so that the EventHub trigger can catch it and process it. Other than that, it does nothing. "
   ]
  },
  {
   "cell_type": "code",
   "execution_count": 72,
   "metadata": {},
   "outputs": [
    {
     "data": {
      "text/plain": [
       "'structure'"
      ]
     },
     "execution_count": 72,
     "metadata": {},
     "output_type": "execute_result"
    }
   ],
   "source": [
    "message = faction_res[0]\n",
    "message['action']"
   ]
  },
  {
   "cell_type": "code",
   "execution_count": 73,
   "metadata": {},
   "outputs": [
    {
     "data": {
      "text/plain": [
       "dict_keys(['faction', 'pop', 'structure', 'action'])"
      ]
     },
     "execution_count": 73,
     "metadata": {},
     "output_type": "execute_result"
    }
   ],
   "source": [
    "message.keys()"
   ]
  },
  {
   "cell_type": "code",
   "execution_count": 74,
   "metadata": {},
   "outputs": [
    {
     "data": {
      "text/plain": [
       "{'name': 'Oil Well',\n",
       " 'objid': '5461385315509',\n",
       " 'ownedBy': '1852583025275',\n",
       " 'type': 'oil_well',\n",
       " 'description': 'Produces energy by extracting hydrocarbons from the ground.',\n",
       " 'owned_by': 'pop',\n",
       " 'faction_augments': '{wealth: 1}',\n",
       " 'requires_attr': '{industry: 0.3}',\n",
       " 'renews_location_resource': '{hydrocarbons: 10}',\n",
       " 'effort': '2',\n",
       " 'render_type': 'mesh',\n",
       " 'userguid': '8d5b667f-b225-4641-b499-73b77558ff86',\n",
       " 'objtype': 'building',\n",
       " 'id': '5461385315509'}"
      ]
     },
     "execution_count": 74,
     "metadata": {},
     "output_type": "execute_result"
    }
   ],
   "source": [
    "message['structure']"
   ]
  },
  {
   "cell_type": "code",
   "execution_count": 75,
   "metadata": {},
   "outputs": [
    {
     "data": {
      "text/plain": [
       "{'isIdle': 'true',\n",
       " 'name': 'An To',\n",
       " 'objid': '1852583025275',\n",
       " 'conformity': 0.46,\n",
       " 'literacy': 0.492,\n",
       " 'aggression': 0.482,\n",
       " 'constitution': 0.482,\n",
       " 'health': 0.7,\n",
       " 'isIn': '2265012067295',\n",
       " 'industry': 0.482,\n",
       " 'wealth': 0.487,\n",
       " 'factionLoyalty': 0.286,\n",
       " 'userguid': '8d5b667f-b225-4641-b499-73b77558ff86',\n",
       " 'objtype': 'pop',\n",
       " 'id': '1852583025275'}"
      ]
     },
     "execution_count": 75,
     "metadata": {},
     "output_type": "execute_result"
    }
   ],
   "source": [
    "message['pop']"
   ]
  },
  {
   "cell_type": "code",
   "execution_count": 76,
   "metadata": {},
   "outputs": [
    {
     "data": {
      "text/plain": [
       "{'wealth': 3,\n",
       " 'name': 'An',\n",
       " 'objid': '2265012067295',\n",
       " 'lat': -0.117,\n",
       " 'long': -0.0,\n",
       " 'infrastructure': 0,\n",
       " 'userguid': '8d5b667f-b225-4641-b499-73b77558ff86',\n",
       " 'objtype': 'faction',\n",
       " 'id': '2265012067295'}"
      ]
     },
     "execution_count": 76,
     "metadata": {},
     "output_type": "execute_result"
    }
   ],
   "source": [
    "message['faction']"
   ]
  },
  {
   "cell_type": "markdown",
   "metadata": {},
   "source": [
    "## faction_augments"
   ]
  },
  {
   "cell_type": "code",
   "execution_count": 80,
   "metadata": {},
   "outputs": [
    {
     "name": "stdout",
     "output_type": "stream",
     "text": [
      "EXOADMIN:  wealth has changed from 3 to 4\n",
      "\n",
      "            g.V().has('label','faction').has('objid','2265012067295').property('wealth', 4)\n",
      "        \n"
     ]
    },
    {
     "data": {
      "text/plain": [
       "{'wealth': 1}"
      ]
     },
     "execution_count": 80,
     "metadata": {},
     "output_type": "execute_result"
    }
   ],
   "source": [
    "def augemt_faction(c, message):\n",
    "    faction = message['faction']\n",
    "    augment = yaml.safe_load(message['structure']['faction_augments'])\n",
    "    for item in augment.keys():\n",
    "        old_value = faction.get(item,0)\n",
    "        new_value = old_value + augment[item]\n",
    "        print(\"EXOADMIN: \", item, \"has changed from\", old_value, \"to\" ,new_value)\n",
    "        augment_query = f\"\"\"\n",
    "            g.V().has('label','faction').has('objid','{faction[\"objid\"]}').property('{item}', {new_value})\n",
    "        \"\"\"\n",
    "        c.run_query(augment_query)\n",
    "        print(augment_query)\n",
    "    return augment  \n",
    "\n",
    "augemt_faction(c, message)"
   ]
  },
  {
   "cell_type": "code",
   "execution_count": 81,
   "metadata": {},
   "outputs": [
    {
     "data": {
      "text/plain": [
       "[{'wealth': [4],\n",
       "  'name': ['An'],\n",
       "  'objid': ['2265012067295'],\n",
       "  'lat': [-0.117],\n",
       "  'long': [-0.0],\n",
       "  'infrastructure': [0],\n",
       "  'userguid': ['8d5b667f-b225-4641-b499-73b77558ff86'],\n",
       "  'objtype': ['faction']}]"
      ]
     },
     "execution_count": 81,
     "metadata": {},
     "output_type": "execute_result"
    }
   ],
   "source": [
    "fac_id = message['faction']['objid']\n",
    "check_faction = f\"\"\"\n",
    "        g.V().has('label','faction').has('objid','{fac_id}').valueMap()\n",
    "    \"\"\"\n",
    "c.run_query(check_faction)\n",
    "c.res"
   ]
  },
  {
   "cell_type": "code",
   "execution_count": null,
   "metadata": {},
   "outputs": [],
   "source": []
  }
 ],
 "metadata": {
  "kernelspec": {
   "display_name": "exoplanets",
   "language": "python",
   "name": "python3"
  },
  "language_info": {
   "codemirror_mode": {
    "name": "ipython",
    "version": 3
   },
   "file_extension": ".py",
   "mimetype": "text/x-python",
   "name": "python",
   "nbconvert_exporter": "python",
   "pygments_lexer": "ipython3",
   "version": "3.8.16"
  }
 },
 "nbformat": 4,
 "nbformat_minor": 2
}
