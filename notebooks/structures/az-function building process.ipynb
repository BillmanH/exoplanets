{
 "cells": [
  {
   "cell_type": "markdown",
   "metadata": {},
   "source": [
    "# Buildings that have ongoing processes\n",
    "\n",
    "Many buildings have ongoing process that happen over time. This is controlled by an AZ timer function.\n",
    "```python\n",
    "@app.function_name(name=\"factionBuildingTimer\")\n",
    "@app.schedule(schedule=\"0 */10 * * * *\", \n",
    "              arg_name=\"mytimer\",\n",
    "              run_on_startup=RUNNING_LOCALLY)\n",
    "```\n",
    "\n"
   ]
  },
  {
   "cell_type": "code",
   "execution_count": 1,
   "metadata": {},
   "outputs": [],
   "source": [
    "import numpy as np\n",
    "import pandas as pd\n",
    "import logging\n",
    "import sys, os, yaml, ssl, asyncio\n",
    "\n",
    "logging.basicConfig(level=logging.DEBUG, format='%(asctime)s - %(levelname)s - %(message)s')\n",
    "\n",
    "# mapping to the modules that make the app\n",
    "sys.path.insert(0, \"../..\")\n"
   ]
  },
  {
   "cell_type": "code",
   "execution_count": 2,
   "metadata": {},
   "outputs": [
    {
     "name": "stdout",
     "output_type": "stream",
     "text": [
      "executing local windows deployment\n"
     ]
    }
   ],
   "source": [
    "ssl._create_default_https_context = ssl._create_unverified_context\n",
    "asyncio.set_event_loop_policy(asyncio.WindowsSelectorEventLoopPolicy())\n",
    "import nest_asyncio\n",
    "\n",
    "# this is required for running in a Jupyter Notebook.\n",
    "nest_asyncio.apply()\n",
    "\n",
    "from app.connectors import cmdb_graph\n",
    "from app.objects import structures\n",
    "c = cmdb_graph.CosmosdbClient()"
   ]
  },
  {
   "cell_type": "markdown",
   "metadata": {},
   "source": [
    "Starting with getting a list of the structures and listing them. "
   ]
  },
  {
   "cell_type": "code",
   "execution_count": 3,
   "metadata": {},
   "outputs": [
    {
     "name": "stderr",
     "output_type": "stream",
     "text": [
      "2024-10-12 08:32:31,411 - DEBUG - Using selector: SelectSelector\n",
      "2024-10-12 08:32:31,928 - INFO - EXOADMIN: number of items: 5\n"
     ]
    },
    {
     "data": {
      "text/html": [
       "<div>\n",
       "<style scoped>\n",
       "    .dataframe tbody tr th:only-of-type {\n",
       "        vertical-align: middle;\n",
       "    }\n",
       "\n",
       "    .dataframe tbody tr th {\n",
       "        vertical-align: top;\n",
       "    }\n",
       "\n",
       "    .dataframe thead th {\n",
       "        text-align: right;\n",
       "    }\n",
       "</style>\n",
       "<table border=\"1\" class=\"dataframe\">\n",
       "  <thead>\n",
       "    <tr style=\"text-align: right;\">\n",
       "      <th></th>\n",
       "      <th>faction</th>\n",
       "      <th>pop</th>\n",
       "      <th>structure</th>\n",
       "      <th>action</th>\n",
       "    </tr>\n",
       "  </thead>\n",
       "  <tbody>\n",
       "    <tr>\n",
       "      <th>0</th>\n",
       "      <td>{'wealth': -1582, 'name': 'An', 'objid': '2265...</td>\n",
       "      <td>{'isIdle': 'true', 'name': 'An To', 'objid': '...</td>\n",
       "      <td>{'name': 'Oil Well', 'objid': '5461385315509',...</td>\n",
       "      <td>structure</td>\n",
       "    </tr>\n",
       "    <tr>\n",
       "      <th>1</th>\n",
       "      <td>{'wealth': -1582, 'name': 'An', 'objid': '2265...</td>\n",
       "      <td>{'isIdle': 'true', 'name': 'An Mi', 'objid': '...</td>\n",
       "      <td>{'name': 'Solar Panel', 'objid': '281559755258...</td>\n",
       "      <td>structure</td>\n",
       "    </tr>\n",
       "    <tr>\n",
       "      <th>2</th>\n",
       "      <td>{'wealth': -1582, 'name': 'An', 'objid': '2265...</td>\n",
       "      <td>{'isIdle': 'true', 'name': 'An Er', 'objid': '...</td>\n",
       "      <td>{'name': 'Farmland', 'objid': '9272123375134',...</td>\n",
       "      <td>structure</td>\n",
       "    </tr>\n",
       "    <tr>\n",
       "      <th>3</th>\n",
       "      <td>{'wealth': -1582, 'name': 'An', 'objid': '2265...</td>\n",
       "      <td>{'isIdle': 'true', 'name': 'An Ray', 'objid': ...</td>\n",
       "      <td>{'name': 'Farmland', 'objid': '5419403967820',...</td>\n",
       "      <td>structure</td>\n",
       "    </tr>\n",
       "    <tr>\n",
       "      <th>4</th>\n",
       "      <td>{'wealth': -1588, 'name': 'Moslettiamac', 'obj...</td>\n",
       "      <td>{'isIdle': 'true', 'name': 'Moslettiamac K', '...</td>\n",
       "      <td>{'name': 'Farmland', 'objid': '7640085175388',...</td>\n",
       "      <td>structure</td>\n",
       "    </tr>\n",
       "  </tbody>\n",
       "</table>\n",
       "</div>"
      ],
      "text/plain": [
       "                                             faction  \\\n",
       "0  {'wealth': -1582, 'name': 'An', 'objid': '2265...   \n",
       "1  {'wealth': -1582, 'name': 'An', 'objid': '2265...   \n",
       "2  {'wealth': -1582, 'name': 'An', 'objid': '2265...   \n",
       "3  {'wealth': -1582, 'name': 'An', 'objid': '2265...   \n",
       "4  {'wealth': -1588, 'name': 'Moslettiamac', 'obj...   \n",
       "\n",
       "                                                 pop  \\\n",
       "0  {'isIdle': 'true', 'name': 'An To', 'objid': '...   \n",
       "1  {'isIdle': 'true', 'name': 'An Mi', 'objid': '...   \n",
       "2  {'isIdle': 'true', 'name': 'An Er', 'objid': '...   \n",
       "3  {'isIdle': 'true', 'name': 'An Ray', 'objid': ...   \n",
       "4  {'isIdle': 'true', 'name': 'Moslettiamac K', '...   \n",
       "\n",
       "                                           structure     action  \n",
       "0  {'name': 'Oil Well', 'objid': '5461385315509',...  structure  \n",
       "1  {'name': 'Solar Panel', 'objid': '281559755258...  structure  \n",
       "2  {'name': 'Farmland', 'objid': '9272123375134',...  structure  \n",
       "3  {'name': 'Farmland', 'objid': '5419403967820',...  structure  \n",
       "4  {'name': 'Farmland', 'objid': '7640085175388',...  structure  "
      ]
     },
     "execution_count": 3,
     "metadata": {},
     "output_type": "execute_result"
    }
   ],
   "source": [
    "faction_res = structures.get_faction_pop_structures(c)\n",
    "pd.DataFrame(faction_res)"
   ]
  },
  {
   "cell_type": "code",
   "execution_count": null,
   "metadata": {},
   "outputs": [],
   "source": []
  },
  {
   "cell_type": "markdown",
   "metadata": {},
   "source": [
    "Here we are attaching `structure` to the message so that the EventHub trigger can catch it and process it. Other than that, it does nothing. "
   ]
  },
  {
   "cell_type": "code",
   "execution_count": 4,
   "metadata": {},
   "outputs": [
    {
     "data": {
      "text/plain": [
       "'structure'"
      ]
     },
     "execution_count": 4,
     "metadata": {},
     "output_type": "execute_result"
    }
   ],
   "source": [
    "message = faction_res[0]\n",
    "message['action']"
   ]
  },
  {
   "cell_type": "code",
   "execution_count": 5,
   "metadata": {},
   "outputs": [
    {
     "data": {
      "text/plain": [
       "dict_keys(['faction', 'pop', 'structure', 'action'])"
      ]
     },
     "execution_count": 5,
     "metadata": {},
     "output_type": "execute_result"
    }
   ],
   "source": [
    "message.keys()"
   ]
  },
  {
   "cell_type": "code",
   "execution_count": 6,
   "metadata": {},
   "outputs": [
    {
     "data": {
      "text/plain": [
       "{'name': 'Oil Well',\n",
       " 'objid': '5461385315509',\n",
       " 'ownedBy': '1852583025275',\n",
       " 'type': 'oil_well',\n",
       " 'description': 'Produces energy by extracting hydrocarbons from the ground.',\n",
       " 'owned_by': 'pop',\n",
       " 'faction_augments': '{wealth: 1}',\n",
       " 'requires_attr': '{industry: 0.3}',\n",
       " 'renews_location_resource': '{hydrocarbons: 10}',\n",
       " 'effort': '2',\n",
       " 'render_type': 'mesh',\n",
       " 'userguid': '8d5b667f-b225-4641-b499-73b77558ff86',\n",
       " 'objtype': 'building',\n",
       " 'id': '5461385315509'}"
      ]
     },
     "execution_count": 6,
     "metadata": {},
     "output_type": "execute_result"
    }
   ],
   "source": [
    "message['structure']"
   ]
  },
  {
   "cell_type": "code",
   "execution_count": 7,
   "metadata": {},
   "outputs": [
    {
     "data": {
      "text/plain": [
       "{'isIdle': 'true',\n",
       " 'name': 'An To',\n",
       " 'objid': '1852583025275',\n",
       " 'conformity': 0.46,\n",
       " 'literacy': 0.492,\n",
       " 'aggression': 0.482,\n",
       " 'constitution': 0.482,\n",
       " 'health': 0.7,\n",
       " 'isIn': '2265012067295',\n",
       " 'industry': 0.482,\n",
       " 'wealth': 0.487,\n",
       " 'factionLoyalty': 0.286,\n",
       " 'userguid': '8d5b667f-b225-4641-b499-73b77558ff86',\n",
       " 'objtype': 'pop',\n",
       " 'id': '1852583025275'}"
      ]
     },
     "execution_count": 7,
     "metadata": {},
     "output_type": "execute_result"
    }
   ],
   "source": [
    "message['pop']"
   ]
  },
  {
   "cell_type": "code",
   "execution_count": 8,
   "metadata": {},
   "outputs": [
    {
     "data": {
      "text/plain": [
       "{'wealth': -1582,\n",
       " 'name': 'An',\n",
       " 'objid': '2265012067295',\n",
       " 'lat': -0.117,\n",
       " 'long': -0.0,\n",
       " 'infrastructure': 0,\n",
       " 'userguid': '8d5b667f-b225-4641-b499-73b77558ff86',\n",
       " 'objtype': 'faction',\n",
       " 'id': '2265012067295'}"
      ]
     },
     "execution_count": 8,
     "metadata": {},
     "output_type": "execute_result"
    }
   ],
   "source": [
    "message['faction']"
   ]
  },
  {
   "cell_type": "markdown",
   "metadata": {},
   "source": [
    "## faction_augments"
   ]
  },
  {
   "cell_type": "code",
   "execution_count": 9,
   "metadata": {},
   "outputs": [
    {
     "name": "stderr",
     "output_type": "stream",
     "text": [
      "--- Logging error ---\n",
      "Traceback (most recent call last):\n",
      "  File \"c:\\Users\\willi\\miniconda3\\envs\\exoplanets\\lib\\logging\\__init__.py\", line 1085, in emit\n",
      "    msg = self.format(record)\n",
      "  File \"c:\\Users\\willi\\miniconda3\\envs\\exoplanets\\lib\\logging\\__init__.py\", line 929, in format\n",
      "    return fmt.format(record)\n",
      "  File \"c:\\Users\\willi\\miniconda3\\envs\\exoplanets\\lib\\logging\\__init__.py\", line 668, in format\n",
      "    record.message = record.getMessage()\n",
      "  File \"c:\\Users\\willi\\miniconda3\\envs\\exoplanets\\lib\\logging\\__init__.py\", line 373, in getMessage\n",
      "    msg = msg % self.args\n",
      "TypeError: not all arguments converted during string formatting\n",
      "Call stack:\n",
      "  File \"c:\\Users\\willi\\miniconda3\\envs\\exoplanets\\lib\\runpy.py\", line 194, in _run_module_as_main\n",
      "    return _run_code(code, main_globals, None,\n",
      "  File \"c:\\Users\\willi\\miniconda3\\envs\\exoplanets\\lib\\runpy.py\", line 87, in _run_code\n",
      "    exec(code, run_globals)\n",
      "  File \"c:\\Users\\willi\\miniconda3\\envs\\exoplanets\\lib\\site-packages\\ipykernel_launcher.py\", line 17, in <module>\n",
      "    app.launch_new_instance()\n",
      "  File \"c:\\Users\\willi\\miniconda3\\envs\\exoplanets\\lib\\site-packages\\traitlets\\config\\application.py\", line 1053, in launch_instance\n",
      "    app.start()\n",
      "  File \"c:\\Users\\willi\\miniconda3\\envs\\exoplanets\\lib\\site-packages\\ipykernel\\kernelapp.py\", line 736, in start\n",
      "    self.io_loop.start()\n",
      "  File \"c:\\Users\\willi\\miniconda3\\envs\\exoplanets\\lib\\site-packages\\tornado\\platform\\asyncio.py\", line 195, in start\n",
      "    self.asyncio_loop.run_forever()\n",
      "  File \"c:\\Users\\willi\\miniconda3\\envs\\exoplanets\\lib\\asyncio\\base_events.py\", line 570, in run_forever\n",
      "    self._run_once()\n",
      "  File \"c:\\Users\\willi\\miniconda3\\envs\\exoplanets\\lib\\site-packages\\nest_asyncio.py\", line 129, in _run_once\n",
      "    handle._run()\n",
      "  File \"c:\\Users\\willi\\miniconda3\\envs\\exoplanets\\lib\\asyncio\\events.py\", line 81, in _run\n",
      "    self._context.run(self._callback, *self._args)\n",
      "  File \"c:\\Users\\willi\\miniconda3\\envs\\exoplanets\\lib\\site-packages\\ipykernel\\kernelbase.py\", line 516, in dispatch_queue\n",
      "    await self.process_one()\n",
      "  File \"c:\\Users\\willi\\miniconda3\\envs\\exoplanets\\lib\\site-packages\\ipykernel\\kernelbase.py\", line 505, in process_one\n",
      "    await dispatch(*args)\n",
      "  File \"c:\\Users\\willi\\miniconda3\\envs\\exoplanets\\lib\\site-packages\\ipykernel\\kernelbase.py\", line 412, in dispatch_shell\n",
      "    await result\n",
      "  File \"c:\\Users\\willi\\miniconda3\\envs\\exoplanets\\lib\\site-packages\\ipykernel\\kernelbase.py\", line 740, in execute_request\n",
      "    reply_content = await reply_content\n",
      "  File \"c:\\Users\\willi\\miniconda3\\envs\\exoplanets\\lib\\site-packages\\ipykernel\\ipkernel.py\", line 422, in do_execute\n",
      "    res = shell.run_cell(\n",
      "  File \"c:\\Users\\willi\\miniconda3\\envs\\exoplanets\\lib\\site-packages\\ipykernel\\zmqshell.py\", line 546, in run_cell\n",
      "    return super().run_cell(*args, **kwargs)\n",
      "  File \"c:\\Users\\willi\\miniconda3\\envs\\exoplanets\\lib\\site-packages\\IPython\\core\\interactiveshell.py\", line 3009, in run_cell\n",
      "    result = self._run_cell(\n",
      "  File \"c:\\Users\\willi\\miniconda3\\envs\\exoplanets\\lib\\site-packages\\IPython\\core\\interactiveshell.py\", line 3064, in _run_cell\n",
      "    result = runner(coro)\n",
      "  File \"c:\\Users\\willi\\miniconda3\\envs\\exoplanets\\lib\\site-packages\\IPython\\core\\async_helpers.py\", line 129, in _pseudo_sync_runner\n",
      "    coro.send(None)\n",
      "  File \"c:\\Users\\willi\\miniconda3\\envs\\exoplanets\\lib\\site-packages\\IPython\\core\\interactiveshell.py\", line 3269, in run_cell_async\n",
      "    has_raised = await self.run_ast_nodes(code_ast.body, cell_name,\n",
      "  File \"c:\\Users\\willi\\miniconda3\\envs\\exoplanets\\lib\\site-packages\\IPython\\core\\interactiveshell.py\", line 3448, in run_ast_nodes\n",
      "    if await self.run_code(code, result, async_=asy):\n",
      "  File \"c:\\Users\\willi\\miniconda3\\envs\\exoplanets\\lib\\site-packages\\IPython\\core\\interactiveshell.py\", line 3508, in run_code\n",
      "    exec(code_obj, self.user_global_ns, self.user_ns)\n",
      "  File \"C:\\Users\\willi\\AppData\\Local\\Temp\\ipykernel_15340\\6718891.py\", line 1, in <module>\n",
      "    structures.augemt_faction(c, message)\n",
      "  File \"c:\\Users\\willi\\repos\\exoplanets\\notebooks\\structures\\../..\\app\\objects\\structures.py\", line 72, in augemt_faction\n",
      "    logging.info(\"EXOADMIN: \", item, \"has changed from\", old_value, \"to\" ,new_value)\n",
      "Message: 'EXOADMIN: '\n",
      "Arguments: ('wealth', 'has changed from', -1582, 'to', -1581)\n",
      "2024-10-12 08:32:38,861 - DEBUG - Using selector: SelectSelector\n",
      "2024-10-12 08:32:39,165 - INFO - \n",
      "            g.V().has('label','faction').has('objid','2265012067295').property('wealth', -1581)\n",
      "        \n"
     ]
    },
    {
     "data": {
      "text/plain": [
       "{'wealth': 1}"
      ]
     },
     "execution_count": 9,
     "metadata": {},
     "output_type": "execute_result"
    }
   ],
   "source": [
    "structures.augemt_faction(c, message)"
   ]
  },
  {
   "cell_type": "code",
   "execution_count": 131,
   "metadata": {},
   "outputs": [
    {
     "data": {
      "text/plain": [
       "[{'wealth': 6,\n",
       "  'name': 'An',\n",
       "  'objid': '2265012067295',\n",
       "  'lat': -0.117,\n",
       "  'long': -0.0,\n",
       "  'infrastructure': 0,\n",
       "  'userguid': '8d5b667f-b225-4641-b499-73b77558ff86',\n",
       "  'objtype': 'faction',\n",
       "  'id': '2265012067295'}]"
      ]
     },
     "execution_count": 131,
     "metadata": {},
     "output_type": "execute_result"
    }
   ],
   "source": [
    "fac_id = message['faction']['objid']\n",
    "check_faction = f\"\"\"\n",
    "        g.V().has('label','faction').has('objid','{fac_id}').valueMap()\n",
    "    \"\"\"\n",
    "c.run_query(check_faction)\n",
    "c.clean_nodes(c.res)"
   ]
  },
  {
   "cell_type": "markdown",
   "metadata": {},
   "source": [
    "# The ongoing faction process in Azure Functions\n"
   ]
  },
  {
   "cell_type": "code",
   "execution_count": 95,
   "metadata": {},
   "outputs": [
    {
     "data": {
      "text/html": [
       "<div>\n",
       "<style scoped>\n",
       "    .dataframe tbody tr th:only-of-type {\n",
       "        vertical-align: middle;\n",
       "    }\n",
       "\n",
       "    .dataframe tbody tr th {\n",
       "        vertical-align: top;\n",
       "    }\n",
       "\n",
       "    .dataframe thead th {\n",
       "        text-align: right;\n",
       "    }\n",
       "</style>\n",
       "<table border=\"1\" class=\"dataframe\">\n",
       "  <thead>\n",
       "    <tr style=\"text-align: right;\">\n",
       "      <th></th>\n",
       "      <th>faction</th>\n",
       "      <th>pop</th>\n",
       "      <th>structure</th>\n",
       "      <th>action</th>\n",
       "    </tr>\n",
       "  </thead>\n",
       "  <tbody>\n",
       "    <tr>\n",
       "      <th>0</th>\n",
       "      <td>{'wealth': 5, 'name': 'An', 'objid': '22650120...</td>\n",
       "      <td>{'isIdle': 'true', 'name': 'An To', 'objid': '...</td>\n",
       "      <td>{'name': 'Oil Well', 'objid': '5461385315509',...</td>\n",
       "      <td>structure</td>\n",
       "    </tr>\n",
       "    <tr>\n",
       "      <th>1</th>\n",
       "      <td>{'wealth': 5, 'name': 'An', 'objid': '22650120...</td>\n",
       "      <td>{'isIdle': 'true', 'name': 'An Mi', 'objid': '...</td>\n",
       "      <td>{'name': 'Solar Panel', 'objid': '281559755258...</td>\n",
       "      <td>structure</td>\n",
       "    </tr>\n",
       "    <tr>\n",
       "      <th>2</th>\n",
       "      <td>{'wealth': 5, 'name': 'An', 'objid': '22650120...</td>\n",
       "      <td>{'isIdle': 'true', 'name': 'An Er', 'objid': '...</td>\n",
       "      <td>{'name': 'Farmland', 'objid': '9272123375134',...</td>\n",
       "      <td>structure</td>\n",
       "    </tr>\n",
       "    <tr>\n",
       "      <th>3</th>\n",
       "      <td>{'wealth': 5, 'name': 'An', 'objid': '22650120...</td>\n",
       "      <td>{'isIdle': 'true', 'name': 'An Ray', 'objid': ...</td>\n",
       "      <td>{'name': 'Farmland', 'objid': '5419403967820',...</td>\n",
       "      <td>structure</td>\n",
       "    </tr>\n",
       "    <tr>\n",
       "      <th>4</th>\n",
       "      <td>{'name': 'Moslettiamac', 'objid': '17676170043...</td>\n",
       "      <td>{'isIdle': 'true', 'name': 'Moslettiamac K', '...</td>\n",
       "      <td>{'name': 'Farmland', 'objid': '7640085175388',...</td>\n",
       "      <td>structure</td>\n",
       "    </tr>\n",
       "  </tbody>\n",
       "</table>\n",
       "</div>"
      ],
      "text/plain": [
       "                                             faction  \\\n",
       "0  {'wealth': 5, 'name': 'An', 'objid': '22650120...   \n",
       "1  {'wealth': 5, 'name': 'An', 'objid': '22650120...   \n",
       "2  {'wealth': 5, 'name': 'An', 'objid': '22650120...   \n",
       "3  {'wealth': 5, 'name': 'An', 'objid': '22650120...   \n",
       "4  {'name': 'Moslettiamac', 'objid': '17676170043...   \n",
       "\n",
       "                                                 pop  \\\n",
       "0  {'isIdle': 'true', 'name': 'An To', 'objid': '...   \n",
       "1  {'isIdle': 'true', 'name': 'An Mi', 'objid': '...   \n",
       "2  {'isIdle': 'true', 'name': 'An Er', 'objid': '...   \n",
       "3  {'isIdle': 'true', 'name': 'An Ray', 'objid': ...   \n",
       "4  {'isIdle': 'true', 'name': 'Moslettiamac K', '...   \n",
       "\n",
       "                                           structure     action  \n",
       "0  {'name': 'Oil Well', 'objid': '5461385315509',...  structure  \n",
       "1  {'name': 'Solar Panel', 'objid': '281559755258...  structure  \n",
       "2  {'name': 'Farmland', 'objid': '9272123375134',...  structure  \n",
       "3  {'name': 'Farmland', 'objid': '5419403967820',...  structure  \n",
       "4  {'name': 'Farmland', 'objid': '7640085175388',...  structure  "
      ]
     },
     "execution_count": 95,
     "metadata": {},
     "output_type": "execute_result"
    }
   ],
   "source": [
    "messages = structures.get_faction_pop_structures(c)\n",
    "pd.DataFrame(messages)"
   ]
  },
  {
   "cell_type": "code",
   "execution_count": 99,
   "metadata": {},
   "outputs": [
    {
     "data": {
      "text/plain": [
       "dict_keys(['faction', 'pop', 'structure', 'action'])"
      ]
     },
     "execution_count": 99,
     "metadata": {},
     "output_type": "execute_result"
    }
   ],
   "source": [
    "message = messages[0]\n",
    "message.keys()"
   ]
  },
  {
   "cell_type": "code",
   "execution_count": 100,
   "metadata": {},
   "outputs": [
    {
     "data": {
      "text/plain": [
       "{'name': 'Oil Well',\n",
       " 'objid': '5461385315509',\n",
       " 'ownedBy': '1852583025275',\n",
       " 'type': 'oil_well',\n",
       " 'description': 'Produces energy by extracting hydrocarbons from the ground.',\n",
       " 'owned_by': 'pop',\n",
       " 'faction_augments': '{wealth: 1}',\n",
       " 'requires_attr': '{industry: 0.3}',\n",
       " 'renews_location_resource': '{hydrocarbons: 10}',\n",
       " 'effort': '2',\n",
       " 'render_type': 'mesh',\n",
       " 'userguid': '8d5b667f-b225-4641-b499-73b77558ff86',\n",
       " 'objtype': 'building',\n",
       " 'id': '5461385315509'}"
      ]
     },
     "execution_count": 100,
     "metadata": {},
     "output_type": "execute_result"
    }
   ],
   "source": [
    "message['structure']  "
   ]
  },
  {
   "cell_type": "code",
   "execution_count": 103,
   "metadata": {},
   "outputs": [
    {
     "name": "stdout",
     "output_type": "stream",
     "text": [
      "EXOADMIN: process_structure, structure: Oil Well: 5461385315509\n"
     ]
    }
   ],
   "source": [
    "print(f\"EXOADMIN: process_structure, structure: {message['structure']['name']}: {message['structure']['objid']}\")"
   ]
  },
  {
   "cell_type": "code",
   "execution_count": 104,
   "metadata": {},
   "outputs": [
    {
     "name": "stdout",
     "output_type": "stream",
     "text": [
      "True\n"
     ]
    }
   ],
   "source": [
    "if message['structure']['faction_augments']:\n",
    "    print(True)"
   ]
  },
  {
   "cell_type": "code",
   "execution_count": null,
   "metadata": {},
   "outputs": [],
   "source": []
  }
 ],
 "metadata": {
  "kernelspec": {
   "display_name": "exoplanets",
   "language": "python",
   "name": "python3"
  },
  "language_info": {
   "codemirror_mode": {
    "name": "ipython",
    "version": 3
   },
   "file_extension": ".py",
   "mimetype": "text/x-python",
   "name": "python",
   "nbconvert_exporter": "python",
   "pygments_lexer": "ipython3",
   "version": "3.8.16"
  }
 },
 "nbformat": 4,
 "nbformat_minor": 2
}
