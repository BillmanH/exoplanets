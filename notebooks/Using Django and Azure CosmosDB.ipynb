{
 "cells": [
  {
   "attachments": {},
   "cell_type": "markdown",
   "metadata": {},
   "source": [
    "# Using Django and Azure Cosmos DB Graph\n",
    "## a framework for using Azure Gremlin in the MVC, querying graphs and managing data at web speeds. \n",
    "\n",
    "While the Django framework doesn't support graph queries out of the box (It's main design is for SQL databases), It can easily support graph operations using the `gremlinpython` library. Azure's CosmosDB has a gremlin graph database that supports fast read/write operations at very low costs compared to SQL. Together this means \n",
    "\n",
    "I've built a tool that facilitates the operations needed to link the two. This means that use CosmosDB as your data source in a Django web app. All of these resources are hosted in Azure. \n",
    "* Serverless Web App Service hosting a Python Django App. \n",
    "* Azure CosmosDB's Gremlin Graph\n",
    "\n",
    "![Alt text](../docs/img/infra.png?raw=true \"infra\")\n",
    "\n",
    "The Django app needs to be able to solve for these problems:\n",
    "* Needs to be easy to manage. Simple commands that just run the query and return the data. \n",
    "* Connections can't be left open or the server will disconnect, causing the whole app to go down. \n",
    "* Opening and closing connetions takes runtime, so I need the funcitonality to open and close connections only as needed. \n",
    "\n",
    "The live [application is still under development](http://exodestiny.azurewebsites.net/), but you can see the connection and queries running. \n"
   ]
  },
  {
   "cell_type": "code",
   "execution_count": 1,
   "metadata": {},
   "outputs": [],
   "source": [
    "import sys\n",
    "sys.path.append('..')\n",
    "\n",
    "import  ssl, asyncio\n",
    "\n",
    "ssl._create_default_https_context = ssl._create_unverified_context\n",
    "asyncio.set_event_loop_policy(asyncio.WindowsSelectorEventLoopPolicy())\n",
    "import nest_asyncio\n",
    "# this is required for running in a Jupyter Notebook. \n",
    "nest_asyncio.apply()"
   ]
  },
  {
   "cell_type": "markdown",
   "metadata": {},
   "source": [
    "Most of the `asyncio` and `ssl` stuff is only used for notebooks, it's just here to demo the module. "
   ]
  },
  {
   "cell_type": "code",
   "execution_count": 2,
   "metadata": {},
   "outputs": [],
   "source": [
    "from app.models import CosmosdbClient"
   ]
  },
  {
   "attachments": {},
   "cell_type": "markdown",
   "metadata": {},
   "source": [
    "Note from the import that this is the actual module used in my live web applicaiton. \n",
    "\n",
    "The actual `CosmosdbClient` referenced in this [doc is here](../app/models.py)."
   ]
  },
  {
   "cell_type": "code",
   "execution_count": 3,
   "metadata": {},
   "outputs": [],
   "source": [
    "c = CosmosdbClient()"
   ]
  },
  {
   "cell_type": "markdown",
   "metadata": {},
   "source": [
    "The module grabs environment variables directly when initiated (`__init__`). You just need to set them when you build them using the webapp service. See my other document on [setting up the app service with your env vars](..\\infra\\setting-azure-env_vars.md). \n",
    "\n",
    "![Alt text](../docs/img/app_service_keys.png?raw=true \"infra\")"
   ]
  },
  {
   "cell_type": "markdown",
   "metadata": {},
   "source": [
    "## Run a query:"
   ]
  },
  {
   "cell_type": "code",
   "execution_count": 4,
   "metadata": {},
   "outputs": [
    {
     "data": {
      "text/plain": [
       "[{'hostname': ['PSR B1257+12'],\n",
       "  'objid': ['26823204'],\n",
       "  'disc_facility': ['Arecibo Observatory'],\n",
       "  'glat': ['75.413648'],\n",
       "  'glon': ['311.30969']},\n",
       " {'hostname': ['51 Peg'],\n",
       "  'objid': ['32247188'],\n",
       "  'disc_facility': ['Haute-Provence Observatory'],\n",
       "  'glat': ['-34.72726'],\n",
       "  'glon': ['90.06264']},\n",
       " {'hostname': ['tau Boo'],\n",
       "  'objid': ['42065158'],\n",
       "  'disc_facility': ['Roque de los Muchachos Observatory'],\n",
       "  'glat': ['73.88899'],\n",
       "  'glon': ['358.9367']}]"
      ]
     },
     "execution_count": 4,
     "metadata": {},
     "output_type": "execute_result"
    }
   ],
   "source": [
    "c.run_query(\"g.V().haslabel('system').valueMap('hostname','objid','disc_facility','glat','glon').limit(3)\")\n",
    "c.res"
   ]
  },
  {
   "cell_type": "markdown",
   "metadata": {},
   "source": [
    "The command `run_query` does the following:\n",
    "* open a connection\n",
    "* submit the Async query\n",
    "* get the callback results\n",
    "* close the connection\n",
    "\n",
    "This is perfect for quick read/write operations that you'll need in the Ajax functions of your web app, or quick actions in Azure Functions. "
   ]
  },
  {
   "cell_type": "markdown",
   "metadata": {},
   "source": [
    "## Run a group of queries"
   ]
  },
  {
   "cell_type": "code",
   "execution_count": 5,
   "metadata": {},
   "outputs": [],
   "source": [
    "q1 = \"g.V().count()\"\n",
    "q2 = \"g.V().haslabel('system').count()\"\n",
    "q3 = \"g.V().haslabel('pop').count()\"\n",
    "\n",
    "c.add_query(q1)\n",
    "c.add_query(q2)\n",
    "c.add_query(q3)\n",
    "\n",
    "c.run_queries()"
   ]
  },
  {
   "cell_type": "code",
   "execution_count": 6,
   "metadata": {},
   "outputs": [
    {
     "data": {
      "text/plain": [
       "{'g.V().count()': [8812],\n",
       " \"g.V().haslabel('system').count()\": [3245],\n",
       " \"g.V().haslabel('pop').count()\": [988]}"
      ]
     },
     "execution_count": 6,
     "metadata": {},
     "output_type": "execute_result"
    }
   ],
   "source": [
    "c.res"
   ]
  },
  {
   "cell_type": "markdown",
   "metadata": {},
   "source": [
    "Note that it stores the response in a dict using the query as the key. This makes it easy to fetch your results after running a list of read operations. This is perfect for Django."
   ]
  },
  {
   "cell_type": "code",
   "execution_count": 7,
   "metadata": {},
   "outputs": [
    {
     "name": "stdout",
     "output_type": "stream",
     "text": [
      "The value of 'g.V().count()' is :[8812]\n",
      "and the value of 'g.V().haslabel('system').count()' is: [3245]\n"
     ]
    }
   ],
   "source": [
    "print(f\"The value of '{q1}' is :{c.res[q1]}\",\n",
    "    f\"and the value of '{q2}' is: {c.res[q2]}\",\n",
    "    sep=\"\\n\")"
   ]
  },
  {
   "cell_type": "markdown",
   "metadata": {},
   "source": [
    "The connection is already closed, so you can focus on your app and your queries and not the connection status. "
   ]
  },
  {
   "cell_type": "markdown",
   "metadata": {},
   "source": [
    "## Cleaning the data\n",
    "Just basic python at this point. I've added some tools to help turn the data into a dict, like object suited for Ajax requests. But you can ignore this entierely. "
   ]
  },
  {
   "cell_type": "code",
   "execution_count": 8,
   "metadata": {},
   "outputs": [
    {
     "data": {
      "text/plain": [
       "[{'hostname': ['PSR B1257+12'],\n",
       "  'objid': ['26823204'],\n",
       "  'disc_facility': ['Arecibo Observatory'],\n",
       "  'glat': ['75.413648'],\n",
       "  'glon': ['311.30969']},\n",
       " {'hostname': ['51 Peg'],\n",
       "  'objid': ['32247188'],\n",
       "  'disc_facility': ['Haute-Provence Observatory'],\n",
       "  'glat': ['-34.72726'],\n",
       "  'glon': ['90.06264']},\n",
       " {'hostname': ['tau Boo'],\n",
       "  'objid': ['42065158'],\n",
       "  'disc_facility': ['Roque de los Muchachos Observatory'],\n",
       "  'glat': ['73.88899'],\n",
       "  'glon': ['358.9367']}]"
      ]
     },
     "execution_count": 8,
     "metadata": {},
     "output_type": "execute_result"
    }
   ],
   "source": [
    "c.run_query(\"g.V().haslabel('system').valueMap('hostname','objid','disc_facility','glat','glon').limit(3)\")\n",
    "c.res"
   ]
  },
  {
   "cell_type": "code",
   "execution_count": 9,
   "metadata": {},
   "outputs": [
    {
     "data": {
      "text/plain": [
       "[{'hostname': 'PSR B1257+12',\n",
       "  'objid': '26823204',\n",
       "  'disc_facility': 'Arecibo Observatory',\n",
       "  'glat': '75.413648',\n",
       "  'glon': '311.30969',\n",
       "  'id': '26823204'},\n",
       " {'hostname': '51 Peg',\n",
       "  'objid': '32247188',\n",
       "  'disc_facility': 'Haute-Provence Observatory',\n",
       "  'glat': '-34.72726',\n",
       "  'glon': '90.06264',\n",
       "  'id': '32247188'},\n",
       " {'hostname': 'tau Boo',\n",
       "  'objid': '42065158',\n",
       "  'disc_facility': 'Roque de los Muchachos Observatory',\n",
       "  'glat': '73.88899',\n",
       "  'glon': '358.9367',\n",
       "  'id': '42065158'}]"
      ]
     },
     "execution_count": 9,
     "metadata": {},
     "output_type": "execute_result"
    }
   ],
   "source": [
    "c.clean_nodes(c.res)"
   ]
  },
  {
   "attachments": {},
   "cell_type": "markdown",
   "metadata": {},
   "source": [
    "# Getting the query metadata"
   ]
  },
  {
   "attachments": {},
   "cell_type": "markdown",
   "metadata": {},
   "source": [
    "I haven't implemented advanced metadata logging, but probably should. This is how it _would_ be done."
   ]
  },
  {
   "cell_type": "code",
   "execution_count": 13,
   "metadata": {},
   "outputs": [],
   "source": [
    "from gremlin_python.driver import client,serializer\n",
    "import os \n",
    "c = client.Client(\n",
    "                os.getenv(\"endpoint\",\"env vars not set\"),\n",
    "                \"g\",\n",
    "                username=os.getenv(\"dbusername\",\"env vars not set\"),\n",
    "                password=os.getenv(\"dbkey\",\"env vars not set\")+\"==\",\n",
    "                message_serializer=serializer.GraphSONSerializersV2d0(),\n",
    "            )"
   ]
  },
  {
   "cell_type": "code",
   "execution_count": 35,
   "metadata": {},
   "outputs": [],
   "source": [
    "callback = c.submitAsync(\"g.V().count()\")"
   ]
  },
  {
   "cell_type": "code",
   "execution_count": 36,
   "metadata": {},
   "outputs": [],
   "source": [
    "status = callback.result().status_attributes"
   ]
  },
  {
   "cell_type": "code",
   "execution_count": 37,
   "metadata": {},
   "outputs": [
    {
     "data": {
      "text/plain": [
       "[8812]"
      ]
     },
     "execution_count": 37,
     "metadata": {},
     "output_type": "execute_result"
    }
   ],
   "source": [
    "callback.result().all().result()"
   ]
  },
  {
   "cell_type": "code",
   "execution_count": 39,
   "metadata": {},
   "outputs": [
    {
     "data": {
      "text/plain": [
       "\"{'x-ms-status-code': 200, 'x-ms-activity-id': 'd9899238-915c-4b68-a8e0-a0e2364b97ee', 'x-ms-request-charge': 3.19, 'x-ms-total-request-charge': 3.19, 'x-ms-server-time-ms': 19.4287, 'x-ms-total-server-time-ms': 19.4287}\""
      ]
     },
     "execution_count": 39,
     "metadata": {},
     "output_type": "execute_result"
    }
   ],
   "source": [
    "str(status)"
   ]
  },
  {
   "cell_type": "markdown",
   "metadata": {},
   "source": [
    "## Limitations\n",
    "\n",
    "* This is for quick read, write operations. Thing single function web apps like Flask, Django, Azure Functions\n",
    "* This is not for high volume or bulk uploads. You should consider other approaches. \n",
    "* The cleaning tools are fit to purpose for my application, you may need to modify them for your app. \n"
   ]
  },
  {
   "cell_type": "markdown",
   "metadata": {},
   "source": []
  }
 ],
 "metadata": {
  "kernelspec": {
   "display_name": "Python 3.7.0 ('exoplanets')",
   "language": "python",
   "name": "python3"
  },
  "language_info": {
   "codemirror_mode": {
    "name": "ipython",
    "version": 3
   },
   "file_extension": ".py",
   "mimetype": "text/x-python",
   "name": "python",
   "nbconvert_exporter": "python",
   "pygments_lexer": "ipython3",
   "version": "3.7.0"
  },
  "orig_nbformat": 4,
  "vscode": {
   "interpreter": {
    "hash": "625a17269cb94aebb094cbcf5e0e8340f26b69d46569da60e8fc69439048adbf"
   }
  }
 },
 "nbformat": 4,
 "nbformat_minor": 2
}
