{
 "cells": [
  {
   "attachments": {},
   "cell_type": "markdown",
   "metadata": {},
   "source": [
    "# Resource Renewal\n",
    "There is a finite amount of everything in the universe. \n",
    "\n",
    "Locations have resources. \n",
    "\n",
    "Some resources have a renewal rate. "
   ]
  },
  {
   "cell_type": "code",
   "execution_count": 1,
   "metadata": {},
   "outputs": [],
   "source": [
    "import sys\n",
    "import numpy as np\n",
    "import pandas as pd\n",
    "import altair as alt\n",
    "sys.path.append('..')\n",
    "import helpers.dbquery as db\n",
    "\n",
    "\n",
    "import helpers.functions as f\n",
    "import yaml, ssl, asyncio, pickle, os, ast\n",
    "import nb_black\n",
    "\n",
    "\n",
    "ssl._create_default_https_context = ssl._create_unverified_context\n",
    "asyncio.set_event_loop_policy(asyncio.WindowsSelectorEventLoopPolicy())\n",
    "import nest_asyncio\n",
    "# this is required for running in a Jupyter Notebook. \n",
    "nest_asyncio.apply()"
   ]
  },
  {
   "cell_type": "code",
   "execution_count": 3,
   "metadata": {},
   "outputs": [],
   "source": [
    "# mapping to the modules that make the app\n",
    "sys.path.insert(0, \"../../app\")\n",
    "sys.path.insert(0, \"../../functions/cosmicevents\")\n",
    "\n",
    "sys.path.insert\n",
    "import models\n",
    "\n",
    "c = models.CosmosdbClient()"
   ]
  },
  {
   "cell_type": "code",
   "execution_count": 10,
   "metadata": {},
   "outputs": [],
   "source": [
    "from tools import replenish_resources"
   ]
  },
  {
   "cell_type": "code",
   "execution_count": 11,
   "metadata": {},
   "outputs": [
    {
     "data": {
      "text/plain": [
       "[{'volume': 712,\n",
       "  'name': 'Organic',\n",
       "  'objid': '7478632937970',\n",
       "  'description': 'bilogical material that can be consumed by pops',\n",
       "  'replenish_rate': 10,\n",
       "  'username': 'BillmanLocal2',\n",
       "  'objtype': 'resource',\n",
       "  'id': '7478632937970'}]"
      ]
     },
     "execution_count": 11,
     "metadata": {},
     "output_type": "execute_result"
    }
   ],
   "source": [
    "data = replenish_resources.get_replenishing_resources(c)\n",
    "data"
   ]
  },
  {
   "cell_type": "code",
   "execution_count": 12,
   "metadata": {},
   "outputs": [
    {
     "data": {
      "text/plain": [
       "{'volume': 712,\n",
       " 'name': 'Organic',\n",
       " 'objid': '7478632937970',\n",
       " 'description': 'bilogical material that can be consumed by pops',\n",
       " 'replenish_rate': 10,\n",
       " 'username': 'BillmanLocal2',\n",
       " 'objtype': 'resource',\n",
       " 'id': '7478632937970'}"
      ]
     },
     "execution_count": 12,
     "metadata": {},
     "output_type": "execute_result"
    }
   ],
   "source": [
    "r = data[0]\n",
    "r"
   ]
  },
  {
   "cell_type": "code",
   "execution_count": 13,
   "metadata": {},
   "outputs": [
    {
     "data": {
      "text/plain": [
       "\"\\n                g.V().has('objid','7478632937970').property('volume','722')\\n        \""
      ]
     },
     "execution_count": 13,
     "metadata": {},
     "output_type": "execute_result"
    }
   ],
   "source": [
    "replenish_resources.update_replenishing_resources(r)"
   ]
  },
  {
   "cell_type": "code",
   "execution_count": null,
   "metadata": {},
   "outputs": [],
   "source": []
  }
 ],
 "metadata": {
  "kernelspec": {
   "display_name": "exoplanets",
   "language": "python",
   "name": "python3"
  },
  "language_info": {
   "codemirror_mode": {
    "name": "ipython",
    "version": 3
   },
   "file_extension": ".py",
   "mimetype": "text/x-python",
   "name": "python",
   "nbconvert_exporter": "python",
   "pygments_lexer": "ipython3",
   "version": "3.7.0"
  },
  "orig_nbformat": 4,
  "vscode": {
   "interpreter": {
    "hash": "c5c6891129d2c05f289afcaa6c71c9cf4c54aca02abc7096d6466d124bfcae3e"
   }
  }
 },
 "nbformat": 4,
 "nbformat_minor": 2
}
