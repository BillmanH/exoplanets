{
 "cells": [
  {
   "attachments": {},
   "cell_type": "markdown",
   "metadata": {},
   "source": [
    "# The Genesis process\n",
    "\n",
    "Creating a new game requires the creation of a system and planets, factions and people.\n",
    "\n",
    "This notebook tests that process as well as documents it. This notebook tests several attributes of the generation process to ensure that the code is sound. "
   ]
  },
  {
   "cell_type": "code",
   "execution_count": 1,
   "metadata": {},
   "outputs": [],
   "source": [
    "import numpy as np\n",
    "import pandas as pd\n",
    "\n",
    "import sys, os, yaml, ssl, asyncio\n",
    "import altair as alt\n",
    "\n",
    "# mapping to the modules that make the app\n",
    "sys.path.insert(0, \"../..\")\n"
   ]
  },
  {
   "cell_type": "code",
   "execution_count": 2,
   "metadata": {},
   "outputs": [],
   "source": [
    "from app import creators\n",
    "from app import objects"
   ]
  },
  {
   "cell_type": "code",
   "execution_count": 3,
   "metadata": {},
   "outputs": [],
   "source": [
    "from app.creators import homeworld\n",
    "from app.creators import universe"
   ]
  },
  {
   "attachments": {},
   "cell_type": "markdown",
   "metadata": {},
   "source": [
    "An example `data` set for testing. This is the user form that the user submits when creating a new game. \n",
    "\n",
    "You can get this from the template at `app\\templates\\app\\creation\\genesis.js`\n"
   ]
  },
  {
   "cell_type": "code",
   "execution_count": 4,
   "metadata": {},
   "outputs": [],
   "source": [
    "form = {\n",
    "    \"accountid\": \"3025284578519\",\n",
    "    \"aggression\": 0.5,\n",
    "    \"conformity\": 0.5,\n",
    "    \"constitution\": 0.5,\n",
    "    \"consumes\": \"organics\",\n",
    "    \"effuses\": \"organic waste,plastics\",\n",
    "    \"label\": \"form\",\n",
    "    \"literacy\": 0.5,\n",
    "    \"minerals\": 0.5,\n",
    "    \"name\": \"worldgenform\",\n",
    "    \"num_moons\": 10,\n",
    "    \"num_planets\": 4,\n",
    "    \"objid\": 300882390249,\n",
    "    \"organics\": 0.5,\n",
    "    \"owner\": \"William Harding\",\n",
    "    \"starting_pop\": 7,\n",
    "    \"userguid\": \"8d5b667f-b225-4641-b499-73b77558ff86\",\n",
    "    \"username\": \"William Harding\"\n",
    "}\n",
    "\n",
    "userguid = form[\"userguid\"]"
   ]
  },
  {
   "attachments": {},
   "cell_type": "markdown",
   "metadata": {},
   "source": [
    "You'll also need to configuration files."
   ]
  },
  {
   "cell_type": "code",
   "execution_count": 5,
   "metadata": {},
   "outputs": [
    {
     "data": {
      "text/plain": [
       "dict_keys(['planet_config', 'moon_config', 'star_config', 'resource_config'])"
      ]
     },
     "execution_count": 5,
     "metadata": {},
     "output_type": "execute_result"
    }
   ],
   "source": [
    "conf = creators.universe.configurations.get_configurations()\n",
    "conf.keys()"
   ]
  },
  {
   "attachments": {},
   "cell_type": "markdown",
   "metadata": {},
   "source": [
    "Each object as an `__init__` function that creates it, however not all data is spawed on init. "
   ]
  },
  {
   "attachments": {},
   "cell_type": "markdown",
   "metadata": {},
   "source": [
    "## The Solar System and Planets"
   ]
  },
  {
   "cell_type": "code",
   "execution_count": 6,
   "metadata": {},
   "outputs": [
    {
     "data": {
      "text/plain": [
       "<system: ordered; 9653477904374; Hisyrezpan>"
      ]
     },
     "execution_count": 6,
     "metadata": {},
     "output_type": "execute_result"
    }
   ],
   "source": [
    "system = universe.celestials.System(form)\n",
    "system"
   ]
  },
  {
   "cell_type": "code",
   "execution_count": 7,
   "metadata": {},
   "outputs": [
    {
     "data": {
      "text/plain": [
       "{'objid': '9653477904374',\n",
       " 'name': 'Hisyrezpan',\n",
       " 'label': 'system',\n",
       " 'class': 'ordered',\n",
       " 'isHomeSystem': True,\n",
       " 'glat': 26.611,\n",
       " 'glon': 14.951,\n",
       " 'gelat': 4.304}"
      ]
     },
     "execution_count": 7,
     "metadata": {},
     "output_type": "execute_result"
    }
   ],
   "source": [
    "system.get_data()"
   ]
  },
  {
   "attachments": {},
   "cell_type": "markdown",
   "metadata": {},
   "source": [
    "Each object as an `__init__` function that creates it, and populates it with data available at that time. Celestial objects have dependancies on other objects. "
   ]
  },
  {
   "cell_type": "code",
   "execution_count": 8,
   "metadata": {},
   "outputs": [
    {
     "data": {
      "text/plain": [
       "{'name': 'Dalpa',\n",
       " 'class': 'G',\n",
       " 'objid': '0164935591491',\n",
       " 'label': 'star',\n",
       " 'pop_cap': 100,\n",
       " 'radius': 106}"
      ]
     },
     "execution_count": 8,
     "metadata": {},
     "output_type": "execute_result"
    }
   ],
   "source": [
    "star = objects.celestials.Star(conf[\"star_config\"], system)\n",
    "star.get_data()"
   ]
  },
  {
   "attachments": {},
   "cell_type": "markdown",
   "metadata": {},
   "source": [
    "Each object also inherits a `get_fundamentals()` method that ensures that needed default values are present. `get_data()` extends that functionality. This ensures that objects can alwasy interact with the graph. "
   ]
  },
  {
   "cell_type": "code",
   "execution_count": 9,
   "metadata": {},
   "outputs": [
    {
     "data": {
      "text/plain": [
       "{'name': 'Dalpa',\n",
       " 'class': 'G',\n",
       " 'objid': '0164935591491',\n",
       " 'label': 'star',\n",
       " 'pop_cap': 100}"
      ]
     },
     "execution_count": 9,
     "metadata": {},
     "output_type": "execute_result"
    }
   ],
   "source": [
    "star.get_fundimentals()"
   ]
  },
  {
   "attachments": {},
   "cell_type": "markdown",
   "metadata": {},
   "source": [
    "Procedurally generated planets chose from a list of potential types in the `conf`. To force a particular kind of outcome, reduce the options in the configuration. "
   ]
  },
  {
   "cell_type": "code",
   "execution_count": 10,
   "metadata": {},
   "outputs": [
    {
     "data": {
      "text/plain": [
       "{'name': 'Senser',\n",
       " 'class': 'terrestrial',\n",
       " 'objid': '7377028193236',\n",
       " 'label': 'planet',\n",
       " 'pop_cap': 100,\n",
       " 'radius': 1.045,\n",
       " 'mass': 0.227,\n",
       " 'orbitsDistance': 1.015,\n",
       " 'orbitsId': '0164935591491',\n",
       " 'orbitsName': 'Dalpa',\n",
       " 'isSupportsLife': False,\n",
       " 'isPopulated': False}"
      ]
     },
     "execution_count": 10,
     "metadata": {},
     "output_type": "execute_result"
    }
   ],
   "source": [
    "terrestrial_config = {\"terrestrial\": conf[\"planet_config\"][\"terrestrial\"]}\n",
    "home_planet = objects.celestials.Planet(conf=terrestrial_config, orbiting=star)\n",
    "home_planet.get_data()"
   ]
  },
  {
   "attachments": {},
   "cell_type": "markdown",
   "metadata": {},
   "source": [
    "Creating a group of planets using list comprehension. Note that celestial objects have a custom `__repr__` function that makes them easy to manage."
   ]
  },
  {
   "cell_type": "code",
   "execution_count": 11,
   "metadata": {},
   "outputs": [
    {
     "ename": "KeyError",
     "evalue": "'prob'",
     "output_type": "error",
     "traceback": [
      "\u001b[1;31m---------------------------------------------------------------------------\u001b[0m",
      "\u001b[1;31mKeyError\u001b[0m                                  Traceback (most recent call last)",
      "Cell \u001b[1;32mIn[11], line 1\u001b[0m\n\u001b[1;32m----> 1\u001b[0m planets \u001b[38;5;241m=\u001b[39m [\n\u001b[0;32m      2\u001b[0m     objects\u001b[38;5;241m.\u001b[39mcelestials\u001b[38;5;241m.\u001b[39mPlanet(conf\u001b[38;5;241m=\u001b[39mconf[\u001b[38;5;124m\"\u001b[39m\u001b[38;5;124mplanet_config\u001b[39m\u001b[38;5;124m\"\u001b[39m], orbiting\u001b[38;5;241m=\u001b[39mstar)\n\u001b[0;32m      3\u001b[0m     \u001b[38;5;28;01mfor\u001b[39;00m p \u001b[38;5;129;01min\u001b[39;00m \u001b[38;5;28mrange\u001b[39m(\u001b[38;5;28mint\u001b[39m(form[\u001b[38;5;124m\"\u001b[39m\u001b[38;5;124mnum_planets\u001b[39m\u001b[38;5;124m\"\u001b[39m]) \u001b[38;5;241m-\u001b[39m \u001b[38;5;241m1\u001b[39m)\n\u001b[0;32m      4\u001b[0m ]\n\u001b[0;32m      5\u001b[0m planets\n",
      "Cell \u001b[1;32mIn[11], line 2\u001b[0m, in \u001b[0;36m<listcomp>\u001b[1;34m(.0)\u001b[0m\n\u001b[0;32m      1\u001b[0m planets \u001b[38;5;241m=\u001b[39m [\n\u001b[1;32m----> 2\u001b[0m     \u001b[43mobjects\u001b[49m\u001b[38;5;241;43m.\u001b[39;49m\u001b[43mcelestials\u001b[49m\u001b[38;5;241;43m.\u001b[39;49m\u001b[43mPlanet\u001b[49m\u001b[43m(\u001b[49m\u001b[43mconf\u001b[49m\u001b[38;5;241;43m=\u001b[39;49m\u001b[43mconf\u001b[49m\u001b[43m[\u001b[49m\u001b[38;5;124;43m\"\u001b[39;49m\u001b[38;5;124;43mplanet_config\u001b[39;49m\u001b[38;5;124;43m\"\u001b[39;49m\u001b[43m]\u001b[49m\u001b[43m,\u001b[49m\u001b[43m \u001b[49m\u001b[43morbiting\u001b[49m\u001b[38;5;241;43m=\u001b[39;49m\u001b[43mstar\u001b[49m\u001b[43m)\u001b[49m\n\u001b[0;32m      3\u001b[0m     \u001b[38;5;28;01mfor\u001b[39;00m p \u001b[38;5;129;01min\u001b[39;00m \u001b[38;5;28mrange\u001b[39m(\u001b[38;5;28mint\u001b[39m(form[\u001b[38;5;124m\"\u001b[39m\u001b[38;5;124mnum_planets\u001b[39m\u001b[38;5;124m\"\u001b[39m]) \u001b[38;5;241m-\u001b[39m \u001b[38;5;241m1\u001b[39m)\n\u001b[0;32m      4\u001b[0m ]\n\u001b[0;32m      5\u001b[0m planets\n",
      "File \u001b[1;32mc:\\Users\\willi\\repos\\exoplanets\\notebooks\\planets\\../..\\app\\objects\\celestials.py:133\u001b[0m, in \u001b[0;36mPlanet.__init__\u001b[1;34m(self, conf, orbiting)\u001b[0m\n\u001b[0;32m    131\u001b[0m \u001b[38;5;28mself\u001b[39m\u001b[38;5;241m.\u001b[39mmake_name(\u001b[38;5;241m2\u001b[39m, \u001b[38;5;241m1\u001b[39m)\n\u001b[0;32m    132\u001b[0m \u001b[38;5;28mself\u001b[39m\u001b[38;5;241m.\u001b[39mlabel \u001b[38;5;241m=\u001b[39m \u001b[38;5;124m\"\u001b[39m\u001b[38;5;124mplanet\u001b[39m\u001b[38;5;124m\"\u001b[39m\n\u001b[1;32m--> 133\u001b[0m t \u001b[38;5;241m=\u001b[39m \u001b[38;5;28;43mself\u001b[39;49m\u001b[38;5;241;43m.\u001b[39;49m\u001b[43mchoose_type\u001b[49m\u001b[43m(\u001b[49m\u001b[43mconf\u001b[49m\u001b[43m)\u001b[49m\n\u001b[0;32m    134\u001b[0m \u001b[38;5;28mself\u001b[39m\u001b[38;5;241m.\u001b[39mconfig \u001b[38;5;241m=\u001b[39m t\n\u001b[0;32m    135\u001b[0m \u001b[38;5;28mself\u001b[39m\u001b[38;5;241m.\u001b[39mtype \u001b[38;5;241m=\u001b[39m t[\u001b[38;5;124m'\u001b[39m\u001b[38;5;124mname\u001b[39m\u001b[38;5;124m'\u001b[39m]\n",
      "File \u001b[1;32mc:\\Users\\willi\\repos\\exoplanets\\notebooks\\planets\\../..\\app\\objects\\celestials.py:66\u001b[0m, in \u001b[0;36mBody.choose_type\u001b[1;34m(self, config)\u001b[0m\n\u001b[0;32m     62\u001b[0m \u001b[38;5;28;01mdef\u001b[39;00m \u001b[38;5;21mchoose_type\u001b[39m(\u001b[38;5;28mself\u001b[39m,config):\n\u001b[0;32m     63\u001b[0m     \u001b[38;5;66;03m# Choose a object type from based on the probabilities in the planet config\u001b[39;00m\n\u001b[0;32m     64\u001b[0m     choice \u001b[38;5;241m=\u001b[39m maths\u001b[38;5;241m.\u001b[39mnp\u001b[38;5;241m.\u001b[39mrandom\u001b[38;5;241m.\u001b[39mchoice(\n\u001b[0;32m     65\u001b[0m             \u001b[38;5;28mlist\u001b[39m(config\u001b[38;5;241m.\u001b[39mkeys()),\n\u001b[1;32m---> 66\u001b[0m             p\u001b[38;5;241m=\u001b[39m[\n\u001b[0;32m     67\u001b[0m                 \u001b[38;5;28mfloat\u001b[39m(config[t][\u001b[38;5;124m\"\u001b[39m\u001b[38;5;124mprob\u001b[39m\u001b[38;5;124m\"\u001b[39m]) \u001b[38;5;241m/\u001b[39m \u001b[38;5;28msum\u001b[39m([config[t][\u001b[38;5;124m\"\u001b[39m\u001b[38;5;124mprob\u001b[39m\u001b[38;5;124m\"\u001b[39m] \u001b[38;5;28;01mfor\u001b[39;00m t \u001b[38;5;129;01min\u001b[39;00m config\u001b[38;5;241m.\u001b[39mkeys()])\n\u001b[0;32m     68\u001b[0m                 \u001b[38;5;28;01mfor\u001b[39;00m t \u001b[38;5;129;01min\u001b[39;00m config\u001b[38;5;241m.\u001b[39mkeys()\n\u001b[0;32m     69\u001b[0m             ]\n\u001b[0;32m     70\u001b[0m         )\n\u001b[0;32m     71\u001b[0m     \u001b[38;5;28;01mreturn\u001b[39;00m config[choice]\n",
      "File \u001b[1;32mc:\\Users\\willi\\repos\\exoplanets\\notebooks\\planets\\../..\\app\\objects\\celestials.py:67\u001b[0m, in \u001b[0;36m<listcomp>\u001b[1;34m(.0)\u001b[0m\n\u001b[0;32m     62\u001b[0m \u001b[38;5;28;01mdef\u001b[39;00m \u001b[38;5;21mchoose_type\u001b[39m(\u001b[38;5;28mself\u001b[39m,config):\n\u001b[0;32m     63\u001b[0m     \u001b[38;5;66;03m# Choose a object type from based on the probabilities in the planet config\u001b[39;00m\n\u001b[0;32m     64\u001b[0m     choice \u001b[38;5;241m=\u001b[39m maths\u001b[38;5;241m.\u001b[39mnp\u001b[38;5;241m.\u001b[39mrandom\u001b[38;5;241m.\u001b[39mchoice(\n\u001b[0;32m     65\u001b[0m             \u001b[38;5;28mlist\u001b[39m(config\u001b[38;5;241m.\u001b[39mkeys()),\n\u001b[0;32m     66\u001b[0m             p\u001b[38;5;241m=\u001b[39m[\n\u001b[1;32m---> 67\u001b[0m                 \u001b[38;5;28mfloat\u001b[39m(config[t][\u001b[38;5;124m\"\u001b[39m\u001b[38;5;124mprob\u001b[39m\u001b[38;5;124m\"\u001b[39m]) \u001b[38;5;241m/\u001b[39m \u001b[38;5;28msum\u001b[39m([config[t][\u001b[38;5;124m\"\u001b[39m\u001b[38;5;124mprob\u001b[39m\u001b[38;5;124m\"\u001b[39m] \u001b[38;5;28;01mfor\u001b[39;00m t \u001b[38;5;129;01min\u001b[39;00m config\u001b[38;5;241m.\u001b[39mkeys()])\n\u001b[0;32m     68\u001b[0m                 \u001b[38;5;28;01mfor\u001b[39;00m t \u001b[38;5;129;01min\u001b[39;00m config\u001b[38;5;241m.\u001b[39mkeys()\n\u001b[0;32m     69\u001b[0m             ]\n\u001b[0;32m     70\u001b[0m         )\n\u001b[0;32m     71\u001b[0m     \u001b[38;5;28;01mreturn\u001b[39;00m config[choice]\n",
      "File \u001b[1;32mc:\\Users\\willi\\repos\\exoplanets\\notebooks\\planets\\../..\\app\\objects\\celestials.py:67\u001b[0m, in \u001b[0;36m<listcomp>\u001b[1;34m(.0)\u001b[0m\n\u001b[0;32m     62\u001b[0m \u001b[38;5;28;01mdef\u001b[39;00m \u001b[38;5;21mchoose_type\u001b[39m(\u001b[38;5;28mself\u001b[39m,config):\n\u001b[0;32m     63\u001b[0m     \u001b[38;5;66;03m# Choose a object type from based on the probabilities in the planet config\u001b[39;00m\n\u001b[0;32m     64\u001b[0m     choice \u001b[38;5;241m=\u001b[39m maths\u001b[38;5;241m.\u001b[39mnp\u001b[38;5;241m.\u001b[39mrandom\u001b[38;5;241m.\u001b[39mchoice(\n\u001b[0;32m     65\u001b[0m             \u001b[38;5;28mlist\u001b[39m(config\u001b[38;5;241m.\u001b[39mkeys()),\n\u001b[0;32m     66\u001b[0m             p\u001b[38;5;241m=\u001b[39m[\n\u001b[1;32m---> 67\u001b[0m                 \u001b[38;5;28mfloat\u001b[39m(config[t][\u001b[38;5;124m\"\u001b[39m\u001b[38;5;124mprob\u001b[39m\u001b[38;5;124m\"\u001b[39m]) \u001b[38;5;241m/\u001b[39m \u001b[38;5;28msum\u001b[39m([\u001b[43mconfig\u001b[49m\u001b[43m[\u001b[49m\u001b[43mt\u001b[49m\u001b[43m]\u001b[49m\u001b[43m[\u001b[49m\u001b[38;5;124;43m\"\u001b[39;49m\u001b[38;5;124;43mprob\u001b[39;49m\u001b[38;5;124;43m\"\u001b[39;49m\u001b[43m]\u001b[49m \u001b[38;5;28;01mfor\u001b[39;00m t \u001b[38;5;129;01min\u001b[39;00m config\u001b[38;5;241m.\u001b[39mkeys()])\n\u001b[0;32m     68\u001b[0m                 \u001b[38;5;28;01mfor\u001b[39;00m t \u001b[38;5;129;01min\u001b[39;00m config\u001b[38;5;241m.\u001b[39mkeys()\n\u001b[0;32m     69\u001b[0m             ]\n\u001b[0;32m     70\u001b[0m         )\n\u001b[0;32m     71\u001b[0m     \u001b[38;5;28;01mreturn\u001b[39;00m config[choice]\n",
      "\u001b[1;31mKeyError\u001b[0m: 'prob'"
     ]
    }
   ],
   "source": [
    "planets = [\n",
    "    objects.celestials.Planet(conf=conf[\"planet_config\"], orbiting=star)\n",
    "    for p in range(int(form[\"num_planets\"]) - 1)\n",
    "]\n",
    "planets"
   ]
  },
  {
   "cell_type": "code",
   "execution_count": 12,
   "metadata": {},
   "outputs": [
    {
     "data": {
      "text/plain": [
       "[<moon: rocky; 1599477100132; Dibergbaspol>,\n",
       " <moon: rocky; 6964251607202; Barron>,\n",
       " <moon: ice; 6673546856014; Bay>,\n",
       " <moon: rocky; 3117677310763; Heim>,\n",
       " <moon: rocky; 2382952889723; Newrezrang>,\n",
       " <moon: rocky; 0196378384557; Quafa>,\n",
       " <moon: rocky; 8250077186631; O>,\n",
       " <moon: ice; 8773555122015; Tosdrohui>,\n",
       " <moon: rocky; 8924559107884; Tal>,\n",
       " <moon: rocky; 6907085549719; Bangnue>]"
      ]
     },
     "execution_count": 12,
     "metadata": {},
     "output_type": "execute_result"
    }
   ],
   "source": [
    "moons = [\n",
    "    objects.celestials.Moon(conf[\"moon_config\"], planets)\n",
    "    for p in range(int(form[\"num_moons\"]))\n",
    "]\n",
    "moons"
   ]
  },
  {
   "attachments": {},
   "cell_type": "markdown",
   "metadata": {},
   "source": [
    "Getting the nodes and edges of each by calling the `self.orbiting` propperty."
   ]
  },
  {
   "cell_type": "code",
   "execution_count": 13,
   "metadata": {},
   "outputs": [
    {
     "data": {
      "text/plain": [
       "<planet: terrestrial; 8814239227413; Ban>"
      ]
     },
     "execution_count": 13,
     "metadata": {},
     "output_type": "execute_result"
    }
   ],
   "source": [
    "moons[0].orbiting"
   ]
  },
  {
   "cell_type": "code",
   "execution_count": 14,
   "metadata": {},
   "outputs": [
    {
     "data": {
      "text/plain": [
       "<star: G; 4645049108359; Senhua>"
      ]
     },
     "execution_count": 14,
     "metadata": {},
     "output_type": "execute_result"
    }
   ],
   "source": [
    "home_planet.orbiting"
   ]
  },
  {
   "attachments": {},
   "cell_type": "markdown",
   "metadata": {},
   "source": [
    "Additionally, you can quickly navigate the system by referencing other objects. "
   ]
  },
  {
   "cell_type": "code",
   "execution_count": 15,
   "metadata": {},
   "outputs": [
    {
     "data": {
      "text/plain": [
       "<system: ordered; 4998076575301; Bersogassha>"
      ]
     },
     "execution_count": 15,
     "metadata": {},
     "output_type": "execute_result"
    }
   ],
   "source": [
    "home_planet.orbiting.system"
   ]
  },
  {
   "attachments": {},
   "cell_type": "markdown",
   "metadata": {},
   "source": [
    "Getting the nodes for the graph. Sandwich all of the items together and get the data using the same generic function."
   ]
  },
  {
   "cell_type": "code",
   "execution_count": 16,
   "metadata": {},
   "outputs": [
    {
     "data": {
      "text/html": [
       "<div>\n",
       "<style scoped>\n",
       "    .dataframe tbody tr th:only-of-type {\n",
       "        vertical-align: middle;\n",
       "    }\n",
       "\n",
       "    .dataframe tbody tr th {\n",
       "        vertical-align: top;\n",
       "    }\n",
       "\n",
       "    .dataframe thead th {\n",
       "        text-align: right;\n",
       "    }\n",
       "</style>\n",
       "<table border=\"1\" class=\"dataframe\">\n",
       "  <thead>\n",
       "    <tr style=\"text-align: right;\">\n",
       "      <th></th>\n",
       "      <th>objid</th>\n",
       "      <th>name</th>\n",
       "      <th>label</th>\n",
       "      <th>class</th>\n",
       "      <th>isHomeSystem</th>\n",
       "      <th>glat</th>\n",
       "      <th>glon</th>\n",
       "      <th>gelat</th>\n",
       "      <th>pop_cap</th>\n",
       "      <th>radius</th>\n",
       "      <th>orbitsId</th>\n",
       "      <th>orbitsName</th>\n",
       "      <th>orbitsDistance</th>\n",
       "      <th>mass</th>\n",
       "      <th>isSupportsLife</th>\n",
       "      <th>isPopulated</th>\n",
       "    </tr>\n",
       "  </thead>\n",
       "  <tbody>\n",
       "    <tr>\n",
       "      <th>0</th>\n",
       "      <td>4998076575301</td>\n",
       "      <td>Bersogassha</td>\n",
       "      <td>system</td>\n",
       "      <td>ordered</td>\n",
       "      <td>True</td>\n",
       "      <td>16.223</td>\n",
       "      <td>32.395</td>\n",
       "      <td>0.132</td>\n",
       "      <td>NaN</td>\n",
       "      <td>NaN</td>\n",
       "      <td>NaN</td>\n",
       "      <td>NaN</td>\n",
       "      <td>NaN</td>\n",
       "      <td>NaN</td>\n",
       "      <td>NaN</td>\n",
       "      <td>NaN</td>\n",
       "    </tr>\n",
       "    <tr>\n",
       "      <th>1</th>\n",
       "      <td>4645049108359</td>\n",
       "      <td>Senhua</td>\n",
       "      <td>star</td>\n",
       "      <td>G</td>\n",
       "      <td>NaN</td>\n",
       "      <td>NaN</td>\n",
       "      <td>NaN</td>\n",
       "      <td>NaN</td>\n",
       "      <td>100.0</td>\n",
       "      <td>106.000000</td>\n",
       "      <td>NaN</td>\n",
       "      <td>NaN</td>\n",
       "      <td>NaN</td>\n",
       "      <td>NaN</td>\n",
       "      <td>NaN</td>\n",
       "      <td>NaN</td>\n",
       "    </tr>\n",
       "    <tr>\n",
       "      <th>2</th>\n",
       "      <td>1599477100132</td>\n",
       "      <td>Dibergbaspol</td>\n",
       "      <td>moon</td>\n",
       "      <td>rocky</td>\n",
       "      <td>NaN</td>\n",
       "      <td>NaN</td>\n",
       "      <td>NaN</td>\n",
       "      <td>NaN</td>\n",
       "      <td>100.0</td>\n",
       "      <td>0.180186</td>\n",
       "      <td>8814239227413</td>\n",
       "      <td>Ban</td>\n",
       "      <td>0.6321</td>\n",
       "      <td>0.000074</td>\n",
       "      <td>False</td>\n",
       "      <td>False</td>\n",
       "    </tr>\n",
       "    <tr>\n",
       "      <th>3</th>\n",
       "      <td>6964251607202</td>\n",
       "      <td>Barron</td>\n",
       "      <td>moon</td>\n",
       "      <td>rocky</td>\n",
       "      <td>NaN</td>\n",
       "      <td>NaN</td>\n",
       "      <td>NaN</td>\n",
       "      <td>NaN</td>\n",
       "      <td>100.0</td>\n",
       "      <td>0.038119</td>\n",
       "      <td>6357378750821</td>\n",
       "      <td>Kesquetro</td>\n",
       "      <td>0.3051</td>\n",
       "      <td>0.000063</td>\n",
       "      <td>False</td>\n",
       "      <td>False</td>\n",
       "    </tr>\n",
       "    <tr>\n",
       "      <th>4</th>\n",
       "      <td>6673546856014</td>\n",
       "      <td>Bay</td>\n",
       "      <td>moon</td>\n",
       "      <td>ice</td>\n",
       "      <td>NaN</td>\n",
       "      <td>NaN</td>\n",
       "      <td>NaN</td>\n",
       "      <td>NaN</td>\n",
       "      <td>100.0</td>\n",
       "      <td>0.014825</td>\n",
       "      <td>6357378750821</td>\n",
       "      <td>Kesquetro</td>\n",
       "      <td>0.4490</td>\n",
       "      <td>0.009125</td>\n",
       "      <td>False</td>\n",
       "      <td>False</td>\n",
       "    </tr>\n",
       "    <tr>\n",
       "      <th>5</th>\n",
       "      <td>3117677310763</td>\n",
       "      <td>Heim</td>\n",
       "      <td>moon</td>\n",
       "      <td>rocky</td>\n",
       "      <td>NaN</td>\n",
       "      <td>NaN</td>\n",
       "      <td>NaN</td>\n",
       "      <td>NaN</td>\n",
       "      <td>100.0</td>\n",
       "      <td>0.121268</td>\n",
       "      <td>8814239227413</td>\n",
       "      <td>Ban</td>\n",
       "      <td>0.8060</td>\n",
       "      <td>0.000467</td>\n",
       "      <td>False</td>\n",
       "      <td>False</td>\n",
       "    </tr>\n",
       "    <tr>\n",
       "      <th>6</th>\n",
       "      <td>2382952889723</td>\n",
       "      <td>Newrezrang</td>\n",
       "      <td>moon</td>\n",
       "      <td>rocky</td>\n",
       "      <td>NaN</td>\n",
       "      <td>NaN</td>\n",
       "      <td>NaN</td>\n",
       "      <td>NaN</td>\n",
       "      <td>100.0</td>\n",
       "      <td>0.008327</td>\n",
       "      <td>5455391951651</td>\n",
       "      <td>Lespon</td>\n",
       "      <td>0.0790</td>\n",
       "      <td>0.000229</td>\n",
       "      <td>False</td>\n",
       "      <td>False</td>\n",
       "    </tr>\n",
       "    <tr>\n",
       "      <th>7</th>\n",
       "      <td>0196378384557</td>\n",
       "      <td>Quafa</td>\n",
       "      <td>moon</td>\n",
       "      <td>rocky</td>\n",
       "      <td>NaN</td>\n",
       "      <td>NaN</td>\n",
       "      <td>NaN</td>\n",
       "      <td>NaN</td>\n",
       "      <td>100.0</td>\n",
       "      <td>0.027566</td>\n",
       "      <td>6357378750821</td>\n",
       "      <td>Kesquetro</td>\n",
       "      <td>0.3051</td>\n",
       "      <td>0.000346</td>\n",
       "      <td>False</td>\n",
       "      <td>False</td>\n",
       "    </tr>\n",
       "    <tr>\n",
       "      <th>8</th>\n",
       "      <td>8250077186631</td>\n",
       "      <td>O</td>\n",
       "      <td>moon</td>\n",
       "      <td>rocky</td>\n",
       "      <td>NaN</td>\n",
       "      <td>NaN</td>\n",
       "      <td>NaN</td>\n",
       "      <td>NaN</td>\n",
       "      <td>100.0</td>\n",
       "      <td>0.085600</td>\n",
       "      <td>6357378750821</td>\n",
       "      <td>Kesquetro</td>\n",
       "      <td>0.3390</td>\n",
       "      <td>0.000254</td>\n",
       "      <td>False</td>\n",
       "      <td>False</td>\n",
       "    </tr>\n",
       "    <tr>\n",
       "      <th>9</th>\n",
       "      <td>8773555122015</td>\n",
       "      <td>Tosdrohui</td>\n",
       "      <td>moon</td>\n",
       "      <td>ice</td>\n",
       "      <td>NaN</td>\n",
       "      <td>NaN</td>\n",
       "      <td>NaN</td>\n",
       "      <td>NaN</td>\n",
       "      <td>100.0</td>\n",
       "      <td>0.016069</td>\n",
       "      <td>8814239227413</td>\n",
       "      <td>Ban</td>\n",
       "      <td>0.6321</td>\n",
       "      <td>0.012649</td>\n",
       "      <td>False</td>\n",
       "      <td>False</td>\n",
       "    </tr>\n",
       "    <tr>\n",
       "      <th>10</th>\n",
       "      <td>8924559107884</td>\n",
       "      <td>Tal</td>\n",
       "      <td>moon</td>\n",
       "      <td>rocky</td>\n",
       "      <td>NaN</td>\n",
       "      <td>NaN</td>\n",
       "      <td>NaN</td>\n",
       "      <td>NaN</td>\n",
       "      <td>100.0</td>\n",
       "      <td>0.068066</td>\n",
       "      <td>8814239227413</td>\n",
       "      <td>Ban</td>\n",
       "      <td>0.6321</td>\n",
       "      <td>0.000676</td>\n",
       "      <td>False</td>\n",
       "      <td>False</td>\n",
       "    </tr>\n",
       "    <tr>\n",
       "      <th>11</th>\n",
       "      <td>6907085549719</td>\n",
       "      <td>Bangnue</td>\n",
       "      <td>moon</td>\n",
       "      <td>rocky</td>\n",
       "      <td>NaN</td>\n",
       "      <td>NaN</td>\n",
       "      <td>NaN</td>\n",
       "      <td>NaN</td>\n",
       "      <td>100.0</td>\n",
       "      <td>0.035497</td>\n",
       "      <td>8814239227413</td>\n",
       "      <td>Ban</td>\n",
       "      <td>0.6321</td>\n",
       "      <td>0.000276</td>\n",
       "      <td>False</td>\n",
       "      <td>False</td>\n",
       "    </tr>\n",
       "    <tr>\n",
       "      <th>12</th>\n",
       "      <td>8814239227413</td>\n",
       "      <td>Ban</td>\n",
       "      <td>planet</td>\n",
       "      <td>terrestrial</td>\n",
       "      <td>NaN</td>\n",
       "      <td>NaN</td>\n",
       "      <td>NaN</td>\n",
       "      <td>NaN</td>\n",
       "      <td>100.0</td>\n",
       "      <td>0.632000</td>\n",
       "      <td>4645049108359</td>\n",
       "      <td>Senhua</td>\n",
       "      <td>0.9530</td>\n",
       "      <td>0.024000</td>\n",
       "      <td>False</td>\n",
       "      <td>False</td>\n",
       "    </tr>\n",
       "    <tr>\n",
       "      <th>13</th>\n",
       "      <td>5455391951651</td>\n",
       "      <td>Lespon</td>\n",
       "      <td>planet</td>\n",
       "      <td>dwarf</td>\n",
       "      <td>NaN</td>\n",
       "      <td>NaN</td>\n",
       "      <td>NaN</td>\n",
       "      <td>NaN</td>\n",
       "      <td>100.0</td>\n",
       "      <td>0.038000</td>\n",
       "      <td>4645049108359</td>\n",
       "      <td>Senhua</td>\n",
       "      <td>44.1420</td>\n",
       "      <td>-0.000000</td>\n",
       "      <td>False</td>\n",
       "      <td>False</td>\n",
       "    </tr>\n",
       "    <tr>\n",
       "      <th>14</th>\n",
       "      <td>6357378750821</td>\n",
       "      <td>Kesquetro</td>\n",
       "      <td>planet</td>\n",
       "      <td>terrestrial</td>\n",
       "      <td>NaN</td>\n",
       "      <td>NaN</td>\n",
       "      <td>NaN</td>\n",
       "      <td>NaN</td>\n",
       "      <td>100.0</td>\n",
       "      <td>0.305000</td>\n",
       "      <td>4645049108359</td>\n",
       "      <td>Senhua</td>\n",
       "      <td>0.7090</td>\n",
       "      <td>1.171000</td>\n",
       "      <td>False</td>\n",
       "      <td>False</td>\n",
       "    </tr>\n",
       "    <tr>\n",
       "      <th>15</th>\n",
       "      <td>7581206629313</td>\n",
       "      <td>Elnin</td>\n",
       "      <td>planet</td>\n",
       "      <td>terrestrial</td>\n",
       "      <td>NaN</td>\n",
       "      <td>NaN</td>\n",
       "      <td>NaN</td>\n",
       "      <td>NaN</td>\n",
       "      <td>100.0</td>\n",
       "      <td>0.777000</td>\n",
       "      <td>4645049108359</td>\n",
       "      <td>Senhua</td>\n",
       "      <td>0.4810</td>\n",
       "      <td>0.112000</td>\n",
       "      <td>False</td>\n",
       "      <td>False</td>\n",
       "    </tr>\n",
       "  </tbody>\n",
       "</table>\n",
       "</div>"
      ],
      "text/plain": [
       "            objid          name   label        class isHomeSystem    glat  \\\n",
       "0   4998076575301   Bersogassha  system      ordered         True  16.223   \n",
       "1   4645049108359        Senhua    star            G          NaN     NaN   \n",
       "2   1599477100132  Dibergbaspol    moon        rocky          NaN     NaN   \n",
       "3   6964251607202        Barron    moon        rocky          NaN     NaN   \n",
       "4   6673546856014           Bay    moon          ice          NaN     NaN   \n",
       "5   3117677310763          Heim    moon        rocky          NaN     NaN   \n",
       "6   2382952889723    Newrezrang    moon        rocky          NaN     NaN   \n",
       "7   0196378384557         Quafa    moon        rocky          NaN     NaN   \n",
       "8   8250077186631             O    moon        rocky          NaN     NaN   \n",
       "9   8773555122015     Tosdrohui    moon          ice          NaN     NaN   \n",
       "10  8924559107884           Tal    moon        rocky          NaN     NaN   \n",
       "11  6907085549719       Bangnue    moon        rocky          NaN     NaN   \n",
       "12  8814239227413           Ban  planet  terrestrial          NaN     NaN   \n",
       "13  5455391951651        Lespon  planet        dwarf          NaN     NaN   \n",
       "14  6357378750821     Kesquetro  planet  terrestrial          NaN     NaN   \n",
       "15  7581206629313         Elnin  planet  terrestrial          NaN     NaN   \n",
       "\n",
       "      glon  gelat  pop_cap      radius       orbitsId orbitsName  \\\n",
       "0   32.395  0.132      NaN         NaN            NaN        NaN   \n",
       "1      NaN    NaN    100.0  106.000000            NaN        NaN   \n",
       "2      NaN    NaN    100.0    0.180186  8814239227413        Ban   \n",
       "3      NaN    NaN    100.0    0.038119  6357378750821  Kesquetro   \n",
       "4      NaN    NaN    100.0    0.014825  6357378750821  Kesquetro   \n",
       "5      NaN    NaN    100.0    0.121268  8814239227413        Ban   \n",
       "6      NaN    NaN    100.0    0.008327  5455391951651     Lespon   \n",
       "7      NaN    NaN    100.0    0.027566  6357378750821  Kesquetro   \n",
       "8      NaN    NaN    100.0    0.085600  6357378750821  Kesquetro   \n",
       "9      NaN    NaN    100.0    0.016069  8814239227413        Ban   \n",
       "10     NaN    NaN    100.0    0.068066  8814239227413        Ban   \n",
       "11     NaN    NaN    100.0    0.035497  8814239227413        Ban   \n",
       "12     NaN    NaN    100.0    0.632000  4645049108359     Senhua   \n",
       "13     NaN    NaN    100.0    0.038000  4645049108359     Senhua   \n",
       "14     NaN    NaN    100.0    0.305000  4645049108359     Senhua   \n",
       "15     NaN    NaN    100.0    0.777000  4645049108359     Senhua   \n",
       "\n",
       "    orbitsDistance      mass isSupportsLife isPopulated  \n",
       "0              NaN       NaN            NaN         NaN  \n",
       "1              NaN       NaN            NaN         NaN  \n",
       "2           0.6321  0.000074          False       False  \n",
       "3           0.3051  0.000063          False       False  \n",
       "4           0.4490  0.009125          False       False  \n",
       "5           0.8060  0.000467          False       False  \n",
       "6           0.0790  0.000229          False       False  \n",
       "7           0.3051  0.000346          False       False  \n",
       "8           0.3390  0.000254          False       False  \n",
       "9           0.6321  0.012649          False       False  \n",
       "10          0.6321  0.000676          False       False  \n",
       "11          0.6321  0.000276          False       False  \n",
       "12          0.9530  0.024000          False       False  \n",
       "13         44.1420 -0.000000          False       False  \n",
       "14          0.7090  1.171000          False       False  \n",
       "15          0.4810  0.112000          False       False  "
      ]
     },
     "execution_count": 16,
     "metadata": {},
     "output_type": "execute_result"
    }
   ],
   "source": [
    "all_entities = [system] + [star] + moons + planets + [home_planet]\n",
    "all_nodes = [b.get_data() for b in all_entities]\n",
    "pd.DataFrame(all_nodes)"
   ]
  },
  {
   "attachments": {},
   "cell_type": "markdown",
   "metadata": {},
   "source": [
    "Getting the edge values to update the graph: "
   ]
  },
  {
   "cell_type": "code",
   "execution_count": 17,
   "metadata": {},
   "outputs": [
    {
     "data": {
      "text/html": [
       "<div>\n",
       "<style scoped>\n",
       "    .dataframe tbody tr th:only-of-type {\n",
       "        vertical-align: middle;\n",
       "    }\n",
       "\n",
       "    .dataframe tbody tr th {\n",
       "        vertical-align: top;\n",
       "    }\n",
       "\n",
       "    .dataframe thead th {\n",
       "        text-align: right;\n",
       "    }\n",
       "</style>\n",
       "<table border=\"1\" class=\"dataframe\">\n",
       "  <thead>\n",
       "    <tr style=\"text-align: right;\">\n",
       "      <th></th>\n",
       "      <th>node1</th>\n",
       "      <th>node2</th>\n",
       "      <th>label</th>\n",
       "      <th>orbit_distance</th>\n",
       "    </tr>\n",
       "  </thead>\n",
       "  <tbody>\n",
       "    <tr>\n",
       "      <th>0</th>\n",
       "      <td>7581206629313</td>\n",
       "      <td>4645049108359</td>\n",
       "      <td>orbits</td>\n",
       "      <td>0.4810</td>\n",
       "    </tr>\n",
       "    <tr>\n",
       "      <th>1</th>\n",
       "      <td>8814239227413</td>\n",
       "      <td>4645049108359</td>\n",
       "      <td>orbits</td>\n",
       "      <td>0.9530</td>\n",
       "    </tr>\n",
       "    <tr>\n",
       "      <th>2</th>\n",
       "      <td>5455391951651</td>\n",
       "      <td>4645049108359</td>\n",
       "      <td>orbits</td>\n",
       "      <td>44.1420</td>\n",
       "    </tr>\n",
       "    <tr>\n",
       "      <th>3</th>\n",
       "      <td>6357378750821</td>\n",
       "      <td>4645049108359</td>\n",
       "      <td>orbits</td>\n",
       "      <td>0.7090</td>\n",
       "    </tr>\n",
       "    <tr>\n",
       "      <th>4</th>\n",
       "      <td>1599477100132</td>\n",
       "      <td>8814239227413</td>\n",
       "      <td>orbits</td>\n",
       "      <td>0.0001</td>\n",
       "    </tr>\n",
       "    <tr>\n",
       "      <th>5</th>\n",
       "      <td>6964251607202</td>\n",
       "      <td>6357378750821</td>\n",
       "      <td>orbits</td>\n",
       "      <td>0.0001</td>\n",
       "    </tr>\n",
       "    <tr>\n",
       "      <th>6</th>\n",
       "      <td>6673546856014</td>\n",
       "      <td>6357378750821</td>\n",
       "      <td>orbits</td>\n",
       "      <td>0.1440</td>\n",
       "    </tr>\n",
       "    <tr>\n",
       "      <th>7</th>\n",
       "      <td>3117677310763</td>\n",
       "      <td>8814239227413</td>\n",
       "      <td>orbits</td>\n",
       "      <td>0.1740</td>\n",
       "    </tr>\n",
       "    <tr>\n",
       "      <th>8</th>\n",
       "      <td>2382952889723</td>\n",
       "      <td>5455391951651</td>\n",
       "      <td>orbits</td>\n",
       "      <td>0.0410</td>\n",
       "    </tr>\n",
       "    <tr>\n",
       "      <th>9</th>\n",
       "      <td>0196378384557</td>\n",
       "      <td>6357378750821</td>\n",
       "      <td>orbits</td>\n",
       "      <td>0.0001</td>\n",
       "    </tr>\n",
       "    <tr>\n",
       "      <th>10</th>\n",
       "      <td>8250077186631</td>\n",
       "      <td>6357378750821</td>\n",
       "      <td>orbits</td>\n",
       "      <td>0.0340</td>\n",
       "    </tr>\n",
       "    <tr>\n",
       "      <th>11</th>\n",
       "      <td>8773555122015</td>\n",
       "      <td>8814239227413</td>\n",
       "      <td>orbits</td>\n",
       "      <td>0.0001</td>\n",
       "    </tr>\n",
       "    <tr>\n",
       "      <th>12</th>\n",
       "      <td>8924559107884</td>\n",
       "      <td>8814239227413</td>\n",
       "      <td>orbits</td>\n",
       "      <td>0.0001</td>\n",
       "    </tr>\n",
       "    <tr>\n",
       "      <th>13</th>\n",
       "      <td>6907085549719</td>\n",
       "      <td>8814239227413</td>\n",
       "      <td>orbits</td>\n",
       "      <td>0.0001</td>\n",
       "    </tr>\n",
       "  </tbody>\n",
       "</table>\n",
       "</div>"
      ],
      "text/plain": [
       "            node1          node2   label  orbit_distance\n",
       "0   7581206629313  4645049108359  orbits          0.4810\n",
       "1   8814239227413  4645049108359  orbits          0.9530\n",
       "2   5455391951651  4645049108359  orbits         44.1420\n",
       "3   6357378750821  4645049108359  orbits          0.7090\n",
       "4   1599477100132  8814239227413  orbits          0.0001\n",
       "5   6964251607202  6357378750821  orbits          0.0001\n",
       "6   6673546856014  6357378750821  orbits          0.1440\n",
       "7   3117677310763  8814239227413  orbits          0.1740\n",
       "8   2382952889723  5455391951651  orbits          0.0410\n",
       "9   0196378384557  6357378750821  orbits          0.0001\n",
       "10  8250077186631  6357378750821  orbits          0.0340\n",
       "11  8773555122015  8814239227413  orbits          0.0001\n",
       "12  8924559107884  8814239227413  orbits          0.0001\n",
       "13  6907085549719  8814239227413  orbits          0.0001"
      ]
     },
     "execution_count": 17,
     "metadata": {},
     "output_type": "execute_result"
    }
   ],
   "source": [
    "orbiting_bodies = [home_planet] + planets + moons\n",
    "\n",
    "orbiting_edges = [i.get_orbits_edge() for i in orbiting_bodies]\n",
    "\n",
    "pd.DataFrame(orbiting_edges)"
   ]
  },
  {
   "cell_type": "code",
   "execution_count": 18,
   "metadata": {},
   "outputs": [
    {
     "data": {
      "text/plain": [
       "True"
      ]
     },
     "execution_count": 18,
     "metadata": {},
     "output_type": "execute_result"
    }
   ],
   "source": [
    "pd.DataFrame(orbiting_edges).groupby([\"node1\", \"node2\"]).count()[\"label\"].mean() == 1"
   ]
  },
  {
   "cell_type": "code",
   "execution_count": 19,
   "metadata": {},
   "outputs": [
    {
     "data": {
      "text/html": [
       "<div>\n",
       "<style scoped>\n",
       "    .dataframe tbody tr th:only-of-type {\n",
       "        vertical-align: middle;\n",
       "    }\n",
       "\n",
       "    .dataframe tbody tr th {\n",
       "        vertical-align: top;\n",
       "    }\n",
       "\n",
       "    .dataframe thead th {\n",
       "        text-align: right;\n",
       "    }\n",
       "</style>\n",
       "<table border=\"1\" class=\"dataframe\">\n",
       "  <thead>\n",
       "    <tr style=\"text-align: right;\">\n",
       "      <th></th>\n",
       "      <th>node1</th>\n",
       "      <th>label</th>\n",
       "      <th>orbit_distance</th>\n",
       "    </tr>\n",
       "    <tr>\n",
       "      <th>node2</th>\n",
       "      <th></th>\n",
       "      <th></th>\n",
       "      <th></th>\n",
       "    </tr>\n",
       "  </thead>\n",
       "  <tbody>\n",
       "    <tr>\n",
       "      <th>4645049108359</th>\n",
       "      <td>4</td>\n",
       "      <td>4</td>\n",
       "      <td>4</td>\n",
       "    </tr>\n",
       "    <tr>\n",
       "      <th>5455391951651</th>\n",
       "      <td>1</td>\n",
       "      <td>1</td>\n",
       "      <td>1</td>\n",
       "    </tr>\n",
       "    <tr>\n",
       "      <th>6357378750821</th>\n",
       "      <td>4</td>\n",
       "      <td>4</td>\n",
       "      <td>4</td>\n",
       "    </tr>\n",
       "    <tr>\n",
       "      <th>8814239227413</th>\n",
       "      <td>5</td>\n",
       "      <td>5</td>\n",
       "      <td>5</td>\n",
       "    </tr>\n",
       "  </tbody>\n",
       "</table>\n",
       "</div>"
      ],
      "text/plain": [
       "               node1  label  orbit_distance\n",
       "node2                                      \n",
       "4645049108359      4      4               4\n",
       "5455391951651      1      1               1\n",
       "6357378750821      4      4               4\n",
       "8814239227413      5      5               5"
      ]
     },
     "execution_count": 19,
     "metadata": {},
     "output_type": "execute_result"
    }
   ],
   "source": [
    "pd.DataFrame(orbiting_edges).groupby([\"node2\"]).count()"
   ]
  },
  {
   "attachments": {},
   "cell_type": "markdown",
   "metadata": {},
   "source": [
    "Check the orbiting logic"
   ]
  },
  {
   "cell_type": "code",
   "execution_count": 20,
   "metadata": {},
   "outputs": [
    {
     "data": {
      "text/plain": [
       "['terrestrial planet orbits a G star',\n",
       " 'terrestrial planet orbits a G star',\n",
       " 'dwarf planet orbits a G star',\n",
       " 'terrestrial planet orbits a G star',\n",
       " 'rocky moon orbits a terrestrial planet',\n",
       " 'rocky moon orbits a terrestrial planet',\n",
       " 'ice moon orbits a terrestrial planet',\n",
       " 'rocky moon orbits a terrestrial planet',\n",
       " 'rocky moon orbits a dwarf planet',\n",
       " 'rocky moon orbits a terrestrial planet',\n",
       " 'rocky moon orbits a terrestrial planet',\n",
       " 'ice moon orbits a terrestrial planet',\n",
       " 'rocky moon orbits a terrestrial planet',\n",
       " 'rocky moon orbits a terrestrial planet']"
      ]
     },
     "execution_count": 20,
     "metadata": {},
     "output_type": "execute_result"
    }
   ],
   "source": [
    "[\n",
    "    f\"{i.type} {i.label} orbits a {i.orbiting.type} {i.orbiting.label}\"\n",
    "    for i in orbiting_bodies\n",
    "]"
   ]
  },
  {
   "cell_type": "code",
   "execution_count": 21,
   "metadata": {},
   "outputs": [
    {
     "data": {
      "text/html": [
       "<div>\n",
       "<style scoped>\n",
       "    .dataframe tbody tr th:only-of-type {\n",
       "        vertical-align: middle;\n",
       "    }\n",
       "\n",
       "    .dataframe tbody tr th {\n",
       "        vertical-align: top;\n",
       "    }\n",
       "\n",
       "    .dataframe thead th {\n",
       "        text-align: right;\n",
       "    }\n",
       "</style>\n",
       "<table border=\"1\" class=\"dataframe\">\n",
       "  <thead>\n",
       "    <tr style=\"text-align: right;\">\n",
       "      <th></th>\n",
       "      <th>node1</th>\n",
       "      <th>node2</th>\n",
       "      <th>label</th>\n",
       "    </tr>\n",
       "  </thead>\n",
       "  <tbody>\n",
       "    <tr>\n",
       "      <th>0</th>\n",
       "      <td>7581206629313</td>\n",
       "      <td>4998076575301</td>\n",
       "      <td>isIn</td>\n",
       "    </tr>\n",
       "    <tr>\n",
       "      <th>1</th>\n",
       "      <td>8814239227413</td>\n",
       "      <td>4998076575301</td>\n",
       "      <td>isIn</td>\n",
       "    </tr>\n",
       "    <tr>\n",
       "      <th>2</th>\n",
       "      <td>5455391951651</td>\n",
       "      <td>4998076575301</td>\n",
       "      <td>isIn</td>\n",
       "    </tr>\n",
       "    <tr>\n",
       "      <th>3</th>\n",
       "      <td>6357378750821</td>\n",
       "      <td>4998076575301</td>\n",
       "      <td>isIn</td>\n",
       "    </tr>\n",
       "    <tr>\n",
       "      <th>4</th>\n",
       "      <td>1599477100132</td>\n",
       "      <td>4998076575301</td>\n",
       "      <td>isIn</td>\n",
       "    </tr>\n",
       "    <tr>\n",
       "      <th>5</th>\n",
       "      <td>6964251607202</td>\n",
       "      <td>4998076575301</td>\n",
       "      <td>isIn</td>\n",
       "    </tr>\n",
       "    <tr>\n",
       "      <th>6</th>\n",
       "      <td>6673546856014</td>\n",
       "      <td>4998076575301</td>\n",
       "      <td>isIn</td>\n",
       "    </tr>\n",
       "    <tr>\n",
       "      <th>7</th>\n",
       "      <td>3117677310763</td>\n",
       "      <td>4998076575301</td>\n",
       "      <td>isIn</td>\n",
       "    </tr>\n",
       "    <tr>\n",
       "      <th>8</th>\n",
       "      <td>2382952889723</td>\n",
       "      <td>4998076575301</td>\n",
       "      <td>isIn</td>\n",
       "    </tr>\n",
       "    <tr>\n",
       "      <th>9</th>\n",
       "      <td>0196378384557</td>\n",
       "      <td>4998076575301</td>\n",
       "      <td>isIn</td>\n",
       "    </tr>\n",
       "    <tr>\n",
       "      <th>10</th>\n",
       "      <td>8250077186631</td>\n",
       "      <td>4998076575301</td>\n",
       "      <td>isIn</td>\n",
       "    </tr>\n",
       "    <tr>\n",
       "      <th>11</th>\n",
       "      <td>8773555122015</td>\n",
       "      <td>4998076575301</td>\n",
       "      <td>isIn</td>\n",
       "    </tr>\n",
       "    <tr>\n",
       "      <th>12</th>\n",
       "      <td>8924559107884</td>\n",
       "      <td>4998076575301</td>\n",
       "      <td>isIn</td>\n",
       "    </tr>\n",
       "    <tr>\n",
       "      <th>13</th>\n",
       "      <td>6907085549719</td>\n",
       "      <td>4998076575301</td>\n",
       "      <td>isIn</td>\n",
       "    </tr>\n",
       "    <tr>\n",
       "      <th>14</th>\n",
       "      <td>4645049108359</td>\n",
       "      <td>4998076575301</td>\n",
       "      <td>isIn</td>\n",
       "    </tr>\n",
       "  </tbody>\n",
       "</table>\n",
       "</div>"
      ],
      "text/plain": [
       "            node1          node2 label\n",
       "0   7581206629313  4998076575301  isIn\n",
       "1   8814239227413  4998076575301  isIn\n",
       "2   5455391951651  4998076575301  isIn\n",
       "3   6357378750821  4998076575301  isIn\n",
       "4   1599477100132  4998076575301  isIn\n",
       "5   6964251607202  4998076575301  isIn\n",
       "6   6673546856014  4998076575301  isIn\n",
       "7   3117677310763  4998076575301  isIn\n",
       "8   2382952889723  4998076575301  isIn\n",
       "9   0196378384557  4998076575301  isIn\n",
       "10  8250077186631  4998076575301  isIn\n",
       "11  8773555122015  4998076575301  isIn\n",
       "12  8924559107884  4998076575301  isIn\n",
       "13  6907085549719  4998076575301  isIn\n",
       "14  4645049108359  4998076575301  isIn"
      ]
     },
     "execution_count": 21,
     "metadata": {},
     "output_type": "execute_result"
    }
   ],
   "source": [
    "system_bodies = orbiting_bodies + [star]\n",
    "\n",
    "system_edges = [i.get_in_system_edge() for i in system_bodies]\n",
    "\n",
    "pd.DataFrame(system_edges)"
   ]
  },
  {
   "attachments": {},
   "cell_type": "markdown",
   "metadata": {},
   "source": [
    "### Scanning the homeworld\n",
    "the homeworld already has some resources known. `scan_body()` is inherited by the base object. So everyone should be able to do it. "
   ]
  },
  {
   "cell_type": "code",
   "execution_count": 25,
   "metadata": {},
   "outputs": [
    {
     "data": {
      "text/plain": [
       "dict_keys(['name', 'count', 'prob', 'mass_mean', 'mass_std', 'radius_mean', 'radius_std', 'distance_min', 'distance_max', 'has_atmosphere', 'resources', 'atmosphere'])"
      ]
     },
     "execution_count": 25,
     "metadata": {},
     "output_type": "execute_result"
    }
   ],
   "source": [
    "home_planet.config.keys()"
   ]
  },
  {
   "cell_type": "code",
   "execution_count": 22,
   "metadata": {},
   "outputs": [
    {
     "data": {
      "text/plain": [
       "[{'Argon': 0.0},\n",
       " {'Carbon Dioxide': 0.095},\n",
       " {'Helium': 0.05},\n",
       " {'Hydrogen': 0.146},\n",
       " {'Methane': 0.003},\n",
       " {'Nitrogen': 0.534},\n",
       " {'Oxygen': 0.109},\n",
       " {'Sodium': 0.063}]"
      ]
     },
     "execution_count": 22,
     "metadata": {},
     "output_type": "execute_result"
    }
   ],
   "source": [
    "home_planet.scan_body()\n",
    "home_planet.atmosphere"
   ]
  },
  {
   "cell_type": "code",
   "execution_count": 23,
   "metadata": {},
   "outputs": [
    {
     "data": {
      "text/plain": [
       "{'name': 'Elnin',\n",
       " 'class': 'terrestrial',\n",
       " 'objid': '7581206629313',\n",
       " 'label': 'planet',\n",
       " 'pop_cap': 100,\n",
       " 'atmosphere': [{'Argon': 0.0},\n",
       "  {'Carbon Dioxide': 0.095},\n",
       "  {'Helium': 0.05},\n",
       "  {'Hydrogen': 0.146},\n",
       "  {'Methane': 0.003},\n",
       "  {'Nitrogen': 0.534},\n",
       "  {'Oxygen': 0.109},\n",
       "  {'Sodium': 0.063}],\n",
       " 'radius': 0.777,\n",
       " 'mass': 0.112,\n",
       " 'orbitsDistance': 0.481,\n",
       " 'orbitsId': '4645049108359',\n",
       " 'orbitsName': 'Senhua',\n",
       " 'isSupportsLife': False,\n",
       " 'isPopulated': False}"
      ]
     },
     "execution_count": 23,
     "metadata": {},
     "output_type": "execute_result"
    }
   ],
   "source": [
    "home_planet.get_data()"
   ]
  },
  {
   "cell_type": "code",
   "execution_count": 24,
   "metadata": {},
   "outputs": [
    {
     "data": {
      "text/plain": [
       "[<resource: 8048320740756; organics>,\n",
       " <resource: 9368440053161; common minerals>,\n",
       " <resource: 8891873981597; rare minerals>,\n",
       " <resource: 6360666896066; water>]"
      ]
     },
     "execution_count": 24,
     "metadata": {},
     "output_type": "execute_result"
    }
   ],
   "source": [
    "home_planet.resources"
   ]
  },
  {
   "cell_type": "code",
   "execution_count": 26,
   "metadata": {},
   "outputs": [
    {
     "data": {
      "text/html": [
       "<div>\n",
       "<style scoped>\n",
       "    .dataframe tbody tr th:only-of-type {\n",
       "        vertical-align: middle;\n",
       "    }\n",
       "\n",
       "    .dataframe tbody tr th {\n",
       "        vertical-align: top;\n",
       "    }\n",
       "\n",
       "    .dataframe thead th {\n",
       "        text-align: right;\n",
       "    }\n",
       "</style>\n",
       "<table border=\"1\" class=\"dataframe\">\n",
       "  <thead>\n",
       "    <tr style=\"text-align: right;\">\n",
       "      <th></th>\n",
       "      <th>name</th>\n",
       "      <th>objid</th>\n",
       "      <th>label</th>\n",
       "      <th>volume</th>\n",
       "      <th>max_volume</th>\n",
       "      <th>description</th>\n",
       "      <th>replenish_rate</th>\n",
       "    </tr>\n",
       "  </thead>\n",
       "  <tbody>\n",
       "    <tr>\n",
       "      <th>0</th>\n",
       "      <td>organics</td>\n",
       "      <td>4922300816520</td>\n",
       "      <td>resource</td>\n",
       "      <td>976</td>\n",
       "      <td>976</td>\n",
       "      <td>bilogical material that can be consumed by pops</td>\n",
       "      <td>10.0</td>\n",
       "    </tr>\n",
       "    <tr>\n",
       "      <th>1</th>\n",
       "      <td>common minerals</td>\n",
       "      <td>7687415333659</td>\n",
       "      <td>resource</td>\n",
       "      <td>115</td>\n",
       "      <td>115</td>\n",
       "      <td>Iron and other common material used in constru...</td>\n",
       "      <td>NaN</td>\n",
       "    </tr>\n",
       "    <tr>\n",
       "      <th>2</th>\n",
       "      <td>rare minerals</td>\n",
       "      <td>3694306733951</td>\n",
       "      <td>resource</td>\n",
       "      <td>50</td>\n",
       "      <td>50</td>\n",
       "      <td>lithium, silver and other rare minerals used i...</td>\n",
       "      <td>NaN</td>\n",
       "    </tr>\n",
       "    <tr>\n",
       "      <th>3</th>\n",
       "      <td>water</td>\n",
       "      <td>9210630543932</td>\n",
       "      <td>resource</td>\n",
       "      <td>10160</td>\n",
       "      <td>10160</td>\n",
       "      <td>H2O ready to be consumed, either frozen or in ...</td>\n",
       "      <td>NaN</td>\n",
       "    </tr>\n",
       "  </tbody>\n",
       "</table>\n",
       "</div>"
      ],
      "text/plain": [
       "              name          objid     label  volume  max_volume  \\\n",
       "0         organics  4922300816520  resource     976         976   \n",
       "1  common minerals  7687415333659  resource     115         115   \n",
       "2    rare minerals  3694306733951  resource      50          50   \n",
       "3            water  9210630543932  resource   10160       10160   \n",
       "\n",
       "                                         description  replenish_rate  \n",
       "0    bilogical material that can be consumed by pops            10.0  \n",
       "1  Iron and other common material used in constru...             NaN  \n",
       "2  lithium, silver and other rare minerals used i...             NaN  \n",
       "3  H2O ready to be consumed, either frozen or in ...             NaN  "
      ]
     },
     "execution_count": 26,
     "metadata": {},
     "output_type": "execute_result"
    }
   ],
   "source": [
    "pd.DataFrame([i.get_data() for i in home_planet.resources])"
   ]
  },
  {
   "cell_type": "code",
   "execution_count": 27,
   "metadata": {},
   "outputs": [
    {
     "data": {
      "text/html": [
       "<div>\n",
       "<style scoped>\n",
       "    .dataframe tbody tr th:only-of-type {\n",
       "        vertical-align: middle;\n",
       "    }\n",
       "\n",
       "    .dataframe tbody tr th {\n",
       "        vertical-align: top;\n",
       "    }\n",
       "\n",
       "    .dataframe thead th {\n",
       "        text-align: right;\n",
       "    }\n",
       "</style>\n",
       "<table border=\"1\" class=\"dataframe\">\n",
       "  <thead>\n",
       "    <tr style=\"text-align: right;\">\n",
       "      <th></th>\n",
       "      <th>node1</th>\n",
       "      <th>node2</th>\n",
       "      <th>label</th>\n",
       "    </tr>\n",
       "  </thead>\n",
       "  <tbody>\n",
       "    <tr>\n",
       "      <th>0</th>\n",
       "      <td>5237515590885</td>\n",
       "      <td>4922300816520</td>\n",
       "      <td>has</td>\n",
       "    </tr>\n",
       "    <tr>\n",
       "      <th>1</th>\n",
       "      <td>5237515590885</td>\n",
       "      <td>7687415333659</td>\n",
       "      <td>has</td>\n",
       "    </tr>\n",
       "    <tr>\n",
       "      <th>2</th>\n",
       "      <td>5237515590885</td>\n",
       "      <td>3694306733951</td>\n",
       "      <td>has</td>\n",
       "    </tr>\n",
       "    <tr>\n",
       "      <th>3</th>\n",
       "      <td>5237515590885</td>\n",
       "      <td>9210630543932</td>\n",
       "      <td>has</td>\n",
       "    </tr>\n",
       "  </tbody>\n",
       "</table>\n",
       "</div>"
      ],
      "text/plain": [
       "           node1          node2 label\n",
       "0  5237515590885  4922300816520   has\n",
       "1  5237515590885  7687415333659   has\n",
       "2  5237515590885  3694306733951   has\n",
       "3  5237515590885  9210630543932   has"
      ]
     },
     "execution_count": 27,
     "metadata": {},
     "output_type": "execute_result"
    }
   ],
   "source": [
    "pd.DataFrame([i.get_location_edge() for i in home_planet.resources])"
   ]
  },
  {
   "cell_type": "code",
   "execution_count": 28,
   "metadata": {},
   "outputs": [
    {
     "data": {
      "text/plain": [
       "['terrestrial planet has 976 organics',\n",
       " 'terrestrial planet has 115 common minerals',\n",
       " 'terrestrial planet has 50 rare minerals',\n",
       " 'terrestrial planet has 10160 water']"
      ]
     },
     "execution_count": 28,
     "metadata": {},
     "output_type": "execute_result"
    }
   ],
   "source": [
    "[\n",
    "    f\"{i.location.type} {i.location.label} has {i.volume} {i.name}\"\n",
    "    for i in home_planet.resources\n",
    "]"
   ]
  }
 ],
 "metadata": {
  "kernelspec": {
   "display_name": "exoplanets",
   "language": "python",
   "name": "python3"
  },
  "language_info": {
   "codemirror_mode": {
    "name": "ipython",
    "version": 3
   },
   "file_extension": ".py",
   "mimetype": "text/x-python",
   "name": "python",
   "nbconvert_exporter": "python",
   "pygments_lexer": "ipython3",
   "version": "3.8.16"
  },
  "orig_nbformat": 4
 },
 "nbformat": 4,
 "nbformat_minor": 2
}
