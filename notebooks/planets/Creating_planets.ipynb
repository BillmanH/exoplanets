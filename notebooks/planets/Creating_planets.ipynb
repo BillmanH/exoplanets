{
 "cells": [
  {
   "attachments": {},
   "cell_type": "markdown",
   "metadata": {},
   "source": [
    "# The Genesis process\n",
    "\n",
    "Creating a new game requires the creation of a system and planets, factions and people.\n",
    "\n",
    "This notebook tests that process as well as documents it. This notebook tests several attributes of the generation process to ensure that the code is sound. "
   ]
  },
  {
   "cell_type": "code",
   "execution_count": 1,
   "metadata": {},
   "outputs": [],
   "source": [
    "import numpy as np\n",
    "import pandas as pd\n",
    "\n",
    "import sys, os, yaml, ssl, asyncio\n",
    "import altair as alt\n",
    "\n",
    "# mapping to the modules that make the app\n",
    "sys.path.insert(0, \"../..\")\n"
   ]
  },
  {
   "cell_type": "code",
   "execution_count": 2,
   "metadata": {},
   "outputs": [],
   "source": [
    "from app import creators\n",
    "from app import objects"
   ]
  },
  {
   "cell_type": "code",
   "execution_count": 3,
   "metadata": {},
   "outputs": [],
   "source": [
    "from app.creators import homeworld\n",
    "from app.creators import universe"
   ]
  },
  {
   "attachments": {},
   "cell_type": "markdown",
   "metadata": {},
   "source": [
    "An example `data` set for testing. This is the user form that the user submits when creating a new game. \n",
    "\n",
    "You can get this from the template at `app\\templates\\app\\creation\\genesis.js`\n"
   ]
  },
  {
   "cell_type": "code",
   "execution_count": 4,
   "metadata": {},
   "outputs": [],
   "source": [
    "form = {\n",
    "    \"accountid\": \"3025284578519\",\n",
    "    \"aggression\": 0.5,\n",
    "    \"conformity\": 0.5,\n",
    "    \"constitution\": 0.5,\n",
    "    \"consumes\": \"organics\",\n",
    "    \"effuses\": \"organic waste,plastics\",\n",
    "    \"label\": \"form\",\n",
    "    \"literacy\": 0.5,\n",
    "    \"minerals\": 0.5,\n",
    "    \"name\": \"worldgenform\",\n",
    "    \"num_moons\": 10,\n",
    "    \"num_planets\": 4,\n",
    "    \"objid\": 300882390249,\n",
    "    \"organics\": 0.5,\n",
    "    \"owner\": \"William Harding\",\n",
    "    \"starting_pop\": 7,\n",
    "    \"userguid\": \"8d5b667f-b225-4641-b499-73b77558ff86\",\n",
    "    \"username\": \"William Harding\"\n",
    "}\n",
    "\n",
    "userguid = form[\"userguid\"]"
   ]
  },
  {
   "attachments": {},
   "cell_type": "markdown",
   "metadata": {},
   "source": [
    "You'll also need to configuration files."
   ]
  },
  {
   "cell_type": "code",
   "execution_count": 5,
   "metadata": {},
   "outputs": [],
   "source": [
    "conf = creators.universe.configurations.get_configurations()"
   ]
  },
  {
   "attachments": {},
   "cell_type": "markdown",
   "metadata": {},
   "source": [
    "Each object as an `__init__` function that creates it, however not all data is spawed on init. "
   ]
  },
  {
   "attachments": {},
   "cell_type": "markdown",
   "metadata": {},
   "source": [
    "## The Solar System and Planets"
   ]
  },
  {
   "cell_type": "code",
   "execution_count": 6,
   "metadata": {},
   "outputs": [
    {
     "data": {
      "text/plain": [
       "<system: ordered; 3478695812083; Huage>"
      ]
     },
     "execution_count": 6,
     "metadata": {},
     "output_type": "execute_result"
    }
   ],
   "source": [
    "system = universe.celestials.System(form)\n",
    "system"
   ]
  },
  {
   "cell_type": "code",
   "execution_count": 7,
   "metadata": {},
   "outputs": [
    {
     "data": {
      "text/plain": [
       "{'objid': '3478695812083',\n",
       " 'name': 'Huage',\n",
       " 'label': 'system',\n",
       " 'class': 'ordered',\n",
       " 'isHomeSystem': True,\n",
       " 'glat': 44.604,\n",
       " 'glon': -10.665,\n",
       " 'gelat': -3.15}"
      ]
     },
     "execution_count": 7,
     "metadata": {},
     "output_type": "execute_result"
    }
   ],
   "source": [
    "system.get_data()"
   ]
  },
  {
   "attachments": {},
   "cell_type": "markdown",
   "metadata": {},
   "source": [
    "Each object as an `__init__` function that creates it, and populates it with data available at that time. Celestial objects have dependancies on other objects. "
   ]
  },
  {
   "cell_type": "code",
   "execution_count": 8,
   "metadata": {},
   "outputs": [
    {
     "data": {
      "text/plain": [
       "{'name': 'Par',\n",
       " 'class': 'G',\n",
       " 'objid': '2614382718954',\n",
       " 'label': 'star',\n",
       " 'radius': 106}"
      ]
     },
     "execution_count": 8,
     "metadata": {},
     "output_type": "execute_result"
    }
   ],
   "source": [
    "star = objects.celestials.Star(conf[\"star_config\"], system)\n",
    "star.get_data()"
   ]
  },
  {
   "attachments": {},
   "cell_type": "markdown",
   "metadata": {},
   "source": [
    "Each object also inherits a `get_fundamentals()` method that ensures that needed default values are present. `get_data()` extends that functionality. This ensures that objects can alwasy interact with the graph. "
   ]
  },
  {
   "cell_type": "code",
   "execution_count": 9,
   "metadata": {},
   "outputs": [
    {
     "data": {
      "text/plain": [
       "{'name': 'Par', 'class': 'G', 'objid': '2614382718954', 'label': 'star'}"
      ]
     },
     "execution_count": 9,
     "metadata": {},
     "output_type": "execute_result"
    }
   ],
   "source": [
    "star.get_fundimentals()"
   ]
  },
  {
   "attachments": {},
   "cell_type": "markdown",
   "metadata": {},
   "source": [
    "Procedurally generated planets chose from a list of potential types in the `conf`. To force a particular kind of outcome, reduce the options in the configuration. "
   ]
  },
  {
   "cell_type": "code",
   "execution_count": 10,
   "metadata": {},
   "outputs": [
    {
     "data": {
      "text/plain": [
       "{'name': 'Bhamoganj',\n",
       " 'class': 'terrestrial',\n",
       " 'objid': '5237515590885',\n",
       " 'label': 'planet',\n",
       " 'radius': 0.496,\n",
       " 'mass': 0,\n",
       " 'orbitsDistance': 1.108,\n",
       " 'orbitsId': '2614382718954',\n",
       " 'orbitsName': 'Par',\n",
       " 'isSupportsLife': False,\n",
       " 'isPopulated': False}"
      ]
     },
     "execution_count": 10,
     "metadata": {},
     "output_type": "execute_result"
    }
   ],
   "source": [
    "terrestrial_config = {\"terrestrial\": conf[\"planet_config\"][\"terrestrial\"]}\n",
    "home_planet = objects.celestials.Planet(conf=terrestrial_config, orbiting=star)\n",
    "home_planet.get_data()"
   ]
  },
  {
   "attachments": {},
   "cell_type": "markdown",
   "metadata": {},
   "source": [
    "Creating a group of planets using list comprehension. Note that celestial objects have a custom `__repr__` function that makes them easy to manage."
   ]
  },
  {
   "cell_type": "code",
   "execution_count": 11,
   "metadata": {},
   "outputs": [
    {
     "data": {
      "text/plain": [
       "[<planet: dwarf; 8334033562884; Hymo>,\n",
       " <planet: dwarf; 9613914945085; Zihi>,\n",
       " <planet: terrestrial; 1001361712615; Otu>]"
      ]
     },
     "execution_count": 11,
     "metadata": {},
     "output_type": "execute_result"
    }
   ],
   "source": [
    "planets = [\n",
    "    objects.celestials.Planet(conf=conf[\"planet_config\"], orbiting=star)\n",
    "    for p in range(int(form[\"num_planets\"]) - 1)\n",
    "]\n",
    "planets"
   ]
  },
  {
   "cell_type": "code",
   "execution_count": 12,
   "metadata": {},
   "outputs": [
    {
     "data": {
      "text/plain": [
       "[<moon: terrestrial; 0102295433743; Uwe>,\n",
       " <moon: rocky; 9054424676045; Mau>,\n",
       " <moon: ice; 9121662875625; Monmilherdo>,\n",
       " <moon: rocky; 3307258450819; Iscu>,\n",
       " <moon: rocky; 5819631318974; Walhor>,\n",
       " <moon: terrestrial; 5246684363916; Ciaharnew>,\n",
       " <moon: rocky; 5257102396718; Ferhradong>,\n",
       " <moon: rocky; 8853385327178; Jobonsel>,\n",
       " <moon: rocky; 6229017292868; Plavil>,\n",
       " <moon: terrestrial; 6196905957740; Vilamchanru>]"
      ]
     },
     "execution_count": 12,
     "metadata": {},
     "output_type": "execute_result"
    }
   ],
   "source": [
    "moons = [\n",
    "    objects.celestials.Moon(conf[\"moon_config\"], planets)\n",
    "    for p in range(int(form[\"num_moons\"]))\n",
    "]\n",
    "moons"
   ]
  },
  {
   "attachments": {},
   "cell_type": "markdown",
   "metadata": {},
   "source": [
    "Getting the nodes and edges of each by calling the `self.orbiting` propperty."
   ]
  },
  {
   "cell_type": "code",
   "execution_count": 13,
   "metadata": {},
   "outputs": [
    {
     "data": {
      "text/plain": [
       "<planet: dwarf; 8334033562884; Hymo>"
      ]
     },
     "execution_count": 13,
     "metadata": {},
     "output_type": "execute_result"
    }
   ],
   "source": [
    "moons[0].orbiting"
   ]
  },
  {
   "cell_type": "code",
   "execution_count": 14,
   "metadata": {},
   "outputs": [
    {
     "data": {
      "text/plain": [
       "<star: G; 2614382718954; Par>"
      ]
     },
     "execution_count": 14,
     "metadata": {},
     "output_type": "execute_result"
    }
   ],
   "source": [
    "home_planet.orbiting"
   ]
  },
  {
   "attachments": {},
   "cell_type": "markdown",
   "metadata": {},
   "source": [
    "Additionally, you can quickly navigate the system by referencing other objects. "
   ]
  },
  {
   "cell_type": "code",
   "execution_count": 15,
   "metadata": {},
   "outputs": [
    {
     "data": {
      "text/plain": [
       "<system: ordered; 3478695812083; Huage>"
      ]
     },
     "execution_count": 15,
     "metadata": {},
     "output_type": "execute_result"
    }
   ],
   "source": [
    "home_planet.orbiting.system"
   ]
  },
  {
   "attachments": {},
   "cell_type": "markdown",
   "metadata": {},
   "source": [
    "Getting the nodes for the graph. Sandwich all of the items together and get the data using the same generic function."
   ]
  },
  {
   "cell_type": "code",
   "execution_count": 16,
   "metadata": {},
   "outputs": [
    {
     "data": {
      "text/html": [
       "<div>\n",
       "<style scoped>\n",
       "    .dataframe tbody tr th:only-of-type {\n",
       "        vertical-align: middle;\n",
       "    }\n",
       "\n",
       "    .dataframe tbody tr th {\n",
       "        vertical-align: top;\n",
       "    }\n",
       "\n",
       "    .dataframe thead th {\n",
       "        text-align: right;\n",
       "    }\n",
       "</style>\n",
       "<table border=\"1\" class=\"dataframe\">\n",
       "  <thead>\n",
       "    <tr style=\"text-align: right;\">\n",
       "      <th></th>\n",
       "      <th>objid</th>\n",
       "      <th>name</th>\n",
       "      <th>label</th>\n",
       "      <th>class</th>\n",
       "      <th>isHomeSystem</th>\n",
       "      <th>glat</th>\n",
       "      <th>glon</th>\n",
       "      <th>gelat</th>\n",
       "      <th>radius</th>\n",
       "      <th>orbitsId</th>\n",
       "      <th>orbitsName</th>\n",
       "      <th>orbitsDistance</th>\n",
       "      <th>mass</th>\n",
       "      <th>isSupportsLife</th>\n",
       "      <th>isPopulated</th>\n",
       "    </tr>\n",
       "  </thead>\n",
       "  <tbody>\n",
       "    <tr>\n",
       "      <th>0</th>\n",
       "      <td>3478695812083</td>\n",
       "      <td>Huage</td>\n",
       "      <td>system</td>\n",
       "      <td>ordered</td>\n",
       "      <td>True</td>\n",
       "      <td>44.604</td>\n",
       "      <td>-10.665</td>\n",
       "      <td>-3.15</td>\n",
       "      <td>NaN</td>\n",
       "      <td>NaN</td>\n",
       "      <td>NaN</td>\n",
       "      <td>NaN</td>\n",
       "      <td>NaN</td>\n",
       "      <td>NaN</td>\n",
       "      <td>NaN</td>\n",
       "    </tr>\n",
       "    <tr>\n",
       "      <th>1</th>\n",
       "      <td>2614382718954</td>\n",
       "      <td>Par</td>\n",
       "      <td>star</td>\n",
       "      <td>G</td>\n",
       "      <td>NaN</td>\n",
       "      <td>NaN</td>\n",
       "      <td>NaN</td>\n",
       "      <td>NaN</td>\n",
       "      <td>106.000000</td>\n",
       "      <td>NaN</td>\n",
       "      <td>NaN</td>\n",
       "      <td>NaN</td>\n",
       "      <td>NaN</td>\n",
       "      <td>NaN</td>\n",
       "      <td>NaN</td>\n",
       "    </tr>\n",
       "    <tr>\n",
       "      <th>2</th>\n",
       "      <td>0102295433743</td>\n",
       "      <td>Uwe</td>\n",
       "      <td>moon</td>\n",
       "      <td>terrestrial</td>\n",
       "      <td>NaN</td>\n",
       "      <td>NaN</td>\n",
       "      <td>NaN</td>\n",
       "      <td>NaN</td>\n",
       "      <td>0.010545</td>\n",
       "      <td>8334033562884</td>\n",
       "      <td>Hymo</td>\n",
       "      <td>0.1281</td>\n",
       "      <td>0.005550</td>\n",
       "      <td>False</td>\n",
       "      <td>False</td>\n",
       "    </tr>\n",
       "    <tr>\n",
       "      <th>3</th>\n",
       "      <td>9054424676045</td>\n",
       "      <td>Mau</td>\n",
       "      <td>moon</td>\n",
       "      <td>rocky</td>\n",
       "      <td>NaN</td>\n",
       "      <td>NaN</td>\n",
       "      <td>NaN</td>\n",
       "      <td>NaN</td>\n",
       "      <td>0.002499</td>\n",
       "      <td>8334033562884</td>\n",
       "      <td>Hymo</td>\n",
       "      <td>0.2080</td>\n",
       "      <td>0.000568</td>\n",
       "      <td>False</td>\n",
       "      <td>False</td>\n",
       "    </tr>\n",
       "    <tr>\n",
       "      <th>4</th>\n",
       "      <td>9121662875625</td>\n",
       "      <td>Monmilherdo</td>\n",
       "      <td>moon</td>\n",
       "      <td>ice</td>\n",
       "      <td>NaN</td>\n",
       "      <td>NaN</td>\n",
       "      <td>NaN</td>\n",
       "      <td>NaN</td>\n",
       "      <td>0.005072</td>\n",
       "      <td>8334033562884</td>\n",
       "      <td>Hymo</td>\n",
       "      <td>0.1610</td>\n",
       "      <td>0.008329</td>\n",
       "      <td>False</td>\n",
       "      <td>False</td>\n",
       "    </tr>\n",
       "    <tr>\n",
       "      <th>5</th>\n",
       "      <td>3307258450819</td>\n",
       "      <td>Iscu</td>\n",
       "      <td>moon</td>\n",
       "      <td>rocky</td>\n",
       "      <td>NaN</td>\n",
       "      <td>NaN</td>\n",
       "      <td>NaN</td>\n",
       "      <td>NaN</td>\n",
       "      <td>0.103548</td>\n",
       "      <td>1001361712615</td>\n",
       "      <td>Otu</td>\n",
       "      <td>0.3810</td>\n",
       "      <td>0.000480</td>\n",
       "      <td>False</td>\n",
       "      <td>False</td>\n",
       "    </tr>\n",
       "    <tr>\n",
       "      <th>6</th>\n",
       "      <td>5819631318974</td>\n",
       "      <td>Walhor</td>\n",
       "      <td>moon</td>\n",
       "      <td>rocky</td>\n",
       "      <td>NaN</td>\n",
       "      <td>NaN</td>\n",
       "      <td>NaN</td>\n",
       "      <td>NaN</td>\n",
       "      <td>0.064227</td>\n",
       "      <td>1001361712615</td>\n",
       "      <td>Otu</td>\n",
       "      <td>0.3611</td>\n",
       "      <td>0.000566</td>\n",
       "      <td>False</td>\n",
       "      <td>False</td>\n",
       "    </tr>\n",
       "    <tr>\n",
       "      <th>7</th>\n",
       "      <td>5246684363916</td>\n",
       "      <td>Ciaharnew</td>\n",
       "      <td>moon</td>\n",
       "      <td>terrestrial</td>\n",
       "      <td>NaN</td>\n",
       "      <td>NaN</td>\n",
       "      <td>NaN</td>\n",
       "      <td>NaN</td>\n",
       "      <td>0.038673</td>\n",
       "      <td>8334033562884</td>\n",
       "      <td>Hymo</td>\n",
       "      <td>0.2010</td>\n",
       "      <td>0.008815</td>\n",
       "      <td>False</td>\n",
       "      <td>False</td>\n",
       "    </tr>\n",
       "    <tr>\n",
       "      <th>8</th>\n",
       "      <td>5257102396718</td>\n",
       "      <td>Ferhradong</td>\n",
       "      <td>moon</td>\n",
       "      <td>rocky</td>\n",
       "      <td>NaN</td>\n",
       "      <td>NaN</td>\n",
       "      <td>NaN</td>\n",
       "      <td>NaN</td>\n",
       "      <td>0.080800</td>\n",
       "      <td>1001361712615</td>\n",
       "      <td>Otu</td>\n",
       "      <td>0.3611</td>\n",
       "      <td>0.000467</td>\n",
       "      <td>False</td>\n",
       "      <td>False</td>\n",
       "    </tr>\n",
       "    <tr>\n",
       "      <th>9</th>\n",
       "      <td>8853385327178</td>\n",
       "      <td>Jobonsel</td>\n",
       "      <td>moon</td>\n",
       "      <td>rocky</td>\n",
       "      <td>NaN</td>\n",
       "      <td>NaN</td>\n",
       "      <td>NaN</td>\n",
       "      <td>NaN</td>\n",
       "      <td>0.008812</td>\n",
       "      <td>8334033562884</td>\n",
       "      <td>Hymo</td>\n",
       "      <td>0.1281</td>\n",
       "      <td>0.000439</td>\n",
       "      <td>False</td>\n",
       "      <td>False</td>\n",
       "    </tr>\n",
       "    <tr>\n",
       "      <th>10</th>\n",
       "      <td>6229017292868</td>\n",
       "      <td>Plavil</td>\n",
       "      <td>moon</td>\n",
       "      <td>rocky</td>\n",
       "      <td>NaN</td>\n",
       "      <td>NaN</td>\n",
       "      <td>NaN</td>\n",
       "      <td>NaN</td>\n",
       "      <td>0.011427</td>\n",
       "      <td>9613914945085</td>\n",
       "      <td>Zihi</td>\n",
       "      <td>0.0271</td>\n",
       "      <td>0.000074</td>\n",
       "      <td>False</td>\n",
       "      <td>False</td>\n",
       "    </tr>\n",
       "    <tr>\n",
       "      <th>11</th>\n",
       "      <td>6196905957740</td>\n",
       "      <td>Vilamchanru</td>\n",
       "      <td>moon</td>\n",
       "      <td>terrestrial</td>\n",
       "      <td>NaN</td>\n",
       "      <td>NaN</td>\n",
       "      <td>NaN</td>\n",
       "      <td>NaN</td>\n",
       "      <td>0.005009</td>\n",
       "      <td>8334033562884</td>\n",
       "      <td>Hymo</td>\n",
       "      <td>0.1281</td>\n",
       "      <td>0.024670</td>\n",
       "      <td>False</td>\n",
       "      <td>False</td>\n",
       "    </tr>\n",
       "    <tr>\n",
       "      <th>12</th>\n",
       "      <td>8334033562884</td>\n",
       "      <td>Hymo</td>\n",
       "      <td>planet</td>\n",
       "      <td>dwarf</td>\n",
       "      <td>NaN</td>\n",
       "      <td>NaN</td>\n",
       "      <td>NaN</td>\n",
       "      <td>NaN</td>\n",
       "      <td>0.128000</td>\n",
       "      <td>2614382718954</td>\n",
       "      <td>Par</td>\n",
       "      <td>39.1610</td>\n",
       "      <td>0.002000</td>\n",
       "      <td>False</td>\n",
       "      <td>False</td>\n",
       "    </tr>\n",
       "    <tr>\n",
       "      <th>13</th>\n",
       "      <td>9613914945085</td>\n",
       "      <td>Zihi</td>\n",
       "      <td>planet</td>\n",
       "      <td>dwarf</td>\n",
       "      <td>NaN</td>\n",
       "      <td>NaN</td>\n",
       "      <td>NaN</td>\n",
       "      <td>NaN</td>\n",
       "      <td>0.027000</td>\n",
       "      <td>2614382718954</td>\n",
       "      <td>Par</td>\n",
       "      <td>40.4240</td>\n",
       "      <td>0.001000</td>\n",
       "      <td>False</td>\n",
       "      <td>False</td>\n",
       "    </tr>\n",
       "    <tr>\n",
       "      <th>14</th>\n",
       "      <td>1001361712615</td>\n",
       "      <td>Otu</td>\n",
       "      <td>planet</td>\n",
       "      <td>terrestrial</td>\n",
       "      <td>NaN</td>\n",
       "      <td>NaN</td>\n",
       "      <td>NaN</td>\n",
       "      <td>NaN</td>\n",
       "      <td>0.361000</td>\n",
       "      <td>2614382718954</td>\n",
       "      <td>Par</td>\n",
       "      <td>1.1210</td>\n",
       "      <td>0.933000</td>\n",
       "      <td>False</td>\n",
       "      <td>False</td>\n",
       "    </tr>\n",
       "    <tr>\n",
       "      <th>15</th>\n",
       "      <td>5237515590885</td>\n",
       "      <td>Bhamoganj</td>\n",
       "      <td>planet</td>\n",
       "      <td>terrestrial</td>\n",
       "      <td>NaN</td>\n",
       "      <td>NaN</td>\n",
       "      <td>NaN</td>\n",
       "      <td>NaN</td>\n",
       "      <td>0.496000</td>\n",
       "      <td>2614382718954</td>\n",
       "      <td>Par</td>\n",
       "      <td>1.1080</td>\n",
       "      <td>0.000000</td>\n",
       "      <td>False</td>\n",
       "      <td>False</td>\n",
       "    </tr>\n",
       "  </tbody>\n",
       "</table>\n",
       "</div>"
      ],
      "text/plain": [
       "            objid         name   label        class isHomeSystem    glat  \\\n",
       "0   3478695812083        Huage  system      ordered         True  44.604   \n",
       "1   2614382718954          Par    star            G          NaN     NaN   \n",
       "2   0102295433743          Uwe    moon  terrestrial          NaN     NaN   \n",
       "3   9054424676045          Mau    moon        rocky          NaN     NaN   \n",
       "4   9121662875625  Monmilherdo    moon          ice          NaN     NaN   \n",
       "5   3307258450819         Iscu    moon        rocky          NaN     NaN   \n",
       "6   5819631318974       Walhor    moon        rocky          NaN     NaN   \n",
       "7   5246684363916    Ciaharnew    moon  terrestrial          NaN     NaN   \n",
       "8   5257102396718   Ferhradong    moon        rocky          NaN     NaN   \n",
       "9   8853385327178     Jobonsel    moon        rocky          NaN     NaN   \n",
       "10  6229017292868       Plavil    moon        rocky          NaN     NaN   \n",
       "11  6196905957740  Vilamchanru    moon  terrestrial          NaN     NaN   \n",
       "12  8334033562884         Hymo  planet        dwarf          NaN     NaN   \n",
       "13  9613914945085         Zihi  planet        dwarf          NaN     NaN   \n",
       "14  1001361712615          Otu  planet  terrestrial          NaN     NaN   \n",
       "15  5237515590885    Bhamoganj  planet  terrestrial          NaN     NaN   \n",
       "\n",
       "      glon  gelat      radius       orbitsId orbitsName  orbitsDistance  \\\n",
       "0  -10.665  -3.15         NaN            NaN        NaN             NaN   \n",
       "1      NaN    NaN  106.000000            NaN        NaN             NaN   \n",
       "2      NaN    NaN    0.010545  8334033562884       Hymo          0.1281   \n",
       "3      NaN    NaN    0.002499  8334033562884       Hymo          0.2080   \n",
       "4      NaN    NaN    0.005072  8334033562884       Hymo          0.1610   \n",
       "5      NaN    NaN    0.103548  1001361712615        Otu          0.3810   \n",
       "6      NaN    NaN    0.064227  1001361712615        Otu          0.3611   \n",
       "7      NaN    NaN    0.038673  8334033562884       Hymo          0.2010   \n",
       "8      NaN    NaN    0.080800  1001361712615        Otu          0.3611   \n",
       "9      NaN    NaN    0.008812  8334033562884       Hymo          0.1281   \n",
       "10     NaN    NaN    0.011427  9613914945085       Zihi          0.0271   \n",
       "11     NaN    NaN    0.005009  8334033562884       Hymo          0.1281   \n",
       "12     NaN    NaN    0.128000  2614382718954        Par         39.1610   \n",
       "13     NaN    NaN    0.027000  2614382718954        Par         40.4240   \n",
       "14     NaN    NaN    0.361000  2614382718954        Par          1.1210   \n",
       "15     NaN    NaN    0.496000  2614382718954        Par          1.1080   \n",
       "\n",
       "        mass isSupportsLife isPopulated  \n",
       "0        NaN            NaN         NaN  \n",
       "1        NaN            NaN         NaN  \n",
       "2   0.005550          False       False  \n",
       "3   0.000568          False       False  \n",
       "4   0.008329          False       False  \n",
       "5   0.000480          False       False  \n",
       "6   0.000566          False       False  \n",
       "7   0.008815          False       False  \n",
       "8   0.000467          False       False  \n",
       "9   0.000439          False       False  \n",
       "10  0.000074          False       False  \n",
       "11  0.024670          False       False  \n",
       "12  0.002000          False       False  \n",
       "13  0.001000          False       False  \n",
       "14  0.933000          False       False  \n",
       "15  0.000000          False       False  "
      ]
     },
     "execution_count": 16,
     "metadata": {},
     "output_type": "execute_result"
    }
   ],
   "source": [
    "all_entities = [system] + [star] + moons + planets + [home_planet]\n",
    "all_nodes = [b.get_data() for b in all_entities]\n",
    "pd.DataFrame(all_nodes)"
   ]
  },
  {
   "attachments": {},
   "cell_type": "markdown",
   "metadata": {},
   "source": [
    "Getting the edge values to update the graph: "
   ]
  },
  {
   "cell_type": "code",
   "execution_count": 17,
   "metadata": {},
   "outputs": [
    {
     "data": {
      "text/html": [
       "<div>\n",
       "<style scoped>\n",
       "    .dataframe tbody tr th:only-of-type {\n",
       "        vertical-align: middle;\n",
       "    }\n",
       "\n",
       "    .dataframe tbody tr th {\n",
       "        vertical-align: top;\n",
       "    }\n",
       "\n",
       "    .dataframe thead th {\n",
       "        text-align: right;\n",
       "    }\n",
       "</style>\n",
       "<table border=\"1\" class=\"dataframe\">\n",
       "  <thead>\n",
       "    <tr style=\"text-align: right;\">\n",
       "      <th></th>\n",
       "      <th>node1</th>\n",
       "      <th>node2</th>\n",
       "      <th>label</th>\n",
       "      <th>orbit_distance</th>\n",
       "    </tr>\n",
       "  </thead>\n",
       "  <tbody>\n",
       "    <tr>\n",
       "      <th>0</th>\n",
       "      <td>5237515590885</td>\n",
       "      <td>2614382718954</td>\n",
       "      <td>orbits</td>\n",
       "      <td>1.1080</td>\n",
       "    </tr>\n",
       "    <tr>\n",
       "      <th>1</th>\n",
       "      <td>8334033562884</td>\n",
       "      <td>2614382718954</td>\n",
       "      <td>orbits</td>\n",
       "      <td>39.1610</td>\n",
       "    </tr>\n",
       "    <tr>\n",
       "      <th>2</th>\n",
       "      <td>9613914945085</td>\n",
       "      <td>2614382718954</td>\n",
       "      <td>orbits</td>\n",
       "      <td>40.4240</td>\n",
       "    </tr>\n",
       "    <tr>\n",
       "      <th>3</th>\n",
       "      <td>1001361712615</td>\n",
       "      <td>2614382718954</td>\n",
       "      <td>orbits</td>\n",
       "      <td>1.1210</td>\n",
       "    </tr>\n",
       "    <tr>\n",
       "      <th>4</th>\n",
       "      <td>0102295433743</td>\n",
       "      <td>8334033562884</td>\n",
       "      <td>orbits</td>\n",
       "      <td>0.0001</td>\n",
       "    </tr>\n",
       "    <tr>\n",
       "      <th>5</th>\n",
       "      <td>9054424676045</td>\n",
       "      <td>8334033562884</td>\n",
       "      <td>orbits</td>\n",
       "      <td>0.0800</td>\n",
       "    </tr>\n",
       "    <tr>\n",
       "      <th>6</th>\n",
       "      <td>9121662875625</td>\n",
       "      <td>8334033562884</td>\n",
       "      <td>orbits</td>\n",
       "      <td>0.0330</td>\n",
       "    </tr>\n",
       "    <tr>\n",
       "      <th>7</th>\n",
       "      <td>3307258450819</td>\n",
       "      <td>1001361712615</td>\n",
       "      <td>orbits</td>\n",
       "      <td>0.0200</td>\n",
       "    </tr>\n",
       "    <tr>\n",
       "      <th>8</th>\n",
       "      <td>5819631318974</td>\n",
       "      <td>1001361712615</td>\n",
       "      <td>orbits</td>\n",
       "      <td>0.0001</td>\n",
       "    </tr>\n",
       "    <tr>\n",
       "      <th>9</th>\n",
       "      <td>5246684363916</td>\n",
       "      <td>8334033562884</td>\n",
       "      <td>orbits</td>\n",
       "      <td>0.0730</td>\n",
       "    </tr>\n",
       "    <tr>\n",
       "      <th>10</th>\n",
       "      <td>5257102396718</td>\n",
       "      <td>1001361712615</td>\n",
       "      <td>orbits</td>\n",
       "      <td>0.0001</td>\n",
       "    </tr>\n",
       "    <tr>\n",
       "      <th>11</th>\n",
       "      <td>8853385327178</td>\n",
       "      <td>8334033562884</td>\n",
       "      <td>orbits</td>\n",
       "      <td>0.0001</td>\n",
       "    </tr>\n",
       "    <tr>\n",
       "      <th>12</th>\n",
       "      <td>6229017292868</td>\n",
       "      <td>9613914945085</td>\n",
       "      <td>orbits</td>\n",
       "      <td>0.0001</td>\n",
       "    </tr>\n",
       "    <tr>\n",
       "      <th>13</th>\n",
       "      <td>6196905957740</td>\n",
       "      <td>8334033562884</td>\n",
       "      <td>orbits</td>\n",
       "      <td>0.0001</td>\n",
       "    </tr>\n",
       "  </tbody>\n",
       "</table>\n",
       "</div>"
      ],
      "text/plain": [
       "            node1          node2   label  orbit_distance\n",
       "0   5237515590885  2614382718954  orbits          1.1080\n",
       "1   8334033562884  2614382718954  orbits         39.1610\n",
       "2   9613914945085  2614382718954  orbits         40.4240\n",
       "3   1001361712615  2614382718954  orbits          1.1210\n",
       "4   0102295433743  8334033562884  orbits          0.0001\n",
       "5   9054424676045  8334033562884  orbits          0.0800\n",
       "6   9121662875625  8334033562884  orbits          0.0330\n",
       "7   3307258450819  1001361712615  orbits          0.0200\n",
       "8   5819631318974  1001361712615  orbits          0.0001\n",
       "9   5246684363916  8334033562884  orbits          0.0730\n",
       "10  5257102396718  1001361712615  orbits          0.0001\n",
       "11  8853385327178  8334033562884  orbits          0.0001\n",
       "12  6229017292868  9613914945085  orbits          0.0001\n",
       "13  6196905957740  8334033562884  orbits          0.0001"
      ]
     },
     "execution_count": 17,
     "metadata": {},
     "output_type": "execute_result"
    }
   ],
   "source": [
    "orbiting_bodies = [home_planet] + planets + moons\n",
    "\n",
    "orbiting_edges = [i.get_orbits_edge() for i in orbiting_bodies]\n",
    "\n",
    "pd.DataFrame(orbiting_edges)"
   ]
  },
  {
   "cell_type": "code",
   "execution_count": 18,
   "metadata": {},
   "outputs": [
    {
     "data": {
      "text/plain": [
       "True"
      ]
     },
     "execution_count": 18,
     "metadata": {},
     "output_type": "execute_result"
    }
   ],
   "source": [
    "pd.DataFrame(orbiting_edges).groupby([\"node1\", \"node2\"]).count()[\"label\"].mean() == 1"
   ]
  },
  {
   "cell_type": "code",
   "execution_count": 19,
   "metadata": {},
   "outputs": [
    {
     "data": {
      "text/html": [
       "<div>\n",
       "<style scoped>\n",
       "    .dataframe tbody tr th:only-of-type {\n",
       "        vertical-align: middle;\n",
       "    }\n",
       "\n",
       "    .dataframe tbody tr th {\n",
       "        vertical-align: top;\n",
       "    }\n",
       "\n",
       "    .dataframe thead th {\n",
       "        text-align: right;\n",
       "    }\n",
       "</style>\n",
       "<table border=\"1\" class=\"dataframe\">\n",
       "  <thead>\n",
       "    <tr style=\"text-align: right;\">\n",
       "      <th></th>\n",
       "      <th>node1</th>\n",
       "      <th>label</th>\n",
       "      <th>orbit_distance</th>\n",
       "    </tr>\n",
       "    <tr>\n",
       "      <th>node2</th>\n",
       "      <th></th>\n",
       "      <th></th>\n",
       "      <th></th>\n",
       "    </tr>\n",
       "  </thead>\n",
       "  <tbody>\n",
       "    <tr>\n",
       "      <th>1001361712615</th>\n",
       "      <td>3</td>\n",
       "      <td>3</td>\n",
       "      <td>3</td>\n",
       "    </tr>\n",
       "    <tr>\n",
       "      <th>2614382718954</th>\n",
       "      <td>4</td>\n",
       "      <td>4</td>\n",
       "      <td>4</td>\n",
       "    </tr>\n",
       "    <tr>\n",
       "      <th>8334033562884</th>\n",
       "      <td>6</td>\n",
       "      <td>6</td>\n",
       "      <td>6</td>\n",
       "    </tr>\n",
       "    <tr>\n",
       "      <th>9613914945085</th>\n",
       "      <td>1</td>\n",
       "      <td>1</td>\n",
       "      <td>1</td>\n",
       "    </tr>\n",
       "  </tbody>\n",
       "</table>\n",
       "</div>"
      ],
      "text/plain": [
       "               node1  label  orbit_distance\n",
       "node2                                      \n",
       "1001361712615      3      3               3\n",
       "2614382718954      4      4               4\n",
       "8334033562884      6      6               6\n",
       "9613914945085      1      1               1"
      ]
     },
     "execution_count": 19,
     "metadata": {},
     "output_type": "execute_result"
    }
   ],
   "source": [
    "pd.DataFrame(orbiting_edges).groupby([\"node2\"]).count()"
   ]
  },
  {
   "attachments": {},
   "cell_type": "markdown",
   "metadata": {},
   "source": [
    "Check the orbiting logic"
   ]
  },
  {
   "cell_type": "code",
   "execution_count": 20,
   "metadata": {},
   "outputs": [
    {
     "data": {
      "text/plain": [
       "['terrestrial planet orbits a G star',\n",
       " 'dwarf planet orbits a G star',\n",
       " 'dwarf planet orbits a G star',\n",
       " 'terrestrial planet orbits a G star',\n",
       " 'terrestrial moon orbits a dwarf planet',\n",
       " 'rocky moon orbits a dwarf planet',\n",
       " 'ice moon orbits a dwarf planet',\n",
       " 'rocky moon orbits a terrestrial planet',\n",
       " 'rocky moon orbits a terrestrial planet',\n",
       " 'terrestrial moon orbits a dwarf planet',\n",
       " 'rocky moon orbits a terrestrial planet',\n",
       " 'rocky moon orbits a dwarf planet',\n",
       " 'rocky moon orbits a dwarf planet',\n",
       " 'terrestrial moon orbits a dwarf planet']"
      ]
     },
     "execution_count": 20,
     "metadata": {},
     "output_type": "execute_result"
    }
   ],
   "source": [
    "[\n",
    "    f\"{i.type} {i.label} orbits a {i.orbiting.type} {i.orbiting.label}\"\n",
    "    for i in orbiting_bodies\n",
    "]"
   ]
  },
  {
   "cell_type": "code",
   "execution_count": 21,
   "metadata": {},
   "outputs": [
    {
     "data": {
      "text/html": [
       "<div>\n",
       "<style scoped>\n",
       "    .dataframe tbody tr th:only-of-type {\n",
       "        vertical-align: middle;\n",
       "    }\n",
       "\n",
       "    .dataframe tbody tr th {\n",
       "        vertical-align: top;\n",
       "    }\n",
       "\n",
       "    .dataframe thead th {\n",
       "        text-align: right;\n",
       "    }\n",
       "</style>\n",
       "<table border=\"1\" class=\"dataframe\">\n",
       "  <thead>\n",
       "    <tr style=\"text-align: right;\">\n",
       "      <th></th>\n",
       "      <th>node1</th>\n",
       "      <th>node2</th>\n",
       "      <th>label</th>\n",
       "    </tr>\n",
       "  </thead>\n",
       "  <tbody>\n",
       "    <tr>\n",
       "      <th>0</th>\n",
       "      <td>5237515590885</td>\n",
       "      <td>3478695812083</td>\n",
       "      <td>isIn</td>\n",
       "    </tr>\n",
       "    <tr>\n",
       "      <th>1</th>\n",
       "      <td>8334033562884</td>\n",
       "      <td>3478695812083</td>\n",
       "      <td>isIn</td>\n",
       "    </tr>\n",
       "    <tr>\n",
       "      <th>2</th>\n",
       "      <td>9613914945085</td>\n",
       "      <td>3478695812083</td>\n",
       "      <td>isIn</td>\n",
       "    </tr>\n",
       "    <tr>\n",
       "      <th>3</th>\n",
       "      <td>1001361712615</td>\n",
       "      <td>3478695812083</td>\n",
       "      <td>isIn</td>\n",
       "    </tr>\n",
       "    <tr>\n",
       "      <th>4</th>\n",
       "      <td>0102295433743</td>\n",
       "      <td>3478695812083</td>\n",
       "      <td>isIn</td>\n",
       "    </tr>\n",
       "    <tr>\n",
       "      <th>5</th>\n",
       "      <td>9054424676045</td>\n",
       "      <td>3478695812083</td>\n",
       "      <td>isIn</td>\n",
       "    </tr>\n",
       "    <tr>\n",
       "      <th>6</th>\n",
       "      <td>9121662875625</td>\n",
       "      <td>3478695812083</td>\n",
       "      <td>isIn</td>\n",
       "    </tr>\n",
       "    <tr>\n",
       "      <th>7</th>\n",
       "      <td>3307258450819</td>\n",
       "      <td>3478695812083</td>\n",
       "      <td>isIn</td>\n",
       "    </tr>\n",
       "    <tr>\n",
       "      <th>8</th>\n",
       "      <td>5819631318974</td>\n",
       "      <td>3478695812083</td>\n",
       "      <td>isIn</td>\n",
       "    </tr>\n",
       "    <tr>\n",
       "      <th>9</th>\n",
       "      <td>5246684363916</td>\n",
       "      <td>3478695812083</td>\n",
       "      <td>isIn</td>\n",
       "    </tr>\n",
       "    <tr>\n",
       "      <th>10</th>\n",
       "      <td>5257102396718</td>\n",
       "      <td>3478695812083</td>\n",
       "      <td>isIn</td>\n",
       "    </tr>\n",
       "    <tr>\n",
       "      <th>11</th>\n",
       "      <td>8853385327178</td>\n",
       "      <td>3478695812083</td>\n",
       "      <td>isIn</td>\n",
       "    </tr>\n",
       "    <tr>\n",
       "      <th>12</th>\n",
       "      <td>6229017292868</td>\n",
       "      <td>3478695812083</td>\n",
       "      <td>isIn</td>\n",
       "    </tr>\n",
       "    <tr>\n",
       "      <th>13</th>\n",
       "      <td>6196905957740</td>\n",
       "      <td>3478695812083</td>\n",
       "      <td>isIn</td>\n",
       "    </tr>\n",
       "    <tr>\n",
       "      <th>14</th>\n",
       "      <td>2614382718954</td>\n",
       "      <td>3478695812083</td>\n",
       "      <td>isIn</td>\n",
       "    </tr>\n",
       "  </tbody>\n",
       "</table>\n",
       "</div>"
      ],
      "text/plain": [
       "            node1          node2 label\n",
       "0   5237515590885  3478695812083  isIn\n",
       "1   8334033562884  3478695812083  isIn\n",
       "2   9613914945085  3478695812083  isIn\n",
       "3   1001361712615  3478695812083  isIn\n",
       "4   0102295433743  3478695812083  isIn\n",
       "5   9054424676045  3478695812083  isIn\n",
       "6   9121662875625  3478695812083  isIn\n",
       "7   3307258450819  3478695812083  isIn\n",
       "8   5819631318974  3478695812083  isIn\n",
       "9   5246684363916  3478695812083  isIn\n",
       "10  5257102396718  3478695812083  isIn\n",
       "11  8853385327178  3478695812083  isIn\n",
       "12  6229017292868  3478695812083  isIn\n",
       "13  6196905957740  3478695812083  isIn\n",
       "14  2614382718954  3478695812083  isIn"
      ]
     },
     "execution_count": 21,
     "metadata": {},
     "output_type": "execute_result"
    }
   ],
   "source": [
    "system_bodies = orbiting_bodies + [star]\n",
    "\n",
    "system_edges = [i.get_in_system_edge() for i in system_bodies]\n",
    "\n",
    "pd.DataFrame(system_edges)"
   ]
  },
  {
   "attachments": {},
   "cell_type": "markdown",
   "metadata": {},
   "source": [
    "### Scanning the homeworld\n",
    "the homeworld already has some resources known. `scan_body()` is inherited by the base object. So everyone should be able to do it. "
   ]
  },
  {
   "cell_type": "code",
   "execution_count": 22,
   "metadata": {},
   "outputs": [
    {
     "data": {
      "text/plain": [
       "[{'Argon': 0.246},\n",
       " {'Carbon Dioxide': 0.223},\n",
       " {'Helium': 0.082},\n",
       " {'Hydrogen': 0.193},\n",
       " {'Methane': 0.006},\n",
       " {'Nitrogen': 0.054},\n",
       " {'Oxygen': 0.109},\n",
       " {'Sodium': 0.087}]"
      ]
     },
     "execution_count": 22,
     "metadata": {},
     "output_type": "execute_result"
    }
   ],
   "source": [
    "home_planet.scan_body()\n",
    "home_planet.atmosphere"
   ]
  },
  {
   "cell_type": "code",
   "execution_count": 24,
   "metadata": {},
   "outputs": [
    {
     "data": {
      "text/plain": [
       "{'name': 'Bhamoganj',\n",
       " 'class': 'terrestrial',\n",
       " 'objid': '5237515590885',\n",
       " 'label': 'planet',\n",
       " 'atmosphere': [{'Argon': 0.246},\n",
       "  {'Carbon Dioxide': 0.223},\n",
       "  {'Helium': 0.082},\n",
       "  {'Hydrogen': 0.193},\n",
       "  {'Methane': 0.006},\n",
       "  {'Nitrogen': 0.054},\n",
       "  {'Oxygen': 0.109},\n",
       "  {'Sodium': 0.087}],\n",
       " 'radius': 0.496,\n",
       " 'mass': 0,\n",
       " 'orbitsDistance': 1.108,\n",
       " 'orbitsId': '2614382718954',\n",
       " 'orbitsName': 'Par',\n",
       " 'isSupportsLife': False,\n",
       " 'isPopulated': False}"
      ]
     },
     "execution_count": 24,
     "metadata": {},
     "output_type": "execute_result"
    }
   ],
   "source": [
    "home_planet.get_data()"
   ]
  },
  {
   "cell_type": "code",
   "execution_count": 25,
   "metadata": {},
   "outputs": [
    {
     "data": {
      "text/plain": [
       "[<resource: 4922300816520; organics>,\n",
       " <resource: 7687415333659; common minerals>,\n",
       " <resource: 3694306733951; rare minerals>,\n",
       " <resource: 9210630543932; water>]"
      ]
     },
     "execution_count": 25,
     "metadata": {},
     "output_type": "execute_result"
    }
   ],
   "source": [
    "home_planet.resources"
   ]
  },
  {
   "cell_type": "code",
   "execution_count": 26,
   "metadata": {},
   "outputs": [
    {
     "data": {
      "text/html": [
       "<div>\n",
       "<style scoped>\n",
       "    .dataframe tbody tr th:only-of-type {\n",
       "        vertical-align: middle;\n",
       "    }\n",
       "\n",
       "    .dataframe tbody tr th {\n",
       "        vertical-align: top;\n",
       "    }\n",
       "\n",
       "    .dataframe thead th {\n",
       "        text-align: right;\n",
       "    }\n",
       "</style>\n",
       "<table border=\"1\" class=\"dataframe\">\n",
       "  <thead>\n",
       "    <tr style=\"text-align: right;\">\n",
       "      <th></th>\n",
       "      <th>name</th>\n",
       "      <th>objid</th>\n",
       "      <th>label</th>\n",
       "      <th>volume</th>\n",
       "      <th>max_volume</th>\n",
       "      <th>description</th>\n",
       "      <th>replenish_rate</th>\n",
       "    </tr>\n",
       "  </thead>\n",
       "  <tbody>\n",
       "    <tr>\n",
       "      <th>0</th>\n",
       "      <td>organics</td>\n",
       "      <td>4922300816520</td>\n",
       "      <td>resource</td>\n",
       "      <td>976</td>\n",
       "      <td>976</td>\n",
       "      <td>bilogical material that can be consumed by pops</td>\n",
       "      <td>10.0</td>\n",
       "    </tr>\n",
       "    <tr>\n",
       "      <th>1</th>\n",
       "      <td>common minerals</td>\n",
       "      <td>7687415333659</td>\n",
       "      <td>resource</td>\n",
       "      <td>115</td>\n",
       "      <td>115</td>\n",
       "      <td>Iron and other common material used in constru...</td>\n",
       "      <td>NaN</td>\n",
       "    </tr>\n",
       "    <tr>\n",
       "      <th>2</th>\n",
       "      <td>rare minerals</td>\n",
       "      <td>3694306733951</td>\n",
       "      <td>resource</td>\n",
       "      <td>50</td>\n",
       "      <td>50</td>\n",
       "      <td>lithium, silver and other rare minerals used i...</td>\n",
       "      <td>NaN</td>\n",
       "    </tr>\n",
       "    <tr>\n",
       "      <th>3</th>\n",
       "      <td>water</td>\n",
       "      <td>9210630543932</td>\n",
       "      <td>resource</td>\n",
       "      <td>10160</td>\n",
       "      <td>10160</td>\n",
       "      <td>H2O ready to be consumed, either frozen or in ...</td>\n",
       "      <td>NaN</td>\n",
       "    </tr>\n",
       "  </tbody>\n",
       "</table>\n",
       "</div>"
      ],
      "text/plain": [
       "              name          objid     label  volume  max_volume  \\\n",
       "0         organics  4922300816520  resource     976         976   \n",
       "1  common minerals  7687415333659  resource     115         115   \n",
       "2    rare minerals  3694306733951  resource      50          50   \n",
       "3            water  9210630543932  resource   10160       10160   \n",
       "\n",
       "                                         description  replenish_rate  \n",
       "0    bilogical material that can be consumed by pops            10.0  \n",
       "1  Iron and other common material used in constru...             NaN  \n",
       "2  lithium, silver and other rare minerals used i...             NaN  \n",
       "3  H2O ready to be consumed, either frozen or in ...             NaN  "
      ]
     },
     "execution_count": 26,
     "metadata": {},
     "output_type": "execute_result"
    }
   ],
   "source": [
    "pd.DataFrame([i.get_data() for i in home_planet.resources])"
   ]
  },
  {
   "cell_type": "code",
   "execution_count": 27,
   "metadata": {},
   "outputs": [
    {
     "data": {
      "text/html": [
       "<div>\n",
       "<style scoped>\n",
       "    .dataframe tbody tr th:only-of-type {\n",
       "        vertical-align: middle;\n",
       "    }\n",
       "\n",
       "    .dataframe tbody tr th {\n",
       "        vertical-align: top;\n",
       "    }\n",
       "\n",
       "    .dataframe thead th {\n",
       "        text-align: right;\n",
       "    }\n",
       "</style>\n",
       "<table border=\"1\" class=\"dataframe\">\n",
       "  <thead>\n",
       "    <tr style=\"text-align: right;\">\n",
       "      <th></th>\n",
       "      <th>node1</th>\n",
       "      <th>node2</th>\n",
       "      <th>label</th>\n",
       "    </tr>\n",
       "  </thead>\n",
       "  <tbody>\n",
       "    <tr>\n",
       "      <th>0</th>\n",
       "      <td>5237515590885</td>\n",
       "      <td>4922300816520</td>\n",
       "      <td>has</td>\n",
       "    </tr>\n",
       "    <tr>\n",
       "      <th>1</th>\n",
       "      <td>5237515590885</td>\n",
       "      <td>7687415333659</td>\n",
       "      <td>has</td>\n",
       "    </tr>\n",
       "    <tr>\n",
       "      <th>2</th>\n",
       "      <td>5237515590885</td>\n",
       "      <td>3694306733951</td>\n",
       "      <td>has</td>\n",
       "    </tr>\n",
       "    <tr>\n",
       "      <th>3</th>\n",
       "      <td>5237515590885</td>\n",
       "      <td>9210630543932</td>\n",
       "      <td>has</td>\n",
       "    </tr>\n",
       "  </tbody>\n",
       "</table>\n",
       "</div>"
      ],
      "text/plain": [
       "           node1          node2 label\n",
       "0  5237515590885  4922300816520   has\n",
       "1  5237515590885  7687415333659   has\n",
       "2  5237515590885  3694306733951   has\n",
       "3  5237515590885  9210630543932   has"
      ]
     },
     "execution_count": 27,
     "metadata": {},
     "output_type": "execute_result"
    }
   ],
   "source": [
    "pd.DataFrame([i.get_location_edge() for i in home_planet.resources])"
   ]
  },
  {
   "cell_type": "code",
   "execution_count": 28,
   "metadata": {},
   "outputs": [
    {
     "data": {
      "text/plain": [
       "['terrestrial planet has 976 organics',\n",
       " 'terrestrial planet has 115 common minerals',\n",
       " 'terrestrial planet has 50 rare minerals',\n",
       " 'terrestrial planet has 10160 water']"
      ]
     },
     "execution_count": 28,
     "metadata": {},
     "output_type": "execute_result"
    }
   ],
   "source": [
    "[\n",
    "    f\"{i.location.type} {i.location.label} has {i.volume} {i.name}\"\n",
    "    for i in home_planet.resources\n",
    "]"
   ]
  }
 ],
 "metadata": {
  "kernelspec": {
   "display_name": "exoplanets",
   "language": "python",
   "name": "python3"
  },
  "language_info": {
   "codemirror_mode": {
    "name": "ipython",
    "version": 3
   },
   "file_extension": ".py",
   "mimetype": "text/x-python",
   "name": "python",
   "nbconvert_exporter": "python",
   "pygments_lexer": "ipython3",
   "version": "3.8.16"
  },
  "orig_nbformat": 4
 },
 "nbformat": 4,
 "nbformat_minor": 2
}
