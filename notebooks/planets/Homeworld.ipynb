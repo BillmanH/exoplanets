{
 "cells": [
  {
   "attachments": {},
   "cell_type": "markdown",
   "metadata": {},
   "source": [
    "# The Process for creating a homeworld with people living on it. \n"
   ]
  },
  {
   "cell_type": "code",
   "execution_count": 1,
   "metadata": {},
   "outputs": [],
   "source": [
    "import numpy as np\n",
    "import pandas as pd\n",
    "\n",
    "from sklearn.cluster import KMeans\n",
    "from sklearn.decomposition import PCA\n",
    "\n",
    "import sys, os\n",
    "import altair as alt\n",
    "\n",
    "# mapping to the modules that make the app\n",
    "sys.path.insert(0, \"../../app\")\n",
    "sys.path.insert(0, \"'notebooks/planets/planet.yaml'\")\n",
    "\n",
    "%load_ext lab_black"
   ]
  },
  {
   "attachments": {},
   "cell_type": "markdown",
   "metadata": {},
   "source": [
    "In the begining, there was the user creation form. The user sets the parameters for the univers in the `genesis` process. \n",
    "You can follow this process in:\n",
    "* `templates\\app\\creation\\genesis_view.html`\n",
    "* `templates\\app\\creation\\genesis.js`\n"
   ]
  },
  {
   "cell_type": "code",
   "execution_count": 2,
   "metadata": {},
   "outputs": [],
   "source": [
    "# An example `data` set:\n",
    "data = {\n",
    "    \"planet_name\": \"Earth\",\n",
    "    \"num_planets\": \"6\",\n",
    "    \"num_moons\": \"24\",\n",
    "    \"home_has_moons\": \"on\",\n",
    "    \"starting_pop\": \"7\",\n",
    "    \"conformity\": \"0.3\",\n",
    "    \"literacy\": \"0.7\",\n",
    "    \"aggression\": \"0.5\",\n",
    "    \"constitution\": \"0.5\",\n",
    "    \"name\": \"form\",\n",
    "    \"objid\": \"4864559553238\",\n",
    "    \"username\": \"Billmanh\",\n",
    "    \"objtype\": \"form\",\n",
    "    \"id\": \"4864559553238\",\n",
    "}"
   ]
  },
  {
   "attachments": {},
   "cell_type": "markdown",
   "metadata": {},
   "source": [
    "# Creating a world"
   ]
  },
  {
   "cell_type": "code",
   "execution_count": 3,
   "metadata": {},
   "outputs": [],
   "source": [
    "import creators.universe as universe\n",
    "import creators.maths as maths\n",
    "import creators.language as language"
   ]
  },
  {
   "cell_type": "code",
   "execution_count": 6,
   "metadata": {},
   "outputs": [
    {
     "data": {
      "text/plain": [
       "({'name': 'Nia',\n",
       "  'class': 'G',\n",
       "  'objid': '2569670089008',\n",
       "  'label': 'star',\n",
       "  'radius': 106},\n",
       " {'name': 'Fortvi',\n",
       "  'label': 'system',\n",
       "  'isHomeSystem': 'true',\n",
       "  'objid': '4150271686156'})"
      ]
     },
     "execution_count": 6,
     "metadata": {},
     "output_type": "execute_result"
    }
   ],
   "source": [
    "systemid = maths.uuid(n=13)\n",
    "system = {\n",
    "    \"name\": language.make_word(maths.rnd(2, 1)),\n",
    "    \"label\": \"system\",\n",
    "    \"isHomeSystem\": \"true\",\n",
    "    \"objid\": systemid,\n",
    "}\n",
    "star = universe.make_star()\n",
    "star, system"
   ]
  },
  {
   "cell_type": "code",
   "execution_count": 18,
   "metadata": {},
   "outputs": [
    {
     "data": {
      "text/plain": [
       "({'name': 'Earth',\n",
       "  'class': 'terrestrial',\n",
       "  'objid': '0032230744284',\n",
       "  'label': 'planet',\n",
       "  'radius': 0.673,\n",
       "  'mass': 0.877,\n",
       "  'orbitsDistance': 4,\n",
       "  'orbitsId': '2569670089008',\n",
       "  'orbitsName': 'Nia',\n",
       "  'isSupportsLife': True,\n",
       "  'isPopulated': True,\n",
       "  'type': 'terrestrial',\n",
       "  'isHomeworld': True},\n",
       " [{'name': 'Organic',\n",
       "   'objid': '9778642595338',\n",
       "   'label': 'resource',\n",
       "   'volume': 1042,\n",
       "   'description': 'bilogical material that can be consumed by pops'},\n",
       "  {'name': 'Common Minerals',\n",
       "   'objid': '1648196875345',\n",
       "   'label': 'resource',\n",
       "   'volume': 105,\n",
       "   'description': 'Iron and other common material used in constructuion of infrastructure'},\n",
       "  {'name': 'Rare Minerals',\n",
       "   'objid': '7402417349303',\n",
       "   'label': 'resource',\n",
       "   'volume': 42,\n",
       "   'description': 'lithium, silver and other rare minerals used in infrastructure and technology'},\n",
       "  {'name': 'Water',\n",
       "   'objid': '4941485982267',\n",
       "   'label': 'resource',\n",
       "   'volume': 10103,\n",
       "   'description': 'H2O ready to be consumed, either frozen or in ice format'}],\n",
       " [{'node1': '0032230744284', 'node2': '9778642595338', 'label': 'hasResource'},\n",
       "  {'node1': '0032230744284', 'node2': '1648196875345', 'label': 'hasResource'},\n",
       "  {'node1': '0032230744284', 'node2': '7402417349303', 'label': 'hasResource'},\n",
       "  {'node1': '0032230744284',\n",
       "   'node2': '4941485982267',\n",
       "   'label': 'hasResource'}])"
      ]
     },
     "execution_count": 18,
     "metadata": {},
     "output_type": "execute_result"
    }
   ],
   "source": [
    "homeworld = universe.make_homeworld(star, data)\n",
    "homeworld"
   ]
  },
  {
   "attachments": {},
   "cell_type": "markdown",
   "metadata": {},
   "source": [
    "## People living on that homeworld. \n",
    "\n",
    "The genesis process executes the `build_people(data)` function, which creates the homeworld. It is assumed that the solar system already exists. \n"
   ]
  },
  {
   "cell_type": "code",
   "execution_count": 19,
   "metadata": {},
   "outputs": [],
   "source": [
    "import creators.homeworld as homeworld"
   ]
  },
  {
   "cell_type": "code",
   "execution_count": 20,
   "metadata": {},
   "outputs": [
    {
     "data": {
      "text/plain": [
       "<species: no type; 8412251563673; Tre>"
      ]
     },
     "execution_count": 20,
     "metadata": {},
     "output_type": "execute_result"
    }
   ],
   "source": [
    "species = homeworld.Species()\n",
    "species.build_attr(data)\n",
    "species"
   ]
  },
  {
   "cell_type": "code",
   "execution_count": 21,
   "metadata": {},
   "outputs": [
    {
     "data": {
      "text/plain": [
       "{'name': 'Tre',\n",
       " 'objid': '8412251563673',\n",
       " 'label': 'species',\n",
       " 'consumes': ['Organic'],\n",
       " 'effuses': ['Organic waste', 'Plastics'],\n",
       " 'viral_resilience': 0.7,\n",
       " 'habitat_resilience': 0.2}"
      ]
     },
     "execution_count": 21,
     "metadata": {},
     "output_type": "execute_result"
    }
   ],
   "source": [
    "species.get_data()"
   ]
  },
  {
   "cell_type": "code",
   "execution_count": 22,
   "metadata": {},
   "outputs": [
    {
     "data": {
      "text/plain": [
       "({'name': 'Earth',\n",
       "  'class': 'terrestrial',\n",
       "  'objid': '8206694450165',\n",
       "  'label': 'planet',\n",
       "  'radius': 0.846,\n",
       "  'mass': 1.249,\n",
       "  'orbitsDistance': 1,\n",
       "  'orbitsId': '2569670089008',\n",
       "  'orbitsName': 'Nia',\n",
       "  'isSupportsLife': True,\n",
       "  'isPopulated': True,\n",
       "  'type': 'terrestrial',\n",
       "  'isHomeworld': True},\n",
       " [{'name': 'Organic',\n",
       "   'objid': '9415479927148',\n",
       "   'label': 'resource',\n",
       "   'volume': 921,\n",
       "   'description': 'bilogical material that can be consumed by pops'},\n",
       "  {'name': 'Common Minerals',\n",
       "   'objid': '7832504210029',\n",
       "   'label': 'resource',\n",
       "   'volume': 90,\n",
       "   'description': 'Iron and other common material used in constructuion of infrastructure'},\n",
       "  {'name': 'Rare Minerals',\n",
       "   'objid': '7752685419461',\n",
       "   'label': 'resource',\n",
       "   'volume': 59,\n",
       "   'description': 'lithium, silver and other rare minerals used in infrastructure and technology'},\n",
       "  {'name': 'Water',\n",
       "   'objid': '5292801583698',\n",
       "   'label': 'resource',\n",
       "   'volume': 12183,\n",
       "   'description': 'H2O ready to be consumed, either frozen or in ice format'}],\n",
       " [{'node1': '8206694450165', 'node2': '9415479927148', 'label': 'hasResource'},\n",
       "  {'node1': '8206694450165', 'node2': '7832504210029', 'label': 'hasResource'},\n",
       "  {'node1': '8206694450165', 'node2': '7752685419461', 'label': 'hasResource'},\n",
       "  {'node1': '8206694450165',\n",
       "   'node2': '5292801583698',\n",
       "   'label': 'hasResource'}])"
      ]
     },
     "execution_count": 22,
     "metadata": {},
     "output_type": "execute_result"
    }
   ],
   "source": [
    "homePlanet = universe.make_homeworld(star, data)\n",
    "homePlanet"
   ]
  },
  {
   "attachments": {},
   "cell_type": "markdown",
   "metadata": {},
   "source": [
    "## Getting resources\n",
    "\n",
    "I hope this process will be the same when scanning other celestials bodies as well. That way the genesis process remains light by only scanning the homeworld. \n",
    "\n",
    "This means that many planet properties don't exist until you look at them.. "
   ]
  },
  {
   "cell_type": "code",
   "execution_count": 29,
   "metadata": {},
   "outputs": [
    {
     "data": {
      "text/plain": [
       "{'name': 'Unangrumos',\n",
       " 'class': 'terrestrial',\n",
       " 'objid': '7428586235103',\n",
       " 'label': 'planet',\n",
       " 'radius': 0.586,\n",
       " 'mass': 0.358,\n",
       " 'orbitsDistance': 2,\n",
       " 'orbitsId': '2569670089008',\n",
       " 'orbitsName': 'Nia',\n",
       " 'isSupportsLife': False,\n",
       " 'isPopulated': False,\n",
       " 'type': 'terrestrial'}"
      ]
     },
     "execution_count": 29,
     "metadata": {},
     "output_type": "execute_result"
    }
   ],
   "source": [
    "p = universe.Planet()\n",
    "p.build_attr(\"terrestrial\", star)\n",
    "p.get_data()"
   ]
  },
  {
   "cell_type": "code",
   "execution_count": 30,
   "metadata": {},
   "outputs": [
    {
     "data": {
      "text/plain": [
       "{'name': 'Rare Minerals',\n",
       " 'objid': '6507386944589',\n",
       " 'label': 'resource',\n",
       " 'volume': 60,\n",
       " 'description': 'lithium, silver and other rare minerals used in infrastructure and technology'}"
      ]
     },
     "execution_count": 30,
     "metadata": {},
     "output_type": "execute_result"
    }
   ],
   "source": [
    "r = universe.Resource(universe.pdata[p.type][\"resources\"][\"minerals_rare\"])\n",
    "r.get_data()"
   ]
  },
  {
   "cell_type": "code",
   "execution_count": 31,
   "metadata": {},
   "outputs": [
    {
     "data": {
      "text/plain": [
       "[<resource: 4113839820956; Organic>,\n",
       " <resource: 4898608954577; Common Minerals>,\n",
       " <resource: 5665428179488; Rare Minerals>,\n",
       " <resource: 7445929040736; Water>]"
      ]
     },
     "execution_count": 31,
     "metadata": {},
     "output_type": "execute_result"
    }
   ],
   "source": [
    "p.scan_body()\n",
    "p.resources"
   ]
  },
  {
   "cell_type": "code",
   "execution_count": 32,
   "metadata": {},
   "outputs": [
    {
     "data": {
      "text/plain": [
       "[<resource: 4113839820956; Organic>,\n",
       " <resource: 4898608954577; Common Minerals>,\n",
       " <resource: 5665428179488; Rare Minerals>,\n",
       " <resource: 7445929040736; Water>]"
      ]
     },
     "execution_count": 32,
     "metadata": {},
     "output_type": "execute_result"
    }
   ],
   "source": [
    "p.resources"
   ]
  },
  {
   "attachments": {},
   "cell_type": "markdown",
   "metadata": {},
   "source": [
    "Getting the verticies"
   ]
  },
  {
   "cell_type": "code",
   "execution_count": 33,
   "metadata": {},
   "outputs": [
    {
     "data": {
      "text/plain": [
       "[{'name': 'Organic',\n",
       "  'objid': '4113839820956',\n",
       "  'label': 'resource',\n",
       "  'volume': 1118,\n",
       "  'description': 'bilogical material that can be consumed by pops'},\n",
       " {'name': 'Common Minerals',\n",
       "  'objid': '4898608954577',\n",
       "  'label': 'resource',\n",
       "  'volume': 93,\n",
       "  'description': 'Iron and other common material used in constructuion of infrastructure'},\n",
       " {'name': 'Rare Minerals',\n",
       "  'objid': '5665428179488',\n",
       "  'label': 'resource',\n",
       "  'volume': 38,\n",
       "  'description': 'lithium, silver and other rare minerals used in infrastructure and technology'},\n",
       " {'name': 'Water',\n",
       "  'objid': '7445929040736',\n",
       "  'label': 'resource',\n",
       "  'volume': 11249,\n",
       "  'description': 'H2O ready to be consumed, either frozen or in ice format'}]"
      ]
     },
     "execution_count": 33,
     "metadata": {},
     "output_type": "execute_result"
    }
   ],
   "source": [
    "[r.get_data() for r in p.resources]"
   ]
  },
  {
   "attachments": {},
   "cell_type": "markdown",
   "metadata": {},
   "source": [
    "Getting the edges"
   ]
  },
  {
   "cell_type": "code",
   "execution_count": 34,
   "metadata": {},
   "outputs": [
    {
     "data": {
      "text/plain": [
       "[{'node1': '7428586235103', 'node2': '4113839820956', 'label': 'hasResource'},\n",
       " {'node1': '7428586235103', 'node2': '4898608954577', 'label': 'hasResource'},\n",
       " {'node1': '7428586235103', 'node2': '5665428179488', 'label': 'hasResource'},\n",
       " {'node1': '7428586235103', 'node2': '7445929040736', 'label': 'hasResource'}]"
      ]
     },
     "execution_count": 34,
     "metadata": {},
     "output_type": "execute_result"
    }
   ],
   "source": [
    "homeworld_resources = [\n",
    "    {\"node1\": p.objid, \"node2\": r.objid, \"label\": \"hasResource\"} for r in p.resources\n",
    "]\n",
    "homeworld_resources"
   ]
  },
  {
   "cell_type": "code",
   "execution_count": null,
   "metadata": {},
   "outputs": [],
   "source": []
  }
 ],
 "metadata": {
  "kernelspec": {
   "display_name": "exoplanets",
   "language": "python",
   "name": "python3"
  },
  "language_info": {
   "codemirror_mode": {
    "name": "ipython",
    "version": 3
   },
   "file_extension": ".py",
   "mimetype": "text/x-python",
   "name": "python",
   "nbconvert_exporter": "python",
   "pygments_lexer": "ipython3",
   "version": "3.7.0"
  },
  "orig_nbformat": 4,
  "vscode": {
   "interpreter": {
    "hash": "625a17269cb94aebb094cbcf5e0e8340f26b69d46569da60e8fc69439048adbf"
   }
  }
 },
 "nbformat": 4,
 "nbformat_minor": 2
}
