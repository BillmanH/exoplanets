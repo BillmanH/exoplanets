{
 "cells": [
  {
   "attachments": {},
   "cell_type": "markdown",
   "metadata": {},
   "source": [
    "# The Process for creating a homeworld with people living on it. \n"
   ]
  },
  {
   "cell_type": "code",
   "execution_count": 1,
   "metadata": {},
   "outputs": [],
   "source": [
    "import numpy as np\n",
    "import pandas as pd\n",
    "\n",
    "from sklearn.cluster import KMeans\n",
    "from sklearn.decomposition import PCA\n",
    "\n",
    "import sys, os\n",
    "import altair as alt\n",
    "\n",
    "# mapping to the modules that make the app\n",
    "sys.path.insert(0, \"../../app\")\n",
    "sys.path.insert(0, \"'notebooks/planets/planet.yaml'\")\n",
    "\n",
    "%load_ext lab_black"
   ]
  },
  {
   "attachments": {},
   "cell_type": "markdown",
   "metadata": {},
   "source": [
    "In the begining, there was the user creation form. The user sets the parameters for the univers in the `genesis` process. \n",
    "You can follow this process in:\n",
    "* `templates\\app\\creation\\genesis_view.html`\n",
    "* `templates\\app\\creation\\genesis.js`\n"
   ]
  },
  {
   "cell_type": "code",
   "execution_count": 2,
   "metadata": {},
   "outputs": [],
   "source": [
    "# An example `data` set:\n",
    "data = {\n",
    "    \"planet_name\": \"Earth\",\n",
    "    \"num_planets\": \"6\",\n",
    "    \"num_moons\": \"24\",\n",
    "    \"home_has_moons\": \"on\",\n",
    "    \"starting_pop\": \"7\",\n",
    "    \"conformity\": \"0.3\",\n",
    "    \"literacy\": \"0.7\",\n",
    "    \"aggression\": \"0.5\",\n",
    "    \"constitution\": \"0.5\",\n",
    "    \"name\": \"form\",\n",
    "    \"objid\": \"4864559553238\",\n",
    "    \"username\": \"Billmanh\",\n",
    "    \"objtype\": \"form\",\n",
    "    \"id\": \"4864559553238\",\n",
    "}"
   ]
  },
  {
   "attachments": {},
   "cell_type": "markdown",
   "metadata": {},
   "source": [
    "# Creating a world"
   ]
  },
  {
   "cell_type": "code",
   "execution_count": 3,
   "metadata": {},
   "outputs": [],
   "source": [
    "import creators.universe as universe\n",
    "import creators.maths as maths\n",
    "import creators.language as language"
   ]
  },
  {
   "cell_type": "code",
   "execution_count": 5,
   "metadata": {},
   "outputs": [
    {
     "data": {
      "text/plain": [
       "({'name': 'Goraqua',\n",
       "  'class': 'G',\n",
       "  'objid': '0221906917400',\n",
       "  'label': 'star',\n",
       "  'radius': 106},\n",
       " {'name': 'Kannewpet', 'label': 'system', 'objid': '9243386482491'})"
      ]
     },
     "execution_count": 5,
     "metadata": {},
     "output_type": "execute_result"
    }
   ],
   "source": [
    "systemid = maths.uuid(n=13)\n",
    "system = {\n",
    "    \"name\": language.make_word(maths.rnd(2, 1)),\n",
    "    \"label\": \"system\",\n",
    "    \"objid\": systemid,\n",
    "}\n",
    "star = universe.make_star()\n",
    "star, system"
   ]
  },
  {
   "cell_type": "code",
   "execution_count": 5,
   "metadata": {},
   "outputs": [
    {
     "data": {
      "text/plain": [
       "{'name': 'Earth',\n",
       " 'class': 'terrestrial',\n",
       " 'objid': '0245019894307',\n",
       " 'label': 'planet',\n",
       " 'radius': 0.57,\n",
       " 'mass': 0.881,\n",
       " 'orbitsDistance': 1,\n",
       " 'orbitsId': '2789384168472',\n",
       " 'orbitsName': 'Tu',\n",
       " 'isSupportsLife': True,\n",
       " 'isPopulated': True,\n",
       " 'type': 'terrestrial',\n",
       " 'isHomeworld': True}"
      ]
     },
     "execution_count": 5,
     "metadata": {},
     "output_type": "execute_result"
    }
   ],
   "source": [
    "homeworld = universe.make_homeworld(star, data)\n",
    "homeworld"
   ]
  },
  {
   "attachments": {},
   "cell_type": "markdown",
   "metadata": {},
   "source": [
    "## People living on that homeworld. \n",
    "\n",
    "The genesis process executes the `build_people(data)` function, which creates the homeworld. It is assumed that the solar system already exists. \n"
   ]
  },
  {
   "cell_type": "code",
   "execution_count": 6,
   "metadata": {},
   "outputs": [],
   "source": [
    "import creators.homeworld as homeworld"
   ]
  },
  {
   "cell_type": "code",
   "execution_count": 7,
   "metadata": {},
   "outputs": [
    {
     "data": {
      "text/plain": [
       "<species: no type; 3673188459710; Pal>"
      ]
     },
     "execution_count": 7,
     "metadata": {},
     "output_type": "execute_result"
    }
   ],
   "source": [
    "species = homeworld.Species()\n",
    "species.build_attr(data)\n",
    "species"
   ]
  },
  {
   "cell_type": "code",
   "execution_count": 8,
   "metadata": {},
   "outputs": [
    {
     "data": {
      "text/plain": [
       "{'name': 'Pal',\n",
       " 'objid': '3673188459710',\n",
       " 'label': 'species',\n",
       " 'consumes': 'organic',\n",
       " 'effuses': 'organic waste',\n",
       " 'viral_resilience': 0.7,\n",
       " 'habitat_resilience': 0.2}"
      ]
     },
     "execution_count": 8,
     "metadata": {},
     "output_type": "execute_result"
    }
   ],
   "source": [
    "species.get_data()"
   ]
  },
  {
   "cell_type": "code",
   "execution_count": 9,
   "metadata": {},
   "outputs": [
    {
     "data": {
      "text/plain": [
       "{'name': 'Earth',\n",
       " 'class': 'terrestrial',\n",
       " 'objid': '0312990663329',\n",
       " 'label': 'planet',\n",
       " 'radius': 0.888,\n",
       " 'mass': 0.333,\n",
       " 'orbitsDistance': 1,\n",
       " 'orbitsId': '2789384168472',\n",
       " 'orbitsName': 'Tu',\n",
       " 'isSupportsLife': True,\n",
       " 'isPopulated': True,\n",
       " 'type': 'terrestrial',\n",
       " 'isHomeworld': True}"
      ]
     },
     "execution_count": 9,
     "metadata": {},
     "output_type": "execute_result"
    }
   ],
   "source": [
    "homePlanet = universe.make_homeworld(star, data)\n",
    "homePlanet"
   ]
  },
  {
   "attachments": {},
   "cell_type": "markdown",
   "metadata": {},
   "source": [
    "## Getting resources\n",
    "\n",
    "I hope this process will be the same when scanning other celestials bodies as well. That way the genesis process remains light by only scanning the homeworld. \n",
    "\n",
    "This means that many planet properties don't exist until you look at them.. "
   ]
  },
  {
   "cell_type": "code",
   "execution_count": 19,
   "metadata": {},
   "outputs": [
    {
     "data": {
      "text/plain": [
       "{'name': 'Yuhamlia',\n",
       " 'class': 'terrestrial',\n",
       " 'objid': '0631944663443',\n",
       " 'label': 'planet',\n",
       " 'radius': 0.568,\n",
       " 'mass': 0.719,\n",
       " 'orbitsDistance': 1,\n",
       " 'orbitsId': '2789384168472',\n",
       " 'orbitsName': 'Tu',\n",
       " 'isSupportsLife': False,\n",
       " 'isPopulated': False,\n",
       " 'type': 'terrestrial'}"
      ]
     },
     "execution_count": 19,
     "metadata": {},
     "output_type": "execute_result"
    }
   ],
   "source": [
    "p = universe.Planet()\n",
    "p.build_attr(\"terrestrial\", star)\n",
    "p.get_data()"
   ]
  },
  {
   "cell_type": "code",
   "execution_count": 20,
   "metadata": {},
   "outputs": [
    {
     "data": {
      "text/plain": [
       "{'name': 'Rare Minerals',\n",
       " 'objid': '4315800722262',\n",
       " 'label': 'resource',\n",
       " 'volume': 42,\n",
       " 'description': 'lithium, silver and other rare minerals used in infrastructure and technology'}"
      ]
     },
     "execution_count": 20,
     "metadata": {},
     "output_type": "execute_result"
    }
   ],
   "source": [
    "r = universe.Resource(universe.pdata[p.type][\"resources\"][\"minerals_rare\"])\n",
    "r.get_data()"
   ]
  },
  {
   "cell_type": "code",
   "execution_count": 21,
   "metadata": {},
   "outputs": [
    {
     "data": {
      "text/plain": [
       "[<creators.universe.Resource at 0x23d771aa630>,\n",
       " <creators.universe.Resource at 0x23d771aa4a8>,\n",
       " <creators.universe.Resource at 0x23d771aad68>,\n",
       " <creators.universe.Resource at 0x23d771aa9e8>]"
      ]
     },
     "execution_count": 21,
     "metadata": {},
     "output_type": "execute_result"
    }
   ],
   "source": [
    "p.scan_body()\n",
    "p.resources"
   ]
  },
  {
   "cell_type": "code",
   "execution_count": 22,
   "metadata": {},
   "outputs": [
    {
     "data": {
      "text/plain": [
       "[<creators.universe.Resource at 0x23d771aa630>,\n",
       " <creators.universe.Resource at 0x23d771aa4a8>,\n",
       " <creators.universe.Resource at 0x23d771aad68>,\n",
       " <creators.universe.Resource at 0x23d771aa9e8>]"
      ]
     },
     "execution_count": 22,
     "metadata": {},
     "output_type": "execute_result"
    }
   ],
   "source": [
    "p.resources"
   ]
  },
  {
   "attachments": {},
   "cell_type": "markdown",
   "metadata": {},
   "source": [
    "Getting the verticies"
   ]
  },
  {
   "cell_type": "code",
   "execution_count": 16,
   "metadata": {},
   "outputs": [
    {
     "data": {
      "text/plain": [
       "[{'name': 'Vegitation',\n",
       "  'objid': '3191267457031',\n",
       "  'label': 'resource',\n",
       "  'volume': 1240,\n",
       "  'description': 'Forrest, jungle, savana, etc. Climates of natrually reproducing organic matter'},\n",
       " {'name': 'Common Minerals',\n",
       "  'objid': '7283616829294',\n",
       "  'label': 'resource',\n",
       "  'volume': 101,\n",
       "  'description': 'Iron and other common material used in constructuion of infrastructure'},\n",
       " {'name': 'Rare Minerals',\n",
       "  'objid': '7714453629768',\n",
       "  'label': 'resource',\n",
       "  'volume': 49,\n",
       "  'description': 'lithium, silver and other rare minerals used in infrastructure and technology'},\n",
       " {'name': 'Water',\n",
       "  'objid': '7764285312681',\n",
       "  'label': 'resource',\n",
       "  'volume': 12000,\n",
       "  'description': 'H2O ready to be consumed, either frozen or in ice format'}]"
      ]
     },
     "execution_count": 16,
     "metadata": {},
     "output_type": "execute_result"
    }
   ],
   "source": [
    "[r.get_data() for r in p.resources]"
   ]
  },
  {
   "attachments": {},
   "cell_type": "markdown",
   "metadata": {},
   "source": [
    "Getting the edges"
   ]
  },
  {
   "cell_type": "code",
   "execution_count": 26,
   "metadata": {},
   "outputs": [
    {
     "data": {
      "text/plain": [
       "[{'node1': '0631944663443', 'node2': '4011664765525', 'label': 'hasResource'},\n",
       " {'node1': '0631944663443', 'node2': '7504128231636', 'label': 'hasResource'},\n",
       " {'node1': '0631944663443', 'node2': '8706897132299', 'label': 'hasResource'},\n",
       " {'node1': '0631944663443', 'node2': '6234833704792', 'label': 'hasResource'}]"
      ]
     },
     "execution_count": 26,
     "metadata": {},
     "output_type": "execute_result"
    }
   ],
   "source": [
    "homeworld_resources = [\n",
    "    {\"node1\": p.objid, \"node2\": r.objid, \"label\": \"hasResource\"} for r in p.resources\n",
    "]\n",
    "homeworld_resources"
   ]
  },
  {
   "cell_type": "code",
   "execution_count": null,
   "metadata": {},
   "outputs": [],
   "source": []
  }
 ],
 "metadata": {
  "kernelspec": {
   "display_name": "exoplanets",
   "language": "python",
   "name": "python3"
  },
  "language_info": {
   "codemirror_mode": {
    "name": "ipython",
    "version": 3
   },
   "file_extension": ".py",
   "mimetype": "text/x-python",
   "name": "python",
   "nbconvert_exporter": "python",
   "pygments_lexer": "ipython3",
   "version": "3.7.0"
  },
  "orig_nbformat": 4,
  "vscode": {
   "interpreter": {
    "hash": "625a17269cb94aebb094cbcf5e0e8340f26b69d46569da60e8fc69439048adbf"
   }
  }
 },
 "nbformat": 4,
 "nbformat_minor": 2
}
