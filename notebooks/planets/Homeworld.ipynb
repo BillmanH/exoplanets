{
 "cells": [
  {
   "attachments": {},
   "cell_type": "markdown",
   "metadata": {},
   "source": [
    "# The Process for creating a homeworld with people living on it. \n"
   ]
  },
  {
   "cell_type": "code",
   "execution_count": 24,
   "metadata": {},
   "outputs": [
    {
     "name": "stdout",
     "output_type": "stream",
     "text": [
      "The lab_black extension is already loaded. To reload it, use:\n",
      "  %reload_ext lab_black\n"
     ]
    }
   ],
   "source": [
    "import numpy as np\n",
    "import pandas as pd\n",
    "\n",
    "from sklearn.cluster import KMeans\n",
    "from sklearn.decomposition import PCA\n",
    "\n",
    "import sys, os\n",
    "import altair as alt\n",
    "\n",
    "# mapping to the modules that make the app\n",
    "sys.path.insert(0, \"../../app\")\n",
    "sys.path.insert(0, \"'notebooks/planets/planet.yaml'\")\n",
    "\n",
    "%load_ext lab_black"
   ]
  },
  {
   "cell_type": "code",
   "execution_count": 25,
   "metadata": {},
   "outputs": [
    {
     "data": {
      "text/plain": [
       "['Homeworld.ipynb', 'moon.yaml', 'planet.yaml', 'star.yaml']"
      ]
     },
     "execution_count": 25,
     "metadata": {},
     "output_type": "execute_result"
    }
   ],
   "source": [
    "os.listdir()"
   ]
  },
  {
   "attachments": {},
   "cell_type": "markdown",
   "metadata": {},
   "source": [
    "In the begining, there was the user creation form. The user sets the parameters for the univers in the `genesis` process. \n",
    "You can follow this process in:\n",
    "* `templates\\app\\creation\\genesis_view.html`\n",
    "* `templates\\app\\creation\\genesis.js`\n"
   ]
  },
  {
   "cell_type": "code",
   "execution_count": 26,
   "metadata": {},
   "outputs": [],
   "source": [
    "# An example `data` set:\n",
    "data = {\n",
    "    \"planet_name\": \"Earth\",\n",
    "    \"num_planets\": \"6\",\n",
    "    \"num_moons\": \"24\",\n",
    "    \"home_has_moons\": \"on\",\n",
    "    \"starting_pop\": \"7\",\n",
    "    \"conformity\": \"0.3\",\n",
    "    \"literacy\": \"0.7\",\n",
    "    \"aggression\": \"0.5\",\n",
    "    \"constitution\": \"0.5\",\n",
    "    \"name\": \"form\",\n",
    "    \"objid\": \"4864559553238\",\n",
    "    \"username\": \"Billmanh\",\n",
    "    \"objtype\": \"form\",\n",
    "    \"id\": \"4864559553238\",\n",
    "}"
   ]
  },
  {
   "attachments": {},
   "cell_type": "markdown",
   "metadata": {},
   "source": [
    "# Creating a world"
   ]
  },
  {
   "cell_type": "code",
   "execution_count": 27,
   "metadata": {},
   "outputs": [],
   "source": [
    "import creators.universe as universe\n",
    "import creators.maths as maths\n",
    "import creators.language as language"
   ]
  },
  {
   "cell_type": "code",
   "execution_count": 28,
   "metadata": {},
   "outputs": [
    {
     "data": {
      "text/plain": [
       "{'name': 'Ki',\n",
       " 'class': 'G',\n",
       " 'objid': '6693525525613',\n",
       " 'label': 'star',\n",
       " 'radius': 106}"
      ]
     },
     "execution_count": 28,
     "metadata": {},
     "output_type": "execute_result"
    }
   ],
   "source": [
    "systemid = maths.uuid(n=13)\n",
    "system = {\n",
    "    \"name\": language.make_word(maths.rnd(2, 1)),\n",
    "    \"label\": \"system\",\n",
    "    \"objid\": systemid,\n",
    "}\n",
    "star = universe.make_star()\n",
    "star"
   ]
  },
  {
   "cell_type": "code",
   "execution_count": 29,
   "metadata": {},
   "outputs": [
    {
     "data": {
      "text/plain": [
       "{'name': 'Earth',\n",
       " 'class': 'terrestrial',\n",
       " 'objid': '2653516595397',\n",
       " 'label': 'planet',\n",
       " 'radius': 0.8734831539120478,\n",
       " 'mass': 0.6828619037429853,\n",
       " 'orbitsDistance': 1,\n",
       " 'orbitsId': '6693525525613',\n",
       " 'orbitsName': 'Ki',\n",
       " 'isSupportsLife': True,\n",
       " 'isPopulated': True,\n",
       " 'type': 'terrestrial',\n",
       " 'isHomeworld': True}"
      ]
     },
     "execution_count": 29,
     "metadata": {},
     "output_type": "execute_result"
    }
   ],
   "source": [
    "homeworld = universe.make_homeworld(star, data)\n",
    "homeworld"
   ]
  },
  {
   "attachments": {},
   "cell_type": "markdown",
   "metadata": {},
   "source": [
    "## People living on that homeworld. \n",
    "\n",
    "The genesis process executes the `build_people(data)` function, which creates the homeworld. It is assumed that the solar system already exists. \n"
   ]
  },
  {
   "cell_type": "code",
   "execution_count": 30,
   "metadata": {},
   "outputs": [],
   "source": [
    "import creators.homeworld as homeworld"
   ]
  },
  {
   "cell_type": "code",
   "execution_count": 31,
   "metadata": {},
   "outputs": [
    {
     "data": {
      "text/plain": [
       "<species: no type; 9957623292609; Rynes>"
      ]
     },
     "execution_count": 31,
     "metadata": {},
     "output_type": "execute_result"
    }
   ],
   "source": [
    "species = homeworld.Species()\n",
    "species.build_attr(data)\n",
    "species"
   ]
  },
  {
   "cell_type": "code",
   "execution_count": 32,
   "metadata": {},
   "outputs": [
    {
     "data": {
      "text/plain": [
       "{'name': 'Rynes',\n",
       " 'objid': '9957623292609',\n",
       " 'label': 'species',\n",
       " 'consumes': 'organic',\n",
       " 'effuses': 'organic waste',\n",
       " 'viral_resilience': 0.7,\n",
       " 'habitat_resilience': 0.2}"
      ]
     },
     "execution_count": 32,
     "metadata": {},
     "output_type": "execute_result"
    }
   ],
   "source": [
    "species.get_data()"
   ]
  },
  {
   "cell_type": "code",
   "execution_count": 35,
   "metadata": {},
   "outputs": [
    {
     "data": {
      "text/plain": [
       "{'name': 'Earth',\n",
       " 'class': 'terrestrial',\n",
       " 'objid': '7102923776821',\n",
       " 'label': 'planet',\n",
       " 'radius': 0.5549558873251188,\n",
       " 'mass': 0.9505086372835009,\n",
       " 'orbitsDistance': 1,\n",
       " 'orbitsId': '6693525525613',\n",
       " 'orbitsName': 'Ki',\n",
       " 'isSupportsLife': True,\n",
       " 'isPopulated': True,\n",
       " 'type': 'terrestrial',\n",
       " 'isHomeworld': True}"
      ]
     },
     "execution_count": 35,
     "metadata": {},
     "output_type": "execute_result"
    }
   ],
   "source": [
    "homePlanet = universe.make_homeworld(star, data)\n",
    "homePlanet"
   ]
  },
  {
   "cell_type": "code",
   "execution_count": null,
   "metadata": {},
   "outputs": [],
   "source": []
  }
 ],
 "metadata": {
  "kernelspec": {
   "display_name": "exoplanets",
   "language": "python",
   "name": "python3"
  },
  "language_info": {
   "codemirror_mode": {
    "name": "ipython",
    "version": 3
   },
   "file_extension": ".py",
   "mimetype": "text/x-python",
   "name": "python",
   "nbconvert_exporter": "python",
   "pygments_lexer": "ipython3",
   "version": "3.7.0"
  },
  "orig_nbformat": 4,
  "vscode": {
   "interpreter": {
    "hash": "625a17269cb94aebb094cbcf5e0e8340f26b69d46569da60e8fc69439048adbf"
   }
  }
 },
 "nbformat": 4,
 "nbformat_minor": 2
}
