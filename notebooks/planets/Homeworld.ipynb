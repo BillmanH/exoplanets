{
 "cells": [
  {
   "attachments": {},
   "cell_type": "markdown",
   "metadata": {},
   "source": [
    "# The Process for creating a homeworld with people living on it. \n"
   ]
  },
  {
   "cell_type": "code",
   "execution_count": 1,
   "metadata": {},
   "outputs": [],
   "source": [
    "import numpy as np\n",
    "import pandas as pd\n",
    "\n",
    "from sklearn.cluster import KMeans\n",
    "from sklearn.decomposition import PCA\n",
    "\n",
    "import sys, os\n",
    "import altair as alt\n",
    "\n",
    "# mapping to the modules that make the app\n",
    "sys.path.insert(0, \"../../app\")\n",
    "sys.path.insert(0, \"'notebooks/planets/planet.yaml'\")\n",
    "\n",
    "%load_ext lab_black"
   ]
  },
  {
   "attachments": {},
   "cell_type": "markdown",
   "metadata": {},
   "source": [
    "In the begining, there was the user creation form. The user sets the parameters for the univers in the `genesis` process. \n",
    "You can follow this process in:\n",
    "* `templates\\app\\creation\\genesis_view.html`\n",
    "* `templates\\app\\creation\\genesis.js`\n"
   ]
  },
  {
   "cell_type": "code",
   "execution_count": 2,
   "metadata": {},
   "outputs": [],
   "source": [
    "# An example `data` set:\n",
    "data = {\n",
    "    \"planet_name\": \"Earth\",\n",
    "    \"num_planets\": \"6\",\n",
    "    \"num_moons\": \"24\",\n",
    "    \"home_has_moons\": \"on\",\n",
    "    \"starting_pop\": \"7\",\n",
    "    \"conformity\": \"0.3\",\n",
    "    \"literacy\": \"0.7\",\n",
    "    \"aggression\": \"0.5\",\n",
    "    \"constitution\": \"0.5\",\n",
    "    \"name\": \"form\",\n",
    "    \"objid\": \"4864559553238\",\n",
    "    \"username\": \"Billmanh\",\n",
    "    \"objtype\": \"form\",\n",
    "    \"id\": \"4864559553238\",\n",
    "}"
   ]
  },
  {
   "attachments": {},
   "cell_type": "markdown",
   "metadata": {},
   "source": [
    "# Creating a world"
   ]
  },
  {
   "cell_type": "code",
   "execution_count": 3,
   "metadata": {},
   "outputs": [],
   "source": [
    "import creators.universe as universe\n",
    "import creators.maths as maths\n",
    "import creators.language as language"
   ]
  },
  {
   "cell_type": "code",
   "execution_count": 4,
   "metadata": {},
   "outputs": [
    {
     "data": {
      "text/plain": [
       "({'name': 'Dong',\n",
       "  'class': 'G',\n",
       "  'objid': '0965108213312',\n",
       "  'label': 'star',\n",
       "  'radius': 106},\n",
       " {'name': 'Cal',\n",
       "  'label': 'system',\n",
       "  'isHomeSystem': 'true',\n",
       "  'objid': '0125941735903',\n",
       "  'glat': 17.426,\n",
       "  'glon': 12.275,\n",
       "  'gelat': 4.11})"
      ]
     },
     "execution_count": 4,
     "metadata": {},
     "output_type": "execute_result"
    }
   ],
   "source": [
    "systemid = maths.uuid(n=13)\n",
    "system = universe.make_system()\n",
    "star = universe.make_star()\n",
    "star, system"
   ]
  },
  {
   "cell_type": "code",
   "execution_count": 16,
   "metadata": {},
   "outputs": [
    {
     "data": {
      "text/plain": [
       "({'name': 'Earth',\n",
       "  'class': 'terrestrial',\n",
       "  'objid': '3814213982106',\n",
       "  'label': 'planet',\n",
       "  'radius': 0.616,\n",
       "  'mass': 0.742,\n",
       "  'orbitsDistance': 0.826,\n",
       "  'orbitsId': '0965108213312',\n",
       "  'orbitsName': 'Dong',\n",
       "  'isSupportsLife': True,\n",
       "  'isPopulated': True,\n",
       "  'type': 'terrestrial',\n",
       "  'isHomeworld': True},\n",
       " [{'name': 'Organic',\n",
       "   'objid': '5257632069979',\n",
       "   'label': 'resource',\n",
       "   'volume': 1037,\n",
       "   'description': 'bilogical material that can be consumed by pops',\n",
       "   'replenish_rate': 10},\n",
       "  {'name': 'Common Minerals',\n",
       "   'objid': '4276399401195',\n",
       "   'label': 'resource',\n",
       "   'volume': 90,\n",
       "   'description': 'Iron and other common material used in constructuion of infrastructure'},\n",
       "  {'name': 'Rare Minerals',\n",
       "   'objid': '0589450561457',\n",
       "   'label': 'resource',\n",
       "   'volume': 35,\n",
       "   'description': 'lithium, silver and other rare minerals used in infrastructure and technology'},\n",
       "  {'name': 'Water',\n",
       "   'objid': '1943684652228',\n",
       "   'label': 'resource',\n",
       "   'volume': 9226,\n",
       "   'description': 'H2O ready to be consumed, either frozen or in ice format'}],\n",
       " [{'node1': '3814213982106', 'node2': '5257632069979', 'label': 'hasResource'},\n",
       "  {'node1': '3814213982106', 'node2': '4276399401195', 'label': 'hasResource'},\n",
       "  {'node1': '3814213982106', 'node2': '0589450561457', 'label': 'hasResource'},\n",
       "  {'node1': '3814213982106',\n",
       "   'node2': '1943684652228',\n",
       "   'label': 'hasResource'}])"
      ]
     },
     "execution_count": 16,
     "metadata": {},
     "output_type": "execute_result"
    }
   ],
   "source": [
    "home_world = universe.make_homeworld(star, data)\n",
    "home_world"
   ]
  },
  {
   "cell_type": "code",
   "execution_count": 18,
   "metadata": {},
   "outputs": [
    {
     "data": {
      "text/plain": [
       "{'name': 'Earth',\n",
       " 'class': 'terrestrial',\n",
       " 'objid': '3814213982106',\n",
       " 'label': 'planet',\n",
       " 'radius': 0.616,\n",
       " 'mass': 0.742,\n",
       " 'orbitsDistance': 0.826,\n",
       " 'orbitsId': '0965108213312',\n",
       " 'orbitsName': 'Dong',\n",
       " 'isSupportsLife': True,\n",
       " 'isPopulated': True,\n",
       " 'type': 'terrestrial',\n",
       " 'isHomeworld': True}"
      ]
     },
     "execution_count": 18,
     "metadata": {},
     "output_type": "execute_result"
    }
   ],
   "source": [
    "home_world[0]"
   ]
  },
  {
   "attachments": {},
   "cell_type": "markdown",
   "metadata": {},
   "source": [
    "## People living on that homeworld. \n",
    "\n",
    "The genesis process executes the `build_people(data)` function, which creates the homeworld. It is assumed that the solar system already exists. \n"
   ]
  },
  {
   "cell_type": "code",
   "execution_count": 15,
   "metadata": {},
   "outputs": [],
   "source": [
    "import creators.homeworld as homeworld"
   ]
  },
  {
   "cell_type": "code",
   "execution_count": 9,
   "metadata": {},
   "outputs": [
    {
     "data": {
      "text/plain": [
       "<species: no type; 7990814337976; Garh>"
      ]
     },
     "execution_count": 9,
     "metadata": {},
     "output_type": "execute_result"
    }
   ],
   "source": [
    "species = homeworld.Species()\n",
    "species.build_attr(data)\n",
    "species"
   ]
  },
  {
   "attachments": {},
   "cell_type": "markdown",
   "metadata": {},
   "source": [
    "In general all objects have a `get_data()` method that will get a node-like dict of the relevant data."
   ]
  },
  {
   "cell_type": "code",
   "execution_count": 10,
   "metadata": {},
   "outputs": [
    {
     "data": {
      "text/plain": [
       "{'name': 'Garh',\n",
       " 'objid': '7990814337976',\n",
       " 'label': 'species',\n",
       " 'consumes': ['Organic'],\n",
       " 'effuses': ['Organic waste', 'Plastics'],\n",
       " 'viral_resilience': 0.7,\n",
       " 'habitat_resilience': 0.2}"
      ]
     },
     "execution_count": 10,
     "metadata": {},
     "output_type": "execute_result"
    }
   ],
   "source": [
    "species.get_data()"
   ]
  },
  {
   "cell_type": "code",
   "execution_count": 11,
   "metadata": {},
   "outputs": [
    {
     "data": {
      "text/plain": [
       "({'name': 'Earth',\n",
       "  'class': 'terrestrial',\n",
       "  'objid': '3674452247185',\n",
       "  'label': 'planet',\n",
       "  'radius': 0.741,\n",
       "  'mass': 0.357,\n",
       "  'orbitsDistance': 0.859,\n",
       "  'orbitsId': '0965108213312',\n",
       "  'orbitsName': 'Dong',\n",
       "  'isSupportsLife': True,\n",
       "  'isPopulated': True,\n",
       "  'type': 'terrestrial',\n",
       "  'isHomeworld': True},\n",
       " [{'name': 'Organic',\n",
       "   'objid': '9806391999480',\n",
       "   'label': 'resource',\n",
       "   'volume': 1019,\n",
       "   'description': 'bilogical material that can be consumed by pops',\n",
       "   'replenish_rate': 10},\n",
       "  {'name': 'Common Minerals',\n",
       "   'objid': '7092076129889',\n",
       "   'label': 'resource',\n",
       "   'volume': 103,\n",
       "   'description': 'Iron and other common material used in constructuion of infrastructure'},\n",
       "  {'name': 'Rare Minerals',\n",
       "   'objid': '2758909151861',\n",
       "   'label': 'resource',\n",
       "   'volume': 63,\n",
       "   'description': 'lithium, silver and other rare minerals used in infrastructure and technology'},\n",
       "  {'name': 'Water',\n",
       "   'objid': '4744073305997',\n",
       "   'label': 'resource',\n",
       "   'volume': 9332,\n",
       "   'description': 'H2O ready to be consumed, either frozen or in ice format'}],\n",
       " [{'node1': '3674452247185', 'node2': '9806391999480', 'label': 'hasResource'},\n",
       "  {'node1': '3674452247185', 'node2': '7092076129889', 'label': 'hasResource'},\n",
       "  {'node1': '3674452247185', 'node2': '2758909151861', 'label': 'hasResource'},\n",
       "  {'node1': '3674452247185',\n",
       "   'node2': '4744073305997',\n",
       "   'label': 'hasResource'}])"
      ]
     },
     "execution_count": 11,
     "metadata": {},
     "output_type": "execute_result"
    }
   ],
   "source": [
    "homePlanet = universe.make_homeworld(star, data)\n",
    "homePlanet"
   ]
  },
  {
   "attachments": {},
   "cell_type": "markdown",
   "metadata": {},
   "source": [
    "## Getting resources\n",
    "\n",
    "I hope this process will be the same when scanning other celestials bodies as well. That way the genesis process remains light by only scanning the homeworld. \n",
    "\n",
    "This means that many planet properties don't exist until you look at them.. "
   ]
  },
  {
   "cell_type": "code",
   "execution_count": 12,
   "metadata": {},
   "outputs": [
    {
     "data": {
      "text/plain": [
       "{'name': 'Tadtyetra',\n",
       " 'class': 'terrestrial',\n",
       " 'objid': '5331768159185',\n",
       " 'label': 'planet',\n",
       " 'radius': 1.055,\n",
       " 'mass': 1.072,\n",
       " 'orbitsDistance': 0.745,\n",
       " 'orbitsId': '0965108213312',\n",
       " 'orbitsName': 'Dong',\n",
       " 'isSupportsLife': False,\n",
       " 'isPopulated': False,\n",
       " 'type': 'terrestrial'}"
      ]
     },
     "execution_count": 12,
     "metadata": {},
     "output_type": "execute_result"
    }
   ],
   "source": [
    "p = universe.Planet()\n",
    "p.build_attr(\"terrestrial\", star)\n",
    "p.get_data()"
   ]
  },
  {
   "cell_type": "code",
   "execution_count": 30,
   "metadata": {},
   "outputs": [
    {
     "data": {
      "text/plain": [
       "{'name': 'Rare Minerals',\n",
       " 'objid': '6507386944589',\n",
       " 'label': 'resource',\n",
       " 'volume': 60,\n",
       " 'description': 'lithium, silver and other rare minerals used in infrastructure and technology'}"
      ]
     },
     "execution_count": 30,
     "metadata": {},
     "output_type": "execute_result"
    }
   ],
   "source": [
    "r = universe.Resource(universe.pdata[p.type][\"resources\"][\"minerals_rare\"])\n",
    "r.get_data()"
   ]
  },
  {
   "cell_type": "code",
   "execution_count": 31,
   "metadata": {},
   "outputs": [
    {
     "data": {
      "text/plain": [
       "[<resource: 4113839820956; Organic>,\n",
       " <resource: 4898608954577; Common Minerals>,\n",
       " <resource: 5665428179488; Rare Minerals>,\n",
       " <resource: 7445929040736; Water>]"
      ]
     },
     "execution_count": 31,
     "metadata": {},
     "output_type": "execute_result"
    }
   ],
   "source": [
    "p.scan_body()\n",
    "p.resources"
   ]
  },
  {
   "cell_type": "code",
   "execution_count": 32,
   "metadata": {},
   "outputs": [
    {
     "data": {
      "text/plain": [
       "[<resource: 4113839820956; Organic>,\n",
       " <resource: 4898608954577; Common Minerals>,\n",
       " <resource: 5665428179488; Rare Minerals>,\n",
       " <resource: 7445929040736; Water>]"
      ]
     },
     "execution_count": 32,
     "metadata": {},
     "output_type": "execute_result"
    }
   ],
   "source": [
    "p.resources"
   ]
  },
  {
   "attachments": {},
   "cell_type": "markdown",
   "metadata": {},
   "source": [
    "Getting the verticies"
   ]
  },
  {
   "cell_type": "code",
   "execution_count": 33,
   "metadata": {},
   "outputs": [
    {
     "data": {
      "text/plain": [
       "[{'name': 'Organic',\n",
       "  'objid': '4113839820956',\n",
       "  'label': 'resource',\n",
       "  'volume': 1118,\n",
       "  'description': 'bilogical material that can be consumed by pops'},\n",
       " {'name': 'Common Minerals',\n",
       "  'objid': '4898608954577',\n",
       "  'label': 'resource',\n",
       "  'volume': 93,\n",
       "  'description': 'Iron and other common material used in constructuion of infrastructure'},\n",
       " {'name': 'Rare Minerals',\n",
       "  'objid': '5665428179488',\n",
       "  'label': 'resource',\n",
       "  'volume': 38,\n",
       "  'description': 'lithium, silver and other rare minerals used in infrastructure and technology'},\n",
       " {'name': 'Water',\n",
       "  'objid': '7445929040736',\n",
       "  'label': 'resource',\n",
       "  'volume': 11249,\n",
       "  'description': 'H2O ready to be consumed, either frozen or in ice format'}]"
      ]
     },
     "execution_count": 33,
     "metadata": {},
     "output_type": "execute_result"
    }
   ],
   "source": [
    "[r.get_data() for r in p.resources]"
   ]
  },
  {
   "attachments": {},
   "cell_type": "markdown",
   "metadata": {},
   "source": [
    "Getting the edges"
   ]
  },
  {
   "cell_type": "code",
   "execution_count": 34,
   "metadata": {},
   "outputs": [
    {
     "data": {
      "text/plain": [
       "[{'node1': '7428586235103', 'node2': '4113839820956', 'label': 'hasResource'},\n",
       " {'node1': '7428586235103', 'node2': '4898608954577', 'label': 'hasResource'},\n",
       " {'node1': '7428586235103', 'node2': '5665428179488', 'label': 'hasResource'},\n",
       " {'node1': '7428586235103', 'node2': '7445929040736', 'label': 'hasResource'}]"
      ]
     },
     "execution_count": 34,
     "metadata": {},
     "output_type": "execute_result"
    }
   ],
   "source": [
    "homeworld_resources = [\n",
    "    {\"node1\": p.objid, \"node2\": r.objid, \"label\": \"hasResource\"} for r in p.resources\n",
    "]\n",
    "homeworld_resources"
   ]
  },
  {
   "cell_type": "code",
   "execution_count": null,
   "metadata": {},
   "outputs": [],
   "source": []
  }
 ],
 "metadata": {
  "kernelspec": {
   "display_name": "exoplanets",
   "language": "python",
   "name": "python3"
  },
  "language_info": {
   "codemirror_mode": {
    "name": "ipython",
    "version": 3
   },
   "file_extension": ".py",
   "mimetype": "text/x-python",
   "name": "python",
   "nbconvert_exporter": "python",
   "pygments_lexer": "ipython3",
   "version": "3.7.0"
  },
  "orig_nbformat": 4,
  "vscode": {
   "interpreter": {
    "hash": "625a17269cb94aebb094cbcf5e0e8340f26b69d46569da60e8fc69439048adbf"
   }
  }
 },
 "nbformat": 4,
 "nbformat_minor": 2
}
